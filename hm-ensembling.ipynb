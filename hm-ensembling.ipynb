{
 "cells": [
  {
   "cell_type": "code",
   "execution_count": 1,
   "id": "fb3c6772",
   "metadata": {
    "_cell_guid": "b1076dfc-b9ad-4769-8c92-a6c4dae69d19",
    "_uuid": "8f2839f25d086af736a60e9eeb907d3b93b6e0e5",
    "execution": {
     "iopub.execute_input": "2022-05-01T09:36:19.455576Z",
     "iopub.status.busy": "2022-05-01T09:36:19.453743Z",
     "iopub.status.idle": "2022-05-01T09:36:19.464912Z",
     "shell.execute_reply": "2022-05-01T09:36:19.465521Z",
     "shell.execute_reply.started": "2022-05-01T09:30:37.419888Z"
    },
    "papermill": {
     "duration": 0.031414,
     "end_time": "2022-05-01T09:36:19.465868",
     "exception": false,
     "start_time": "2022-05-01T09:36:19.434454",
     "status": "completed"
    },
    "tags": []
   },
   "outputs": [],
   "source": [
    "import os\n",
    "import numpy as np\n",
    "import pandas as pd\n",
    "import gc"
   ]
  },
  {
   "cell_type": "markdown",
   "id": "d7941759",
   "metadata": {
    "papermill": {
     "duration": 0.012947,
     "end_time": "2022-05-01T09:36:19.492044",
     "exception": false,
     "start_time": "2022-05-01T09:36:19.479097",
     "status": "completed"
    },
    "tags": []
   },
   "source": [
    "# To ensemble I used submissions from 8 public notebooks:\n",
    "* LB: 0.0225 - https://www.kaggle.com/lunapandachan/h-m-trending-products-weekly-add-test/notebook\n",
    "* LB: 0.0217 - https://www.kaggle.com/tarique7/hnm-exponential-decay-with-alternate-items/notebook\n",
    "* LB: 0.0221 - https://www.kaggle.com/astrung/lstm-sequential-modelwith-item-features-tutorial\n",
    "* LB: 0.0224 - https://www.kaggle.com/code/hirotakanogami/h-m-eda-customer-clustering-by-kmeans\n",
    "* LB: 0.0220 - https://www.kaggle.com/code/hengzheng/time-is-our-best-friend-v2/notebook\n",
    "* LB: 0.0227 - https://www.kaggle.com/code/hechtjp/h-m-eda-rule-base-by-customer-age\n",
    "* LB: 0.0231 - https://www.kaggle.com/code/ebn7amdi/trending/notebook?scriptVersionId=90980162\n",
    "* LB: 0.0225 - https://www.kaggle.com/code/mayukh18/svd-model-reranking-implicit-to-explicit-feedback"
   ]
  },
  {
   "cell_type": "code",
   "execution_count": 2,
   "id": "9fd0bd30",
   "metadata": {
    "execution": {
     "iopub.execute_input": "2022-05-01T09:36:19.530803Z",
     "iopub.status.busy": "2022-05-01T09:36:19.523594Z",
     "iopub.status.idle": "2022-05-01T09:37:39.169736Z",
     "shell.execute_reply": "2022-05-01T09:37:39.168908Z",
     "shell.execute_reply.started": "2022-05-01T09:30:37.446459Z"
    },
    "papermill": {
     "duration": 79.665064,
     "end_time": "2022-05-01T09:37:39.169907",
     "exception": false,
     "start_time": "2022-05-01T09:36:19.504843",
     "status": "completed"
    },
    "tags": []
   },
   "outputs": [],
   "source": [
    "sub0 = pd.read_csv('../input/hm-00231-solution/submission.csv').sort_values('customer_id').reset_index(drop=True)                                             # 0.0231\n",
    "sub1 = pd.read_csv('../input/handmbestperforming/h-m-trending-products-weekly-add-test.csv').sort_values('customer_id').reset_index(drop=True)                # 0.0225\n",
    "sub2 = pd.read_csv('../input/handmbestperforming/hnm-exponential-decay-with-alternate-items.csv').sort_values('customer_id').reset_index(drop=True)           # 0.0217\n",
    "sub3 = pd.read_csv('../input/handmbestperforming/lstm-sequential-modelwith-item-features-tutorial.csv').sort_values('customer_id').reset_index(drop=True)     # 0.0221\n",
    "sub4 = pd.read_csv('../input/hm-00224-solution/submission.csv').sort_values('customer_id').reset_index(drop=True)                                             # 0.0224\n",
    "sub5 = pd.read_csv('../input/handmbestperforming/time-is-our-best-friend-v2.csv').sort_values('customer_id').reset_index(drop=True)                           # 0.0220\n",
    "sub6 = pd.read_csv('../input/handmbestperforming/rule-based-by-customer-age.csv').sort_values('customer_id').reset_index(drop=True)                           # 0.0227\n",
    "sub7 = pd.read_csv('../input/h-m-faster-trending-products-weekly/submission.csv').sort_values('customer_id').reset_index(drop=True)                           # 0.0231\n",
    "sub8 = pd.read_csv('../input/h-m-framework-for-partitioned-validation/submission.csv').sort_values('customer_id').reset_index(drop=True)                      # 0.0225"
   ]
  },
  {
   "cell_type": "code",
   "execution_count": 3,
   "id": "ed2fed99",
   "metadata": {
    "execution": {
     "iopub.execute_input": "2022-05-01T09:37:39.205994Z",
     "iopub.status.busy": "2022-05-01T09:37:39.205259Z",
     "iopub.status.idle": "2022-05-01T09:37:40.116008Z",
     "shell.execute_reply": "2022-05-01T09:37:40.116569Z",
     "shell.execute_reply.started": "2022-05-01T09:31:51.323988Z"
    },
    "papermill": {
     "duration": 0.93352,
     "end_time": "2022-05-01T09:37:40.116775",
     "exception": false,
     "start_time": "2022-05-01T09:37:39.183255",
     "status": "completed"
    },
    "tags": []
   },
   "outputs": [
    {
     "data": {
      "text/html": [
       "<div>\n",
       "<style scoped>\n",
       "    .dataframe tbody tr th:only-of-type {\n",
       "        vertical-align: middle;\n",
       "    }\n",
       "\n",
       "    .dataframe tbody tr th {\n",
       "        vertical-align: top;\n",
       "    }\n",
       "\n",
       "    .dataframe thead th {\n",
       "        text-align: right;\n",
       "    }\n",
       "</style>\n",
       "<table border=\"1\" class=\"dataframe\">\n",
       "  <thead>\n",
       "    <tr style=\"text-align: right;\">\n",
       "      <th></th>\n",
       "      <th>customer_id</th>\n",
       "      <th>prediction0</th>\n",
       "      <th>prediction1</th>\n",
       "      <th>prediction2</th>\n",
       "      <th>prediction3</th>\n",
       "      <th>prediction4</th>\n",
       "      <th>prediction5</th>\n",
       "      <th>prediction6</th>\n",
       "      <th>prediction7</th>\n",
       "    </tr>\n",
       "  </thead>\n",
       "  <tbody>\n",
       "    <tr>\n",
       "      <th>0</th>\n",
       "      <td>00000dbacae5abe5e23885899a1fa44253a17956c6d1c3...</td>\n",
       "      <td>0568601043 0568601006 0568601006 0568597006 04...</td>\n",
       "      <td>0568601043 0568601006 0656719005 0745232001 07...</td>\n",
       "      <td>0568601043 0924243001 0924243002 0918522001 07...</td>\n",
       "      <td>0568601043 0568601006 0656719005 0745232001 09...</td>\n",
       "      <td>0568601043 0568601006 0745232001 0751471001 04...</td>\n",
       "      <td>0568601043 0751471001 0909370001 0915526001 09...</td>\n",
       "      <td>0568601043 0568601006 0745232001 0751471001 04...</td>\n",
       "      <td>0568601043 0568601006 0448509014 0573085028 07...</td>\n",
       "    </tr>\n",
       "    <tr>\n",
       "      <th>1</th>\n",
       "      <td>0000423b00ade91418cceaf3b26c6af3dd342b51fd051e...</td>\n",
       "      <td>0826211002 0800436010 0739590027 0706016001 06...</td>\n",
       "      <td>0826211002 0800436010 0739590027 0723529001 08...</td>\n",
       "      <td>0924243001 0924243002 0918522001 0751471001 04...</td>\n",
       "      <td>0826211002 0800436010 0924243001 0739590027 07...</td>\n",
       "      <td>0826211002 0739590027 0811835004 0764280001 07...</td>\n",
       "      <td>0924243001 0924243002 0923758001 0918522001 09...</td>\n",
       "      <td>0826211002 0739590027 0811835004 0764280001 07...</td>\n",
       "      <td>0826211002 0800436010 0739590027 0448509014 05...</td>\n",
       "    </tr>\n",
       "    <tr>\n",
       "      <th>2</th>\n",
       "      <td>000058a12d5b43e67d225668fa1f8d618c13dc232df0ca...</td>\n",
       "      <td>0794321007 0852643001 0852643003 0858883002 07...</td>\n",
       "      <td>0794321007 0852643001 0852643003 0858883002 07...</td>\n",
       "      <td>0794321007 0924243001 0924243002 0918522001 07...</td>\n",
       "      <td>0794321007 0852643001 0852643003 0858883002 09...</td>\n",
       "      <td>0794321007 0852643001 0852643003 0727808007 08...</td>\n",
       "      <td>0794321007 0924243001 0924243002 0923758001 09...</td>\n",
       "      <td>0794321007 0858883002 0852643003 0727808007 08...</td>\n",
       "      <td>0794321007 0852643001 0852643003 0858883002 07...</td>\n",
       "    </tr>\n",
       "    <tr>\n",
       "      <th>3</th>\n",
       "      <td>00005ca1c9ed5f5146b52ac8639a40ca9d57aeff4d1bd2...</td>\n",
       "      <td>0448509014 0573085028 0751471001 0706016001 06...</td>\n",
       "      <td>0448509014 0573085028 0751471001 0706016001 06...</td>\n",
       "      <td>0924243001 0924243002 0918522001 0751471001 04...</td>\n",
       "      <td>0448509014 0573085028 0924243001 0751471001 07...</td>\n",
       "      <td>0751471001 0678942001 0673677002 0579541001 05...</td>\n",
       "      <td>0924243001 0924243002 0923758001 0918522001 09...</td>\n",
       "      <td>0751471001 0579541001 0573085028 0673677002 06...</td>\n",
       "      <td>0448509014 0573085028 0751471001 0706016001 06...</td>\n",
       "    </tr>\n",
       "    <tr>\n",
       "      <th>4</th>\n",
       "      <td>00006413d8573cd20ed7128e53b7b13819fe5cfc2d801f...</td>\n",
       "      <td>0730683050 0791587015 0896152002 0818320001 09...</td>\n",
       "      <td>0730683050 0791587015 0896152002 0818320001 09...</td>\n",
       "      <td>0924243001 0924243002 0918522001 0751471001 04...</td>\n",
       "      <td>0730683050 0791587015 0924243001 0896152002 08...</td>\n",
       "      <td>0730683050 0791587015 0896152002 0927530004 05...</td>\n",
       "      <td>0924243001 0924243002 0923758001 0918522001 09...</td>\n",
       "      <td>0730683050 0791587015 0896152002 0927530004 08...</td>\n",
       "      <td>0730683050 0791587015 0896152002 0818320001 09...</td>\n",
       "    </tr>\n",
       "  </tbody>\n",
       "</table>\n",
       "</div>"
      ],
      "text/plain": [
       "                                         customer_id  \\\n",
       "0  00000dbacae5abe5e23885899a1fa44253a17956c6d1c3...   \n",
       "1  0000423b00ade91418cceaf3b26c6af3dd342b51fd051e...   \n",
       "2  000058a12d5b43e67d225668fa1f8d618c13dc232df0ca...   \n",
       "3  00005ca1c9ed5f5146b52ac8639a40ca9d57aeff4d1bd2...   \n",
       "4  00006413d8573cd20ed7128e53b7b13819fe5cfc2d801f...   \n",
       "\n",
       "                                         prediction0  \\\n",
       "0  0568601043 0568601006 0568601006 0568597006 04...   \n",
       "1  0826211002 0800436010 0739590027 0706016001 06...   \n",
       "2  0794321007 0852643001 0852643003 0858883002 07...   \n",
       "3  0448509014 0573085028 0751471001 0706016001 06...   \n",
       "4  0730683050 0791587015 0896152002 0818320001 09...   \n",
       "\n",
       "                                         prediction1  \\\n",
       "0  0568601043 0568601006 0656719005 0745232001 07...   \n",
       "1  0826211002 0800436010 0739590027 0723529001 08...   \n",
       "2  0794321007 0852643001 0852643003 0858883002 07...   \n",
       "3  0448509014 0573085028 0751471001 0706016001 06...   \n",
       "4  0730683050 0791587015 0896152002 0818320001 09...   \n",
       "\n",
       "                                         prediction2  \\\n",
       "0  0568601043 0924243001 0924243002 0918522001 07...   \n",
       "1  0924243001 0924243002 0918522001 0751471001 04...   \n",
       "2  0794321007 0924243001 0924243002 0918522001 07...   \n",
       "3  0924243001 0924243002 0918522001 0751471001 04...   \n",
       "4  0924243001 0924243002 0918522001 0751471001 04...   \n",
       "\n",
       "                                         prediction3  \\\n",
       "0  0568601043 0568601006 0656719005 0745232001 09...   \n",
       "1  0826211002 0800436010 0924243001 0739590027 07...   \n",
       "2  0794321007 0852643001 0852643003 0858883002 09...   \n",
       "3  0448509014 0573085028 0924243001 0751471001 07...   \n",
       "4  0730683050 0791587015 0924243001 0896152002 08...   \n",
       "\n",
       "                                         prediction4  \\\n",
       "0  0568601043 0568601006 0745232001 0751471001 04...   \n",
       "1  0826211002 0739590027 0811835004 0764280001 07...   \n",
       "2  0794321007 0852643001 0852643003 0727808007 08...   \n",
       "3  0751471001 0678942001 0673677002 0579541001 05...   \n",
       "4  0730683050 0791587015 0896152002 0927530004 05...   \n",
       "\n",
       "                                         prediction5  \\\n",
       "0  0568601043 0751471001 0909370001 0915526001 09...   \n",
       "1  0924243001 0924243002 0923758001 0918522001 09...   \n",
       "2  0794321007 0924243001 0924243002 0923758001 09...   \n",
       "3  0924243001 0924243002 0923758001 0918522001 09...   \n",
       "4  0924243001 0924243002 0923758001 0918522001 09...   \n",
       "\n",
       "                                         prediction6  \\\n",
       "0  0568601043 0568601006 0745232001 0751471001 04...   \n",
       "1  0826211002 0739590027 0811835004 0764280001 07...   \n",
       "2  0794321007 0858883002 0852643003 0727808007 08...   \n",
       "3  0751471001 0579541001 0573085028 0673677002 06...   \n",
       "4  0730683050 0791587015 0896152002 0927530004 08...   \n",
       "\n",
       "                                         prediction7  \n",
       "0  0568601043 0568601006 0448509014 0573085028 07...  \n",
       "1  0826211002 0800436010 0739590027 0448509014 05...  \n",
       "2  0794321007 0852643001 0852643003 0858883002 07...  \n",
       "3  0448509014 0573085028 0751471001 0706016001 06...  \n",
       "4  0730683050 0791587015 0896152002 0818320001 09...  "
      ]
     },
     "execution_count": 3,
     "metadata": {},
     "output_type": "execute_result"
    }
   ],
   "source": [
    "sub0.columns = ['customer_id', 'prediction0']\n",
    "sub0['prediction1'] = sub1['prediction']\n",
    "sub0['prediction2'] = sub2['prediction']\n",
    "sub0['prediction3'] = sub3['prediction']\n",
    "sub0['prediction4'] = sub4['prediction']\n",
    "sub0['prediction5'] = sub5['prediction']\n",
    "sub0['prediction6'] = sub6['prediction']\n",
    "sub0['prediction7'] = sub7['prediction'].astype(str)\n",
    "\n",
    "del sub1, sub2, sub3, sub4, sub5, sub6, sub7\n",
    "gc.collect()\n",
    "sub0.head()"
   ]
  },
  {
   "cell_type": "code",
   "execution_count": 4,
   "id": "f163de8b",
   "metadata": {
    "execution": {
     "iopub.execute_input": "2022-05-01T09:37:40.148762Z",
     "iopub.status.busy": "2022-05-01T09:37:40.147954Z",
     "iopub.status.idle": "2022-05-01T09:40:06.984789Z",
     "shell.execute_reply": "2022-05-01T09:40:06.985345Z",
     "shell.execute_reply.started": "2022-05-01T09:31:52.173815Z"
    },
    "papermill": {
     "duration": 146.854601,
     "end_time": "2022-05-01T09:40:06.985564",
     "exception": false,
     "start_time": "2022-05-01T09:37:40.130963",
     "status": "completed"
    },
    "tags": []
   },
   "outputs": [
    {
     "data": {
      "text/html": [
       "<div>\n",
       "<style scoped>\n",
       "    .dataframe tbody tr th:only-of-type {\n",
       "        vertical-align: middle;\n",
       "    }\n",
       "\n",
       "    .dataframe tbody tr th {\n",
       "        vertical-align: top;\n",
       "    }\n",
       "\n",
       "    .dataframe thead th {\n",
       "        text-align: right;\n",
       "    }\n",
       "</style>\n",
       "<table border=\"1\" class=\"dataframe\">\n",
       "  <thead>\n",
       "    <tr style=\"text-align: right;\">\n",
       "      <th></th>\n",
       "      <th>customer_id</th>\n",
       "      <th>prediction0</th>\n",
       "      <th>prediction1</th>\n",
       "      <th>prediction2</th>\n",
       "      <th>prediction3</th>\n",
       "      <th>prediction4</th>\n",
       "      <th>prediction5</th>\n",
       "      <th>prediction6</th>\n",
       "      <th>prediction7</th>\n",
       "      <th>prediction</th>\n",
       "    </tr>\n",
       "  </thead>\n",
       "  <tbody>\n",
       "    <tr>\n",
       "      <th>0</th>\n",
       "      <td>00000dbacae5abe5e23885899a1fa44253a17956c6d1c3...</td>\n",
       "      <td>0568601043 0568601006 0568601006 0568597006 04...</td>\n",
       "      <td>0568601043 0568601006 0656719005 0745232001 07...</td>\n",
       "      <td>0568601043 0924243001 0924243002 0918522001 07...</td>\n",
       "      <td>0568601043 0568601006 0656719005 0745232001 09...</td>\n",
       "      <td>0568601043 0568601006 0745232001 0751471001 04...</td>\n",
       "      <td>0568601043 0751471001 0909370001 0915526001 09...</td>\n",
       "      <td>0568601043 0568601006 0745232001 0751471001 04...</td>\n",
       "      <td>0568601043 0568601006 0448509014 0573085028 07...</td>\n",
       "      <td>0568601043 0568601006 0751471001 0448509014 07...</td>\n",
       "    </tr>\n",
       "    <tr>\n",
       "      <th>1</th>\n",
       "      <td>0000423b00ade91418cceaf3b26c6af3dd342b51fd051e...</td>\n",
       "      <td>0826211002 0800436010 0739590027 0706016001 06...</td>\n",
       "      <td>0826211002 0800436010 0739590027 0723529001 08...</td>\n",
       "      <td>0924243001 0924243002 0918522001 0751471001 04...</td>\n",
       "      <td>0826211002 0800436010 0924243001 0739590027 07...</td>\n",
       "      <td>0826211002 0739590027 0811835004 0764280001 07...</td>\n",
       "      <td>0924243001 0924243002 0923758001 0918522001 09...</td>\n",
       "      <td>0826211002 0739590027 0811835004 0764280001 07...</td>\n",
       "      <td>0826211002 0800436010 0739590027 0448509014 05...</td>\n",
       "      <td>0826211002 0924243001 0739590027 0800436010 09...</td>\n",
       "    </tr>\n",
       "    <tr>\n",
       "      <th>2</th>\n",
       "      <td>000058a12d5b43e67d225668fa1f8d618c13dc232df0ca...</td>\n",
       "      <td>0794321007 0852643001 0852643003 0858883002 07...</td>\n",
       "      <td>0794321007 0852643001 0852643003 0858883002 07...</td>\n",
       "      <td>0794321007 0924243001 0924243002 0918522001 07...</td>\n",
       "      <td>0794321007 0852643001 0852643003 0858883002 09...</td>\n",
       "      <td>0794321007 0852643001 0852643003 0727808007 08...</td>\n",
       "      <td>0794321007 0924243001 0924243002 0923758001 09...</td>\n",
       "      <td>0794321007 0858883002 0852643003 0727808007 08...</td>\n",
       "      <td>0794321007 0852643001 0852643003 0858883002 07...</td>\n",
       "      <td>0794321007 0852643001 0852643003 0858883002 09...</td>\n",
       "    </tr>\n",
       "    <tr>\n",
       "      <th>3</th>\n",
       "      <td>00005ca1c9ed5f5146b52ac8639a40ca9d57aeff4d1bd2...</td>\n",
       "      <td>0448509014 0573085028 0751471001 0706016001 06...</td>\n",
       "      <td>0448509014 0573085028 0751471001 0706016001 06...</td>\n",
       "      <td>0924243001 0924243002 0918522001 0751471001 04...</td>\n",
       "      <td>0448509014 0573085028 0924243001 0751471001 07...</td>\n",
       "      <td>0751471001 0678942001 0673677002 0579541001 05...</td>\n",
       "      <td>0924243001 0924243002 0923758001 0918522001 09...</td>\n",
       "      <td>0751471001 0579541001 0573085028 0673677002 06...</td>\n",
       "      <td>0448509014 0573085028 0751471001 0706016001 06...</td>\n",
       "      <td>0448509014 0751471001 0573085028 0924243001 06...</td>\n",
       "    </tr>\n",
       "    <tr>\n",
       "      <th>4</th>\n",
       "      <td>00006413d8573cd20ed7128e53b7b13819fe5cfc2d801f...</td>\n",
       "      <td>0730683050 0791587015 0896152002 0818320001 09...</td>\n",
       "      <td>0730683050 0791587015 0896152002 0818320001 09...</td>\n",
       "      <td>0924243001 0924243002 0918522001 0751471001 04...</td>\n",
       "      <td>0730683050 0791587015 0924243001 0896152002 08...</td>\n",
       "      <td>0730683050 0791587015 0896152002 0927530004 05...</td>\n",
       "      <td>0924243001 0924243002 0923758001 0918522001 09...</td>\n",
       "      <td>0730683050 0791587015 0896152002 0927530004 08...</td>\n",
       "      <td>0730683050 0791587015 0896152002 0818320001 09...</td>\n",
       "      <td>0730683050 0791587015 0924243001 0896152002 09...</td>\n",
       "    </tr>\n",
       "  </tbody>\n",
       "</table>\n",
       "</div>"
      ],
      "text/plain": [
       "                                         customer_id  \\\n",
       "0  00000dbacae5abe5e23885899a1fa44253a17956c6d1c3...   \n",
       "1  0000423b00ade91418cceaf3b26c6af3dd342b51fd051e...   \n",
       "2  000058a12d5b43e67d225668fa1f8d618c13dc232df0ca...   \n",
       "3  00005ca1c9ed5f5146b52ac8639a40ca9d57aeff4d1bd2...   \n",
       "4  00006413d8573cd20ed7128e53b7b13819fe5cfc2d801f...   \n",
       "\n",
       "                                         prediction0  \\\n",
       "0  0568601043 0568601006 0568601006 0568597006 04...   \n",
       "1  0826211002 0800436010 0739590027 0706016001 06...   \n",
       "2  0794321007 0852643001 0852643003 0858883002 07...   \n",
       "3  0448509014 0573085028 0751471001 0706016001 06...   \n",
       "4  0730683050 0791587015 0896152002 0818320001 09...   \n",
       "\n",
       "                                         prediction1  \\\n",
       "0  0568601043 0568601006 0656719005 0745232001 07...   \n",
       "1  0826211002 0800436010 0739590027 0723529001 08...   \n",
       "2  0794321007 0852643001 0852643003 0858883002 07...   \n",
       "3  0448509014 0573085028 0751471001 0706016001 06...   \n",
       "4  0730683050 0791587015 0896152002 0818320001 09...   \n",
       "\n",
       "                                         prediction2  \\\n",
       "0  0568601043 0924243001 0924243002 0918522001 07...   \n",
       "1  0924243001 0924243002 0918522001 0751471001 04...   \n",
       "2  0794321007 0924243001 0924243002 0918522001 07...   \n",
       "3  0924243001 0924243002 0918522001 0751471001 04...   \n",
       "4  0924243001 0924243002 0918522001 0751471001 04...   \n",
       "\n",
       "                                         prediction3  \\\n",
       "0  0568601043 0568601006 0656719005 0745232001 09...   \n",
       "1  0826211002 0800436010 0924243001 0739590027 07...   \n",
       "2  0794321007 0852643001 0852643003 0858883002 09...   \n",
       "3  0448509014 0573085028 0924243001 0751471001 07...   \n",
       "4  0730683050 0791587015 0924243001 0896152002 08...   \n",
       "\n",
       "                                         prediction4  \\\n",
       "0  0568601043 0568601006 0745232001 0751471001 04...   \n",
       "1  0826211002 0739590027 0811835004 0764280001 07...   \n",
       "2  0794321007 0852643001 0852643003 0727808007 08...   \n",
       "3  0751471001 0678942001 0673677002 0579541001 05...   \n",
       "4  0730683050 0791587015 0896152002 0927530004 05...   \n",
       "\n",
       "                                         prediction5  \\\n",
       "0  0568601043 0751471001 0909370001 0915526001 09...   \n",
       "1  0924243001 0924243002 0923758001 0918522001 09...   \n",
       "2  0794321007 0924243001 0924243002 0923758001 09...   \n",
       "3  0924243001 0924243002 0923758001 0918522001 09...   \n",
       "4  0924243001 0924243002 0923758001 0918522001 09...   \n",
       "\n",
       "                                         prediction6  \\\n",
       "0  0568601043 0568601006 0745232001 0751471001 04...   \n",
       "1  0826211002 0739590027 0811835004 0764280001 07...   \n",
       "2  0794321007 0858883002 0852643003 0727808007 08...   \n",
       "3  0751471001 0579541001 0573085028 0673677002 06...   \n",
       "4  0730683050 0791587015 0896152002 0927530004 08...   \n",
       "\n",
       "                                         prediction7  \\\n",
       "0  0568601043 0568601006 0448509014 0573085028 07...   \n",
       "1  0826211002 0800436010 0739590027 0448509014 05...   \n",
       "2  0794321007 0852643001 0852643003 0858883002 07...   \n",
       "3  0448509014 0573085028 0751471001 0706016001 06...   \n",
       "4  0730683050 0791587015 0896152002 0818320001 09...   \n",
       "\n",
       "                                          prediction  \n",
       "0  0568601043 0568601006 0751471001 0448509014 07...  \n",
       "1  0826211002 0924243001 0739590027 0800436010 09...  \n",
       "2  0794321007 0852643001 0852643003 0858883002 09...  \n",
       "3  0448509014 0751471001 0573085028 0924243001 06...  \n",
       "4  0730683050 0791587015 0924243001 0896152002 09...  "
      ]
     },
     "execution_count": 4,
     "metadata": {},
     "output_type": "execute_result"
    }
   ],
   "source": [
    "def cust_blend(dt, W = [1,1,1,1,1,1,1,1]):\n",
    "    #Create a list of all model predictions\n",
    "    REC = []\n",
    "\n",
    "    # Second Try\n",
    "    REC.append(dt['prediction0'].split())\n",
    "    REC.append(dt['prediction1'].split())\n",
    "    REC.append(dt['prediction2'].split())\n",
    "    REC.append(dt['prediction3'].split())\n",
    "    REC.append(dt['prediction4'].split())\n",
    "    REC.append(dt['prediction5'].split())\n",
    "    REC.append(dt['prediction6'].split())\n",
    "    REC.append(dt['prediction7'].split())\n",
    "\n",
    "    #Create a dictionary of items recommended.\n",
    "    #Assign a weight according the order of appearance and multiply by global weights\n",
    "    res = {}\n",
    "    for M in range(len(REC)):\n",
    "        for n, v in enumerate(REC[M]):\n",
    "            if v in res:\n",
    "                res[v] += (W[M]/(n+1))\n",
    "            else:\n",
    "                res[v] = (W[M]/(n+1))\n",
    "\n",
    "    # Sort dictionary by item weights\n",
    "    res = list(dict(sorted(res.items(), key=lambda item: -item[1])).keys())\n",
    "\n",
    "    # Return the top 12 items only\n",
    "    return ' '.join(res[:12])\n",
    "\n",
    "sub0['prediction'] = sub0.apply(cust_blend, W = [1.05, 0.78, 0.86, 0.85, 0.68, 0.64, 0.70, 0.24], axis=1)\n",
    "\n",
    "sub0.head()"
   ]
  },
  {
   "cell_type": "markdown",
   "id": "e4bee754",
   "metadata": {
    "papermill": {
     "duration": 0.014583,
     "end_time": "2022-05-01T09:40:07.014534",
     "exception": false,
     "start_time": "2022-05-01T09:40:06.999951",
     "status": "completed"
    },
    "tags": []
   },
   "source": [
    "# Make a submission"
   ]
  },
  {
   "cell_type": "code",
   "execution_count": 5,
   "id": "8942cc8b",
   "metadata": {
    "execution": {
     "iopub.execute_input": "2022-05-01T09:40:07.048522Z",
     "iopub.status.busy": "2022-05-01T09:40:07.047458Z",
     "iopub.status.idle": "2022-05-01T09:40:07.186928Z",
     "shell.execute_reply": "2022-05-01T09:40:07.186332Z",
     "shell.execute_reply.started": "2022-05-01T09:34:18.609832Z"
    },
    "papermill": {
     "duration": 0.157376,
     "end_time": "2022-05-01T09:40:07.187104",
     "exception": false,
     "start_time": "2022-05-01T09:40:07.029728",
     "status": "completed"
    },
    "tags": []
   },
   "outputs": [
    {
     "data": {
      "text/plain": [
       "21"
      ]
     },
     "execution_count": 5,
     "metadata": {},
     "output_type": "execute_result"
    }
   ],
   "source": [
    "del sub0['prediction0']\n",
    "del sub0['prediction1']\n",
    "del sub0['prediction2']\n",
    "del sub0['prediction3']\n",
    "del sub0['prediction4']\n",
    "del sub0['prediction5']\n",
    "del sub0['prediction6']\n",
    "del sub0['prediction7']\n",
    "gc.collect()"
   ]
  },
  {
   "cell_type": "code",
   "execution_count": 6,
   "id": "bbd37946",
   "metadata": {
    "execution": {
     "iopub.execute_input": "2022-05-01T09:40:07.226008Z",
     "iopub.status.busy": "2022-05-01T09:40:07.224661Z",
     "iopub.status.idle": "2022-05-01T09:40:13.229223Z",
     "shell.execute_reply": "2022-05-01T09:40:13.229760Z",
     "shell.execute_reply.started": "2022-05-01T09:34:18.724645Z"
    },
    "papermill": {
     "duration": 6.027348,
     "end_time": "2022-05-01T09:40:13.229945",
     "exception": false,
     "start_time": "2022-05-01T09:40:07.202597",
     "status": "completed"
    },
    "tags": []
   },
   "outputs": [
    {
     "data": {
      "text/plain": [
       "21"
      ]
     },
     "execution_count": 6,
     "metadata": {},
     "output_type": "execute_result"
    }
   ],
   "source": [
    "sub1 = pd.read_csv('../input/h-m-framework-for-partitioned-validation/submission.csv').sort_values('customer_id').reset_index(drop=True)\n",
    "sub1['prediction'] = sub1['prediction'].astype(str)\n",
    "\n",
    "sub0.columns = ['customer_id', 'prediction0']\n",
    "sub0['prediction1'] = sub1['prediction']\n",
    "\n",
    "del sub1\n",
    "gc.collect()"
   ]
  },
  {
   "cell_type": "code",
   "execution_count": 7,
   "id": "957b17d6",
   "metadata": {
    "execution": {
     "iopub.execute_input": "2022-05-01T09:40:13.271057Z",
     "iopub.status.busy": "2022-05-01T09:40:13.269919Z",
     "iopub.status.idle": "2022-05-01T09:40:13.272592Z",
     "shell.execute_reply": "2022-05-01T09:40:13.272028Z",
     "shell.execute_reply.started": "2022-05-01T09:34:24.529634Z"
    },
    "papermill": {
     "duration": 0.027164,
     "end_time": "2022-05-01T09:40:13.272753",
     "exception": false,
     "start_time": "2022-05-01T09:40:13.245589",
     "status": "completed"
    },
    "tags": []
   },
   "outputs": [],
   "source": [
    "def cust_blend(dt, W = [1,1,1,1,1]):\n",
    "    #Global ensemble weights\n",
    "    #W = [1.15,0.95,0.85]\n",
    "\n",
    "    #Create a list of all model predictions\n",
    "    REC = []\n",
    "\n",
    "    # Second Try\n",
    "    REC.append(dt['prediction0'].split())\n",
    "    REC.append(dt['prediction1'].split())\n",
    "\n",
    "    #Create a dictionary of items recommended.\n",
    "    #Assign a weight according the order of appearance and multiply by global weights\n",
    "    res = {}\n",
    "    for M in range(len(REC)):\n",
    "        for n, v in enumerate(REC[M]):\n",
    "            if v in res:\n",
    "                res[v] += (W[M]/(n+1))\n",
    "            else:\n",
    "                res[v] = (W[M]/(n+1))\n",
    "\n",
    "    # Sort dictionary by item weights\n",
    "    res = list(dict(sorted(res.items(), key=lambda item: -item[1])).keys())\n",
    "\n",
    "    # Return the top 12 items only\n",
    "    return ' '.join(res[:12])"
   ]
  },
  {
   "cell_type": "code",
   "execution_count": 8,
   "id": "0f3085e2",
   "metadata": {
    "execution": {
     "iopub.execute_input": "2022-05-01T09:40:13.311964Z",
     "iopub.status.busy": "2022-05-01T09:40:13.310056Z",
     "iopub.status.idle": "2022-05-01T09:41:05.807014Z",
     "shell.execute_reply": "2022-05-01T09:41:05.807536Z",
     "shell.execute_reply.started": "2022-05-01T09:34:24.544383Z"
    },
    "papermill": {
     "duration": 52.519613,
     "end_time": "2022-05-01T09:41:05.807749",
     "exception": false,
     "start_time": "2022-05-01T09:40:13.288136",
     "status": "completed"
    },
    "tags": []
   },
   "outputs": [],
   "source": [
    "sub0['prediction'] = sub0.apply(cust_blend, W = [1.20, 0.85], axis=1)"
   ]
  },
  {
   "cell_type": "code",
   "execution_count": 9,
   "id": "082badca",
   "metadata": {
    "execution": {
     "iopub.execute_input": "2022-05-01T09:41:05.853879Z",
     "iopub.status.busy": "2022-05-01T09:41:05.853142Z",
     "iopub.status.idle": "2022-05-01T09:41:05.857642Z",
     "shell.execute_reply": "2022-05-01T09:41:05.857059Z",
     "shell.execute_reply.started": "2022-05-01T09:35:17.015093Z"
    },
    "papermill": {
     "duration": 0.032268,
     "end_time": "2022-05-01T09:41:05.857795",
     "exception": false,
     "start_time": "2022-05-01T09:41:05.825527",
     "status": "completed"
    },
    "tags": []
   },
   "outputs": [
    {
     "data": {
      "text/html": [
       "<div>\n",
       "<style scoped>\n",
       "    .dataframe tbody tr th:only-of-type {\n",
       "        vertical-align: middle;\n",
       "    }\n",
       "\n",
       "    .dataframe tbody tr th {\n",
       "        vertical-align: top;\n",
       "    }\n",
       "\n",
       "    .dataframe thead th {\n",
       "        text-align: right;\n",
       "    }\n",
       "</style>\n",
       "<table border=\"1\" class=\"dataframe\">\n",
       "  <thead>\n",
       "    <tr style=\"text-align: right;\">\n",
       "      <th></th>\n",
       "      <th>customer_id</th>\n",
       "      <th>prediction</th>\n",
       "    </tr>\n",
       "  </thead>\n",
       "  <tbody>\n",
       "    <tr>\n",
       "      <th>0</th>\n",
       "      <td>00000dbacae5abe5e23885899a1fa44253a17956c6d1c3...</td>\n",
       "      <td>0568601043 0568601006 0751471001 0924243001 04...</td>\n",
       "    </tr>\n",
       "    <tr>\n",
       "      <th>1</th>\n",
       "      <td>0000423b00ade91418cceaf3b26c6af3dd342b51fd051e...</td>\n",
       "      <td>0826211002 0924243001 0924243002 0739590027 08...</td>\n",
       "    </tr>\n",
       "    <tr>\n",
       "      <th>2</th>\n",
       "      <td>000058a12d5b43e67d225668fa1f8d618c13dc232df0ca...</td>\n",
       "      <td>0794321007 0852643001 0924243001 0924243002 07...</td>\n",
       "    </tr>\n",
       "    <tr>\n",
       "      <th>3</th>\n",
       "      <td>00005ca1c9ed5f5146b52ac8639a40ca9d57aeff4d1bd2...</td>\n",
       "      <td>0448509014 0924243002 0924243001 0751471001 05...</td>\n",
       "    </tr>\n",
       "    <tr>\n",
       "      <th>4</th>\n",
       "      <td>00006413d8573cd20ed7128e53b7b13819fe5cfc2d801f...</td>\n",
       "      <td>0730683050 0791587015 0927530004 0896152002 09...</td>\n",
       "    </tr>\n",
       "  </tbody>\n",
       "</table>\n",
       "</div>"
      ],
      "text/plain": [
       "                                         customer_id  \\\n",
       "0  00000dbacae5abe5e23885899a1fa44253a17956c6d1c3...   \n",
       "1  0000423b00ade91418cceaf3b26c6af3dd342b51fd051e...   \n",
       "2  000058a12d5b43e67d225668fa1f8d618c13dc232df0ca...   \n",
       "3  00005ca1c9ed5f5146b52ac8639a40ca9d57aeff4d1bd2...   \n",
       "4  00006413d8573cd20ed7128e53b7b13819fe5cfc2d801f...   \n",
       "\n",
       "                                          prediction  \n",
       "0  0568601043 0568601006 0751471001 0924243001 04...  \n",
       "1  0826211002 0924243001 0924243002 0739590027 08...  \n",
       "2  0794321007 0852643001 0924243001 0924243002 07...  \n",
       "3  0448509014 0924243002 0924243001 0751471001 05...  \n",
       "4  0730683050 0791587015 0927530004 0896152002 09...  "
      ]
     },
     "execution_count": 9,
     "metadata": {},
     "output_type": "execute_result"
    }
   ],
   "source": [
    "del sub0['prediction0']\n",
    "del sub0['prediction1']\n",
    "\n",
    "sub0.head()"
   ]
  },
  {
   "cell_type": "code",
   "execution_count": 10,
   "id": "fac712c1",
   "metadata": {
    "execution": {
     "iopub.execute_input": "2022-05-01T09:41:05.895595Z",
     "iopub.status.busy": "2022-05-01T09:41:05.894516Z",
     "iopub.status.idle": "2022-05-01T09:41:18.696928Z",
     "shell.execute_reply": "2022-05-01T09:41:18.696335Z",
     "shell.execute_reply.started": "2022-05-01T09:35:17.032709Z"
    },
    "papermill": {
     "duration": 12.823175,
     "end_time": "2022-05-01T09:41:18.697074",
     "exception": false,
     "start_time": "2022-05-01T09:41:05.873899",
     "status": "completed"
    },
    "tags": []
   },
   "outputs": [],
   "source": [
    "sub0.to_csv('submission.csv', index=False)"
   ]
  }
 ],
 "metadata": {
  "kernelspec": {
   "display_name": "Python 3",
   "language": "python",
   "name": "python3"
  },
  "language_info": {
   "codemirror_mode": {
    "name": "ipython",
    "version": 3
   },
   "file_extension": ".py",
   "mimetype": "text/x-python",
   "name": "python",
   "nbconvert_exporter": "python",
   "pygments_lexer": "ipython3",
   "version": "3.7.12"
  },
  "papermill": {
   "default_parameters": {},
   "duration": 311.59166,
   "end_time": "2022-05-01T09:41:20.430974",
   "environment_variables": {},
   "exception": null,
   "input_path": "__notebook__.ipynb",
   "output_path": "__notebook__.ipynb",
   "parameters": {},
   "start_time": "2022-05-01T09:36:08.839314",
   "version": "2.3.3"
  }
 },
 "nbformat": 4,
 "nbformat_minor": 5
}
