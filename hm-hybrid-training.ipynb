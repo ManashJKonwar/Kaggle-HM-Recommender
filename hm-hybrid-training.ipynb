{
 "cells": [
  {
   "cell_type": "markdown",
   "id": "bb133d7d",
   "metadata": {
    "papermill": {
     "duration": 0.059778,
     "end_time": "2022-03-21T14:38:48.809688",
     "exception": false,
     "start_time": "2022-03-21T14:38:48.749910",
     "status": "completed"
    },
    "tags": []
   },
   "source": [
    "## This experiment is to apply multiple algorithms and attain the best possible MAP@12 for the problem in hand.\n",
    "\n",
    "### Approach 1\n",
    "\n",
    "**Algorithm 1:** Find the most purchased article for each user, he/she is mostly will spent similar bucks in the same item or in some other article which is similar to that.  \n",
    "This notebook will help us to get this algorithm up and running for each user. I will try to get the top 12 articles which are mostly assumed to be purchased by each user. If any user has purchased less than 12 articles, we will use top selling articles to complete article list till it reaches 12 in count. \n",
    "\n",
    "I will dump the submission csv for the entire dataset using this simple algorithm.\n",
    "\n",
    "**Algorithm 2:** Use LightFM algorithm to find the relation among customer and articles which have seen no interaction in past however the customer may have a tendency to buy these unpurchased articles in future visits. This notebook is already trained and hyperparameters are also optimized based on reduced transaction dates. Store top 200 predictions for each user. Please find the link to these notebooks below:  \n",
    "\n",
    "Link to Training Light FM model: https://www.kaggle.com/rickykonwar/h-m-lightfm-nofeatures  \n",
    "Link to Hyper Parameter Tuning Light FM Model: https://www.kaggle.com/rickykonwar/h-m-lightfm-nofeatures-hyperparamter-tuning/notebook\n",
    "\n",
    "### Approach 2  \n",
    "\n",
    "**Algorithm 3 (Hybrid):** Once we have set the algorithm 1 and algorithm 2 inferencing outputs, I will form the top 200 recommended articles for each user by combining the most purchases any customer has made (based on algorithm 1) and remaining 200-N will be filled up based on inferencing outputs for the same customer (based on algorithm 2). This combined data will be the base for the hybrid algorithm. On top of these, we will add customer and articles metadata features to clse on the classifier model. \n"
   ]
  },
  {
   "cell_type": "markdown",
   "id": "691a1c4a",
   "metadata": {
    "papermill": {
     "duration": 0.058753,
     "end_time": "2022-03-21T14:38:48.928255",
     "exception": false,
     "start_time": "2022-03-21T14:38:48.869502",
     "status": "completed"
    },
    "tags": []
   },
   "source": [
    "## Importing Libraries"
   ]
  },
  {
   "cell_type": "code",
   "execution_count": 1,
   "id": "a2754e3a",
   "metadata": {
    "execution": {
     "iopub.execute_input": "2022-03-21T14:38:49.059714Z",
     "iopub.status.busy": "2022-03-21T14:38:49.059025Z",
     "iopub.status.idle": "2022-03-21T14:38:50.146723Z",
     "shell.execute_reply": "2022-03-21T14:38:50.145824Z",
     "shell.execute_reply.started": "2022-03-21T14:24:57.089109Z"
    },
    "papermill": {
     "duration": 1.15601,
     "end_time": "2022-03-21T14:38:50.146874",
     "exception": false,
     "start_time": "2022-03-21T14:38:48.990864",
     "status": "completed"
    },
    "tags": []
   },
   "outputs": [],
   "source": [
    "import os\n",
    "import copy\n",
    "import time\n",
    "import tqdm\n",
    "import pickle\n",
    "import datetime\n",
    "import numpy as np\n",
    "import pandas as pd\n",
    "import scipy.sparse as sparse\n",
    "\n",
    "from multiprocessing import Pool\n",
    "from IPython.display import FileLink\n",
    "from sklearn.model_selection import train_test_split"
   ]
  },
  {
   "cell_type": "markdown",
   "id": "bec9a30c",
   "metadata": {
    "papermill": {
     "duration": 0.037675,
     "end_time": "2022-03-21T14:38:50.222185",
     "exception": false,
     "start_time": "2022-03-21T14:38:50.184510",
     "status": "completed"
    },
    "tags": []
   },
   "source": [
    "## Utility Functions"
   ]
  },
  {
   "cell_type": "code",
   "execution_count": 2,
   "id": "4ddcbecd",
   "metadata": {
    "_kg_hide-input": true,
    "_kg_hide-output": true,
    "execution": {
     "iopub.execute_input": "2022-03-21T14:38:50.303391Z",
     "iopub.status.busy": "2022-03-21T14:38:50.302639Z",
     "iopub.status.idle": "2022-03-21T14:38:50.310664Z",
     "shell.execute_reply": "2022-03-21T14:38:50.311115Z",
     "shell.execute_reply.started": "2022-03-21T14:24:58.220344Z"
    },
    "papermill": {
     "duration": 0.050705,
     "end_time": "2022-03-21T14:38:50.311276",
     "exception": false,
     "start_time": "2022-03-21T14:38:50.260571",
     "status": "completed"
    },
    "tags": []
   },
   "outputs": [],
   "source": [
    "def apk(actual, predicted, k=12):\n",
    "    '''\n",
    "    Function to get Average Precision at K\n",
    "    '''\n",
    "    if len(predicted)>k:\n",
    "        predicted = predicted[:k]\n",
    "\n",
    "    score = 0.0\n",
    "    num_hits = 0.0\n",
    "\n",
    "    for i,p in enumerate(predicted):\n",
    "        if p in actual and p not in predicted[:i]:\n",
    "            num_hits += 1.0\n",
    "            score += num_hits / (i+1.0)\n",
    "\n",
    "    if not actual:\n",
    "        return 0.0\n",
    "    \n",
    "    return score / min(len(actual), k)\n",
    "\n",
    "def mapk(actual, predicted, k=12):\n",
    "    '''\n",
    "    Function to get Mean Average Precision at K\n",
    "    '''\n",
    "    return np.mean([apk(a,p,k) for a,p in zip(actual, predicted)])\n",
    "\n",
    "def create_chunk_indices(meta_df, chunk_idx, chunk_size):\n",
    "    '''\n",
    "    Function to generate chunks of data for multiprocessing\n",
    "    '''\n",
    "    start_idx = chunk_idx * chunk_size\n",
    "    end_idx = start_idx + chunk_size\n",
    "    meta_chunk = meta_df[start_idx:end_idx]\n",
    "    print(\"start/end \"+str(chunk_idx+1)+\":\" + str(start_idx) + \",\" + str(end_idx))\n",
    "    print(len(meta_chunk))\n",
    "    #chunk_idx in return value is used to sort the processed chunks back into original order,\n",
    "    return (meta_chunk, chunk_idx)"
   ]
  },
  {
   "cell_type": "markdown",
   "id": "f809c262",
   "metadata": {
    "papermill": {
     "duration": 0.037329,
     "end_time": "2022-03-21T14:38:50.387272",
     "exception": false,
     "start_time": "2022-03-21T14:38:50.349943",
     "status": "completed"
    },
    "tags": []
   },
   "source": [
    "## Data Loading"
   ]
  },
  {
   "cell_type": "code",
   "execution_count": 3,
   "id": "8a22d2b2",
   "metadata": {
    "execution": {
     "iopub.execute_input": "2022-03-21T14:38:50.469336Z",
     "iopub.status.busy": "2022-03-21T14:38:50.466147Z",
     "iopub.status.idle": "2022-03-21T14:38:50.471291Z",
     "shell.execute_reply": "2022-03-21T14:38:50.471931Z",
     "shell.execute_reply.started": "2022-03-21T14:24:58.933005Z"
    },
    "papermill": {
     "duration": 0.046725,
     "end_time": "2022-03-21T14:38:50.472143",
     "exception": false,
     "start_time": "2022-03-21T14:38:50.425418",
     "status": "completed"
    },
    "tags": []
   },
   "outputs": [],
   "source": [
    "data_path = r'../input/h-and-m-personalized-fashion-recommendations/transactions_train.csv'\n",
    "customer_data_path = r'../input/h-and-m-personalized-fashion-recommendations/customers.csv'\n",
    "article_data_path = r'../input/h-and-m-personalized-fashion-recommendations/articles.csv'\n",
    "submission_data_path = r'../input/h-and-m-personalized-fashion-recommendations/sample_submission.csv'"
   ]
  },
  {
   "cell_type": "code",
   "execution_count": 4,
   "id": "7b93f10e",
   "metadata": {
    "execution": {
     "iopub.execute_input": "2022-03-21T14:38:50.592603Z",
     "iopub.status.busy": "2022-03-21T14:38:50.591704Z",
     "iopub.status.idle": "2022-03-21T14:38:50.598978Z",
     "shell.execute_reply": "2022-03-21T14:38:50.598425Z",
     "shell.execute_reply.started": "2022-03-21T14:24:59.275328Z"
    },
    "papermill": {
     "duration": 0.068097,
     "end_time": "2022-03-21T14:38:50.599146",
     "exception": false,
     "start_time": "2022-03-21T14:38:50.531049",
     "status": "completed"
    },
    "tags": []
   },
   "outputs": [],
   "source": [
    "# Data Extraction\n",
    "def create_data(datapath, data_type=None):\n",
    "    if data_type is None:\n",
    "        df = pd.read_csv(datapath)\n",
    "    elif data_type == 'transaction':\n",
    "        df = pd.read_csv(datapath, dtype={'article_id': str}, parse_dates=['t_dat'])\n",
    "    elif data_type == 'article':\n",
    "        df = pd.read_csv(datapath, dtype={'article_id': str})\n",
    "    return df"
   ]
  },
  {
   "cell_type": "code",
   "execution_count": 5,
   "id": "3c62b8fe",
   "metadata": {
    "execution": {
     "iopub.execute_input": "2022-03-21T14:38:50.719738Z",
     "iopub.status.busy": "2022-03-21T14:38:50.719028Z",
     "iopub.status.idle": "2022-03-21T14:40:26.308514Z",
     "shell.execute_reply": "2022-03-21T14:40:26.309050Z",
     "shell.execute_reply.started": "2022-03-21T14:24:59.631664Z"
    },
    "papermill": {
     "duration": 95.651616,
     "end_time": "2022-03-21T14:40:26.309243",
     "exception": false,
     "start_time": "2022-03-21T14:38:50.657627",
     "status": "completed"
    },
    "tags": []
   },
   "outputs": [
    {
     "name": "stdout",
     "output_type": "stream",
     "text": [
      "(31788324, 5)\n",
      "734-total No of unique transactions dates in data sheet\n",
      "1362281-total No of unique customers ids in data sheet\n",
      "104547-total No of unique article ids courses names in data sheet\n",
      "2-total No of unique sales channels in data sheet\n",
      "CPU times: user 1min 6s, sys: 2.86 s, total: 1min 9s\n",
      "Wall time: 1min 35s\n"
     ]
    }
   ],
   "source": [
    "%%time\n",
    "\n",
    "# Load all sales data (for 3 years starting from 2018 to 2020)\n",
    "# ALso, article_id is treated as a string column otherwise it \n",
    "# would drop the leading zeros while reading the specific column values\n",
    "transactions_data=create_data(data_path, data_type='transaction')\n",
    "print(transactions_data.shape)\n",
    "\n",
    "# # Unique Attributes\n",
    "print(str(len(transactions_data['t_dat'].drop_duplicates())) + \"-total No of unique transactions dates in data sheet\")\n",
    "print(str(len(transactions_data['customer_id'].drop_duplicates())) + \"-total No of unique customers ids in data sheet\")\n",
    "print(str(len(transactions_data['article_id'].drop_duplicates())) + \"-total No of unique article ids courses names in data sheet\")\n",
    "print(str(len(transactions_data['sales_channel_id'].drop_duplicates())) + \"-total No of unique sales channels in data sheet\")"
   ]
  },
  {
   "cell_type": "code",
   "execution_count": 6,
   "id": "e03591ae",
   "metadata": {
    "execution": {
     "iopub.execute_input": "2022-03-21T14:40:26.433956Z",
     "iopub.status.busy": "2022-03-21T14:40:26.433052Z",
     "iopub.status.idle": "2022-03-21T14:40:32.052495Z",
     "shell.execute_reply": "2022-03-21T14:40:32.053151Z",
     "shell.execute_reply.started": "2022-03-21T14:26:20.339201Z"
    },
    "papermill": {
     "duration": 5.684307,
     "end_time": "2022-03-21T14:40:32.053345",
     "exception": false,
     "start_time": "2022-03-21T14:40:26.369038",
     "status": "completed"
    },
    "tags": []
   },
   "outputs": [
    {
     "name": "stdout",
     "output_type": "stream",
     "text": [
      "(1371980, 7)\n",
      "1371980-total No of unique customers ids in customer data sheet\n",
      "CPU times: user 3.68 s, sys: 232 ms, total: 3.91 s\n",
      "Wall time: 5.61 s\n"
     ]
    }
   ],
   "source": [
    "%%time\n",
    "\n",
    "# Load all Customers\n",
    "customer_data=create_data(customer_data_path)\n",
    "print(customer_data.shape)\n",
    "\n",
    "print(str(len(customer_data['customer_id'].drop_duplicates())) + \"-total No of unique customers ids in customer data sheet\")"
   ]
  },
  {
   "cell_type": "code",
   "execution_count": 7,
   "id": "75b557dd",
   "metadata": {
    "execution": {
     "iopub.execute_input": "2022-03-21T14:40:32.182675Z",
     "iopub.status.busy": "2022-03-21T14:40:32.181896Z",
     "iopub.status.idle": "2022-03-21T14:40:32.998623Z",
     "shell.execute_reply": "2022-03-21T14:40:32.999257Z",
     "shell.execute_reply.started": "2022-03-21T14:26:25.645017Z"
    },
    "papermill": {
     "duration": 0.883887,
     "end_time": "2022-03-21T14:40:32.999454",
     "exception": false,
     "start_time": "2022-03-21T14:40:32.115567",
     "status": "completed"
    },
    "tags": []
   },
   "outputs": [
    {
     "name": "stdout",
     "output_type": "stream",
     "text": [
      "(105542, 25)\n",
      "105542-total No of unique article ids in article data sheet\n",
      "CPU times: user 473 ms, sys: 25.4 ms, total: 498 ms\n",
      "Wall time: 812 ms\n"
     ]
    }
   ],
   "source": [
    "%%time\n",
    "\n",
    "# Load all Articles\n",
    "article_data=create_data(article_data_path, data_type='article')\n",
    "print(article_data.shape)\n",
    "\n",
    "print(str(len(article_data['article_id'].drop_duplicates())) + \"-total No of unique article ids in article data sheet\")"
   ]
  },
  {
   "cell_type": "code",
   "execution_count": 8,
   "id": "11612ddf",
   "metadata": {
    "execution": {
     "iopub.execute_input": "2022-03-21T14:40:33.127207Z",
     "iopub.status.busy": "2022-03-21T14:40:33.126199Z",
     "iopub.status.idle": "2022-03-21T14:40:39.029436Z",
     "shell.execute_reply": "2022-03-21T14:40:39.028763Z",
     "shell.execute_reply.started": "2022-03-21T14:26:26.555658Z"
    },
    "papermill": {
     "duration": 5.968915,
     "end_time": "2022-03-21T14:40:39.029624",
     "exception": false,
     "start_time": "2022-03-21T14:40:33.060709",
     "status": "completed"
    },
    "tags": []
   },
   "outputs": [
    {
     "name": "stdout",
     "output_type": "stream",
     "text": [
      "(1371980, 2)\n",
      "1371980-total No of unique customer ids in submission data sheet\n",
      "CPU times: user 3.68 s, sys: 179 ms, total: 3.86 s\n",
      "Wall time: 5.9 s\n"
     ]
    }
   ],
   "source": [
    "%%time\n",
    "\n",
    "# Load all submission samples data\n",
    "submission_data=create_data(submission_data_path)\n",
    "print(submission_data.shape)\n",
    "\n",
    "print(str(len(submission_data['customer_id'].drop_duplicates())) + \"-total No of unique customer ids in submission data sheet\")"
   ]
  },
  {
   "cell_type": "markdown",
   "id": "f59b0878",
   "metadata": {
    "papermill": {
     "duration": 0.039773,
     "end_time": "2022-03-21T14:40:39.109362",
     "exception": false,
     "start_time": "2022-03-21T14:40:39.069589",
     "status": "completed"
    },
    "tags": []
   },
   "source": [
    "## Capturing Seasonal Effect by Limiting the transaction date\n",
    "Based on notebook with link: https://www.kaggle.com/tomooinubushi/folk-of-time-is-our-best-friend/notebook"
   ]
  },
  {
   "cell_type": "code",
   "execution_count": 9,
   "id": "e675f205",
   "metadata": {
    "execution": {
     "iopub.execute_input": "2022-03-21T14:40:39.192159Z",
     "iopub.status.busy": "2022-03-21T14:40:39.191451Z",
     "iopub.status.idle": "2022-03-21T14:40:39.965687Z",
     "shell.execute_reply": "2022-03-21T14:40:39.965041Z",
     "shell.execute_reply.started": "2022-03-21T14:26:31.294348Z"
    },
    "papermill": {
     "duration": 0.816406,
     "end_time": "2022-03-21T14:40:39.965815",
     "exception": false,
     "start_time": "2022-03-21T14:40:39.149409",
     "status": "completed"
    },
    "tags": []
   },
   "outputs": [
    {
     "data": {
      "text/plain": [
       "(1190911, 5)"
      ]
     },
     "execution_count": 9,
     "metadata": {},
     "output_type": "execute_result"
    }
   ],
   "source": [
    "transactions_data = transactions_data[transactions_data['t_dat'] > '2020-08-21']\n",
    "transactions_data.shape"
   ]
  },
  {
   "cell_type": "markdown",
   "id": "3c00a3ba",
   "metadata": {
    "papermill": {
     "duration": 0.040306,
     "end_time": "2022-03-21T14:40:40.046327",
     "exception": false,
     "start_time": "2022-03-21T14:40:40.006021",
     "status": "completed"
    },
    "tags": []
   },
   "source": [
    "## Splitting transaction data to training and validation set"
   ]
  },
  {
   "cell_type": "code",
   "execution_count": 10,
   "id": "b6066b4c",
   "metadata": {
    "execution": {
     "iopub.execute_input": "2022-03-21T14:40:40.135476Z",
     "iopub.status.busy": "2022-03-21T14:40:40.134750Z",
     "iopub.status.idle": "2022-03-21T14:40:40.267941Z",
     "shell.execute_reply": "2022-03-21T14:40:40.267264Z",
     "shell.execute_reply.started": "2022-03-21T14:26:32.186215Z"
    },
    "papermill": {
     "duration": 0.180818,
     "end_time": "2022-03-21T14:40:40.268121",
     "exception": false,
     "start_time": "2022-03-21T14:40:40.087303",
     "status": "completed"
    },
    "tags": []
   },
   "outputs": [
    {
     "name": "stdout",
     "output_type": "stream",
     "text": [
      "(950600, 5)\n",
      "(240311, 5)\n"
     ]
    }
   ],
   "source": [
    "train_start_date = transactions_data.t_dat.min()\n",
    "split_date = transactions_data.t_dat.max() - datetime.timedelta(days = 7)\n",
    "train_transaction_data = transactions_data[(transactions_data.t_dat <= split_date) & (transactions_data.t_dat >= train_start_date)].copy()\n",
    "test_transaction_data = transactions_data[transactions_data.t_dat > split_date].copy()\n",
    "\n",
    "print(train_transaction_data.shape)\n",
    "print(test_transaction_data.shape)"
   ]
  },
  {
   "cell_type": "code",
   "execution_count": 11,
   "id": "fbb11146",
   "metadata": {
    "execution": {
     "iopub.execute_input": "2022-03-21T14:40:40.443750Z",
     "iopub.status.busy": "2022-03-21T14:40:40.442997Z",
     "iopub.status.idle": "2022-03-21T14:40:41.740129Z",
     "shell.execute_reply": "2022-03-21T14:40:41.739466Z",
     "shell.execute_reply.started": "2022-03-21T14:26:32.323805Z"
    },
    "papermill": {
     "duration": 1.409334,
     "end_time": "2022-03-21T14:40:41.740308",
     "exception": false,
     "start_time": "2022-03-21T14:40:40.330974",
     "status": "completed"
    },
    "tags": []
   },
   "outputs": [],
   "source": [
    "train_transaction_data = train_transaction_data.groupby(['customer_id','article_id']).agg({'t_dat':'count'}).reset_index()\n",
    "test_transaction_data = test_transaction_data.groupby(['customer_id','article_id']).agg({'t_dat':'count'}).reset_index()\n",
    "\n",
    "train_transaction_data.rename({'t_dat': 't_count'}, axis=1, inplace=True)\n",
    "test_transaction_data.rename({'t_dat': 't_count'}, axis=1, inplace=True)"
   ]
  },
  {
   "cell_type": "markdown",
   "id": "5dc4a741",
   "metadata": {
    "papermill": {
     "duration": 0.063813,
     "end_time": "2022-03-21T14:40:41.867416",
     "exception": false,
     "start_time": "2022-03-21T14:40:41.803603",
     "status": "completed"
    },
    "tags": []
   },
   "source": [
    "## Approach 1\n",
    "\n",
    "## Algorithm 1: Extracting Topmost articles for each user based on number of purchase made"
   ]
  },
  {
   "cell_type": "code",
   "execution_count": 12,
   "id": "78eb2fe0",
   "metadata": {
    "execution": {
     "iopub.execute_input": "2022-03-21T14:40:42.012302Z",
     "iopub.status.busy": "2022-03-21T14:40:42.011544Z",
     "iopub.status.idle": "2022-03-21T14:40:44.349000Z",
     "shell.execute_reply": "2022-03-21T14:40:44.348414Z",
     "shell.execute_reply.started": "2022-03-21T14:26:33.905962Z"
    },
    "papermill": {
     "duration": 2.418549,
     "end_time": "2022-03-21T14:40:44.349139",
     "exception": false,
     "start_time": "2022-03-21T14:40:41.930590",
     "status": "completed"
    },
    "tags": []
   },
   "outputs": [],
   "source": [
    "train_val_merge_transaction_data = train_transaction_data[train_transaction_data.article_id.isin(test_transaction_data.article_id.unique())] \n",
    "train_top_articles = train_val_merge_transaction_data.sort_values(['customer_id', 't_count'], ascending=False).groupby(['customer_id']).head(12)\n",
    "test_top_articles = test_transaction_data.sort_values(['customer_id', 't_count'], ascending=False).groupby(['customer_id']).head(12)\n",
    "\n",
    "# Overall highly sold articles\n",
    "overall_top_articles = train_top_articles.groupby(['article_id'], as_index = False)['t_count'].sum().sort_values(['t_count'])['article_id'][-12:].values\n",
    "overall_top_articles = overall_top_articles[::-1]"
   ]
  },
  {
   "cell_type": "code",
   "execution_count": 13,
   "id": "03e2da1c",
   "metadata": {
    "execution": {
     "iopub.execute_input": "2022-03-21T14:40:44.436949Z",
     "iopub.status.busy": "2022-03-21T14:40:44.434302Z",
     "iopub.status.idle": "2022-03-21T14:40:44.449798Z",
     "shell.execute_reply": "2022-03-21T14:40:44.449190Z",
     "shell.execute_reply.started": "2022-03-21T14:26:35.615632Z"
    },
    "papermill": {
     "duration": 0.060246,
     "end_time": "2022-03-21T14:40:44.449966",
     "exception": false,
     "start_time": "2022-03-21T14:40:44.389720",
     "status": "completed"
    },
    "tags": []
   },
   "outputs": [
    {
     "data": {
      "text/html": [
       "<div>\n",
       "<style scoped>\n",
       "    .dataframe tbody tr th:only-of-type {\n",
       "        vertical-align: middle;\n",
       "    }\n",
       "\n",
       "    .dataframe tbody tr th {\n",
       "        vertical-align: top;\n",
       "    }\n",
       "\n",
       "    .dataframe thead th {\n",
       "        text-align: right;\n",
       "    }\n",
       "</style>\n",
       "<table border=\"1\" class=\"dataframe\">\n",
       "  <thead>\n",
       "    <tr style=\"text-align: right;\">\n",
       "      <th></th>\n",
       "      <th>customer_id</th>\n",
       "      <th>article_id</th>\n",
       "      <th>t_count</th>\n",
       "    </tr>\n",
       "  </thead>\n",
       "  <tbody>\n",
       "    <tr>\n",
       "      <th>842892</th>\n",
       "      <td>ffffcf35913a0bee60e8741cb2b4e78b8a98ee5ff2e6a1...</td>\n",
       "      <td>0689365050</td>\n",
       "      <td>1</td>\n",
       "    </tr>\n",
       "    <tr>\n",
       "      <th>842893</th>\n",
       "      <td>ffffcf35913a0bee60e8741cb2b4e78b8a98ee5ff2e6a1...</td>\n",
       "      <td>0762846027</td>\n",
       "      <td>1</td>\n",
       "    </tr>\n",
       "    <tr>\n",
       "      <th>842894</th>\n",
       "      <td>ffffcf35913a0bee60e8741cb2b4e78b8a98ee5ff2e6a1...</td>\n",
       "      <td>0794819001</td>\n",
       "      <td>1</td>\n",
       "    </tr>\n",
       "    <tr>\n",
       "      <th>842895</th>\n",
       "      <td>ffffcf35913a0bee60e8741cb2b4e78b8a98ee5ff2e6a1...</td>\n",
       "      <td>0884081001</td>\n",
       "      <td>1</td>\n",
       "    </tr>\n",
       "    <tr>\n",
       "      <th>842886</th>\n",
       "      <td>ffffbbf78b6eaac697a8a5dfbfd2bfa8113ee5b403e474...</td>\n",
       "      <td>0557599022</td>\n",
       "      <td>1</td>\n",
       "    </tr>\n",
       "    <tr>\n",
       "      <th>842887</th>\n",
       "      <td>ffffbbf78b6eaac697a8a5dfbfd2bfa8113ee5b403e474...</td>\n",
       "      <td>0713997002</td>\n",
       "      <td>1</td>\n",
       "    </tr>\n",
       "    <tr>\n",
       "      <th>842888</th>\n",
       "      <td>ffffbbf78b6eaac697a8a5dfbfd2bfa8113ee5b403e474...</td>\n",
       "      <td>0720125039</td>\n",
       "      <td>1</td>\n",
       "    </tr>\n",
       "    <tr>\n",
       "      <th>842889</th>\n",
       "      <td>ffffbbf78b6eaac697a8a5dfbfd2bfa8113ee5b403e474...</td>\n",
       "      <td>0740922009</td>\n",
       "      <td>1</td>\n",
       "    </tr>\n",
       "    <tr>\n",
       "      <th>842890</th>\n",
       "      <td>ffffbbf78b6eaac697a8a5dfbfd2bfa8113ee5b403e474...</td>\n",
       "      <td>0791587007</td>\n",
       "      <td>1</td>\n",
       "    </tr>\n",
       "    <tr>\n",
       "      <th>842891</th>\n",
       "      <td>ffffbbf78b6eaac697a8a5dfbfd2bfa8113ee5b403e474...</td>\n",
       "      <td>0804992033</td>\n",
       "      <td>1</td>\n",
       "    </tr>\n",
       "  </tbody>\n",
       "</table>\n",
       "</div>"
      ],
      "text/plain": [
       "                                              customer_id  article_id  t_count\n",
       "842892  ffffcf35913a0bee60e8741cb2b4e78b8a98ee5ff2e6a1...  0689365050        1\n",
       "842893  ffffcf35913a0bee60e8741cb2b4e78b8a98ee5ff2e6a1...  0762846027        1\n",
       "842894  ffffcf35913a0bee60e8741cb2b4e78b8a98ee5ff2e6a1...  0794819001        1\n",
       "842895  ffffcf35913a0bee60e8741cb2b4e78b8a98ee5ff2e6a1...  0884081001        1\n",
       "842886  ffffbbf78b6eaac697a8a5dfbfd2bfa8113ee5b403e474...  0557599022        1\n",
       "842887  ffffbbf78b6eaac697a8a5dfbfd2bfa8113ee5b403e474...  0713997002        1\n",
       "842888  ffffbbf78b6eaac697a8a5dfbfd2bfa8113ee5b403e474...  0720125039        1\n",
       "842889  ffffbbf78b6eaac697a8a5dfbfd2bfa8113ee5b403e474...  0740922009        1\n",
       "842890  ffffbbf78b6eaac697a8a5dfbfd2bfa8113ee5b403e474...  0791587007        1\n",
       "842891  ffffbbf78b6eaac697a8a5dfbfd2bfa8113ee5b403e474...  0804992033        1"
      ]
     },
     "execution_count": 13,
     "metadata": {},
     "output_type": "execute_result"
    }
   ],
   "source": [
    "train_top_articles.head(10)"
   ]
  },
  {
   "cell_type": "code",
   "execution_count": 14,
   "id": "e5cc5e19",
   "metadata": {
    "execution": {
     "iopub.execute_input": "2022-03-21T14:40:44.587756Z",
     "iopub.status.busy": "2022-03-21T14:40:44.586980Z",
     "iopub.status.idle": "2022-03-21T14:40:44.589889Z",
     "shell.execute_reply": "2022-03-21T14:40:44.590447Z",
     "shell.execute_reply.started": "2022-03-21T14:26:35.634891Z"
    },
    "papermill": {
     "duration": 0.076351,
     "end_time": "2022-03-21T14:40:44.590614",
     "exception": false,
     "start_time": "2022-03-21T14:40:44.514263",
     "status": "completed"
    },
    "tags": []
   },
   "outputs": [
    {
     "data": {
      "text/html": [
       "<div>\n",
       "<style scoped>\n",
       "    .dataframe tbody tr th:only-of-type {\n",
       "        vertical-align: middle;\n",
       "    }\n",
       "\n",
       "    .dataframe tbody tr th {\n",
       "        vertical-align: top;\n",
       "    }\n",
       "\n",
       "    .dataframe thead th {\n",
       "        text-align: right;\n",
       "    }\n",
       "</style>\n",
       "<table border=\"1\" class=\"dataframe\">\n",
       "  <thead>\n",
       "    <tr style=\"text-align: right;\">\n",
       "      <th></th>\n",
       "      <th>customer_id</th>\n",
       "      <th>article_id</th>\n",
       "      <th>t_count</th>\n",
       "    </tr>\n",
       "  </thead>\n",
       "  <tbody>\n",
       "    <tr>\n",
       "      <th>213727</th>\n",
       "      <td>fffef3b6b73545df065b521e19f64bf6fe93bfd450ab20...</td>\n",
       "      <td>0898573003</td>\n",
       "      <td>1</td>\n",
       "    </tr>\n",
       "    <tr>\n",
       "      <th>213725</th>\n",
       "      <td>fffd870c6324ad3bda24e4d6aeae221c199479086bfdfd...</td>\n",
       "      <td>0750423010</td>\n",
       "      <td>1</td>\n",
       "    </tr>\n",
       "    <tr>\n",
       "      <th>213726</th>\n",
       "      <td>fffd870c6324ad3bda24e4d6aeae221c199479086bfdfd...</td>\n",
       "      <td>0761269001</td>\n",
       "      <td>1</td>\n",
       "    </tr>\n",
       "    <tr>\n",
       "      <th>213722</th>\n",
       "      <td>fffae8eb3a282d8c43c77dd2ca0621703b71e90904dfde...</td>\n",
       "      <td>0865624003</td>\n",
       "      <td>2</td>\n",
       "    </tr>\n",
       "    <tr>\n",
       "      <th>213715</th>\n",
       "      <td>fffae8eb3a282d8c43c77dd2ca0621703b71e90904dfde...</td>\n",
       "      <td>0396135007</td>\n",
       "      <td>1</td>\n",
       "    </tr>\n",
       "    <tr>\n",
       "      <th>213716</th>\n",
       "      <td>fffae8eb3a282d8c43c77dd2ca0621703b71e90904dfde...</td>\n",
       "      <td>0715624050</td>\n",
       "      <td>1</td>\n",
       "    </tr>\n",
       "    <tr>\n",
       "      <th>213717</th>\n",
       "      <td>fffae8eb3a282d8c43c77dd2ca0621703b71e90904dfde...</td>\n",
       "      <td>0797892001</td>\n",
       "      <td>1</td>\n",
       "    </tr>\n",
       "    <tr>\n",
       "      <th>213718</th>\n",
       "      <td>fffae8eb3a282d8c43c77dd2ca0621703b71e90904dfde...</td>\n",
       "      <td>0817472003</td>\n",
       "      <td>1</td>\n",
       "    </tr>\n",
       "    <tr>\n",
       "      <th>213719</th>\n",
       "      <td>fffae8eb3a282d8c43c77dd2ca0621703b71e90904dfde...</td>\n",
       "      <td>0817472007</td>\n",
       "      <td>1</td>\n",
       "    </tr>\n",
       "    <tr>\n",
       "      <th>213720</th>\n",
       "      <td>fffae8eb3a282d8c43c77dd2ca0621703b71e90904dfde...</td>\n",
       "      <td>0826150004</td>\n",
       "      <td>1</td>\n",
       "    </tr>\n",
       "  </tbody>\n",
       "</table>\n",
       "</div>"
      ],
      "text/plain": [
       "                                              customer_id  article_id  t_count\n",
       "213727  fffef3b6b73545df065b521e19f64bf6fe93bfd450ab20...  0898573003        1\n",
       "213725  fffd870c6324ad3bda24e4d6aeae221c199479086bfdfd...  0750423010        1\n",
       "213726  fffd870c6324ad3bda24e4d6aeae221c199479086bfdfd...  0761269001        1\n",
       "213722  fffae8eb3a282d8c43c77dd2ca0621703b71e90904dfde...  0865624003        2\n",
       "213715  fffae8eb3a282d8c43c77dd2ca0621703b71e90904dfde...  0396135007        1\n",
       "213716  fffae8eb3a282d8c43c77dd2ca0621703b71e90904dfde...  0715624050        1\n",
       "213717  fffae8eb3a282d8c43c77dd2ca0621703b71e90904dfde...  0797892001        1\n",
       "213718  fffae8eb3a282d8c43c77dd2ca0621703b71e90904dfde...  0817472003        1\n",
       "213719  fffae8eb3a282d8c43c77dd2ca0621703b71e90904dfde...  0817472007        1\n",
       "213720  fffae8eb3a282d8c43c77dd2ca0621703b71e90904dfde...  0826150004        1"
      ]
     },
     "execution_count": 14,
     "metadata": {},
     "output_type": "execute_result"
    }
   ],
   "source": [
    "test_top_articles.head(10)"
   ]
  },
  {
   "cell_type": "code",
   "execution_count": 15,
   "id": "1443b0b7",
   "metadata": {
    "execution": {
     "iopub.execute_input": "2022-03-21T14:40:44.724478Z",
     "iopub.status.busy": "2022-03-21T14:40:44.723791Z",
     "iopub.status.idle": "2022-03-21T14:40:44.726468Z",
     "shell.execute_reply": "2022-03-21T14:40:44.726999Z",
     "shell.execute_reply.started": "2022-03-21T14:26:35.648079Z"
    },
    "papermill": {
     "duration": 0.07222,
     "end_time": "2022-03-21T14:40:44.727177",
     "exception": false,
     "start_time": "2022-03-21T14:40:44.654957",
     "status": "completed"
    },
    "tags": []
   },
   "outputs": [
    {
     "data": {
      "text/plain": [
       "array(['0751471001', '0706016001', '0915526001', '0751471043',\n",
       "       '0918292001', '0915529003', '0898694001', '0448509014',\n",
       "       '0863595006', '0896152002', '0850917001', '0915526002'],\n",
       "      dtype=object)"
      ]
     },
     "execution_count": 15,
     "metadata": {},
     "output_type": "execute_result"
    }
   ],
   "source": [
    "overall_top_articles"
   ]
  },
  {
   "cell_type": "markdown",
   "id": "e3a646dd",
   "metadata": {
    "papermill": {
     "duration": 0.06457,
     "end_time": "2022-03-21T14:40:44.856292",
     "exception": false,
     "start_time": "2022-03-21T14:40:44.791722",
     "status": "completed"
    },
    "tags": []
   },
   "source": [
    "### Evaluating this algorithm"
   ]
  },
  {
   "cell_type": "code",
   "execution_count": 16,
   "id": "53725d6d",
   "metadata": {
    "execution": {
     "iopub.execute_input": "2022-03-21T14:40:44.993505Z",
     "iopub.status.busy": "2022-03-21T14:40:44.992689Z",
     "iopub.status.idle": "2022-03-21T14:40:44.996169Z",
     "shell.execute_reply": "2022-03-21T14:40:44.995550Z",
     "shell.execute_reply.started": "2022-03-21T14:26:35.660610Z"
    },
    "papermill": {
     "duration": 0.074966,
     "end_time": "2022-03-21T14:40:44.996318",
     "exception": false,
     "start_time": "2022-03-21T14:40:44.921352",
     "status": "completed"
    },
    "tags": []
   },
   "outputs": [
    {
     "name": "stdout",
     "output_type": "stream",
     "text": [
      "CPU times: user 3 µs, sys: 0 ns, total: 3 µs\n",
      "Wall time: 6.44 µs\n"
     ]
    }
   ],
   "source": [
    "%%time\n",
    "\n",
    "def perform_cross_validation(): \n",
    "    preds, trues = [],[]\n",
    "    for customer in tqdm.tqdm(train_top_articles.customer_id.unique(), desc='Evaluating Simple Algorithm'):\n",
    "\n",
    "        predict_n_articles = train_top_articles[train_top_articles.customer_id.isin([customer])]['article_id'].values[:12]\n",
    "        actual_n_articles = test_top_articles[test_top_articles.customer_id.isin([customer])]['article_id'].values[:12]\n",
    "\n",
    "        if len(predict_n_articles) < 12:\n",
    "            predict_n_articles = list(predict_n_articles[:len(predict_n_articles)]) + list(overall_top_articles[:12 - len(predict_n_articles)])\n",
    "\n",
    "        preds.append(list(predict_n_articles))\n",
    "        trues.append(list(actual_n_articles))\n",
    "    return preds, trues"
   ]
  },
  {
   "cell_type": "code",
   "execution_count": 17,
   "id": "17a931b4",
   "metadata": {
    "execution": {
     "iopub.execute_input": "2022-03-21T14:40:45.150728Z",
     "iopub.status.busy": "2022-03-21T14:40:45.150061Z",
     "iopub.status.idle": "2022-03-21T14:40:45.918708Z",
     "shell.execute_reply": "2022-03-21T14:40:45.918028Z",
     "shell.execute_reply.started": "2022-03-21T14:30:54.210715Z"
    },
    "papermill": {
     "duration": 0.849436,
     "end_time": "2022-03-21T14:40:45.918828",
     "exception": false,
     "start_time": "2022-03-21T14:40:45.069392",
     "status": "completed"
    },
    "tags": []
   },
   "outputs": [],
   "source": [
    "preds = []\n",
    "trues = []\n",
    "\n",
    "if os.path.exists(r'../input/hm-trained-models/hybrid_generic/hybrid_simplealgo_actuals.pkl') and os.path.exists(r'../input/hm-trained-models/hybrid_generic/hybrid_simplealgo_preds.pkl'):\n",
    "\n",
    "    with open(r'../input/hm-trained-models/hybrid_generic/hybrid_simplealgo_actuals.pkl', 'rb') as input_file:\n",
    "        trues = pickle.load(input_file)\n",
    "    with open(r'../input/hm-trained-models/hybrid_generic/hybrid_simplealgo_preds.pkl', 'rb') as input_file:\n",
    "        preds = pickle.load(input_file)\n",
    "else:\n",
    "    preds, trues = perform_cross_validation()"
   ]
  },
  {
   "attachments": {
    "90fc0fb6-09b2-4e46-a1dc-bb7324ed4feb.png": {
     "image/png": "[encoded data removed]"
    }
   },
   "cell_type": "markdown",
   "id": "5ead0654",
   "metadata": {
    "papermill": {
     "duration": 0.042448,
     "end_time": "2022-03-21T14:40:46.003993",
     "exception": false,
     "start_time": "2022-03-21T14:40:45.961545",
     "status": "completed"
    },
    "tags": []
   },
   "source": [
    "#### Screenshot for predictions and actuals extraction\n",
    "\n",
    "![image.png](attachment:90fc0fb6-09b2-4e46-a1dc-bb7324ed4feb.png)"
   ]
  },
  {
   "cell_type": "code",
   "execution_count": 18,
   "id": "a61d32f6",
   "metadata": {
    "execution": {
     "iopub.execute_input": "2022-03-21T14:40:46.092243Z",
     "iopub.status.busy": "2022-03-21T14:40:46.091504Z",
     "iopub.status.idle": "2022-03-21T14:40:46.250007Z",
     "shell.execute_reply": "2022-03-21T14:40:46.249577Z",
     "shell.execute_reply.started": "2022-03-21T14:30:56.895779Z"
    },
    "papermill": {
     "duration": 0.203214,
     "end_time": "2022-03-21T14:40:46.250198",
     "exception": false,
     "start_time": "2022-03-21T14:40:46.046984",
     "status": "completed"
    },
    "tags": []
   },
   "outputs": [],
   "source": [
    "# Save Predictions and Actual\n",
    "with open('hybrid_simplealgo_preds.pkl', 'wb') as f:\n",
    "    pickle.dump(preds, f)\n",
    "with open('hybrid_simplealgo_actuals.pkl', 'wb') as f:\n",
    "    pickle.dump(trues, f)"
   ]
  },
  {
   "cell_type": "code",
   "execution_count": 19,
   "id": "075a6a1f",
   "metadata": {
    "execution": {
     "iopub.execute_input": "2022-03-21T14:40:46.344012Z",
     "iopub.status.busy": "2022-03-21T14:40:46.343521Z",
     "iopub.status.idle": "2022-03-21T14:40:47.060463Z",
     "shell.execute_reply": "2022-03-21T14:40:47.061021Z",
     "shell.execute_reply.started": "2022-03-21T14:30:57.255492Z"
    },
    "papermill": {
     "duration": 0.768047,
     "end_time": "2022-03-21T14:40:47.061189",
     "exception": false,
     "start_time": "2022-03-21T14:40:46.293142",
     "status": "completed"
    },
    "tags": []
   },
   "outputs": [
    {
     "name": "stdout",
     "output_type": "stream",
     "text": [
      "MAP@12 = 0.006\n"
     ]
    }
   ],
   "source": [
    "score = np.round(mapk(trues, preds, k = 12), 5)\n",
    "print(f'MAP@{12} = {score}')"
   ]
  },
  {
   "cell_type": "markdown",
   "id": "db0601c2",
   "metadata": {
    "papermill": {
     "duration": 0.042833,
     "end_time": "2022-03-21T14:40:47.148051",
     "exception": false,
     "start_time": "2022-03-21T14:40:47.105218",
     "status": "completed"
    },
    "tags": []
   },
   "source": [
    "### Getting Submission data from entire transaction data"
   ]
  },
  {
   "cell_type": "code",
   "execution_count": 20,
   "id": "24260f22",
   "metadata": {
    "execution": {
     "iopub.execute_input": "2022-03-21T14:40:47.242415Z",
     "iopub.status.busy": "2022-03-21T14:40:47.241737Z",
     "iopub.status.idle": "2022-03-21T14:40:48.365229Z",
     "shell.execute_reply": "2022-03-21T14:40:48.365703Z",
     "shell.execute_reply.started": "2022-03-21T14:30:57.858091Z"
    },
    "papermill": {
     "duration": 1.174669,
     "end_time": "2022-03-21T14:40:48.365851",
     "exception": false,
     "start_time": "2022-03-21T14:40:47.191182",
     "status": "completed"
    },
    "tags": []
   },
   "outputs": [
    {
     "name": "stdout",
     "output_type": "stream",
     "text": [
      "256355\n"
     ]
    }
   ],
   "source": [
    "purchase_dict = {}\n",
    "\n",
    "for i,x in enumerate(zip(transactions_data['customer_id'], transactions_data['article_id'])):\n",
    "    cust_id, art_id = x\n",
    "    if cust_id not in purchase_dict:\n",
    "        purchase_dict[cust_id] = {}\n",
    "    \n",
    "    if art_id not in purchase_dict[cust_id]:\n",
    "        purchase_dict[cust_id][art_id] = 0\n",
    "    \n",
    "    purchase_dict[cust_id][art_id] += 1\n",
    "    \n",
    "print(len(purchase_dict))"
   ]
  },
  {
   "cell_type": "code",
   "execution_count": 21,
   "id": "558e22db",
   "metadata": {
    "execution": {
     "iopub.execute_input": "2022-03-21T14:40:48.460817Z",
     "iopub.status.busy": "2022-03-21T14:40:48.460129Z",
     "iopub.status.idle": "2022-03-21T14:40:50.015026Z",
     "shell.execute_reply": "2022-03-21T14:40:50.015670Z",
     "shell.execute_reply.started": "2022-03-21T14:30:59.534326Z"
    },
    "papermill": {
     "duration": 1.607107,
     "end_time": "2022-03-21T14:40:50.015858",
     "exception": false,
     "start_time": "2022-03-21T14:40:48.408751",
     "status": "completed"
    },
    "tags": []
   },
   "outputs": [
    {
     "name": "stdout",
     "output_type": "stream",
     "text": [
      "(1371980, 2)\n"
     ]
    }
   ],
   "source": [
    "final_submission_data = submission_data[['customer_id']].copy()\n",
    "prediction_list = []\n",
    "top_articles_list = list((transactions_data['article_id'].value_counts()).index)[:12]\n",
    "top_prediction_string = ' '.join(top_articles_list)\n",
    "\n",
    "for i, cust_id in enumerate(submission_data['customer_id'].values.reshape((-1,))):\n",
    "    if cust_id in purchase_dict:\n",
    "        l = sorted((purchase_dict[cust_id]).items(), key=lambda x: x[1], reverse=True)\n",
    "        l = [y[0] for y in l]\n",
    "        if len(l)>12:\n",
    "            s = ' '.join(l[:12])\n",
    "        else:\n",
    "            s = ' '.join(l+top_articles_list[:(12-len(l))])\n",
    "    else:\n",
    "        s = top_prediction_string\n",
    "    prediction_list.append(s)\n",
    "\n",
    "final_submission_data['prediction'] = prediction_list\n",
    "print(final_submission_data.shape)"
   ]
  },
  {
   "cell_type": "code",
   "execution_count": 22,
   "id": "81bfeba6",
   "metadata": {
    "execution": {
     "iopub.execute_input": "2022-03-21T14:40:50.155050Z",
     "iopub.status.busy": "2022-03-21T14:40:50.154396Z",
     "iopub.status.idle": "2022-03-21T14:40:50.161044Z",
     "shell.execute_reply": "2022-03-21T14:40:50.161629Z",
     "shell.execute_reply.started": "2022-03-21T14:31:01.701514Z"
    },
    "papermill": {
     "duration": 0.076999,
     "end_time": "2022-03-21T14:40:50.161794",
     "exception": false,
     "start_time": "2022-03-21T14:40:50.084795",
     "status": "completed"
    },
    "tags": []
   },
   "outputs": [
    {
     "data": {
      "text/html": [
       "<div>\n",
       "<style scoped>\n",
       "    .dataframe tbody tr th:only-of-type {\n",
       "        vertical-align: middle;\n",
       "    }\n",
       "\n",
       "    .dataframe tbody tr th {\n",
       "        vertical-align: top;\n",
       "    }\n",
       "\n",
       "    .dataframe thead th {\n",
       "        text-align: right;\n",
       "    }\n",
       "</style>\n",
       "<table border=\"1\" class=\"dataframe\">\n",
       "  <thead>\n",
       "    <tr style=\"text-align: right;\">\n",
       "      <th></th>\n",
       "      <th>customer_id</th>\n",
       "      <th>prediction</th>\n",
       "    </tr>\n",
       "  </thead>\n",
       "  <tbody>\n",
       "    <tr>\n",
       "      <th>0</th>\n",
       "      <td>00000dbacae5abe5e23885899a1fa44253a17956c6d1c3...</td>\n",
       "      <td>0568601043 0751471001 0915529003 0915526001 09...</td>\n",
       "    </tr>\n",
       "    <tr>\n",
       "      <th>1</th>\n",
       "      <td>0000423b00ade91418cceaf3b26c6af3dd342b51fd051e...</td>\n",
       "      <td>0751471001 0915529003 0915526001 0918292001 07...</td>\n",
       "    </tr>\n",
       "    <tr>\n",
       "      <th>2</th>\n",
       "      <td>000058a12d5b43e67d225668fa1f8d618c13dc232df0ca...</td>\n",
       "      <td>0794321007 0751471001 0915529003 0915526001 09...</td>\n",
       "    </tr>\n",
       "    <tr>\n",
       "      <th>3</th>\n",
       "      <td>00005ca1c9ed5f5146b52ac8639a40ca9d57aeff4d1bd2...</td>\n",
       "      <td>0751471001 0915529003 0915526001 0918292001 07...</td>\n",
       "    </tr>\n",
       "    <tr>\n",
       "      <th>4</th>\n",
       "      <td>00006413d8573cd20ed7128e53b7b13819fe5cfc2d801f...</td>\n",
       "      <td>0751471001 0915529003 0915526001 0918292001 07...</td>\n",
       "    </tr>\n",
       "  </tbody>\n",
       "</table>\n",
       "</div>"
      ],
      "text/plain": [
       "                                         customer_id  \\\n",
       "0  00000dbacae5abe5e23885899a1fa44253a17956c6d1c3...   \n",
       "1  0000423b00ade91418cceaf3b26c6af3dd342b51fd051e...   \n",
       "2  000058a12d5b43e67d225668fa1f8d618c13dc232df0ca...   \n",
       "3  00005ca1c9ed5f5146b52ac8639a40ca9d57aeff4d1bd2...   \n",
       "4  00006413d8573cd20ed7128e53b7b13819fe5cfc2d801f...   \n",
       "\n",
       "                                          prediction  \n",
       "0  0568601043 0751471001 0915529003 0915526001 09...  \n",
       "1  0751471001 0915529003 0915526001 0918292001 07...  \n",
       "2  0794321007 0751471001 0915529003 0915526001 09...  \n",
       "3  0751471001 0915529003 0915526001 0918292001 07...  \n",
       "4  0751471001 0915529003 0915526001 0918292001 07...  "
      ]
     },
     "execution_count": 22,
     "metadata": {},
     "output_type": "execute_result"
    }
   ],
   "source": [
    "final_submission_data.head()"
   ]
  },
  {
   "cell_type": "markdown",
   "id": "2d0ac834",
   "metadata": {
    "papermill": {
     "duration": 0.067089,
     "end_time": "2022-03-21T14:40:50.296543",
     "exception": false,
     "start_time": "2022-03-21T14:40:50.229454",
     "status": "completed"
    },
    "tags": []
   },
   "source": [
    "### Writing Algo 1 Submissions"
   ]
  },
  {
   "cell_type": "code",
   "execution_count": 23,
   "id": "8cf38709",
   "metadata": {
    "execution": {
     "iopub.execute_input": "2022-03-21T14:40:50.434747Z",
     "iopub.status.busy": "2022-03-21T14:40:50.434084Z",
     "iopub.status.idle": "2022-03-21T14:40:59.764008Z",
     "shell.execute_reply": "2022-03-21T14:40:59.763280Z",
     "shell.execute_reply.started": "2022-03-21T14:31:01.713850Z"
    },
    "papermill": {
     "duration": 9.399884,
     "end_time": "2022-03-21T14:40:59.764198",
     "exception": false,
     "start_time": "2022-03-21T14:40:50.364314",
     "status": "completed"
    },
    "tags": []
   },
   "outputs": [],
   "source": [
    "final_submission_data.to_csv(\"hybrid_algo1_submission.csv\", index=False)"
   ]
  },
  {
   "cell_type": "code",
   "execution_count": 24,
   "id": "9a38f540",
   "metadata": {
    "execution": {
     "iopub.execute_input": "2022-03-21T14:40:59.905299Z",
     "iopub.status.busy": "2022-03-21T14:40:59.904697Z",
     "iopub.status.idle": "2022-03-21T14:40:59.907338Z",
     "shell.execute_reply": "2022-03-21T14:40:59.906894Z",
     "shell.execute_reply.started": "2022-03-21T14:31:12.274534Z"
    },
    "papermill": {
     "duration": 0.075548,
     "end_time": "2022-03-21T14:40:59.907451",
     "exception": false,
     "start_time": "2022-03-21T14:40:59.831903",
     "status": "completed"
    },
    "tags": []
   },
   "outputs": [
    {
     "data": {
      "text/html": [
       "<a href='hybrid_algo1_submission.csv' target='_blank'>hybrid_algo1_submission.csv</a><br>"
      ],
      "text/plain": [
       "/kaggle/working/hybrid_algo1_submission.csv"
      ]
     },
     "execution_count": 24,
     "metadata": {},
     "output_type": "execute_result"
    }
   ],
   "source": [
    "FileLink(r'hybrid_algo1_submission.csv')"
   ]
  },
  {
   "cell_type": "markdown",
   "id": "5d47dabd",
   "metadata": {
    "papermill": {
     "duration": 0.043813,
     "end_time": "2022-03-21T14:40:59.996948",
     "exception": false,
     "start_time": "2022-03-21T14:40:59.953135",
     "status": "completed"
    },
    "tags": []
   },
   "source": [
    "## Algorithm 2: Load already trained lightfm model and predict top 200 articles for each user in submission data"
   ]
  },
  {
   "cell_type": "code",
   "execution_count": 25,
   "id": "26486f7c",
   "metadata": {
    "execution": {
     "iopub.execute_input": "2022-03-21T14:41:00.091043Z",
     "iopub.status.busy": "2022-03-21T14:41:00.090458Z",
     "iopub.status.idle": "2022-03-21T14:41:07.862759Z",
     "shell.execute_reply": "2022-03-21T14:41:07.863228Z",
     "shell.execute_reply.started": "2022-03-21T14:31:12.281254Z"
    },
    "papermill": {
     "duration": 7.821431,
     "end_time": "2022-03-21T14:41:07.863392",
     "exception": false,
     "start_time": "2022-03-21T14:41:00.041961",
     "status": "completed"
    },
    "tags": []
   },
   "outputs": [],
   "source": [
    "lightfm_model_path = r'../input/hm-trained-models/lightfm_nofeatures/model_without_feature_optimized_01.pickle'\n",
    "lightfm_model = pickle.load(open(lightfm_model_path, 'rb'))"
   ]
  },
  {
   "cell_type": "code",
   "execution_count": 26,
   "id": "46e08714",
   "metadata": {
    "_kg_hide-input": true,
    "execution": {
     "iopub.execute_input": "2022-03-21T14:41:07.956916Z",
     "iopub.status.busy": "2022-03-21T14:41:07.956362Z",
     "iopub.status.idle": "2022-03-21T14:41:07.982404Z",
     "shell.execute_reply": "2022-03-21T14:41:07.982894Z",
     "shell.execute_reply.started": "2022-03-21T14:31:18.655973Z"
    },
    "papermill": {
     "duration": 0.07456,
     "end_time": "2022-03-21T14:41:07.983055",
     "exception": false,
     "start_time": "2022-03-21T14:41:07.908495",
     "status": "completed"
    },
    "tags": []
   },
   "outputs": [],
   "source": [
    "class recommendation_sampling():\n",
    "    def __init__(self, model, items = None, user_to_product_interaction_matrix = None, \n",
    "                item_features = None, user2index_map = None):\n",
    "        \n",
    "        self.user_to_product_interaction_matrix = user_to_product_interaction_matrix\n",
    "        self.item_features = item_features if item_features is not None else None\n",
    "        self.model = model\n",
    "        self.items = items\n",
    "        self.user2index_map = user2index_map\n",
    "        \n",
    "    def get_batched_recommendation(self, user, k=3, prediction_type='normal'):\n",
    "        # Getting user_indexes \n",
    "        user_index = self.user2index_map.get(user, None)\n",
    "        if user_index is None:\n",
    "            return None\n",
    "        \n",
    "        # Scores from model\n",
    "        scores = self.model.predict(user_ids = user_index, item_ids = np.arange(self.user_to_product_interaction_matrix.shape[1])) if prediction_type == 'normal' else \\\n",
    "            self.model.predict(user_ids = user_index, item_ids = np.arange(self.user_to_product_interaction_matrix.shape[1]), item_features = self.item_features)\n",
    "    \n",
    "        # Top items\n",
    "        top_items = self.items[np.argsort(-scores)][:k]\n",
    "        top_scores = np.sort(-scores)[::-1][:k]\n",
    "        \n",
    "        return top_items, top_scores\n",
    "    \n",
    "    def get_batched_recommendation_df(self, user, k=3, prediction_type='normal'):\n",
    "        # Getting user_indexes \n",
    "        user_index = self.user2index_map.get(user, None)\n",
    "        if user_index is None:\n",
    "            return None\n",
    "        \n",
    "        # Scores from model\n",
    "        scores = self.model.predict(user_ids = user_index, item_ids = np.arange(self.user_to_product_interaction_matrix.shape[1])) if prediction_type == 'normal' else \\\n",
    "            self.model.predict(user_ids = user_index, item_ids = np.arange(self.user_to_product_interaction_matrix.shape[1]), item_features = self.item_features)\n",
    "    \n",
    "        return scores\n",
    "\n",
    "def get_customers_list():\n",
    "    # Creating a list of users\n",
    "    # return np.sort(transactions_data['customer_id'].unique()) TEMP_COMMENT\n",
    "    return np.sort(customer_data['customer_id'].unique())\n",
    "\n",
    "def get_articles_list():\n",
    "    # Creating a list of courses \n",
    "    # item_list = transactions_data['article_id'].unique() TEMP_COMMENT\n",
    "    item_list = article_data['article_id'].unique()\n",
    "    return item_list\n",
    "\n",
    "def id_mappings(customers_list, articles_list):\n",
    "    \"\"\"\n",
    "    \n",
    "    Create id mappings to convert user_id, item_id, and feature_id\n",
    "    \n",
    "    \"\"\"\n",
    "    customer_to_index_mapping = {}\n",
    "    index_to_customer_mapping = {}\n",
    "    for customer_index, customer_id in enumerate(customers_list):\n",
    "        customer_to_index_mapping[customer_id] = customer_index\n",
    "        index_to_customer_mapping[customer_index] = customer_id\n",
    "        \n",
    "    article_to_index_mapping = {}\n",
    "    index_to_article_mapping = {}\n",
    "    for article_index, article_id in enumerate(articles_list):\n",
    "        article_to_index_mapping[article_id] = article_index\n",
    "        index_to_article_mapping[article_index] = article_id\n",
    "        \n",
    "    return customer_to_index_mapping, index_to_customer_mapping, \\\n",
    "           article_to_index_mapping, index_to_article_mapping\n",
    "\n",
    "def get_customer_article_interaction(customer_article_amt_df):\n",
    "    #start indexing\n",
    "    customer_article_amt_df[\"customer_id\"] = customer_article_amt_df[\"customer_id\"]\n",
    "    customer_article_amt_df[\"article_id\"] = customer_article_amt_df[\"article_id\"]\n",
    "    customer_article_amt_df[\"price\"] = customer_article_amt_df[\"price\"]\n",
    "\n",
    "    # Preprocessing dataframe created\n",
    "    customer_article_amt_df = customer_article_amt_df.rename(columns = {\"price\":\"total_amount_spent\"})\n",
    "\n",
    "    # Replace Amount Column with category codes \n",
    "    customer_article_amt_df['total_amount_spent'] = customer_article_amt_df['total_amount_spent'].astype('category')\n",
    "    customer_article_amt_df['total_amount_spent'] = customer_article_amt_df['total_amount_spent'].cat.codes\n",
    "\n",
    "    return customer_article_amt_df\n",
    "\n",
    "def get_interaction_matrix(df, df_column_as_row, df_column_as_col, \n",
    "                        df_column_as_value, row_indexing_map, col_indexing_map):\n",
    "    \n",
    "    row = df[df_column_as_row].apply(lambda x: row_indexing_map[x]).values\n",
    "    col = df[df_column_as_col].apply(lambda x: col_indexing_map[x]).values\n",
    "    value = df[df_column_as_value].values\n",
    "    \n",
    "    return sparse.coo_matrix((value, (row, col)), shape = (len(row_indexing_map), len(col_indexing_map)))"
   ]
  },
  {
   "cell_type": "code",
   "execution_count": 27,
   "id": "2451c619",
   "metadata": {
    "execution": {
     "iopub.execute_input": "2022-03-21T14:41:08.194152Z",
     "iopub.status.busy": "2022-03-21T14:41:08.074915Z",
     "iopub.status.idle": "2022-03-21T14:41:10.749497Z",
     "shell.execute_reply": "2022-03-21T14:41:10.749007Z",
     "shell.execute_reply.started": "2022-03-21T14:31:18.680116Z"
    },
    "papermill": {
     "duration": 2.72187,
     "end_time": "2022-03-21T14:41:10.749622",
     "exception": false,
     "start_time": "2022-03-21T14:41:08.027752",
     "status": "completed"
    },
    "tags": []
   },
   "outputs": [],
   "source": [
    "customers = get_customers_list()\n",
    "articles = get_articles_list()\n",
    "customer_to_index_mapping, index_to_customer_mapping, \\\n",
    "article_to_index_mapping, index_to_article_mapping = id_mappings(customers, articles)"
   ]
  },
  {
   "cell_type": "code",
   "execution_count": 28,
   "id": "e480c6c2",
   "metadata": {
    "execution": {
     "iopub.execute_input": "2022-03-21T14:41:10.898114Z",
     "iopub.status.busy": "2022-03-21T14:41:10.897510Z",
     "iopub.status.idle": "2022-03-21T14:41:13.066158Z",
     "shell.execute_reply": "2022-03-21T14:41:13.065577Z",
     "shell.execute_reply.started": "2022-03-21T14:31:21.172259Z"
    },
    "papermill": {
     "duration": 2.271852,
     "end_time": "2022-03-21T14:41:13.066297",
     "exception": false,
     "start_time": "2022-03-21T14:41:10.794445",
     "status": "completed"
    },
    "tags": []
   },
   "outputs": [],
   "source": [
    "transactions_data_grouped = transactions_data.groupby(['customer_id','article_id']).agg({'price':'sum','t_dat':'count'}).reset_index()\n",
    "transactions_data_grouped = transactions_data_grouped[['customer_id','article_id','price']]"
   ]
  },
  {
   "cell_type": "code",
   "execution_count": 29,
   "id": "024d1894",
   "metadata": {
    "execution": {
     "iopub.execute_input": "2022-03-21T14:41:13.188337Z",
     "iopub.status.busy": "2022-03-21T14:41:13.187638Z",
     "iopub.status.idle": "2022-03-21T14:41:14.228963Z",
     "shell.execute_reply": "2022-03-21T14:41:14.229503Z",
     "shell.execute_reply.started": "2022-03-21T14:31:23.190487Z"
    },
    "papermill": {
     "duration": 1.117868,
     "end_time": "2022-03-21T14:41:14.229665",
     "exception": false,
     "start_time": "2022-03-21T14:41:13.111797",
     "status": "completed"
    },
    "tags": []
   },
   "outputs": [],
   "source": [
    "customer_to_article = get_customer_article_interaction(customer_article_amt_df = transactions_data_grouped[['customer_id','article_id','price']])\n",
    "customer_to_article_interaction = get_interaction_matrix(customer_to_article, \"customer_id\", \"article_id\", \"total_amount_spent\", \\\n",
    "                                                        customer_to_index_mapping, article_to_index_mapping)            "
   ]
  },
  {
   "cell_type": "code",
   "execution_count": 30,
   "id": "b7f54a2c",
   "metadata": {
    "execution": {
     "iopub.execute_input": "2022-03-21T14:41:14.328935Z",
     "iopub.status.busy": "2022-03-21T14:41:14.328281Z",
     "iopub.status.idle": "2022-03-21T14:41:14.331085Z",
     "shell.execute_reply": "2022-03-21T14:41:14.331497Z",
     "shell.execute_reply.started": "2022-03-21T14:31:24.776167Z"
    },
    "papermill": {
     "duration": 0.05699,
     "end_time": "2022-03-21T14:41:14.331645",
     "exception": false,
     "start_time": "2022-03-21T14:41:14.274655",
     "status": "completed"
    },
    "tags": []
   },
   "outputs": [
    {
     "data": {
      "text/html": [
       "<div>\n",
       "<style scoped>\n",
       "    .dataframe tbody tr th:only-of-type {\n",
       "        vertical-align: middle;\n",
       "    }\n",
       "\n",
       "    .dataframe tbody tr th {\n",
       "        vertical-align: top;\n",
       "    }\n",
       "\n",
       "    .dataframe thead th {\n",
       "        text-align: right;\n",
       "    }\n",
       "</style>\n",
       "<table border=\"1\" class=\"dataframe\">\n",
       "  <thead>\n",
       "    <tr style=\"text-align: right;\">\n",
       "      <th></th>\n",
       "      <th>customer_id</th>\n",
       "      <th>article_id</th>\n",
       "      <th>total_amount_spent</th>\n",
       "    </tr>\n",
       "  </thead>\n",
       "  <tbody>\n",
       "    <tr>\n",
       "      <th>0</th>\n",
       "      <td>00000dbacae5abe5e23885899a1fa44253a17956c6d1c3...</td>\n",
       "      <td>0568601043</td>\n",
       "      <td>4205</td>\n",
       "    </tr>\n",
       "    <tr>\n",
       "      <th>1</th>\n",
       "      <td>000058a12d5b43e67d225668fa1f8d618c13dc232df0ca...</td>\n",
       "      <td>0794321007</td>\n",
       "      <td>4791</td>\n",
       "    </tr>\n",
       "    <tr>\n",
       "      <th>2</th>\n",
       "      <td>0000757967448a6cb83efb3ea7a3fb9d418ac7adf2379d...</td>\n",
       "      <td>0448509014</td>\n",
       "      <td>3443</td>\n",
       "    </tr>\n",
       "    <tr>\n",
       "      <th>3</th>\n",
       "      <td>0000757967448a6cb83efb3ea7a3fb9d418ac7adf2379d...</td>\n",
       "      <td>0719530003</td>\n",
       "      <td>2792</td>\n",
       "    </tr>\n",
       "    <tr>\n",
       "      <th>4</th>\n",
       "      <td>00009d946eec3ea54add5ba56d5210ea898def4b46c685...</td>\n",
       "      <td>0516859008</td>\n",
       "      <td>939</td>\n",
       "    </tr>\n",
       "  </tbody>\n",
       "</table>\n",
       "</div>"
      ],
      "text/plain": [
       "                                         customer_id  article_id  \\\n",
       "0  00000dbacae5abe5e23885899a1fa44253a17956c6d1c3...  0568601043   \n",
       "1  000058a12d5b43e67d225668fa1f8d618c13dc232df0ca...  0794321007   \n",
       "2  0000757967448a6cb83efb3ea7a3fb9d418ac7adf2379d...  0448509014   \n",
       "3  0000757967448a6cb83efb3ea7a3fb9d418ac7adf2379d...  0719530003   \n",
       "4  00009d946eec3ea54add5ba56d5210ea898def4b46c685...  0516859008   \n",
       "\n",
       "   total_amount_spent  \n",
       "0                4205  \n",
       "1                4791  \n",
       "2                3443  \n",
       "3                2792  \n",
       "4                 939  "
      ]
     },
     "execution_count": 30,
     "metadata": {},
     "output_type": "execute_result"
    }
   ],
   "source": [
    "customer_to_article.head()"
   ]
  },
  {
   "cell_type": "code",
   "execution_count": 31,
   "id": "5fa2cbf9",
   "metadata": {
    "execution": {
     "iopub.execute_input": "2022-03-21T14:41:14.427557Z",
     "iopub.status.busy": "2022-03-21T14:41:14.425088Z",
     "iopub.status.idle": "2022-03-21T14:41:14.430531Z",
     "shell.execute_reply": "2022-03-21T14:41:14.431010Z",
     "shell.execute_reply.started": "2022-03-21T14:31:24.789089Z"
    },
    "papermill": {
     "duration": 0.054035,
     "end_time": "2022-03-21T14:41:14.431180",
     "exception": false,
     "start_time": "2022-03-21T14:41:14.377145",
     "status": "completed"
    },
    "tags": []
   },
   "outputs": [
    {
     "data": {
      "text/plain": [
       "<1371980x105542 sparse matrix of type '<class 'numpy.int16'>'\n",
       "\twith 1051730 stored elements in COOrdinate format>"
      ]
     },
     "execution_count": 31,
     "metadata": {},
     "output_type": "execute_result"
    }
   ],
   "source": [
    "customer_to_article_interaction"
   ]
  },
  {
   "cell_type": "code",
   "execution_count": 32,
   "id": "e4f16da6",
   "metadata": {
    "execution": {
     "iopub.execute_input": "2022-03-21T14:41:14.524551Z",
     "iopub.status.busy": "2022-03-21T14:41:14.524035Z",
     "iopub.status.idle": "2022-03-21T14:41:14.527745Z",
     "shell.execute_reply": "2022-03-21T14:41:14.528219Z",
     "shell.execute_reply.started": "2022-03-21T14:31:24.802565Z"
    },
    "papermill": {
     "duration": 0.051932,
     "end_time": "2022-03-21T14:41:14.528349",
     "exception": false,
     "start_time": "2022-03-21T14:41:14.476417",
     "status": "completed"
    },
    "tags": []
   },
   "outputs": [],
   "source": [
    "# Sampling Recommendations\n",
    "recom_without_feature = recommendation_sampling(model = lightfm_model,\n",
    "                                               items = articles,\n",
    "                                               user_to_product_interaction_matrix = customer_to_article_interaction,\n",
    "                                               user2index_map = customer_to_index_mapping)"
   ]
  },
  {
   "cell_type": "code",
   "execution_count": 33,
   "id": "a242c995",
   "metadata": {
    "execution": {
     "iopub.execute_input": "2022-03-21T14:41:14.623927Z",
     "iopub.status.busy": "2022-03-21T14:41:14.623419Z",
     "iopub.status.idle": "2022-03-21T14:41:14.624795Z",
     "shell.execute_reply": "2022-03-21T14:41:14.625287Z",
     "shell.execute_reply.started": "2022-03-21T14:31:24.814298Z"
    },
    "papermill": {
     "duration": 0.052264,
     "end_time": "2022-03-21T14:41:14.625417",
     "exception": false,
     "start_time": "2022-03-21T14:41:14.573153",
     "status": "completed"
    },
    "tags": []
   },
   "outputs": [],
   "source": [
    "# Light FM Important Params\n",
    "n_top = 200\n",
    "lightfm_predictions_dict = {}\n",
    "lightfm_predictions_df = pd.DataFrame()\n",
    "predictions_with_df = False"
   ]
  },
  {
   "cell_type": "code",
   "execution_count": 34,
   "id": "f90ebd4a",
   "metadata": {
    "execution": {
     "iopub.execute_input": "2022-03-21T14:41:14.719636Z",
     "iopub.status.busy": "2022-03-21T14:41:14.719128Z",
     "iopub.status.idle": "2022-03-21T14:41:14.725117Z",
     "shell.execute_reply": "2022-03-21T14:41:14.725538Z",
     "shell.execute_reply.started": "2022-03-21T14:31:24.827064Z"
    },
    "papermill": {
     "duration": 0.054307,
     "end_time": "2022-03-21T14:41:14.725658",
     "exception": false,
     "start_time": "2022-03-21T14:41:14.671351",
     "status": "completed"
    },
    "tags": []
   },
   "outputs": [],
   "source": [
    "def predict_top_articles(chunk):\n",
    "    lightfm_predictions_dict = {}\n",
    "    \n",
    "    for row in tqdm.tqdm(chunk[0].values, desc='Predicting top 200 articles for each user'):\n",
    "        customer = row[0]\n",
    "        top_articles, top_scores = recom_without_feature.get_batched_recommendation(user=customer, k=200)\n",
    "        lightfm_predictions_dict[customer] = {'top_200_articles': ' '.join(map(str, top_articles)),\n",
    "                                              'top_200_scores': ' '.join(map(str, top_scores))} \n",
    "       \n",
    "    return lightfm_predictions_dict"
   ]
  },
  {
   "cell_type": "code",
   "execution_count": 35,
   "id": "b3502f8b",
   "metadata": {
    "execution": {
     "iopub.execute_input": "2022-03-21T14:41:14.819421Z",
     "iopub.status.busy": "2022-03-21T14:41:14.818822Z",
     "iopub.status.idle": "2022-03-21T14:41:14.832416Z",
     "shell.execute_reply": "2022-03-21T14:41:14.832809Z",
     "shell.execute_reply.started": "2022-03-21T14:31:24.839727Z"
    },
    "papermill": {
     "duration": 0.062272,
     "end_time": "2022-03-21T14:41:14.832962",
     "exception": false,
     "start_time": "2022-03-21T14:41:14.770690",
     "status": "completed"
    },
    "tags": []
   },
   "outputs": [],
   "source": [
    "num_cores=4\n",
    "\n",
    "def predict_top_articles_df(chunk_submission_data=None):\n",
    "    lightfm_predictions_df = pd.DataFrame()\n",
    "    \n",
    "    for customer in tqdm.tqdm(chunk_submission_data['customer_id'].unique(), desc='Predicting top 200 articles for each user'):\n",
    "\n",
    "        articles_df = pd.DataFrame(articles, columns = ['article_id'])\n",
    "        articles_df['customer_id'] = customer\n",
    "        articles_df['lightfm_score'] = recom_without_feature.get_batched_recommendation_df(customer, len(articles))\n",
    "        articles_df.sort_values('lightfm_score', ascending = False, inplace = True)\n",
    "        articles_df['lightfm_rank'] = np.arange(articles_df.shape[0])\n",
    "\n",
    "        lightfm_predictions_df = lightfm_predictions_df.append(articles_df.head(n_top))\n",
    "        \n",
    "    return lightfm_predictions_df\n",
    "\n",
    "def predict_top_200_articles(submission_data=None):\n",
    "    #splitting here by measurement id's to get all signals for a measurement into single chunk\n",
    "    customer_ids = submission_data[\"customer_id\"].unique()\n",
    "    df_split = np.array_split(customer_ids, num_cores)\n",
    "    chunk_size = len(df_split[0])\n",
    "    \n",
    "    chunk1 = create_chunk_indices(submission_data, 0, chunk_size)\n",
    "    chunk2 = create_chunk_indices(submission_data, 1, chunk_size)\n",
    "    chunk3 = create_chunk_indices(submission_data, 2, chunk_size)\n",
    "    chunk4 = create_chunk_indices(submission_data, 3, chunk_size)\n",
    "    \n",
    "    #list of items for multiprocessing, 4 since using 4 cores\n",
    "    all_chunks = [chunk1, chunk2, chunk3, chunk4]\n",
    "    \n",
    "    pool = Pool(num_cores)\n",
    "    result = pool.map(predict_top_articles, all_chunks)\n",
    "    \n",
    "    final_result_dict = copy.deepcopy(result[0])\n",
    "    \n",
    "    for item in result[1:]:\n",
    "        final_result_dict.update(item)\n",
    "    \n",
    "    return final_result_dict"
   ]
  },
  {
   "cell_type": "code",
   "execution_count": 36,
   "id": "8962fd3c",
   "metadata": {
    "_kg_hide-input": true,
    "execution": {
     "iopub.execute_input": "2022-03-21T14:41:15.010678Z",
     "iopub.status.busy": "2022-03-21T14:41:14.947425Z",
     "iopub.status.idle": "2022-03-21T14:42:03.955904Z",
     "shell.execute_reply": "2022-03-21T14:42:03.955320Z",
     "shell.execute_reply.started": "2022-03-21T14:31:24.855342Z"
    },
    "papermill": {
     "duration": 49.077746,
     "end_time": "2022-03-21T14:42:03.956061",
     "exception": false,
     "start_time": "2022-03-21T14:41:14.878315",
     "status": "completed"
    },
    "tags": []
   },
   "outputs": [
    {
     "name": "stdout",
     "output_type": "stream",
     "text": [
      "start/end 1:0,342995\n",
      "342995\n",
      "start/end 2:342995,685990\n",
      "342995\n",
      "start/end 3:685990,1028985\n",
      "342995\n",
      "start/end 4:1028985,1371980\n",
      "342995\n",
      "Reading for first chunk started\n",
      "Reading for first chunk completed\n",
      "Reading for second chunk started\n",
      "Reading for second chunk completed\n",
      "Reading for third chunk started\n",
      "Reading for third chunk completed\n",
      "Reading for fourth chunk started\n",
      "Reading for fourth chunk completed\n"
     ]
    }
   ],
   "source": [
    "from numpy import save\n",
    "\n",
    "customer_ids = submission_data[\"customer_id\"].unique()\n",
    "df_split = np.array_split(customer_ids, num_cores)\n",
    "chunk_size = len(df_split[0])\n",
    "\n",
    "chunk1 = create_chunk_indices(submission_data, 0, chunk_size)\n",
    "chunk2 = create_chunk_indices(submission_data, 1, chunk_size)\n",
    "chunk3 = create_chunk_indices(submission_data, 2, chunk_size)\n",
    "chunk4 = create_chunk_indices(submission_data, 3, chunk_size)\n",
    "\n",
    "# Getting top 200 articles for each user\n",
    "if predictions_with_df:\n",
    "    if os.path.exists(r'../input/hm-trained-models/hybrid_generic/top_200_articles_chunk_1.csv'):\n",
    "        chunk1_top_200_article_data = pd.read_csv(r'../input/hm-trained-models/hybrid_generic/top_200_articles_chunk_1.csv')\n",
    "    else:\n",
    "        print('Inferencing for first chunk started')\n",
    "        chunk1_top_200_article_data = predict_top_articles_df(chunk_submission_data = chunk1[0])\n",
    "        chunk1_top_200_article_data.to_csv('top_200_articles_chunk_1.csv', index=False)\n",
    "        FileLink(r'top_200_articles_chunk_1.csv')\n",
    "        print('Inferencing for first chunk completed')\n",
    "        \n",
    "    if os.path.exists(r'../input/hm-trained-models/hybrid_generic/top_200_articles_chunk_2.csv'):\n",
    "        chunk2_top_200_article_data = pd.read_csv(r'../input/hm-trained-models/hybrid_generic/top_200_articles_chunk_2.csv')\n",
    "    else:\n",
    "        print('Inferencing for second chunk started')\n",
    "        chunk2_top_200_article_data = predict_top_articles_df(chunk_submission_data = chunk2[0])\n",
    "        chunk2_top_200_article_data.to_csv('top_200_articles_chunk_2.csv', index=False)\n",
    "        FileLink(r'top_200_articles_chunk_2.csv')\n",
    "        print('Inferencing for second chunk completed')\n",
    "        \n",
    "    if os.path.exists(r'../input/hm-trained-models/hybrid_generic/top_200_articles_chunk_3.csv'):\n",
    "        chunk3_top_200_article_data = pd.read_csv(r'../input/hm-trained-models/hybrid_generic/top_200_articles_chunk_3.csv')\n",
    "    else:\n",
    "        print('Inferencing for third chunk started')\n",
    "        chunk3_top_200_article_data = predict_top_articles_df(chunk_submission_data = chunk3[0])\n",
    "        chunk3_top_200_article_data.to_csv('top_200_articles_chunk_3.csv', index=False)\n",
    "        FileLink(r'top_200_articles_chunk_3.csv')\n",
    "        print('Inferencing for third chunk completed')\n",
    "        \n",
    "    if os.path.exists(r'../input/hm-trained-models/hybrid_generic/top_200_articles_chunk_4.csv'):\n",
    "        chunk4_top_200_article_data = pd.read_csv(r'../input/hm-trained-models/hybrid_generic/top_200_articles_chunk_4.csv')\n",
    "    else:\n",
    "        print('Inferencing for fourth chunk started')\n",
    "        chunk4_top_200_article_data = predict_top_articles_df(chunk_submission_data = chunk4[0])\n",
    "        chunk4_top_200_article_data.to_csv('top_200_articles_chunk_4.csv', index=False)\n",
    "        FileLink(r'top_200_articles_chunk_4.csv')\n",
    "        print('Inferencing for fourth chunk completed')\n",
    "    \n",
    "    # top_200_articles_path = r'../input/hm-trained-models/hybrid_generic/top_200_articles.csv'\n",
    "    # lightfm_predictions_df = pd.read_csv(top_200_articles_path) if os.path.exists(top_200_articles_path) else predict_top_articles_df()\n",
    "else:\n",
    "    if os.path.exists(r'../input/hm-trained-models/hybrid_generic/top_200_articles_chunk_1.pkl'):\n",
    "        print('Reading for first chunk started')\n",
    "        with open(r'../input/hm-trained-models/hybrid_generic/top_200_articles_chunk_1.pkl', 'rb') as input_file:\n",
    "            chunk1_top_200_article_dict = pickle.load(input_file)\n",
    "        print('Reading for first chunk completed')\n",
    "    else:\n",
    "        print('Inferencing for first chunk started')\n",
    "        chunk1_top_200_article_dict = predict_top_articles(chunk1)\n",
    "        with open('top_200_articles_chunk_1.pkl', 'wb') as f:\n",
    "            pickle.dump(chunk1_top_200_article_dict, f)\n",
    "        print('Inferencing for first chunk completed')\n",
    "        \n",
    "    if os.path.exists(r'../input/hm-trained-models/hybrid_generic/top_200_articles_chunk_2.pkl'):\n",
    "        print('Reading for second chunk started')\n",
    "        with open(r'../input/hm-trained-models/hybrid_generic/top_200_articles_chunk_2.pkl', 'rb') as input_file:\n",
    "            chunk2_top_200_article_dict = pickle.load(input_file)\n",
    "        print('Reading for second chunk completed')\n",
    "    else:\n",
    "        print('Inferencing for second chunk started')\n",
    "        chunk2_top_200_article_dict = predict_top_articles(chunk2)\n",
    "        with open('top_200_articles_chunk_2.pkl', 'wb') as f:\n",
    "            pickle.dump(chunk2_top_200_article_dict, f)\n",
    "        print('Inferencing for second chunk completed')\n",
    "        \n",
    "    if os.path.exists(r'../input/hm-trained-models/hybrid_generic/top_200_articles_chunk_3.pkl'):\n",
    "        print('Reading for third chunk started')\n",
    "        with open(r'../input/hm-trained-models/hybrid_generic/top_200_articles_chunk_3.pkl', 'rb') as input_file:\n",
    "            chunk3_top_200_article_dict = pickle.load(input_file)\n",
    "        print('Reading for third chunk completed')\n",
    "    else:\n",
    "        print('Inferencing for third chunk started')\n",
    "        chunk3_top_200_article_dict = predict_top_articles(chunk3)\n",
    "        with open('top_200_articles_chunk_3.pkl', 'wb') as f:\n",
    "            pickle.dump(chunk3_top_200_article_dict, f)\n",
    "        print('Inferencing for third chunk completed')\n",
    "        \n",
    "    if os.path.exists(r'../input/hm-trained-models/hybrid_generic/top_200_articles_chunk_4.pkl'):\n",
    "        print('Reading for fourth chunk started')\n",
    "        with open(r'../input/hm-trained-models/hybrid_generic/top_200_articles_chunk_4.pkl', 'rb') as input_file:\n",
    "            chunk4_top_200_article_dict = pickle.load(input_file)\n",
    "        print('Reading for fourth chunk completed')\n",
    "    else:\n",
    "        print('Inferencing for fourth chunk started')\n",
    "        chunk4_top_200_article_dict = predict_top_articles(chunk4)\n",
    "        with open('top_200_articles_chunk_4.pkl', 'wb') as f:\n",
    "            pickle.dump(chunk4_top_200_article_dict, f)\n",
    "        print('Inferencing for fourth chunk completed')\n",
    "        \n",
    "    # top_200_articles_dict_path = r'../input/hm-trained-models/hybrid_generic/top_200_articles.npy'\n",
    "    # lightfm_predictions_dict = np.load(top_200_articles_dict_path) if os.path.exists(top_200_articles_dict_path) else predict_top_200_articles(submission_data)"
   ]
  },
  {
   "attachments": {
    "d95565d5-ee69-44a9-a476-ac97f00dbadd.png": {
     "image/png": "[encoded data removed]"
    }
   },
   "cell_type": "markdown",
   "id": "63563592",
   "metadata": {
    "papermill": {
     "duration": 0.072461,
     "end_time": "2022-03-21T14:42:04.100946",
     "exception": false,
     "start_time": "2022-03-21T14:42:04.028485",
     "status": "completed"
    },
    "tags": []
   },
   "source": [
    "#### Screenshot for chunk processing\n",
    "![image.png](attachment:d95565d5-ee69-44a9-a476-ac97f00dbadd.png)"
   ]
  }
 ],
 "metadata": {
  "kernelspec": {
   "display_name": "Python 3",
   "language": "python",
   "name": "python3"
  },
  "language_info": {
   "codemirror_mode": {
    "name": "ipython",
    "version": 3
   },
   "file_extension": ".py",
   "mimetype": "text/x-python",
   "name": "python",
   "nbconvert_exporter": "python",
   "pygments_lexer": "ipython3",
   "version": "3.7.12"
  },
  "papermill": {
   "default_parameters": {},
   "duration": 209.189936,
   "end_time": "2022-03-21T14:42:06.882949",
   "environment_variables": {},
   "exception": null,
   "input_path": "__notebook__.ipynb",
   "output_path": "__notebook__.ipynb",
   "parameters": {},
   "start_time": "2022-03-21T14:38:37.693013",
   "version": "2.3.3"
  }
 },
 "nbformat": 4,
 "nbformat_minor": 5
}
