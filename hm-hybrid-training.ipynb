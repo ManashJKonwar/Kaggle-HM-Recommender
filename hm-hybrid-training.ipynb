{
 "cells": [
  {
   "cell_type": "markdown",
   "id": "3bf3c589",
   "metadata": {
    "papermill": {
     "duration": 0.074572,
     "end_time": "2022-04-06T10:30:41.717135",
     "exception": false,
     "start_time": "2022-04-06T10:30:41.642563",
     "status": "completed"
    },
    "tags": []
   },
   "source": [
    "## This experiment is to apply multiple algorithms and attain the best possible MAP@12 for the problem in hand.\n",
    "\n",
    "### Approach 1\n",
    "\n",
    "**Algorithm 1:** Find the most purchased article for each user, he/she is mostly will spent similar bucks in the same item or in some other article which is similar to that.  \n",
    "This notebook will help us to get this algorithm up and running for each user in training data. I will try to get the top 12 articles which are mostly assumed to be purchased by each user. If any user has purchased less than 12 articles, we will use top selling articles to complete article list till it reaches 12 in count. \n",
    "\n",
    "I will dump the submission csv for the entire dataset using this simple algorithm.\n",
    "\n",
    "**Algorithm 2:** Use LightFM algorithm to find the relation among customer and articles which have seen no interaction in past however the customer may have a tendency to buy these unpurchased articles in future visits. This notebook is already trained and hyperparameters are also optimized based on reduced transaction dates. Store top 200 predictions for each user in training data. Please find the link to these notebooks below:  \n",
    "\n",
    "Link to Training Light FM model: https://www.kaggle.com/rickykonwar/h-m-lightfm-nofeatures  \n",
    "Link to Hyper Parameter Tuning Light FM Model: https://www.kaggle.com/rickykonwar/h-m-lightfm-nofeatures-hyperparamter-tuning/notebook\n",
    "\n",
    "### Approach 2  \n",
    "\n",
    "**Algorithm 3 (Hybrid):** Once we have set the algorithm 1 and algorithm 2 inferencing outputs, I will form the top 200 recommended articles for each user by combining the most purchases any customer has made (based on algorithm 1) and remaining 200-N will be filled up based on inferencing outputs for the same customer (based on algorithm 2). This combined data will be the base for the hybrid algorithm. On top of these, we will add customer and articles metadata features to clse on the classifier model. "
   ]
  },
  {
   "cell_type": "markdown",
   "id": "176a30be",
   "metadata": {
    "papermill": {
     "duration": 0.072953,
     "end_time": "2022-04-06T10:30:41.867616",
     "exception": false,
     "start_time": "2022-04-06T10:30:41.794663",
     "status": "completed"
    },
    "tags": []
   },
   "source": [
    "## Importing Libraries"
   ]
  },
  {
   "cell_type": "code",
   "execution_count": 1,
   "id": "ab026eba",
   "metadata": {
    "execution": {
     "iopub.execute_input": "2022-04-06T10:30:42.023724Z",
     "iopub.status.busy": "2022-04-06T10:30:42.022464Z",
     "iopub.status.idle": "2022-04-06T10:30:43.219766Z",
     "shell.execute_reply": "2022-04-06T10:30:43.219051Z",
     "shell.execute_reply.started": "2022-04-06T10:25:59.152815Z"
    },
    "papermill": {
     "duration": 1.277892,
     "end_time": "2022-04-06T10:30:43.219964",
     "exception": false,
     "start_time": "2022-04-06T10:30:41.942072",
     "status": "completed"
    },
    "tags": []
   },
   "outputs": [],
   "source": [
    "import os\n",
    "import gc\n",
    "import copy\n",
    "import time\n",
    "import tqdm\n",
    "import pickle\n",
    "import datetime\n",
    "import numpy as np\n",
    "import pandas as pd\n",
    "import scipy.sparse as sparse\n",
    "\n",
    "from multiprocessing import Pool\n",
    "from IPython.display import FileLink\n",
    "from sklearn.model_selection import train_test_split"
   ]
  },
  {
   "cell_type": "markdown",
   "id": "03f5e550",
   "metadata": {
    "papermill": {
     "duration": 0.074424,
     "end_time": "2022-04-06T10:30:43.370645",
     "exception": false,
     "start_time": "2022-04-06T10:30:43.296221",
     "status": "completed"
    },
    "tags": []
   },
   "source": [
    "## Utility Functions"
   ]
  },
  {
   "cell_type": "code",
   "execution_count": 2,
   "id": "f66db312",
   "metadata": {
    "_kg_hide-input": true,
    "_kg_hide-output": true,
    "execution": {
     "iopub.execute_input": "2022-04-06T10:30:43.525622Z",
     "iopub.status.busy": "2022-04-06T10:30:43.524919Z",
     "iopub.status.idle": "2022-04-06T10:30:43.535394Z",
     "shell.execute_reply": "2022-04-06T10:30:43.536031Z",
     "shell.execute_reply.started": "2022-04-06T10:26:00.306043Z"
    },
    "papermill": {
     "duration": 0.088487,
     "end_time": "2022-04-06T10:30:43.536215",
     "exception": false,
     "start_time": "2022-04-06T10:30:43.447728",
     "status": "completed"
    },
    "tags": []
   },
   "outputs": [],
   "source": [
    "def apk(actual, predicted, k=12):\n",
    "    '''\n",
    "    Function to get Average Precision at K\n",
    "    '''\n",
    "    if len(predicted)>k:\n",
    "        predicted = predicted[:k]\n",
    "\n",
    "    score = 0.0\n",
    "    num_hits = 0.0\n",
    "\n",
    "    for i,p in enumerate(predicted):\n",
    "        if p in actual and p not in predicted[:i]:\n",
    "            num_hits += 1.0\n",
    "            score += num_hits / (i+1.0)\n",
    "\n",
    "    if not actual:\n",
    "        return 0.0\n",
    "    \n",
    "    return score / min(len(actual), k)\n",
    "\n",
    "def mapk(actual, predicted, k=12):\n",
    "    '''\n",
    "    Function to get Mean Average Precision at K\n",
    "    '''\n",
    "    return np.mean([apk(a,p,k) for a,p in zip(actual, predicted)])\n",
    "\n",
    "def create_chunk_indices(meta_df, chunk_idx, chunk_size):\n",
    "    '''\n",
    "    Function to generate chunks of data for multiprocessing\n",
    "    '''\n",
    "    start_idx = chunk_idx * chunk_size\n",
    "    end_idx = start_idx + chunk_size\n",
    "    meta_chunk = meta_df[start_idx:end_idx]\n",
    "    print(\"start/end \"+str(chunk_idx+1)+\":\" + str(start_idx) + \",\" + str(end_idx))\n",
    "    print(len(meta_chunk))\n",
    "    #chunk_idx in return value is used to sort the processed chunks back into original order,\n",
    "    return (meta_chunk, chunk_idx)"
   ]
  },
  {
   "cell_type": "markdown",
   "id": "2ed255bd",
   "metadata": {
    "papermill": {
     "duration": 0.075412,
     "end_time": "2022-04-06T10:30:43.687042",
     "exception": false,
     "start_time": "2022-04-06T10:30:43.611630",
     "status": "completed"
    },
    "tags": []
   },
   "source": [
    "## Data Loading"
   ]
  },
  {
   "cell_type": "code",
   "execution_count": 3,
   "id": "317d6aed",
   "metadata": {
    "execution": {
     "iopub.execute_input": "2022-04-06T10:30:43.845509Z",
     "iopub.status.busy": "2022-04-06T10:30:43.844697Z",
     "iopub.status.idle": "2022-04-06T10:30:43.846562Z",
     "shell.execute_reply": "2022-04-06T10:30:43.847065Z",
     "shell.execute_reply.started": "2022-04-06T10:26:00.320834Z"
    },
    "papermill": {
     "duration": 0.082174,
     "end_time": "2022-04-06T10:30:43.847243",
     "exception": false,
     "start_time": "2022-04-06T10:30:43.765069",
     "status": "completed"
    },
    "tags": []
   },
   "outputs": [],
   "source": [
    "data_path = r'../input/h-and-m-personalized-fashion-recommendations/transactions_train.csv'\n",
    "customer_data_path = r'../input/h-and-m-personalized-fashion-recommendations/customers.csv'\n",
    "article_data_path = r'../input/h-and-m-personalized-fashion-recommendations/articles.csv'\n",
    "submission_data_path = r'../input/h-and-m-personalized-fashion-recommendations/sample_submission.csv'"
   ]
  },
  {
   "cell_type": "code",
   "execution_count": 4,
   "id": "7a2b1fe7",
   "metadata": {
    "execution": {
     "iopub.execute_input": "2022-04-06T10:30:43.997993Z",
     "iopub.status.busy": "2022-04-06T10:30:43.997293Z",
     "iopub.status.idle": "2022-04-06T10:30:44.002963Z",
     "shell.execute_reply": "2022-04-06T10:30:44.003785Z",
     "shell.execute_reply.started": "2022-04-06T10:26:00.331765Z"
    },
    "papermill": {
     "duration": 0.084698,
     "end_time": "2022-04-06T10:30:44.004122",
     "exception": false,
     "start_time": "2022-04-06T10:30:43.919424",
     "status": "completed"
    },
    "tags": []
   },
   "outputs": [],
   "source": [
    "# Data Extraction\n",
    "def create_data(data_path, data_type=None):\n",
    "    '''\n",
    "    Reads Input Files \n",
    "    \n",
    "    Parameters:\n",
    "        datapath (str): File Location for the data file to read\n",
    "        data_type (str): type of data file to read\n",
    "        \n",
    "    Returns:\n",
    "        df (pandas dataframe): Object for the file\n",
    "    '''\n",
    "    if data_type is None:\n",
    "        df = pd.read_csv(data_path)\n",
    "    elif data_type == 'transaction':\n",
    "        df = pd.read_csv(data_path, dtype={'article_id': str}, parse_dates=['t_dat'])\n",
    "    elif data_type == 'article':\n",
    "        df = pd.read_csv(data_path, dtype={'article_id': str})\n",
    "    return df"
   ]
  },
  {
   "cell_type": "code",
   "execution_count": 5,
   "id": "ca3a46f3",
   "metadata": {
    "execution": {
     "iopub.execute_input": "2022-04-06T10:30:44.162920Z",
     "iopub.status.busy": "2022-04-06T10:30:44.162120Z",
     "iopub.status.idle": "2022-04-06T10:32:13.575230Z",
     "shell.execute_reply": "2022-04-06T10:32:13.576022Z",
     "shell.execute_reply.started": "2022-04-06T10:26:00.346575Z"
    },
    "papermill": {
     "duration": 89.496833,
     "end_time": "2022-04-06T10:32:13.576300",
     "exception": false,
     "start_time": "2022-04-06T10:30:44.079467",
     "status": "completed"
    },
    "tags": []
   },
   "outputs": [
    {
     "name": "stdout",
     "output_type": "stream",
     "text": [
      "(31788324, 5)\n",
      "734-total No of unique transactions dates in data sheet\n",
      "1362281-total No of unique customers ids in data sheet\n",
      "104547-total No of unique article ids courses names in data sheet\n",
      "2-total No of unique sales channels in data sheet\n",
      "CPU times: user 1min, sys: 5.31 s, total: 1min 6s\n",
      "Wall time: 1min 29s\n"
     ]
    }
   ],
   "source": [
    "%%time\n",
    "\n",
    "# Load all sales data (for 3 years starting from 2018 to 2020)\n",
    "# ALso, article_id is treated as a string column otherwise it \n",
    "# would drop the leading zeros while reading the specific column values\n",
    "transactions_data=create_data(data_path, data_type='transaction')\n",
    "print(transactions_data.shape)\n",
    "\n",
    "# # Unique Attributes\n",
    "print(str(len(transactions_data['t_dat'].drop_duplicates())) + \"-total No of unique transactions dates in data sheet\")\n",
    "print(str(len(transactions_data['customer_id'].drop_duplicates())) + \"-total No of unique customers ids in data sheet\")\n",
    "print(str(len(transactions_data['article_id'].drop_duplicates())) + \"-total No of unique article ids courses names in data sheet\")\n",
    "print(str(len(transactions_data['sales_channel_id'].drop_duplicates())) + \"-total No of unique sales channels in data sheet\")"
   ]
  },
  {
   "cell_type": "code",
   "execution_count": 6,
   "id": "b575837f",
   "metadata": {
    "execution": {
     "iopub.execute_input": "2022-04-06T10:32:13.743921Z",
     "iopub.status.busy": "2022-04-06T10:32:13.743182Z",
     "iopub.status.idle": "2022-04-06T10:32:19.544314Z",
     "shell.execute_reply": "2022-04-06T10:32:19.545004Z",
     "shell.execute_reply.started": "2022-04-06T10:27:37.707395Z"
    },
    "papermill": {
     "duration": 5.883259,
     "end_time": "2022-04-06T10:32:19.545210",
     "exception": false,
     "start_time": "2022-04-06T10:32:13.661951",
     "status": "completed"
    },
    "tags": []
   },
   "outputs": [
    {
     "name": "stdout",
     "output_type": "stream",
     "text": [
      "(1371980, 7)\n",
      "1371980-total No of unique customers ids in customer data sheet\n",
      "CPU times: user 3.97 s, sys: 395 ms, total: 4.36 s\n",
      "Wall time: 5.8 s\n"
     ]
    }
   ],
   "source": [
    "%%time\n",
    "\n",
    "# Load all Customers\n",
    "customer_data=create_data(customer_data_path)\n",
    "print(customer_data.shape)\n",
    "\n",
    "print(str(len(customer_data['customer_id'].drop_duplicates())) + \"-total No of unique customers ids in customer data sheet\")"
   ]
  },
  {
   "cell_type": "code",
   "execution_count": 7,
   "id": "bac4fabe",
   "metadata": {
    "execution": {
     "iopub.execute_input": "2022-04-06T10:32:19.703722Z",
     "iopub.status.busy": "2022-04-06T10:32:19.703049Z",
     "iopub.status.idle": "2022-04-06T10:32:20.874142Z",
     "shell.execute_reply": "2022-04-06T10:32:20.874682Z",
     "shell.execute_reply.started": "2022-04-06T10:27:44.473724Z"
    },
    "papermill": {
     "duration": 1.253615,
     "end_time": "2022-04-06T10:32:20.874872",
     "exception": false,
     "start_time": "2022-04-06T10:32:19.621257",
     "status": "completed"
    },
    "tags": []
   },
   "outputs": [
    {
     "name": "stdout",
     "output_type": "stream",
     "text": [
      "(105542, 25)\n",
      "105542-total No of unique article ids in article data sheet\n",
      "CPU times: user 849 ms, sys: 30.9 ms, total: 880 ms\n",
      "Wall time: 1.17 s\n"
     ]
    }
   ],
   "source": [
    "%%time\n",
    "\n",
    "# Load all Articles\n",
    "article_data=create_data(article_data_path, data_type='article')\n",
    "print(article_data.shape)\n",
    "\n",
    "print(str(len(article_data['article_id'].drop_duplicates())) + \"-total No of unique article ids in article data sheet\")"
   ]
  },
  {
   "cell_type": "code",
   "execution_count": 8,
   "id": "fe46864a",
   "metadata": {
    "execution": {
     "iopub.execute_input": "2022-04-06T10:32:21.037870Z",
     "iopub.status.busy": "2022-04-06T10:32:21.037044Z",
     "iopub.status.idle": "2022-04-06T10:32:26.291512Z",
     "shell.execute_reply": "2022-04-06T10:32:26.290743Z",
     "shell.execute_reply.started": "2022-04-06T10:27:45.625827Z"
    },
    "papermill": {
     "duration": 5.340226,
     "end_time": "2022-04-06T10:32:26.291719",
     "exception": false,
     "start_time": "2022-04-06T10:32:20.951493",
     "status": "completed"
    },
    "tags": []
   },
   "outputs": [
    {
     "name": "stdout",
     "output_type": "stream",
     "text": [
      "(1371980, 2)\n",
      "1371980-total No of unique customer ids in submission data sheet\n",
      "CPU times: user 3.14 s, sys: 306 ms, total: 3.45 s\n",
      "Wall time: 5.25 s\n"
     ]
    }
   ],
   "source": [
    "%%time\n",
    "\n",
    "# Load all submission samples data\n",
    "submission_data=create_data(submission_data_path)\n",
    "print(submission_data.shape)\n",
    "\n",
    "print(str(len(submission_data['customer_id'].drop_duplicates())) + \"-total No of unique customer ids in submission data sheet\")"
   ]
  },
  {
   "cell_type": "markdown",
   "id": "a1543818",
   "metadata": {
    "papermill": {
     "duration": 0.080223,
     "end_time": "2022-04-06T10:32:26.450798",
     "exception": false,
     "start_time": "2022-04-06T10:32:26.370575",
     "status": "completed"
    },
    "tags": []
   },
   "source": [
    "## Capturing Seasonal Effect by Limiting the transaction date\n",
    "Based on notebook with link: https://www.kaggle.com/tomooinubushi/folk-of-time-is-our-best-friend/notebook"
   ]
  },
  {
   "cell_type": "code",
   "execution_count": 9,
   "id": "8a680d5e",
   "metadata": {
    "execution": {
     "iopub.execute_input": "2022-04-06T10:32:26.608636Z",
     "iopub.status.busy": "2022-04-06T10:32:26.607862Z",
     "iopub.status.idle": "2022-04-06T10:32:27.538302Z",
     "shell.execute_reply": "2022-04-06T10:32:27.537727Z",
     "shell.execute_reply.started": "2022-04-06T10:27:51.355888Z"
    },
    "papermill": {
     "duration": 1.011054,
     "end_time": "2022-04-06T10:32:27.538458",
     "exception": false,
     "start_time": "2022-04-06T10:32:26.527404",
     "status": "completed"
    },
    "tags": []
   },
   "outputs": [
    {
     "data": {
      "text/plain": [
       "(1190911, 5)"
      ]
     },
     "execution_count": 9,
     "metadata": {},
     "output_type": "execute_result"
    }
   ],
   "source": [
    "transactions_data = transactions_data[transactions_data['t_dat'] > '2020-08-21']\n",
    "transactions_data.shape"
   ]
  },
  {
   "cell_type": "markdown",
   "id": "08c385f1",
   "metadata": {
    "papermill": {
     "duration": 0.079252,
     "end_time": "2022-04-06T10:32:27.695324",
     "exception": false,
     "start_time": "2022-04-06T10:32:27.616072",
     "status": "completed"
    },
    "tags": []
   },
   "source": [
    "## Splitting transaction data to training and validation set"
   ]
  },
  {
   "cell_type": "code",
   "execution_count": 10,
   "id": "15cd7127",
   "metadata": {
    "execution": {
     "iopub.execute_input": "2022-04-06T10:32:27.868436Z",
     "iopub.status.busy": "2022-04-06T10:32:27.867737Z",
     "iopub.status.idle": "2022-04-06T10:32:27.984078Z",
     "shell.execute_reply": "2022-04-06T10:32:27.983463Z",
     "shell.execute_reply.started": "2022-04-06T10:27:52.270213Z"
    },
    "papermill": {
     "duration": 0.206672,
     "end_time": "2022-04-06T10:32:27.984222",
     "exception": false,
     "start_time": "2022-04-06T10:32:27.777550",
     "status": "completed"
    },
    "tags": []
   },
   "outputs": [
    {
     "name": "stdout",
     "output_type": "stream",
     "text": [
      "(950600, 5)\n",
      "(240311, 5)\n"
     ]
    }
   ],
   "source": [
    "train_start_date = transactions_data.t_dat.min()\n",
    "split_date = transactions_data.t_dat.max() - datetime.timedelta(days = 7)\n",
    "train_transaction_data = transactions_data[(transactions_data.t_dat <= split_date) & (transactions_data.t_dat >= train_start_date)].copy()\n",
    "test_transaction_data = transactions_data[transactions_data.t_dat > split_date].copy()\n",
    "\n",
    "print(train_transaction_data.shape)\n",
    "print(test_transaction_data.shape)"
   ]
  },
  {
   "cell_type": "code",
   "execution_count": 11,
   "id": "c7539789",
   "metadata": {
    "execution": {
     "iopub.execute_input": "2022-04-06T10:32:28.166569Z",
     "iopub.status.busy": "2022-04-06T10:32:28.165862Z",
     "iopub.status.idle": "2022-04-06T10:32:29.801685Z",
     "shell.execute_reply": "2022-04-06T10:32:29.801101Z",
     "shell.execute_reply.started": "2022-04-06T10:27:52.420071Z"
    },
    "papermill": {
     "duration": 1.738371,
     "end_time": "2022-04-06T10:32:29.801827",
     "exception": false,
     "start_time": "2022-04-06T10:32:28.063456",
     "status": "completed"
    },
    "tags": []
   },
   "outputs": [],
   "source": [
    "train_transaction_data = train_transaction_data.groupby(['customer_id','article_id']).agg({'t_dat':'count'}).reset_index()\n",
    "test_transaction_data = test_transaction_data.groupby(['customer_id','article_id']).agg({'t_dat':'count'}).reset_index()\n",
    "\n",
    "train_transaction_data.rename({'t_dat': 't_count'}, axis=1, inplace=True)\n",
    "test_transaction_data.rename({'t_dat': 't_count'}, axis=1, inplace=True)"
   ]
  },
  {
   "cell_type": "markdown",
   "id": "b78cfb93",
   "metadata": {
    "papermill": {
     "duration": 0.081376,
     "end_time": "2022-04-06T10:32:29.962553",
     "exception": false,
     "start_time": "2022-04-06T10:32:29.881177",
     "status": "completed"
    },
    "tags": []
   },
   "source": [
    "## Algorithm 1: Extracting Topmost articles for each user based on number of purchase made"
   ]
  },
  {
   "cell_type": "code",
   "execution_count": 12,
   "id": "2dc92ece",
   "metadata": {
    "execution": {
     "iopub.execute_input": "2022-04-06T10:32:30.134782Z",
     "iopub.status.busy": "2022-04-06T10:32:30.134066Z",
     "iopub.status.idle": "2022-04-06T10:32:32.042188Z",
     "shell.execute_reply": "2022-04-06T10:32:32.041557Z",
     "shell.execute_reply.started": "2022-04-06T10:27:54.113956Z"
    },
    "papermill": {
     "duration": 1.993982,
     "end_time": "2022-04-06T10:32:32.042354",
     "exception": false,
     "start_time": "2022-04-06T10:32:30.048372",
     "status": "completed"
    },
    "tags": []
   },
   "outputs": [],
   "source": [
    "train_val_merge_transaction_data = train_transaction_data[train_transaction_data.article_id.isin(test_transaction_data.article_id.unique())] \n",
    "train_top_articles = train_val_merge_transaction_data.sort_values(['customer_id', 't_count'], ascending=False).groupby(['customer_id']).head(12)\n",
    "test_top_articles = test_transaction_data.sort_values(['customer_id', 't_count'], ascending=False).groupby(['customer_id']).head(12)\n",
    "\n",
    "# Overall highly sold articles\n",
    "overall_top_articles = train_top_articles.groupby(['article_id'], as_index = False)['t_count'].sum().sort_values(['t_count'])['article_id'][-12:].values\n",
    "overall_top_articles = overall_top_articles[::-1]"
   ]
  },
  {
   "cell_type": "code",
   "execution_count": 13,
   "id": "e7db79c1",
   "metadata": {
    "execution": {
     "iopub.execute_input": "2022-04-06T10:32:32.212771Z",
     "iopub.status.busy": "2022-04-06T10:32:32.211761Z",
     "iopub.status.idle": "2022-04-06T10:32:32.224502Z",
     "shell.execute_reply": "2022-04-06T10:32:32.225096Z",
     "shell.execute_reply.started": "2022-04-06T10:27:56.065546Z"
    },
    "papermill": {
     "duration": 0.100679,
     "end_time": "2022-04-06T10:32:32.225283",
     "exception": false,
     "start_time": "2022-04-06T10:32:32.124604",
     "status": "completed"
    },
    "tags": []
   },
   "outputs": [
    {
     "data": {
      "text/html": [
       "<div>\n",
       "<style scoped>\n",
       "    .dataframe tbody tr th:only-of-type {\n",
       "        vertical-align: middle;\n",
       "    }\n",
       "\n",
       "    .dataframe tbody tr th {\n",
       "        vertical-align: top;\n",
       "    }\n",
       "\n",
       "    .dataframe thead th {\n",
       "        text-align: right;\n",
       "    }\n",
       "</style>\n",
       "<table border=\"1\" class=\"dataframe\">\n",
       "  <thead>\n",
       "    <tr style=\"text-align: right;\">\n",
       "      <th></th>\n",
       "      <th>customer_id</th>\n",
       "      <th>article_id</th>\n",
       "      <th>t_count</th>\n",
       "    </tr>\n",
       "  </thead>\n",
       "  <tbody>\n",
       "    <tr>\n",
       "      <th>842892</th>\n",
       "      <td>ffffcf35913a0bee60e8741cb2b4e78b8a98ee5ff2e6a1...</td>\n",
       "      <td>0689365050</td>\n",
       "      <td>1</td>\n",
       "    </tr>\n",
       "    <tr>\n",
       "      <th>842893</th>\n",
       "      <td>ffffcf35913a0bee60e8741cb2b4e78b8a98ee5ff2e6a1...</td>\n",
       "      <td>0762846027</td>\n",
       "      <td>1</td>\n",
       "    </tr>\n",
       "    <tr>\n",
       "      <th>842894</th>\n",
       "      <td>ffffcf35913a0bee60e8741cb2b4e78b8a98ee5ff2e6a1...</td>\n",
       "      <td>0794819001</td>\n",
       "      <td>1</td>\n",
       "    </tr>\n",
       "    <tr>\n",
       "      <th>842895</th>\n",
       "      <td>ffffcf35913a0bee60e8741cb2b4e78b8a98ee5ff2e6a1...</td>\n",
       "      <td>0884081001</td>\n",
       "      <td>1</td>\n",
       "    </tr>\n",
       "    <tr>\n",
       "      <th>842886</th>\n",
       "      <td>ffffbbf78b6eaac697a8a5dfbfd2bfa8113ee5b403e474...</td>\n",
       "      <td>0557599022</td>\n",
       "      <td>1</td>\n",
       "    </tr>\n",
       "    <tr>\n",
       "      <th>842887</th>\n",
       "      <td>ffffbbf78b6eaac697a8a5dfbfd2bfa8113ee5b403e474...</td>\n",
       "      <td>0713997002</td>\n",
       "      <td>1</td>\n",
       "    </tr>\n",
       "    <tr>\n",
       "      <th>842888</th>\n",
       "      <td>ffffbbf78b6eaac697a8a5dfbfd2bfa8113ee5b403e474...</td>\n",
       "      <td>0720125039</td>\n",
       "      <td>1</td>\n",
       "    </tr>\n",
       "    <tr>\n",
       "      <th>842889</th>\n",
       "      <td>ffffbbf78b6eaac697a8a5dfbfd2bfa8113ee5b403e474...</td>\n",
       "      <td>0740922009</td>\n",
       "      <td>1</td>\n",
       "    </tr>\n",
       "    <tr>\n",
       "      <th>842890</th>\n",
       "      <td>ffffbbf78b6eaac697a8a5dfbfd2bfa8113ee5b403e474...</td>\n",
       "      <td>0791587007</td>\n",
       "      <td>1</td>\n",
       "    </tr>\n",
       "    <tr>\n",
       "      <th>842891</th>\n",
       "      <td>ffffbbf78b6eaac697a8a5dfbfd2bfa8113ee5b403e474...</td>\n",
       "      <td>0804992033</td>\n",
       "      <td>1</td>\n",
       "    </tr>\n",
       "  </tbody>\n",
       "</table>\n",
       "</div>"
      ],
      "text/plain": [
       "                                              customer_id  article_id  t_count\n",
       "842892  ffffcf35913a0bee60e8741cb2b4e78b8a98ee5ff2e6a1...  0689365050        1\n",
       "842893  ffffcf35913a0bee60e8741cb2b4e78b8a98ee5ff2e6a1...  0762846027        1\n",
       "842894  ffffcf35913a0bee60e8741cb2b4e78b8a98ee5ff2e6a1...  0794819001        1\n",
       "842895  ffffcf35913a0bee60e8741cb2b4e78b8a98ee5ff2e6a1...  0884081001        1\n",
       "842886  ffffbbf78b6eaac697a8a5dfbfd2bfa8113ee5b403e474...  0557599022        1\n",
       "842887  ffffbbf78b6eaac697a8a5dfbfd2bfa8113ee5b403e474...  0713997002        1\n",
       "842888  ffffbbf78b6eaac697a8a5dfbfd2bfa8113ee5b403e474...  0720125039        1\n",
       "842889  ffffbbf78b6eaac697a8a5dfbfd2bfa8113ee5b403e474...  0740922009        1\n",
       "842890  ffffbbf78b6eaac697a8a5dfbfd2bfa8113ee5b403e474...  0791587007        1\n",
       "842891  ffffbbf78b6eaac697a8a5dfbfd2bfa8113ee5b403e474...  0804992033        1"
      ]
     },
     "execution_count": 13,
     "metadata": {},
     "output_type": "execute_result"
    }
   ],
   "source": [
    "train_top_articles.head(10)"
   ]
  },
  {
   "cell_type": "code",
   "execution_count": 14,
   "id": "9446784d",
   "metadata": {
    "execution": {
     "iopub.execute_input": "2022-04-06T10:32:32.395406Z",
     "iopub.status.busy": "2022-04-06T10:32:32.387729Z",
     "iopub.status.idle": "2022-04-06T10:32:32.398046Z",
     "shell.execute_reply": "2022-04-06T10:32:32.398633Z",
     "shell.execute_reply.started": "2022-04-06T10:27:56.085216Z"
    },
    "papermill": {
     "duration": 0.093462,
     "end_time": "2022-04-06T10:32:32.398816",
     "exception": false,
     "start_time": "2022-04-06T10:32:32.305354",
     "status": "completed"
    },
    "tags": []
   },
   "outputs": [
    {
     "data": {
      "text/html": [
       "<div>\n",
       "<style scoped>\n",
       "    .dataframe tbody tr th:only-of-type {\n",
       "        vertical-align: middle;\n",
       "    }\n",
       "\n",
       "    .dataframe tbody tr th {\n",
       "        vertical-align: top;\n",
       "    }\n",
       "\n",
       "    .dataframe thead th {\n",
       "        text-align: right;\n",
       "    }\n",
       "</style>\n",
       "<table border=\"1\" class=\"dataframe\">\n",
       "  <thead>\n",
       "    <tr style=\"text-align: right;\">\n",
       "      <th></th>\n",
       "      <th>customer_id</th>\n",
       "      <th>article_id</th>\n",
       "      <th>t_count</th>\n",
       "    </tr>\n",
       "  </thead>\n",
       "  <tbody>\n",
       "    <tr>\n",
       "      <th>213727</th>\n",
       "      <td>fffef3b6b73545df065b521e19f64bf6fe93bfd450ab20...</td>\n",
       "      <td>0898573003</td>\n",
       "      <td>1</td>\n",
       "    </tr>\n",
       "    <tr>\n",
       "      <th>213725</th>\n",
       "      <td>fffd870c6324ad3bda24e4d6aeae221c199479086bfdfd...</td>\n",
       "      <td>0750423010</td>\n",
       "      <td>1</td>\n",
       "    </tr>\n",
       "    <tr>\n",
       "      <th>213726</th>\n",
       "      <td>fffd870c6324ad3bda24e4d6aeae221c199479086bfdfd...</td>\n",
       "      <td>0761269001</td>\n",
       "      <td>1</td>\n",
       "    </tr>\n",
       "    <tr>\n",
       "      <th>213722</th>\n",
       "      <td>fffae8eb3a282d8c43c77dd2ca0621703b71e90904dfde...</td>\n",
       "      <td>0865624003</td>\n",
       "      <td>2</td>\n",
       "    </tr>\n",
       "    <tr>\n",
       "      <th>213715</th>\n",
       "      <td>fffae8eb3a282d8c43c77dd2ca0621703b71e90904dfde...</td>\n",
       "      <td>0396135007</td>\n",
       "      <td>1</td>\n",
       "    </tr>\n",
       "    <tr>\n",
       "      <th>213716</th>\n",
       "      <td>fffae8eb3a282d8c43c77dd2ca0621703b71e90904dfde...</td>\n",
       "      <td>0715624050</td>\n",
       "      <td>1</td>\n",
       "    </tr>\n",
       "    <tr>\n",
       "      <th>213717</th>\n",
       "      <td>fffae8eb3a282d8c43c77dd2ca0621703b71e90904dfde...</td>\n",
       "      <td>0797892001</td>\n",
       "      <td>1</td>\n",
       "    </tr>\n",
       "    <tr>\n",
       "      <th>213718</th>\n",
       "      <td>fffae8eb3a282d8c43c77dd2ca0621703b71e90904dfde...</td>\n",
       "      <td>0817472003</td>\n",
       "      <td>1</td>\n",
       "    </tr>\n",
       "    <tr>\n",
       "      <th>213719</th>\n",
       "      <td>fffae8eb3a282d8c43c77dd2ca0621703b71e90904dfde...</td>\n",
       "      <td>0817472007</td>\n",
       "      <td>1</td>\n",
       "    </tr>\n",
       "    <tr>\n",
       "      <th>213720</th>\n",
       "      <td>fffae8eb3a282d8c43c77dd2ca0621703b71e90904dfde...</td>\n",
       "      <td>0826150004</td>\n",
       "      <td>1</td>\n",
       "    </tr>\n",
       "  </tbody>\n",
       "</table>\n",
       "</div>"
      ],
      "text/plain": [
       "                                              customer_id  article_id  t_count\n",
       "213727  fffef3b6b73545df065b521e19f64bf6fe93bfd450ab20...  0898573003        1\n",
       "213725  fffd870c6324ad3bda24e4d6aeae221c199479086bfdfd...  0750423010        1\n",
       "213726  fffd870c6324ad3bda24e4d6aeae221c199479086bfdfd...  0761269001        1\n",
       "213722  fffae8eb3a282d8c43c77dd2ca0621703b71e90904dfde...  0865624003        2\n",
       "213715  fffae8eb3a282d8c43c77dd2ca0621703b71e90904dfde...  0396135007        1\n",
       "213716  fffae8eb3a282d8c43c77dd2ca0621703b71e90904dfde...  0715624050        1\n",
       "213717  fffae8eb3a282d8c43c77dd2ca0621703b71e90904dfde...  0797892001        1\n",
       "213718  fffae8eb3a282d8c43c77dd2ca0621703b71e90904dfde...  0817472003        1\n",
       "213719  fffae8eb3a282d8c43c77dd2ca0621703b71e90904dfde...  0817472007        1\n",
       "213720  fffae8eb3a282d8c43c77dd2ca0621703b71e90904dfde...  0826150004        1"
      ]
     },
     "execution_count": 14,
     "metadata": {},
     "output_type": "execute_result"
    }
   ],
   "source": [
    "test_top_articles.head(10)"
   ]
  },
  {
   "cell_type": "code",
   "execution_count": 15,
   "id": "7aa1fad7",
   "metadata": {
    "execution": {
     "iopub.execute_input": "2022-04-06T10:32:32.575048Z",
     "iopub.status.busy": "2022-04-06T10:32:32.574261Z",
     "iopub.status.idle": "2022-04-06T10:32:32.579889Z",
     "shell.execute_reply": "2022-04-06T10:32:32.580426Z",
     "shell.execute_reply.started": "2022-04-06T10:27:56.098297Z"
    },
    "papermill": {
     "duration": 0.095419,
     "end_time": "2022-04-06T10:32:32.580606",
     "exception": false,
     "start_time": "2022-04-06T10:32:32.485187",
     "status": "completed"
    },
    "tags": []
   },
   "outputs": [
    {
     "data": {
      "text/plain": [
       "array(['0751471001', '0706016001', '0915526001', '0751471043',\n",
       "       '0918292001', '0915529003', '0898694001', '0448509014',\n",
       "       '0863595006', '0896152002', '0850917001', '0915526002'],\n",
       "      dtype=object)"
      ]
     },
     "execution_count": 15,
     "metadata": {},
     "output_type": "execute_result"
    }
   ],
   "source": [
    "overall_top_articles"
   ]
  },
  {
   "cell_type": "markdown",
   "id": "a0003545",
   "metadata": {
    "papermill": {
     "duration": 0.081254,
     "end_time": "2022-04-06T10:32:32.745776",
     "exception": false,
     "start_time": "2022-04-06T10:32:32.664522",
     "status": "completed"
    },
    "tags": []
   },
   "source": [
    "### Evaluating this algorithm"
   ]
  },
  {
   "cell_type": "code",
   "execution_count": 16,
   "id": "14705091",
   "metadata": {
    "execution": {
     "iopub.execute_input": "2022-04-06T10:32:32.917562Z",
     "iopub.status.busy": "2022-04-06T10:32:32.916565Z",
     "iopub.status.idle": "2022-04-06T10:32:32.924923Z",
     "shell.execute_reply": "2022-04-06T10:32:32.925587Z",
     "shell.execute_reply.started": "2022-04-06T10:27:56.115045Z"
    },
    "papermill": {
     "duration": 0.096513,
     "end_time": "2022-04-06T10:32:32.925761",
     "exception": false,
     "start_time": "2022-04-06T10:32:32.829248",
     "status": "completed"
    },
    "tags": []
   },
   "outputs": [
    {
     "name": "stdout",
     "output_type": "stream",
     "text": [
      "CPU times: user 5 µs, sys: 0 ns, total: 5 µs\n",
      "Wall time: 8.82 µs\n"
     ]
    }
   ],
   "source": [
    "%%time\n",
    "\n",
    "def perform_cross_validation(): \n",
    "    '''\n",
    "    Performs Cross Validation for training and test transactions separated by 1 week\n",
    "    \n",
    "    Parameters:\n",
    "        None\n",
    "        \n",
    "    Returns:\n",
    "        preds (str, list): list of articles that have been predicted\n",
    "        trues (str, list); list of articles that have actually been bought\n",
    "    '''\n",
    "    preds, trues = [],[]\n",
    "    for customer in tqdm.tqdm(train_top_articles.customer_id.unique(), desc='Evaluating Simple Algorithm'):\n",
    "\n",
    "        predict_n_articles = train_top_articles[train_top_articles.customer_id.isin([customer])]['article_id'].values[:12]\n",
    "        actual_n_articles = test_top_articles[test_top_articles.customer_id.isin([customer])]['article_id'].values[:12]\n",
    "\n",
    "        if len(predict_n_articles) < 12:\n",
    "            predict_n_articles = list(predict_n_articles[:len(predict_n_articles)]) + list(overall_top_articles[:12 - len(predict_n_articles)])\n",
    "\n",
    "        preds.append(list(predict_n_articles))\n",
    "        trues.append(list(actual_n_articles))\n",
    "    return preds, trues"
   ]
  },
  {
   "cell_type": "code",
   "execution_count": 17,
   "id": "76a57f78",
   "metadata": {
    "execution": {
     "iopub.execute_input": "2022-04-06T10:32:33.100495Z",
     "iopub.status.busy": "2022-04-06T10:32:33.099752Z",
     "iopub.status.idle": "2022-04-06T10:32:33.974278Z",
     "shell.execute_reply": "2022-04-06T10:32:33.973610Z",
     "shell.execute_reply.started": "2022-04-06T10:27:56.128744Z"
    },
    "papermill": {
     "duration": 0.965938,
     "end_time": "2022-04-06T10:32:33.974423",
     "exception": false,
     "start_time": "2022-04-06T10:32:33.008485",
     "status": "completed"
    },
    "tags": []
   },
   "outputs": [],
   "source": [
    "preds = []\n",
    "trues = []\n",
    "\n",
    "if os.path.exists(r'../input/hm-trained-models/hybrid_generic/hybrid_simplealgo_actuals.pkl') and os.path.exists(r'../input/hm-trained-models/hybrid_generic/hybrid_simplealgo_preds.pkl'):\n",
    "\n",
    "    with open(r'../input/hm-trained-models/hybrid_generic/hybrid_simplealgo_actuals.pkl', 'rb') as input_file:\n",
    "        trues = pickle.load(input_file)\n",
    "    with open(r'../input/hm-trained-models/hybrid_generic/hybrid_simplealgo_preds.pkl', 'rb') as input_file:\n",
    "        preds = pickle.load(input_file)\n",
    "else:\n",
    "    preds, trues = perform_cross_validation()"
   ]
  },
  {
   "attachments": {
    "90fc0fb6-09b2-4e46-a1dc-bb7324ed4feb.png": {
     "image/png": "[encoded data removed]"
    }
   },
   "cell_type": "markdown",
   "id": "4365b893",
   "metadata": {
    "papermill": {
     "duration": 0.08218,
     "end_time": "2022-04-06T10:32:34.137805",
     "exception": false,
     "start_time": "2022-04-06T10:32:34.055625",
     "status": "completed"
    },
    "tags": []
   },
   "source": [
    "#### Screenshot for predictions and actuals extraction\n",
    "\n",
    "![image.png](attachment:90fc0fb6-09b2-4e46-a1dc-bb7324ed4feb.png)"
   ]
  },
  {
   "cell_type": "code",
   "execution_count": 18,
   "id": "e3631a01",
   "metadata": {
    "execution": {
     "iopub.execute_input": "2022-04-06T10:32:34.307072Z",
     "iopub.status.busy": "2022-04-06T10:32:34.306235Z",
     "iopub.status.idle": "2022-04-06T10:32:34.664550Z",
     "shell.execute_reply": "2022-04-06T10:32:34.665188Z",
     "shell.execute_reply.started": "2022-04-06T10:27:57.071163Z"
    },
    "papermill": {
     "duration": 0.444227,
     "end_time": "2022-04-06T10:32:34.665376",
     "exception": false,
     "start_time": "2022-04-06T10:32:34.221149",
     "status": "completed"
    },
    "tags": []
   },
   "outputs": [],
   "source": [
    "# Save Predictions and Actual\n",
    "with open('hybrid_simplealgo_preds.pkl', 'wb') as f:\n",
    "    pickle.dump(preds, f)\n",
    "with open('hybrid_simplealgo_actuals.pkl', 'wb') as f:\n",
    "    pickle.dump(trues, f)"
   ]
  },
  {
   "cell_type": "code",
   "execution_count": 19,
   "id": "2f172d74",
   "metadata": {
    "execution": {
     "iopub.execute_input": "2022-04-06T10:32:34.838507Z",
     "iopub.status.busy": "2022-04-06T10:32:34.837785Z",
     "iopub.status.idle": "2022-04-06T10:32:35.269099Z",
     "shell.execute_reply": "2022-04-06T10:32:35.269625Z",
     "shell.execute_reply.started": "2022-04-06T10:27:57.429593Z"
    },
    "papermill": {
     "duration": 0.522726,
     "end_time": "2022-04-06T10:32:35.269795",
     "exception": false,
     "start_time": "2022-04-06T10:32:34.747069",
     "status": "completed"
    },
    "tags": []
   },
   "outputs": [
    {
     "name": "stdout",
     "output_type": "stream",
     "text": [
      "MAP@12 = 0.00606\n"
     ]
    }
   ],
   "source": [
    "score = np.round(mapk(trues, preds, k = 12), 5)\n",
    "print(f'MAP@{12} = {score}')"
   ]
  },
  {
   "cell_type": "markdown",
   "id": "ae32848e",
   "metadata": {
    "papermill": {
     "duration": 0.083893,
     "end_time": "2022-04-06T10:32:35.432608",
     "exception": false,
     "start_time": "2022-04-06T10:32:35.348715",
     "status": "completed"
    },
    "tags": []
   },
   "source": [
    "### Getting Submission data from entire transaction data"
   ]
  },
  {
   "cell_type": "code",
   "execution_count": 20,
   "id": "ff20e2fb",
   "metadata": {
    "execution": {
     "iopub.execute_input": "2022-04-06T10:32:35.622285Z",
     "iopub.status.busy": "2022-04-06T10:32:35.600825Z",
     "iopub.status.idle": "2022-04-06T10:32:37.316095Z",
     "shell.execute_reply": "2022-04-06T10:32:37.316603Z",
     "shell.execute_reply.started": "2022-04-06T10:27:57.886415Z"
    },
    "papermill": {
     "duration": 1.803019,
     "end_time": "2022-04-06T10:32:37.316788",
     "exception": false,
     "start_time": "2022-04-06T10:32:35.513769",
     "status": "completed"
    },
    "tags": []
   },
   "outputs": [
    {
     "name": "stdout",
     "output_type": "stream",
     "text": [
      "256355\n"
     ]
    }
   ],
   "source": [
    "purchase_dict = {}\n",
    "\n",
    "for i,x in enumerate(zip(transactions_data['customer_id'], transactions_data['article_id'])):\n",
    "    cust_id, art_id = x\n",
    "    if cust_id not in purchase_dict:\n",
    "        purchase_dict[cust_id] = {}\n",
    "    \n",
    "    if art_id not in purchase_dict[cust_id]:\n",
    "        purchase_dict[cust_id][art_id] = 0\n",
    "    \n",
    "    purchase_dict[cust_id][art_id] += 1\n",
    "    \n",
    "print(len(purchase_dict))"
   ]
  },
  {
   "cell_type": "code",
   "execution_count": 21,
   "id": "853f51ff",
   "metadata": {
    "execution": {
     "iopub.execute_input": "2022-04-06T10:32:37.490909Z",
     "iopub.status.busy": "2022-04-06T10:32:37.490214Z",
     "iopub.status.idle": "2022-04-06T10:32:39.902135Z",
     "shell.execute_reply": "2022-04-06T10:32:39.901289Z",
     "shell.execute_reply.started": "2022-04-06T10:27:59.719901Z"
    },
    "papermill": {
     "duration": 2.500264,
     "end_time": "2022-04-06T10:32:39.902334",
     "exception": false,
     "start_time": "2022-04-06T10:32:37.402070",
     "status": "completed"
    },
    "tags": []
   },
   "outputs": [
    {
     "name": "stdout",
     "output_type": "stream",
     "text": [
      "(1371980, 2)\n"
     ]
    }
   ],
   "source": [
    "final_submission_data = submission_data[['customer_id']].copy()\n",
    "prediction_list = []\n",
    "top_articles_list = list((transactions_data['article_id'].value_counts()).index)[:12]\n",
    "top_prediction_string = ' '.join(top_articles_list)\n",
    "\n",
    "for i, cust_id in enumerate(submission_data['customer_id'].values.reshape((-1,))):\n",
    "    if cust_id in purchase_dict:\n",
    "        l = sorted((purchase_dict[cust_id]).items(), key=lambda x: x[1], reverse=True)\n",
    "        l = [y[0] for y in l]\n",
    "        if len(l)>12:\n",
    "            s = ' '.join(l[:12])\n",
    "        else:\n",
    "            s = ' '.join(l+top_articles_list[:(12-len(l))])\n",
    "    else:\n",
    "        s = top_prediction_string\n",
    "    prediction_list.append(s)\n",
    "\n",
    "final_submission_data['prediction'] = prediction_list\n",
    "print(final_submission_data.shape)"
   ]
  },
  {
   "cell_type": "code",
   "execution_count": 22,
   "id": "335ca979",
   "metadata": {
    "execution": {
     "iopub.execute_input": "2022-04-06T10:32:40.076805Z",
     "iopub.status.busy": "2022-04-06T10:32:40.076103Z",
     "iopub.status.idle": "2022-04-06T10:32:40.078809Z",
     "shell.execute_reply": "2022-04-06T10:32:40.079409Z",
     "shell.execute_reply.started": "2022-04-06T10:28:02.107573Z"
    },
    "papermill": {
     "duration": 0.094655,
     "end_time": "2022-04-06T10:32:40.079585",
     "exception": false,
     "start_time": "2022-04-06T10:32:39.984930",
     "status": "completed"
    },
    "tags": []
   },
   "outputs": [
    {
     "data": {
      "text/html": [
       "<div>\n",
       "<style scoped>\n",
       "    .dataframe tbody tr th:only-of-type {\n",
       "        vertical-align: middle;\n",
       "    }\n",
       "\n",
       "    .dataframe tbody tr th {\n",
       "        vertical-align: top;\n",
       "    }\n",
       "\n",
       "    .dataframe thead th {\n",
       "        text-align: right;\n",
       "    }\n",
       "</style>\n",
       "<table border=\"1\" class=\"dataframe\">\n",
       "  <thead>\n",
       "    <tr style=\"text-align: right;\">\n",
       "      <th></th>\n",
       "      <th>customer_id</th>\n",
       "      <th>prediction</th>\n",
       "    </tr>\n",
       "  </thead>\n",
       "  <tbody>\n",
       "    <tr>\n",
       "      <th>0</th>\n",
       "      <td>00000dbacae5abe5e23885899a1fa44253a17956c6d1c3...</td>\n",
       "      <td>0568601043 0751471001 0915529003 0915526001 09...</td>\n",
       "    </tr>\n",
       "    <tr>\n",
       "      <th>1</th>\n",
       "      <td>0000423b00ade91418cceaf3b26c6af3dd342b51fd051e...</td>\n",
       "      <td>0751471001 0915529003 0915526001 0918292001 07...</td>\n",
       "    </tr>\n",
       "    <tr>\n",
       "      <th>2</th>\n",
       "      <td>000058a12d5b43e67d225668fa1f8d618c13dc232df0ca...</td>\n",
       "      <td>0794321007 0751471001 0915529003 0915526001 09...</td>\n",
       "    </tr>\n",
       "    <tr>\n",
       "      <th>3</th>\n",
       "      <td>00005ca1c9ed5f5146b52ac8639a40ca9d57aeff4d1bd2...</td>\n",
       "      <td>0751471001 0915529003 0915526001 0918292001 07...</td>\n",
       "    </tr>\n",
       "    <tr>\n",
       "      <th>4</th>\n",
       "      <td>00006413d8573cd20ed7128e53b7b13819fe5cfc2d801f...</td>\n",
       "      <td>0751471001 0915529003 0915526001 0918292001 07...</td>\n",
       "    </tr>\n",
       "  </tbody>\n",
       "</table>\n",
       "</div>"
      ],
      "text/plain": [
       "                                         customer_id  \\\n",
       "0  00000dbacae5abe5e23885899a1fa44253a17956c6d1c3...   \n",
       "1  0000423b00ade91418cceaf3b26c6af3dd342b51fd051e...   \n",
       "2  000058a12d5b43e67d225668fa1f8d618c13dc232df0ca...   \n",
       "3  00005ca1c9ed5f5146b52ac8639a40ca9d57aeff4d1bd2...   \n",
       "4  00006413d8573cd20ed7128e53b7b13819fe5cfc2d801f...   \n",
       "\n",
       "                                          prediction  \n",
       "0  0568601043 0751471001 0915529003 0915526001 09...  \n",
       "1  0751471001 0915529003 0915526001 0918292001 07...  \n",
       "2  0794321007 0751471001 0915529003 0915526001 09...  \n",
       "3  0751471001 0915529003 0915526001 0918292001 07...  \n",
       "4  0751471001 0915529003 0915526001 0918292001 07...  "
      ]
     },
     "execution_count": 22,
     "metadata": {},
     "output_type": "execute_result"
    }
   ],
   "source": [
    "final_submission_data.head()"
   ]
  },
  {
   "cell_type": "markdown",
   "id": "e5e00bd0",
   "metadata": {
    "papermill": {
     "duration": 0.083059,
     "end_time": "2022-04-06T10:32:40.244302",
     "exception": false,
     "start_time": "2022-04-06T10:32:40.161243",
     "status": "completed"
    },
    "tags": []
   },
   "source": [
    "### Writing Algo 1 Submissions"
   ]
  },
  {
   "cell_type": "code",
   "execution_count": 23,
   "id": "6e3e0aa3",
   "metadata": {
    "execution": {
     "iopub.execute_input": "2022-04-06T10:32:40.413051Z",
     "iopub.status.busy": "2022-04-06T10:32:40.411961Z",
     "iopub.status.idle": "2022-04-06T10:32:53.697837Z",
     "shell.execute_reply": "2022-04-06T10:32:53.697258Z",
     "shell.execute_reply.started": "2022-04-06T10:28:02.119543Z"
    },
    "papermill": {
     "duration": 13.371729,
     "end_time": "2022-04-06T10:32:53.698170",
     "exception": false,
     "start_time": "2022-04-06T10:32:40.326441",
     "status": "completed"
    },
    "tags": []
   },
   "outputs": [
    {
     "data": {
      "text/plain": [
       "0"
      ]
     },
     "execution_count": 23,
     "metadata": {},
     "output_type": "execute_result"
    }
   ],
   "source": [
    "final_submission_data.to_csv(\"hybrid_algo1_submission.csv\", index=False)\n",
    "del final_submission_data\n",
    "gc.collect()"
   ]
  },
  {
   "cell_type": "code",
   "execution_count": 24,
   "id": "35d335d6",
   "metadata": {
    "execution": {
     "iopub.execute_input": "2022-04-06T10:32:53.873197Z",
     "iopub.status.busy": "2022-04-06T10:32:53.872444Z",
     "iopub.status.idle": "2022-04-06T10:32:53.878495Z",
     "shell.execute_reply": "2022-04-06T10:32:53.879027Z",
     "shell.execute_reply.started": "2022-04-06T10:28:15.492635Z"
    },
    "papermill": {
     "duration": 0.096999,
     "end_time": "2022-04-06T10:32:53.879212",
     "exception": false,
     "start_time": "2022-04-06T10:32:53.782213",
     "status": "completed"
    },
    "tags": []
   },
   "outputs": [
    {
     "data": {
      "text/html": [
       "<a href='hybrid_algo1_submission.csv' target='_blank'>hybrid_algo1_submission.csv</a><br>"
      ],
      "text/plain": [
       "/kaggle/working/hybrid_algo1_submission.csv"
      ]
     },
     "execution_count": 24,
     "metadata": {},
     "output_type": "execute_result"
    }
   ],
   "source": [
    "FileLink(r'hybrid_algo1_submission.csv')"
   ]
  },
  {
   "cell_type": "markdown",
   "id": "93fd91fa",
   "metadata": {
    "papermill": {
     "duration": 0.087522,
     "end_time": "2022-04-06T10:32:54.051038",
     "exception": false,
     "start_time": "2022-04-06T10:32:53.963516",
     "status": "completed"
    },
    "tags": []
   },
   "source": [
    "## Algorithm 2: Load already trained lightfm model and predict top 200 articles for each user in training data"
   ]
  },
  {
   "cell_type": "code",
   "execution_count": 25,
   "id": "e6078e50",
   "metadata": {
    "execution": {
     "iopub.execute_input": "2022-04-06T10:32:54.224318Z",
     "iopub.status.busy": "2022-04-06T10:32:54.223420Z",
     "iopub.status.idle": "2022-04-06T10:33:03.315455Z",
     "shell.execute_reply": "2022-04-06T10:33:03.314826Z",
     "shell.execute_reply.started": "2022-04-06T10:28:15.500508Z"
    },
    "papermill": {
     "duration": 9.179624,
     "end_time": "2022-04-06T10:33:03.315618",
     "exception": false,
     "start_time": "2022-04-06T10:32:54.135994",
     "status": "completed"
    },
    "tags": []
   },
   "outputs": [],
   "source": [
    "lightfm_model_path = r'../input/hm-trained-models/lightfm_nofeatures/model_without_feature_optimized_01.pickle'\n",
    "lightfm_model = pickle.load(open(lightfm_model_path, 'rb'))"
   ]
  },
  {
   "cell_type": "code",
   "execution_count": 26,
   "id": "3d5291e3",
   "metadata": {
    "_kg_hide-input": true,
    "execution": {
     "iopub.execute_input": "2022-04-06T10:33:03.493493Z",
     "iopub.status.busy": "2022-04-06T10:33:03.488150Z",
     "iopub.status.idle": "2022-04-06T10:33:03.512545Z",
     "shell.execute_reply": "2022-04-06T10:33:03.511969Z",
     "shell.execute_reply.started": "2022-04-06T10:28:23.374506Z"
    },
    "papermill": {
     "duration": 0.110757,
     "end_time": "2022-04-06T10:33:03.512685",
     "exception": false,
     "start_time": "2022-04-06T10:33:03.401928",
     "status": "completed"
    },
    "tags": []
   },
   "outputs": [],
   "source": [
    "class recommendation_sampling():\n",
    "    def __init__(self, model, items = None, user_to_product_interaction_matrix = None, \n",
    "                item_features = None, user2index_map = None):\n",
    "        \n",
    "        self.user_to_product_interaction_matrix = user_to_product_interaction_matrix\n",
    "        self.item_features = item_features if item_features is not None else None\n",
    "        self.model = model\n",
    "        self.items = items\n",
    "        self.user2index_map = user2index_map\n",
    "        \n",
    "    def get_batched_recommendation(self, user, k=3, prediction_type='normal'):\n",
    "        # Getting user_indexes \n",
    "        user_index = self.user2index_map.get(user, None)\n",
    "        if user_index is None:\n",
    "            return None\n",
    "        \n",
    "        # Scores from model\n",
    "        scores = self.model.predict(user_ids = user_index, item_ids = np.arange(self.user_to_product_interaction_matrix.shape[1])) if prediction_type == 'normal' else \\\n",
    "            self.model.predict(user_ids = user_index, item_ids = np.arange(self.user_to_product_interaction_matrix.shape[1]), item_features = self.item_features)\n",
    "    \n",
    "        # Top items\n",
    "        top_items = self.items[np.argsort(-scores)][:k]\n",
    "        top_scores = np.sort(-scores)[::-1][:k]\n",
    "        \n",
    "        return top_items, top_scores\n",
    "    \n",
    "    def get_batched_recommendation_df(self, user, k=3, prediction_type='normal'):\n",
    "        # Getting user_indexes \n",
    "        user_index = self.user2index_map.get(user, None)\n",
    "        if user_index is None:\n",
    "            return None\n",
    "        \n",
    "        # Scores from model\n",
    "        scores = self.model.predict(user_ids = user_index, item_ids = np.arange(self.user_to_product_interaction_matrix.shape[1])) if prediction_type == 'normal' else \\\n",
    "            self.model.predict(user_ids = user_index, item_ids = np.arange(self.user_to_product_interaction_matrix.shape[1]), item_features = self.item_features)\n",
    "    \n",
    "        return scores\n",
    "\n",
    "def get_customers_list():\n",
    "    '''\n",
    "    Generates list of unique customers\n",
    "    \n",
    "    Parameters:\n",
    "        None\n",
    "        \n",
    "    Returns:\n",
    "        list of unique customers in customer data\n",
    "    '''\n",
    "    return np.sort(customer_data['customer_id'].unique())\n",
    "\n",
    "def get_articles_list():\n",
    "    '''\n",
    "    Generates list of unique articles\n",
    "    \n",
    "    Parameters:\n",
    "        None\n",
    "        \n",
    "    Returns:\n",
    "        list of unique articles in articles data\n",
    "    '''  \n",
    "    item_list = article_data['article_id'].unique()\n",
    "    return item_list\n",
    "\n",
    "def id_mappings(customers_list, articles_list):\n",
    "    '''\n",
    "    Create id mappings to convert customer_id, article_id and feature_id\n",
    "    \n",
    "    Parameters:\n",
    "        customers_list (str, list): list of customers in customer data\n",
    "        articles_list (str, list): list of articles in articles data\n",
    "        \n",
    "    Returns:\n",
    "        list of unique articles in articles data\n",
    "    '''  \n",
    "    customer_to_index_mapping = {}\n",
    "    index_to_customer_mapping = {}\n",
    "    for customer_index, customer_id in enumerate(customers_list):\n",
    "        customer_to_index_mapping[customer_id] = customer_index\n",
    "        index_to_customer_mapping[customer_index] = customer_id\n",
    "        \n",
    "    article_to_index_mapping = {}\n",
    "    index_to_article_mapping = {}\n",
    "    for article_index, article_id in enumerate(articles_list):\n",
    "        article_to_index_mapping[article_id] = article_index\n",
    "        index_to_article_mapping[article_index] = article_id\n",
    "        \n",
    "    return customer_to_index_mapping, index_to_customer_mapping, \\\n",
    "           article_to_index_mapping, index_to_article_mapping\n",
    "\n",
    "def get_customer_article_interaction(customer_article_amt_df):\n",
    "    '''\n",
    "    Create customer article interaction matrix based on total amount spent by each\n",
    "    customer towards each article\n",
    "    \n",
    "    Parameters:\n",
    "        customer_article_amt_df (str, list): Grouped transaction data based on total amount spent for each customer in transactions data\n",
    "        \n",
    "    Returns:\n",
    "        Categorical Converted grouped transaction data based on total amount spent\n",
    "    '''  \n",
    "    #start indexing\n",
    "    customer_article_amt_df[\"customer_id\"] = customer_article_amt_df[\"customer_id\"]\n",
    "    customer_article_amt_df[\"article_id\"] = customer_article_amt_df[\"article_id\"]\n",
    "    customer_article_amt_df[\"price\"] = customer_article_amt_df[\"price\"]\n",
    "\n",
    "    # Preprocessing dataframe created\n",
    "    customer_article_amt_df = customer_article_amt_df.rename(columns = {\"price\":\"total_amount_spent\"})\n",
    "\n",
    "    # Replace Amount Column with category codes \n",
    "    customer_article_amt_df['total_amount_spent'] = customer_article_amt_df['total_amount_spent'].astype('category')\n",
    "    customer_article_amt_df['total_amount_spent'] = customer_article_amt_df['total_amount_spent'].cat.codes\n",
    "\n",
    "    return customer_article_amt_df\n",
    "\n",
    "def get_interaction_matrix(df, df_column_as_row, df_column_as_col, \n",
    "                        df_column_as_value, row_indexing_map, col_indexing_map):\n",
    "    '''\n",
    "    Generate Sprase Interaction Matrix based on unique customer and articles indices as light FM can only work\n",
    "    based on index values\n",
    "    \n",
    "    Parameters:\n",
    "        df (pd dataframe): Base Dataframe to be converted to matrix format\n",
    "        df_column_as_row (str): Column name from base dataframe to be considered on row end of matrix\n",
    "        df_column_as_col (str): Column name from base dataframe to be considered on column end of matrix\n",
    "        df_column_as_value (str): Values which are to be treated to fill up the cell spaces between rows and columns\n",
    "        row_indexing_map (dict): Index Mapping for each customer\n",
    "        col_indexing_map (dict): Index Mapping for each article\n",
    "        \n",
    "    Returns:\n",
    "        Sparse Interaction matrix between customers and articles based on all customers and articles data\n",
    "    '''  \n",
    "    row = df[df_column_as_row].apply(lambda x: row_indexing_map[x]).values\n",
    "    col = df[df_column_as_col].apply(lambda x: col_indexing_map[x]).values\n",
    "    value = df[df_column_as_value].values\n",
    "    \n",
    "    return sparse.coo_matrix((value, (row, col)), shape = (len(row_indexing_map), len(col_indexing_map)))"
   ]
  },
  {
   "cell_type": "code",
   "execution_count": 27,
   "id": "8e3408f0",
   "metadata": {
    "execution": {
     "iopub.execute_input": "2022-04-06T10:33:03.784049Z",
     "iopub.status.busy": "2022-04-06T10:33:03.783299Z",
     "iopub.status.idle": "2022-04-06T10:33:06.600933Z",
     "shell.execute_reply": "2022-04-06T10:33:06.600237Z",
     "shell.execute_reply.started": "2022-04-06T10:28:23.402822Z"
    },
    "papermill": {
     "duration": 3.004997,
     "end_time": "2022-04-06T10:33:06.601108",
     "exception": false,
     "start_time": "2022-04-06T10:33:03.596111",
     "status": "completed"
    },
    "tags": []
   },
   "outputs": [],
   "source": [
    "customers = get_customers_list()\n",
    "articles = get_articles_list()\n",
    "customer_to_index_mapping, index_to_customer_mapping, \\\n",
    "article_to_index_mapping, index_to_article_mapping = id_mappings(customers, articles)"
   ]
  },
  {
   "cell_type": "code",
   "execution_count": 28,
   "id": "46f7ed04",
   "metadata": {
    "execution": {
     "iopub.execute_input": "2022-04-06T10:33:06.795358Z",
     "iopub.status.busy": "2022-04-06T10:33:06.794558Z",
     "iopub.status.idle": "2022-04-06T10:33:08.861866Z",
     "shell.execute_reply": "2022-04-06T10:33:08.861106Z",
     "shell.execute_reply.started": "2022-04-06T10:28:26.356708Z"
    },
    "papermill": {
     "duration": 2.177955,
     "end_time": "2022-04-06T10:33:08.862028",
     "exception": false,
     "start_time": "2022-04-06T10:33:06.684073",
     "status": "completed"
    },
    "tags": []
   },
   "outputs": [],
   "source": [
    "transactions_data_grouped = transactions_data.groupby(['customer_id','article_id']).agg({'price':'sum','t_dat':'count'}).reset_index()\n",
    "transactions_data_grouped = transactions_data_grouped[['customer_id','article_id','price']]"
   ]
  },
  {
   "cell_type": "code",
   "execution_count": 29,
   "id": "3c665dfd",
   "metadata": {
    "execution": {
     "iopub.execute_input": "2022-04-06T10:33:09.044419Z",
     "iopub.status.busy": "2022-04-06T10:33:09.043554Z",
     "iopub.status.idle": "2022-04-06T10:33:10.840670Z",
     "shell.execute_reply": "2022-04-06T10:33:10.839985Z",
     "shell.execute_reply.started": "2022-04-06T10:28:28.513646Z"
    },
    "papermill": {
     "duration": 1.895296,
     "end_time": "2022-04-06T10:33:10.840814",
     "exception": false,
     "start_time": "2022-04-06T10:33:08.945518",
     "status": "completed"
    },
    "tags": []
   },
   "outputs": [],
   "source": [
    "customer_to_article = get_customer_article_interaction(customer_article_amt_df = transactions_data_grouped[['customer_id','article_id','price']])\n",
    "customer_to_article_interaction = get_interaction_matrix(customer_to_article, \"customer_id\", \"article_id\", \"total_amount_spent\", \\\n",
    "                                                        customer_to_index_mapping, article_to_index_mapping)            "
   ]
  },
  {
   "cell_type": "code",
   "execution_count": 30,
   "id": "2403d417",
   "metadata": {
    "execution": {
     "iopub.execute_input": "2022-04-06T10:33:11.012811Z",
     "iopub.status.busy": "2022-04-06T10:33:11.011692Z",
     "iopub.status.idle": "2022-04-06T10:33:11.022809Z",
     "shell.execute_reply": "2022-04-06T10:33:11.023530Z",
     "shell.execute_reply.started": "2022-04-06T10:28:30.270776Z"
    },
    "papermill": {
     "duration": 0.098092,
     "end_time": "2022-04-06T10:33:11.023737",
     "exception": false,
     "start_time": "2022-04-06T10:33:10.925645",
     "status": "completed"
    },
    "tags": []
   },
   "outputs": [
    {
     "data": {
      "text/html": [
       "<div>\n",
       "<style scoped>\n",
       "    .dataframe tbody tr th:only-of-type {\n",
       "        vertical-align: middle;\n",
       "    }\n",
       "\n",
       "    .dataframe tbody tr th {\n",
       "        vertical-align: top;\n",
       "    }\n",
       "\n",
       "    .dataframe thead th {\n",
       "        text-align: right;\n",
       "    }\n",
       "</style>\n",
       "<table border=\"1\" class=\"dataframe\">\n",
       "  <thead>\n",
       "    <tr style=\"text-align: right;\">\n",
       "      <th></th>\n",
       "      <th>customer_id</th>\n",
       "      <th>article_id</th>\n",
       "      <th>total_amount_spent</th>\n",
       "    </tr>\n",
       "  </thead>\n",
       "  <tbody>\n",
       "    <tr>\n",
       "      <th>0</th>\n",
       "      <td>00000dbacae5abe5e23885899a1fa44253a17956c6d1c3...</td>\n",
       "      <td>0568601043</td>\n",
       "      <td>4205</td>\n",
       "    </tr>\n",
       "    <tr>\n",
       "      <th>1</th>\n",
       "      <td>000058a12d5b43e67d225668fa1f8d618c13dc232df0ca...</td>\n",
       "      <td>0794321007</td>\n",
       "      <td>4791</td>\n",
       "    </tr>\n",
       "    <tr>\n",
       "      <th>2</th>\n",
       "      <td>0000757967448a6cb83efb3ea7a3fb9d418ac7adf2379d...</td>\n",
       "      <td>0448509014</td>\n",
       "      <td>3443</td>\n",
       "    </tr>\n",
       "    <tr>\n",
       "      <th>3</th>\n",
       "      <td>0000757967448a6cb83efb3ea7a3fb9d418ac7adf2379d...</td>\n",
       "      <td>0719530003</td>\n",
       "      <td>2792</td>\n",
       "    </tr>\n",
       "    <tr>\n",
       "      <th>4</th>\n",
       "      <td>00009d946eec3ea54add5ba56d5210ea898def4b46c685...</td>\n",
       "      <td>0516859008</td>\n",
       "      <td>939</td>\n",
       "    </tr>\n",
       "  </tbody>\n",
       "</table>\n",
       "</div>"
      ],
      "text/plain": [
       "                                         customer_id  article_id  \\\n",
       "0  00000dbacae5abe5e23885899a1fa44253a17956c6d1c3...  0568601043   \n",
       "1  000058a12d5b43e67d225668fa1f8d618c13dc232df0ca...  0794321007   \n",
       "2  0000757967448a6cb83efb3ea7a3fb9d418ac7adf2379d...  0448509014   \n",
       "3  0000757967448a6cb83efb3ea7a3fb9d418ac7adf2379d...  0719530003   \n",
       "4  00009d946eec3ea54add5ba56d5210ea898def4b46c685...  0516859008   \n",
       "\n",
       "   total_amount_spent  \n",
       "0                4205  \n",
       "1                4791  \n",
       "2                3443  \n",
       "3                2792  \n",
       "4                 939  "
      ]
     },
     "execution_count": 30,
     "metadata": {},
     "output_type": "execute_result"
    }
   ],
   "source": [
    "customer_to_article.head()"
   ]
  },
  {
   "cell_type": "code",
   "execution_count": 31,
   "id": "2f8617a5",
   "metadata": {
    "execution": {
     "iopub.execute_input": "2022-04-06T10:33:11.195163Z",
     "iopub.status.busy": "2022-04-06T10:33:11.194360Z",
     "iopub.status.idle": "2022-04-06T10:33:11.199117Z",
     "shell.execute_reply": "2022-04-06T10:33:11.199664Z",
     "shell.execute_reply.started": "2022-04-06T10:28:30.284546Z"
    },
    "papermill": {
     "duration": 0.091753,
     "end_time": "2022-04-06T10:33:11.199862",
     "exception": false,
     "start_time": "2022-04-06T10:33:11.108109",
     "status": "completed"
    },
    "tags": []
   },
   "outputs": [
    {
     "data": {
      "text/plain": [
       "<1371980x105542 sparse matrix of type '<class 'numpy.int16'>'\n",
       "\twith 1051730 stored elements in COOrdinate format>"
      ]
     },
     "execution_count": 31,
     "metadata": {},
     "output_type": "execute_result"
    }
   ],
   "source": [
    "customer_to_article_interaction"
   ]
  },
  {
   "cell_type": "code",
   "execution_count": 32,
   "id": "05be0552",
   "metadata": {
    "execution": {
     "iopub.execute_input": "2022-04-06T10:33:11.375781Z",
     "iopub.status.busy": "2022-04-06T10:33:11.375049Z",
     "iopub.status.idle": "2022-04-06T10:33:11.377662Z",
     "shell.execute_reply": "2022-04-06T10:33:11.377111Z",
     "shell.execute_reply.started": "2022-04-06T10:28:30.297310Z"
    },
    "papermill": {
     "duration": 0.094992,
     "end_time": "2022-04-06T10:33:11.377808",
     "exception": false,
     "start_time": "2022-04-06T10:33:11.282816",
     "status": "completed"
    },
    "tags": []
   },
   "outputs": [],
   "source": [
    "# Sampling Recommendations\n",
    "recom_without_feature = recommendation_sampling(model = lightfm_model,\n",
    "                                               items = articles,\n",
    "                                               user_to_product_interaction_matrix = customer_to_article_interaction,\n",
    "                                               user2index_map = customer_to_index_mapping)"
   ]
  },
  {
   "cell_type": "code",
   "execution_count": 33,
   "id": "2f3006e8",
   "metadata": {
    "execution": {
     "iopub.execute_input": "2022-04-06T10:33:11.561447Z",
     "iopub.status.busy": "2022-04-06T10:33:11.560711Z",
     "iopub.status.idle": "2022-04-06T10:33:11.562507Z",
     "shell.execute_reply": "2022-04-06T10:33:11.563047Z",
     "shell.execute_reply.started": "2022-04-06T10:28:30.310509Z"
    },
    "papermill": {
     "duration": 0.092075,
     "end_time": "2022-04-06T10:33:11.563220",
     "exception": false,
     "start_time": "2022-04-06T10:33:11.471145",
     "status": "completed"
    },
    "tags": []
   },
   "outputs": [],
   "source": [
    "# Light FM Important Params\n",
    "n_top = 200\n",
    "lightfm_top_200_predictions_df = pd.DataFrame()"
   ]
  },
  {
   "cell_type": "markdown",
   "id": "a6ff8c7a",
   "metadata": {
    "papermill": {
     "duration": 0.083255,
     "end_time": "2022-04-06T10:33:11.730256",
     "exception": false,
     "start_time": "2022-04-06T10:33:11.647001",
     "status": "completed"
    },
    "tags": []
   },
   "source": [
    "### Predicting for unique customers in training (transaction) data"
   ]
  },
  {
   "cell_type": "code",
   "execution_count": 34,
   "id": "70a77e4f",
   "metadata": {
    "_kg_hide-input": true,
    "execution": {
     "iopub.execute_input": "2022-04-06T10:33:11.916823Z",
     "iopub.status.busy": "2022-04-06T10:33:11.905424Z",
     "iopub.status.idle": "2022-04-06T10:33:11.919623Z",
     "shell.execute_reply": "2022-04-06T10:33:11.919077Z",
     "shell.execute_reply.started": "2022-04-06T10:28:30.325412Z"
    },
    "papermill": {
     "duration": 0.102683,
     "end_time": "2022-04-06T10:33:11.919771",
     "exception": false,
     "start_time": "2022-04-06T10:33:11.817088",
     "status": "completed"
    },
    "tags": []
   },
   "outputs": [],
   "source": [
    "num_cores=4\n",
    "\n",
    "def predict_top_200_articles_submethod(chunk_training_data=None):\n",
    "    '''\n",
    "    Submethod for predicting top 200 articles for chunked training data\n",
    "    \n",
    "    Parameters:\n",
    "        chunk_training_data (pd dataframe): Chunk Sized dataframe to be processed for extracting predictions\n",
    "        \n",
    "    Returns:\n",
    "        lightfm_predictions_df (pd dataframe): top 200 predicted articles for each customer in the chunked training data\n",
    "    '''  \n",
    "    lightfm_predictions_df = pd.DataFrame()\n",
    "    \n",
    "    for customer in tqdm.tqdm(chunk_training_data['customer_id'].unique(), desc='Predicting top 200 articles for each user'):\n",
    "\n",
    "        articles_df = pd.DataFrame(articles, columns = ['article_id'])\n",
    "        articles_df['customer_id'] = customer\n",
    "        articles_df['lightfm_score'] = recom_without_feature.get_batched_recommendation_df(customer, len(articles))\n",
    "        articles_df.sort_values('lightfm_score', ascending = False, inplace = True)\n",
    "        articles_df['lightfm_rank'] = np.arange(articles_df.shape[0])\n",
    "\n",
    "        lightfm_predictions_df = lightfm_predictions_df.append(articles_df.head(n_top))\n",
    "        \n",
    "    return lightfm_predictions_df\n",
    "\n",
    "def predict_top_200_articles(training_data=None):\n",
    "    '''\n",
    "    Generating top 200 articles predictions data for each customer in transactions data by speeding the process\n",
    "    using multiprocessing\n",
    "    \n",
    "    Parameters:\n",
    "        training_data (pd dataframe): Unique Customer IDs in transactios data\n",
    "        \n",
    "    Returns:\n",
    "        result_combined_df (pd dataframe): Top 200 predicted articles for each customer in transactions data\n",
    "    '''  \n",
    "    #splitting here by measurement id's to get all signals for a measurement into single chunk\n",
    "    customer_ids = training_data[\"customer_id\"].unique()\n",
    "    df_split = np.array_split(customer_ids, num_cores)\n",
    "    chunk_size = len(df_split[0])\n",
    "    \n",
    "    chunk1 = create_chunk_indices(training_data, 0, chunk_size)\n",
    "    chunk2 = create_chunk_indices(training_data, 1, chunk_size)\n",
    "    chunk3 = create_chunk_indices(training_data, 2, chunk_size)\n",
    "    chunk4 = create_chunk_indices(training_data, 3, chunk_size)\n",
    "    \n",
    "    #list of items for multiprocessing, 4 since using 4 cores\n",
    "    all_chunks = [chunk1[0], chunk2[0], chunk3[0], chunk4[0]]\n",
    "    \n",
    "    pool = Pool(num_cores)\n",
    "    result = pool.map(predict_top_200_articles_submethod, all_chunks)\n",
    "    \n",
    "    result_combined_df = pd.concat([result[0], result[1], result[2], result[3]], axis=0)\n",
    "    return result_combined_df"
   ]
  },
  {
   "cell_type": "code",
   "execution_count": 35,
   "id": "2efa0a7c",
   "metadata": {
    "execution": {
     "iopub.execute_input": "2022-04-06T10:33:12.095708Z",
     "iopub.status.busy": "2022-04-06T10:33:12.094959Z",
     "iopub.status.idle": "2022-04-06T10:33:30.802691Z",
     "shell.execute_reply": "2022-04-06T10:33:30.803239Z",
     "shell.execute_reply.started": "2022-04-06T10:28:30.341681Z"
    },
    "papermill": {
     "duration": 18.799391,
     "end_time": "2022-04-06T10:33:30.803415",
     "exception": false,
     "start_time": "2022-04-06T10:33:12.004024",
     "status": "completed"
    },
    "tags": []
   },
   "outputs": [
    {
     "name": "stdout",
     "output_type": "stream",
     "text": [
      "CPU times: user 10.3 s, sys: 9.36 s, total: 19.6 s\n",
      "Wall time: 18.7 s\n"
     ]
    },
    {
     "data": {
      "text/plain": [
       "(51271000, 4)"
      ]
     },
     "execution_count": 35,
     "metadata": {},
     "output_type": "execute_result"
    }
   ],
   "source": [
    "%%time\n",
    "\n",
    "if os.path.exists(r'../input/hm-trained-models/hybrid_generic/lightfm_top_200_predictions.parquet'):\n",
    "    lightfm_top_200_predictions_df = pd.read_parquet(r'../input/hm-trained-models/hybrid_generic/lightfm_top_200_predictions.parquet')\n",
    "    lightfm_top_200_predictions_df = lightfm_top_200_predictions_df[['customer_id','article_id','lightfm_score', 'lightfm_rank']]\n",
    "    lightfm_top_200_predictions_df = lightfm_top_200_predictions_df.reset_index(drop=True)\n",
    "else:\n",
    "    training_lfm_data = transactions_data.copy()[['customer_id']].drop_duplicates(subset=['customer_id'])\n",
    "    \n",
    "    lightfm_top_200_predictions_df = predict_top_200_articles(training_lfm_data)\n",
    "    lightfm_top_200_predictions_df = lightfm_top_200_predictions_df[['customer_id','article_id','lightfm_score', 'lightfm_rank']]\n",
    "    lightfm_top_200_predictions_df = lightfm_top_200_predictions_df.reset_index(drop=True)\n",
    "    lightfm_top_200_predictions_df.to_parquet('lightfm_top_200_predictions.parquet')\n",
    "lightfm_top_200_predictions_df.shape"
   ]
  },
  {
   "attachments": {
    "8c11e9ca-b75b-4afb-848f-63be368b12c0.png": {
     "image/png": "[encoded data removed]"
    }
   },
   "cell_type": "markdown",
   "id": "ae9d87a0",
   "metadata": {
    "papermill": {
     "duration": 0.09084,
     "end_time": "2022-04-06T10:33:30.980131",
     "exception": false,
     "start_time": "2022-04-06T10:33:30.889291",
     "status": "completed"
    },
    "tags": []
   },
   "source": [
    "#### Screenshot of inferencing top 200 articles for all customers in training data\n",
    "![image.png](attachment:8c11e9ca-b75b-4afb-848f-63be368b12c0.png)"
   ]
  },
  {
   "cell_type": "code",
   "execution_count": 36,
   "id": "443ac22e",
   "metadata": {
    "execution": {
     "iopub.execute_input": "2022-04-06T10:33:31.156789Z",
     "iopub.status.busy": "2022-04-06T10:33:31.156071Z",
     "iopub.status.idle": "2022-04-06T10:33:31.158808Z",
     "shell.execute_reply": "2022-04-06T10:33:31.158227Z",
     "shell.execute_reply.started": "2022-04-06T10:28:49.811328Z"
    },
    "papermill": {
     "duration": 0.092348,
     "end_time": "2022-04-06T10:33:31.158969",
     "exception": false,
     "start_time": "2022-04-06T10:33:31.066621",
     "status": "completed"
    },
    "tags": []
   },
   "outputs": [],
   "source": [
    "# lightfm_top_200_predictions_df['customer_index'] = lightfm_top_200_predictions_df['customer_id'].map(lambda x: customer_to_index_mapping.get(x))\n",
    "# lightfm_top_200_predictions_df['article_index'] = lightfm_top_200_predictions_df['article_id'].map(lambda x: article_to_index_mapping.get(x))"
   ]
  },
  {
   "cell_type": "markdown",
   "id": "92188dc7",
   "metadata": {
    "papermill": {
     "duration": 0.085029,
     "end_time": "2022-04-06T10:33:31.329526",
     "exception": false,
     "start_time": "2022-04-06T10:33:31.244497",
     "status": "completed"
    },
    "tags": []
   },
   "source": [
    "## Algorithm 3: Hybrid Modelling \n"
   ]
  },
  {
   "cell_type": "markdown",
   "id": "77c6c5da",
   "metadata": {
    "papermill": {
     "duration": 0.085401,
     "end_time": "2022-04-06T10:33:31.504607",
     "exception": false,
     "start_time": "2022-04-06T10:33:31.419206",
     "status": "completed"
    },
    "tags": []
   },
   "source": [
    "### Hybrid Data Compilation (Combining top N articles seen by each customer + (200-N) based on lightfm predictions for the same customer)"
   ]
  },
  {
   "cell_type": "code",
   "execution_count": 37,
   "id": "879808ee",
   "metadata": {
    "execution": {
     "iopub.execute_input": "2022-04-06T10:33:31.675544Z",
     "iopub.status.busy": "2022-04-06T10:33:31.674785Z",
     "iopub.status.idle": "2022-04-06T10:33:31.677162Z",
     "shell.execute_reply": "2022-04-06T10:33:31.677651Z",
     "shell.execute_reply.started": "2022-04-06T10:28:49.817382Z"
    },
    "papermill": {
     "duration": 0.090109,
     "end_time": "2022-04-06T10:33:31.677835",
     "exception": false,
     "start_time": "2022-04-06T10:33:31.587726",
     "status": "completed"
    },
    "tags": []
   },
   "outputs": [],
   "source": [
    "hybrid_params = {'top_n':200}"
   ]
  },
  {
   "cell_type": "markdown",
   "id": "9097b069",
   "metadata": {
    "papermill": {
     "duration": 0.087076,
     "end_time": "2022-04-06T10:33:31.848295",
     "exception": false,
     "start_time": "2022-04-06T10:33:31.761219",
     "status": "completed"
    },
    "tags": []
   },
   "source": [
    "### Fill up top N articles  \n",
    "1. Based on transaction counts for known customers  \n",
    "2. Fill up remaining (200-N) articles based on lightfm predictions fot these set of customers\n",
    "3. Fill up top N articles for unseen customer based on overall top selling articles"
   ]
  },
  {
   "cell_type": "code",
   "execution_count": 38,
   "id": "d8e2d78d",
   "metadata": {
    "execution": {
     "iopub.execute_input": "2022-04-06T10:33:32.027069Z",
     "iopub.status.busy": "2022-04-06T10:33:32.026321Z",
     "iopub.status.idle": "2022-04-06T10:33:32.030441Z",
     "shell.execute_reply": "2022-04-06T10:33:32.031053Z",
     "shell.execute_reply.started": "2022-04-06T10:28:49.829161Z"
    },
    "papermill": {
     "duration": 0.09531,
     "end_time": "2022-04-06T10:33:32.031237",
     "exception": false,
     "start_time": "2022-04-06T10:33:31.935927",
     "status": "completed"
    },
    "tags": []
   },
   "outputs": [],
   "source": [
    "# Hybrid Important Params\n",
    "hybrid_top_200_predictions_df = pd.DataFrame()"
   ]
  },
  {
   "cell_type": "code",
   "execution_count": 39,
   "id": "ea5b623e",
   "metadata": {
    "execution": {
     "iopub.execute_input": "2022-04-06T10:33:32.207677Z",
     "iopub.status.busy": "2022-04-06T10:33:32.206985Z",
     "iopub.status.idle": "2022-04-06T10:33:54.225197Z",
     "shell.execute_reply": "2022-04-06T10:33:54.224509Z",
     "shell.execute_reply.started": "2022-04-06T10:28:49.841900Z"
    },
    "papermill": {
     "duration": 22.107859,
     "end_time": "2022-04-06T10:33:54.225354",
     "exception": false,
     "start_time": "2022-04-06T10:33:32.117495",
     "status": "completed"
    },
    "tags": []
   },
   "outputs": [],
   "source": [
    "# Generate the dictionary version of top 200 lightfm based predictions\n",
    "lightfm_top_200_predictions_dict = lightfm_top_200_predictions_df.groupby('customer_id').agg({'article_id' : ', '.join}).to_dict()['article_id']"
   ]
  },
  {
   "cell_type": "code",
   "execution_count": 40,
   "id": "9e61b4d4",
   "metadata": {
    "_kg_hide-input": true,
    "execution": {
     "iopub.execute_input": "2022-04-06T10:33:54.426716Z",
     "iopub.status.busy": "2022-04-06T10:33:54.423682Z",
     "iopub.status.idle": "2022-04-06T10:33:54.429690Z",
     "shell.execute_reply": "2022-04-06T10:33:54.429096Z",
     "shell.execute_reply.started": "2022-04-06T10:29:11.541392Z"
    },
    "papermill": {
     "duration": 0.117904,
     "end_time": "2022-04-06T10:33:54.429863",
     "exception": false,
     "start_time": "2022-04-06T10:33:54.311959",
     "status": "completed"
    },
    "tags": []
   },
   "outputs": [],
   "source": [
    "def extract_lightfm_articles(customer_id, algo_1_article_list, remaining_article_count):\n",
    "    '''\n",
    "    Extracting remaining articles from light FM based predictions\n",
    "    \n",
    "    Parameters:\n",
    "        customer_id (str): Unique Customer IDs to process\n",
    "        algo_1_article_list (str, list): List of actual purchases made by this specific customer\n",
    "        remaining_article_count (int): items to extract from light FM based predictions\n",
    "        \n",
    "    Returns:\n",
    "        final_lightfm_article (str, list): List of aticles to be returned\n",
    "    '''  \n",
    "    lightfm_article = None\n",
    "    final_lightfm_article = []\n",
    "    \n",
    "    lightfm_article = lightfm_top_200_predictions_dict.get(customer_id)\n",
    "    final_lightfm_article = [article for article in lightfm_article.split(', ') if article not in algo_1_article_list][:remaining_article_count]\n",
    "    \n",
    "    return final_lightfm_article\n",
    "\n",
    "def predict_hybrid_top_200_articles_submethod(training_data=None):\n",
    "    '''\n",
    "    Generating top hyrbidized 200 articles predictions data for each customer in chunked transactions data \n",
    "    \n",
    "    Parameters:\n",
    "        training_data (pd dataframe): Actual purchased made by each customer in the chunked transactions data\n",
    "        \n",
    "    Returns:\n",
    "        hybrid_predictions_df (pd dataframe): Top hybridized 200 predicted articles for each customer in chunked transactions data\n",
    "    '''  \n",
    "    hybrid_predictions_df = training_data.copy()\n",
    "    \n",
    "    for customer_id, group in tqdm.tqdm(training_data.groupby(['customer_id']), desc='Hybrid prediction compilation for Training Customers'):\n",
    "        if group.shape[0] < n_top:\n",
    "\n",
    "            remaining_article_count = n_top - group.shape[0]\n",
    "            \n",
    "            addl_lightfm_articles = extract_lightfm_articles(customer_id, list(group.article_id.unique()), remaining_article_count)\n",
    "            addl_lightfm_articles = pd.DataFrame(addl_lightfm_articles, columns = ['article_id'], dtype=str)\n",
    "            addl_lightfm_articles['customer_id'] = customer_id\n",
    "            addl_lightfm_articles['customer_article_freq'] = 0\n",
    "\n",
    "            hybrid_predictions_df = hybrid_predictions_df.append(addl_lightfm_articles[['customer_id', 'article_id', 'customer_article_freq']])\n",
    "    \n",
    "    return hybrid_predictions_df\n",
    "\n",
    "def predict_hybrid_top_200_articles(training_data=None):\n",
    "    '''\n",
    "    Generating top hyrbidized 200 articles predictions data for each customer in transactions data by speeding the process\n",
    "    using multiprocessing\n",
    "    \n",
    "    Parameters:\n",
    "        training_data (pd dataframe): Actual purchased made by each customer in the transactions data\n",
    "        \n",
    "    Returns:\n",
    "        hybrid_predictions_df (pd dataframe): Top hybridized 200 predicted articles for each customer in transactions data\n",
    "    '''\n",
    "    #splitting here by customer id\n",
    "    customer_ids = training_data[\"customer_id\"].unique()\n",
    "    df_split = np.array_split(customer_ids, num_cores)\n",
    "    chunk_size = len(df_split[0])\n",
    "    \n",
    "    chunk1 = create_df_chunk_indices(training_data, 0, chunk_size, 'customer_id')\n",
    "    chunk2 = create_df_chunk_indices(training_data, 1, chunk_size, 'customer_id')\n",
    "    chunk3 = create_df_chunk_indices(training_data, 2, chunk_size, 'customer_id')\n",
    "    chunk4 = create_df_chunk_indices(training_data, 3, chunk_size, 'customer_id')\n",
    "    \n",
    "    #list of items for multiprocessing, 4 since using 4 cores\n",
    "    all_chunks = [chunk1[0], chunk2[0], chunk3[0], chunk4[0]]\n",
    "    \n",
    "    pool = Pool(num_cores)\n",
    "    result = pool.map(predict_hybrid_top_200_articles_submethod, all_chunks)\n",
    "    \n",
    "    result_combined_df = pd.concat([result[0], result[1], result[2], result[3]], axis=0)\n",
    "    return result_combined_df\n",
    "    \n",
    "def create_df_chunk_indices(df, chunk_idx, chunk_size, unique_column = 'customer_id'):\n",
    "    '''\n",
    "    Function to generate chunks of groupby dataframe for multiprocessing\n",
    "    '''\n",
    "    start_idx = chunk_idx * chunk_size\n",
    "    end_idx = start_idx + chunk_size\n",
    "    unique_list = list(df[unique_column].unique())\n",
    "    chunk_df = df.loc[df[unique_column].isin(unique_list[start_idx:end_idx])].reset_index(drop=True)\n",
    "    print(\"start/end \"+str(chunk_idx+1)+\":\" + str(start_idx) + \",\" + str(end_idx))\n",
    "    print(len(chunk_df))\n",
    "    return (chunk_df, chunk_idx)"
   ]
  },
  {
   "cell_type": "code",
   "execution_count": 41,
   "id": "e8ee18a9",
   "metadata": {
    "execution": {
     "iopub.execute_input": "2022-04-06T10:33:54.605550Z",
     "iopub.status.busy": "2022-04-06T10:33:54.604836Z",
     "iopub.status.idle": "2022-04-06T10:34:04.796356Z",
     "shell.execute_reply": "2022-04-06T10:34:04.797369Z",
     "shell.execute_reply.started": "2022-04-06T10:29:11.566220Z"
    },
    "papermill": {
     "duration": 10.282639,
     "end_time": "2022-04-06T10:34:04.797579",
     "exception": false,
     "start_time": "2022-04-06T10:33:54.514940",
     "status": "completed"
    },
    "tags": []
   },
   "outputs": [
    {
     "name": "stdout",
     "output_type": "stream",
     "text": [
      "CPU times: user 7.14 s, sys: 3.71 s, total: 10.8 s\n",
      "Wall time: 10.2 s\n"
     ]
    },
    {
     "data": {
      "text/plain": [
       "(51271000, 3)"
      ]
     },
     "execution_count": 41,
     "metadata": {},
     "output_type": "execute_result"
    }
   ],
   "source": [
    "%%time \n",
    "\n",
    "if os.path.exists(r'../input/hm-trained-models/hybrid_generic/hybrid_top_200_predictions.parquet'):\n",
    "    hybrid_top_200_predictions_df = pd.read_parquet(r'../input/hm-trained-models/hybrid_generic/hybrid_top_200_predictions.parquet')\n",
    "else:\n",
    "    training_wlfm_df = transactions_data.copy().groupby(['customer_id','article_id']).agg({'t_dat':'count'})\n",
    "    training_wlfm_df = training_wlfm_df.rename(columns={'t_dat':'customer_article_freq'})\n",
    "    training_wlfm_df = training_wlfm_df.sort_values(['customer_article_freq'])\n",
    "    training_wlfm_df = training_wlfm_df.reset_index()\n",
    "    \n",
    "    # training_wlfm_df = training_wlfm_df.loc[training_wlfm_df.customer_id.isin(list(training_wlfm_df.customer_id.unique())[:2000])].reset_index(drop=True)\n",
    "    hybrid_top_200_predictions_df = predict_hybrid_top_200_articles(training_wlfm_df)\n",
    "    hybrid_top_200_predictions_df = hybrid_top_200_predictions_df.sort_values(by='customer_id').reset_index(drop=True)\n",
    "    hybrid_top_200_predictions_df.to_parquet('hybrid_top_200_predictions.parquet')\n",
    "hybrid_top_200_predictions_df.shape"
   ]
  },
  {
   "attachments": {
    "fd4662bf-2bd3-4449-8583-303773b55dc0.png": {
     "image/png": "[encoded data removed]"
    }
   },
   "cell_type": "markdown",
   "id": "6876990c",
   "metadata": {
    "papermill": {
     "duration": 0.090955,
     "end_time": "2022-04-06T10:34:04.980281",
     "exception": false,
     "start_time": "2022-04-06T10:34:04.889326",
     "status": "completed"
    },
    "tags": []
   },
   "source": [
    "#### Screenshot of inferencing hybrid top 200 articles for all customers in training data\n",
    "![image.png](attachment:fd4662bf-2bd3-4449-8583-303773b55dc0.png)"
   ]
  },
  {
   "cell_type": "code",
   "execution_count": 42,
   "id": "56b06a65",
   "metadata": {
    "_kg_hide-input": true,
    "execution": {
     "iopub.execute_input": "2022-04-06T10:34:05.171764Z",
     "iopub.status.busy": "2022-04-06T10:34:05.171054Z",
     "iopub.status.idle": "2022-04-06T10:34:05.174663Z",
     "shell.execute_reply": "2022-04-06T10:34:05.175232Z",
     "shell.execute_reply.started": "2022-04-06T10:29:21.367751Z"
    },
    "papermill": {
     "duration": 0.104892,
     "end_time": "2022-04-06T10:34:05.175420",
     "exception": false,
     "start_time": "2022-04-06T10:34:05.070528",
     "status": "completed"
    },
    "tags": []
   },
   "outputs": [],
   "source": [
    "# hybrid_top_200_predictions_df = pd.merge(hybrid_top_200_predictions_df, lightfm_top_200_predictions_df[['customer_id','article_id', 'lightfm_score']], how='left', on=['customer_id','article_id'])\n",
    "# hybrid_top_200_predictions_df.head(10)"
   ]
  },
  {
   "cell_type": "markdown",
   "id": "a434bca8",
   "metadata": {
    "papermill": {
     "duration": 0.107983,
     "end_time": "2022-04-06T10:34:05.378772",
     "exception": false,
     "start_time": "2022-04-06T10:34:05.270789",
     "status": "completed"
    },
    "tags": []
   },
   "source": [
    "### Generate target column and related features"
   ]
  },
  {
   "cell_type": "code",
   "execution_count": 43,
   "id": "cec27ac5",
   "metadata": {
    "_kg_hide-input": true,
    "execution": {
     "iopub.execute_input": "2022-04-06T10:34:05.577103Z",
     "iopub.status.busy": "2022-04-06T10:34:05.576166Z",
     "iopub.status.idle": "2022-04-06T10:34:05.578953Z",
     "shell.execute_reply": "2022-04-06T10:34:05.578358Z",
     "shell.execute_reply.started": "2022-04-06T10:29:21.372234Z"
    },
    "papermill": {
     "duration": 0.105017,
     "end_time": "2022-04-06T10:34:05.579123",
     "exception": false,
     "start_time": "2022-04-06T10:34:05.474106",
     "status": "completed"
    },
    "tags": []
   },
   "outputs": [],
   "source": [
    "# # Target Column Generation\n",
    "# def generate_target(train_df=None):\n",
    "#     if train_df is not None:\n",
    "#         train_df['article_purchased'] = train_df['customer_article_freq'].apply(lambda x: 1 if int(x)>0 else 0)\n",
    "#     return train_df"
   ]
  },
  {
   "cell_type": "code",
   "execution_count": 44,
   "id": "6d5be518",
   "metadata": {
    "_kg_hide-input": true,
    "execution": {
     "iopub.execute_input": "2022-04-06T10:34:05.786947Z",
     "iopub.status.busy": "2022-04-06T10:34:05.785708Z",
     "iopub.status.idle": "2022-04-06T10:34:05.787803Z",
     "shell.execute_reply": "2022-04-06T10:34:05.788327Z",
     "shell.execute_reply.started": "2022-04-06T10:29:21.386835Z"
    },
    "papermill": {
     "duration": 0.108315,
     "end_time": "2022-04-06T10:34:05.788513",
     "exception": false,
     "start_time": "2022-04-06T10:34:05.680198",
     "status": "completed"
    },
    "tags": []
   },
   "outputs": [],
   "source": [
    "# def generate_features(train_df=None, feature_flag=[False]*3):\n",
    "#     if train_df is not None and len(feature_flag)>0:\n",
    "#         final_train_shape = train_df.shape[0]\n",
    "        \n",
    "#         '''\n",
    "#         3 features at scope - customer article rank based on purchase count,\n",
    "#         customer article rank based on light FM interactions,\n",
    "#         combined rank which is attained by averaging purchase rank and light FM rank\n",
    "#         '''\n",
    "#         if feature_flag[0]:\n",
    "#             print('Generating Purchase and Light FM Ranks Started')\n",
    "#             if 'customer_purchase_rank' not in train_df.columns:\n",
    "#                 # Collect prediction rank based on purchase counts\n",
    "#                 for customer_id, group in tqdm.tqdm(train_df.sort_values(['customer_id', 'customer_article_freq'], ascending = False).groupby(['customer_id']), desc='Generating Customer Purchase Ranks'):\n",
    "#                     train_df.loc[group.index, 'customer_purchase_rank'] = np.arange(0, group.shape[0])\n",
    "#                 train_df.loc[train_df[train_df.customer_article_freq == 0].index, 'customer_purchase_rank'] = 62\n",
    "\n",
    "#             if 'customer_lfm_rank' not in train_df.columns:\n",
    "#                 # Collect prediction rank based on lightfm score\n",
    "#                 for customer_id, group in tqdm.tqdm(train_df.sort_values(['customer_id', 'lightfm_score'], ascending = False).groupby(['customer_id']), desc='Generating Customer Light FM Ranks'):\n",
    "#                     train_df.loc[group.index, 'customer_lfm_rank'] = np.arange(0, group.shape[0])\n",
    "#                 train_df.loc[train_df[pd.isnull(train_df.lightfm_score)].index, 'customer_lfm_rank'] = 200\n",
    "\n",
    "#             if 'combined_rank' not in train_df.columns:\n",
    "#                 # mean rank\n",
    "#                 train_df['combined_rank'] = (train_df['customer_purchase_rank'] + train_df['customer_lfm_rank']) / 2\n",
    "#             print('Generating Purchase and Light FM Ranks Completed')\n",
    "#         '''\n",
    "#         5 features at scope - article product group name, \n",
    "#         article index group name,\n",
    "#         article product type name,\n",
    "#         article graphical appearance name,\n",
    "#         aricle colour group name\n",
    "#         '''\n",
    "#         if feature_flag[1]:\n",
    "#             print('Generating Article Based Features Started')\n",
    "#             if 'product_group_name' not in train_df.columns or \\\n",
    "#             'index_group_name' not in train_df.columns or \\\n",
    "#             'product_type_name' not in train_df.columns or \\\n",
    "#             'graphical_appearance_name' not in train_df.columns or \\\n",
    "#             'colour_group_name' not in train_df.columns:\n",
    "#                 article_info_df = article_data[['article_id', 'product_group_name', 'index_group_name', 'product_type_name', 'graphical_appearance_name', 'colour_group_name']].drop_duplicates()\n",
    "#                 train_df = pd.merge(train_df, article_info_df, how='left', on='article_id')\n",
    "#                 assert final_train_shape==train_df.shape[0]\n",
    "#             print('Generating Article Based Features Completed')\n",
    "#         '''\n",
    "#         2 features at scope - customer bias and article bias\n",
    "#         '''\n",
    "#         if feature_flag[2]:\n",
    "#             print('Generating Customer and Article Biases Features Started')\n",
    "#             if 'customer_bias_lfm' not in train_df.columns:\n",
    "#                 # Collect user biases\n",
    "#                 customer_bias_df = pd.DataFrame(lightfm_model.user_biases, columns = ['customer_bias_lfm'])\n",
    "#                 customer_bias_df['customer_id'] = customers\n",
    "#                 train_df = train_df.merge(customer_bias_df, on = ['customer_id'], how = 'left')\n",
    "#                 assert final_train_shape==train_df.shape[0]\n",
    "\n",
    "#             if 'article_bias_lfm' not in train_df.columns:\n",
    "#                 # Collect item biases\n",
    "#                 article_bias_df = pd.DataFrame(lightfm_model.item_biases, columns = ['article_bias_lfm'])\n",
    "#                 article_bias_df['article_id'] = articles\n",
    "#                 train_df = train_df.merge(article_bias_df, on = ['article_id'], how = 'left')\n",
    "#                 assert final_train_shape==train_df.shape[0]\n",
    "#             print('Generating Customer and Article Biases Features Completed')\n",
    "\n",
    "#     return train_df"
   ]
  },
  {
   "cell_type": "code",
   "execution_count": 45,
   "id": "ee3d1626",
   "metadata": {
    "_kg_hide-input": true,
    "execution": {
     "iopub.execute_input": "2022-04-06T10:34:05.970514Z",
     "iopub.status.busy": "2022-04-06T10:34:05.969583Z",
     "iopub.status.idle": "2022-04-06T10:34:05.972274Z",
     "shell.execute_reply": "2022-04-06T10:34:05.972823Z",
     "shell.execute_reply.started": "2022-04-06T10:29:21.399766Z"
    },
    "papermill": {
     "duration": 0.096124,
     "end_time": "2022-04-06T10:34:05.973090",
     "exception": false,
     "start_time": "2022-04-06T10:34:05.876966",
     "status": "completed"
    },
    "tags": []
   },
   "outputs": [],
   "source": [
    "# if os.path.exists(r'../input/hm-trained-models/hybrid_generic/hybrid_training_data.parquet'):\n",
    "#     train_df = pd.read_parquet(r'../input/hm-trained-models/hybrid_generic/hybrid_training_data.parquet')\n",
    "# else:\n",
    "#     # Generating Target Column\n",
    "#     train_df = generate_target(hybrid_top_200_predictions_df.copy())\n",
    "#     print(train_df['article_purchased'].value_counts())\n",
    "\n",
    "#     # Feature Engineering\n",
    "#     train_df = generate_features(train_df, [True, True, True])\n",
    "\n",
    "#     train_df.to_parquet(r'hybrid_training_data.parquet')\n",
    "# train_df.shape"
   ]
  },
  {
   "cell_type": "code",
   "execution_count": 46,
   "id": "eae7c09b",
   "metadata": {
    "_kg_hide-input": true,
    "execution": {
     "iopub.execute_input": "2022-04-06T10:34:06.153306Z",
     "iopub.status.busy": "2022-04-06T10:34:06.152235Z",
     "iopub.status.idle": "2022-04-06T10:34:06.155214Z",
     "shell.execute_reply": "2022-04-06T10:34:06.154529Z",
     "shell.execute_reply.started": "2022-04-06T10:29:21.415251Z"
    },
    "papermill": {
     "duration": 0.093067,
     "end_time": "2022-04-06T10:34:06.155360",
     "exception": false,
     "start_time": "2022-04-06T10:34:06.062293",
     "status": "completed"
    },
    "tags": []
   },
   "outputs": [],
   "source": [
    "# train_df"
   ]
  },
  {
   "cell_type": "code",
   "execution_count": 47,
   "id": "c5da2d46",
   "metadata": {
    "_kg_hide-input": true,
    "execution": {
     "iopub.execute_input": "2022-04-06T10:34:06.336955Z",
     "iopub.status.busy": "2022-04-06T10:34:06.335818Z",
     "iopub.status.idle": "2022-04-06T10:34:06.339223Z",
     "shell.execute_reply": "2022-04-06T10:34:06.338634Z",
     "shell.execute_reply.started": "2022-04-06T10:29:21.429590Z"
    },
    "papermill": {
     "duration": 0.098616,
     "end_time": "2022-04-06T10:34:06.339368",
     "exception": false,
     "start_time": "2022-04-06T10:34:06.240752",
     "status": "completed"
    },
    "tags": []
   },
   "outputs": [],
   "source": [
    "# del [[lightfm_top_200_predictions_df, lightfm_top_200_predictions_dict, hybrid_top_200_predictions_df]]\n",
    "# gc.collect()"
   ]
  },
  {
   "cell_type": "code",
   "execution_count": 48,
   "id": "b840204e",
   "metadata": {
    "_kg_hide-input": true,
    "execution": {
     "iopub.execute_input": "2022-04-06T10:34:06.532275Z",
     "iopub.status.busy": "2022-04-06T10:34:06.531252Z",
     "iopub.status.idle": "2022-04-06T10:34:06.535313Z",
     "shell.execute_reply": "2022-04-06T10:34:06.536335Z",
     "shell.execute_reply.started": "2022-04-06T10:29:21.440976Z"
    },
    "papermill": {
     "duration": 0.095996,
     "end_time": "2022-04-06T10:34:06.536543",
     "exception": false,
     "start_time": "2022-04-06T10:34:06.440547",
     "status": "completed"
    },
    "tags": []
   },
   "outputs": [],
   "source": [
    "# train_df.head()"
   ]
  },
  {
   "cell_type": "markdown",
   "id": "f4b3b63f",
   "metadata": {
    "papermill": {
     "duration": 0.084536,
     "end_time": "2022-04-06T10:34:06.707503",
     "exception": false,
     "start_time": "2022-04-06T10:34:06.622967",
     "status": "completed"
    },
    "tags": []
   },
   "source": [
    "## Training using Light GBM "
   ]
  },
  {
   "cell_type": "markdown",
   "id": "e90e7e10",
   "metadata": {
    "papermill": {
     "duration": 0.086566,
     "end_time": "2022-04-06T10:34:06.879011",
     "exception": false,
     "start_time": "2022-04-06T10:34:06.792445",
     "status": "completed"
    },
    "tags": []
   },
   "source": [
    "### Model Validation (Train Test Split)"
   ]
  },
  {
   "cell_type": "code",
   "execution_count": 49,
   "id": "ad2d882f",
   "metadata": {
    "_kg_hide-input": true,
    "execution": {
     "iopub.execute_input": "2022-04-06T10:34:07.055387Z",
     "iopub.status.busy": "2022-04-06T10:34:07.054543Z",
     "iopub.status.idle": "2022-04-06T10:34:07.057678Z",
     "shell.execute_reply": "2022-04-06T10:34:07.058294Z",
     "shell.execute_reply.started": "2022-04-06T10:29:21.452232Z"
    },
    "papermill": {
     "duration": 0.095531,
     "end_time": "2022-04-06T10:34:07.058476",
     "exception": false,
     "start_time": "2022-04-06T10:34:06.962945",
     "status": "completed"
    },
    "tags": []
   },
   "outputs": [],
   "source": [
    "# cat_columns = ['product_group_name', 'index_group_name', 'product_type_name', 'graphical_appearance_name', 'colour_group_name']\n",
    "# label_encoder = LabelEncoder()\n",
    "# for col in tqdm.tqdm(cat_columns, desc='Label encoding categorical columns'):\n",
    "#     train_df[col] = label_encoder.fit_transform(train_df[col])\n",
    "# train_df.head()"
   ]
  },
  {
   "cell_type": "code",
   "execution_count": 50,
   "id": "e5cf8962",
   "metadata": {
    "_kg_hide-input": true,
    "execution": {
     "iopub.execute_input": "2022-04-06T10:34:07.235282Z",
     "iopub.status.busy": "2022-04-06T10:34:07.234469Z",
     "iopub.status.idle": "2022-04-06T10:34:07.236555Z",
     "shell.execute_reply": "2022-04-06T10:34:07.237149Z",
     "shell.execute_reply.started": "2022-04-06T10:29:21.463181Z"
    },
    "papermill": {
     "duration": 0.092274,
     "end_time": "2022-04-06T10:34:07.237338",
     "exception": false,
     "start_time": "2022-04-06T10:34:07.145064",
     "status": "completed"
    },
    "tags": []
   },
   "outputs": [],
   "source": [
    "# customers_train, customers_test = train_test_split(train_df.customer_id.unique(), train_size=0.8, random_state=42)\n",
    "# target_col = 'article_purchased'"
   ]
  },
  {
   "cell_type": "code",
   "execution_count": 51,
   "id": "201b31c2",
   "metadata": {
    "_kg_hide-input": true,
    "execution": {
     "iopub.execute_input": "2022-04-06T10:34:07.418756Z",
     "iopub.status.busy": "2022-04-06T10:34:07.417611Z",
     "iopub.status.idle": "2022-04-06T10:34:07.420036Z",
     "shell.execute_reply": "2022-04-06T10:34:07.420501Z",
     "shell.execute_reply.started": "2022-04-06T10:29:21.475605Z"
    },
    "papermill": {
     "duration": 0.092015,
     "end_time": "2022-04-06T10:34:07.420684",
     "exception": false,
     "start_time": "2022-04-06T10:34:07.328669",
     "status": "completed"
    },
    "tags": []
   },
   "outputs": [],
   "source": [
    "# X_train = train_df[train_df.customer_id.isin(customers_train)].copy()\n",
    "# X_test = train_df[train_df.customer_id.isin(customers_test)].copy()\n",
    "# y_train = X_train.pop(target_col)\n",
    "# y_test = X_test.pop(target_col)\n",
    "\n",
    "# X_train = X_train.set_index(['customer_id', 'article_id'])\n",
    "# X_test = X_test.set_index(['customer_id', 'article_id'])\n",
    "# print(X_train.shape, X_test.shape)\n",
    "# print('Features:', list(X_train.columns))"
   ]
  },
  {
   "cell_type": "code",
   "execution_count": 52,
   "id": "df82bb07",
   "metadata": {
    "_kg_hide-input": true,
    "execution": {
     "iopub.execute_input": "2022-04-06T10:34:07.597655Z",
     "iopub.status.busy": "2022-04-06T10:34:07.596587Z",
     "iopub.status.idle": "2022-04-06T10:34:07.600017Z",
     "shell.execute_reply": "2022-04-06T10:34:07.599439Z",
     "shell.execute_reply.started": "2022-04-06T10:29:21.485680Z"
    },
    "papermill": {
     "duration": 0.093051,
     "end_time": "2022-04-06T10:34:07.600173",
     "exception": false,
     "start_time": "2022-04-06T10:34:07.507122",
     "status": "completed"
    },
    "tags": []
   },
   "outputs": [],
   "source": [
    "# optimized_params = {\n",
    "#                 'n_estimators': 10000,\n",
    "#                 'learning_rate': 0.27736469655066487,\n",
    "#                 'num_leaves': 1400,\n",
    "#                 'max_depth': 5,\n",
    "#                 'min_data_in_leaf': 6400,\n",
    "#                 'lambda_l1': 15,\n",
    "#                 'lambda_l2': 80,\n",
    "#                 'min_gain_to_split': 0.09658265522474352,\n",
    "#                 'bagging_fraction': 0.9,\n",
    "#                 'bagging_freq': 1,\n",
    "#                 'feature_fraction': 0.9}\n",
    "# best_params = {\n",
    "#             'objective': 'binary',\n",
    "#             'metric': 'binary_error',\n",
    "#             'verbosity': -1,\n",
    "#             'boosting_type': 'gbdt',\n",
    "#             'seed': 42} "
   ]
  },
  {
   "cell_type": "code",
   "execution_count": 53,
   "id": "73a91dd8",
   "metadata": {
    "_kg_hide-input": true,
    "execution": {
     "iopub.execute_input": "2022-04-06T10:34:07.777165Z",
     "iopub.status.busy": "2022-04-06T10:34:07.776138Z",
     "iopub.status.idle": "2022-04-06T10:34:07.778978Z",
     "shell.execute_reply": "2022-04-06T10:34:07.779661Z",
     "shell.execute_reply.started": "2022-04-06T10:29:21.497240Z"
    },
    "papermill": {
     "duration": 0.093936,
     "end_time": "2022-04-06T10:34:07.779839",
     "exception": false,
     "start_time": "2022-04-06T10:34:07.685903",
     "status": "completed"
    },
    "tags": []
   },
   "outputs": [],
   "source": [
    "# train_data = lgb.Dataset(X_train, y_train)\n",
    "# test_data = lgb.Dataset(X_test, y_test)\n",
    "\n",
    "# param = best_params.update(optimized_params)\n",
    "\n",
    "# res = {}\n",
    "# bst = lgb.train(\n",
    "#     param, train_data, \n",
    "#     valid_sets=[train_data, test_data], \n",
    "#     valid_names=[\"train\", \"valid\"],\n",
    "#     categorical_feature = cat_columns,\n",
    "#     num_boost_round=50000,\n",
    "#     callbacks=[early_stopping(1000), log_evaluation(100), record_evaluation(res)])"
   ]
  },
  {
   "cell_type": "code",
   "execution_count": 54,
   "id": "8efea2c8",
   "metadata": {
    "_kg_hide-input": true,
    "execution": {
     "iopub.execute_input": "2022-04-06T10:34:07.960522Z",
     "iopub.status.busy": "2022-04-06T10:34:07.959547Z",
     "iopub.status.idle": "2022-04-06T10:34:07.962260Z",
     "shell.execute_reply": "2022-04-06T10:34:07.962734Z",
     "shell.execute_reply.started": "2022-04-06T10:29:21.512275Z"
    },
    "papermill": {
     "duration": 0.095293,
     "end_time": "2022-04-06T10:34:07.962933",
     "exception": false,
     "start_time": "2022-04-06T10:34:07.867640",
     "status": "completed"
    },
    "tags": []
   },
   "outputs": [],
   "source": [
    "# X_test['lgb_score'] = bst.predict(X_test, num_iteration=bst.best_iteration)\n",
    "# lgb_res = X_test.reset_index([0, 1])[['customer_id',\n",
    "#                                     'article_id',\n",
    "#                                     'lgb_score']].sort_values('lgb_score',\n",
    "#                                                             ascending=False)"
   ]
  },
  {
   "cell_type": "code",
   "execution_count": 55,
   "id": "3f99244e",
   "metadata": {
    "_kg_hide-input": true,
    "execution": {
     "iopub.execute_input": "2022-04-06T10:34:08.143662Z",
     "iopub.status.busy": "2022-04-06T10:34:08.142572Z",
     "iopub.status.idle": "2022-04-06T10:34:08.145974Z",
     "shell.execute_reply": "2022-04-06T10:34:08.145253Z",
     "shell.execute_reply.started": "2022-04-06T10:29:21.524774Z"
    },
    "papermill": {
     "duration": 0.093535,
     "end_time": "2022-04-06T10:34:08.146125",
     "exception": false,
     "start_time": "2022-04-06T10:34:08.052590",
     "status": "completed"
    },
    "tags": []
   },
   "outputs": [],
   "source": [
    "# preds = []\n",
    "# trues = []\n",
    "# for customer_id, group in tqdm.tqdm(lgb_res.groupby('customer_id'), desc='Evaluating Light GBM Ranking Model'):\n",
    "#     predict_n_articles = list(group.article_id)[:12]\n",
    "#     actual_n_articles = list(purchase_dict.get(customer_id).keys())[:12]\n",
    "    \n",
    "#     preds.append(list(predict_n_articles))\n",
    "#     trues.append(list(actual_n_articles))\n",
    "    \n",
    "# score = np.round(mapk(trues, preds, k = 12), 5)\n",
    "# print(f'Model MAP@{12} = {score}')"
   ]
  },
  {
   "cell_type": "code",
   "execution_count": 56,
   "id": "0e5283df",
   "metadata": {
    "_kg_hide-input": true,
    "execution": {
     "iopub.execute_input": "2022-04-06T10:34:08.325093Z",
     "iopub.status.busy": "2022-04-06T10:34:08.324352Z",
     "iopub.status.idle": "2022-04-06T10:34:08.327760Z",
     "shell.execute_reply": "2022-04-06T10:34:08.327098Z",
     "shell.execute_reply.started": "2022-04-06T10:29:21.535731Z"
    },
    "papermill": {
     "duration": 0.095755,
     "end_time": "2022-04-06T10:34:08.327937",
     "exception": false,
     "start_time": "2022-04-06T10:34:08.232182",
     "status": "completed"
    },
    "tags": []
   },
   "outputs": [],
   "source": [
    "# lgb.plot_importance(bst, figsize = (15, 10));"
   ]
  },
  {
   "cell_type": "markdown",
   "id": "bbfabdf0",
   "metadata": {
    "papermill": {
     "duration": 0.087854,
     "end_time": "2022-04-06T10:34:08.505979",
     "exception": false,
     "start_time": "2022-04-06T10:34:08.418125",
     "status": "completed"
    },
    "tags": []
   },
   "source": [
    "## Writing Submission file with highly purchased articles by each customer followed by the remaining articles based on customer age category"
   ]
  },
  {
   "cell_type": "code",
   "execution_count": 57,
   "id": "db24d090",
   "metadata": {
    "execution": {
     "iopub.execute_input": "2022-04-06T10:34:08.683513Z",
     "iopub.status.busy": "2022-04-06T10:34:08.682783Z",
     "iopub.status.idle": "2022-04-06T10:34:14.290678Z",
     "shell.execute_reply": "2022-04-06T10:34:14.291204Z",
     "shell.execute_reply.started": "2022-04-06T10:29:21.546395Z"
    },
    "papermill": {
     "duration": 5.699327,
     "end_time": "2022-04-06T10:34:14.291408",
     "exception": false,
     "start_time": "2022-04-06T10:34:08.592081",
     "status": "completed"
    },
    "tags": []
   },
   "outputs": [
    {
     "data": {
      "text/html": [
       "<div>\n",
       "<style scoped>\n",
       "    .dataframe tbody tr th:only-of-type {\n",
       "        vertical-align: middle;\n",
       "    }\n",
       "\n",
       "    .dataframe tbody tr th {\n",
       "        vertical-align: top;\n",
       "    }\n",
       "\n",
       "    .dataframe thead th {\n",
       "        text-align: right;\n",
       "    }\n",
       "</style>\n",
       "<table border=\"1\" class=\"dataframe\">\n",
       "  <thead>\n",
       "    <tr style=\"text-align: right;\">\n",
       "      <th></th>\n",
       "      <th>customer_id</th>\n",
       "      <th>prediction</th>\n",
       "    </tr>\n",
       "  </thead>\n",
       "  <tbody>\n",
       "    <tr>\n",
       "      <th>0</th>\n",
       "      <td>00000dbacae5abe5e23885899a1fa44253a17956c6d1c3...</td>\n",
       "      <td>0568601043 0751471001 0915529003 0706016001 07...</td>\n",
       "    </tr>\n",
       "    <tr>\n",
       "      <th>1</th>\n",
       "      <td>0000423b00ade91418cceaf3b26c6af3dd342b51fd051e...</td>\n",
       "      <td>0751471001 0915529003 0915526001 0918292001 07...</td>\n",
       "    </tr>\n",
       "    <tr>\n",
       "      <th>2</th>\n",
       "      <td>000058a12d5b43e67d225668fa1f8d618c13dc232df0ca...</td>\n",
       "      <td>0794321007 0915526001 0706016001 0918292001 07...</td>\n",
       "    </tr>\n",
       "    <tr>\n",
       "      <th>3</th>\n",
       "      <td>00005ca1c9ed5f5146b52ac8639a40ca9d57aeff4d1bd2...</td>\n",
       "      <td>0751471001 0915529003 0915526001 0918292001 07...</td>\n",
       "    </tr>\n",
       "    <tr>\n",
       "      <th>4</th>\n",
       "      <td>00006413d8573cd20ed7128e53b7b13819fe5cfc2d801f...</td>\n",
       "      <td>0751471001 0915529003 0915526001 0918292001 07...</td>\n",
       "    </tr>\n",
       "    <tr>\n",
       "      <th>...</th>\n",
       "      <td>...</td>\n",
       "      <td>...</td>\n",
       "    </tr>\n",
       "    <tr>\n",
       "      <th>1371975</th>\n",
       "      <td>ffffbbf78b6eaac697a8a5dfbfd2bfa8113ee5b403e474...</td>\n",
       "      <td>0713997002 0720125039 0740922009 0791587007 08...</td>\n",
       "    </tr>\n",
       "    <tr>\n",
       "      <th>1371976</th>\n",
       "      <td>ffffcd5046a6143d29a04fb8c424ce494a76e5cdf4fab5...</td>\n",
       "      <td>0751471001 0915529003 0915526001 0918292001 07...</td>\n",
       "    </tr>\n",
       "    <tr>\n",
       "      <th>1371977</th>\n",
       "      <td>ffffcf35913a0bee60e8741cb2b4e78b8a98ee5ff2e6a1...</td>\n",
       "      <td>0689365050 0884081001 0794819001 0762846027 09...</td>\n",
       "    </tr>\n",
       "    <tr>\n",
       "      <th>1371978</th>\n",
       "      <td>ffffd7744cebcf3aca44ae7049d2a94b87074c3d4ffe38...</td>\n",
       "      <td>0751471001 0915529003 0915526001 0918292001 07...</td>\n",
       "    </tr>\n",
       "    <tr>\n",
       "      <th>1371979</th>\n",
       "      <td>ffffd9ac14e89946416d80e791d064701994755c3ab686...</td>\n",
       "      <td>0751471001 0915529003 0915526001 0918292001 07...</td>\n",
       "    </tr>\n",
       "  </tbody>\n",
       "</table>\n",
       "<p>1371980 rows × 2 columns</p>\n",
       "</div>"
      ],
      "text/plain": [
       "                                               customer_id  \\\n",
       "0        00000dbacae5abe5e23885899a1fa44253a17956c6d1c3...   \n",
       "1        0000423b00ade91418cceaf3b26c6af3dd342b51fd051e...   \n",
       "2        000058a12d5b43e67d225668fa1f8d618c13dc232df0ca...   \n",
       "3        00005ca1c9ed5f5146b52ac8639a40ca9d57aeff4d1bd2...   \n",
       "4        00006413d8573cd20ed7128e53b7b13819fe5cfc2d801f...   \n",
       "...                                                    ...   \n",
       "1371975  ffffbbf78b6eaac697a8a5dfbfd2bfa8113ee5b403e474...   \n",
       "1371976  ffffcd5046a6143d29a04fb8c424ce494a76e5cdf4fab5...   \n",
       "1371977  ffffcf35913a0bee60e8741cb2b4e78b8a98ee5ff2e6a1...   \n",
       "1371978  ffffd7744cebcf3aca44ae7049d2a94b87074c3d4ffe38...   \n",
       "1371979  ffffd9ac14e89946416d80e791d064701994755c3ab686...   \n",
       "\n",
       "                                                prediction  \n",
       "0        0568601043 0751471001 0915529003 0706016001 07...  \n",
       "1        0751471001 0915529003 0915526001 0918292001 07...  \n",
       "2        0794321007 0915526001 0706016001 0918292001 07...  \n",
       "3        0751471001 0915529003 0915526001 0918292001 07...  \n",
       "4        0751471001 0915529003 0915526001 0918292001 07...  \n",
       "...                                                    ...  \n",
       "1371975  0713997002 0720125039 0740922009 0791587007 08...  \n",
       "1371976  0751471001 0915529003 0915526001 0918292001 07...  \n",
       "1371977  0689365050 0884081001 0794819001 0762846027 09...  \n",
       "1371978  0751471001 0915529003 0915526001 0918292001 07...  \n",
       "1371979  0751471001 0915529003 0915526001 0918292001 07...  \n",
       "\n",
       "[1371980 rows x 2 columns]"
      ]
     },
     "execution_count": 57,
     "metadata": {},
     "output_type": "execute_result"
    }
   ],
   "source": [
    "hybrid_submission_file = pd.read_csv(r'../input/hm-trained-models/hybrid_generic/hybrid_algo1_submission_v02.csv')\n",
    "hybrid_submission_file"
   ]
  },
  {
   "cell_type": "code",
   "execution_count": 58,
   "id": "44f770cc",
   "metadata": {
    "execution": {
     "iopub.execute_input": "2022-04-06T10:34:14.482958Z",
     "iopub.status.busy": "2022-04-06T10:34:14.481904Z",
     "iopub.status.idle": "2022-04-06T10:34:27.523359Z",
     "shell.execute_reply": "2022-04-06T10:34:27.521139Z",
     "shell.execute_reply.started": "2022-04-06T10:29:26.569369Z"
    },
    "papermill": {
     "duration": 13.144469,
     "end_time": "2022-04-06T10:34:27.523543",
     "exception": false,
     "start_time": "2022-04-06T10:34:14.379074",
     "status": "completed"
    },
    "tags": []
   },
   "outputs": [],
   "source": [
    "hybrid_submission_file.to_csv('submission.csv', index=False)"
   ]
  }
 ],
 "metadata": {
  "kernelspec": {
   "display_name": "Python 3",
   "language": "python",
   "name": "python3"
  },
  "language_info": {
   "codemirror_mode": {
    "name": "ipython",
    "version": 3
   },
   "file_extension": ".py",
   "mimetype": "text/x-python",
   "name": "python",
   "nbconvert_exporter": "python",
   "pygments_lexer": "ipython3",
   "version": "3.7.12"
  },
  "papermill": {
   "default_parameters": {},
   "duration": 238.871569,
   "end_time": "2022-04-06T10:34:29.830720",
   "environment_variables": {},
   "exception": null,
   "input_path": "__notebook__.ipynb",
   "output_path": "__notebook__.ipynb",
   "parameters": {},
   "start_time": "2022-04-06T10:30:30.959151",
   "version": "2.3.3"
  }
 },
 "nbformat": 4,
 "nbformat_minor": 5
}
