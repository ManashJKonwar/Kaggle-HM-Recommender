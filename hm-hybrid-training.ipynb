{
 "cells": [
  {
   "cell_type": "markdown",
   "id": "ac85c0d4",
   "metadata": {
    "papermill": {
     "duration": 0.043786,
     "end_time": "2022-03-21T16:28:02.966070",
     "exception": false,
     "start_time": "2022-03-21T16:28:02.922284",
     "status": "completed"
    },
    "tags": []
   },
   "source": [
    "## This experiment is to apply multiple algorithms and attain the best possible MAP@12 for the problem in hand.\n",
    "\n",
    "### Approach 1\n",
    "\n",
    "**Algorithm 1:** Find the most purchased article for each user, he/she is mostly will spent similar bucks in the same item or in some other article which is similar to that.  \n",
    "This notebook will help us to get this algorithm up and running for each user. I will try to get the top 12 articles which are mostly assumed to be purchased by each user. If any user has purchased less than 12 articles, we will use top selling articles to complete article list till it reaches 12 in count. \n",
    "\n",
    "I will dump the submission csv for the entire dataset using this simple algorithm.\n",
    "\n",
    "**Algorithm 2:** Use LightFM algorithm to find the relation among customer and articles which have seen no interaction in past however the customer may have a tendency to buy these unpurchased articles in future visits. This notebook is already trained and hyperparameters are also optimized based on reduced transaction dates. Store top 200 predictions for each user. Please find the link to these notebooks below:  \n",
    "\n",
    "Link to Training Light FM model: https://www.kaggle.com/rickykonwar/h-m-lightfm-nofeatures  \n",
    "Link to Hyper Parameter Tuning Light FM Model: https://www.kaggle.com/rickykonwar/h-m-lightfm-nofeatures-hyperparamter-tuning/notebook\n",
    "\n",
    "### Approach 2  \n",
    "\n",
    "**Algorithm 3 (Hybrid):** Once we have set the algorithm 1 and algorithm 2 inferencing outputs, I will form the top 200 recommended articles for each user by combining the most purchases any customer has made (based on algorithm 1) and remaining 200-N will be filled up based on inferencing outputs for the same customer (based on algorithm 2). This combined data will be the base for the hybrid algorithm. On top of these, we will add customer and articles metadata features to clse on the classifier model. \n"
   ]
  },
  {
   "cell_type": "markdown",
   "id": "be18a67c",
   "metadata": {
    "papermill": {
     "duration": 0.044,
     "end_time": "2022-03-21T16:28:03.051255",
     "exception": false,
     "start_time": "2022-03-21T16:28:03.007255",
     "status": "completed"
    },
    "tags": []
   },
   "source": [
    "## Importing Libraries"
   ]
  },
  {
   "cell_type": "code",
   "execution_count": 1,
   "id": "e0deb7ed",
   "metadata": {
    "execution": {
     "iopub.execute_input": "2022-03-21T16:28:03.140592Z",
     "iopub.status.busy": "2022-03-21T16:28:03.135135Z",
     "iopub.status.idle": "2022-03-21T16:28:04.341239Z",
     "shell.execute_reply": "2022-03-21T16:28:04.340145Z",
     "shell.execute_reply.started": "2022-03-21T16:23:32.790367Z"
    },
    "papermill": {
     "duration": 1.249339,
     "end_time": "2022-03-21T16:28:04.341424",
     "exception": false,
     "start_time": "2022-03-21T16:28:03.092085",
     "status": "completed"
    },
    "tags": []
   },
   "outputs": [],
   "source": [
    "import os\n",
    "import gc\n",
    "import copy\n",
    "import time\n",
    "import tqdm\n",
    "import pickle\n",
    "import datetime\n",
    "import numpy as np\n",
    "import pandas as pd\n",
    "import scipy.sparse as sparse\n",
    "\n",
    "from multiprocessing import Pool\n",
    "from IPython.display import FileLink\n",
    "from sklearn.model_selection import train_test_split"
   ]
  },
  {
   "cell_type": "markdown",
   "id": "d65f488a",
   "metadata": {
    "papermill": {
     "duration": 0.039464,
     "end_time": "2022-03-21T16:28:04.420503",
     "exception": false,
     "start_time": "2022-03-21T16:28:04.381039",
     "status": "completed"
    },
    "tags": []
   },
   "source": [
    "## Utility Functions"
   ]
  },
  {
   "cell_type": "code",
   "execution_count": 2,
   "id": "1d9bea8f",
   "metadata": {
    "_kg_hide-input": true,
    "_kg_hide-output": true,
    "execution": {
     "iopub.execute_input": "2022-03-21T16:28:04.503603Z",
     "iopub.status.busy": "2022-03-21T16:28:04.503009Z",
     "iopub.status.idle": "2022-03-21T16:28:04.510757Z",
     "shell.execute_reply": "2022-03-21T16:28:04.511160Z",
     "shell.execute_reply.started": "2022-03-21T16:23:33.969283Z"
    },
    "papermill": {
     "duration": 0.051714,
     "end_time": "2022-03-21T16:28:04.511323",
     "exception": false,
     "start_time": "2022-03-21T16:28:04.459609",
     "status": "completed"
    },
    "tags": []
   },
   "outputs": [],
   "source": [
    "def apk(actual, predicted, k=12):\n",
    "    '''\n",
    "    Function to get Average Precision at K\n",
    "    '''\n",
    "    if len(predicted)>k:\n",
    "        predicted = predicted[:k]\n",
    "\n",
    "    score = 0.0\n",
    "    num_hits = 0.0\n",
    "\n",
    "    for i,p in enumerate(predicted):\n",
    "        if p in actual and p not in predicted[:i]:\n",
    "            num_hits += 1.0\n",
    "            score += num_hits / (i+1.0)\n",
    "\n",
    "    if not actual:\n",
    "        return 0.0\n",
    "    \n",
    "    return score / min(len(actual), k)\n",
    "\n",
    "def mapk(actual, predicted, k=12):\n",
    "    '''\n",
    "    Function to get Mean Average Precision at K\n",
    "    '''\n",
    "    return np.mean([apk(a,p,k) for a,p in zip(actual, predicted)])\n",
    "\n",
    "def create_chunk_indices(meta_df, chunk_idx, chunk_size):\n",
    "    '''\n",
    "    Function to generate chunks of data for multiprocessing\n",
    "    '''\n",
    "    start_idx = chunk_idx * chunk_size\n",
    "    end_idx = start_idx + chunk_size\n",
    "    meta_chunk = meta_df[start_idx:end_idx]\n",
    "    print(\"start/end \"+str(chunk_idx+1)+\":\" + str(start_idx) + \",\" + str(end_idx))\n",
    "    print(len(meta_chunk))\n",
    "    #chunk_idx in return value is used to sort the processed chunks back into original order,\n",
    "    return (meta_chunk, chunk_idx)"
   ]
  },
  {
   "cell_type": "markdown",
   "id": "a0a24870",
   "metadata": {
    "papermill": {
     "duration": 0.040165,
     "end_time": "2022-03-21T16:28:04.590894",
     "exception": false,
     "start_time": "2022-03-21T16:28:04.550729",
     "status": "completed"
    },
    "tags": []
   },
   "source": [
    "## Data Loading"
   ]
  },
  {
   "cell_type": "code",
   "execution_count": 3,
   "id": "2b992479",
   "metadata": {
    "execution": {
     "iopub.execute_input": "2022-03-21T16:28:04.674191Z",
     "iopub.status.busy": "2022-03-21T16:28:04.673571Z",
     "iopub.status.idle": "2022-03-21T16:28:04.675217Z",
     "shell.execute_reply": "2022-03-21T16:28:04.675614Z",
     "shell.execute_reply.started": "2022-03-21T16:23:33.982521Z"
    },
    "papermill": {
     "duration": 0.045611,
     "end_time": "2022-03-21T16:28:04.675786",
     "exception": false,
     "start_time": "2022-03-21T16:28:04.630175",
     "status": "completed"
    },
    "tags": []
   },
   "outputs": [],
   "source": [
    "data_path = r'../input/h-and-m-personalized-fashion-recommendations/transactions_train.csv'\n",
    "customer_data_path = r'../input/h-and-m-personalized-fashion-recommendations/customers.csv'\n",
    "article_data_path = r'../input/h-and-m-personalized-fashion-recommendations/articles.csv'\n",
    "submission_data_path = r'../input/h-and-m-personalized-fashion-recommendations/sample_submission.csv'"
   ]
  },
  {
   "cell_type": "code",
   "execution_count": 4,
   "id": "cba6c366",
   "metadata": {
    "execution": {
     "iopub.execute_input": "2022-03-21T16:28:04.758457Z",
     "iopub.status.busy": "2022-03-21T16:28:04.757864Z",
     "iopub.status.idle": "2022-03-21T16:28:04.762237Z",
     "shell.execute_reply": "2022-03-21T16:28:04.762685Z",
     "shell.execute_reply.started": "2022-03-21T16:23:34.004650Z"
    },
    "papermill": {
     "duration": 0.047307,
     "end_time": "2022-03-21T16:28:04.762855",
     "exception": false,
     "start_time": "2022-03-21T16:28:04.715548",
     "status": "completed"
    },
    "tags": []
   },
   "outputs": [],
   "source": [
    "# Data Extraction\n",
    "def create_data(datapath, data_type=None):\n",
    "    if data_type is None:\n",
    "        df = pd.read_csv(datapath)\n",
    "    elif data_type == 'transaction':\n",
    "        df = pd.read_csv(datapath, dtype={'article_id': str}, parse_dates=['t_dat'])\n",
    "    elif data_type == 'article':\n",
    "        df = pd.read_csv(datapath, dtype={'article_id': str})\n",
    "    return df"
   ]
  },
  {
   "cell_type": "code",
   "execution_count": 5,
   "id": "5a63a592",
   "metadata": {
    "execution": {
     "iopub.execute_input": "2022-03-21T16:28:04.849074Z",
     "iopub.status.busy": "2022-03-21T16:28:04.848366Z",
     "iopub.status.idle": "2022-03-21T16:29:31.046166Z",
     "shell.execute_reply": "2022-03-21T16:29:31.047008Z",
     "shell.execute_reply.started": "2022-03-21T16:23:34.018072Z"
    },
    "papermill": {
     "duration": 86.244952,
     "end_time": "2022-03-21T16:29:31.047497",
     "exception": false,
     "start_time": "2022-03-21T16:28:04.802545",
     "status": "completed"
    },
    "tags": []
   },
   "outputs": [
    {
     "name": "stdout",
     "output_type": "stream",
     "text": [
      "(31788324, 5)\n",
      "734-total No of unique transactions dates in data sheet\n",
      "1362281-total No of unique customers ids in data sheet\n",
      "104547-total No of unique article ids courses names in data sheet\n",
      "2-total No of unique sales channels in data sheet\n",
      "CPU times: user 50.3 s, sys: 7.89 s, total: 58.2 s\n",
      "Wall time: 1min 26s\n"
     ]
    }
   ],
   "source": [
    "%%time\n",
    "\n",
    "# Load all sales data (for 3 years starting from 2018 to 2020)\n",
    "# ALso, article_id is treated as a string column otherwise it \n",
    "# would drop the leading zeros while reading the specific column values\n",
    "transactions_data=create_data(data_path, data_type='transaction')\n",
    "print(transactions_data.shape)\n",
    "\n",
    "# # Unique Attributes\n",
    "print(str(len(transactions_data['t_dat'].drop_duplicates())) + \"-total No of unique transactions dates in data sheet\")\n",
    "print(str(len(transactions_data['customer_id'].drop_duplicates())) + \"-total No of unique customers ids in data sheet\")\n",
    "print(str(len(transactions_data['article_id'].drop_duplicates())) + \"-total No of unique article ids courses names in data sheet\")\n",
    "print(str(len(transactions_data['sales_channel_id'].drop_duplicates())) + \"-total No of unique sales channels in data sheet\")"
   ]
  },
  {
   "cell_type": "code",
   "execution_count": 6,
   "id": "478326ec",
   "metadata": {
    "execution": {
     "iopub.execute_input": "2022-03-21T16:29:31.136773Z",
     "iopub.status.busy": "2022-03-21T16:29:31.136127Z",
     "iopub.status.idle": "2022-03-21T16:29:36.916593Z",
     "shell.execute_reply": "2022-03-21T16:29:36.917106Z",
     "shell.execute_reply.started": "2022-03-21T16:25:06.290690Z"
    },
    "papermill": {
     "duration": 5.828398,
     "end_time": "2022-03-21T16:29:36.917288",
     "exception": false,
     "start_time": "2022-03-21T16:29:31.088890",
     "status": "completed"
    },
    "tags": []
   },
   "outputs": [
    {
     "name": "stdout",
     "output_type": "stream",
     "text": [
      "(1371980, 7)\n",
      "1371980-total No of unique customers ids in customer data sheet\n",
      "CPU times: user 3.52 s, sys: 392 ms, total: 3.91 s\n",
      "Wall time: 5.78 s\n"
     ]
    }
   ],
   "source": [
    "%%time\n",
    "\n",
    "# Load all Customers\n",
    "customer_data=create_data(customer_data_path)\n",
    "print(customer_data.shape)\n",
    "\n",
    "print(str(len(customer_data['customer_id'].drop_duplicates())) + \"-total No of unique customers ids in customer data sheet\")"
   ]
  },
  {
   "cell_type": "code",
   "execution_count": 7,
   "id": "713cfa59",
   "metadata": {
    "execution": {
     "iopub.execute_input": "2022-03-21T16:29:37.006114Z",
     "iopub.status.busy": "2022-03-21T16:29:37.005474Z",
     "iopub.status.idle": "2022-03-21T16:29:38.049565Z",
     "shell.execute_reply": "2022-03-21T16:29:38.049036Z",
     "shell.execute_reply.started": "2022-03-21T16:25:12.420385Z"
    },
    "papermill": {
     "duration": 1.090977,
     "end_time": "2022-03-21T16:29:38.049717",
     "exception": false,
     "start_time": "2022-03-21T16:29:36.958740",
     "status": "completed"
    },
    "tags": []
   },
   "outputs": [
    {
     "name": "stdout",
     "output_type": "stream",
     "text": [
      "(105542, 25)\n",
      "105542-total No of unique article ids in article data sheet\n",
      "CPU times: user 677 ms, sys: 51.1 ms, total: 728 ms\n",
      "Wall time: 1.04 s\n"
     ]
    }
   ],
   "source": [
    "%%time\n",
    "\n",
    "# Load all Articles\n",
    "article_data=create_data(article_data_path, data_type='article')\n",
    "print(article_data.shape)\n",
    "\n",
    "print(str(len(article_data['article_id'].drop_duplicates())) + \"-total No of unique article ids in article data sheet\")"
   ]
  },
  {
   "cell_type": "code",
   "execution_count": 8,
   "id": "c525358f",
   "metadata": {
    "execution": {
     "iopub.execute_input": "2022-03-21T16:29:38.137656Z",
     "iopub.status.busy": "2022-03-21T16:29:38.137057Z",
     "iopub.status.idle": "2022-03-21T16:29:43.342946Z",
     "shell.execute_reply": "2022-03-21T16:29:43.342261Z",
     "shell.execute_reply.started": "2022-03-21T16:25:13.604844Z"
    },
    "papermill": {
     "duration": 5.251749,
     "end_time": "2022-03-21T16:29:43.343147",
     "exception": false,
     "start_time": "2022-03-21T16:29:38.091398",
     "status": "completed"
    },
    "tags": []
   },
   "outputs": [
    {
     "name": "stdout",
     "output_type": "stream",
     "text": [
      "(1371980, 2)\n",
      "1371980-total No of unique customer ids in submission data sheet\n",
      "CPU times: user 2.91 s, sys: 316 ms, total: 3.22 s\n",
      "Wall time: 5.2 s\n"
     ]
    }
   ],
   "source": [
    "%%time\n",
    "\n",
    "# Load all submission samples data\n",
    "submission_data=create_data(submission_data_path)\n",
    "print(submission_data.shape)\n",
    "\n",
    "print(str(len(submission_data['customer_id'].drop_duplicates())) + \"-total No of unique customer ids in submission data sheet\")"
   ]
  },
  {
   "cell_type": "markdown",
   "id": "591a291a",
   "metadata": {
    "papermill": {
     "duration": 0.041415,
     "end_time": "2022-03-21T16:29:43.426814",
     "exception": false,
     "start_time": "2022-03-21T16:29:43.385399",
     "status": "completed"
    },
    "tags": []
   },
   "source": [
    "## Capturing Seasonal Effect by Limiting the transaction date\n",
    "Based on notebook with link: https://www.kaggle.com/tomooinubushi/folk-of-time-is-our-best-friend/notebook"
   ]
  },
  {
   "cell_type": "code",
   "execution_count": 9,
   "id": "68ff5dc9",
   "metadata": {
    "execution": {
     "iopub.execute_input": "2022-03-21T16:29:43.514127Z",
     "iopub.status.busy": "2022-03-21T16:29:43.513479Z",
     "iopub.status.idle": "2022-03-21T16:29:44.316582Z",
     "shell.execute_reply": "2022-03-21T16:29:44.316101Z",
     "shell.execute_reply.started": "2022-03-21T16:25:18.957342Z"
    },
    "papermill": {
     "duration": 0.847994,
     "end_time": "2022-03-21T16:29:44.316727",
     "exception": false,
     "start_time": "2022-03-21T16:29:43.468733",
     "status": "completed"
    },
    "tags": []
   },
   "outputs": [
    {
     "data": {
      "text/plain": [
       "(1190911, 5)"
      ]
     },
     "execution_count": 9,
     "metadata": {},
     "output_type": "execute_result"
    }
   ],
   "source": [
    "transactions_data = transactions_data[transactions_data['t_dat'] > '2020-08-21']\n",
    "transactions_data.shape"
   ]
  },
  {
   "cell_type": "markdown",
   "id": "0e1ff7f1",
   "metadata": {
    "papermill": {
     "duration": 0.042055,
     "end_time": "2022-03-21T16:29:44.401276",
     "exception": false,
     "start_time": "2022-03-21T16:29:44.359221",
     "status": "completed"
    },
    "tags": []
   },
   "source": [
    "## Splitting transaction data to training and validation set"
   ]
  },
  {
   "cell_type": "code",
   "execution_count": 10,
   "id": "216162ee",
   "metadata": {
    "execution": {
     "iopub.execute_input": "2022-03-21T16:29:44.492641Z",
     "iopub.status.busy": "2022-03-21T16:29:44.492005Z",
     "iopub.status.idle": "2022-03-21T16:29:44.626284Z",
     "shell.execute_reply": "2022-03-21T16:29:44.625783Z",
     "shell.execute_reply.started": "2022-03-21T16:25:19.862789Z"
    },
    "papermill": {
     "duration": 0.182759,
     "end_time": "2022-03-21T16:29:44.626444",
     "exception": false,
     "start_time": "2022-03-21T16:29:44.443685",
     "status": "completed"
    },
    "tags": []
   },
   "outputs": [
    {
     "name": "stdout",
     "output_type": "stream",
     "text": [
      "(950600, 5)\n",
      "(240311, 5)\n"
     ]
    }
   ],
   "source": [
    "train_start_date = transactions_data.t_dat.min()\n",
    "split_date = transactions_data.t_dat.max() - datetime.timedelta(days = 7)\n",
    "train_transaction_data = transactions_data[(transactions_data.t_dat <= split_date) & (transactions_data.t_dat >= train_start_date)].copy()\n",
    "test_transaction_data = transactions_data[transactions_data.t_dat > split_date].copy()\n",
    "\n",
    "print(train_transaction_data.shape)\n",
    "print(test_transaction_data.shape)"
   ]
  },
  {
   "cell_type": "code",
   "execution_count": 11,
   "id": "0c053112",
   "metadata": {
    "execution": {
     "iopub.execute_input": "2022-03-21T16:29:44.714563Z",
     "iopub.status.busy": "2022-03-21T16:29:44.713976Z",
     "iopub.status.idle": "2022-03-21T16:29:46.015673Z",
     "shell.execute_reply": "2022-03-21T16:29:46.014325Z",
     "shell.execute_reply.started": "2022-03-21T16:25:20.010665Z"
    },
    "papermill": {
     "duration": 1.347072,
     "end_time": "2022-03-21T16:29:46.015859",
     "exception": false,
     "start_time": "2022-03-21T16:29:44.668787",
     "status": "completed"
    },
    "tags": []
   },
   "outputs": [],
   "source": [
    "train_transaction_data = train_transaction_data.groupby(['customer_id','article_id']).agg({'t_dat':'count'}).reset_index()\n",
    "test_transaction_data = test_transaction_data.groupby(['customer_id','article_id']).agg({'t_dat':'count'}).reset_index()\n",
    "\n",
    "train_transaction_data.rename({'t_dat': 't_count'}, axis=1, inplace=True)\n",
    "test_transaction_data.rename({'t_dat': 't_count'}, axis=1, inplace=True)"
   ]
  },
  {
   "cell_type": "markdown",
   "id": "2c86f582",
   "metadata": {
    "papermill": {
     "duration": 0.050856,
     "end_time": "2022-03-21T16:29:46.139905",
     "exception": false,
     "start_time": "2022-03-21T16:29:46.089049",
     "status": "completed"
    },
    "tags": []
   },
   "source": [
    "## Algorithm 1: Extracting Topmost articles for each user based on number of purchase made"
   ]
  },
  {
   "cell_type": "code",
   "execution_count": 12,
   "id": "b81ac3ab",
   "metadata": {
    "execution": {
     "iopub.execute_input": "2022-03-21T16:29:46.259514Z",
     "iopub.status.busy": "2022-03-21T16:29:46.252371Z",
     "iopub.status.idle": "2022-03-21T16:29:47.694943Z",
     "shell.execute_reply": "2022-03-21T16:29:47.694299Z",
     "shell.execute_reply.started": "2022-03-21T16:25:21.692678Z"
    },
    "papermill": {
     "duration": 1.510231,
     "end_time": "2022-03-21T16:29:47.695099",
     "exception": false,
     "start_time": "2022-03-21T16:29:46.184868",
     "status": "completed"
    },
    "tags": []
   },
   "outputs": [],
   "source": [
    "train_val_merge_transaction_data = train_transaction_data[train_transaction_data.article_id.isin(test_transaction_data.article_id.unique())] \n",
    "train_top_articles = train_val_merge_transaction_data.sort_values(['customer_id', 't_count'], ascending=False).groupby(['customer_id']).head(12)\n",
    "test_top_articles = test_transaction_data.sort_values(['customer_id', 't_count'], ascending=False).groupby(['customer_id']).head(12)\n",
    "\n",
    "# Overall highly sold articles\n",
    "overall_top_articles = train_top_articles.groupby(['article_id'], as_index = False)['t_count'].sum().sort_values(['t_count'])['article_id'][-12:].values\n",
    "overall_top_articles = overall_top_articles[::-1]"
   ]
  },
  {
   "cell_type": "code",
   "execution_count": 13,
   "id": "5d703060",
   "metadata": {
    "execution": {
     "iopub.execute_input": "2022-03-21T16:29:47.785699Z",
     "iopub.status.busy": "2022-03-21T16:29:47.784988Z",
     "iopub.status.idle": "2022-03-21T16:29:47.807263Z",
     "shell.execute_reply": "2022-03-21T16:29:47.806676Z",
     "shell.execute_reply.started": "2022-03-21T16:25:23.582054Z"
    },
    "papermill": {
     "duration": 0.069064,
     "end_time": "2022-03-21T16:29:47.807393",
     "exception": false,
     "start_time": "2022-03-21T16:29:47.738329",
     "status": "completed"
    },
    "tags": []
   },
   "outputs": [
    {
     "data": {
      "text/html": [
       "<div>\n",
       "<style scoped>\n",
       "    .dataframe tbody tr th:only-of-type {\n",
       "        vertical-align: middle;\n",
       "    }\n",
       "\n",
       "    .dataframe tbody tr th {\n",
       "        vertical-align: top;\n",
       "    }\n",
       "\n",
       "    .dataframe thead th {\n",
       "        text-align: right;\n",
       "    }\n",
       "</style>\n",
       "<table border=\"1\" class=\"dataframe\">\n",
       "  <thead>\n",
       "    <tr style=\"text-align: right;\">\n",
       "      <th></th>\n",
       "      <th>customer_id</th>\n",
       "      <th>article_id</th>\n",
       "      <th>t_count</th>\n",
       "    </tr>\n",
       "  </thead>\n",
       "  <tbody>\n",
       "    <tr>\n",
       "      <th>842892</th>\n",
       "      <td>ffffcf35913a0bee60e8741cb2b4e78b8a98ee5ff2e6a1...</td>\n",
       "      <td>0689365050</td>\n",
       "      <td>1</td>\n",
       "    </tr>\n",
       "    <tr>\n",
       "      <th>842893</th>\n",
       "      <td>ffffcf35913a0bee60e8741cb2b4e78b8a98ee5ff2e6a1...</td>\n",
       "      <td>0762846027</td>\n",
       "      <td>1</td>\n",
       "    </tr>\n",
       "    <tr>\n",
       "      <th>842894</th>\n",
       "      <td>ffffcf35913a0bee60e8741cb2b4e78b8a98ee5ff2e6a1...</td>\n",
       "      <td>0794819001</td>\n",
       "      <td>1</td>\n",
       "    </tr>\n",
       "    <tr>\n",
       "      <th>842895</th>\n",
       "      <td>ffffcf35913a0bee60e8741cb2b4e78b8a98ee5ff2e6a1...</td>\n",
       "      <td>0884081001</td>\n",
       "      <td>1</td>\n",
       "    </tr>\n",
       "    <tr>\n",
       "      <th>842886</th>\n",
       "      <td>ffffbbf78b6eaac697a8a5dfbfd2bfa8113ee5b403e474...</td>\n",
       "      <td>0557599022</td>\n",
       "      <td>1</td>\n",
       "    </tr>\n",
       "    <tr>\n",
       "      <th>842887</th>\n",
       "      <td>ffffbbf78b6eaac697a8a5dfbfd2bfa8113ee5b403e474...</td>\n",
       "      <td>0713997002</td>\n",
       "      <td>1</td>\n",
       "    </tr>\n",
       "    <tr>\n",
       "      <th>842888</th>\n",
       "      <td>ffffbbf78b6eaac697a8a5dfbfd2bfa8113ee5b403e474...</td>\n",
       "      <td>0720125039</td>\n",
       "      <td>1</td>\n",
       "    </tr>\n",
       "    <tr>\n",
       "      <th>842889</th>\n",
       "      <td>ffffbbf78b6eaac697a8a5dfbfd2bfa8113ee5b403e474...</td>\n",
       "      <td>0740922009</td>\n",
       "      <td>1</td>\n",
       "    </tr>\n",
       "    <tr>\n",
       "      <th>842890</th>\n",
       "      <td>ffffbbf78b6eaac697a8a5dfbfd2bfa8113ee5b403e474...</td>\n",
       "      <td>0791587007</td>\n",
       "      <td>1</td>\n",
       "    </tr>\n",
       "    <tr>\n",
       "      <th>842891</th>\n",
       "      <td>ffffbbf78b6eaac697a8a5dfbfd2bfa8113ee5b403e474...</td>\n",
       "      <td>0804992033</td>\n",
       "      <td>1</td>\n",
       "    </tr>\n",
       "  </tbody>\n",
       "</table>\n",
       "</div>"
      ],
      "text/plain": [
       "                                              customer_id  article_id  t_count\n",
       "842892  ffffcf35913a0bee60e8741cb2b4e78b8a98ee5ff2e6a1...  0689365050        1\n",
       "842893  ffffcf35913a0bee60e8741cb2b4e78b8a98ee5ff2e6a1...  0762846027        1\n",
       "842894  ffffcf35913a0bee60e8741cb2b4e78b8a98ee5ff2e6a1...  0794819001        1\n",
       "842895  ffffcf35913a0bee60e8741cb2b4e78b8a98ee5ff2e6a1...  0884081001        1\n",
       "842886  ffffbbf78b6eaac697a8a5dfbfd2bfa8113ee5b403e474...  0557599022        1\n",
       "842887  ffffbbf78b6eaac697a8a5dfbfd2bfa8113ee5b403e474...  0713997002        1\n",
       "842888  ffffbbf78b6eaac697a8a5dfbfd2bfa8113ee5b403e474...  0720125039        1\n",
       "842889  ffffbbf78b6eaac697a8a5dfbfd2bfa8113ee5b403e474...  0740922009        1\n",
       "842890  ffffbbf78b6eaac697a8a5dfbfd2bfa8113ee5b403e474...  0791587007        1\n",
       "842891  ffffbbf78b6eaac697a8a5dfbfd2bfa8113ee5b403e474...  0804992033        1"
      ]
     },
     "execution_count": 13,
     "metadata": {},
     "output_type": "execute_result"
    }
   ],
   "source": [
    "train_top_articles.head(10)"
   ]
  },
  {
   "cell_type": "code",
   "execution_count": 14,
   "id": "ab27d3b8",
   "metadata": {
    "execution": {
     "iopub.execute_input": "2022-03-21T16:29:47.902391Z",
     "iopub.status.busy": "2022-03-21T16:29:47.901543Z",
     "iopub.status.idle": "2022-03-21T16:29:47.905130Z",
     "shell.execute_reply": "2022-03-21T16:29:47.904696Z",
     "shell.execute_reply.started": "2022-03-21T16:25:23.606208Z"
    },
    "papermill": {
     "duration": 0.055456,
     "end_time": "2022-03-21T16:29:47.905267",
     "exception": false,
     "start_time": "2022-03-21T16:29:47.849811",
     "status": "completed"
    },
    "tags": []
   },
   "outputs": [
    {
     "data": {
      "text/html": [
       "<div>\n",
       "<style scoped>\n",
       "    .dataframe tbody tr th:only-of-type {\n",
       "        vertical-align: middle;\n",
       "    }\n",
       "\n",
       "    .dataframe tbody tr th {\n",
       "        vertical-align: top;\n",
       "    }\n",
       "\n",
       "    .dataframe thead th {\n",
       "        text-align: right;\n",
       "    }\n",
       "</style>\n",
       "<table border=\"1\" class=\"dataframe\">\n",
       "  <thead>\n",
       "    <tr style=\"text-align: right;\">\n",
       "      <th></th>\n",
       "      <th>customer_id</th>\n",
       "      <th>article_id</th>\n",
       "      <th>t_count</th>\n",
       "    </tr>\n",
       "  </thead>\n",
       "  <tbody>\n",
       "    <tr>\n",
       "      <th>213727</th>\n",
       "      <td>fffef3b6b73545df065b521e19f64bf6fe93bfd450ab20...</td>\n",
       "      <td>0898573003</td>\n",
       "      <td>1</td>\n",
       "    </tr>\n",
       "    <tr>\n",
       "      <th>213725</th>\n",
       "      <td>fffd870c6324ad3bda24e4d6aeae221c199479086bfdfd...</td>\n",
       "      <td>0750423010</td>\n",
       "      <td>1</td>\n",
       "    </tr>\n",
       "    <tr>\n",
       "      <th>213726</th>\n",
       "      <td>fffd870c6324ad3bda24e4d6aeae221c199479086bfdfd...</td>\n",
       "      <td>0761269001</td>\n",
       "      <td>1</td>\n",
       "    </tr>\n",
       "    <tr>\n",
       "      <th>213722</th>\n",
       "      <td>fffae8eb3a282d8c43c77dd2ca0621703b71e90904dfde...</td>\n",
       "      <td>0865624003</td>\n",
       "      <td>2</td>\n",
       "    </tr>\n",
       "    <tr>\n",
       "      <th>213715</th>\n",
       "      <td>fffae8eb3a282d8c43c77dd2ca0621703b71e90904dfde...</td>\n",
       "      <td>0396135007</td>\n",
       "      <td>1</td>\n",
       "    </tr>\n",
       "    <tr>\n",
       "      <th>213716</th>\n",
       "      <td>fffae8eb3a282d8c43c77dd2ca0621703b71e90904dfde...</td>\n",
       "      <td>0715624050</td>\n",
       "      <td>1</td>\n",
       "    </tr>\n",
       "    <tr>\n",
       "      <th>213717</th>\n",
       "      <td>fffae8eb3a282d8c43c77dd2ca0621703b71e90904dfde...</td>\n",
       "      <td>0797892001</td>\n",
       "      <td>1</td>\n",
       "    </tr>\n",
       "    <tr>\n",
       "      <th>213718</th>\n",
       "      <td>fffae8eb3a282d8c43c77dd2ca0621703b71e90904dfde...</td>\n",
       "      <td>0817472003</td>\n",
       "      <td>1</td>\n",
       "    </tr>\n",
       "    <tr>\n",
       "      <th>213719</th>\n",
       "      <td>fffae8eb3a282d8c43c77dd2ca0621703b71e90904dfde...</td>\n",
       "      <td>0817472007</td>\n",
       "      <td>1</td>\n",
       "    </tr>\n",
       "    <tr>\n",
       "      <th>213720</th>\n",
       "      <td>fffae8eb3a282d8c43c77dd2ca0621703b71e90904dfde...</td>\n",
       "      <td>0826150004</td>\n",
       "      <td>1</td>\n",
       "    </tr>\n",
       "  </tbody>\n",
       "</table>\n",
       "</div>"
      ],
      "text/plain": [
       "                                              customer_id  article_id  t_count\n",
       "213727  fffef3b6b73545df065b521e19f64bf6fe93bfd450ab20...  0898573003        1\n",
       "213725  fffd870c6324ad3bda24e4d6aeae221c199479086bfdfd...  0750423010        1\n",
       "213726  fffd870c6324ad3bda24e4d6aeae221c199479086bfdfd...  0761269001        1\n",
       "213722  fffae8eb3a282d8c43c77dd2ca0621703b71e90904dfde...  0865624003        2\n",
       "213715  fffae8eb3a282d8c43c77dd2ca0621703b71e90904dfde...  0396135007        1\n",
       "213716  fffae8eb3a282d8c43c77dd2ca0621703b71e90904dfde...  0715624050        1\n",
       "213717  fffae8eb3a282d8c43c77dd2ca0621703b71e90904dfde...  0797892001        1\n",
       "213718  fffae8eb3a282d8c43c77dd2ca0621703b71e90904dfde...  0817472003        1\n",
       "213719  fffae8eb3a282d8c43c77dd2ca0621703b71e90904dfde...  0817472007        1\n",
       "213720  fffae8eb3a282d8c43c77dd2ca0621703b71e90904dfde...  0826150004        1"
      ]
     },
     "execution_count": 14,
     "metadata": {},
     "output_type": "execute_result"
    }
   ],
   "source": [
    "test_top_articles.head(10)"
   ]
  },
  {
   "cell_type": "code",
   "execution_count": 15,
   "id": "edf3f42f",
   "metadata": {
    "execution": {
     "iopub.execute_input": "2022-03-21T16:29:47.999333Z",
     "iopub.status.busy": "2022-03-21T16:29:47.998759Z",
     "iopub.status.idle": "2022-03-21T16:29:48.001245Z",
     "shell.execute_reply": "2022-03-21T16:29:48.001846Z",
     "shell.execute_reply.started": "2022-03-21T16:25:23.620412Z"
    },
    "papermill": {
     "duration": 0.051565,
     "end_time": "2022-03-21T16:29:48.002007",
     "exception": false,
     "start_time": "2022-03-21T16:29:47.950442",
     "status": "completed"
    },
    "tags": []
   },
   "outputs": [
    {
     "data": {
      "text/plain": [
       "array(['0751471001', '0706016001', '0915526001', '0751471043',\n",
       "       '0918292001', '0915529003', '0898694001', '0448509014',\n",
       "       '0863595006', '0896152002', '0850917001', '0915526002'],\n",
       "      dtype=object)"
      ]
     },
     "execution_count": 15,
     "metadata": {},
     "output_type": "execute_result"
    }
   ],
   "source": [
    "overall_top_articles"
   ]
  },
  {
   "cell_type": "markdown",
   "id": "808da725",
   "metadata": {
    "papermill": {
     "duration": 0.044101,
     "end_time": "2022-03-21T16:29:48.090201",
     "exception": false,
     "start_time": "2022-03-21T16:29:48.046100",
     "status": "completed"
    },
    "tags": []
   },
   "source": [
    "### Evaluating this algorithm"
   ]
  },
  {
   "cell_type": "code",
   "execution_count": 16,
   "id": "89acd70c",
   "metadata": {
    "execution": {
     "iopub.execute_input": "2022-03-21T16:29:48.181249Z",
     "iopub.status.busy": "2022-03-21T16:29:48.180652Z",
     "iopub.status.idle": "2022-03-21T16:29:48.190617Z",
     "shell.execute_reply": "2022-03-21T16:29:48.191389Z",
     "shell.execute_reply.started": "2022-03-21T16:25:23.636154Z"
    },
    "papermill": {
     "duration": 0.057277,
     "end_time": "2022-03-21T16:29:48.191630",
     "exception": false,
     "start_time": "2022-03-21T16:29:48.134353",
     "status": "completed"
    },
    "tags": []
   },
   "outputs": [
    {
     "name": "stdout",
     "output_type": "stream",
     "text": [
      "CPU times: user 4 µs, sys: 0 ns, total: 4 µs\n",
      "Wall time: 8.82 µs\n"
     ]
    }
   ],
   "source": [
    "%%time\n",
    "\n",
    "def perform_cross_validation(): \n",
    "    preds, trues = [],[]\n",
    "    for customer in tqdm.tqdm(train_top_articles.customer_id.unique(), desc='Evaluating Simple Algorithm'):\n",
    "\n",
    "        predict_n_articles = train_top_articles[train_top_articles.customer_id.isin([customer])]['article_id'].values[:12]\n",
    "        actual_n_articles = test_top_articles[test_top_articles.customer_id.isin([customer])]['article_id'].values[:12]\n",
    "\n",
    "        if len(predict_n_articles) < 12:\n",
    "            predict_n_articles = list(predict_n_articles[:len(predict_n_articles)]) + list(overall_top_articles[:12 - len(predict_n_articles)])\n",
    "\n",
    "        preds.append(list(predict_n_articles))\n",
    "        trues.append(list(actual_n_articles))\n",
    "    return preds, trues"
   ]
  },
  {
   "cell_type": "code",
   "execution_count": 17,
   "id": "73388a63",
   "metadata": {
    "execution": {
     "iopub.execute_input": "2022-03-21T16:29:48.285778Z",
     "iopub.status.busy": "2022-03-21T16:29:48.285021Z",
     "iopub.status.idle": "2022-03-21T16:29:49.162781Z",
     "shell.execute_reply": "2022-03-21T16:29:49.163231Z",
     "shell.execute_reply.started": "2022-03-21T16:25:23.651378Z"
    },
    "papermill": {
     "duration": 0.926472,
     "end_time": "2022-03-21T16:29:49.163449",
     "exception": false,
     "start_time": "2022-03-21T16:29:48.236977",
     "status": "completed"
    },
    "tags": []
   },
   "outputs": [],
   "source": [
    "preds = []\n",
    "trues = []\n",
    "\n",
    "if os.path.exists(r'../input/hm-trained-models/hybrid_generic/hybrid_simplealgo_actuals.pkl') and os.path.exists(r'../input/hm-trained-models/hybrid_generic/hybrid_simplealgo_preds.pkl'):\n",
    "\n",
    "    with open(r'../input/hm-trained-models/hybrid_generic/hybrid_simplealgo_actuals.pkl', 'rb') as input_file:\n",
    "        trues = pickle.load(input_file)\n",
    "    with open(r'../input/hm-trained-models/hybrid_generic/hybrid_simplealgo_preds.pkl', 'rb') as input_file:\n",
    "        preds = pickle.load(input_file)\n",
    "else:\n",
    "    preds, trues = perform_cross_validation()"
   ]
  },
  {
   "attachments": {
    "90fc0fb6-09b2-4e46-a1dc-bb7324ed4feb.png": {
     "image/png": "[encoded data removed]"
    }
   },
   "cell_type": "markdown",
   "id": "88f15347",
   "metadata": {
    "papermill": {
     "duration": 0.043493,
     "end_time": "2022-03-21T16:29:49.254445",
     "exception": false,
     "start_time": "2022-03-21T16:29:49.210952",
     "status": "completed"
    },
    "tags": []
   },
   "source": [
    "#### Screenshot for predictions and actuals extraction\n",
    "\n",
    "![image.png](attachment:90fc0fb6-09b2-4e46-a1dc-bb7324ed4feb.png)"
   ]
  },
  {
   "cell_type": "code",
   "execution_count": 18,
   "id": "83474f9d",
   "metadata": {
    "execution": {
     "iopub.execute_input": "2022-03-21T16:29:49.347327Z",
     "iopub.status.busy": "2022-03-21T16:29:49.345055Z",
     "iopub.status.idle": "2022-03-21T16:29:49.581181Z",
     "shell.execute_reply": "2022-03-21T16:29:49.580678Z",
     "shell.execute_reply.started": "2022-03-21T16:25:24.574999Z"
    },
    "papermill": {
     "duration": 0.283203,
     "end_time": "2022-03-21T16:29:49.581324",
     "exception": false,
     "start_time": "2022-03-21T16:29:49.298121",
     "status": "completed"
    },
    "tags": []
   },
   "outputs": [],
   "source": [
    "# Save Predictions and Actual\n",
    "with open('hybrid_simplealgo_preds.pkl', 'wb') as f:\n",
    "    pickle.dump(preds, f)\n",
    "with open('hybrid_simplealgo_actuals.pkl', 'wb') as f:\n",
    "    pickle.dump(trues, f)"
   ]
  },
  {
   "cell_type": "code",
   "execution_count": 19,
   "id": "0f845c5e",
   "metadata": {
    "execution": {
     "iopub.execute_input": "2022-03-21T16:29:49.673660Z",
     "iopub.status.busy": "2022-03-21T16:29:49.673022Z",
     "iopub.status.idle": "2022-03-21T16:29:49.973094Z",
     "shell.execute_reply": "2022-03-21T16:29:49.973593Z",
     "shell.execute_reply.started": "2022-03-21T16:25:24.921715Z"
    },
    "papermill": {
     "duration": 0.347024,
     "end_time": "2022-03-21T16:29:49.973772",
     "exception": false,
     "start_time": "2022-03-21T16:29:49.626748",
     "status": "completed"
    },
    "tags": []
   },
   "outputs": [
    {
     "name": "stdout",
     "output_type": "stream",
     "text": [
      "MAP@12 = 0.006\n"
     ]
    }
   ],
   "source": [
    "score = np.round(mapk(trues, preds, k = 12), 5)\n",
    "print(f'MAP@{12} = {score}')"
   ]
  },
  {
   "cell_type": "markdown",
   "id": "a0c85c81",
   "metadata": {
    "papermill": {
     "duration": 0.045359,
     "end_time": "2022-03-21T16:29:50.063618",
     "exception": false,
     "start_time": "2022-03-21T16:29:50.018259",
     "status": "completed"
    },
    "tags": []
   },
   "source": [
    "### Getting Submission data from entire transaction data"
   ]
  },
  {
   "cell_type": "code",
   "execution_count": 20,
   "id": "2e8ff9f2",
   "metadata": {
    "execution": {
     "iopub.execute_input": "2022-03-21T16:29:50.158027Z",
     "iopub.status.busy": "2022-03-21T16:29:50.157365Z",
     "iopub.status.idle": "2022-03-21T16:29:51.421486Z",
     "shell.execute_reply": "2022-03-21T16:29:51.420992Z",
     "shell.execute_reply.started": "2022-03-21T16:25:25.358219Z"
    },
    "papermill": {
     "duration": 1.312892,
     "end_time": "2022-03-21T16:29:51.421643",
     "exception": false,
     "start_time": "2022-03-21T16:29:50.108751",
     "status": "completed"
    },
    "tags": []
   },
   "outputs": [
    {
     "name": "stdout",
     "output_type": "stream",
     "text": [
      "256355\n"
     ]
    }
   ],
   "source": [
    "purchase_dict = {}\n",
    "\n",
    "for i,x in enumerate(zip(transactions_data['customer_id'], transactions_data['article_id'])):\n",
    "    cust_id, art_id = x\n",
    "    if cust_id not in purchase_dict:\n",
    "        purchase_dict[cust_id] = {}\n",
    "    \n",
    "    if art_id not in purchase_dict[cust_id]:\n",
    "        purchase_dict[cust_id][art_id] = 0\n",
    "    \n",
    "    purchase_dict[cust_id][art_id] += 1\n",
    "    \n",
    "print(len(purchase_dict))"
   ]
  },
  {
   "cell_type": "code",
   "execution_count": 21,
   "id": "0e4fa9a7",
   "metadata": {
    "execution": {
     "iopub.execute_input": "2022-03-21T16:29:51.515245Z",
     "iopub.status.busy": "2022-03-21T16:29:51.514603Z",
     "iopub.status.idle": "2022-03-21T16:29:53.303866Z",
     "shell.execute_reply": "2022-03-21T16:29:53.304383Z",
     "shell.execute_reply.started": "2022-03-21T16:25:27.045571Z"
    },
    "papermill": {
     "duration": 1.837113,
     "end_time": "2022-03-21T16:29:53.304568",
     "exception": false,
     "start_time": "2022-03-21T16:29:51.467455",
     "status": "completed"
    },
    "tags": []
   },
   "outputs": [
    {
     "name": "stdout",
     "output_type": "stream",
     "text": [
      "(1371980, 2)\n"
     ]
    }
   ],
   "source": [
    "final_submission_data = submission_data[['customer_id']].copy()\n",
    "prediction_list = []\n",
    "top_articles_list = list((transactions_data['article_id'].value_counts()).index)[:12]\n",
    "top_prediction_string = ' '.join(top_articles_list)\n",
    "\n",
    "for i, cust_id in enumerate(submission_data['customer_id'].values.reshape((-1,))):\n",
    "    if cust_id in purchase_dict:\n",
    "        l = sorted((purchase_dict[cust_id]).items(), key=lambda x: x[1], reverse=True)\n",
    "        l = [y[0] for y in l]\n",
    "        if len(l)>12:\n",
    "            s = ' '.join(l[:12])\n",
    "        else:\n",
    "            s = ' '.join(l+top_articles_list[:(12-len(l))])\n",
    "    else:\n",
    "        s = top_prediction_string\n",
    "    prediction_list.append(s)\n",
    "\n",
    "final_submission_data['prediction'] = prediction_list\n",
    "print(final_submission_data.shape)"
   ]
  },
  {
   "cell_type": "code",
   "execution_count": 22,
   "id": "368a3272",
   "metadata": {
    "execution": {
     "iopub.execute_input": "2022-03-21T16:29:53.403030Z",
     "iopub.status.busy": "2022-03-21T16:29:53.402392Z",
     "iopub.status.idle": "2022-03-21T16:29:53.405085Z",
     "shell.execute_reply": "2022-03-21T16:29:53.405479Z",
     "shell.execute_reply.started": "2022-03-21T16:25:29.420820Z"
    },
    "papermill": {
     "duration": 0.056423,
     "end_time": "2022-03-21T16:29:53.405640",
     "exception": false,
     "start_time": "2022-03-21T16:29:53.349217",
     "status": "completed"
    },
    "tags": []
   },
   "outputs": [
    {
     "data": {
      "text/html": [
       "<div>\n",
       "<style scoped>\n",
       "    .dataframe tbody tr th:only-of-type {\n",
       "        vertical-align: middle;\n",
       "    }\n",
       "\n",
       "    .dataframe tbody tr th {\n",
       "        vertical-align: top;\n",
       "    }\n",
       "\n",
       "    .dataframe thead th {\n",
       "        text-align: right;\n",
       "    }\n",
       "</style>\n",
       "<table border=\"1\" class=\"dataframe\">\n",
       "  <thead>\n",
       "    <tr style=\"text-align: right;\">\n",
       "      <th></th>\n",
       "      <th>customer_id</th>\n",
       "      <th>prediction</th>\n",
       "    </tr>\n",
       "  </thead>\n",
       "  <tbody>\n",
       "    <tr>\n",
       "      <th>0</th>\n",
       "      <td>00000dbacae5abe5e23885899a1fa44253a17956c6d1c3...</td>\n",
       "      <td>0568601043 0751471001 0915529003 0915526001 09...</td>\n",
       "    </tr>\n",
       "    <tr>\n",
       "      <th>1</th>\n",
       "      <td>0000423b00ade91418cceaf3b26c6af3dd342b51fd051e...</td>\n",
       "      <td>0751471001 0915529003 0915526001 0918292001 07...</td>\n",
       "    </tr>\n",
       "    <tr>\n",
       "      <th>2</th>\n",
       "      <td>000058a12d5b43e67d225668fa1f8d618c13dc232df0ca...</td>\n",
       "      <td>0794321007 0751471001 0915529003 0915526001 09...</td>\n",
       "    </tr>\n",
       "    <tr>\n",
       "      <th>3</th>\n",
       "      <td>00005ca1c9ed5f5146b52ac8639a40ca9d57aeff4d1bd2...</td>\n",
       "      <td>0751471001 0915529003 0915526001 0918292001 07...</td>\n",
       "    </tr>\n",
       "    <tr>\n",
       "      <th>4</th>\n",
       "      <td>00006413d8573cd20ed7128e53b7b13819fe5cfc2d801f...</td>\n",
       "      <td>0751471001 0915529003 0915526001 0918292001 07...</td>\n",
       "    </tr>\n",
       "  </tbody>\n",
       "</table>\n",
       "</div>"
      ],
      "text/plain": [
       "                                         customer_id  \\\n",
       "0  00000dbacae5abe5e23885899a1fa44253a17956c6d1c3...   \n",
       "1  0000423b00ade91418cceaf3b26c6af3dd342b51fd051e...   \n",
       "2  000058a12d5b43e67d225668fa1f8d618c13dc232df0ca...   \n",
       "3  00005ca1c9ed5f5146b52ac8639a40ca9d57aeff4d1bd2...   \n",
       "4  00006413d8573cd20ed7128e53b7b13819fe5cfc2d801f...   \n",
       "\n",
       "                                          prediction  \n",
       "0  0568601043 0751471001 0915529003 0915526001 09...  \n",
       "1  0751471001 0915529003 0915526001 0918292001 07...  \n",
       "2  0794321007 0751471001 0915529003 0915526001 09...  \n",
       "3  0751471001 0915529003 0915526001 0918292001 07...  \n",
       "4  0751471001 0915529003 0915526001 0918292001 07...  "
      ]
     },
     "execution_count": 22,
     "metadata": {},
     "output_type": "execute_result"
    }
   ],
   "source": [
    "final_submission_data.head()"
   ]
  },
  {
   "cell_type": "markdown",
   "id": "4630d67d",
   "metadata": {
    "papermill": {
     "duration": 0.045114,
     "end_time": "2022-03-21T16:29:53.495764",
     "exception": false,
     "start_time": "2022-03-21T16:29:53.450650",
     "status": "completed"
    },
    "tags": []
   },
   "source": [
    "### Writing Algo 1 Submissions"
   ]
  },
  {
   "cell_type": "code",
   "execution_count": 23,
   "id": "993e85a1",
   "metadata": {
    "execution": {
     "iopub.execute_input": "2022-03-21T16:29:53.589681Z",
     "iopub.status.busy": "2022-03-21T16:29:53.589039Z",
     "iopub.status.idle": "2022-03-21T16:30:00.004638Z",
     "shell.execute_reply": "2022-03-21T16:30:00.005064Z",
     "shell.execute_reply.started": "2022-03-21T16:25:29.434049Z"
    },
    "papermill": {
     "duration": 6.463775,
     "end_time": "2022-03-21T16:30:00.005267",
     "exception": false,
     "start_time": "2022-03-21T16:29:53.541492",
     "status": "completed"
    },
    "tags": []
   },
   "outputs": [
    {
     "data": {
      "text/plain": [
       "0"
      ]
     },
     "execution_count": 23,
     "metadata": {},
     "output_type": "execute_result"
    }
   ],
   "source": [
    "final_submission_data.to_csv(\"hybrid_algo1_submission.csv\", index=False)\n",
    "del final_submission_data\n",
    "gc.collect()"
   ]
  },
  {
   "cell_type": "code",
   "execution_count": 24,
   "id": "7f8c140d",
   "metadata": {
    "execution": {
     "iopub.execute_input": "2022-03-21T16:30:00.102848Z",
     "iopub.status.busy": "2022-03-21T16:30:00.102177Z",
     "iopub.status.idle": "2022-03-21T16:30:00.104684Z",
     "shell.execute_reply": "2022-03-21T16:30:00.105112Z",
     "shell.execute_reply.started": "2022-03-21T16:25:42.710315Z"
    },
    "papermill": {
     "duration": 0.053643,
     "end_time": "2022-03-21T16:30:00.105283",
     "exception": false,
     "start_time": "2022-03-21T16:30:00.051640",
     "status": "completed"
    },
    "tags": []
   },
   "outputs": [
    {
     "data": {
      "text/html": [
       "<a href='hybrid_algo1_submission.csv' target='_blank'>hybrid_algo1_submission.csv</a><br>"
      ],
      "text/plain": [
       "/kaggle/working/hybrid_algo1_submission.csv"
      ]
     },
     "execution_count": 24,
     "metadata": {},
     "output_type": "execute_result"
    }
   ],
   "source": [
    "FileLink(r'hybrid_algo1_submission.csv')"
   ]
  },
  {
   "cell_type": "markdown",
   "id": "8b5a7b66",
   "metadata": {
    "papermill": {
     "duration": 0.046513,
     "end_time": "2022-03-21T16:30:00.199075",
     "exception": false,
     "start_time": "2022-03-21T16:30:00.152562",
     "status": "completed"
    },
    "tags": []
   },
   "source": [
    "## Algorithm 2: Load already trained lightfm model and predict top 200 articles for each user in submission data"
   ]
  },
  {
   "cell_type": "code",
   "execution_count": 25,
   "id": "09b9a1dd",
   "metadata": {
    "execution": {
     "iopub.execute_input": "2022-03-21T16:30:00.297438Z",
     "iopub.status.busy": "2022-03-21T16:30:00.296779Z",
     "iopub.status.idle": "2022-03-21T16:30:09.553758Z",
     "shell.execute_reply": "2022-03-21T16:30:09.553166Z",
     "shell.execute_reply.started": "2022-03-21T16:25:42.717811Z"
    },
    "papermill": {
     "duration": 9.308303,
     "end_time": "2022-03-21T16:30:09.553928",
     "exception": false,
     "start_time": "2022-03-21T16:30:00.245625",
     "status": "completed"
    },
    "tags": []
   },
   "outputs": [],
   "source": [
    "lightfm_model_path = r'../input/hm-trained-models/lightfm_nofeatures/model_without_feature_optimized_01.pickle'\n",
    "lightfm_model = pickle.load(open(lightfm_model_path, 'rb'))"
   ]
  },
  {
   "cell_type": "code",
   "execution_count": 26,
   "id": "5044e8a1",
   "metadata": {
    "_kg_hide-input": true,
    "execution": {
     "iopub.execute_input": "2022-03-21T16:30:09.661895Z",
     "iopub.status.busy": "2022-03-21T16:30:09.661199Z",
     "iopub.status.idle": "2022-03-21T16:30:09.668471Z",
     "shell.execute_reply": "2022-03-21T16:30:09.667950Z",
     "shell.execute_reply.started": "2022-03-21T16:25:50.289410Z"
    },
    "papermill": {
     "duration": 0.067046,
     "end_time": "2022-03-21T16:30:09.668634",
     "exception": false,
     "start_time": "2022-03-21T16:30:09.601588",
     "status": "completed"
    },
    "tags": []
   },
   "outputs": [],
   "source": [
    "class recommendation_sampling():\n",
    "    def __init__(self, model, items = None, user_to_product_interaction_matrix = None, \n",
    "                item_features = None, user2index_map = None):\n",
    "        \n",
    "        self.user_to_product_interaction_matrix = user_to_product_interaction_matrix\n",
    "        self.item_features = item_features if item_features is not None else None\n",
    "        self.model = model\n",
    "        self.items = items\n",
    "        self.user2index_map = user2index_map\n",
    "        \n",
    "    def get_batched_recommendation(self, user, k=3, prediction_type='normal'):\n",
    "        # Getting user_indexes \n",
    "        user_index = self.user2index_map.get(user, None)\n",
    "        if user_index is None:\n",
    "            return None\n",
    "        \n",
    "        # Scores from model\n",
    "        scores = self.model.predict(user_ids = user_index, item_ids = np.arange(self.user_to_product_interaction_matrix.shape[1])) if prediction_type == 'normal' else \\\n",
    "            self.model.predict(user_ids = user_index, item_ids = np.arange(self.user_to_product_interaction_matrix.shape[1]), item_features = self.item_features)\n",
    "    \n",
    "        # Top items\n",
    "        top_items = self.items[np.argsort(-scores)][:k]\n",
    "        top_scores = np.sort(-scores)[::-1][:k]\n",
    "        \n",
    "        return top_items, top_scores\n",
    "    \n",
    "    def get_batched_recommendation_df(self, user, k=3, prediction_type='normal'):\n",
    "        # Getting user_indexes \n",
    "        user_index = self.user2index_map.get(user, None)\n",
    "        if user_index is None:\n",
    "            return None\n",
    "        \n",
    "        # Scores from model\n",
    "        scores = self.model.predict(user_ids = user_index, item_ids = np.arange(self.user_to_product_interaction_matrix.shape[1])) if prediction_type == 'normal' else \\\n",
    "            self.model.predict(user_ids = user_index, item_ids = np.arange(self.user_to_product_interaction_matrix.shape[1]), item_features = self.item_features)\n",
    "    \n",
    "        return scores\n",
    "\n",
    "def get_customers_list():\n",
    "    # Creating a list of users\n",
    "    # return np.sort(transactions_data['customer_id'].unique()) TEMP_COMMENT\n",
    "    return np.sort(customer_data['customer_id'].unique())\n",
    "\n",
    "def get_articles_list():\n",
    "    # Creating a list of courses \n",
    "    # item_list = transactions_data['article_id'].unique() TEMP_COMMENT\n",
    "    item_list = article_data['article_id'].unique()\n",
    "    return item_list\n",
    "\n",
    "def id_mappings(customers_list, articles_list):\n",
    "    \"\"\"\n",
    "    \n",
    "    Create id mappings to convert user_id, item_id, and feature_id\n",
    "    \n",
    "    \"\"\"\n",
    "    customer_to_index_mapping = {}\n",
    "    index_to_customer_mapping = {}\n",
    "    for customer_index, customer_id in enumerate(customers_list):\n",
    "        customer_to_index_mapping[customer_id] = customer_index\n",
    "        index_to_customer_mapping[customer_index] = customer_id\n",
    "        \n",
    "    article_to_index_mapping = {}\n",
    "    index_to_article_mapping = {}\n",
    "    for article_index, article_id in enumerate(articles_list):\n",
    "        article_to_index_mapping[article_id] = article_index\n",
    "        index_to_article_mapping[article_index] = article_id\n",
    "        \n",
    "    return customer_to_index_mapping, index_to_customer_mapping, \\\n",
    "           article_to_index_mapping, index_to_article_mapping\n",
    "\n",
    "def get_customer_article_interaction(customer_article_amt_df):\n",
    "    #start indexing\n",
    "    customer_article_amt_df[\"customer_id\"] = customer_article_amt_df[\"customer_id\"]\n",
    "    customer_article_amt_df[\"article_id\"] = customer_article_amt_df[\"article_id\"]\n",
    "    customer_article_amt_df[\"price\"] = customer_article_amt_df[\"price\"]\n",
    "\n",
    "    # Preprocessing dataframe created\n",
    "    customer_article_amt_df = customer_article_amt_df.rename(columns = {\"price\":\"total_amount_spent\"})\n",
    "\n",
    "    # Replace Amount Column with category codes \n",
    "    customer_article_amt_df['total_amount_spent'] = customer_article_amt_df['total_amount_spent'].astype('category')\n",
    "    customer_article_amt_df['total_amount_spent'] = customer_article_amt_df['total_amount_spent'].cat.codes\n",
    "\n",
    "    return customer_article_amt_df\n",
    "\n",
    "def get_interaction_matrix(df, df_column_as_row, df_column_as_col, \n",
    "                        df_column_as_value, row_indexing_map, col_indexing_map):\n",
    "    \n",
    "    row = df[df_column_as_row].apply(lambda x: row_indexing_map[x]).values\n",
    "    col = df[df_column_as_col].apply(lambda x: col_indexing_map[x]).values\n",
    "    value = df[df_column_as_value].values\n",
    "    \n",
    "    return sparse.coo_matrix((value, (row, col)), shape = (len(row_indexing_map), len(col_indexing_map)))"
   ]
  },
  {
   "cell_type": "code",
   "execution_count": 27,
   "id": "39041b44",
   "metadata": {
    "execution": {
     "iopub.execute_input": "2022-03-21T16:30:09.846542Z",
     "iopub.status.busy": "2022-03-21T16:30:09.845651Z",
     "iopub.status.idle": "2022-03-21T16:30:11.637744Z",
     "shell.execute_reply": "2022-03-21T16:30:11.637165Z",
     "shell.execute_reply.started": "2022-03-21T16:25:50.314078Z"
    },
    "papermill": {
     "duration": 1.922867,
     "end_time": "2022-03-21T16:30:11.637893",
     "exception": false,
     "start_time": "2022-03-21T16:30:09.715026",
     "status": "completed"
    },
    "tags": []
   },
   "outputs": [],
   "source": [
    "customers = get_customers_list()\n",
    "articles = get_articles_list()\n",
    "customer_to_index_mapping, index_to_customer_mapping, \\\n",
    "article_to_index_mapping, index_to_article_mapping = id_mappings(customers, articles)"
   ]
  },
  {
   "cell_type": "code",
   "execution_count": 28,
   "id": "ea56cdf7",
   "metadata": {
    "execution": {
     "iopub.execute_input": "2022-03-21T16:30:11.756961Z",
     "iopub.status.busy": "2022-03-21T16:30:11.756258Z",
     "iopub.status.idle": "2022-03-21T16:30:13.422529Z",
     "shell.execute_reply": "2022-03-21T16:30:13.421998Z",
     "shell.execute_reply.started": "2022-03-21T16:25:53.199604Z"
    },
    "papermill": {
     "duration": 1.73906,
     "end_time": "2022-03-21T16:30:13.422678",
     "exception": false,
     "start_time": "2022-03-21T16:30:11.683618",
     "status": "completed"
    },
    "tags": []
   },
   "outputs": [],
   "source": [
    "transactions_data_grouped = transactions_data.groupby(['customer_id','article_id']).agg({'price':'sum','t_dat':'count'}).reset_index()\n",
    "transactions_data_grouped = transactions_data_grouped[['customer_id','article_id','price']]"
   ]
  },
  {
   "cell_type": "code",
   "execution_count": 29,
   "id": "dd026dc3",
   "metadata": {
    "execution": {
     "iopub.execute_input": "2022-03-21T16:30:13.522959Z",
     "iopub.status.busy": "2022-03-21T16:30:13.522153Z",
     "iopub.status.idle": "2022-03-21T16:30:14.730572Z",
     "shell.execute_reply": "2022-03-21T16:30:14.729914Z",
     "shell.execute_reply.started": "2022-03-21T16:25:55.350642Z"
    },
    "papermill": {
     "duration": 1.261737,
     "end_time": "2022-03-21T16:30:14.730724",
     "exception": false,
     "start_time": "2022-03-21T16:30:13.468987",
     "status": "completed"
    },
    "tags": []
   },
   "outputs": [],
   "source": [
    "customer_to_article = get_customer_article_interaction(customer_article_amt_df = transactions_data_grouped[['customer_id','article_id','price']])\n",
    "customer_to_article_interaction = get_interaction_matrix(customer_to_article, \"customer_id\", \"article_id\", \"total_amount_spent\", \\\n",
    "                                                        customer_to_index_mapping, article_to_index_mapping)            "
   ]
  },
  {
   "cell_type": "code",
   "execution_count": 30,
   "id": "b5db7e15",
   "metadata": {
    "execution": {
     "iopub.execute_input": "2022-03-21T16:30:14.860751Z",
     "iopub.status.busy": "2022-03-21T16:30:14.859826Z",
     "iopub.status.idle": "2022-03-21T16:30:14.864857Z",
     "shell.execute_reply": "2022-03-21T16:30:14.865727Z",
     "shell.execute_reply.started": "2022-03-21T16:25:57.052562Z"
    },
    "papermill": {
     "duration": 0.080099,
     "end_time": "2022-03-21T16:30:14.865954",
     "exception": false,
     "start_time": "2022-03-21T16:30:14.785855",
     "status": "completed"
    },
    "tags": []
   },
   "outputs": [
    {
     "data": {
      "text/html": [
       "<div>\n",
       "<style scoped>\n",
       "    .dataframe tbody tr th:only-of-type {\n",
       "        vertical-align: middle;\n",
       "    }\n",
       "\n",
       "    .dataframe tbody tr th {\n",
       "        vertical-align: top;\n",
       "    }\n",
       "\n",
       "    .dataframe thead th {\n",
       "        text-align: right;\n",
       "    }\n",
       "</style>\n",
       "<table border=\"1\" class=\"dataframe\">\n",
       "  <thead>\n",
       "    <tr style=\"text-align: right;\">\n",
       "      <th></th>\n",
       "      <th>customer_id</th>\n",
       "      <th>article_id</th>\n",
       "      <th>total_amount_spent</th>\n",
       "    </tr>\n",
       "  </thead>\n",
       "  <tbody>\n",
       "    <tr>\n",
       "      <th>0</th>\n",
       "      <td>00000dbacae5abe5e23885899a1fa44253a17956c6d1c3...</td>\n",
       "      <td>0568601043</td>\n",
       "      <td>4205</td>\n",
       "    </tr>\n",
       "    <tr>\n",
       "      <th>1</th>\n",
       "      <td>000058a12d5b43e67d225668fa1f8d618c13dc232df0ca...</td>\n",
       "      <td>0794321007</td>\n",
       "      <td>4791</td>\n",
       "    </tr>\n",
       "    <tr>\n",
       "      <th>2</th>\n",
       "      <td>0000757967448a6cb83efb3ea7a3fb9d418ac7adf2379d...</td>\n",
       "      <td>0448509014</td>\n",
       "      <td>3443</td>\n",
       "    </tr>\n",
       "    <tr>\n",
       "      <th>3</th>\n",
       "      <td>0000757967448a6cb83efb3ea7a3fb9d418ac7adf2379d...</td>\n",
       "      <td>0719530003</td>\n",
       "      <td>2792</td>\n",
       "    </tr>\n",
       "    <tr>\n",
       "      <th>4</th>\n",
       "      <td>00009d946eec3ea54add5ba56d5210ea898def4b46c685...</td>\n",
       "      <td>0516859008</td>\n",
       "      <td>939</td>\n",
       "    </tr>\n",
       "  </tbody>\n",
       "</table>\n",
       "</div>"
      ],
      "text/plain": [
       "                                         customer_id  article_id  \\\n",
       "0  00000dbacae5abe5e23885899a1fa44253a17956c6d1c3...  0568601043   \n",
       "1  000058a12d5b43e67d225668fa1f8d618c13dc232df0ca...  0794321007   \n",
       "2  0000757967448a6cb83efb3ea7a3fb9d418ac7adf2379d...  0448509014   \n",
       "3  0000757967448a6cb83efb3ea7a3fb9d418ac7adf2379d...  0719530003   \n",
       "4  00009d946eec3ea54add5ba56d5210ea898def4b46c685...  0516859008   \n",
       "\n",
       "   total_amount_spent  \n",
       "0                4205  \n",
       "1                4791  \n",
       "2                3443  \n",
       "3                2792  \n",
       "4                 939  "
      ]
     },
     "execution_count": 30,
     "metadata": {},
     "output_type": "execute_result"
    }
   ],
   "source": [
    "customer_to_article.head()"
   ]
  },
  {
   "cell_type": "code",
   "execution_count": 31,
   "id": "41197d7b",
   "metadata": {
    "execution": {
     "iopub.execute_input": "2022-03-21T16:30:14.968641Z",
     "iopub.status.busy": "2022-03-21T16:30:14.968039Z",
     "iopub.status.idle": "2022-03-21T16:30:14.972511Z",
     "shell.execute_reply": "2022-03-21T16:30:14.973054Z",
     "shell.execute_reply.started": "2022-03-21T16:25:57.065537Z"
    },
    "papermill": {
     "duration": 0.055248,
     "end_time": "2022-03-21T16:30:14.973222",
     "exception": false,
     "start_time": "2022-03-21T16:30:14.917974",
     "status": "completed"
    },
    "tags": []
   },
   "outputs": [
    {
     "data": {
      "text/plain": [
       "<1371980x105542 sparse matrix of type '<class 'numpy.int16'>'\n",
       "\twith 1051730 stored elements in COOrdinate format>"
      ]
     },
     "execution_count": 31,
     "metadata": {},
     "output_type": "execute_result"
    }
   ],
   "source": [
    "customer_to_article_interaction"
   ]
  },
  {
   "cell_type": "code",
   "execution_count": 32,
   "id": "d41505a4",
   "metadata": {
    "execution": {
     "iopub.execute_input": "2022-03-21T16:30:15.071778Z",
     "iopub.status.busy": "2022-03-21T16:30:15.070873Z",
     "iopub.status.idle": "2022-03-21T16:30:15.075155Z",
     "shell.execute_reply": "2022-03-21T16:30:15.075694Z",
     "shell.execute_reply.started": "2022-03-21T16:25:57.083066Z"
    },
    "papermill": {
     "duration": 0.056092,
     "end_time": "2022-03-21T16:30:15.075867",
     "exception": false,
     "start_time": "2022-03-21T16:30:15.019775",
     "status": "completed"
    },
    "tags": []
   },
   "outputs": [],
   "source": [
    "# Sampling Recommendations\n",
    "recom_without_feature = recommendation_sampling(model = lightfm_model,\n",
    "                                               items = articles,\n",
    "                                               user_to_product_interaction_matrix = customer_to_article_interaction,\n",
    "                                               user2index_map = customer_to_index_mapping)"
   ]
  },
  {
   "cell_type": "code",
   "execution_count": 33,
   "id": "79574162",
   "metadata": {
    "execution": {
     "iopub.execute_input": "2022-03-21T16:30:15.174792Z",
     "iopub.status.busy": "2022-03-21T16:30:15.174149Z",
     "iopub.status.idle": "2022-03-21T16:30:15.178139Z",
     "shell.execute_reply": "2022-03-21T16:30:15.178646Z",
     "shell.execute_reply.started": "2022-03-21T16:25:57.098034Z"
    },
    "papermill": {
     "duration": 0.053982,
     "end_time": "2022-03-21T16:30:15.178816",
     "exception": false,
     "start_time": "2022-03-21T16:30:15.124834",
     "status": "completed"
    },
    "tags": []
   },
   "outputs": [],
   "source": [
    "# Light FM Important Params\n",
    "n_top = 200\n",
    "lightfm_predictions_dict = {}\n",
    "lightfm_predictions_df = pd.DataFrame()\n",
    "predictions_with_df = False"
   ]
  },
  {
   "cell_type": "code",
   "execution_count": 34,
   "id": "680f85bc",
   "metadata": {
    "execution": {
     "iopub.execute_input": "2022-03-21T16:30:15.278771Z",
     "iopub.status.busy": "2022-03-21T16:30:15.275312Z",
     "iopub.status.idle": "2022-03-21T16:30:15.280485Z",
     "shell.execute_reply": "2022-03-21T16:30:15.280948Z",
     "shell.execute_reply.started": "2022-03-21T16:25:57.113195Z"
    },
    "papermill": {
     "duration": 0.055005,
     "end_time": "2022-03-21T16:30:15.281119",
     "exception": false,
     "start_time": "2022-03-21T16:30:15.226114",
     "status": "completed"
    },
    "tags": []
   },
   "outputs": [],
   "source": [
    "def predict_top_articles(chunk):\n",
    "    lightfm_predictions_dict = {}\n",
    "    \n",
    "    for row in tqdm.tqdm(chunk[0].values, desc='Predicting top 200 articles for each user'):\n",
    "        customer = row[0]\n",
    "        top_articles, top_scores = recom_without_feature.get_batched_recommendation(user=customer, k=200)\n",
    "        lightfm_predictions_dict[customer] = {'top_200_articles': ' '.join(map(str, top_articles)),\n",
    "                                              'top_200_scores': ' '.join(map(str, top_scores))} \n",
    "       \n",
    "    return lightfm_predictions_dict"
   ]
  },
  {
   "cell_type": "code",
   "execution_count": 35,
   "id": "edcd82c7",
   "metadata": {
    "execution": {
     "iopub.execute_input": "2022-03-21T16:30:15.385029Z",
     "iopub.status.busy": "2022-03-21T16:30:15.382529Z",
     "iopub.status.idle": "2022-03-21T16:30:15.387602Z",
     "shell.execute_reply": "2022-03-21T16:30:15.387117Z",
     "shell.execute_reply.started": "2022-03-21T16:25:57.128320Z"
    },
    "papermill": {
     "duration": 0.059895,
     "end_time": "2022-03-21T16:30:15.387742",
     "exception": false,
     "start_time": "2022-03-21T16:30:15.327847",
     "status": "completed"
    },
    "tags": []
   },
   "outputs": [],
   "source": [
    "num_cores=4\n",
    "\n",
    "def predict_top_articles_df(chunk_submission_data=None):\n",
    "    lightfm_predictions_df = pd.DataFrame()\n",
    "    \n",
    "    for customer in tqdm.tqdm(chunk_submission_data['customer_id'].unique(), desc='Predicting top 200 articles for each user'):\n",
    "\n",
    "        articles_df = pd.DataFrame(articles, columns = ['article_id'])\n",
    "        articles_df['customer_id'] = customer\n",
    "        articles_df['lightfm_score'] = recom_without_feature.get_batched_recommendation_df(customer, len(articles))\n",
    "        articles_df.sort_values('lightfm_score', ascending = False, inplace = True)\n",
    "        articles_df['lightfm_rank'] = np.arange(articles_df.shape[0])\n",
    "\n",
    "        lightfm_predictions_df = lightfm_predictions_df.append(articles_df.head(n_top))\n",
    "        \n",
    "    return lightfm_predictions_df\n",
    "\n",
    "def predict_top_200_articles(submission_data=None):\n",
    "    #splitting here by measurement id's to get all signals for a measurement into single chunk\n",
    "    customer_ids = submission_data[\"customer_id\"].unique()\n",
    "    df_split = np.array_split(customer_ids, num_cores)\n",
    "    chunk_size = len(df_split[0])\n",
    "    \n",
    "    chunk1 = create_chunk_indices(submission_data, 0, chunk_size)\n",
    "    chunk2 = create_chunk_indices(submission_data, 1, chunk_size)\n",
    "    chunk3 = create_chunk_indices(submission_data, 2, chunk_size)\n",
    "    chunk4 = create_chunk_indices(submission_data, 3, chunk_size)\n",
    "    \n",
    "    #list of items for multiprocessing, 4 since using 4 cores\n",
    "    all_chunks = [chunk1, chunk2, chunk3, chunk4]\n",
    "    \n",
    "    pool = Pool(num_cores)\n",
    "    result = pool.map(predict_top_articles, all_chunks)\n",
    "    \n",
    "    final_result_dict = copy.deepcopy(result[0])\n",
    "    \n",
    "    for item in result[1:]:\n",
    "        final_result_dict.update(item)\n",
    "    \n",
    "    return final_result_dict"
   ]
  },
  {
   "cell_type": "code",
   "execution_count": 36,
   "id": "229c4944",
   "metadata": {
    "_kg_hide-input": true,
    "execution": {
     "iopub.execute_input": "2022-03-21T16:30:15.484706Z",
     "iopub.status.busy": "2022-03-21T16:30:15.483706Z",
     "iopub.status.idle": "2022-03-21T16:31:08.341388Z",
     "shell.execute_reply": "2022-03-21T16:31:08.341868Z",
     "shell.execute_reply.started": "2022-03-21T16:25:57.142920Z"
    },
    "papermill": {
     "duration": 52.907368,
     "end_time": "2022-03-21T16:31:08.342035",
     "exception": false,
     "start_time": "2022-03-21T16:30:15.434667",
     "status": "completed"
    },
    "tags": []
   },
   "outputs": [
    {
     "name": "stdout",
     "output_type": "stream",
     "text": [
      "start/end 1:0,342995\n",
      "342995\n",
      "start/end 2:342995,685990\n",
      "342995\n",
      "start/end 3:685990,1028985\n",
      "342995\n",
      "start/end 4:1028985,1371980\n",
      "342995\n",
      "Reading for first chunk started\n",
      "Reading for first chunk completed\n",
      "Reading for second chunk started\n",
      "Reading for second chunk completed\n",
      "Reading for third chunk started\n",
      "Reading for third chunk completed\n",
      "Reading for fourth chunk started\n",
      "Reading for fourth chunk completed\n"
     ]
    }
   ],
   "source": [
    "from numpy import save\n",
    "\n",
    "customer_ids = submission_data[\"customer_id\"].unique()\n",
    "df_split = np.array_split(customer_ids, num_cores)\n",
    "chunk_size = len(df_split[0])\n",
    "\n",
    "chunk1 = create_chunk_indices(submission_data, 0, chunk_size)\n",
    "chunk2 = create_chunk_indices(submission_data, 1, chunk_size)\n",
    "chunk3 = create_chunk_indices(submission_data, 2, chunk_size)\n",
    "chunk4 = create_chunk_indices(submission_data, 3, chunk_size)\n",
    "\n",
    "# Getting top 200 articles for each user\n",
    "if predictions_with_df:\n",
    "    if os.path.exists(r'../input/hm-trained-models/hybrid_generic/top_200_articles_chunk_1.csv'):\n",
    "        chunk1_top_200_article_data = pd.read_csv(r'../input/hm-trained-models/hybrid_generic/top_200_articles_chunk_1.csv')\n",
    "    else:\n",
    "        print('Inferencing for first chunk started')\n",
    "        chunk1_top_200_article_data = predict_top_articles_df(chunk_submission_data = chunk1[0])\n",
    "        chunk1_top_200_article_data.to_csv('top_200_articles_chunk_1.csv', index=False)\n",
    "        FileLink(r'top_200_articles_chunk_1.csv')\n",
    "        print('Inferencing for first chunk completed')\n",
    "        \n",
    "    if os.path.exists(r'../input/hm-trained-models/hybrid_generic/top_200_articles_chunk_2.csv'):\n",
    "        chunk2_top_200_article_data = pd.read_csv(r'../input/hm-trained-models/hybrid_generic/top_200_articles_chunk_2.csv')\n",
    "    else:\n",
    "        print('Inferencing for second chunk started')\n",
    "        chunk2_top_200_article_data = predict_top_articles_df(chunk_submission_data = chunk2[0])\n",
    "        chunk2_top_200_article_data.to_csv('top_200_articles_chunk_2.csv', index=False)\n",
    "        FileLink(r'top_200_articles_chunk_2.csv')\n",
    "        print('Inferencing for second chunk completed')\n",
    "        \n",
    "    if os.path.exists(r'../input/hm-trained-models/hybrid_generic/top_200_articles_chunk_3.csv'):\n",
    "        chunk3_top_200_article_data = pd.read_csv(r'../input/hm-trained-models/hybrid_generic/top_200_articles_chunk_3.csv')\n",
    "    else:\n",
    "        print('Inferencing for third chunk started')\n",
    "        chunk3_top_200_article_data = predict_top_articles_df(chunk_submission_data = chunk3[0])\n",
    "        chunk3_top_200_article_data.to_csv('top_200_articles_chunk_3.csv', index=False)\n",
    "        FileLink(r'top_200_articles_chunk_3.csv')\n",
    "        print('Inferencing for third chunk completed')\n",
    "        \n",
    "    if os.path.exists(r'../input/hm-trained-models/hybrid_generic/top_200_articles_chunk_4.csv'):\n",
    "        chunk4_top_200_article_data = pd.read_csv(r'../input/hm-trained-models/hybrid_generic/top_200_articles_chunk_4.csv')\n",
    "    else:\n",
    "        print('Inferencing for fourth chunk started')\n",
    "        chunk4_top_200_article_data = predict_top_articles_df(chunk_submission_data = chunk4[0])\n",
    "        chunk4_top_200_article_data.to_csv('top_200_articles_chunk_4.csv', index=False)\n",
    "        FileLink(r'top_200_articles_chunk_4.csv')\n",
    "        print('Inferencing for fourth chunk completed')\n",
    "    \n",
    "    # top_200_articles_path = r'../input/hm-trained-models/hybrid_generic/top_200_articles.csv'\n",
    "    # lightfm_predictions_df = pd.read_csv(top_200_articles_path) if os.path.exists(top_200_articles_path) else predict_top_articles_df()\n",
    "else:\n",
    "    if os.path.exists(r'../input/hm-trained-models/hybrid_generic/top_200_articles_chunk_1.pkl'):\n",
    "        print('Reading for first chunk started')\n",
    "        with open(r'../input/hm-trained-models/hybrid_generic/top_200_articles_chunk_1.pkl', 'rb') as input_file:\n",
    "            chunk1_top_200_article_dict = pickle.load(input_file)\n",
    "        print('Reading for first chunk completed')\n",
    "    else:\n",
    "        print('Inferencing for first chunk started')\n",
    "        chunk1_top_200_article_dict = predict_top_articles(chunk1)\n",
    "        with open('top_200_articles_chunk_1.pkl', 'wb') as f:\n",
    "            pickle.dump(chunk1_top_200_article_dict, f)\n",
    "        print('Inferencing for first chunk completed')\n",
    "        \n",
    "    if os.path.exists(r'../input/hm-trained-models/hybrid_generic/top_200_articles_chunk_2.pkl'):\n",
    "        print('Reading for second chunk started')\n",
    "        with open(r'../input/hm-trained-models/hybrid_generic/top_200_articles_chunk_2.pkl', 'rb') as input_file:\n",
    "            chunk2_top_200_article_dict = pickle.load(input_file)\n",
    "        print('Reading for second chunk completed')\n",
    "    else:\n",
    "        print('Inferencing for second chunk started')\n",
    "        chunk2_top_200_article_dict = predict_top_articles(chunk2)\n",
    "        with open('top_200_articles_chunk_2.pkl', 'wb') as f:\n",
    "            pickle.dump(chunk2_top_200_article_dict, f)\n",
    "        print('Inferencing for second chunk completed')\n",
    "        \n",
    "    if os.path.exists(r'../input/hm-trained-models/hybrid_generic/top_200_articles_chunk_3.pkl'):\n",
    "        print('Reading for third chunk started')\n",
    "        with open(r'../input/hm-trained-models/hybrid_generic/top_200_articles_chunk_3.pkl', 'rb') as input_file:\n",
    "            chunk3_top_200_article_dict = pickle.load(input_file)\n",
    "        print('Reading for third chunk completed')\n",
    "    else:\n",
    "        print('Inferencing for third chunk started')\n",
    "        chunk3_top_200_article_dict = predict_top_articles(chunk3)\n",
    "        with open('top_200_articles_chunk_3.pkl', 'wb') as f:\n",
    "            pickle.dump(chunk3_top_200_article_dict, f)\n",
    "        print('Inferencing for third chunk completed')\n",
    "        \n",
    "    if os.path.exists(r'../input/hm-trained-models/hybrid_generic/top_200_articles_chunk_4.pkl'):\n",
    "        print('Reading for fourth chunk started')\n",
    "        with open(r'../input/hm-trained-models/hybrid_generic/top_200_articles_chunk_4.pkl', 'rb') as input_file:\n",
    "            chunk4_top_200_article_dict = pickle.load(input_file)\n",
    "        print('Reading for fourth chunk completed')\n",
    "    else:\n",
    "        print('Inferencing for fourth chunk started')\n",
    "        chunk4_top_200_article_dict = predict_top_articles(chunk4)\n",
    "        with open('top_200_articles_chunk_4.pkl', 'wb') as f:\n",
    "            pickle.dump(chunk4_top_200_article_dict, f)\n",
    "        print('Inferencing for fourth chunk completed')\n",
    "        \n",
    "    # top_200_articles_dict_path = r'../input/hm-trained-models/hybrid_generic/top_200_articles.npy'\n",
    "    # lightfm_predictions_dict = np.load(top_200_articles_dict_path) if os.path.exists(top_200_articles_dict_path) else predict_top_200_articles(submission_data)"
   ]
  },
  {
   "attachments": {
    "d95565d5-ee69-44a9-a476-ac97f00dbadd.png": {
     "image/png": "[encoded data removed]"
    }
   },
   "cell_type": "markdown",
   "id": "dc46291c",
   "metadata": {
    "papermill": {
     "duration": 0.047232,
     "end_time": "2022-03-21T16:31:08.437715",
     "exception": false,
     "start_time": "2022-03-21T16:31:08.390483",
     "status": "completed"
    },
    "tags": []
   },
   "source": [
    "#### Screenshot for chunk processing\n",
    "![image.png](attachment:d95565d5-ee69-44a9-a476-ac97f00dbadd.png)"
   ]
  },
  {
   "cell_type": "markdown",
   "id": "dbe80ad2",
   "metadata": {
    "papermill": {
     "duration": 0.047466,
     "end_time": "2022-03-21T16:31:08.532843",
     "exception": false,
     "start_time": "2022-03-21T16:31:08.485377",
     "status": "completed"
    },
    "tags": []
   },
   "source": [
    "## Hybrid Data Compilation (Combining top N articles seen by each customer + (200-N) based on lightfm predictions for the same customer)"
   ]
  },
  {
   "cell_type": "code",
   "execution_count": 37,
   "id": "18b7278b",
   "metadata": {
    "execution": {
     "iopub.execute_input": "2022-03-21T16:31:08.633865Z",
     "iopub.status.busy": "2022-03-21T16:31:08.633139Z",
     "iopub.status.idle": "2022-03-21T16:31:08.636456Z",
     "shell.execute_reply": "2022-03-21T16:31:08.637001Z",
     "shell.execute_reply.started": "2022-03-21T16:26:48.130998Z"
    },
    "papermill": {
     "duration": 0.055584,
     "end_time": "2022-03-21T16:31:08.637165",
     "exception": false,
     "start_time": "2022-03-21T16:31:08.581581",
     "status": "completed"
    },
    "tags": []
   },
   "outputs": [],
   "source": [
    "hybrid_params = {'top_n':200}"
   ]
  },
  {
   "cell_type": "markdown",
   "id": "a9a0d47d",
   "metadata": {
    "papermill": {
     "duration": 0.047438,
     "end_time": "2022-03-21T16:31:08.733978",
     "exception": false,
     "start_time": "2022-03-21T16:31:08.686540",
     "status": "completed"
    },
    "tags": []
   },
   "source": [
    "### Extract top selling articles based on transaction counts for each user"
   ]
  },
  {
   "cell_type": "code",
   "execution_count": 38,
   "id": "7dd2ff96",
   "metadata": {
    "execution": {
     "iopub.execute_input": "2022-03-21T16:31:08.836558Z",
     "iopub.status.busy": "2022-03-21T16:31:08.835977Z",
     "iopub.status.idle": "2022-03-21T16:31:08.980339Z",
     "shell.execute_reply": "2022-03-21T16:31:08.980877Z",
     "shell.execute_reply.started": "2022-03-21T16:26:48.138226Z"
    },
    "papermill": {
     "duration": 0.195818,
     "end_time": "2022-03-21T16:31:08.981045",
     "exception": false,
     "start_time": "2022-03-21T16:31:08.785227",
     "status": "completed"
    },
    "tags": []
   },
   "outputs": [],
   "source": [
    "top_200_articles_list = list((transactions_data['article_id'].value_counts()).index)[:hybrid_params['top_n']]\n",
    "top_200_prediction_string = ' '.join(top_200_articles_list)"
   ]
  },
  {
   "cell_type": "markdown",
   "id": "5d5e3ef6",
   "metadata": {
    "papermill": {
     "duration": 0.048334,
     "end_time": "2022-03-21T16:31:09.078201",
     "exception": false,
     "start_time": "2022-03-21T16:31:09.029867",
     "status": "completed"
    },
    "tags": []
   },
   "source": [
    "### Fill up top N articles  \n",
    "1. Based on transaction counts for known customers  \n",
    "2. Fill up remaining (200-N) articles based on lightfm predictions fot these set of customers\n",
    "3. Fill up top N articles for unseen customer based on overall top selling articles"
   ]
  },
  {
   "cell_type": "code",
   "execution_count": 39,
   "id": "ef820ad2",
   "metadata": {
    "execution": {
     "iopub.execute_input": "2022-03-21T16:31:09.176123Z",
     "iopub.status.busy": "2022-03-21T16:31:09.175564Z",
     "iopub.status.idle": "2022-03-21T16:31:09.182063Z",
     "shell.execute_reply": "2022-03-21T16:31:09.182595Z",
     "shell.execute_reply.started": "2022-03-21T16:26:48.399689Z"
    },
    "papermill": {
     "duration": 0.05695,
     "end_time": "2022-03-21T16:31:09.182771",
     "exception": false,
     "start_time": "2022-03-21T16:31:09.125821",
     "status": "completed"
    },
    "tags": []
   },
   "outputs": [],
   "source": [
    "def extract_lightfm_articles(customer_id, algo_1_article_list, algo_1_pred_no):\n",
    "    lightfm_article, lightfm_score = None, None\n",
    "    final_lightfm_article = []\n",
    "    \n",
    "    if customer_id in chunk1_top_200_article_dict.keys():\n",
    "        lightfm_article, lightfm_score = chunk1_top_200_article_dict[customer_id]['top_200_articles'], chunk1_top_200_article_dict[customer_id]['top_200_scores']\n",
    "        \n",
    "    if customer_id in chunk2_top_200_article_dict.keys():\n",
    "        lightfm_article, lightfm_score = chunk2_top_200_article_dict[customer_id]['top_200_articles'], chunk2_top_200_article_dict[customer_id]['top_200_scores']\n",
    "        \n",
    "    if customer_id in chunk3_top_200_article_dict.keys():\n",
    "        lightfm_article, lightfm_score = chunk3_top_200_article_dict[customer_id]['top_200_articles'], chunk3_top_200_article_dict[customer_id]['top_200_scores']\n",
    "        \n",
    "    if customer_id in chunk4_top_200_article_dict.keys():\n",
    "        lightfm_article, lightfm_score = chunk4_top_200_article_dict[customer_id]['top_200_articles'], chunk4_top_200_article_dict[customer_id]['top_200_scores']\n",
    "        \n",
    "    final_lightfm_article = list(set(lightfm_article.split(' ')) - set(algo_1_article_list))[:hybrid_params['top_n']-algo_1_pred_no]\n",
    "    return final_lightfm_article"
   ]
  },
  {
   "cell_type": "code",
   "execution_count": 40,
   "id": "9fafd904",
   "metadata": {
    "execution": {
     "iopub.execute_input": "2022-03-21T16:31:09.280608Z",
     "iopub.status.busy": "2022-03-21T16:31:09.280034Z",
     "iopub.status.idle": "2022-03-21T16:31:21.667218Z",
     "shell.execute_reply": "2022-03-21T16:31:21.666662Z",
     "shell.execute_reply.started": "2022-03-21T16:26:48.412176Z"
    },
    "papermill": {
     "duration": 12.437016,
     "end_time": "2022-03-21T16:31:21.667380",
     "exception": false,
     "start_time": "2022-03-21T16:31:09.230364",
     "status": "completed"
    },
    "tags": []
   },
   "outputs": [],
   "source": [
    "hybrid_submission_data = submission_data[['customer_id']].copy()\n",
    "prediction_list = []\n",
    "\n",
    "for i, cust_id in enumerate(hybrid_submission_data['customer_id'].values.reshape((-1,))):\n",
    "    if cust_id in purchase_dict:\n",
    "        l = sorted((purchase_dict[cust_id]).items(), key=lambda x: x[1], reverse=True)\n",
    "        l = [y[0] for y in l]\n",
    "        if len(l) > hybrid_params['top_n']:\n",
    "            s = ' '.join(l[:hybrid_params['top_n']])\n",
    "        else:\n",
    "            s = ' '.join(l + extract_lightfm_articles(cust_id, l, len(l)))\n",
    "    else:\n",
    "        s = top_200_prediction_string\n",
    "    prediction_list.append(s)"
   ]
  },
  {
   "cell_type": "code",
   "execution_count": 41,
   "id": "09405c59",
   "metadata": {
    "execution": {
     "iopub.execute_input": "2022-03-21T16:31:21.793403Z",
     "iopub.status.busy": "2022-03-21T16:31:21.792496Z",
     "iopub.status.idle": "2022-03-21T16:31:21.930589Z",
     "shell.execute_reply": "2022-03-21T16:31:21.929999Z",
     "shell.execute_reply.started": "2022-03-21T16:27:03.183481Z"
    },
    "papermill": {
     "duration": 0.194861,
     "end_time": "2022-03-21T16:31:21.930733",
     "exception": false,
     "start_time": "2022-03-21T16:31:21.735872",
     "status": "completed"
    },
    "tags": []
   },
   "outputs": [
    {
     "name": "stdout",
     "output_type": "stream",
     "text": [
      "(1371980, 2)\n"
     ]
    },
    {
     "data": {
      "text/html": [
       "<div>\n",
       "<style scoped>\n",
       "    .dataframe tbody tr th:only-of-type {\n",
       "        vertical-align: middle;\n",
       "    }\n",
       "\n",
       "    .dataframe tbody tr th {\n",
       "        vertical-align: top;\n",
       "    }\n",
       "\n",
       "    .dataframe thead th {\n",
       "        text-align: right;\n",
       "    }\n",
       "</style>\n",
       "<table border=\"1\" class=\"dataframe\">\n",
       "  <thead>\n",
       "    <tr style=\"text-align: right;\">\n",
       "      <th></th>\n",
       "      <th>customer_id</th>\n",
       "      <th>prediction</th>\n",
       "    </tr>\n",
       "  </thead>\n",
       "  <tbody>\n",
       "    <tr>\n",
       "      <th>0</th>\n",
       "      <td>00000dbacae5abe5e23885899a1fa44253a17956c6d1c3...</td>\n",
       "      <td>0568601043 0779781006 0865076001 0783346020 08...</td>\n",
       "    </tr>\n",
       "    <tr>\n",
       "      <th>1</th>\n",
       "      <td>0000423b00ade91418cceaf3b26c6af3dd342b51fd051e...</td>\n",
       "      <td>0751471001 0915529003 0915526001 0918292001 07...</td>\n",
       "    </tr>\n",
       "    <tr>\n",
       "      <th>2</th>\n",
       "      <td>000058a12d5b43e67d225668fa1f8d618c13dc232df0ca...</td>\n",
       "      <td>0794321007 0905957001 0915292001 0720125039 07...</td>\n",
       "    </tr>\n",
       "    <tr>\n",
       "      <th>3</th>\n",
       "      <td>00005ca1c9ed5f5146b52ac8639a40ca9d57aeff4d1bd2...</td>\n",
       "      <td>0751471001 0915529003 0915526001 0918292001 07...</td>\n",
       "    </tr>\n",
       "    <tr>\n",
       "      <th>4</th>\n",
       "      <td>00006413d8573cd20ed7128e53b7b13819fe5cfc2d801f...</td>\n",
       "      <td>0751471001 0915529003 0915526001 0918292001 07...</td>\n",
       "    </tr>\n",
       "  </tbody>\n",
       "</table>\n",
       "</div>"
      ],
      "text/plain": [
       "                                         customer_id  \\\n",
       "0  00000dbacae5abe5e23885899a1fa44253a17956c6d1c3...   \n",
       "1  0000423b00ade91418cceaf3b26c6af3dd342b51fd051e...   \n",
       "2  000058a12d5b43e67d225668fa1f8d618c13dc232df0ca...   \n",
       "3  00005ca1c9ed5f5146b52ac8639a40ca9d57aeff4d1bd2...   \n",
       "4  00006413d8573cd20ed7128e53b7b13819fe5cfc2d801f...   \n",
       "\n",
       "                                          prediction  \n",
       "0  0568601043 0779781006 0865076001 0783346020 08...  \n",
       "1  0751471001 0915529003 0915526001 0918292001 07...  \n",
       "2  0794321007 0905957001 0915292001 0720125039 07...  \n",
       "3  0751471001 0915529003 0915526001 0918292001 07...  \n",
       "4  0751471001 0915529003 0915526001 0918292001 07...  "
      ]
     },
     "execution_count": 41,
     "metadata": {},
     "output_type": "execute_result"
    }
   ],
   "source": [
    "hybrid_submission_data['prediction'] = prediction_list\n",
    "print(hybrid_submission_data.shape)\n",
    "hybrid_submission_data.head()"
   ]
  },
  {
   "cell_type": "markdown",
   "id": "860bf819",
   "metadata": {
    "papermill": {
     "duration": 0.053293,
     "end_time": "2022-03-21T16:31:22.036534",
     "exception": false,
     "start_time": "2022-03-21T16:31:21.983241",
     "status": "completed"
    },
    "tags": []
   },
   "source": [
    "### Writing Algo 1 + Algo 2 Submissions"
   ]
  },
  {
   "cell_type": "code",
   "execution_count": 42,
   "id": "3929b38d",
   "metadata": {
    "execution": {
     "iopub.execute_input": "2022-03-21T16:31:22.158077Z",
     "iopub.status.busy": "2022-03-21T16:31:22.157367Z",
     "iopub.status.idle": "2022-03-21T16:31:40.099390Z",
     "shell.execute_reply": "2022-03-21T16:31:40.098883Z",
     "shell.execute_reply.started": "2022-03-21T16:27:03.315623Z"
    },
    "papermill": {
     "duration": 17.997643,
     "end_time": "2022-03-21T16:31:40.099566",
     "exception": false,
     "start_time": "2022-03-21T16:31:22.101923",
     "status": "completed"
    },
    "tags": []
   },
   "outputs": [
    {
     "data": {
      "text/plain": [
       "126"
      ]
     },
     "execution_count": 42,
     "metadata": {},
     "output_type": "execute_result"
    }
   ],
   "source": [
    "hybrid_combined_submission = submission_data[['customer_id']].copy()\n",
    "hybrid_combined_submission['prediction'] = hybrid_submission_data['prediction'].apply(lambda x: ' '.join(x.split(' ')[:12]))\n",
    "hybrid_combined_submission.to_csv(\"hybrid_combined_submission.csv\", index=False)\n",
    "del hybrid_combined_submission\n",
    "gc.collect()"
   ]
  }
 ],
 "metadata": {
  "kernelspec": {
   "display_name": "Python 3",
   "language": "python",
   "name": "python3"
  },
  "language_info": {
   "codemirror_mode": {
    "name": "ipython",
    "version": 3
   },
   "file_extension": ".py",
   "mimetype": "text/x-python",
   "name": "python",
   "nbconvert_exporter": "python",
   "pygments_lexer": "ipython3",
   "version": "3.7.12"
  },
  "papermill": {
   "default_parameters": {},
   "duration": 228.673228,
   "end_time": "2022-03-21T16:31:42.571824",
   "environment_variables": {},
   "exception": null,
   "input_path": "__notebook__.ipynb",
   "output_path": "__notebook__.ipynb",
   "parameters": {},
   "start_time": "2022-03-21T16:27:53.898596",
   "version": "2.3.3"
  }
 },
 "nbformat": 4,
 "nbformat_minor": 5
}
