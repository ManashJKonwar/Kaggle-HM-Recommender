{
 "cells": [
  {
   "cell_type": "markdown",
   "id": "a407c0e2",
   "metadata": {
    "papermill": {
     "duration": 0.043532,
     "end_time": "2022-05-05T17:39:05.070169",
     "exception": false,
     "start_time": "2022-05-05T17:39:05.026637",
     "status": "completed"
    },
    "tags": []
   },
   "source": [
    "## Helper Functions"
   ]
  },
  {
   "cell_type": "code",
   "execution_count": 1,
   "id": "0bd70f63",
   "metadata": {
    "execution": {
     "iopub.execute_input": "2022-05-05T17:39:05.154209Z",
     "iopub.status.busy": "2022-05-05T17:39:05.153674Z",
     "iopub.status.idle": "2022-05-05T17:39:05.168817Z",
     "shell.execute_reply": "2022-05-05T17:39:05.167855Z"
    },
    "papermill": {
     "duration": 0.059954,
     "end_time": "2022-05-05T17:39:05.171151",
     "exception": false,
     "start_time": "2022-05-05T17:39:05.111197",
     "status": "completed"
    },
    "tags": []
   },
   "outputs": [],
   "source": [
    "import numpy as np\n",
    "\n",
    "def apk(actual, predicted, k=10):\n",
    "    \"\"\"\n",
    "    Computes the average precision at k.\n",
    "\n",
    "    This function computes the average prescision at k between two lists of\n",
    "    items.\n",
    "\n",
    "    Parameters\n",
    "    ----------\n",
    "    actual : list\n",
    "             A list of elements that are to be predicted (order doesn't matter)\n",
    "    predicted : list\n",
    "                A list of predicted elements (order does matter)\n",
    "    k : int, optional\n",
    "        The maximum number of predicted elements\n",
    "\n",
    "    Returns\n",
    "    -------\n",
    "    score : double\n",
    "            The average precision at k over the input lists\n",
    "\n",
    "    \"\"\"\n",
    "    if len(predicted)>k:\n",
    "        predicted = predicted[:k]\n",
    "\n",
    "    score = 0.0\n",
    "    num_hits = 0.0\n",
    "\n",
    "    for i,p in enumerate(predicted):\n",
    "        if p in actual and p not in predicted[:i]:\n",
    "            num_hits += 1.0\n",
    "            score += num_hits / (i+1.0)\n",
    "\n",
    "    if not actual:\n",
    "        return 0.0\n",
    "\n",
    "    return score / min(len(actual), k)\n",
    "\n",
    "def mapk(actual, predicted, k=10):\n",
    "    \"\"\"\n",
    "    Computes the mean average precision at k.\n",
    "\n",
    "    This function computes the mean average prescision at k between two lists\n",
    "    of lists of items.\n",
    "\n",
    "    Parameters\n",
    "    ----------\n",
    "    actual : list\n",
    "             A list of lists of elements that are to be predicted \n",
    "             (order doesn't matter in the lists)\n",
    "    predicted : list\n",
    "                A list of lists of predicted elements\n",
    "                (order matters in the lists)\n",
    "    k : int, optional\n",
    "        The maximum number of predicted elements\n",
    "\n",
    "    Returns\n",
    "    -------\n",
    "    score : double\n",
    "            The mean average precision at k over the input lists\n",
    "\n",
    "    \"\"\"\n",
    "    return np.mean([apk(a,p,k) for a,p in zip(actual, predicted)])"
   ]
  },
  {
   "cell_type": "code",
   "execution_count": 2,
   "id": "f9cdb908",
   "metadata": {
    "_kg_hide-input": true,
    "_kg_hide-output": true,
    "execution": {
     "iopub.execute_input": "2022-05-05T17:39:05.256728Z",
     "iopub.status.busy": "2022-05-05T17:39:05.256005Z",
     "iopub.status.idle": "2022-05-05T17:39:06.318007Z",
     "shell.execute_reply": "2022-05-05T17:39:06.317198Z"
    },
    "papermill": {
     "duration": 1.108182,
     "end_time": "2022-05-05T17:39:06.320351",
     "exception": false,
     "start_time": "2022-05-05T17:39:05.212169",
     "status": "completed"
    },
    "tags": []
   },
   "outputs": [],
   "source": [
    "from sklearn.base import BaseEstimator, TransformerMixin\n",
    "import numpy as np\n",
    "\n",
    "def customer_hex_id_to_int(series):\n",
    "    return series.str[-16:].apply(hex_id_to_int)\n",
    "\n",
    "def hex_id_to_int(str):\n",
    "    return int(str[-16:], 16)\n",
    "\n",
    "def article_id_str_to_int(series):\n",
    "    return series.astype('int32')\n",
    "\n",
    "def article_id_int_to_str(series):\n",
    "    return '0' + series.astype('str')\n",
    "\n",
    "class Categorize(BaseEstimator, TransformerMixin):\n",
    "    def __init__(self, min_examples=0):\n",
    "        self.min_examples = min_examples\n",
    "        self.categories = []\n",
    "        \n",
    "    def fit(self, X):\n",
    "        for i in range(X.shape[1]):\n",
    "            vc = X.iloc[:, i].value_counts()\n",
    "            self.categories.append(vc[vc > self.min_examples].index.tolist())\n",
    "        return self\n",
    "\n",
    "    def transform(self, X):\n",
    "        data = {X.columns[i]: pd.Categorical(X.iloc[:, i], categories=self.categories[i]).codes for i in range(X.shape[1])}\n",
    "        return pd.DataFrame(data=data)\n",
    "\n",
    "\n",
    "def calculate_apk(list_of_preds, list_of_gts):\n",
    "    # for fast validation this can be changed to operate on dicts of {'cust_id_int': [art_id_int, ...]}\n",
    "    # using 'data/val_week_purchases_by_cust.pkl'\n",
    "    apks = []\n",
    "    for preds, gt in zip(list_of_preds, list_of_gts):\n",
    "        apks.append(apk(gt, preds, k=12))\n",
    "    return np.mean(apks)\n",
    "\n",
    "def eval_sub(sub_csv, skip_cust_with_no_purchases=True):\n",
    "    sub=pd.read_csv(sub_csv)\n",
    "    validation_set=pd.read_parquet('data/validation_ground_truth.parquet')\n",
    "\n",
    "    apks = []\n",
    "\n",
    "    no_purchases_pattern = []\n",
    "    for pred, gt in zip(sub.prediction.str.split(), validation_set.prediction.str.split()):\n",
    "        if skip_cust_with_no_purchases and (gt == no_purchases_pattern): continue\n",
    "        apks.append(apk(gt, pred, k=12))\n",
    "    return np.mean(apks)"
   ]
  },
  {
   "cell_type": "code",
   "execution_count": 3,
   "id": "254efa80",
   "metadata": {
    "execution": {
     "iopub.execute_input": "2022-05-05T17:39:06.407366Z",
     "iopub.status.busy": "2022-05-05T17:39:06.406592Z",
     "iopub.status.idle": "2022-05-05T17:39:06.410930Z",
     "shell.execute_reply": "2022-05-05T17:39:06.410091Z"
    },
    "papermill": {
     "duration": 0.048751,
     "end_time": "2022-05-05T17:39:06.412849",
     "exception": false,
     "start_time": "2022-05-05T17:39:06.364098",
     "status": "completed"
    },
    "tags": []
   },
   "outputs": [],
   "source": [
    "import tqdm\n",
    "import pandas as pd\n",
    "from abc import ABC, abstractmethod\n",
    "from typing import List, Dict, Any, Union"
   ]
  },
  {
   "cell_type": "code",
   "execution_count": 4,
   "id": "c39ab85b",
   "metadata": {
    "execution": {
     "iopub.execute_input": "2022-05-05T17:39:06.498360Z",
     "iopub.status.busy": "2022-05-05T17:39:06.497471Z",
     "iopub.status.idle": "2022-05-05T17:39:14.451281Z",
     "shell.execute_reply": "2022-05-05T17:39:14.450593Z"
    },
    "papermill": {
     "duration": 7.998261,
     "end_time": "2022-05-05T17:39:14.453593",
     "exception": false,
     "start_time": "2022-05-05T17:39:06.455332",
     "status": "completed"
    },
    "tags": []
   },
   "outputs": [
    {
     "name": "stdout",
     "output_type": "stream",
     "text": [
      "CPU times: user 2.11 s, sys: 2.67 s, total: 4.78 s\n",
      "Wall time: 7.95 s\n"
     ]
    }
   ],
   "source": [
    "%%time\n",
    "\n",
    "transactions = pd.read_parquet('../input/hm-lgbm-supporting-data/transactions_train.parquet')\n",
    "customers = pd.read_parquet('../input/hm-lgbm-supporting-data/customers.parquet')\n",
    "articles = pd.read_parquet('../input/hm-lgbm-supporting-data/articles.parquet')"
   ]
  },
  {
   "cell_type": "code",
   "execution_count": 5,
   "id": "cd1641aa",
   "metadata": {
    "execution": {
     "iopub.execute_input": "2022-05-05T17:39:14.539020Z",
     "iopub.status.busy": "2022-05-05T17:39:14.538715Z",
     "iopub.status.idle": "2022-05-05T17:39:16.370146Z",
     "shell.execute_reply": "2022-05-05T17:39:16.369155Z"
    },
    "papermill": {
     "duration": 1.876668,
     "end_time": "2022-05-05T17:39:16.372726",
     "exception": false,
     "start_time": "2022-05-05T17:39:14.496058",
     "status": "completed"
    },
    "tags": []
   },
   "outputs": [],
   "source": [
    "from collections import defaultdict\n",
    "\n",
    "val_week_purchases_by_cust = defaultdict(list)\n",
    "\n",
    "val_week_purchases_by_cust.update(\n",
    "    transactions[transactions.week == transactions.week.max()] \\\n",
    "        .groupby('customer_id')['article_id'] \\\n",
    "        .apply(list) \\\n",
    "        .to_dict()\n",
    ")\n",
    "\n",
    "pd.to_pickle(dict(val_week_purchases_by_cust), 'val_week_purchases_by_cust.pkl')"
   ]
  },
  {
   "cell_type": "code",
   "execution_count": 6,
   "id": "c1fde89b",
   "metadata": {
    "execution": {
     "iopub.execute_input": "2022-05-05T17:39:16.460855Z",
     "iopub.status.busy": "2022-05-05T17:39:16.460404Z",
     "iopub.status.idle": "2022-05-05T17:39:18.384424Z",
     "shell.execute_reply": "2022-05-05T17:39:18.383695Z"
    },
    "papermill": {
     "duration": 1.970228,
     "end_time": "2022-05-05T17:39:18.386699",
     "exception": false,
     "start_time": "2022-05-05T17:39:16.416471",
     "status": "completed"
    },
    "tags": []
   },
   "outputs": [],
   "source": [
    "test_week = transactions.week.max()\n",
    "transactions = transactions[transactions.week != transactions.week.max()]\n",
    "transactions = transactions[transactions.week > transactions.week.max() - 10]"
   ]
  },
  {
   "cell_type": "code",
   "execution_count": 7,
   "id": "630db6d9",
   "metadata": {
    "execution": {
     "iopub.execute_input": "2022-05-05T17:39:18.482724Z",
     "iopub.status.busy": "2022-05-05T17:39:18.482395Z",
     "iopub.status.idle": "2022-05-05T17:39:18.491671Z",
     "shell.execute_reply": "2022-05-05T17:39:18.490578Z"
    },
    "papermill": {
     "duration": 0.056776,
     "end_time": "2022-05-05T17:39:18.494012",
     "exception": false,
     "start_time": "2022-05-05T17:39:18.437236",
     "status": "completed"
    },
    "tags": []
   },
   "outputs": [
    {
     "data": {
      "text/plain": [
       "104"
      ]
     },
     "execution_count": 7,
     "metadata": {},
     "output_type": "execute_result"
    }
   ],
   "source": [
    "test_week"
   ]
  },
  {
   "cell_type": "code",
   "execution_count": 8,
   "id": "aaa84c61",
   "metadata": {
    "execution": {
     "iopub.execute_input": "2022-05-05T17:39:18.582984Z",
     "iopub.status.busy": "2022-05-05T17:39:18.582685Z",
     "iopub.status.idle": "2022-05-05T17:39:18.603979Z",
     "shell.execute_reply": "2022-05-05T17:39:18.602923Z"
    },
    "papermill": {
     "duration": 0.068819,
     "end_time": "2022-05-05T17:39:18.606347",
     "exception": false,
     "start_time": "2022-05-05T17:39:18.537528",
     "status": "completed"
    },
    "tags": []
   },
   "outputs": [
    {
     "data": {
      "text/html": [
       "<div>\n",
       "<style scoped>\n",
       "    .dataframe tbody tr th:only-of-type {\n",
       "        vertical-align: middle;\n",
       "    }\n",
       "\n",
       "    .dataframe tbody tr th {\n",
       "        vertical-align: top;\n",
       "    }\n",
       "\n",
       "    .dataframe thead th {\n",
       "        text-align: right;\n",
       "    }\n",
       "</style>\n",
       "<table border=\"1\" class=\"dataframe\">\n",
       "  <thead>\n",
       "    <tr style=\"text-align: right;\">\n",
       "      <th></th>\n",
       "      <th>t_dat</th>\n",
       "      <th>customer_id</th>\n",
       "      <th>article_id</th>\n",
       "      <th>price</th>\n",
       "      <th>sales_channel_id</th>\n",
       "      <th>week</th>\n",
       "    </tr>\n",
       "  </thead>\n",
       "  <tbody>\n",
       "    <tr>\n",
       "      <th>28777300</th>\n",
       "      <td>2020-07-08</td>\n",
       "      <td>857913002275398</td>\n",
       "      <td>599580068</td>\n",
       "      <td>0.008458</td>\n",
       "      <td>1</td>\n",
       "      <td>94</td>\n",
       "    </tr>\n",
       "    <tr>\n",
       "      <th>28777301</th>\n",
       "      <td>2020-07-08</td>\n",
       "      <td>857913002275398</td>\n",
       "      <td>776237011</td>\n",
       "      <td>0.025407</td>\n",
       "      <td>1</td>\n",
       "      <td>94</td>\n",
       "    </tr>\n",
       "    <tr>\n",
       "      <th>28777302</th>\n",
       "      <td>2020-07-08</td>\n",
       "      <td>857913002275398</td>\n",
       "      <td>844294001</td>\n",
       "      <td>0.011847</td>\n",
       "      <td>1</td>\n",
       "      <td>94</td>\n",
       "    </tr>\n",
       "    <tr>\n",
       "      <th>28787123</th>\n",
       "      <td>2020-07-08</td>\n",
       "      <td>1658289241058394</td>\n",
       "      <td>877773001</td>\n",
       "      <td>0.007610</td>\n",
       "      <td>1</td>\n",
       "      <td>94</td>\n",
       "    </tr>\n",
       "    <tr>\n",
       "      <th>28788562</th>\n",
       "      <td>2020-07-08</td>\n",
       "      <td>3828854365940846</td>\n",
       "      <td>507883009</td>\n",
       "      <td>0.013542</td>\n",
       "      <td>1</td>\n",
       "      <td>94</td>\n",
       "    </tr>\n",
       "    <tr>\n",
       "      <th>...</th>\n",
       "      <td>...</td>\n",
       "      <td>...</td>\n",
       "      <td>...</td>\n",
       "      <td>...</td>\n",
       "      <td>...</td>\n",
       "      <td>...</td>\n",
       "    </tr>\n",
       "    <tr>\n",
       "      <th>31536744</th>\n",
       "      <td>2020-09-15</td>\n",
       "      <td>18446630855572834764</td>\n",
       "      <td>568601045</td>\n",
       "      <td>0.050831</td>\n",
       "      <td>2</td>\n",
       "      <td>103</td>\n",
       "    </tr>\n",
       "    <tr>\n",
       "      <th>31536745</th>\n",
       "      <td>2020-09-15</td>\n",
       "      <td>18446630855572834764</td>\n",
       "      <td>568601045</td>\n",
       "      <td>0.050831</td>\n",
       "      <td>2</td>\n",
       "      <td>103</td>\n",
       "    </tr>\n",
       "    <tr>\n",
       "      <th>31536746</th>\n",
       "      <td>2020-09-15</td>\n",
       "      <td>18446630855572834764</td>\n",
       "      <td>898713001</td>\n",
       "      <td>0.067780</td>\n",
       "      <td>2</td>\n",
       "      <td>103</td>\n",
       "    </tr>\n",
       "    <tr>\n",
       "      <th>31536747</th>\n",
       "      <td>2020-09-15</td>\n",
       "      <td>18446630855572834764</td>\n",
       "      <td>898713001</td>\n",
       "      <td>0.067780</td>\n",
       "      <td>2</td>\n",
       "      <td>103</td>\n",
       "    </tr>\n",
       "    <tr>\n",
       "      <th>31536748</th>\n",
       "      <td>2020-09-15</td>\n",
       "      <td>18446630855572834764</td>\n",
       "      <td>886966002</td>\n",
       "      <td>0.067780</td>\n",
       "      <td>2</td>\n",
       "      <td>103</td>\n",
       "    </tr>\n",
       "  </tbody>\n",
       "</table>\n",
       "<p>2809233 rows × 6 columns</p>\n",
       "</div>"
      ],
      "text/plain": [
       "              t_dat           customer_id  article_id     price  \\\n",
       "28777300 2020-07-08       857913002275398   599580068  0.008458   \n",
       "28777301 2020-07-08       857913002275398   776237011  0.025407   \n",
       "28777302 2020-07-08       857913002275398   844294001  0.011847   \n",
       "28787123 2020-07-08      1658289241058394   877773001  0.007610   \n",
       "28788562 2020-07-08      3828854365940846   507883009  0.013542   \n",
       "...             ...                   ...         ...       ...   \n",
       "31536744 2020-09-15  18446630855572834764   568601045  0.050831   \n",
       "31536745 2020-09-15  18446630855572834764   568601045  0.050831   \n",
       "31536746 2020-09-15  18446630855572834764   898713001  0.067780   \n",
       "31536747 2020-09-15  18446630855572834764   898713001  0.067780   \n",
       "31536748 2020-09-15  18446630855572834764   886966002  0.067780   \n",
       "\n",
       "          sales_channel_id  week  \n",
       "28777300                 1    94  \n",
       "28777301                 1    94  \n",
       "28777302                 1    94  \n",
       "28787123                 1    94  \n",
       "28788562                 1    94  \n",
       "...                    ...   ...  \n",
       "31536744                 2   103  \n",
       "31536745                 2   103  \n",
       "31536746                 2   103  \n",
       "31536747                 2   103  \n",
       "31536748                 2   103  \n",
       "\n",
       "[2809233 rows x 6 columns]"
      ]
     },
     "execution_count": 8,
     "metadata": {},
     "output_type": "execute_result"
    }
   ],
   "source": [
    "transactions"
   ]
  },
  {
   "cell_type": "markdown",
   "id": "8fc78df5",
   "metadata": {
    "papermill": {
     "duration": 0.043975,
     "end_time": "2022-05-05T17:39:18.693083",
     "exception": false,
     "start_time": "2022-05-05T17:39:18.649108",
     "status": "completed"
    },
    "tags": []
   },
   "source": [
    "## Generating candidates"
   ]
  },
  {
   "cell_type": "code",
   "execution_count": 9,
   "id": "00360fa1",
   "metadata": {
    "execution": {
     "iopub.execute_input": "2022-05-05T17:39:18.781017Z",
     "iopub.status.busy": "2022-05-05T17:39:18.780741Z",
     "iopub.status.idle": "2022-05-05T17:39:18.804395Z",
     "shell.execute_reply": "2022-05-05T17:39:18.803539Z"
    },
    "papermill": {
     "duration": 0.069859,
     "end_time": "2022-05-05T17:39:18.806679",
     "exception": false,
     "start_time": "2022-05-05T17:39:18.736820",
     "status": "completed"
    },
    "tags": []
   },
   "outputs": [],
   "source": [
    "class GenerateCandidates:\n",
    "    def __init__(self, transactions, articles, customers):\n",
    "        self._transactions = transactions\n",
    "        self._articles = articles\n",
    "        self._customer = customers\n",
    "        \n",
    "    def get_candidates(self):\n",
    "        return self._last_purchase_candidates, self._bestseller_candidates\n",
    "    \n",
    "    def get_bestsellers(self):\n",
    "        return self._bestseller_previous_week\n",
    "    \n",
    "    def generate_candidates(self):\n",
    "        '''\n",
    "        1. Last purchase made by each customer\n",
    "        2. Bestselling articles on weekly basis\n",
    "        '''\n",
    "        self._last_purchase_candidates = self.last_purchase_candidates()\n",
    "        self._bestseller_candidates, self._bestseller_previous_week = self.best_seller_candidates()\n",
    "        \n",
    "    def last_purchase_candidates(self):\n",
    "        '''\n",
    "        Retrieve Customer Ids with respective weeks of having positive interactions\n",
    "        '''\n",
    "        c2weeks = self._transactions.groupby('customer_id')['week'].unique()\n",
    "        print('#### Customer having positive interactions at week level ####')\n",
    "        print(c2weeks)\n",
    "        \n",
    "        '''\n",
    "        Generating a dictionary to capture the effect of each purchase made by each customer \n",
    "        and then mapping it back to subsequent week of next transaction made\n",
    "        '''\n",
    "        c2weeks2shifted_weeks = {}\n",
    "        for c_id, weeks in c2weeks.items():\n",
    "            c2weeks2shifted_weeks[c_id] = {}\n",
    "            for i in range(weeks.shape[0]-1):\n",
    "                c2weeks2shifted_weeks[c_id][weeks[i]] = weeks[i+1]\n",
    "            c2weeks2shifted_weeks[c_id][weeks[-1]] = test_week\n",
    "        print('\\n#### Customer having positive interactions interchanging subsequent purchases ####')\n",
    "        print(c2weeks2shifted_weeks[272412481300040])\n",
    "        \n",
    "        candidates_last_purchase = self._transactions.copy()\n",
    "        \n",
    "        '''\n",
    "        Generate duplicate positive interactions by mapping extracted weeks to subsequent weeks\n",
    "        of interactions\n",
    "        '''\n",
    "        weeks = []\n",
    "        for i, (c_id, week) in enumerate(zip(transactions['customer_id'], transactions['week'])):\n",
    "            weeks.append(c2weeks2shifted_weeks[c_id][week])\n",
    "\n",
    "        candidates_last_purchase.week=weeks\n",
    "        print('\\n#### Duplicating interactions for each customer to subsequent weeks ####')\n",
    "        print(candidates_last_purchase[candidates_last_purchase['customer_id']==272412481300040])\n",
    "        \n",
    "        return candidates_last_purchase\n",
    "    \n",
    "    def best_seller_candidates(self):\n",
    "        '''\n",
    "        Retrieve Mean Prices of articles for each week and also rank the highest selling articles\n",
    "        per week\n",
    "        '''\n",
    "        mean_price = self._transactions.groupby(['week', 'article_id'])['price'].mean()\n",
    "        print('\\n#### Mean Price of articles on weekly basis ####')\n",
    "        print(mean_price)\n",
    "        \n",
    "        sales = self._transactions \\\n",
    "                    .groupby('week')['article_id'].value_counts() \\\n",
    "                    .groupby('week').rank(method='dense', ascending=False) \\\n",
    "                    .groupby('week').head(12).rename('bestseller_rank').astype('int8')\n",
    "        print('\\n#### Best seller ranks for articles on weekly basis and based on no of transactions made each week ####')\n",
    "        print(sales)\n",
    "        \n",
    "        bestsellers_previous_week = pd.merge(sales, mean_price, on=['week', 'article_id']).reset_index()\n",
    "        bestsellers_previous_week.week += 1\n",
    "        print('\\n#### Best seller ranks for articles on weekly basis along with mean prices ####')\n",
    "        print(bestsellers_previous_week)\n",
    "        \n",
    "        '''\n",
    "        Generate best seller candidates for each week and customer combination\n",
    "        '''\n",
    "        unique_transactions = self._transactions \\\n",
    "                                .groupby(['week', 'customer_id']) \\\n",
    "                                .head(1) \\\n",
    "                                .drop(columns=['article_id', 'price']) \\\n",
    "                                .copy()\n",
    "        print('\\n#### Unique transactions for each customer on weekly basis ####')\n",
    "        print(unique_transactions)\n",
    "        \n",
    "        candidates_bestsellers = pd.merge(\n",
    "                                    unique_transactions,\n",
    "                                    bestsellers_previous_week,\n",
    "                                    on='week'\n",
    "                                )\n",
    "        print('\\n#### Best selling Candidates for each week and customer combination ####')\n",
    "        print(candidates_bestsellers)\n",
    "        \n",
    "        '''\n",
    "        Generate test transactions for each week\n",
    "        '''\n",
    "        test_set_transactions = unique_transactions.drop_duplicates('customer_id').reset_index(drop=True)\n",
    "        test_set_transactions.week = test_week\n",
    "        \n",
    "        candidates_bestsellers_test_week = pd.merge(\n",
    "                                                test_set_transactions,\n",
    "                                                bestsellers_previous_week,\n",
    "                                                on='week'\n",
    "                                            )\n",
    "        \n",
    "        '''\n",
    "        Combining Actuals and test week bestseller candidates\n",
    "        '''\n",
    "        candidates_bestsellers = pd.concat([candidates_bestsellers, candidates_bestsellers_test_week])\n",
    "        candidates_bestsellers.drop(columns='bestseller_rank', inplace=True)\n",
    "        print('\\n#### Best selling Candidates for customer with ID 272412481300040 ####')\n",
    "        print(candidates_bestsellers.loc[candidates_bestsellers.customer_id.isin([272412481300040])])\n",
    "        \n",
    "        return candidates_bestsellers, bestsellers_previous_week"
   ]
  },
  {
   "cell_type": "code",
   "execution_count": 10,
   "id": "310c6c7a",
   "metadata": {
    "execution": {
     "iopub.execute_input": "2022-05-05T17:39:18.896231Z",
     "iopub.status.busy": "2022-05-05T17:39:18.895923Z",
     "iopub.status.idle": "2022-05-05T17:39:58.614288Z",
     "shell.execute_reply": "2022-05-05T17:39:58.613624Z"
    },
    "papermill": {
     "duration": 39.766672,
     "end_time": "2022-05-05T17:39:58.617784",
     "exception": false,
     "start_time": "2022-05-05T17:39:18.851112",
     "status": "completed"
    },
    "tags": []
   },
   "outputs": [
    {
     "name": "stdout",
     "output_type": "stream",
     "text": [
      "#### Customer having positive interactions at week level ####\n",
      "customer_id\n",
      "28847241659200          [94, 95, 96, 101, 102]\n",
      "41318098387474                            [98]\n",
      "116809474287335                     [101, 103]\n",
      "200292573348128              [95, 96, 99, 102]\n",
      "208119717816961                           [94]\n",
      "                                 ...          \n",
      "18446590778427270109                 [97, 102]\n",
      "18446624797007271432                      [95]\n",
      "18446630855572834764                     [103]\n",
      "18446662237889060501                     [100]\n",
      "18446705133201055310                     [102]\n",
      "Name: week, Length: 439368, dtype: object\n",
      "\n",
      "#### Customer having positive interactions interchanging subsequent purchases ####\n",
      "{95: 96, 96: 103, 103: 104}\n",
      "\n",
      "#### Duplicating interactions for each customer to subsequent weeks ####\n",
      "              t_dat      customer_id  article_id     price  sales_channel_id  \\\n",
      "29030503 2020-07-15  272412481300040   778064028  0.008458                 1   \n",
      "29030504 2020-07-15  272412481300040   816592008  0.016932                 1   \n",
      "29030505 2020-07-15  272412481300040   621381021  0.033881                 1   \n",
      "29030506 2020-07-15  272412481300040   817477003  0.025407                 1   \n",
      "29030507 2020-07-15  272412481300040   899088002  0.025407                 1   \n",
      "29319533 2020-07-22  272412481300040   885077001  0.008458                 1   \n",
      "29410772 2020-07-24  272412481300040   850176003  0.029034                 2   \n",
      "29410773 2020-07-24  272412481300040   875803001  0.064559                 2   \n",
      "29410774 2020-07-24  272412481300040   892970003  0.020966                 2   \n",
      "29410775 2020-07-24  272412481300040   854619003  0.020966                 2   \n",
      "29531614 2020-07-27  272412481300040   900398001  0.030492                 2   \n",
      "29531615 2020-07-27  272412481300040   834179002  0.025407                 2   \n",
      "29531616 2020-07-27  272412481300040   875803001  0.067780                 2   \n",
      "31495014 2020-09-14  272412481300040   923460002  0.039932                 2   \n",
      "31495015 2020-09-14  272412481300040   922381001  0.039932                 2   \n",
      "31495016 2020-09-14  272412481300040   921906005  0.031949                 2   \n",
      "\n",
      "          week  \n",
      "29030503    96  \n",
      "29030504    96  \n",
      "29030505    96  \n",
      "29030506    96  \n",
      "29030507    96  \n",
      "29319533   103  \n",
      "29410772   103  \n",
      "29410773   103  \n",
      "29410774   103  \n",
      "29410775   103  \n",
      "29531614   103  \n",
      "29531615   103  \n",
      "29531616   103  \n",
      "31495014   104  \n",
      "31495015   104  \n",
      "31495016   104  \n",
      "\n",
      "#### Mean Price of articles on weekly basis ####\n",
      "week  article_id\n",
      "94    108775044     0.008339\n",
      "      110065002     0.005508\n",
      "      111565001     0.005452\n",
      "      111586001     0.013270\n",
      "      111593001     0.011669\n",
      "                      ...   \n",
      "103   952267001     0.014631\n",
      "      952938001     0.045746\n",
      "      953450001     0.016769\n",
      "      953763001     0.021932\n",
      "      956217002     0.059203\n",
      "Name: price, Length: 199492, dtype: float32\n",
      "\n",
      "#### Best seller ranks for articles on weekly basis and based on no of transactions made each week ####\n",
      "week  article_id\n",
      "94    806388001      1\n",
      "      730683021      2\n",
      "      610776002      3\n",
      "      805308002      4\n",
      "      866383006      5\n",
      "                    ..\n",
      "103   918292001      8\n",
      "      762846027      9\n",
      "      809238005     10\n",
      "      673677002     11\n",
      "      923758001     12\n",
      "Name: bestseller_rank, Length: 120, dtype: int8\n",
      "\n",
      "#### Best seller ranks for articles on weekly basis along with mean prices ####\n",
      "     week  article_id  bestseller_rank     price\n",
      "0      95   806388001                1  0.013301\n",
      "1      95   730683021                2  0.025643\n",
      "2      95   610776002                3  0.008303\n",
      "3      95   805308002                4  0.013609\n",
      "4      95   866383006                5  0.024971\n",
      "..    ...         ...              ...       ...\n",
      "115   104   918292001                8  0.041424\n",
      "116   104   762846027                9  0.025104\n",
      "117   104   809238005               10  0.041656\n",
      "118   104   673677002               11  0.024925\n",
      "119   104   923758001               12  0.033478\n",
      "\n",
      "[120 rows x 4 columns]\n",
      "\n",
      "#### Unique transactions for each customer on weekly basis ####\n",
      "              t_dat           customer_id  sales_channel_id  week\n",
      "28777300 2020-07-08       857913002275398                 1    94\n",
      "28787123 2020-07-08      1658289241058394                 1    94\n",
      "28788562 2020-07-08      3828854365940846                 1    94\n",
      "28744235 2020-07-08      4195624216542755                 1    94\n",
      "28753719 2020-07-08      4233235614030232                 2    94\n",
      "...             ...                   ...               ...   ...\n",
      "31521960 2020-09-15  18439897732908966680                 2   103\n",
      "31531712 2020-09-15  18444276791873187543                 2   103\n",
      "31539937 2020-09-15  18444799607866739422                 2   103\n",
      "31543799 2020-09-15  18446250046654386343                 1   103\n",
      "31536744 2020-09-15  18446630855572834764                 2   103\n",
      "\n",
      "[762722 rows x 4 columns]\n",
      "\n",
      "#### Best selling Candidates for each week and customer combination ####\n",
      "             t_dat           customer_id  sales_channel_id  week  article_id  \\\n",
      "0       2020-07-15       272412481300040                 1    95   806388001   \n",
      "1       2020-07-15       272412481300040                 1    95   730683021   \n",
      "2       2020-07-15       272412481300040                 1    95   610776002   \n",
      "3       2020-07-15       272412481300040                 1    95   805308002   \n",
      "4       2020-07-15       272412481300040                 1    95   866383006   \n",
      "...            ...                   ...               ...   ...         ...   \n",
      "8240707 2020-09-15  18446630855572834764                 2   103   863595006   \n",
      "8240708 2020-09-15  18446630855572834764                 2   103   896152002   \n",
      "8240709 2020-09-15  18446630855572834764                 2   103   448509014   \n",
      "8240710 2020-09-15  18446630855572834764                 2   103   909916001   \n",
      "8240711 2020-09-15  18446630855572834764                 2   103   762846031   \n",
      "\n",
      "         bestseller_rank     price  \n",
      "0                      1  0.013301  \n",
      "1                      2  0.025643  \n",
      "2                      3  0.008303  \n",
      "3                      4  0.013609  \n",
      "4                      5  0.024971  \n",
      "...                  ...       ...  \n",
      "8240707                8  0.033025  \n",
      "8240708                9  0.033064  \n",
      "8240709               10  0.041407  \n",
      "8240710               11  0.033403  \n",
      "8240711               12  0.024715  \n",
      "\n",
      "[8240712 rows x 7 columns]\n",
      "\n",
      "#### Best selling Candidates for customer with ID 272412481300040 ####\n",
      "             t_dat      customer_id  sales_channel_id  week  article_id  \\\n",
      "0       2020-07-15  272412481300040                 1    95   806388001   \n",
      "1       2020-07-15  272412481300040                 1    95   730683021   \n",
      "2       2020-07-15  272412481300040                 1    95   610776002   \n",
      "3       2020-07-15  272412481300040                 1    95   805308002   \n",
      "4       2020-07-15  272412481300040                 1    95   866383006   \n",
      "5       2020-07-15  272412481300040                 1    95   372860002   \n",
      "6       2020-07-15  272412481300040                 1    95   720125041   \n",
      "7       2020-07-15  272412481300040                 1    95   730683050   \n",
      "8       2020-07-15  272412481300040                 1    95   372860001   \n",
      "9       2020-07-15  272412481300040                 1    95   751471001   \n",
      "10      2020-07-15  272412481300040                 1    95   781613013   \n",
      "11      2020-07-15  272412481300040                 1    95   778064028   \n",
      "927348  2020-07-22  272412481300040                 1    96   760084003   \n",
      "927349  2020-07-22  272412481300040                 1    96   866731001   \n",
      "927350  2020-07-22  272412481300040                 1    96   600886001   \n",
      "927351  2020-07-22  272412481300040                 1    96   706016001   \n",
      "927352  2020-07-22  272412481300040                 1    96   372860002   \n",
      "927353  2020-07-22  272412481300040                 1    96   610776002   \n",
      "927354  2020-07-22  272412481300040                 1    96   877278002   \n",
      "927355  2020-07-22  272412481300040                 1    96   547780003   \n",
      "927356  2020-07-22  272412481300040                 1    96   817354001   \n",
      "927357  2020-07-22  272412481300040                 1    96   827968001   \n",
      "927358  2020-07-22  272412481300040                 1    96   866731003   \n",
      "927359  2020-07-22  272412481300040                 1    96   866383006   \n",
      "8075976 2020-09-14  272412481300040                 2   103   915526001   \n",
      "8075977 2020-09-14  272412481300040                 2   103   751471043   \n",
      "8075978 2020-09-14  272412481300040                 2   103   751471001   \n",
      "8075979 2020-09-14  272412481300040                 2   103   706016001   \n",
      "8075980 2020-09-14  272412481300040                 2   103   919365008   \n",
      "8075981 2020-09-14  272412481300040                 2   103   915529003   \n",
      "8075982 2020-09-14  272412481300040                 2   103   918292001   \n",
      "8075983 2020-09-14  272412481300040                 2   103   863595006   \n",
      "8075984 2020-09-14  272412481300040                 2   103   896152002   \n",
      "8075985 2020-09-14  272412481300040                 2   103   448509014   \n",
      "8075986 2020-09-14  272412481300040                 2   103   909916001   \n",
      "8075987 2020-09-14  272412481300040                 2   103   762846031   \n",
      "911952  2020-07-15  272412481300040                 1   104   909370001   \n",
      "911953  2020-07-15  272412481300040                 1   104   865799006   \n",
      "911954  2020-07-15  272412481300040                 1   104   918522001   \n",
      "911955  2020-07-15  272412481300040                 1   104   924243001   \n",
      "911956  2020-07-15  272412481300040                 1   104   448509014   \n",
      "911957  2020-07-15  272412481300040                 1   104   751471001   \n",
      "911958  2020-07-15  272412481300040                 1   104   809238001   \n",
      "911959  2020-07-15  272412481300040                 1   104   918292001   \n",
      "911960  2020-07-15  272412481300040                 1   104   762846027   \n",
      "911961  2020-07-15  272412481300040                 1   104   809238005   \n",
      "911962  2020-07-15  272412481300040                 1   104   673677002   \n",
      "911963  2020-07-15  272412481300040                 1   104   923758001   \n",
      "\n",
      "            price  \n",
      "0        0.013301  \n",
      "1        0.025643  \n",
      "2        0.008303  \n",
      "3        0.013609  \n",
      "4        0.024971  \n",
      "5        0.013233  \n",
      "6        0.026074  \n",
      "7        0.041446  \n",
      "8        0.013241  \n",
      "9        0.033264  \n",
      "10       0.049850  \n",
      "11       0.006937  \n",
      "927348   0.025094  \n",
      "927349   0.024919  \n",
      "927350   0.022980  \n",
      "927351   0.033197  \n",
      "927352   0.013193  \n",
      "927353   0.008318  \n",
      "927354   0.025036  \n",
      "927355   0.024814  \n",
      "927356   0.021913  \n",
      "927357   0.016436  \n",
      "927358   0.024893  \n",
      "927359   0.023195  \n",
      "8075976  0.033127  \n",
      "8075977  0.033082  \n",
      "8075978  0.033257  \n",
      "8075979  0.033229  \n",
      "8075980  0.041837  \n",
      "8075981  0.033319  \n",
      "8075982  0.041372  \n",
      "8075983  0.033025  \n",
      "8075984  0.033064  \n",
      "8075985  0.041407  \n",
      "8075986  0.033403  \n",
      "8075987  0.024715  \n",
      "911952   0.032947  \n",
      "911953   0.033340  \n",
      "911954   0.041416  \n",
      "911955   0.041549  \n",
      "911956   0.041604  \n",
      "911957   0.033268  \n",
      "911958   0.041612  \n",
      "911959   0.041424  \n",
      "911960   0.025104  \n",
      "911961   0.041656  \n",
      "911962   0.024925  \n",
      "911963   0.033478  \n"
     ]
    }
   ],
   "source": [
    "generate_candidate_instance = GenerateCandidates(transactions, articles, customers)\n",
    "generate_candidate_instance.generate_candidates()\n",
    "candidates_last_purchase, candidates_bestsellers = generate_candidate_instance.get_candidates()\n",
    "bestsellers_previous_week = generate_candidate_instance.get_bestsellers()"
   ]
  },
  {
   "cell_type": "code",
   "execution_count": 11,
   "id": "c3ad42a2",
   "metadata": {
    "execution": {
     "iopub.execute_input": "2022-05-05T17:39:58.717317Z",
     "iopub.status.busy": "2022-05-05T17:39:58.716922Z",
     "iopub.status.idle": "2022-05-05T17:39:58.738059Z",
     "shell.execute_reply": "2022-05-05T17:39:58.736602Z"
    },
    "papermill": {
     "duration": 0.075956,
     "end_time": "2022-05-05T17:39:58.740425",
     "exception": false,
     "start_time": "2022-05-05T17:39:58.664469",
     "status": "completed"
    },
    "tags": []
   },
   "outputs": [
    {
     "data": {
      "text/html": [
       "<div>\n",
       "<style scoped>\n",
       "    .dataframe tbody tr th:only-of-type {\n",
       "        vertical-align: middle;\n",
       "    }\n",
       "\n",
       "    .dataframe tbody tr th {\n",
       "        vertical-align: top;\n",
       "    }\n",
       "\n",
       "    .dataframe thead th {\n",
       "        text-align: right;\n",
       "    }\n",
       "</style>\n",
       "<table border=\"1\" class=\"dataframe\">\n",
       "  <thead>\n",
       "    <tr style=\"text-align: right;\">\n",
       "      <th></th>\n",
       "      <th>t_dat</th>\n",
       "      <th>customer_id</th>\n",
       "      <th>article_id</th>\n",
       "      <th>price</th>\n",
       "      <th>sales_channel_id</th>\n",
       "      <th>week</th>\n",
       "    </tr>\n",
       "  </thead>\n",
       "  <tbody>\n",
       "    <tr>\n",
       "      <th>28777300</th>\n",
       "      <td>2020-07-08</td>\n",
       "      <td>857913002275398</td>\n",
       "      <td>599580068</td>\n",
       "      <td>0.008458</td>\n",
       "      <td>1</td>\n",
       "      <td>95</td>\n",
       "    </tr>\n",
       "    <tr>\n",
       "      <th>28777301</th>\n",
       "      <td>2020-07-08</td>\n",
       "      <td>857913002275398</td>\n",
       "      <td>776237011</td>\n",
       "      <td>0.025407</td>\n",
       "      <td>1</td>\n",
       "      <td>95</td>\n",
       "    </tr>\n",
       "    <tr>\n",
       "      <th>28777302</th>\n",
       "      <td>2020-07-08</td>\n",
       "      <td>857913002275398</td>\n",
       "      <td>844294001</td>\n",
       "      <td>0.011847</td>\n",
       "      <td>1</td>\n",
       "      <td>95</td>\n",
       "    </tr>\n",
       "    <tr>\n",
       "      <th>28787123</th>\n",
       "      <td>2020-07-08</td>\n",
       "      <td>1658289241058394</td>\n",
       "      <td>877773001</td>\n",
       "      <td>0.007610</td>\n",
       "      <td>1</td>\n",
       "      <td>104</td>\n",
       "    </tr>\n",
       "    <tr>\n",
       "      <th>28788562</th>\n",
       "      <td>2020-07-08</td>\n",
       "      <td>3828854365940846</td>\n",
       "      <td>507883009</td>\n",
       "      <td>0.013542</td>\n",
       "      <td>1</td>\n",
       "      <td>100</td>\n",
       "    </tr>\n",
       "    <tr>\n",
       "      <th>...</th>\n",
       "      <td>...</td>\n",
       "      <td>...</td>\n",
       "      <td>...</td>\n",
       "      <td>...</td>\n",
       "      <td>...</td>\n",
       "      <td>...</td>\n",
       "    </tr>\n",
       "    <tr>\n",
       "      <th>31536744</th>\n",
       "      <td>2020-09-15</td>\n",
       "      <td>18446630855572834764</td>\n",
       "      <td>568601045</td>\n",
       "      <td>0.050831</td>\n",
       "      <td>2</td>\n",
       "      <td>104</td>\n",
       "    </tr>\n",
       "    <tr>\n",
       "      <th>31536745</th>\n",
       "      <td>2020-09-15</td>\n",
       "      <td>18446630855572834764</td>\n",
       "      <td>568601045</td>\n",
       "      <td>0.050831</td>\n",
       "      <td>2</td>\n",
       "      <td>104</td>\n",
       "    </tr>\n",
       "    <tr>\n",
       "      <th>31536746</th>\n",
       "      <td>2020-09-15</td>\n",
       "      <td>18446630855572834764</td>\n",
       "      <td>898713001</td>\n",
       "      <td>0.067780</td>\n",
       "      <td>2</td>\n",
       "      <td>104</td>\n",
       "    </tr>\n",
       "    <tr>\n",
       "      <th>31536747</th>\n",
       "      <td>2020-09-15</td>\n",
       "      <td>18446630855572834764</td>\n",
       "      <td>898713001</td>\n",
       "      <td>0.067780</td>\n",
       "      <td>2</td>\n",
       "      <td>104</td>\n",
       "    </tr>\n",
       "    <tr>\n",
       "      <th>31536748</th>\n",
       "      <td>2020-09-15</td>\n",
       "      <td>18446630855572834764</td>\n",
       "      <td>886966002</td>\n",
       "      <td>0.067780</td>\n",
       "      <td>2</td>\n",
       "      <td>104</td>\n",
       "    </tr>\n",
       "  </tbody>\n",
       "</table>\n",
       "<p>2809233 rows × 6 columns</p>\n",
       "</div>"
      ],
      "text/plain": [
       "              t_dat           customer_id  article_id     price  \\\n",
       "28777300 2020-07-08       857913002275398   599580068  0.008458   \n",
       "28777301 2020-07-08       857913002275398   776237011  0.025407   \n",
       "28777302 2020-07-08       857913002275398   844294001  0.011847   \n",
       "28787123 2020-07-08      1658289241058394   877773001  0.007610   \n",
       "28788562 2020-07-08      3828854365940846   507883009  0.013542   \n",
       "...             ...                   ...         ...       ...   \n",
       "31536744 2020-09-15  18446630855572834764   568601045  0.050831   \n",
       "31536745 2020-09-15  18446630855572834764   568601045  0.050831   \n",
       "31536746 2020-09-15  18446630855572834764   898713001  0.067780   \n",
       "31536747 2020-09-15  18446630855572834764   898713001  0.067780   \n",
       "31536748 2020-09-15  18446630855572834764   886966002  0.067780   \n",
       "\n",
       "          sales_channel_id  week  \n",
       "28777300                 1    95  \n",
       "28777301                 1    95  \n",
       "28777302                 1    95  \n",
       "28787123                 1   104  \n",
       "28788562                 1   100  \n",
       "...                    ...   ...  \n",
       "31536744                 2   104  \n",
       "31536745                 2   104  \n",
       "31536746                 2   104  \n",
       "31536747                 2   104  \n",
       "31536748                 2   104  \n",
       "\n",
       "[2809233 rows x 6 columns]"
      ]
     },
     "execution_count": 11,
     "metadata": {},
     "output_type": "execute_result"
    }
   ],
   "source": [
    "candidates_last_purchase"
   ]
  },
  {
   "cell_type": "code",
   "execution_count": 12,
   "id": "a39ea196",
   "metadata": {
    "execution": {
     "iopub.execute_input": "2022-05-05T17:39:58.841372Z",
     "iopub.status.busy": "2022-05-05T17:39:58.840797Z",
     "iopub.status.idle": "2022-05-05T17:39:58.855682Z",
     "shell.execute_reply": "2022-05-05T17:39:58.854825Z"
    },
    "papermill": {
     "duration": 0.064472,
     "end_time": "2022-05-05T17:39:58.857753",
     "exception": false,
     "start_time": "2022-05-05T17:39:58.793281",
     "status": "completed"
    },
    "tags": []
   },
   "outputs": [
    {
     "data": {
      "text/html": [
       "<div>\n",
       "<style scoped>\n",
       "    .dataframe tbody tr th:only-of-type {\n",
       "        vertical-align: middle;\n",
       "    }\n",
       "\n",
       "    .dataframe tbody tr th {\n",
       "        vertical-align: top;\n",
       "    }\n",
       "\n",
       "    .dataframe thead th {\n",
       "        text-align: right;\n",
       "    }\n",
       "</style>\n",
       "<table border=\"1\" class=\"dataframe\">\n",
       "  <thead>\n",
       "    <tr style=\"text-align: right;\">\n",
       "      <th></th>\n",
       "      <th>t_dat</th>\n",
       "      <th>customer_id</th>\n",
       "      <th>sales_channel_id</th>\n",
       "      <th>week</th>\n",
       "      <th>article_id</th>\n",
       "      <th>price</th>\n",
       "    </tr>\n",
       "  </thead>\n",
       "  <tbody>\n",
       "    <tr>\n",
       "      <th>0</th>\n",
       "      <td>2020-07-15</td>\n",
       "      <td>272412481300040</td>\n",
       "      <td>1</td>\n",
       "      <td>95</td>\n",
       "      <td>806388001</td>\n",
       "      <td>0.013301</td>\n",
       "    </tr>\n",
       "    <tr>\n",
       "      <th>1</th>\n",
       "      <td>2020-07-15</td>\n",
       "      <td>272412481300040</td>\n",
       "      <td>1</td>\n",
       "      <td>95</td>\n",
       "      <td>730683021</td>\n",
       "      <td>0.025643</td>\n",
       "    </tr>\n",
       "    <tr>\n",
       "      <th>2</th>\n",
       "      <td>2020-07-15</td>\n",
       "      <td>272412481300040</td>\n",
       "      <td>1</td>\n",
       "      <td>95</td>\n",
       "      <td>610776002</td>\n",
       "      <td>0.008303</td>\n",
       "    </tr>\n",
       "    <tr>\n",
       "      <th>3</th>\n",
       "      <td>2020-07-15</td>\n",
       "      <td>272412481300040</td>\n",
       "      <td>1</td>\n",
       "      <td>95</td>\n",
       "      <td>805308002</td>\n",
       "      <td>0.013609</td>\n",
       "    </tr>\n",
       "    <tr>\n",
       "      <th>4</th>\n",
       "      <td>2020-07-15</td>\n",
       "      <td>272412481300040</td>\n",
       "      <td>1</td>\n",
       "      <td>95</td>\n",
       "      <td>866383006</td>\n",
       "      <td>0.024971</td>\n",
       "    </tr>\n",
       "    <tr>\n",
       "      <th>...</th>\n",
       "      <td>...</td>\n",
       "      <td>...</td>\n",
       "      <td>...</td>\n",
       "      <td>...</td>\n",
       "      <td>...</td>\n",
       "      <td>...</td>\n",
       "    </tr>\n",
       "    <tr>\n",
       "      <th>5272411</th>\n",
       "      <td>2020-09-15</td>\n",
       "      <td>18446630855572834764</td>\n",
       "      <td>2</td>\n",
       "      <td>104</td>\n",
       "      <td>918292001</td>\n",
       "      <td>0.041424</td>\n",
       "    </tr>\n",
       "    <tr>\n",
       "      <th>5272412</th>\n",
       "      <td>2020-09-15</td>\n",
       "      <td>18446630855572834764</td>\n",
       "      <td>2</td>\n",
       "      <td>104</td>\n",
       "      <td>762846027</td>\n",
       "      <td>0.025104</td>\n",
       "    </tr>\n",
       "    <tr>\n",
       "      <th>5272413</th>\n",
       "      <td>2020-09-15</td>\n",
       "      <td>18446630855572834764</td>\n",
       "      <td>2</td>\n",
       "      <td>104</td>\n",
       "      <td>809238005</td>\n",
       "      <td>0.041656</td>\n",
       "    </tr>\n",
       "    <tr>\n",
       "      <th>5272414</th>\n",
       "      <td>2020-09-15</td>\n",
       "      <td>18446630855572834764</td>\n",
       "      <td>2</td>\n",
       "      <td>104</td>\n",
       "      <td>673677002</td>\n",
       "      <td>0.024925</td>\n",
       "    </tr>\n",
       "    <tr>\n",
       "      <th>5272415</th>\n",
       "      <td>2020-09-15</td>\n",
       "      <td>18446630855572834764</td>\n",
       "      <td>2</td>\n",
       "      <td>104</td>\n",
       "      <td>923758001</td>\n",
       "      <td>0.033478</td>\n",
       "    </tr>\n",
       "  </tbody>\n",
       "</table>\n",
       "<p>13513128 rows × 6 columns</p>\n",
       "</div>"
      ],
      "text/plain": [
       "             t_dat           customer_id  sales_channel_id  week  article_id  \\\n",
       "0       2020-07-15       272412481300040                 1    95   806388001   \n",
       "1       2020-07-15       272412481300040                 1    95   730683021   \n",
       "2       2020-07-15       272412481300040                 1    95   610776002   \n",
       "3       2020-07-15       272412481300040                 1    95   805308002   \n",
       "4       2020-07-15       272412481300040                 1    95   866383006   \n",
       "...            ...                   ...               ...   ...         ...   \n",
       "5272411 2020-09-15  18446630855572834764                 2   104   918292001   \n",
       "5272412 2020-09-15  18446630855572834764                 2   104   762846027   \n",
       "5272413 2020-09-15  18446630855572834764                 2   104   809238005   \n",
       "5272414 2020-09-15  18446630855572834764                 2   104   673677002   \n",
       "5272415 2020-09-15  18446630855572834764                 2   104   923758001   \n",
       "\n",
       "            price  \n",
       "0        0.013301  \n",
       "1        0.025643  \n",
       "2        0.008303  \n",
       "3        0.013609  \n",
       "4        0.024971  \n",
       "...           ...  \n",
       "5272411  0.041424  \n",
       "5272412  0.025104  \n",
       "5272413  0.041656  \n",
       "5272414  0.024925  \n",
       "5272415  0.033478  \n",
       "\n",
       "[13513128 rows x 6 columns]"
      ]
     },
     "execution_count": 12,
     "metadata": {},
     "output_type": "execute_result"
    }
   ],
   "source": [
    "candidates_bestsellers"
   ]
  },
  {
   "cell_type": "code",
   "execution_count": 13,
   "id": "55247a86",
   "metadata": {
    "execution": {
     "iopub.execute_input": "2022-05-05T17:39:58.955279Z",
     "iopub.status.busy": "2022-05-05T17:39:58.954748Z",
     "iopub.status.idle": "2022-05-05T17:39:58.966118Z",
     "shell.execute_reply": "2022-05-05T17:39:58.965451Z"
    },
    "papermill": {
     "duration": 0.061919,
     "end_time": "2022-05-05T17:39:58.967927",
     "exception": false,
     "start_time": "2022-05-05T17:39:58.906008",
     "status": "completed"
    },
    "tags": []
   },
   "outputs": [
    {
     "data": {
      "text/html": [
       "<div>\n",
       "<style scoped>\n",
       "    .dataframe tbody tr th:only-of-type {\n",
       "        vertical-align: middle;\n",
       "    }\n",
       "\n",
       "    .dataframe tbody tr th {\n",
       "        vertical-align: top;\n",
       "    }\n",
       "\n",
       "    .dataframe thead th {\n",
       "        text-align: right;\n",
       "    }\n",
       "</style>\n",
       "<table border=\"1\" class=\"dataframe\">\n",
       "  <thead>\n",
       "    <tr style=\"text-align: right;\">\n",
       "      <th></th>\n",
       "      <th>week</th>\n",
       "      <th>article_id</th>\n",
       "      <th>bestseller_rank</th>\n",
       "      <th>price</th>\n",
       "    </tr>\n",
       "  </thead>\n",
       "  <tbody>\n",
       "    <tr>\n",
       "      <th>0</th>\n",
       "      <td>95</td>\n",
       "      <td>806388001</td>\n",
       "      <td>1</td>\n",
       "      <td>0.013301</td>\n",
       "    </tr>\n",
       "    <tr>\n",
       "      <th>1</th>\n",
       "      <td>95</td>\n",
       "      <td>730683021</td>\n",
       "      <td>2</td>\n",
       "      <td>0.025643</td>\n",
       "    </tr>\n",
       "    <tr>\n",
       "      <th>2</th>\n",
       "      <td>95</td>\n",
       "      <td>610776002</td>\n",
       "      <td>3</td>\n",
       "      <td>0.008303</td>\n",
       "    </tr>\n",
       "    <tr>\n",
       "      <th>3</th>\n",
       "      <td>95</td>\n",
       "      <td>805308002</td>\n",
       "      <td>4</td>\n",
       "      <td>0.013609</td>\n",
       "    </tr>\n",
       "    <tr>\n",
       "      <th>4</th>\n",
       "      <td>95</td>\n",
       "      <td>866383006</td>\n",
       "      <td>5</td>\n",
       "      <td>0.024971</td>\n",
       "    </tr>\n",
       "    <tr>\n",
       "      <th>...</th>\n",
       "      <td>...</td>\n",
       "      <td>...</td>\n",
       "      <td>...</td>\n",
       "      <td>...</td>\n",
       "    </tr>\n",
       "    <tr>\n",
       "      <th>115</th>\n",
       "      <td>104</td>\n",
       "      <td>918292001</td>\n",
       "      <td>8</td>\n",
       "      <td>0.041424</td>\n",
       "    </tr>\n",
       "    <tr>\n",
       "      <th>116</th>\n",
       "      <td>104</td>\n",
       "      <td>762846027</td>\n",
       "      <td>9</td>\n",
       "      <td>0.025104</td>\n",
       "    </tr>\n",
       "    <tr>\n",
       "      <th>117</th>\n",
       "      <td>104</td>\n",
       "      <td>809238005</td>\n",
       "      <td>10</td>\n",
       "      <td>0.041656</td>\n",
       "    </tr>\n",
       "    <tr>\n",
       "      <th>118</th>\n",
       "      <td>104</td>\n",
       "      <td>673677002</td>\n",
       "      <td>11</td>\n",
       "      <td>0.024925</td>\n",
       "    </tr>\n",
       "    <tr>\n",
       "      <th>119</th>\n",
       "      <td>104</td>\n",
       "      <td>923758001</td>\n",
       "      <td>12</td>\n",
       "      <td>0.033478</td>\n",
       "    </tr>\n",
       "  </tbody>\n",
       "</table>\n",
       "<p>120 rows × 4 columns</p>\n",
       "</div>"
      ],
      "text/plain": [
       "     week  article_id  bestseller_rank     price\n",
       "0      95   806388001                1  0.013301\n",
       "1      95   730683021                2  0.025643\n",
       "2      95   610776002                3  0.008303\n",
       "3      95   805308002                4  0.013609\n",
       "4      95   866383006                5  0.024971\n",
       "..    ...         ...              ...       ...\n",
       "115   104   918292001                8  0.041424\n",
       "116   104   762846027                9  0.025104\n",
       "117   104   809238005               10  0.041656\n",
       "118   104   673677002               11  0.024925\n",
       "119   104   923758001               12  0.033478\n",
       "\n",
       "[120 rows x 4 columns]"
      ]
     },
     "execution_count": 13,
     "metadata": {},
     "output_type": "execute_result"
    }
   ],
   "source": [
    "bestsellers_previous_week"
   ]
  },
  {
   "cell_type": "markdown",
   "id": "3f43569d",
   "metadata": {
    "papermill": {
     "duration": 0.046906,
     "end_time": "2022-05-05T17:39:59.062534",
     "exception": false,
     "start_time": "2022-05-05T17:39:59.015628",
     "status": "completed"
    },
    "tags": []
   },
   "source": [
    "## Generating Dynamic User Features"
   ]
  },
  {
   "cell_type": "code",
   "execution_count": 14,
   "id": "c4c33416",
   "metadata": {
    "execution": {
     "iopub.execute_input": "2022-05-05T17:39:59.161870Z",
     "iopub.status.busy": "2022-05-05T17:39:59.161443Z",
     "iopub.status.idle": "2022-05-05T17:39:59.189170Z",
     "shell.execute_reply": "2022-05-05T17:39:59.188566Z"
    },
    "papermill": {
     "duration": 0.081052,
     "end_time": "2022-05-05T17:39:59.191281",
     "exception": false,
     "start_time": "2022-05-05T17:39:59.110229",
     "status": "completed"
    },
    "tags": []
   },
   "outputs": [],
   "source": [
    "class UserFeatures(ABC):\n",
    "    @abstractmethod\n",
    "    def get(self) -> pd.DataFrame:\n",
    "        \"\"\"\n",
    "        customer_id -> features\n",
    "        \"\"\"\n",
    "        pass\n",
    "\n",
    "class AggrFeatures(UserFeatures):\n",
    "    \"\"\"\n",
    "    basic aggregation features(min, max, mean and etc...)\n",
    "    \"\"\"\n",
    "    def __init__(self, transactions_df):\n",
    "        self.groupby_df = transactions_df.groupby('customer_id', as_index = False)\n",
    "\n",
    "    def get(self):\n",
    "        output_df = (\n",
    "            self.groupby_df['price']\n",
    "            .agg({\n",
    "                'mean_transactions': 'mean',\n",
    "                'max_transactions': 'max',\n",
    "                'min_transactions': 'min',\n",
    "                'median_transactions': 'median',\n",
    "                'sum_transactions': 'sum',\n",
    "                'max_minus_min_transactions': lambda x: x.max()-x.min()\n",
    "            })\n",
    "            .set_index('customer_id')\n",
    "            .astype('float32')\n",
    "        )\n",
    "        return output_df\n",
    "\n",
    "class CountFeatures(UserFeatures):\n",
    "    \"\"\"\n",
    "    basic features connected with transactions\n",
    "    \"\"\"\n",
    "    def __init__(self, transactions_df, topk = 10):\n",
    "        self.transactions_df = transactions_df\n",
    "        self.topk = topk\n",
    "\n",
    "    def get(self):\n",
    "        grouped = self.transactions_df.groupby('customer_id', as_index = False)\n",
    "        #number of transactions, number of online articles,\n",
    "        #number of transactions bigger than mean price of transactions\n",
    "        a = (\n",
    "            grouped\n",
    "            .agg({\n",
    "                'article_id': 'count',\n",
    "                'price': lambda x: sum(np.array(x) > x.mean()),\n",
    "                'sales_channel_id': lambda x: sum(x == 2),\n",
    "            })\n",
    "            .rename(columns = {\n",
    "                'article_id': 'n_transactions',\n",
    "                'price': 'n_transactions_bigger_mean',\n",
    "                'sales_channel_id': 'n_online_articles'\n",
    "            })\n",
    "            .set_index('customer_id')\n",
    "            .astype('int8')\n",
    "        )\n",
    "        #number of unique articles, number of store articles\n",
    "        b = (\n",
    "            grouped\n",
    "            .agg({\n",
    "                'article_id': 'nunique',\n",
    "                'sales_channel_id': lambda x: sum(x == 1),\n",
    "            })\n",
    "            .rename(columns = {\n",
    "                'article_id': 'n_unique_articles',\n",
    "                'sales_channel_id': 'n_store_articles',\n",
    "            })\n",
    "            .set_index('customer_id')\n",
    "            .astype('int8')\n",
    "        )\n",
    "        #number of transactions that are in top\n",
    "        topk_articles = self.transactions_df['article_id'].value_counts()[:self.topk].index\n",
    "        c = (\n",
    "            grouped['article_id']\n",
    "            .agg({\n",
    "               f'top_article_{i}':  lambda x: sum(x == k) for i, k in enumerate(topk_articles)\n",
    "            }\n",
    "            )\n",
    "            .set_index('customer_id')\n",
    "            .astype('int8')\n",
    "        )\n",
    "        \n",
    "        output_df = a.merge(b, on = ('customer_id')).merge(c, on = ('customer_id'))\n",
    "        return output_df\n",
    "\n",
    "# class CustomerFeatures(UserFeatures):\n",
    "#     \"\"\"\n",
    "#     All columns from customers dataframe\n",
    "#     \"\"\"\n",
    "#     def __init__(self, customers_df):\n",
    "#         self.customers_df = self._prepare_customers(customers_df)\n",
    "    \n",
    "#     def _prepare_customers(self, customers_df):\n",
    "#         customers_df['FN'] = customers_df['FN'].fillna(0).astype('int8')\n",
    "#         customers_df['Active'] = customers_df['Active'].fillna(0).astype('int8')\n",
    "#         customers_df['club_member_status'] = customers_df['club_member_status'].fillna('UNKNOWN')\n",
    "#         customers_df['age'] = customers_df['age'].fillna(customers_df['age'].mean()).astype('int8')\n",
    "#         customers_df['fashion_news_frequency'] = (\n",
    "#             customers_df['fashion_news_frequency']\n",
    "#             .replace('None', 'NONE')\n",
    "#             .replace(np.nan, 'NONE')\n",
    "#         )\n",
    "#         return customers_df\n",
    "\n",
    "#     def get(self):\n",
    "#         output = (\n",
    "#             self.customers_df[filter(lambda x: x != 'postal_code', customers_df.columns)]\n",
    "#             .set_index('customer_id')\n",
    "#         )\n",
    "#         return output\n",
    "\n",
    "class ArticlesFeatures(UserFeatures):\n",
    "    \"\"\"\n",
    "    returns article features: whether category appears in top categories\n",
    "    \"\"\"\n",
    "    def __init__(self, transactions_df, articles, topk = 10):\n",
    "        self.merged_df = transactions_df.merge(articles, on = ('article_id'))\n",
    "        self.articles = articles\n",
    "        self.topk = topk\n",
    "    \n",
    "    def get(self):\n",
    "        output_df = None\n",
    "\n",
    "        for col in tqdm.tqdm(self.articles.columns, desc = 'extracting features'):\n",
    "            if 'name' in col:\n",
    "                if output_df is None:\n",
    "                    output_df = self.aggregate_topk(self.merged_df, col, self.topk)\n",
    "                else:\n",
    "                    intermediate_out = self.aggregate_topk(self.merged_df, col, self.topk)\n",
    "                    output_df = output_df.merge(intermediate_out, on = ('customer_id'))\n",
    "        return output_df\n",
    "\n",
    "    def return_value_counts(self, df, column_name, k):\n",
    "        value_counts = df[column_name].value_counts()[:k].index\n",
    "        value_counts = list(map(lambda x: x[1], value_counts))\n",
    "        return value_counts\n",
    "\n",
    "    def aggregate_topk(self, merged_df, column_name, k):\n",
    "        grouped_df_indx = merged_df.groupby('customer_id')\n",
    "        grouped_df = merged_df.groupby('customer_id', as_index = False)\n",
    "        \n",
    "        topk_values = self.return_value_counts(grouped_df_indx, column_name, k)\n",
    "        #how many transactions appears in top category(column)\n",
    "        n_top_k = (\n",
    "            grouped_df[column_name]\n",
    "            .agg({\n",
    "                f'top_{column_name}_{i}': lambda x: sum(x == k) for i, k in enumerate(topk_values)\n",
    "            })\n",
    "            .set_index('customer_id')\n",
    "            #.astype('int16')\n",
    "        )\n",
    "        return n_top_k\n",
    "\n",
    "class UserFeaturesCollector:\n",
    "    \"\"\"\n",
    "    collect all features and aggregate them\n",
    "    \"\"\"\n",
    "    @staticmethod\n",
    "    def collect(features: Union[List[UserFeatures], List[str]], **kwargs) -> pd.DataFrame:\n",
    "        output_df = None\n",
    "\n",
    "        for feature in tqdm.tqdm(features):\n",
    "            if isinstance(feature, UserFeatures):\n",
    "                feature_out = feature.get(**kwargs)\n",
    "            if isinstance(feature, str):\n",
    "                try:\n",
    "                    feature_out = pd.read_csv(feature)\n",
    "                except:\n",
    "                    feature_out = pd.read_parquet(feature)\n",
    "\n",
    "            if output_df is None:\n",
    "                output_df = feature_out\n",
    "            else:\n",
    "                output_df = output_df.merge(feature_out, on = ('customer_id'))\n",
    "        return output_df"
   ]
  },
  {
   "cell_type": "code",
   "execution_count": 15,
   "id": "95005726",
   "metadata": {
    "execution": {
     "iopub.execute_input": "2022-05-05T17:39:59.288261Z",
     "iopub.status.busy": "2022-05-05T17:39:59.287815Z",
     "iopub.status.idle": "2022-05-05T18:11:03.332648Z",
     "shell.execute_reply": "2022-05-05T18:11:03.331686Z"
    },
    "papermill": {
     "duration": 1864.096317,
     "end_time": "2022-05-05T18:11:03.335176",
     "exception": false,
     "start_time": "2022-05-05T17:39:59.238859",
     "status": "completed"
    },
    "tags": []
   },
   "outputs": [
    {
     "name": "stderr",
     "output_type": "stream",
     "text": [
      " 67%|██████▋   | 2/3 [05:10<02:54, 174.22s/it]\n",
      "extracting features:   0%|          | 0/25 [00:00<?, ?it/s]\u001b[A\n",
      "extracting features:  12%|█▏        | 3/25 [02:07<15:35, 42.52s/it]\u001b[A\n",
      "extracting features:  20%|██        | 5/25 [04:16<17:43, 53.16s/it]\u001b[A\n",
      "extracting features:  24%|██▍       | 6/25 [06:26<23:09, 73.15s/it]\u001b[A\n",
      "extracting features:  32%|███▏      | 8/25 [08:38<19:51, 70.11s/it]\u001b[A\n",
      "extracting features:  40%|████      | 10/25 [10:48<17:02, 68.18s/it]\u001b[A\n",
      "extracting features:  48%|████▊     | 12/25 [12:57<14:30, 66.93s/it]\u001b[A\n",
      "extracting features:  56%|█████▌    | 14/25 [15:06<12:07, 66.12s/it]\u001b[A\n",
      "extracting features:  64%|██████▍   | 16/25 [17:15<09:49, 65.54s/it]\u001b[A\n",
      "extracting features:  72%|███████▏  | 18/25 [19:24<07:36, 65.18s/it]\u001b[A\n",
      "extracting features:  80%|████████  | 20/25 [21:33<05:24, 64.96s/it]\u001b[A\n",
      "extracting features:  88%|████████▊ | 22/25 [23:41<03:14, 64.71s/it]\u001b[A\n",
      "extracting features: 100%|██████████| 25/25 [25:51<00:00, 62.04s/it]\n",
      "100%|██████████| 3/3 [31:02<00:00, 620.69s/it]\n"
     ]
    }
   ],
   "source": [
    "customer_features = UserFeaturesCollector.collect([\n",
    "    AggrFeatures(transactions),\n",
    "    CountFeatures(transactions, 3),\n",
    "    # CustomerFeatures(customers),\n",
    "    ArticlesFeatures(transactions, articles, 3),\n",
    "])"
   ]
  },
  {
   "cell_type": "markdown",
   "id": "5447e232",
   "metadata": {
    "papermill": {
     "duration": 0.064265,
     "end_time": "2022-05-05T18:11:03.465627",
     "exception": false,
     "start_time": "2022-05-05T18:11:03.401362",
     "status": "completed"
    },
    "tags": []
   },
   "source": [
    "## Combining transactions and candidates / negative examples"
   ]
  },
  {
   "cell_type": "code",
   "execution_count": 16,
   "id": "47da7482",
   "metadata": {
    "execution": {
     "iopub.execute_input": "2022-05-05T18:11:03.598153Z",
     "iopub.status.busy": "2022-05-05T18:11:03.597845Z",
     "iopub.status.idle": "2022-05-05T18:11:03.605412Z",
     "shell.execute_reply": "2022-05-05T18:11:03.604444Z"
    },
    "papermill": {
     "duration": 0.077187,
     "end_time": "2022-05-05T18:11:03.608001",
     "exception": false,
     "start_time": "2022-05-05T18:11:03.530814",
     "status": "completed"
    },
    "tags": []
   },
   "outputs": [],
   "source": [
    "transactions['purchased'] = 1"
   ]
  },
  {
   "cell_type": "code",
   "execution_count": 17,
   "id": "2381579e",
   "metadata": {
    "execution": {
     "iopub.execute_input": "2022-05-05T18:11:03.741538Z",
     "iopub.status.busy": "2022-05-05T18:11:03.741002Z",
     "iopub.status.idle": "2022-05-05T18:11:04.171295Z",
     "shell.execute_reply": "2022-05-05T18:11:04.170639Z"
    },
    "papermill": {
     "duration": 0.500916,
     "end_time": "2022-05-05T18:11:04.173495",
     "exception": false,
     "start_time": "2022-05-05T18:11:03.672579",
     "status": "completed"
    },
    "tags": []
   },
   "outputs": [],
   "source": [
    "data = pd.concat([transactions, candidates_last_purchase, candidates_bestsellers])\n",
    "data.purchased.fillna(0, inplace=True)"
   ]
  },
  {
   "cell_type": "code",
   "execution_count": 18,
   "id": "af8000b6",
   "metadata": {
    "execution": {
     "iopub.execute_input": "2022-05-05T18:11:04.412781Z",
     "iopub.status.busy": "2022-05-05T18:11:04.411344Z",
     "iopub.status.idle": "2022-05-05T18:11:04.466547Z",
     "shell.execute_reply": "2022-05-05T18:11:04.464310Z"
    },
    "papermill": {
     "duration": 0.235502,
     "end_time": "2022-05-05T18:11:04.474439",
     "exception": false,
     "start_time": "2022-05-05T18:11:04.238937",
     "status": "completed"
    },
    "tags": []
   },
   "outputs": [
    {
     "data": {
      "text/html": [
       "<div>\n",
       "<style scoped>\n",
       "    .dataframe tbody tr th:only-of-type {\n",
       "        vertical-align: middle;\n",
       "    }\n",
       "\n",
       "    .dataframe tbody tr th {\n",
       "        vertical-align: top;\n",
       "    }\n",
       "\n",
       "    .dataframe thead th {\n",
       "        text-align: right;\n",
       "    }\n",
       "</style>\n",
       "<table border=\"1\" class=\"dataframe\">\n",
       "  <thead>\n",
       "    <tr style=\"text-align: right;\">\n",
       "      <th></th>\n",
       "      <th>t_dat</th>\n",
       "      <th>customer_id</th>\n",
       "      <th>article_id</th>\n",
       "      <th>price</th>\n",
       "      <th>sales_channel_id</th>\n",
       "      <th>week</th>\n",
       "      <th>purchased</th>\n",
       "    </tr>\n",
       "  </thead>\n",
       "  <tbody>\n",
       "    <tr>\n",
       "      <th>28777300</th>\n",
       "      <td>2020-07-08</td>\n",
       "      <td>857913002275398</td>\n",
       "      <td>599580068</td>\n",
       "      <td>0.008458</td>\n",
       "      <td>1</td>\n",
       "      <td>94</td>\n",
       "      <td>1.0</td>\n",
       "    </tr>\n",
       "    <tr>\n",
       "      <th>28777301</th>\n",
       "      <td>2020-07-08</td>\n",
       "      <td>857913002275398</td>\n",
       "      <td>776237011</td>\n",
       "      <td>0.025407</td>\n",
       "      <td>1</td>\n",
       "      <td>94</td>\n",
       "      <td>1.0</td>\n",
       "    </tr>\n",
       "    <tr>\n",
       "      <th>28777302</th>\n",
       "      <td>2020-07-08</td>\n",
       "      <td>857913002275398</td>\n",
       "      <td>844294001</td>\n",
       "      <td>0.011847</td>\n",
       "      <td>1</td>\n",
       "      <td>94</td>\n",
       "      <td>1.0</td>\n",
       "    </tr>\n",
       "    <tr>\n",
       "      <th>28787123</th>\n",
       "      <td>2020-07-08</td>\n",
       "      <td>1658289241058394</td>\n",
       "      <td>877773001</td>\n",
       "      <td>0.007610</td>\n",
       "      <td>1</td>\n",
       "      <td>94</td>\n",
       "      <td>1.0</td>\n",
       "    </tr>\n",
       "    <tr>\n",
       "      <th>28788562</th>\n",
       "      <td>2020-07-08</td>\n",
       "      <td>3828854365940846</td>\n",
       "      <td>507883009</td>\n",
       "      <td>0.013542</td>\n",
       "      <td>1</td>\n",
       "      <td>94</td>\n",
       "      <td>1.0</td>\n",
       "    </tr>\n",
       "    <tr>\n",
       "      <th>...</th>\n",
       "      <td>...</td>\n",
       "      <td>...</td>\n",
       "      <td>...</td>\n",
       "      <td>...</td>\n",
       "      <td>...</td>\n",
       "      <td>...</td>\n",
       "      <td>...</td>\n",
       "    </tr>\n",
       "    <tr>\n",
       "      <th>5272411</th>\n",
       "      <td>2020-09-15</td>\n",
       "      <td>18446630855572834764</td>\n",
       "      <td>918292001</td>\n",
       "      <td>0.041424</td>\n",
       "      <td>2</td>\n",
       "      <td>104</td>\n",
       "      <td>0.0</td>\n",
       "    </tr>\n",
       "    <tr>\n",
       "      <th>5272412</th>\n",
       "      <td>2020-09-15</td>\n",
       "      <td>18446630855572834764</td>\n",
       "      <td>762846027</td>\n",
       "      <td>0.025104</td>\n",
       "      <td>2</td>\n",
       "      <td>104</td>\n",
       "      <td>0.0</td>\n",
       "    </tr>\n",
       "    <tr>\n",
       "      <th>5272413</th>\n",
       "      <td>2020-09-15</td>\n",
       "      <td>18446630855572834764</td>\n",
       "      <td>809238005</td>\n",
       "      <td>0.041656</td>\n",
       "      <td>2</td>\n",
       "      <td>104</td>\n",
       "      <td>0.0</td>\n",
       "    </tr>\n",
       "    <tr>\n",
       "      <th>5272414</th>\n",
       "      <td>2020-09-15</td>\n",
       "      <td>18446630855572834764</td>\n",
       "      <td>673677002</td>\n",
       "      <td>0.024925</td>\n",
       "      <td>2</td>\n",
       "      <td>104</td>\n",
       "      <td>0.0</td>\n",
       "    </tr>\n",
       "    <tr>\n",
       "      <th>5272415</th>\n",
       "      <td>2020-09-15</td>\n",
       "      <td>18446630855572834764</td>\n",
       "      <td>923758001</td>\n",
       "      <td>0.033478</td>\n",
       "      <td>2</td>\n",
       "      <td>104</td>\n",
       "      <td>0.0</td>\n",
       "    </tr>\n",
       "  </tbody>\n",
       "</table>\n",
       "<p>19131594 rows × 7 columns</p>\n",
       "</div>"
      ],
      "text/plain": [
       "              t_dat           customer_id  article_id     price  \\\n",
       "28777300 2020-07-08       857913002275398   599580068  0.008458   \n",
       "28777301 2020-07-08       857913002275398   776237011  0.025407   \n",
       "28777302 2020-07-08       857913002275398   844294001  0.011847   \n",
       "28787123 2020-07-08      1658289241058394   877773001  0.007610   \n",
       "28788562 2020-07-08      3828854365940846   507883009  0.013542   \n",
       "...             ...                   ...         ...       ...   \n",
       "5272411  2020-09-15  18446630855572834764   918292001  0.041424   \n",
       "5272412  2020-09-15  18446630855572834764   762846027  0.025104   \n",
       "5272413  2020-09-15  18446630855572834764   809238005  0.041656   \n",
       "5272414  2020-09-15  18446630855572834764   673677002  0.024925   \n",
       "5272415  2020-09-15  18446630855572834764   923758001  0.033478   \n",
       "\n",
       "          sales_channel_id  week  purchased  \n",
       "28777300                 1    94        1.0  \n",
       "28777301                 1    94        1.0  \n",
       "28777302                 1    94        1.0  \n",
       "28787123                 1    94        1.0  \n",
       "28788562                 1    94        1.0  \n",
       "...                    ...   ...        ...  \n",
       "5272411                  2   104        0.0  \n",
       "5272412                  2   104        0.0  \n",
       "5272413                  2   104        0.0  \n",
       "5272414                  2   104        0.0  \n",
       "5272415                  2   104        0.0  \n",
       "\n",
       "[19131594 rows x 7 columns]"
      ]
     },
     "execution_count": 18,
     "metadata": {},
     "output_type": "execute_result"
    }
   ],
   "source": [
    "data"
   ]
  },
  {
   "cell_type": "code",
   "execution_count": 19,
   "id": "2cb696f1",
   "metadata": {
    "execution": {
     "iopub.execute_input": "2022-05-05T18:11:04.999978Z",
     "iopub.status.busy": "2022-05-05T18:11:04.997979Z",
     "iopub.status.idle": "2022-05-05T18:11:14.260924Z",
     "shell.execute_reply": "2022-05-05T18:11:14.257902Z"
    },
    "papermill": {
     "duration": 9.52322,
     "end_time": "2022-05-05T18:11:14.270777",
     "exception": false,
     "start_time": "2022-05-05T18:11:04.747557",
     "status": "completed"
    },
    "tags": []
   },
   "outputs": [],
   "source": [
    "data.drop_duplicates(['customer_id', 'article_id', 'week'], inplace=True)"
   ]
  },
  {
   "cell_type": "code",
   "execution_count": 20,
   "id": "682a92dd",
   "metadata": {
    "execution": {
     "iopub.execute_input": "2022-05-05T18:11:14.425816Z",
     "iopub.status.busy": "2022-05-05T18:11:14.425117Z",
     "iopub.status.idle": "2022-05-05T18:11:14.432391Z",
     "shell.execute_reply": "2022-05-05T18:11:14.431552Z"
    },
    "papermill": {
     "duration": 0.078351,
     "end_time": "2022-05-05T18:11:14.434473",
     "exception": false,
     "start_time": "2022-05-05T18:11:14.356122",
     "status": "completed"
    },
    "tags": []
   },
   "outputs": [
    {
     "data": {
      "text/plain": [
       "(18475436, 7)"
      ]
     },
     "execution_count": 20,
     "metadata": {},
     "output_type": "execute_result"
    }
   ],
   "source": [
    "data.shape"
   ]
  },
  {
   "cell_type": "code",
   "execution_count": 21,
   "id": "0cca4e8f",
   "metadata": {
    "execution": {
     "iopub.execute_input": "2022-05-05T18:11:14.571302Z",
     "iopub.status.busy": "2022-05-05T18:11:14.570762Z",
     "iopub.status.idle": "2022-05-05T18:11:14.656010Z",
     "shell.execute_reply": "2022-05-05T18:11:14.655283Z"
    },
    "papermill": {
     "duration": 0.155946,
     "end_time": "2022-05-05T18:11:14.658045",
     "exception": false,
     "start_time": "2022-05-05T18:11:14.502099",
     "status": "completed"
    },
    "tags": []
   },
   "outputs": [
    {
     "data": {
      "text/plain": [
       "0.1369278646522875"
      ]
     },
     "execution_count": 21,
     "metadata": {},
     "output_type": "execute_result"
    }
   ],
   "source": [
    "data.purchased.mean()"
   ]
  },
  {
   "cell_type": "markdown",
   "id": "a2905508",
   "metadata": {
    "papermill": {
     "duration": 0.073264,
     "end_time": "2022-05-05T18:11:14.800656",
     "exception": false,
     "start_time": "2022-05-05T18:11:14.727392",
     "status": "completed"
    },
    "tags": []
   },
   "source": [
    "### Add bestseller information"
   ]
  },
  {
   "cell_type": "code",
   "execution_count": 22,
   "id": "f3babcc7",
   "metadata": {
    "execution": {
     "iopub.execute_input": "2022-05-05T18:11:14.937230Z",
     "iopub.status.busy": "2022-05-05T18:11:14.936931Z",
     "iopub.status.idle": "2022-05-05T18:11:20.823199Z",
     "shell.execute_reply": "2022-05-05T18:11:20.822210Z"
    },
    "papermill": {
     "duration": 5.958114,
     "end_time": "2022-05-05T18:11:20.825824",
     "exception": false,
     "start_time": "2022-05-05T18:11:14.867710",
     "status": "completed"
    },
    "tags": []
   },
   "outputs": [],
   "source": [
    "data = pd.merge(\n",
    "    data,\n",
    "    bestsellers_previous_week[['week', 'article_id', 'bestseller_rank']],\n",
    "    on=['week', 'article_id'],\n",
    "    how='left'\n",
    ")"
   ]
  },
  {
   "cell_type": "code",
   "execution_count": 23,
   "id": "e05eaa3a",
   "metadata": {
    "execution": {
     "iopub.execute_input": "2022-05-05T18:11:20.963442Z",
     "iopub.status.busy": "2022-05-05T18:11:20.963170Z",
     "iopub.status.idle": "2022-05-05T18:11:22.759611Z",
     "shell.execute_reply": "2022-05-05T18:11:22.758708Z"
    },
    "papermill": {
     "duration": 1.86754,
     "end_time": "2022-05-05T18:11:22.762085",
     "exception": false,
     "start_time": "2022-05-05T18:11:20.894545",
     "status": "completed"
    },
    "tags": []
   },
   "outputs": [],
   "source": [
    "data = data[data.week != data.week.min()]\n",
    "data.bestseller_rank.fillna(999, inplace=True)"
   ]
  },
  {
   "cell_type": "code",
   "execution_count": 24,
   "id": "bc022c49",
   "metadata": {
    "execution": {
     "iopub.execute_input": "2022-05-05T18:11:22.907838Z",
     "iopub.status.busy": "2022-05-05T18:11:22.907549Z",
     "iopub.status.idle": "2022-05-05T18:11:43.837199Z",
     "shell.execute_reply": "2022-05-05T18:11:43.836366Z"
    },
    "papermill": {
     "duration": 21.00087,
     "end_time": "2022-05-05T18:11:43.839852",
     "exception": false,
     "start_time": "2022-05-05T18:11:22.838982",
     "status": "completed"
    },
    "tags": []
   },
   "outputs": [],
   "source": [
    "data = pd.merge(data, articles, on='article_id', how='left')\n",
    "data = pd.merge(data, customers, on='customer_id', how='left')"
   ]
  },
  {
   "cell_type": "code",
   "execution_count": 25,
   "id": "5a88f13a",
   "metadata": {
    "execution": {
     "iopub.execute_input": "2022-05-05T18:11:43.976127Z",
     "iopub.status.busy": "2022-05-05T18:11:43.975847Z",
     "iopub.status.idle": "2022-05-05T18:11:50.029539Z",
     "shell.execute_reply": "2022-05-05T18:11:50.028571Z"
    },
    "papermill": {
     "duration": 6.123576,
     "end_time": "2022-05-05T18:11:50.031940",
     "exception": false,
     "start_time": "2022-05-05T18:11:43.908364",
     "status": "completed"
    },
    "tags": []
   },
   "outputs": [],
   "source": [
    "data.sort_values(['week', 'customer_id'], inplace=True)\n",
    "data.reset_index(drop=True, inplace=True)"
   ]
  },
  {
   "cell_type": "code",
   "execution_count": 26,
   "id": "9524b1f8",
   "metadata": {
    "execution": {
     "iopub.execute_input": "2022-05-05T18:11:50.168076Z",
     "iopub.status.busy": "2022-05-05T18:11:50.167289Z",
     "iopub.status.idle": "2022-05-05T18:11:56.672274Z",
     "shell.execute_reply": "2022-05-05T18:11:56.671541Z"
    },
    "papermill": {
     "duration": 6.575493,
     "end_time": "2022-05-05T18:11:56.674638",
     "exception": false,
     "start_time": "2022-05-05T18:11:50.099145",
     "status": "completed"
    },
    "tags": []
   },
   "outputs": [],
   "source": [
    "train = data[data.week != test_week]\n",
    "test = data[data.week==test_week].drop_duplicates(['customer_id', 'article_id', 'sales_channel_id']).copy()"
   ]
  },
  {
   "cell_type": "code",
   "execution_count": 27,
   "id": "5724a8bb",
   "metadata": {
    "execution": {
     "iopub.execute_input": "2022-05-05T18:11:56.811290Z",
     "iopub.status.busy": "2022-05-05T18:11:56.810995Z",
     "iopub.status.idle": "2022-05-05T18:11:57.744436Z",
     "shell.execute_reply": "2022-05-05T18:11:57.743410Z"
    },
    "papermill": {
     "duration": 1.005137,
     "end_time": "2022-05-05T18:11:57.746947",
     "exception": false,
     "start_time": "2022-05-05T18:11:56.741810",
     "status": "completed"
    },
    "tags": []
   },
   "outputs": [],
   "source": [
    "train_baskets = train.groupby(['week', 'customer_id'])['article_id'].count().values"
   ]
  },
  {
   "cell_type": "code",
   "execution_count": 28,
   "id": "ac442cec",
   "metadata": {
    "execution": {
     "iopub.execute_input": "2022-05-05T18:11:57.883570Z",
     "iopub.status.busy": "2022-05-05T18:11:57.883245Z",
     "iopub.status.idle": "2022-05-05T18:11:57.887771Z",
     "shell.execute_reply": "2022-05-05T18:11:57.887128Z"
    },
    "papermill": {
     "duration": 0.075476,
     "end_time": "2022-05-05T18:11:57.889420",
     "exception": false,
     "start_time": "2022-05-05T18:11:57.813944",
     "status": "completed"
    },
    "tags": []
   },
   "outputs": [],
   "source": [
    "columns_to_use = ['article_id', 'product_type_no', 'graphical_appearance_no', 'colour_group_code', 'perceived_colour_value_id',\n",
    "'perceived_colour_master_id', 'department_no', 'index_code',\n",
    "'index_group_no', 'section_no', 'garment_group_no', 'FN', 'Active',\n",
    "'club_member_status', 'fashion_news_frequency', 'age', 'postal_code', 'bestseller_rank']"
   ]
  },
  {
   "cell_type": "code",
   "execution_count": 29,
   "id": "35b38398",
   "metadata": {
    "execution": {
     "iopub.execute_input": "2022-05-05T18:11:58.024641Z",
     "iopub.status.busy": "2022-05-05T18:11:58.023806Z",
     "iopub.status.idle": "2022-05-05T18:11:58.591416Z",
     "shell.execute_reply": "2022-05-05T18:11:58.590553Z"
    },
    "papermill": {
     "duration": 0.638104,
     "end_time": "2022-05-05T18:11:58.594300",
     "exception": false,
     "start_time": "2022-05-05T18:11:57.956196",
     "status": "completed"
    },
    "tags": []
   },
   "outputs": [
    {
     "name": "stdout",
     "output_type": "stream",
     "text": [
      "CPU times: user 328 ms, sys: 239 ms, total: 567 ms\n",
      "Wall time: 561 ms\n"
     ]
    }
   ],
   "source": [
    "%%time\n",
    "\n",
    "train_X = train[columns_to_use]\n",
    "train_y = train['purchased']\n",
    "\n",
    "test_X = test[columns_to_use]"
   ]
  },
  {
   "cell_type": "markdown",
   "id": "8e8a935a",
   "metadata": {
    "papermill": {
     "duration": 0.068549,
     "end_time": "2022-05-05T18:11:58.729811",
     "exception": false,
     "start_time": "2022-05-05T18:11:58.661262",
     "status": "completed"
    },
    "tags": []
   },
   "source": [
    "# Model training"
   ]
  },
  {
   "cell_type": "code",
   "execution_count": 30,
   "id": "57b0ec1f",
   "metadata": {
    "execution": {
     "iopub.execute_input": "2022-05-05T18:11:58.865744Z",
     "iopub.status.busy": "2022-05-05T18:11:58.864854Z",
     "iopub.status.idle": "2022-05-05T18:12:00.112937Z",
     "shell.execute_reply": "2022-05-05T18:12:00.111984Z"
    },
    "papermill": {
     "duration": 1.317643,
     "end_time": "2022-05-05T18:12:00.115325",
     "exception": false,
     "start_time": "2022-05-05T18:11:58.797682",
     "status": "completed"
    },
    "tags": []
   },
   "outputs": [
    {
     "data": {
      "text/html": [
       "<style type='text/css'>\n",
       ".datatable table.frame { margin-bottom: 0; }\n",
       ".datatable table.frame thead { border-bottom: none; }\n",
       ".datatable table.frame tr.coltypes td {  color: #FFFFFF;  line-height: 6px;  padding: 0 0.5em;}\n",
       ".datatable .bool    { background: #DDDD99; }\n",
       ".datatable .object  { background: #565656; }\n",
       ".datatable .int     { background: #5D9E5D; }\n",
       ".datatable .float   { background: #4040CC; }\n",
       ".datatable .str     { background: #CC4040; }\n",
       ".datatable .time    { background: #40CC40; }\n",
       ".datatable .row_index {  background: var(--jp-border-color3);  border-right: 1px solid var(--jp-border-color0);  color: var(--jp-ui-font-color3);  font-size: 9px;}\n",
       ".datatable .frame tbody td { text-align: left; }\n",
       ".datatable .frame tr.coltypes .row_index {  background: var(--jp-border-color0);}\n",
       ".datatable th:nth-child(2) { padding-left: 12px; }\n",
       ".datatable .hellipsis {  color: var(--jp-cell-editor-border-color);}\n",
       ".datatable .vellipsis {  background: var(--jp-layout-color0);  color: var(--jp-cell-editor-border-color);}\n",
       ".datatable .na {  color: var(--jp-cell-editor-border-color);  font-size: 80%;}\n",
       ".datatable .sp {  opacity: 0.25;}\n",
       ".datatable .footer { font-size: 9px; }\n",
       ".datatable .frame_dimensions {  background: var(--jp-border-color3);  border-top: 1px solid var(--jp-border-color0);  color: var(--jp-ui-font-color3);  display: inline-block;  opacity: 0.6;  padding: 1px 10px 1px 5px;}\n",
       "</style>\n"
      ],
      "text/plain": [
       "<IPython.core.display.HTML object>"
      ]
     },
     "metadata": {},
     "output_type": "display_data"
    }
   ],
   "source": [
    "from lightgbm.sklearn import LGBMRanker"
   ]
  },
  {
   "cell_type": "code",
   "execution_count": 31,
   "id": "07ca66cb",
   "metadata": {
    "execution": {
     "iopub.execute_input": "2022-05-05T18:12:00.256576Z",
     "iopub.status.busy": "2022-05-05T18:12:00.255733Z",
     "iopub.status.idle": "2022-05-05T18:12:00.263035Z",
     "shell.execute_reply": "2022-05-05T18:12:00.262012Z"
    },
    "papermill": {
     "duration": 0.080197,
     "end_time": "2022-05-05T18:12:00.265039",
     "exception": false,
     "start_time": "2022-05-05T18:12:00.184842",
     "status": "completed"
    },
    "tags": []
   },
   "outputs": [],
   "source": [
    "optimized_params = {'objective': \"lambdarank\",\n",
    "                    'metric': \"ndcg\",\n",
    "                    'num_threads': 4,\n",
    "                    'boosting_type': \"dart\",\n",
    "                    'importance_type': \"gain\",\n",
    "                    'verbose': -1,\n",
    "                    'n_estimators': 100, \n",
    "                    'learning_rate': 0.26762621693602034, \n",
    "                    'num_leaves': 90, \n",
    "                    'max_depth': 9, \n",
    "                    'min_data_in_leaf': 10, \n",
    "                    'lambda_l1': 35, \n",
    "                    'lambda_l2': 10, \n",
    "                    'min_gain_to_split': 7.702426339836351, \n",
    "                    'bagging_fraction': 0.30000000000000004, \n",
    "                    'bagging_freq': 1, \n",
    "                    'feature_fraction': 0.7,\n",
    "                    'seed': 42}"
   ]
  },
  {
   "cell_type": "code",
   "execution_count": 32,
   "id": "1a04303c",
   "metadata": {
    "execution": {
     "iopub.execute_input": "2022-05-05T18:12:00.413632Z",
     "iopub.status.busy": "2022-05-05T18:12:00.412621Z",
     "iopub.status.idle": "2022-05-05T18:12:00.417431Z",
     "shell.execute_reply": "2022-05-05T18:12:00.416770Z"
    },
    "papermill": {
     "duration": 0.083021,
     "end_time": "2022-05-05T18:12:00.419659",
     "exception": false,
     "start_time": "2022-05-05T18:12:00.336638",
     "status": "completed"
    },
    "tags": []
   },
   "outputs": [],
   "source": [
    "# ranker = LGBMRanker(\n",
    "#     objective=\"lambdarank\",\n",
    "#     metric=\"ndcg\",\n",
    "#     boosting_type=\"dart\",\n",
    "#     n_estimators=1,\n",
    "#     importance_type='gain',\n",
    "#     verbose=10\n",
    "# )\n",
    "\n",
    "ranker = LGBMRanker(\n",
    "            random_state=42, \n",
    "            **optimized_params\n",
    "        )"
   ]
  },
  {
   "cell_type": "code",
   "execution_count": 33,
   "id": "3f29b008",
   "metadata": {
    "execution": {
     "iopub.execute_input": "2022-05-05T18:12:00.557921Z",
     "iopub.status.busy": "2022-05-05T18:12:00.557625Z",
     "iopub.status.idle": "2022-05-05T18:16:10.245045Z",
     "shell.execute_reply": "2022-05-05T18:16:10.244343Z"
    },
    "papermill": {
     "duration": 249.828444,
     "end_time": "2022-05-05T18:16:10.317077",
     "exception": false,
     "start_time": "2022-05-05T18:12:00.488633",
     "status": "completed"
    },
    "tags": []
   },
   "outputs": [
    {
     "name": "stdout",
     "output_type": "stream",
     "text": [
      "[LightGBM] [Warning] feature_fraction is set=0.7, colsample_bytree=1.0 will be ignored. Current value: feature_fraction=0.7\n",
      "[LightGBM] [Warning] lambda_l1 is set=35, reg_alpha=0.0 will be ignored. Current value: lambda_l1=35\n",
      "[LightGBM] [Warning] num_threads is set=4, n_jobs=-1 will be ignored. Current value: num_threads=4\n",
      "[LightGBM] [Warning] bagging_fraction is set=0.30000000000000004, subsample=1.0 will be ignored. Current value: bagging_fraction=0.30000000000000004\n",
      "[LightGBM] [Warning] seed is set=42, random_state=42 will be ignored. Current value: seed=42\n",
      "[LightGBM] [Warning] min_data_in_leaf is set=10, min_child_samples=20 will be ignored. Current value: min_data_in_leaf=10\n",
      "[LightGBM] [Warning] bagging_freq is set=1, subsample_freq=0 will be ignored. Current value: bagging_freq=1\n",
      "[LightGBM] [Warning] min_gain_to_split is set=7.702426339836351, min_split_gain=0.0 will be ignored. Current value: min_gain_to_split=7.702426339836351\n",
      "[LightGBM] [Warning] lambda_l2 is set=10, reg_lambda=0.0 will be ignored. Current value: lambda_l2=10\n",
      "CPU times: user 15min 58s, sys: 3.39 s, total: 16min 1s\n",
      "Wall time: 4min 9s\n"
     ]
    }
   ],
   "source": [
    "%%time\n",
    "\n",
    "ranker = ranker.fit(\n",
    "    train_X,\n",
    "    train_y,\n",
    "    group=train_baskets,\n",
    ")"
   ]
  },
  {
   "cell_type": "code",
   "execution_count": 34,
   "id": "fee5126d",
   "metadata": {
    "execution": {
     "iopub.execute_input": "2022-05-05T18:16:10.454751Z",
     "iopub.status.busy": "2022-05-05T18:16:10.454432Z",
     "iopub.status.idle": "2022-05-05T18:16:10.466912Z",
     "shell.execute_reply": "2022-05-05T18:16:10.465827Z"
    },
    "papermill": {
     "duration": 0.083721,
     "end_time": "2022-05-05T18:16:10.469319",
     "exception": false,
     "start_time": "2022-05-05T18:16:10.385598",
     "status": "completed"
    },
    "tags": []
   },
   "outputs": [
    {
     "name": "stdout",
     "output_type": "stream",
     "text": [
      "bestseller_rank 0.907099131677047\n",
      "article_id 0.036272789899231606\n",
      "product_type_no 0.01723738924354976\n",
      "department_no 0.011527003617157696\n",
      "garment_group_no 0.008661112879279242\n",
      "colour_group_code 0.0055453306130126894\n",
      "section_no 0.004047105246273704\n",
      "graphical_appearance_no 0.0034418029810460195\n",
      "perceived_colour_value_id 0.0031542629063174067\n",
      "perceived_colour_master_id 0.0015964930383221025\n",
      "index_code 0.000971793350211611\n",
      "index_group_no 0.0004301697593233198\n",
      "age 1.5614789227798833e-05\n",
      "fashion_news_frequency 0.0\n",
      "club_member_status 0.0\n",
      "Active 0.0\n",
      "FN 0.0\n",
      "postal_code 0.0\n"
     ]
    }
   ],
   "source": [
    "for i in ranker.feature_importances_.argsort()[::-1]:\n",
    "    print(columns_to_use[i], ranker.feature_importances_[i]/ranker.feature_importances_.sum())"
   ]
  },
  {
   "cell_type": "markdown",
   "id": "18826cd6",
   "metadata": {
    "papermill": {
     "duration": 0.067686,
     "end_time": "2022-05-05T18:16:10.605750",
     "exception": false,
     "start_time": "2022-05-05T18:16:10.538064",
     "status": "completed"
    },
    "tags": []
   },
   "source": [
    "# Calculate predictions"
   ]
  },
  {
   "cell_type": "code",
   "execution_count": 35,
   "id": "8d03158b",
   "metadata": {
    "execution": {
     "iopub.execute_input": "2022-05-05T18:16:10.742885Z",
     "iopub.status.busy": "2022-05-05T18:16:10.742623Z",
     "iopub.status.idle": "2022-05-05T18:16:40.471350Z",
     "shell.execute_reply": "2022-05-05T18:16:40.470408Z"
    },
    "papermill": {
     "duration": 29.800118,
     "end_time": "2022-05-05T18:16:40.473829",
     "exception": false,
     "start_time": "2022-05-05T18:16:10.673711",
     "status": "completed"
    },
    "tags": []
   },
   "outputs": [
    {
     "name": "stdout",
     "output_type": "stream",
     "text": [
      "CPU times: user 3 µs, sys: 0 ns, total: 3 µs\n",
      "Wall time: 8.34 µs\n"
     ]
    }
   ],
   "source": [
    "%time\n",
    "\n",
    "test['preds'] = ranker.predict(test_X)\n",
    "\n",
    "c_id2predicted_article_ids = test \\\n",
    "    .sort_values(['customer_id', 'preds'], ascending=False) \\\n",
    "    .groupby('customer_id')['article_id'].apply(list).to_dict()\n",
    "\n",
    "bestsellers_last_week = \\\n",
    "    bestsellers_previous_week[bestsellers_previous_week.week == bestsellers_previous_week.week.max()]['article_id'].tolist()"
   ]
  },
  {
   "cell_type": "markdown",
   "id": "dd53523b",
   "metadata": {
    "papermill": {
     "duration": 0.069403,
     "end_time": "2022-05-05T18:16:40.614056",
     "exception": false,
     "start_time": "2022-05-05T18:16:40.544653",
     "status": "completed"
    },
    "tags": []
   },
   "source": [
    "# Evaluate predictions"
   ]
  },
  {
   "cell_type": "code",
   "execution_count": 36,
   "id": "0cd79316",
   "metadata": {
    "execution": {
     "iopub.execute_input": "2022-05-05T18:16:40.754008Z",
     "iopub.status.busy": "2022-05-05T18:16:40.753455Z",
     "iopub.status.idle": "2022-05-05T18:16:41.053909Z",
     "shell.execute_reply": "2022-05-05T18:16:41.053035Z"
    },
    "papermill": {
     "duration": 0.373716,
     "end_time": "2022-05-05T18:16:41.056439",
     "exception": false,
     "start_time": "2022-05-05T18:16:40.682723",
     "status": "completed"
    },
    "tags": []
   },
   "outputs": [
    {
     "data": {
      "text/plain": [
       "0.0237936920883126"
      ]
     },
     "execution_count": 36,
     "metadata": {},
     "output_type": "execute_result"
    }
   ],
   "source": [
    "apks = []\n",
    "\n",
    "for c_id, gt in val_week_purchases_by_cust.items():\n",
    "    pred = c_id2predicted_article_ids.get(c_id, [])\n",
    "    pred = pred + bestsellers_last_week\n",
    "    apks.append(apk(gt, pred[:12]))\n",
    "\n",
    "np.mean(apks)"
   ]
  }
 ],
 "metadata": {
  "kernelspec": {
   "display_name": "Python 3",
   "language": "python",
   "name": "python3"
  },
  "language_info": {
   "codemirror_mode": {
    "name": "ipython",
    "version": 3
   },
   "file_extension": ".py",
   "mimetype": "text/x-python",
   "name": "python",
   "nbconvert_exporter": "python",
   "pygments_lexer": "ipython3",
   "version": "3.7.12"
  },
  "papermill": {
   "default_parameters": {},
   "duration": 2267.603601,
   "end_time": "2022-05-05T18:16:42.353206",
   "environment_variables": {},
   "exception": null,
   "input_path": "__notebook__.ipynb",
   "output_path": "__notebook__.ipynb",
   "parameters": {},
   "start_time": "2022-05-05T17:38:54.749605",
   "version": "2.3.4"
  }
 },
 "nbformat": 4,
 "nbformat_minor": 5
}
