{
 "cells": [
  {
   "cell_type": "code",
   "execution_count": 1,
   "id": "3fb8a201",
   "metadata": {
    "_kg_hide-input": true,
    "_kg_hide-output": true,
    "execution": {
     "iopub.execute_input": "2022-04-28T21:13:38.563477Z",
     "iopub.status.busy": "2022-04-28T21:13:38.562886Z",
     "iopub.status.idle": "2022-04-28T21:13:38.580545Z",
     "shell.execute_reply": "2022-04-28T21:13:38.579835Z"
    },
    "papermill": {
     "duration": 0.080196,
     "end_time": "2022-04-28T21:13:38.582905",
     "exception": false,
     "start_time": "2022-04-28T21:13:38.502709",
     "status": "completed"
    },
    "tags": []
   },
   "outputs": [],
   "source": [
    "import numpy as np\n",
    "\n",
    "def apk(actual, predicted, k=10):\n",
    "    \"\"\"\n",
    "    Computes the average precision at k.\n",
    "\n",
    "    This function computes the average prescision at k between two lists of\n",
    "    items.\n",
    "\n",
    "    Parameters\n",
    "    ----------\n",
    "    actual : list\n",
    "             A list of elements that are to be predicted (order doesn't matter)\n",
    "    predicted : list\n",
    "                A list of predicted elements (order does matter)\n",
    "    k : int, optional\n",
    "        The maximum number of predicted elements\n",
    "\n",
    "    Returns\n",
    "    -------\n",
    "    score : double\n",
    "            The average precision at k over the input lists\n",
    "\n",
    "    \"\"\"\n",
    "    if len(predicted)>k:\n",
    "        predicted = predicted[:k]\n",
    "\n",
    "    score = 0.0\n",
    "    num_hits = 0.0\n",
    "\n",
    "    for i,p in enumerate(predicted):\n",
    "        if p in actual and p not in predicted[:i]:\n",
    "            num_hits += 1.0\n",
    "            score += num_hits / (i+1.0)\n",
    "\n",
    "    if not actual:\n",
    "        return 0.0\n",
    "\n",
    "    return score / min(len(actual), k)\n",
    "\n",
    "def mapk(actual, predicted, k=10):\n",
    "    \"\"\"\n",
    "    Computes the mean average precision at k.\n",
    "\n",
    "    This function computes the mean average prescision at k between two lists\n",
    "    of lists of items.\n",
    "\n",
    "    Parameters\n",
    "    ----------\n",
    "    actual : list\n",
    "             A list of lists of elements that are to be predicted \n",
    "             (order doesn't matter in the lists)\n",
    "    predicted : list\n",
    "                A list of lists of predicted elements\n",
    "                (order matters in the lists)\n",
    "    k : int, optional\n",
    "        The maximum number of predicted elements\n",
    "\n",
    "    Returns\n",
    "    -------\n",
    "    score : double\n",
    "            The mean average precision at k over the input lists\n",
    "\n",
    "    \"\"\"\n",
    "    return np.mean([apk(a,p,k) for a,p in zip(actual, predicted)])"
   ]
  },
  {
   "cell_type": "code",
   "execution_count": 2,
   "id": "bafacf6b",
   "metadata": {
    "_kg_hide-input": true,
    "_kg_hide-output": true,
    "execution": {
     "iopub.execute_input": "2022-04-28T21:13:38.700696Z",
     "iopub.status.busy": "2022-04-28T21:13:38.699870Z",
     "iopub.status.idle": "2022-04-28T21:13:39.854402Z",
     "shell.execute_reply": "2022-04-28T21:13:39.853311Z"
    },
    "papermill": {
     "duration": 1.216832,
     "end_time": "2022-04-28T21:13:39.857145",
     "exception": false,
     "start_time": "2022-04-28T21:13:38.640313",
     "status": "completed"
    },
    "tags": []
   },
   "outputs": [],
   "source": [
    "from sklearn.base import BaseEstimator, TransformerMixin\n",
    "import numpy as np\n",
    "\n",
    "def customer_hex_id_to_int(series):\n",
    "    return series.str[-16:].apply(hex_id_to_int)\n",
    "\n",
    "def hex_id_to_int(str):\n",
    "    return int(str[-16:], 16)\n",
    "\n",
    "def article_id_str_to_int(series):\n",
    "    return series.astype('int32')\n",
    "\n",
    "def article_id_int_to_str(series):\n",
    "    return '0' + series.astype('str')\n",
    "\n",
    "class Categorize(BaseEstimator, TransformerMixin):\n",
    "    def __init__(self, min_examples=0):\n",
    "        self.min_examples = min_examples\n",
    "        self.categories = []\n",
    "        \n",
    "    def fit(self, X):\n",
    "        for i in range(X.shape[1]):\n",
    "            vc = X.iloc[:, i].value_counts()\n",
    "            self.categories.append(vc[vc > self.min_examples].index.tolist())\n",
    "        return self\n",
    "\n",
    "    def transform(self, X):\n",
    "        data = {X.columns[i]: pd.Categorical(X.iloc[:, i], categories=self.categories[i]).codes for i in range(X.shape[1])}\n",
    "        return pd.DataFrame(data=data)\n",
    "\n",
    "\n",
    "def calculate_apk(list_of_preds, list_of_gts):\n",
    "    # for fast validation this can be changed to operate on dicts of {'cust_id_int': [art_id_int, ...]}\n",
    "    # using 'data/val_week_purchases_by_cust.pkl'\n",
    "    apks = []\n",
    "    for preds, gt in zip(list_of_preds, list_of_gts):\n",
    "        apks.append(apk(gt, preds, k=12))\n",
    "    return np.mean(apks)\n",
    "\n",
    "def eval_sub(sub_csv, skip_cust_with_no_purchases=True):\n",
    "    sub=pd.read_csv(sub_csv)\n",
    "    validation_set=pd.read_parquet('data/validation_ground_truth.parquet')\n",
    "\n",
    "    apks = []\n",
    "\n",
    "    no_purchases_pattern = []\n",
    "    for pred, gt in zip(sub.prediction.str.split(), validation_set.prediction.str.split()):\n",
    "        if skip_cust_with_no_purchases and (gt == no_purchases_pattern): continue\n",
    "        apks.append(apk(gt, pred, k=12))\n",
    "    return np.mean(apks)"
   ]
  },
  {
   "cell_type": "code",
   "execution_count": 3,
   "id": "8b409a39",
   "metadata": {
    "execution": {
     "iopub.execute_input": "2022-04-28T21:13:39.982241Z",
     "iopub.status.busy": "2022-04-28T21:13:39.981888Z",
     "iopub.status.idle": "2022-04-28T21:13:39.987114Z",
     "shell.execute_reply": "2022-04-28T21:13:39.985905Z"
    },
    "papermill": {
     "duration": 0.069537,
     "end_time": "2022-04-28T21:13:39.989363",
     "exception": false,
     "start_time": "2022-04-28T21:13:39.919826",
     "status": "completed"
    },
    "tags": []
   },
   "outputs": [],
   "source": [
    "import pandas as pd"
   ]
  },
  {
   "cell_type": "code",
   "execution_count": 4,
   "id": "d7ae5aa1",
   "metadata": {
    "execution": {
     "iopub.execute_input": "2022-04-28T21:13:40.116142Z",
     "iopub.status.busy": "2022-04-28T21:13:40.115818Z",
     "iopub.status.idle": "2022-04-28T21:13:46.859829Z",
     "shell.execute_reply": "2022-04-28T21:13:46.858887Z"
    },
    "papermill": {
     "duration": 6.811544,
     "end_time": "2022-04-28T21:13:46.862120",
     "exception": false,
     "start_time": "2022-04-28T21:13:40.050576",
     "status": "completed"
    },
    "tags": []
   },
   "outputs": [
    {
     "name": "stdout",
     "output_type": "stream",
     "text": [
      "CPU times: user 2.13 s, sys: 2.73 s, total: 4.85 s\n",
      "Wall time: 6.74 s\n"
     ]
    }
   ],
   "source": [
    "%%time\n",
    "\n",
    "transactions = pd.read_parquet('../input/hm-lgbm-supporting-data/transactions_train.parquet')\n",
    "customers = pd.read_parquet('../input/hm-lgbm-supporting-data/customers.parquet')\n",
    "articles = pd.read_parquet('../input/hm-lgbm-supporting-data/articles.parquet')"
   ]
  },
  {
   "cell_type": "code",
   "execution_count": 5,
   "id": "ead37b24",
   "metadata": {
    "execution": {
     "iopub.execute_input": "2022-04-28T21:13:46.982188Z",
     "iopub.status.busy": "2022-04-28T21:13:46.981231Z",
     "iopub.status.idle": "2022-04-28T21:13:48.801953Z",
     "shell.execute_reply": "2022-04-28T21:13:48.800868Z"
    },
    "papermill": {
     "duration": 1.882327,
     "end_time": "2022-04-28T21:13:48.804620",
     "exception": false,
     "start_time": "2022-04-28T21:13:46.922293",
     "status": "completed"
    },
    "tags": []
   },
   "outputs": [],
   "source": [
    "from collections import defaultdict\n",
    "\n",
    "val_week_purchases_by_cust = defaultdict(list)\n",
    "\n",
    "val_week_purchases_by_cust.update(\n",
    "    transactions[transactions.week == transactions.week.max()] \\\n",
    "        .groupby('customer_id')['article_id'] \\\n",
    "        .apply(list) \\\n",
    "        .to_dict()\n",
    ")\n",
    "\n",
    "pd.to_pickle(dict(val_week_purchases_by_cust), 'val_week_purchases_by_cust.pkl')"
   ]
  },
  {
   "cell_type": "code",
   "execution_count": 6,
   "id": "5daca40c",
   "metadata": {
    "execution": {
     "iopub.execute_input": "2022-04-28T21:13:48.921974Z",
     "iopub.status.busy": "2022-04-28T21:13:48.921697Z",
     "iopub.status.idle": "2022-04-28T21:13:50.887546Z",
     "shell.execute_reply": "2022-04-28T21:13:50.886460Z"
    },
    "papermill": {
     "duration": 2.027251,
     "end_time": "2022-04-28T21:13:50.890145",
     "exception": false,
     "start_time": "2022-04-28T21:13:48.862894",
     "status": "completed"
    },
    "tags": []
   },
   "outputs": [],
   "source": [
    "test_week = transactions.week.max()\n",
    "transactions = transactions[transactions.week != transactions.week.max()]\n",
    "transactions = transactions[transactions.week > transactions.week.max() - 10]"
   ]
  },
  {
   "cell_type": "code",
   "execution_count": 7,
   "id": "d34232d5",
   "metadata": {
    "execution": {
     "iopub.execute_input": "2022-04-28T21:13:51.017766Z",
     "iopub.status.busy": "2022-04-28T21:13:51.017487Z",
     "iopub.status.idle": "2022-04-28T21:13:51.025552Z",
     "shell.execute_reply": "2022-04-28T21:13:51.024693Z"
    },
    "papermill": {
     "duration": 0.073548,
     "end_time": "2022-04-28T21:13:51.027759",
     "exception": false,
     "start_time": "2022-04-28T21:13:50.954211",
     "status": "completed"
    },
    "tags": []
   },
   "outputs": [
    {
     "data": {
      "text/plain": [
       "104"
      ]
     },
     "execution_count": 7,
     "metadata": {},
     "output_type": "execute_result"
    }
   ],
   "source": [
    "test_week"
   ]
  },
  {
   "cell_type": "code",
   "execution_count": 8,
   "id": "3ba8d6bd",
   "metadata": {
    "execution": {
     "iopub.execute_input": "2022-04-28T21:13:51.149899Z",
     "iopub.status.busy": "2022-04-28T21:13:51.149548Z",
     "iopub.status.idle": "2022-04-28T21:13:51.169901Z",
     "shell.execute_reply": "2022-04-28T21:13:51.169282Z"
    },
    "papermill": {
     "duration": 0.083303,
     "end_time": "2022-04-28T21:13:51.171909",
     "exception": false,
     "start_time": "2022-04-28T21:13:51.088606",
     "status": "completed"
    },
    "tags": []
   },
   "outputs": [
    {
     "data": {
      "text/html": [
       "<div>\n",
       "<style scoped>\n",
       "    .dataframe tbody tr th:only-of-type {\n",
       "        vertical-align: middle;\n",
       "    }\n",
       "\n",
       "    .dataframe tbody tr th {\n",
       "        vertical-align: top;\n",
       "    }\n",
       "\n",
       "    .dataframe thead th {\n",
       "        text-align: right;\n",
       "    }\n",
       "</style>\n",
       "<table border=\"1\" class=\"dataframe\">\n",
       "  <thead>\n",
       "    <tr style=\"text-align: right;\">\n",
       "      <th></th>\n",
       "      <th>t_dat</th>\n",
       "      <th>customer_id</th>\n",
       "      <th>article_id</th>\n",
       "      <th>price</th>\n",
       "      <th>sales_channel_id</th>\n",
       "      <th>week</th>\n",
       "    </tr>\n",
       "  </thead>\n",
       "  <tbody>\n",
       "    <tr>\n",
       "      <th>28777300</th>\n",
       "      <td>2020-07-08</td>\n",
       "      <td>857913002275398</td>\n",
       "      <td>599580068</td>\n",
       "      <td>0.008458</td>\n",
       "      <td>1</td>\n",
       "      <td>94</td>\n",
       "    </tr>\n",
       "    <tr>\n",
       "      <th>28777301</th>\n",
       "      <td>2020-07-08</td>\n",
       "      <td>857913002275398</td>\n",
       "      <td>776237011</td>\n",
       "      <td>0.025407</td>\n",
       "      <td>1</td>\n",
       "      <td>94</td>\n",
       "    </tr>\n",
       "    <tr>\n",
       "      <th>28777302</th>\n",
       "      <td>2020-07-08</td>\n",
       "      <td>857913002275398</td>\n",
       "      <td>844294001</td>\n",
       "      <td>0.011847</td>\n",
       "      <td>1</td>\n",
       "      <td>94</td>\n",
       "    </tr>\n",
       "    <tr>\n",
       "      <th>28787123</th>\n",
       "      <td>2020-07-08</td>\n",
       "      <td>1658289241058394</td>\n",
       "      <td>877773001</td>\n",
       "      <td>0.007610</td>\n",
       "      <td>1</td>\n",
       "      <td>94</td>\n",
       "    </tr>\n",
       "    <tr>\n",
       "      <th>28788562</th>\n",
       "      <td>2020-07-08</td>\n",
       "      <td>3828854365940846</td>\n",
       "      <td>507883009</td>\n",
       "      <td>0.013542</td>\n",
       "      <td>1</td>\n",
       "      <td>94</td>\n",
       "    </tr>\n",
       "    <tr>\n",
       "      <th>...</th>\n",
       "      <td>...</td>\n",
       "      <td>...</td>\n",
       "      <td>...</td>\n",
       "      <td>...</td>\n",
       "      <td>...</td>\n",
       "      <td>...</td>\n",
       "    </tr>\n",
       "    <tr>\n",
       "      <th>31536744</th>\n",
       "      <td>2020-09-15</td>\n",
       "      <td>18446630855572834764</td>\n",
       "      <td>568601045</td>\n",
       "      <td>0.050831</td>\n",
       "      <td>2</td>\n",
       "      <td>103</td>\n",
       "    </tr>\n",
       "    <tr>\n",
       "      <th>31536745</th>\n",
       "      <td>2020-09-15</td>\n",
       "      <td>18446630855572834764</td>\n",
       "      <td>568601045</td>\n",
       "      <td>0.050831</td>\n",
       "      <td>2</td>\n",
       "      <td>103</td>\n",
       "    </tr>\n",
       "    <tr>\n",
       "      <th>31536746</th>\n",
       "      <td>2020-09-15</td>\n",
       "      <td>18446630855572834764</td>\n",
       "      <td>898713001</td>\n",
       "      <td>0.067780</td>\n",
       "      <td>2</td>\n",
       "      <td>103</td>\n",
       "    </tr>\n",
       "    <tr>\n",
       "      <th>31536747</th>\n",
       "      <td>2020-09-15</td>\n",
       "      <td>18446630855572834764</td>\n",
       "      <td>898713001</td>\n",
       "      <td>0.067780</td>\n",
       "      <td>2</td>\n",
       "      <td>103</td>\n",
       "    </tr>\n",
       "    <tr>\n",
       "      <th>31536748</th>\n",
       "      <td>2020-09-15</td>\n",
       "      <td>18446630855572834764</td>\n",
       "      <td>886966002</td>\n",
       "      <td>0.067780</td>\n",
       "      <td>2</td>\n",
       "      <td>103</td>\n",
       "    </tr>\n",
       "  </tbody>\n",
       "</table>\n",
       "<p>2809233 rows × 6 columns</p>\n",
       "</div>"
      ],
      "text/plain": [
       "              t_dat           customer_id  article_id     price  \\\n",
       "28777300 2020-07-08       857913002275398   599580068  0.008458   \n",
       "28777301 2020-07-08       857913002275398   776237011  0.025407   \n",
       "28777302 2020-07-08       857913002275398   844294001  0.011847   \n",
       "28787123 2020-07-08      1658289241058394   877773001  0.007610   \n",
       "28788562 2020-07-08      3828854365940846   507883009  0.013542   \n",
       "...             ...                   ...         ...       ...   \n",
       "31536744 2020-09-15  18446630855572834764   568601045  0.050831   \n",
       "31536745 2020-09-15  18446630855572834764   568601045  0.050831   \n",
       "31536746 2020-09-15  18446630855572834764   898713001  0.067780   \n",
       "31536747 2020-09-15  18446630855572834764   898713001  0.067780   \n",
       "31536748 2020-09-15  18446630855572834764   886966002  0.067780   \n",
       "\n",
       "          sales_channel_id  week  \n",
       "28777300                 1    94  \n",
       "28777301                 1    94  \n",
       "28777302                 1    94  \n",
       "28787123                 1    94  \n",
       "28788562                 1    94  \n",
       "...                    ...   ...  \n",
       "31536744                 2   103  \n",
       "31536745                 2   103  \n",
       "31536746                 2   103  \n",
       "31536747                 2   103  \n",
       "31536748                 2   103  \n",
       "\n",
       "[2809233 rows x 6 columns]"
      ]
     },
     "execution_count": 8,
     "metadata": {},
     "output_type": "execute_result"
    }
   ],
   "source": [
    "transactions"
   ]
  },
  {
   "cell_type": "markdown",
   "id": "0e4cdfdd",
   "metadata": {
    "papermill": {
     "duration": 0.058336,
     "end_time": "2022-04-28T21:13:51.289304",
     "exception": false,
     "start_time": "2022-04-28T21:13:51.230968",
     "status": "completed"
    },
    "tags": []
   },
   "source": [
    "# Generating candidates"
   ]
  },
  {
   "cell_type": "markdown",
   "id": "59131168",
   "metadata": {
    "papermill": {
     "duration": 0.067118,
     "end_time": "2022-04-28T21:13:51.416616",
     "exception": false,
     "start_time": "2022-04-28T21:13:51.349498",
     "status": "completed"
    },
    "tags": []
   },
   "source": [
    "### Last purchase candidates"
   ]
  },
  {
   "cell_type": "code",
   "execution_count": 9,
   "id": "50e77370",
   "metadata": {
    "execution": {
     "iopub.execute_input": "2022-04-28T21:13:51.540869Z",
     "iopub.status.busy": "2022-04-28T21:13:51.539920Z",
     "iopub.status.idle": "2022-04-28T21:14:13.910893Z",
     "shell.execute_reply": "2022-04-28T21:14:13.909668Z"
    },
    "papermill": {
     "duration": 22.433924,
     "end_time": "2022-04-28T21:14:13.913462",
     "exception": false,
     "start_time": "2022-04-28T21:13:51.479538",
     "status": "completed"
    },
    "tags": []
   },
   "outputs": [
    {
     "name": "stdout",
     "output_type": "stream",
     "text": [
      "CPU times: user 22.3 s, sys: 235 ms, total: 22.6 s\n",
      "Wall time: 22.4 s\n"
     ]
    }
   ],
   "source": [
    "%%time\n",
    "\n",
    "c2weeks = transactions.groupby('customer_id')['week'].unique()"
   ]
  },
  {
   "cell_type": "code",
   "execution_count": 10,
   "id": "cd92bb5c",
   "metadata": {
    "execution": {
     "iopub.execute_input": "2022-04-28T21:14:14.035707Z",
     "iopub.status.busy": "2022-04-28T21:14:14.035408Z",
     "iopub.status.idle": "2022-04-28T21:14:14.108959Z",
     "shell.execute_reply": "2022-04-28T21:14:14.108133Z"
    },
    "papermill": {
     "duration": 0.136342,
     "end_time": "2022-04-28T21:14:14.111037",
     "exception": false,
     "start_time": "2022-04-28T21:14:13.974695",
     "status": "completed"
    },
    "tags": []
   },
   "outputs": [
    {
     "data": {
      "text/html": [
       "<div>\n",
       "<style scoped>\n",
       "    .dataframe tbody tr th:only-of-type {\n",
       "        vertical-align: middle;\n",
       "    }\n",
       "\n",
       "    .dataframe tbody tr th {\n",
       "        vertical-align: top;\n",
       "    }\n",
       "\n",
       "    .dataframe thead th {\n",
       "        text-align: right;\n",
       "    }\n",
       "</style>\n",
       "<table border=\"1\" class=\"dataframe\">\n",
       "  <thead>\n",
       "    <tr style=\"text-align: right;\">\n",
       "      <th></th>\n",
       "      <th>min</th>\n",
       "      <th>max</th>\n",
       "    </tr>\n",
       "    <tr>\n",
       "      <th>week</th>\n",
       "      <th></th>\n",
       "      <th></th>\n",
       "    </tr>\n",
       "  </thead>\n",
       "  <tbody>\n",
       "    <tr>\n",
       "      <th>94</th>\n",
       "      <td>2020-07-08</td>\n",
       "      <td>2020-07-14</td>\n",
       "    </tr>\n",
       "    <tr>\n",
       "      <th>95</th>\n",
       "      <td>2020-07-15</td>\n",
       "      <td>2020-07-21</td>\n",
       "    </tr>\n",
       "    <tr>\n",
       "      <th>96</th>\n",
       "      <td>2020-07-22</td>\n",
       "      <td>2020-07-28</td>\n",
       "    </tr>\n",
       "    <tr>\n",
       "      <th>97</th>\n",
       "      <td>2020-07-29</td>\n",
       "      <td>2020-08-04</td>\n",
       "    </tr>\n",
       "    <tr>\n",
       "      <th>98</th>\n",
       "      <td>2020-08-05</td>\n",
       "      <td>2020-08-11</td>\n",
       "    </tr>\n",
       "    <tr>\n",
       "      <th>99</th>\n",
       "      <td>2020-08-12</td>\n",
       "      <td>2020-08-18</td>\n",
       "    </tr>\n",
       "    <tr>\n",
       "      <th>100</th>\n",
       "      <td>2020-08-19</td>\n",
       "      <td>2020-08-25</td>\n",
       "    </tr>\n",
       "    <tr>\n",
       "      <th>101</th>\n",
       "      <td>2020-08-26</td>\n",
       "      <td>2020-09-01</td>\n",
       "    </tr>\n",
       "    <tr>\n",
       "      <th>102</th>\n",
       "      <td>2020-09-02</td>\n",
       "      <td>2020-09-08</td>\n",
       "    </tr>\n",
       "    <tr>\n",
       "      <th>103</th>\n",
       "      <td>2020-09-09</td>\n",
       "      <td>2020-09-15</td>\n",
       "    </tr>\n",
       "  </tbody>\n",
       "</table>\n",
       "</div>"
      ],
      "text/plain": [
       "            min        max\n",
       "week                      \n",
       "94   2020-07-08 2020-07-14\n",
       "95   2020-07-15 2020-07-21\n",
       "96   2020-07-22 2020-07-28\n",
       "97   2020-07-29 2020-08-04\n",
       "98   2020-08-05 2020-08-11\n",
       "99   2020-08-12 2020-08-18\n",
       "100  2020-08-19 2020-08-25\n",
       "101  2020-08-26 2020-09-01\n",
       "102  2020-09-02 2020-09-08\n",
       "103  2020-09-09 2020-09-15"
      ]
     },
     "execution_count": 10,
     "metadata": {},
     "output_type": "execute_result"
    }
   ],
   "source": [
    "transactions.groupby('week')['t_dat'].agg(['min', 'max'])"
   ]
  },
  {
   "cell_type": "code",
   "execution_count": 11,
   "id": "4a22591f",
   "metadata": {
    "execution": {
     "iopub.execute_input": "2022-04-28T21:14:14.230647Z",
     "iopub.status.busy": "2022-04-28T21:14:14.229910Z",
     "iopub.status.idle": "2022-04-28T21:14:14.239405Z",
     "shell.execute_reply": "2022-04-28T21:14:14.238580Z"
    },
    "papermill": {
     "duration": 0.071709,
     "end_time": "2022-04-28T21:14:14.241376",
     "exception": false,
     "start_time": "2022-04-28T21:14:14.169667",
     "status": "completed"
    },
    "tags": []
   },
   "outputs": [
    {
     "data": {
      "text/plain": [
       "customer_id\n",
       "28847241659200          [94, 95, 96, 101, 102]\n",
       "41318098387474                            [98]\n",
       "116809474287335                     [101, 103]\n",
       "200292573348128              [95, 96, 99, 102]\n",
       "208119717816961                           [94]\n",
       "                                 ...          \n",
       "18446590778427270109                 [97, 102]\n",
       "18446624797007271432                      [95]\n",
       "18446630855572834764                     [103]\n",
       "18446662237889060501                     [100]\n",
       "18446705133201055310                     [102]\n",
       "Name: week, Length: 439368, dtype: object"
      ]
     },
     "execution_count": 11,
     "metadata": {},
     "output_type": "execute_result"
    }
   ],
   "source": [
    "c2weeks"
   ]
  },
  {
   "cell_type": "code",
   "execution_count": 12,
   "id": "13c0ec05",
   "metadata": {
    "execution": {
     "iopub.execute_input": "2022-04-28T21:14:14.362010Z",
     "iopub.status.busy": "2022-04-28T21:14:14.361726Z",
     "iopub.status.idle": "2022-04-28T21:14:15.477790Z",
     "shell.execute_reply": "2022-04-28T21:14:15.476847Z"
    },
    "papermill": {
     "duration": 1.179599,
     "end_time": "2022-04-28T21:14:15.480114",
     "exception": false,
     "start_time": "2022-04-28T21:14:14.300515",
     "status": "completed"
    },
    "tags": []
   },
   "outputs": [
    {
     "name": "stdout",
     "output_type": "stream",
     "text": [
      "CPU times: user 1.02 s, sys: 87.6 ms, total: 1.11 s\n",
      "Wall time: 1.11 s\n"
     ]
    }
   ],
   "source": [
    "%%time\n",
    "\n",
    "c2weeks2shifted_weeks = {}\n",
    "\n",
    "for c_id, weeks in c2weeks.items():\n",
    "    c2weeks2shifted_weeks[c_id] = {}\n",
    "    for i in range(weeks.shape[0]-1):\n",
    "        c2weeks2shifted_weeks[c_id][weeks[i]] = weeks[i+1]\n",
    "    c2weeks2shifted_weeks[c_id][weeks[-1]] = test_week"
   ]
  },
  {
   "cell_type": "code",
   "execution_count": 13,
   "id": "ae79b031",
   "metadata": {
    "execution": {
     "iopub.execute_input": "2022-04-28T21:14:15.604290Z",
     "iopub.status.busy": "2022-04-28T21:14:15.603716Z",
     "iopub.status.idle": "2022-04-28T21:14:15.609645Z",
     "shell.execute_reply": "2022-04-28T21:14:15.608925Z"
    },
    "papermill": {
     "duration": 0.069156,
     "end_time": "2022-04-28T21:14:15.611575",
     "exception": false,
     "start_time": "2022-04-28T21:14:15.542419",
     "status": "completed"
    },
    "tags": []
   },
   "outputs": [
    {
     "data": {
      "text/plain": [
       "{94: 95, 95: 96, 96: 101, 101: 102, 102: 104}"
      ]
     },
     "execution_count": 13,
     "metadata": {},
     "output_type": "execute_result"
    }
   ],
   "source": [
    "c2weeks2shifted_weeks[28847241659200]"
   ]
  },
  {
   "cell_type": "code",
   "execution_count": 14,
   "id": "12ae5a06",
   "metadata": {
    "execution": {
     "iopub.execute_input": "2022-04-28T21:14:15.733795Z",
     "iopub.status.busy": "2022-04-28T21:14:15.733344Z",
     "iopub.status.idle": "2022-04-28T21:14:15.753483Z",
     "shell.execute_reply": "2022-04-28T21:14:15.752584Z"
    },
    "papermill": {
     "duration": 0.08408,
     "end_time": "2022-04-28T21:14:15.755892",
     "exception": false,
     "start_time": "2022-04-28T21:14:15.671812",
     "status": "completed"
    },
    "tags": []
   },
   "outputs": [],
   "source": [
    "candidates_last_purchase = transactions.copy()"
   ]
  },
  {
   "cell_type": "code",
   "execution_count": 15,
   "id": "7a38330d",
   "metadata": {
    "execution": {
     "iopub.execute_input": "2022-04-28T21:14:15.880836Z",
     "iopub.status.busy": "2022-04-28T21:14:15.880077Z",
     "iopub.status.idle": "2022-04-28T21:14:28.039993Z",
     "shell.execute_reply": "2022-04-28T21:14:28.038783Z"
    },
    "papermill": {
     "duration": 12.223555,
     "end_time": "2022-04-28T21:14:28.042264",
     "exception": false,
     "start_time": "2022-04-28T21:14:15.818709",
     "status": "completed"
    },
    "tags": []
   },
   "outputs": [
    {
     "name": "stdout",
     "output_type": "stream",
     "text": [
      "CPU times: user 12.1 s, sys: 65.7 ms, total: 12.2 s\n",
      "Wall time: 12.2 s\n"
     ]
    }
   ],
   "source": [
    "%%time\n",
    "\n",
    "weeks = []\n",
    "for i, (c_id, week) in enumerate(zip(transactions['customer_id'], transactions['week'])):\n",
    "    weeks.append(c2weeks2shifted_weeks[c_id][week])\n",
    "    \n",
    "candidates_last_purchase.week=weeks"
   ]
  },
  {
   "cell_type": "code",
   "execution_count": 16,
   "id": "a51eaf7f",
   "metadata": {
    "execution": {
     "iopub.execute_input": "2022-04-28T21:14:28.164788Z",
     "iopub.status.busy": "2022-04-28T21:14:28.164229Z",
     "iopub.status.idle": "2022-04-28T21:14:28.182256Z",
     "shell.execute_reply": "2022-04-28T21:14:28.181396Z"
    },
    "papermill": {
     "duration": 0.081736,
     "end_time": "2022-04-28T21:14:28.184306",
     "exception": false,
     "start_time": "2022-04-28T21:14:28.102570",
     "status": "completed"
    },
    "tags": []
   },
   "outputs": [
    {
     "data": {
      "text/html": [
       "<div>\n",
       "<style scoped>\n",
       "    .dataframe tbody tr th:only-of-type {\n",
       "        vertical-align: middle;\n",
       "    }\n",
       "\n",
       "    .dataframe tbody tr th {\n",
       "        vertical-align: top;\n",
       "    }\n",
       "\n",
       "    .dataframe thead th {\n",
       "        text-align: right;\n",
       "    }\n",
       "</style>\n",
       "<table border=\"1\" class=\"dataframe\">\n",
       "  <thead>\n",
       "    <tr style=\"text-align: right;\">\n",
       "      <th></th>\n",
       "      <th>t_dat</th>\n",
       "      <th>customer_id</th>\n",
       "      <th>article_id</th>\n",
       "      <th>price</th>\n",
       "      <th>sales_channel_id</th>\n",
       "      <th>week</th>\n",
       "    </tr>\n",
       "  </thead>\n",
       "  <tbody>\n",
       "    <tr>\n",
       "      <th>29030503</th>\n",
       "      <td>2020-07-15</td>\n",
       "      <td>272412481300040</td>\n",
       "      <td>778064028</td>\n",
       "      <td>0.008458</td>\n",
       "      <td>1</td>\n",
       "      <td>96</td>\n",
       "    </tr>\n",
       "    <tr>\n",
       "      <th>29030504</th>\n",
       "      <td>2020-07-15</td>\n",
       "      <td>272412481300040</td>\n",
       "      <td>816592008</td>\n",
       "      <td>0.016932</td>\n",
       "      <td>1</td>\n",
       "      <td>96</td>\n",
       "    </tr>\n",
       "    <tr>\n",
       "      <th>29030505</th>\n",
       "      <td>2020-07-15</td>\n",
       "      <td>272412481300040</td>\n",
       "      <td>621381021</td>\n",
       "      <td>0.033881</td>\n",
       "      <td>1</td>\n",
       "      <td>96</td>\n",
       "    </tr>\n",
       "    <tr>\n",
       "      <th>29030506</th>\n",
       "      <td>2020-07-15</td>\n",
       "      <td>272412481300040</td>\n",
       "      <td>817477003</td>\n",
       "      <td>0.025407</td>\n",
       "      <td>1</td>\n",
       "      <td>96</td>\n",
       "    </tr>\n",
       "    <tr>\n",
       "      <th>29030507</th>\n",
       "      <td>2020-07-15</td>\n",
       "      <td>272412481300040</td>\n",
       "      <td>899088002</td>\n",
       "      <td>0.025407</td>\n",
       "      <td>1</td>\n",
       "      <td>96</td>\n",
       "    </tr>\n",
       "    <tr>\n",
       "      <th>29319533</th>\n",
       "      <td>2020-07-22</td>\n",
       "      <td>272412481300040</td>\n",
       "      <td>885077001</td>\n",
       "      <td>0.008458</td>\n",
       "      <td>1</td>\n",
       "      <td>103</td>\n",
       "    </tr>\n",
       "    <tr>\n",
       "      <th>29410772</th>\n",
       "      <td>2020-07-24</td>\n",
       "      <td>272412481300040</td>\n",
       "      <td>850176003</td>\n",
       "      <td>0.029034</td>\n",
       "      <td>2</td>\n",
       "      <td>103</td>\n",
       "    </tr>\n",
       "    <tr>\n",
       "      <th>29410773</th>\n",
       "      <td>2020-07-24</td>\n",
       "      <td>272412481300040</td>\n",
       "      <td>875803001</td>\n",
       "      <td>0.064559</td>\n",
       "      <td>2</td>\n",
       "      <td>103</td>\n",
       "    </tr>\n",
       "    <tr>\n",
       "      <th>29410774</th>\n",
       "      <td>2020-07-24</td>\n",
       "      <td>272412481300040</td>\n",
       "      <td>892970003</td>\n",
       "      <td>0.020966</td>\n",
       "      <td>2</td>\n",
       "      <td>103</td>\n",
       "    </tr>\n",
       "    <tr>\n",
       "      <th>29410775</th>\n",
       "      <td>2020-07-24</td>\n",
       "      <td>272412481300040</td>\n",
       "      <td>854619003</td>\n",
       "      <td>0.020966</td>\n",
       "      <td>2</td>\n",
       "      <td>103</td>\n",
       "    </tr>\n",
       "    <tr>\n",
       "      <th>29531614</th>\n",
       "      <td>2020-07-27</td>\n",
       "      <td>272412481300040</td>\n",
       "      <td>900398001</td>\n",
       "      <td>0.030492</td>\n",
       "      <td>2</td>\n",
       "      <td>103</td>\n",
       "    </tr>\n",
       "    <tr>\n",
       "      <th>29531615</th>\n",
       "      <td>2020-07-27</td>\n",
       "      <td>272412481300040</td>\n",
       "      <td>834179002</td>\n",
       "      <td>0.025407</td>\n",
       "      <td>2</td>\n",
       "      <td>103</td>\n",
       "    </tr>\n",
       "    <tr>\n",
       "      <th>29531616</th>\n",
       "      <td>2020-07-27</td>\n",
       "      <td>272412481300040</td>\n",
       "      <td>875803001</td>\n",
       "      <td>0.067780</td>\n",
       "      <td>2</td>\n",
       "      <td>103</td>\n",
       "    </tr>\n",
       "    <tr>\n",
       "      <th>31495014</th>\n",
       "      <td>2020-09-14</td>\n",
       "      <td>272412481300040</td>\n",
       "      <td>923460002</td>\n",
       "      <td>0.039932</td>\n",
       "      <td>2</td>\n",
       "      <td>104</td>\n",
       "    </tr>\n",
       "    <tr>\n",
       "      <th>31495015</th>\n",
       "      <td>2020-09-14</td>\n",
       "      <td>272412481300040</td>\n",
       "      <td>922381001</td>\n",
       "      <td>0.039932</td>\n",
       "      <td>2</td>\n",
       "      <td>104</td>\n",
       "    </tr>\n",
       "    <tr>\n",
       "      <th>31495016</th>\n",
       "      <td>2020-09-14</td>\n",
       "      <td>272412481300040</td>\n",
       "      <td>921906005</td>\n",
       "      <td>0.031949</td>\n",
       "      <td>2</td>\n",
       "      <td>104</td>\n",
       "    </tr>\n",
       "  </tbody>\n",
       "</table>\n",
       "</div>"
      ],
      "text/plain": [
       "              t_dat      customer_id  article_id     price  sales_channel_id  \\\n",
       "29030503 2020-07-15  272412481300040   778064028  0.008458                 1   \n",
       "29030504 2020-07-15  272412481300040   816592008  0.016932                 1   \n",
       "29030505 2020-07-15  272412481300040   621381021  0.033881                 1   \n",
       "29030506 2020-07-15  272412481300040   817477003  0.025407                 1   \n",
       "29030507 2020-07-15  272412481300040   899088002  0.025407                 1   \n",
       "29319533 2020-07-22  272412481300040   885077001  0.008458                 1   \n",
       "29410772 2020-07-24  272412481300040   850176003  0.029034                 2   \n",
       "29410773 2020-07-24  272412481300040   875803001  0.064559                 2   \n",
       "29410774 2020-07-24  272412481300040   892970003  0.020966                 2   \n",
       "29410775 2020-07-24  272412481300040   854619003  0.020966                 2   \n",
       "29531614 2020-07-27  272412481300040   900398001  0.030492                 2   \n",
       "29531615 2020-07-27  272412481300040   834179002  0.025407                 2   \n",
       "29531616 2020-07-27  272412481300040   875803001  0.067780                 2   \n",
       "31495014 2020-09-14  272412481300040   923460002  0.039932                 2   \n",
       "31495015 2020-09-14  272412481300040   922381001  0.039932                 2   \n",
       "31495016 2020-09-14  272412481300040   921906005  0.031949                 2   \n",
       "\n",
       "          week  \n",
       "29030503    96  \n",
       "29030504    96  \n",
       "29030505    96  \n",
       "29030506    96  \n",
       "29030507    96  \n",
       "29319533   103  \n",
       "29410772   103  \n",
       "29410773   103  \n",
       "29410774   103  \n",
       "29410775   103  \n",
       "29531614   103  \n",
       "29531615   103  \n",
       "29531616   103  \n",
       "31495014   104  \n",
       "31495015   104  \n",
       "31495016   104  "
      ]
     },
     "execution_count": 16,
     "metadata": {},
     "output_type": "execute_result"
    }
   ],
   "source": [
    "candidates_last_purchase[candidates_last_purchase['customer_id']==272412481300040]"
   ]
  },
  {
   "cell_type": "code",
   "execution_count": 17,
   "id": "3c191415",
   "metadata": {
    "execution": {
     "iopub.execute_input": "2022-04-28T21:14:28.308718Z",
     "iopub.status.busy": "2022-04-28T21:14:28.308150Z",
     "iopub.status.idle": "2022-04-28T21:14:28.326169Z",
     "shell.execute_reply": "2022-04-28T21:14:28.325343Z"
    },
    "papermill": {
     "duration": 0.082607,
     "end_time": "2022-04-28T21:14:28.328280",
     "exception": false,
     "start_time": "2022-04-28T21:14:28.245673",
     "status": "completed"
    },
    "tags": []
   },
   "outputs": [
    {
     "data": {
      "text/html": [
       "<div>\n",
       "<style scoped>\n",
       "    .dataframe tbody tr th:only-of-type {\n",
       "        vertical-align: middle;\n",
       "    }\n",
       "\n",
       "    .dataframe tbody tr th {\n",
       "        vertical-align: top;\n",
       "    }\n",
       "\n",
       "    .dataframe thead th {\n",
       "        text-align: right;\n",
       "    }\n",
       "</style>\n",
       "<table border=\"1\" class=\"dataframe\">\n",
       "  <thead>\n",
       "    <tr style=\"text-align: right;\">\n",
       "      <th></th>\n",
       "      <th>t_dat</th>\n",
       "      <th>customer_id</th>\n",
       "      <th>article_id</th>\n",
       "      <th>price</th>\n",
       "      <th>sales_channel_id</th>\n",
       "      <th>week</th>\n",
       "    </tr>\n",
       "  </thead>\n",
       "  <tbody>\n",
       "    <tr>\n",
       "      <th>29030503</th>\n",
       "      <td>2020-07-15</td>\n",
       "      <td>272412481300040</td>\n",
       "      <td>778064028</td>\n",
       "      <td>0.008458</td>\n",
       "      <td>1</td>\n",
       "      <td>95</td>\n",
       "    </tr>\n",
       "    <tr>\n",
       "      <th>29030504</th>\n",
       "      <td>2020-07-15</td>\n",
       "      <td>272412481300040</td>\n",
       "      <td>816592008</td>\n",
       "      <td>0.016932</td>\n",
       "      <td>1</td>\n",
       "      <td>95</td>\n",
       "    </tr>\n",
       "    <tr>\n",
       "      <th>29030505</th>\n",
       "      <td>2020-07-15</td>\n",
       "      <td>272412481300040</td>\n",
       "      <td>621381021</td>\n",
       "      <td>0.033881</td>\n",
       "      <td>1</td>\n",
       "      <td>95</td>\n",
       "    </tr>\n",
       "    <tr>\n",
       "      <th>29030506</th>\n",
       "      <td>2020-07-15</td>\n",
       "      <td>272412481300040</td>\n",
       "      <td>817477003</td>\n",
       "      <td>0.025407</td>\n",
       "      <td>1</td>\n",
       "      <td>95</td>\n",
       "    </tr>\n",
       "    <tr>\n",
       "      <th>29030507</th>\n",
       "      <td>2020-07-15</td>\n",
       "      <td>272412481300040</td>\n",
       "      <td>899088002</td>\n",
       "      <td>0.025407</td>\n",
       "      <td>1</td>\n",
       "      <td>95</td>\n",
       "    </tr>\n",
       "    <tr>\n",
       "      <th>29319533</th>\n",
       "      <td>2020-07-22</td>\n",
       "      <td>272412481300040</td>\n",
       "      <td>885077001</td>\n",
       "      <td>0.008458</td>\n",
       "      <td>1</td>\n",
       "      <td>96</td>\n",
       "    </tr>\n",
       "    <tr>\n",
       "      <th>29410772</th>\n",
       "      <td>2020-07-24</td>\n",
       "      <td>272412481300040</td>\n",
       "      <td>850176003</td>\n",
       "      <td>0.029034</td>\n",
       "      <td>2</td>\n",
       "      <td>96</td>\n",
       "    </tr>\n",
       "    <tr>\n",
       "      <th>29410773</th>\n",
       "      <td>2020-07-24</td>\n",
       "      <td>272412481300040</td>\n",
       "      <td>875803001</td>\n",
       "      <td>0.064559</td>\n",
       "      <td>2</td>\n",
       "      <td>96</td>\n",
       "    </tr>\n",
       "    <tr>\n",
       "      <th>29410774</th>\n",
       "      <td>2020-07-24</td>\n",
       "      <td>272412481300040</td>\n",
       "      <td>892970003</td>\n",
       "      <td>0.020966</td>\n",
       "      <td>2</td>\n",
       "      <td>96</td>\n",
       "    </tr>\n",
       "    <tr>\n",
       "      <th>29410775</th>\n",
       "      <td>2020-07-24</td>\n",
       "      <td>272412481300040</td>\n",
       "      <td>854619003</td>\n",
       "      <td>0.020966</td>\n",
       "      <td>2</td>\n",
       "      <td>96</td>\n",
       "    </tr>\n",
       "    <tr>\n",
       "      <th>29531614</th>\n",
       "      <td>2020-07-27</td>\n",
       "      <td>272412481300040</td>\n",
       "      <td>900398001</td>\n",
       "      <td>0.030492</td>\n",
       "      <td>2</td>\n",
       "      <td>96</td>\n",
       "    </tr>\n",
       "    <tr>\n",
       "      <th>29531615</th>\n",
       "      <td>2020-07-27</td>\n",
       "      <td>272412481300040</td>\n",
       "      <td>834179002</td>\n",
       "      <td>0.025407</td>\n",
       "      <td>2</td>\n",
       "      <td>96</td>\n",
       "    </tr>\n",
       "    <tr>\n",
       "      <th>29531616</th>\n",
       "      <td>2020-07-27</td>\n",
       "      <td>272412481300040</td>\n",
       "      <td>875803001</td>\n",
       "      <td>0.067780</td>\n",
       "      <td>2</td>\n",
       "      <td>96</td>\n",
       "    </tr>\n",
       "    <tr>\n",
       "      <th>31495014</th>\n",
       "      <td>2020-09-14</td>\n",
       "      <td>272412481300040</td>\n",
       "      <td>923460002</td>\n",
       "      <td>0.039932</td>\n",
       "      <td>2</td>\n",
       "      <td>103</td>\n",
       "    </tr>\n",
       "    <tr>\n",
       "      <th>31495015</th>\n",
       "      <td>2020-09-14</td>\n",
       "      <td>272412481300040</td>\n",
       "      <td>922381001</td>\n",
       "      <td>0.039932</td>\n",
       "      <td>2</td>\n",
       "      <td>103</td>\n",
       "    </tr>\n",
       "    <tr>\n",
       "      <th>31495016</th>\n",
       "      <td>2020-09-14</td>\n",
       "      <td>272412481300040</td>\n",
       "      <td>921906005</td>\n",
       "      <td>0.031949</td>\n",
       "      <td>2</td>\n",
       "      <td>103</td>\n",
       "    </tr>\n",
       "  </tbody>\n",
       "</table>\n",
       "</div>"
      ],
      "text/plain": [
       "              t_dat      customer_id  article_id     price  sales_channel_id  \\\n",
       "29030503 2020-07-15  272412481300040   778064028  0.008458                 1   \n",
       "29030504 2020-07-15  272412481300040   816592008  0.016932                 1   \n",
       "29030505 2020-07-15  272412481300040   621381021  0.033881                 1   \n",
       "29030506 2020-07-15  272412481300040   817477003  0.025407                 1   \n",
       "29030507 2020-07-15  272412481300040   899088002  0.025407                 1   \n",
       "29319533 2020-07-22  272412481300040   885077001  0.008458                 1   \n",
       "29410772 2020-07-24  272412481300040   850176003  0.029034                 2   \n",
       "29410773 2020-07-24  272412481300040   875803001  0.064559                 2   \n",
       "29410774 2020-07-24  272412481300040   892970003  0.020966                 2   \n",
       "29410775 2020-07-24  272412481300040   854619003  0.020966                 2   \n",
       "29531614 2020-07-27  272412481300040   900398001  0.030492                 2   \n",
       "29531615 2020-07-27  272412481300040   834179002  0.025407                 2   \n",
       "29531616 2020-07-27  272412481300040   875803001  0.067780                 2   \n",
       "31495014 2020-09-14  272412481300040   923460002  0.039932                 2   \n",
       "31495015 2020-09-14  272412481300040   922381001  0.039932                 2   \n",
       "31495016 2020-09-14  272412481300040   921906005  0.031949                 2   \n",
       "\n",
       "          week  \n",
       "29030503    95  \n",
       "29030504    95  \n",
       "29030505    95  \n",
       "29030506    95  \n",
       "29030507    95  \n",
       "29319533    96  \n",
       "29410772    96  \n",
       "29410773    96  \n",
       "29410774    96  \n",
       "29410775    96  \n",
       "29531614    96  \n",
       "29531615    96  \n",
       "29531616    96  \n",
       "31495014   103  \n",
       "31495015   103  \n",
       "31495016   103  "
      ]
     },
     "execution_count": 17,
     "metadata": {},
     "output_type": "execute_result"
    }
   ],
   "source": [
    "transactions[transactions['customer_id']==272412481300040]"
   ]
  },
  {
   "cell_type": "markdown",
   "id": "83be246c",
   "metadata": {
    "papermill": {
     "duration": 0.062148,
     "end_time": "2022-04-28T21:14:28.453327",
     "exception": false,
     "start_time": "2022-04-28T21:14:28.391179",
     "status": "completed"
    },
    "tags": []
   },
   "source": [
    "### Bestsellers candidates"
   ]
  },
  {
   "cell_type": "code",
   "execution_count": 18,
   "id": "8bd914f7",
   "metadata": {
    "execution": {
     "iopub.execute_input": "2022-04-28T21:14:28.579008Z",
     "iopub.status.busy": "2022-04-28T21:14:28.578724Z",
     "iopub.status.idle": "2022-04-28T21:14:28.846215Z",
     "shell.execute_reply": "2022-04-28T21:14:28.845120Z"
    },
    "papermill": {
     "duration": 0.333585,
     "end_time": "2022-04-28T21:14:28.848840",
     "exception": false,
     "start_time": "2022-04-28T21:14:28.515255",
     "status": "completed"
    },
    "tags": []
   },
   "outputs": [],
   "source": [
    "mean_price = transactions \\\n",
    "    .groupby(['week', 'article_id'])['price'].mean()"
   ]
  },
  {
   "cell_type": "code",
   "execution_count": 19,
   "id": "aa66f256",
   "metadata": {
    "execution": {
     "iopub.execute_input": "2022-04-28T21:14:28.979288Z",
     "iopub.status.busy": "2022-04-28T21:14:28.978955Z",
     "iopub.status.idle": "2022-04-28T21:14:28.989147Z",
     "shell.execute_reply": "2022-04-28T21:14:28.988506Z"
    },
    "papermill": {
     "duration": 0.077174,
     "end_time": "2022-04-28T21:14:28.991121",
     "exception": false,
     "start_time": "2022-04-28T21:14:28.913947",
     "status": "completed"
    },
    "tags": []
   },
   "outputs": [
    {
     "data": {
      "text/plain": [
       "week  article_id\n",
       "94    108775044     0.008339\n",
       "      110065002     0.005508\n",
       "      111565001     0.005452\n",
       "      111586001     0.013270\n",
       "      111593001     0.011669\n",
       "                      ...   \n",
       "103   952267001     0.014631\n",
       "      952938001     0.045746\n",
       "      953450001     0.016769\n",
       "      953763001     0.021932\n",
       "      956217002     0.059203\n",
       "Name: price, Length: 199492, dtype: float32"
      ]
     },
     "execution_count": 19,
     "metadata": {},
     "output_type": "execute_result"
    }
   ],
   "source": [
    "mean_price"
   ]
  },
  {
   "cell_type": "code",
   "execution_count": 20,
   "id": "8cdf11cf",
   "metadata": {
    "execution": {
     "iopub.execute_input": "2022-04-28T21:14:29.122198Z",
     "iopub.status.busy": "2022-04-28T21:14:29.121887Z",
     "iopub.status.idle": "2022-04-28T21:14:30.039999Z",
     "shell.execute_reply": "2022-04-28T21:14:30.039101Z"
    },
    "papermill": {
     "duration": 0.98637,
     "end_time": "2022-04-28T21:14:30.042573",
     "exception": false,
     "start_time": "2022-04-28T21:14:29.056203",
     "status": "completed"
    },
    "tags": []
   },
   "outputs": [],
   "source": [
    "sales = transactions \\\n",
    "    .groupby('week')['article_id'].value_counts() \\\n",
    "    .groupby('week').rank(method='dense', ascending=False) \\\n",
    "    .groupby('week').head(12).rename('bestseller_rank').astype('int8')"
   ]
  },
  {
   "cell_type": "code",
   "execution_count": 21,
   "id": "dd07e6ba",
   "metadata": {
    "execution": {
     "iopub.execute_input": "2022-04-28T21:14:30.173215Z",
     "iopub.status.busy": "2022-04-28T21:14:30.172890Z",
     "iopub.status.idle": "2022-04-28T21:14:30.233222Z",
     "shell.execute_reply": "2022-04-28T21:14:30.232418Z"
    },
    "papermill": {
     "duration": 0.127587,
     "end_time": "2022-04-28T21:14:30.235239",
     "exception": false,
     "start_time": "2022-04-28T21:14:30.107652",
     "status": "completed"
    },
    "tags": []
   },
   "outputs": [
    {
     "data": {
      "text/plain": [
       "week  article_id\n",
       "94    806388001      1\n",
       "      730683021      2\n",
       "      610776002      3\n",
       "      805308002      4\n",
       "      866383006      5\n",
       "                    ..\n",
       "103   918292001      8\n",
       "      762846027      9\n",
       "      809238005     10\n",
       "      673677002     11\n",
       "      923758001     12\n",
       "Name: bestseller_rank, Length: 120, dtype: int8"
      ]
     },
     "execution_count": 21,
     "metadata": {},
     "output_type": "execute_result"
    }
   ],
   "source": [
    "sales"
   ]
  },
  {
   "cell_type": "code",
   "execution_count": 22,
   "id": "59bf2b73",
   "metadata": {
    "execution": {
     "iopub.execute_input": "2022-04-28T21:14:30.363456Z",
     "iopub.status.busy": "2022-04-28T21:14:30.362598Z",
     "iopub.status.idle": "2022-04-28T21:14:30.371508Z",
     "shell.execute_reply": "2022-04-28T21:14:30.370642Z"
    },
    "papermill": {
     "duration": 0.075096,
     "end_time": "2022-04-28T21:14:30.373693",
     "exception": false,
     "start_time": "2022-04-28T21:14:30.298597",
     "status": "completed"
    },
    "tags": []
   },
   "outputs": [
    {
     "data": {
      "text/plain": [
       "article_id\n",
       "760084003     1\n",
       "866731001     2\n",
       "600886001     3\n",
       "706016001     4\n",
       "372860002     5\n",
       "610776002     6\n",
       "877278002     7\n",
       "547780003     8\n",
       "817354001     9\n",
       "827968001    10\n",
       "866731003    11\n",
       "866383006    12\n",
       "Name: bestseller_rank, dtype: int8"
      ]
     },
     "execution_count": 22,
     "metadata": {},
     "output_type": "execute_result"
    }
   ],
   "source": [
    "sales.loc[95]"
   ]
  },
  {
   "cell_type": "code",
   "execution_count": 23,
   "id": "5cc02026",
   "metadata": {
    "execution": {
     "iopub.execute_input": "2022-04-28T21:14:30.504236Z",
     "iopub.status.busy": "2022-04-28T21:14:30.503220Z",
     "iopub.status.idle": "2022-04-28T21:14:30.548954Z",
     "shell.execute_reply": "2022-04-28T21:14:30.548239Z"
    },
    "papermill": {
     "duration": 0.113345,
     "end_time": "2022-04-28T21:14:30.551331",
     "exception": false,
     "start_time": "2022-04-28T21:14:30.437986",
     "status": "completed"
    },
    "tags": []
   },
   "outputs": [],
   "source": [
    "bestsellers_previous_week = pd.merge(sales, mean_price, on=['week', 'article_id']).reset_index()\n",
    "bestsellers_previous_week.week += 1"
   ]
  },
  {
   "cell_type": "code",
   "execution_count": 24,
   "id": "c2c17b4a",
   "metadata": {
    "execution": {
     "iopub.execute_input": "2022-04-28T21:14:30.683577Z",
     "iopub.status.busy": "2022-04-28T21:14:30.683278Z",
     "iopub.status.idle": "2022-04-28T21:14:30.695121Z",
     "shell.execute_reply": "2022-04-28T21:14:30.694454Z"
    },
    "papermill": {
     "duration": 0.082532,
     "end_time": "2022-04-28T21:14:30.697172",
     "exception": false,
     "start_time": "2022-04-28T21:14:30.614640",
     "status": "completed"
    },
    "tags": []
   },
   "outputs": [
    {
     "data": {
      "text/html": [
       "<div>\n",
       "<style scoped>\n",
       "    .dataframe tbody tr th:only-of-type {\n",
       "        vertical-align: middle;\n",
       "    }\n",
       "\n",
       "    .dataframe tbody tr th {\n",
       "        vertical-align: top;\n",
       "    }\n",
       "\n",
       "    .dataframe thead th {\n",
       "        text-align: right;\n",
       "    }\n",
       "</style>\n",
       "<table border=\"1\" class=\"dataframe\">\n",
       "  <thead>\n",
       "    <tr style=\"text-align: right;\">\n",
       "      <th></th>\n",
       "      <th>week</th>\n",
       "      <th>article_id</th>\n",
       "      <th>bestseller_rank</th>\n",
       "      <th>price</th>\n",
       "    </tr>\n",
       "  </thead>\n",
       "  <tbody>\n",
       "    <tr>\n",
       "      <th>12</th>\n",
       "      <td>96</td>\n",
       "      <td>760084003</td>\n",
       "      <td>1</td>\n",
       "      <td>0.025094</td>\n",
       "    </tr>\n",
       "    <tr>\n",
       "      <th>13</th>\n",
       "      <td>96</td>\n",
       "      <td>866731001</td>\n",
       "      <td>2</td>\n",
       "      <td>0.024919</td>\n",
       "    </tr>\n",
       "    <tr>\n",
       "      <th>14</th>\n",
       "      <td>96</td>\n",
       "      <td>600886001</td>\n",
       "      <td>3</td>\n",
       "      <td>0.022980</td>\n",
       "    </tr>\n",
       "    <tr>\n",
       "      <th>15</th>\n",
       "      <td>96</td>\n",
       "      <td>706016001</td>\n",
       "      <td>4</td>\n",
       "      <td>0.033197</td>\n",
       "    </tr>\n",
       "    <tr>\n",
       "      <th>16</th>\n",
       "      <td>96</td>\n",
       "      <td>372860002</td>\n",
       "      <td>5</td>\n",
       "      <td>0.013193</td>\n",
       "    </tr>\n",
       "    <tr>\n",
       "      <th>17</th>\n",
       "      <td>96</td>\n",
       "      <td>610776002</td>\n",
       "      <td>6</td>\n",
       "      <td>0.008318</td>\n",
       "    </tr>\n",
       "    <tr>\n",
       "      <th>18</th>\n",
       "      <td>96</td>\n",
       "      <td>877278002</td>\n",
       "      <td>7</td>\n",
       "      <td>0.025036</td>\n",
       "    </tr>\n",
       "    <tr>\n",
       "      <th>19</th>\n",
       "      <td>96</td>\n",
       "      <td>547780003</td>\n",
       "      <td>8</td>\n",
       "      <td>0.024814</td>\n",
       "    </tr>\n",
       "    <tr>\n",
       "      <th>20</th>\n",
       "      <td>96</td>\n",
       "      <td>817354001</td>\n",
       "      <td>9</td>\n",
       "      <td>0.021913</td>\n",
       "    </tr>\n",
       "    <tr>\n",
       "      <th>21</th>\n",
       "      <td>96</td>\n",
       "      <td>827968001</td>\n",
       "      <td>10</td>\n",
       "      <td>0.016436</td>\n",
       "    </tr>\n",
       "    <tr>\n",
       "      <th>22</th>\n",
       "      <td>96</td>\n",
       "      <td>866731003</td>\n",
       "      <td>11</td>\n",
       "      <td>0.024893</td>\n",
       "    </tr>\n",
       "    <tr>\n",
       "      <th>23</th>\n",
       "      <td>96</td>\n",
       "      <td>866383006</td>\n",
       "      <td>12</td>\n",
       "      <td>0.023195</td>\n",
       "    </tr>\n",
       "  </tbody>\n",
       "</table>\n",
       "</div>"
      ],
      "text/plain": [
       "    week  article_id  bestseller_rank     price\n",
       "12    96   760084003                1  0.025094\n",
       "13    96   866731001                2  0.024919\n",
       "14    96   600886001                3  0.022980\n",
       "15    96   706016001                4  0.033197\n",
       "16    96   372860002                5  0.013193\n",
       "17    96   610776002                6  0.008318\n",
       "18    96   877278002                7  0.025036\n",
       "19    96   547780003                8  0.024814\n",
       "20    96   817354001                9  0.021913\n",
       "21    96   827968001               10  0.016436\n",
       "22    96   866731003               11  0.024893\n",
       "23    96   866383006               12  0.023195"
      ]
     },
     "execution_count": 24,
     "metadata": {},
     "output_type": "execute_result"
    }
   ],
   "source": [
    "bestsellers_previous_week.pipe(lambda df: df[df['week']==96])"
   ]
  },
  {
   "cell_type": "code",
   "execution_count": 25,
   "id": "0964c141",
   "metadata": {
    "execution": {
     "iopub.execute_input": "2022-04-28T21:14:30.831592Z",
     "iopub.status.busy": "2022-04-28T21:14:30.830786Z",
     "iopub.status.idle": "2022-04-28T21:14:31.474742Z",
     "shell.execute_reply": "2022-04-28T21:14:31.473052Z"
    },
    "papermill": {
     "duration": 0.715003,
     "end_time": "2022-04-28T21:14:31.477369",
     "exception": false,
     "start_time": "2022-04-28T21:14:30.762366",
     "status": "completed"
    },
    "tags": []
   },
   "outputs": [],
   "source": [
    "unique_transactions = transactions \\\n",
    "    .groupby(['week', 'customer_id']) \\\n",
    "    .head(1) \\\n",
    "    .drop(columns=['article_id', 'price']) \\\n",
    "    .copy()"
   ]
  },
  {
   "cell_type": "code",
   "execution_count": 26,
   "id": "9c06ea10",
   "metadata": {
    "execution": {
     "iopub.execute_input": "2022-04-28T21:14:31.646504Z",
     "iopub.status.busy": "2022-04-28T21:14:31.645737Z",
     "iopub.status.idle": "2022-04-28T21:14:31.658732Z",
     "shell.execute_reply": "2022-04-28T21:14:31.658040Z"
    },
    "papermill": {
     "duration": 0.096594,
     "end_time": "2022-04-28T21:14:31.661376",
     "exception": false,
     "start_time": "2022-04-28T21:14:31.564782",
     "status": "completed"
    },
    "tags": []
   },
   "outputs": [
    {
     "data": {
      "text/html": [
       "<div>\n",
       "<style scoped>\n",
       "    .dataframe tbody tr th:only-of-type {\n",
       "        vertical-align: middle;\n",
       "    }\n",
       "\n",
       "    .dataframe tbody tr th {\n",
       "        vertical-align: top;\n",
       "    }\n",
       "\n",
       "    .dataframe thead th {\n",
       "        text-align: right;\n",
       "    }\n",
       "</style>\n",
       "<table border=\"1\" class=\"dataframe\">\n",
       "  <thead>\n",
       "    <tr style=\"text-align: right;\">\n",
       "      <th></th>\n",
       "      <th>t_dat</th>\n",
       "      <th>customer_id</th>\n",
       "      <th>sales_channel_id</th>\n",
       "      <th>week</th>\n",
       "    </tr>\n",
       "  </thead>\n",
       "  <tbody>\n",
       "    <tr>\n",
       "      <th>28777300</th>\n",
       "      <td>2020-07-08</td>\n",
       "      <td>857913002275398</td>\n",
       "      <td>1</td>\n",
       "      <td>94</td>\n",
       "    </tr>\n",
       "    <tr>\n",
       "      <th>28787123</th>\n",
       "      <td>2020-07-08</td>\n",
       "      <td>1658289241058394</td>\n",
       "      <td>1</td>\n",
       "      <td>94</td>\n",
       "    </tr>\n",
       "    <tr>\n",
       "      <th>28788562</th>\n",
       "      <td>2020-07-08</td>\n",
       "      <td>3828854365940846</td>\n",
       "      <td>1</td>\n",
       "      <td>94</td>\n",
       "    </tr>\n",
       "    <tr>\n",
       "      <th>28744235</th>\n",
       "      <td>2020-07-08</td>\n",
       "      <td>4195624216542755</td>\n",
       "      <td>1</td>\n",
       "      <td>94</td>\n",
       "    </tr>\n",
       "    <tr>\n",
       "      <th>28753719</th>\n",
       "      <td>2020-07-08</td>\n",
       "      <td>4233235614030232</td>\n",
       "      <td>2</td>\n",
       "      <td>94</td>\n",
       "    </tr>\n",
       "    <tr>\n",
       "      <th>...</th>\n",
       "      <td>...</td>\n",
       "      <td>...</td>\n",
       "      <td>...</td>\n",
       "      <td>...</td>\n",
       "    </tr>\n",
       "    <tr>\n",
       "      <th>31521960</th>\n",
       "      <td>2020-09-15</td>\n",
       "      <td>18439897732908966680</td>\n",
       "      <td>2</td>\n",
       "      <td>103</td>\n",
       "    </tr>\n",
       "    <tr>\n",
       "      <th>31531712</th>\n",
       "      <td>2020-09-15</td>\n",
       "      <td>18444276791873187543</td>\n",
       "      <td>2</td>\n",
       "      <td>103</td>\n",
       "    </tr>\n",
       "    <tr>\n",
       "      <th>31539937</th>\n",
       "      <td>2020-09-15</td>\n",
       "      <td>18444799607866739422</td>\n",
       "      <td>2</td>\n",
       "      <td>103</td>\n",
       "    </tr>\n",
       "    <tr>\n",
       "      <th>31543799</th>\n",
       "      <td>2020-09-15</td>\n",
       "      <td>18446250046654386343</td>\n",
       "      <td>1</td>\n",
       "      <td>103</td>\n",
       "    </tr>\n",
       "    <tr>\n",
       "      <th>31536744</th>\n",
       "      <td>2020-09-15</td>\n",
       "      <td>18446630855572834764</td>\n",
       "      <td>2</td>\n",
       "      <td>103</td>\n",
       "    </tr>\n",
       "  </tbody>\n",
       "</table>\n",
       "<p>762722 rows × 4 columns</p>\n",
       "</div>"
      ],
      "text/plain": [
       "              t_dat           customer_id  sales_channel_id  week\n",
       "28777300 2020-07-08       857913002275398                 1    94\n",
       "28787123 2020-07-08      1658289241058394                 1    94\n",
       "28788562 2020-07-08      3828854365940846                 1    94\n",
       "28744235 2020-07-08      4195624216542755                 1    94\n",
       "28753719 2020-07-08      4233235614030232                 2    94\n",
       "...             ...                   ...               ...   ...\n",
       "31521960 2020-09-15  18439897732908966680                 2   103\n",
       "31531712 2020-09-15  18444276791873187543                 2   103\n",
       "31539937 2020-09-15  18444799607866739422                 2   103\n",
       "31543799 2020-09-15  18446250046654386343                 1   103\n",
       "31536744 2020-09-15  18446630855572834764                 2   103\n",
       "\n",
       "[762722 rows x 4 columns]"
      ]
     },
     "execution_count": 26,
     "metadata": {},
     "output_type": "execute_result"
    }
   ],
   "source": [
    "unique_transactions"
   ]
  },
  {
   "cell_type": "code",
   "execution_count": 27,
   "id": "87e88209",
   "metadata": {
    "execution": {
     "iopub.execute_input": "2022-04-28T21:14:31.822598Z",
     "iopub.status.busy": "2022-04-28T21:14:31.822011Z",
     "iopub.status.idle": "2022-04-28T21:14:32.147814Z",
     "shell.execute_reply": "2022-04-28T21:14:32.147015Z"
    },
    "papermill": {
     "duration": 0.416661,
     "end_time": "2022-04-28T21:14:32.150018",
     "exception": false,
     "start_time": "2022-04-28T21:14:31.733357",
     "status": "completed"
    },
    "tags": []
   },
   "outputs": [
    {
     "data": {
      "text/html": [
       "<div>\n",
       "<style scoped>\n",
       "    .dataframe tbody tr th:only-of-type {\n",
       "        vertical-align: middle;\n",
       "    }\n",
       "\n",
       "    .dataframe tbody tr th {\n",
       "        vertical-align: top;\n",
       "    }\n",
       "\n",
       "    .dataframe thead th {\n",
       "        text-align: right;\n",
       "    }\n",
       "</style>\n",
       "<table border=\"1\" class=\"dataframe\">\n",
       "  <thead>\n",
       "    <tr style=\"text-align: right;\">\n",
       "      <th></th>\n",
       "      <th>t_dat</th>\n",
       "      <th>customer_id</th>\n",
       "      <th>article_id</th>\n",
       "      <th>price</th>\n",
       "      <th>sales_channel_id</th>\n",
       "      <th>week</th>\n",
       "    </tr>\n",
       "  </thead>\n",
       "  <tbody>\n",
       "    <tr>\n",
       "      <th>28777300</th>\n",
       "      <td>2020-07-08</td>\n",
       "      <td>857913002275398</td>\n",
       "      <td>599580068</td>\n",
       "      <td>0.008458</td>\n",
       "      <td>1</td>\n",
       "      <td>94</td>\n",
       "    </tr>\n",
       "    <tr>\n",
       "      <th>28787123</th>\n",
       "      <td>2020-07-08</td>\n",
       "      <td>1658289241058394</td>\n",
       "      <td>877773001</td>\n",
       "      <td>0.007610</td>\n",
       "      <td>1</td>\n",
       "      <td>94</td>\n",
       "    </tr>\n",
       "    <tr>\n",
       "      <th>28788562</th>\n",
       "      <td>2020-07-08</td>\n",
       "      <td>3828854365940846</td>\n",
       "      <td>507883009</td>\n",
       "      <td>0.013542</td>\n",
       "      <td>1</td>\n",
       "      <td>94</td>\n",
       "    </tr>\n",
       "    <tr>\n",
       "      <th>28744235</th>\n",
       "      <td>2020-07-08</td>\n",
       "      <td>4195624216542755</td>\n",
       "      <td>817417005</td>\n",
       "      <td>0.022864</td>\n",
       "      <td>1</td>\n",
       "      <td>94</td>\n",
       "    </tr>\n",
       "    <tr>\n",
       "      <th>28753719</th>\n",
       "      <td>2020-07-08</td>\n",
       "      <td>4233235614030232</td>\n",
       "      <td>876986001</td>\n",
       "      <td>0.030492</td>\n",
       "      <td>2</td>\n",
       "      <td>94</td>\n",
       "    </tr>\n",
       "    <tr>\n",
       "      <th>...</th>\n",
       "      <td>...</td>\n",
       "      <td>...</td>\n",
       "      <td>...</td>\n",
       "      <td>...</td>\n",
       "      <td>...</td>\n",
       "      <td>...</td>\n",
       "    </tr>\n",
       "    <tr>\n",
       "      <th>31521960</th>\n",
       "      <td>2020-09-15</td>\n",
       "      <td>18439897732908966680</td>\n",
       "      <td>794321007</td>\n",
       "      <td>0.061000</td>\n",
       "      <td>2</td>\n",
       "      <td>103</td>\n",
       "    </tr>\n",
       "    <tr>\n",
       "      <th>31531712</th>\n",
       "      <td>2020-09-15</td>\n",
       "      <td>18444276791873187543</td>\n",
       "      <td>867969008</td>\n",
       "      <td>0.033881</td>\n",
       "      <td>2</td>\n",
       "      <td>103</td>\n",
       "    </tr>\n",
       "    <tr>\n",
       "      <th>31539937</th>\n",
       "      <td>2020-09-15</td>\n",
       "      <td>18444799607866739422</td>\n",
       "      <td>909721003</td>\n",
       "      <td>0.042356</td>\n",
       "      <td>2</td>\n",
       "      <td>103</td>\n",
       "    </tr>\n",
       "    <tr>\n",
       "      <th>31543799</th>\n",
       "      <td>2020-09-15</td>\n",
       "      <td>18446250046654386343</td>\n",
       "      <td>869872006</td>\n",
       "      <td>0.033881</td>\n",
       "      <td>1</td>\n",
       "      <td>103</td>\n",
       "    </tr>\n",
       "    <tr>\n",
       "      <th>31536744</th>\n",
       "      <td>2020-09-15</td>\n",
       "      <td>18446630855572834764</td>\n",
       "      <td>568601045</td>\n",
       "      <td>0.050831</td>\n",
       "      <td>2</td>\n",
       "      <td>103</td>\n",
       "    </tr>\n",
       "  </tbody>\n",
       "</table>\n",
       "<p>762722 rows × 6 columns</p>\n",
       "</div>"
      ],
      "text/plain": [
       "              t_dat           customer_id  article_id     price  \\\n",
       "28777300 2020-07-08       857913002275398   599580068  0.008458   \n",
       "28787123 2020-07-08      1658289241058394   877773001  0.007610   \n",
       "28788562 2020-07-08      3828854365940846   507883009  0.013542   \n",
       "28744235 2020-07-08      4195624216542755   817417005  0.022864   \n",
       "28753719 2020-07-08      4233235614030232   876986001  0.030492   \n",
       "...             ...                   ...         ...       ...   \n",
       "31521960 2020-09-15  18439897732908966680   794321007  0.061000   \n",
       "31531712 2020-09-15  18444276791873187543   867969008  0.033881   \n",
       "31539937 2020-09-15  18444799607866739422   909721003  0.042356   \n",
       "31543799 2020-09-15  18446250046654386343   869872006  0.033881   \n",
       "31536744 2020-09-15  18446630855572834764   568601045  0.050831   \n",
       "\n",
       "          sales_channel_id  week  \n",
       "28777300                 1    94  \n",
       "28787123                 1    94  \n",
       "28788562                 1    94  \n",
       "28744235                 1    94  \n",
       "28753719                 2    94  \n",
       "...                    ...   ...  \n",
       "31521960                 2   103  \n",
       "31531712                 2   103  \n",
       "31539937                 2   103  \n",
       "31543799                 1   103  \n",
       "31536744                 2   103  \n",
       "\n",
       "[762722 rows x 6 columns]"
      ]
     },
     "execution_count": 27,
     "metadata": {},
     "output_type": "execute_result"
    }
   ],
   "source": [
    "transactions.drop_duplicates(['week', 'customer_id'])"
   ]
  },
  {
   "cell_type": "code",
   "execution_count": 28,
   "id": "5affa708",
   "metadata": {
    "execution": {
     "iopub.execute_input": "2022-04-28T21:14:32.282497Z",
     "iopub.status.busy": "2022-04-28T21:14:32.281726Z",
     "iopub.status.idle": "2022-04-28T21:14:32.884243Z",
     "shell.execute_reply": "2022-04-28T21:14:32.883577Z"
    },
    "papermill": {
     "duration": 0.671372,
     "end_time": "2022-04-28T21:14:32.886574",
     "exception": false,
     "start_time": "2022-04-28T21:14:32.215202",
     "status": "completed"
    },
    "tags": []
   },
   "outputs": [],
   "source": [
    "candidates_bestsellers = pd.merge(\n",
    "    unique_transactions,\n",
    "    bestsellers_previous_week,\n",
    "    on='week',\n",
    ")"
   ]
  },
  {
   "cell_type": "code",
   "execution_count": 29,
   "id": "88effabc",
   "metadata": {
    "execution": {
     "iopub.execute_input": "2022-04-28T21:14:33.026738Z",
     "iopub.status.busy": "2022-04-28T21:14:33.025656Z",
     "iopub.status.idle": "2022-04-28T21:14:33.135339Z",
     "shell.execute_reply": "2022-04-28T21:14:33.133946Z"
    },
    "papermill": {
     "duration": 0.186337,
     "end_time": "2022-04-28T21:14:33.137781",
     "exception": false,
     "start_time": "2022-04-28T21:14:32.951444",
     "status": "completed"
    },
    "tags": []
   },
   "outputs": [],
   "source": [
    "test_set_transactions = unique_transactions.drop_duplicates('customer_id').reset_index(drop=True)\n",
    "test_set_transactions.week = test_week"
   ]
  },
  {
   "cell_type": "code",
   "execution_count": 30,
   "id": "40018bb8",
   "metadata": {
    "execution": {
     "iopub.execute_input": "2022-04-28T21:14:33.274291Z",
     "iopub.status.busy": "2022-04-28T21:14:33.273968Z",
     "iopub.status.idle": "2022-04-28T21:14:33.286565Z",
     "shell.execute_reply": "2022-04-28T21:14:33.285861Z"
    },
    "papermill": {
     "duration": 0.082464,
     "end_time": "2022-04-28T21:14:33.288738",
     "exception": false,
     "start_time": "2022-04-28T21:14:33.206274",
     "status": "completed"
    },
    "tags": []
   },
   "outputs": [
    {
     "data": {
      "text/html": [
       "<div>\n",
       "<style scoped>\n",
       "    .dataframe tbody tr th:only-of-type {\n",
       "        vertical-align: middle;\n",
       "    }\n",
       "\n",
       "    .dataframe tbody tr th {\n",
       "        vertical-align: top;\n",
       "    }\n",
       "\n",
       "    .dataframe thead th {\n",
       "        text-align: right;\n",
       "    }\n",
       "</style>\n",
       "<table border=\"1\" class=\"dataframe\">\n",
       "  <thead>\n",
       "    <tr style=\"text-align: right;\">\n",
       "      <th></th>\n",
       "      <th>t_dat</th>\n",
       "      <th>customer_id</th>\n",
       "      <th>sales_channel_id</th>\n",
       "      <th>week</th>\n",
       "    </tr>\n",
       "  </thead>\n",
       "  <tbody>\n",
       "    <tr>\n",
       "      <th>0</th>\n",
       "      <td>2020-07-08</td>\n",
       "      <td>857913002275398</td>\n",
       "      <td>1</td>\n",
       "      <td>104</td>\n",
       "    </tr>\n",
       "    <tr>\n",
       "      <th>1</th>\n",
       "      <td>2020-07-08</td>\n",
       "      <td>1658289241058394</td>\n",
       "      <td>1</td>\n",
       "      <td>104</td>\n",
       "    </tr>\n",
       "    <tr>\n",
       "      <th>2</th>\n",
       "      <td>2020-07-08</td>\n",
       "      <td>3828854365940846</td>\n",
       "      <td>1</td>\n",
       "      <td>104</td>\n",
       "    </tr>\n",
       "    <tr>\n",
       "      <th>3</th>\n",
       "      <td>2020-07-08</td>\n",
       "      <td>4195624216542755</td>\n",
       "      <td>1</td>\n",
       "      <td>104</td>\n",
       "    </tr>\n",
       "    <tr>\n",
       "      <th>4</th>\n",
       "      <td>2020-07-08</td>\n",
       "      <td>4233235614030232</td>\n",
       "      <td>2</td>\n",
       "      <td>104</td>\n",
       "    </tr>\n",
       "    <tr>\n",
       "      <th>...</th>\n",
       "      <td>...</td>\n",
       "      <td>...</td>\n",
       "      <td>...</td>\n",
       "      <td>...</td>\n",
       "    </tr>\n",
       "    <tr>\n",
       "      <th>439363</th>\n",
       "      <td>2020-09-15</td>\n",
       "      <td>18431808737044686839</td>\n",
       "      <td>1</td>\n",
       "      <td>104</td>\n",
       "    </tr>\n",
       "    <tr>\n",
       "      <th>439364</th>\n",
       "      <td>2020-09-15</td>\n",
       "      <td>18436707407200418746</td>\n",
       "      <td>2</td>\n",
       "      <td>104</td>\n",
       "    </tr>\n",
       "    <tr>\n",
       "      <th>439365</th>\n",
       "      <td>2020-09-15</td>\n",
       "      <td>18439897732908966680</td>\n",
       "      <td>2</td>\n",
       "      <td>104</td>\n",
       "    </tr>\n",
       "    <tr>\n",
       "      <th>439366</th>\n",
       "      <td>2020-09-15</td>\n",
       "      <td>18446250046654386343</td>\n",
       "      <td>1</td>\n",
       "      <td>104</td>\n",
       "    </tr>\n",
       "    <tr>\n",
       "      <th>439367</th>\n",
       "      <td>2020-09-15</td>\n",
       "      <td>18446630855572834764</td>\n",
       "      <td>2</td>\n",
       "      <td>104</td>\n",
       "    </tr>\n",
       "  </tbody>\n",
       "</table>\n",
       "<p>439368 rows × 4 columns</p>\n",
       "</div>"
      ],
      "text/plain": [
       "            t_dat           customer_id  sales_channel_id  week\n",
       "0      2020-07-08       857913002275398                 1   104\n",
       "1      2020-07-08      1658289241058394                 1   104\n",
       "2      2020-07-08      3828854365940846                 1   104\n",
       "3      2020-07-08      4195624216542755                 1   104\n",
       "4      2020-07-08      4233235614030232                 2   104\n",
       "...           ...                   ...               ...   ...\n",
       "439363 2020-09-15  18431808737044686839                 1   104\n",
       "439364 2020-09-15  18436707407200418746                 2   104\n",
       "439365 2020-09-15  18439897732908966680                 2   104\n",
       "439366 2020-09-15  18446250046654386343                 1   104\n",
       "439367 2020-09-15  18446630855572834764                 2   104\n",
       "\n",
       "[439368 rows x 4 columns]"
      ]
     },
     "execution_count": 30,
     "metadata": {},
     "output_type": "execute_result"
    }
   ],
   "source": [
    "test_set_transactions"
   ]
  },
  {
   "cell_type": "code",
   "execution_count": 31,
   "id": "fa9eb2e5",
   "metadata": {
    "execution": {
     "iopub.execute_input": "2022-04-28T21:14:33.422216Z",
     "iopub.status.busy": "2022-04-28T21:14:33.421898Z",
     "iopub.status.idle": "2022-04-28T21:14:33.789240Z",
     "shell.execute_reply": "2022-04-28T21:14:33.788418Z"
    },
    "papermill": {
     "duration": 0.437191,
     "end_time": "2022-04-28T21:14:33.791702",
     "exception": false,
     "start_time": "2022-04-28T21:14:33.354511",
     "status": "completed"
    },
    "tags": []
   },
   "outputs": [],
   "source": [
    "candidates_bestsellers_test_week = pd.merge(\n",
    "    test_set_transactions,\n",
    "    bestsellers_previous_week,\n",
    "    on='week'\n",
    ")"
   ]
  },
  {
   "cell_type": "code",
   "execution_count": 32,
   "id": "59787748",
   "metadata": {
    "execution": {
     "iopub.execute_input": "2022-04-28T21:14:33.926882Z",
     "iopub.status.busy": "2022-04-28T21:14:33.926462Z",
     "iopub.status.idle": "2022-04-28T21:14:34.566085Z",
     "shell.execute_reply": "2022-04-28T21:14:34.565291Z"
    },
    "papermill": {
     "duration": 0.709125,
     "end_time": "2022-04-28T21:14:34.568447",
     "exception": false,
     "start_time": "2022-04-28T21:14:33.859322",
     "status": "completed"
    },
    "tags": []
   },
   "outputs": [],
   "source": [
    "candidates_bestsellers = pd.concat([candidates_bestsellers, candidates_bestsellers_test_week])\n",
    "candidates_bestsellers.drop(columns='bestseller_rank', inplace=True)"
   ]
  },
  {
   "cell_type": "code",
   "execution_count": 33,
   "id": "4ff84b75",
   "metadata": {
    "execution": {
     "iopub.execute_input": "2022-04-28T21:14:34.702467Z",
     "iopub.status.busy": "2022-04-28T21:14:34.701998Z",
     "iopub.status.idle": "2022-04-28T21:14:34.717927Z",
     "shell.execute_reply": "2022-04-28T21:14:34.717089Z"
    },
    "papermill": {
     "duration": 0.085387,
     "end_time": "2022-04-28T21:14:34.719967",
     "exception": false,
     "start_time": "2022-04-28T21:14:34.634580",
     "status": "completed"
    },
    "tags": []
   },
   "outputs": [
    {
     "data": {
      "text/html": [
       "<div>\n",
       "<style scoped>\n",
       "    .dataframe tbody tr th:only-of-type {\n",
       "        vertical-align: middle;\n",
       "    }\n",
       "\n",
       "    .dataframe tbody tr th {\n",
       "        vertical-align: top;\n",
       "    }\n",
       "\n",
       "    .dataframe thead th {\n",
       "        text-align: right;\n",
       "    }\n",
       "</style>\n",
       "<table border=\"1\" class=\"dataframe\">\n",
       "  <thead>\n",
       "    <tr style=\"text-align: right;\">\n",
       "      <th></th>\n",
       "      <th>t_dat</th>\n",
       "      <th>customer_id</th>\n",
       "      <th>sales_channel_id</th>\n",
       "      <th>week</th>\n",
       "      <th>article_id</th>\n",
       "      <th>price</th>\n",
       "    </tr>\n",
       "  </thead>\n",
       "  <tbody>\n",
       "    <tr>\n",
       "      <th>0</th>\n",
       "      <td>2020-07-15</td>\n",
       "      <td>272412481300040</td>\n",
       "      <td>1</td>\n",
       "      <td>95</td>\n",
       "      <td>806388001</td>\n",
       "      <td>0.013301</td>\n",
       "    </tr>\n",
       "    <tr>\n",
       "      <th>1</th>\n",
       "      <td>2020-07-15</td>\n",
       "      <td>272412481300040</td>\n",
       "      <td>1</td>\n",
       "      <td>95</td>\n",
       "      <td>730683021</td>\n",
       "      <td>0.025643</td>\n",
       "    </tr>\n",
       "    <tr>\n",
       "      <th>2</th>\n",
       "      <td>2020-07-15</td>\n",
       "      <td>272412481300040</td>\n",
       "      <td>1</td>\n",
       "      <td>95</td>\n",
       "      <td>610776002</td>\n",
       "      <td>0.008303</td>\n",
       "    </tr>\n",
       "    <tr>\n",
       "      <th>3</th>\n",
       "      <td>2020-07-15</td>\n",
       "      <td>272412481300040</td>\n",
       "      <td>1</td>\n",
       "      <td>95</td>\n",
       "      <td>805308002</td>\n",
       "      <td>0.013609</td>\n",
       "    </tr>\n",
       "    <tr>\n",
       "      <th>4</th>\n",
       "      <td>2020-07-15</td>\n",
       "      <td>272412481300040</td>\n",
       "      <td>1</td>\n",
       "      <td>95</td>\n",
       "      <td>866383006</td>\n",
       "      <td>0.024971</td>\n",
       "    </tr>\n",
       "    <tr>\n",
       "      <th>...</th>\n",
       "      <td>...</td>\n",
       "      <td>...</td>\n",
       "      <td>...</td>\n",
       "      <td>...</td>\n",
       "      <td>...</td>\n",
       "      <td>...</td>\n",
       "    </tr>\n",
       "    <tr>\n",
       "      <th>5272411</th>\n",
       "      <td>2020-09-15</td>\n",
       "      <td>18446630855572834764</td>\n",
       "      <td>2</td>\n",
       "      <td>104</td>\n",
       "      <td>918292001</td>\n",
       "      <td>0.041424</td>\n",
       "    </tr>\n",
       "    <tr>\n",
       "      <th>5272412</th>\n",
       "      <td>2020-09-15</td>\n",
       "      <td>18446630855572834764</td>\n",
       "      <td>2</td>\n",
       "      <td>104</td>\n",
       "      <td>762846027</td>\n",
       "      <td>0.025104</td>\n",
       "    </tr>\n",
       "    <tr>\n",
       "      <th>5272413</th>\n",
       "      <td>2020-09-15</td>\n",
       "      <td>18446630855572834764</td>\n",
       "      <td>2</td>\n",
       "      <td>104</td>\n",
       "      <td>809238005</td>\n",
       "      <td>0.041656</td>\n",
       "    </tr>\n",
       "    <tr>\n",
       "      <th>5272414</th>\n",
       "      <td>2020-09-15</td>\n",
       "      <td>18446630855572834764</td>\n",
       "      <td>2</td>\n",
       "      <td>104</td>\n",
       "      <td>673677002</td>\n",
       "      <td>0.024925</td>\n",
       "    </tr>\n",
       "    <tr>\n",
       "      <th>5272415</th>\n",
       "      <td>2020-09-15</td>\n",
       "      <td>18446630855572834764</td>\n",
       "      <td>2</td>\n",
       "      <td>104</td>\n",
       "      <td>923758001</td>\n",
       "      <td>0.033478</td>\n",
       "    </tr>\n",
       "  </tbody>\n",
       "</table>\n",
       "<p>13513128 rows × 6 columns</p>\n",
       "</div>"
      ],
      "text/plain": [
       "             t_dat           customer_id  sales_channel_id  week  article_id  \\\n",
       "0       2020-07-15       272412481300040                 1    95   806388001   \n",
       "1       2020-07-15       272412481300040                 1    95   730683021   \n",
       "2       2020-07-15       272412481300040                 1    95   610776002   \n",
       "3       2020-07-15       272412481300040                 1    95   805308002   \n",
       "4       2020-07-15       272412481300040                 1    95   866383006   \n",
       "...            ...                   ...               ...   ...         ...   \n",
       "5272411 2020-09-15  18446630855572834764                 2   104   918292001   \n",
       "5272412 2020-09-15  18446630855572834764                 2   104   762846027   \n",
       "5272413 2020-09-15  18446630855572834764                 2   104   809238005   \n",
       "5272414 2020-09-15  18446630855572834764                 2   104   673677002   \n",
       "5272415 2020-09-15  18446630855572834764                 2   104   923758001   \n",
       "\n",
       "            price  \n",
       "0        0.013301  \n",
       "1        0.025643  \n",
       "2        0.008303  \n",
       "3        0.013609  \n",
       "4        0.024971  \n",
       "...           ...  \n",
       "5272411  0.041424  \n",
       "5272412  0.025104  \n",
       "5272413  0.041656  \n",
       "5272414  0.024925  \n",
       "5272415  0.033478  \n",
       "\n",
       "[13513128 rows x 6 columns]"
      ]
     },
     "execution_count": 33,
     "metadata": {},
     "output_type": "execute_result"
    }
   ],
   "source": [
    "candidates_bestsellers"
   ]
  },
  {
   "cell_type": "markdown",
   "id": "b3784eed",
   "metadata": {
    "papermill": {
     "duration": 0.0665,
     "end_time": "2022-04-28T21:14:34.853767",
     "exception": false,
     "start_time": "2022-04-28T21:14:34.787267",
     "status": "completed"
    },
    "tags": []
   },
   "source": [
    "# Combining transactions and candidates / negative examples"
   ]
  },
  {
   "cell_type": "code",
   "execution_count": 34,
   "id": "d53e6056",
   "metadata": {
    "execution": {
     "iopub.execute_input": "2022-04-28T21:14:34.990109Z",
     "iopub.status.busy": "2022-04-28T21:14:34.989811Z",
     "iopub.status.idle": "2022-04-28T21:14:35.000405Z",
     "shell.execute_reply": "2022-04-28T21:14:34.999483Z"
    },
    "papermill": {
     "duration": 0.082902,
     "end_time": "2022-04-28T21:14:35.002922",
     "exception": false,
     "start_time": "2022-04-28T21:14:34.920020",
     "status": "completed"
    },
    "tags": []
   },
   "outputs": [],
   "source": [
    "transactions['purchased'] = 1"
   ]
  },
  {
   "cell_type": "code",
   "execution_count": 35,
   "id": "e63f687d",
   "metadata": {
    "execution": {
     "iopub.execute_input": "2022-04-28T21:14:35.140014Z",
     "iopub.status.busy": "2022-04-28T21:14:35.139670Z",
     "iopub.status.idle": "2022-04-28T21:14:35.559306Z",
     "shell.execute_reply": "2022-04-28T21:14:35.558407Z"
    },
    "papermill": {
     "duration": 0.49064,
     "end_time": "2022-04-28T21:14:35.561769",
     "exception": false,
     "start_time": "2022-04-28T21:14:35.071129",
     "status": "completed"
    },
    "tags": []
   },
   "outputs": [],
   "source": [
    "data = pd.concat([transactions, candidates_last_purchase, candidates_bestsellers])\n",
    "data.purchased.fillna(0, inplace=True)"
   ]
  },
  {
   "cell_type": "code",
   "execution_count": 36,
   "id": "8580ebfa",
   "metadata": {
    "execution": {
     "iopub.execute_input": "2022-04-28T21:14:35.699844Z",
     "iopub.status.busy": "2022-04-28T21:14:35.699555Z",
     "iopub.status.idle": "2022-04-28T21:14:35.715845Z",
     "shell.execute_reply": "2022-04-28T21:14:35.715179Z"
    },
    "papermill": {
     "duration": 0.086797,
     "end_time": "2022-04-28T21:14:35.717920",
     "exception": false,
     "start_time": "2022-04-28T21:14:35.631123",
     "status": "completed"
    },
    "tags": []
   },
   "outputs": [
    {
     "data": {
      "text/html": [
       "<div>\n",
       "<style scoped>\n",
       "    .dataframe tbody tr th:only-of-type {\n",
       "        vertical-align: middle;\n",
       "    }\n",
       "\n",
       "    .dataframe tbody tr th {\n",
       "        vertical-align: top;\n",
       "    }\n",
       "\n",
       "    .dataframe thead th {\n",
       "        text-align: right;\n",
       "    }\n",
       "</style>\n",
       "<table border=\"1\" class=\"dataframe\">\n",
       "  <thead>\n",
       "    <tr style=\"text-align: right;\">\n",
       "      <th></th>\n",
       "      <th>t_dat</th>\n",
       "      <th>customer_id</th>\n",
       "      <th>article_id</th>\n",
       "      <th>price</th>\n",
       "      <th>sales_channel_id</th>\n",
       "      <th>week</th>\n",
       "      <th>purchased</th>\n",
       "    </tr>\n",
       "  </thead>\n",
       "  <tbody>\n",
       "    <tr>\n",
       "      <th>28777300</th>\n",
       "      <td>2020-07-08</td>\n",
       "      <td>857913002275398</td>\n",
       "      <td>599580068</td>\n",
       "      <td>0.008458</td>\n",
       "      <td>1</td>\n",
       "      <td>94</td>\n",
       "      <td>1.0</td>\n",
       "    </tr>\n",
       "    <tr>\n",
       "      <th>28777301</th>\n",
       "      <td>2020-07-08</td>\n",
       "      <td>857913002275398</td>\n",
       "      <td>776237011</td>\n",
       "      <td>0.025407</td>\n",
       "      <td>1</td>\n",
       "      <td>94</td>\n",
       "      <td>1.0</td>\n",
       "    </tr>\n",
       "    <tr>\n",
       "      <th>28777302</th>\n",
       "      <td>2020-07-08</td>\n",
       "      <td>857913002275398</td>\n",
       "      <td>844294001</td>\n",
       "      <td>0.011847</td>\n",
       "      <td>1</td>\n",
       "      <td>94</td>\n",
       "      <td>1.0</td>\n",
       "    </tr>\n",
       "    <tr>\n",
       "      <th>28787123</th>\n",
       "      <td>2020-07-08</td>\n",
       "      <td>1658289241058394</td>\n",
       "      <td>877773001</td>\n",
       "      <td>0.007610</td>\n",
       "      <td>1</td>\n",
       "      <td>94</td>\n",
       "      <td>1.0</td>\n",
       "    </tr>\n",
       "    <tr>\n",
       "      <th>28788562</th>\n",
       "      <td>2020-07-08</td>\n",
       "      <td>3828854365940846</td>\n",
       "      <td>507883009</td>\n",
       "      <td>0.013542</td>\n",
       "      <td>1</td>\n",
       "      <td>94</td>\n",
       "      <td>1.0</td>\n",
       "    </tr>\n",
       "    <tr>\n",
       "      <th>...</th>\n",
       "      <td>...</td>\n",
       "      <td>...</td>\n",
       "      <td>...</td>\n",
       "      <td>...</td>\n",
       "      <td>...</td>\n",
       "      <td>...</td>\n",
       "      <td>...</td>\n",
       "    </tr>\n",
       "    <tr>\n",
       "      <th>5272411</th>\n",
       "      <td>2020-09-15</td>\n",
       "      <td>18446630855572834764</td>\n",
       "      <td>918292001</td>\n",
       "      <td>0.041424</td>\n",
       "      <td>2</td>\n",
       "      <td>104</td>\n",
       "      <td>0.0</td>\n",
       "    </tr>\n",
       "    <tr>\n",
       "      <th>5272412</th>\n",
       "      <td>2020-09-15</td>\n",
       "      <td>18446630855572834764</td>\n",
       "      <td>762846027</td>\n",
       "      <td>0.025104</td>\n",
       "      <td>2</td>\n",
       "      <td>104</td>\n",
       "      <td>0.0</td>\n",
       "    </tr>\n",
       "    <tr>\n",
       "      <th>5272413</th>\n",
       "      <td>2020-09-15</td>\n",
       "      <td>18446630855572834764</td>\n",
       "      <td>809238005</td>\n",
       "      <td>0.041656</td>\n",
       "      <td>2</td>\n",
       "      <td>104</td>\n",
       "      <td>0.0</td>\n",
       "    </tr>\n",
       "    <tr>\n",
       "      <th>5272414</th>\n",
       "      <td>2020-09-15</td>\n",
       "      <td>18446630855572834764</td>\n",
       "      <td>673677002</td>\n",
       "      <td>0.024925</td>\n",
       "      <td>2</td>\n",
       "      <td>104</td>\n",
       "      <td>0.0</td>\n",
       "    </tr>\n",
       "    <tr>\n",
       "      <th>5272415</th>\n",
       "      <td>2020-09-15</td>\n",
       "      <td>18446630855572834764</td>\n",
       "      <td>923758001</td>\n",
       "      <td>0.033478</td>\n",
       "      <td>2</td>\n",
       "      <td>104</td>\n",
       "      <td>0.0</td>\n",
       "    </tr>\n",
       "  </tbody>\n",
       "</table>\n",
       "<p>19131594 rows × 7 columns</p>\n",
       "</div>"
      ],
      "text/plain": [
       "              t_dat           customer_id  article_id     price  \\\n",
       "28777300 2020-07-08       857913002275398   599580068  0.008458   \n",
       "28777301 2020-07-08       857913002275398   776237011  0.025407   \n",
       "28777302 2020-07-08       857913002275398   844294001  0.011847   \n",
       "28787123 2020-07-08      1658289241058394   877773001  0.007610   \n",
       "28788562 2020-07-08      3828854365940846   507883009  0.013542   \n",
       "...             ...                   ...         ...       ...   \n",
       "5272411  2020-09-15  18446630855572834764   918292001  0.041424   \n",
       "5272412  2020-09-15  18446630855572834764   762846027  0.025104   \n",
       "5272413  2020-09-15  18446630855572834764   809238005  0.041656   \n",
       "5272414  2020-09-15  18446630855572834764   673677002  0.024925   \n",
       "5272415  2020-09-15  18446630855572834764   923758001  0.033478   \n",
       "\n",
       "          sales_channel_id  week  purchased  \n",
       "28777300                 1    94        1.0  \n",
       "28777301                 1    94        1.0  \n",
       "28777302                 1    94        1.0  \n",
       "28787123                 1    94        1.0  \n",
       "28788562                 1    94        1.0  \n",
       "...                    ...   ...        ...  \n",
       "5272411                  2   104        0.0  \n",
       "5272412                  2   104        0.0  \n",
       "5272413                  2   104        0.0  \n",
       "5272414                  2   104        0.0  \n",
       "5272415                  2   104        0.0  \n",
       "\n",
       "[19131594 rows x 7 columns]"
      ]
     },
     "execution_count": 36,
     "metadata": {},
     "output_type": "execute_result"
    }
   ],
   "source": [
    "data"
   ]
  },
  {
   "cell_type": "code",
   "execution_count": 37,
   "id": "8a7da374",
   "metadata": {
    "execution": {
     "iopub.execute_input": "2022-04-28T21:14:35.856448Z",
     "iopub.status.busy": "2022-04-28T21:14:35.856002Z",
     "iopub.status.idle": "2022-04-28T21:14:41.583029Z",
     "shell.execute_reply": "2022-04-28T21:14:41.582157Z"
    },
    "papermill": {
     "duration": 5.799597,
     "end_time": "2022-04-28T21:14:41.585454",
     "exception": false,
     "start_time": "2022-04-28T21:14:35.785857",
     "status": "completed"
    },
    "tags": []
   },
   "outputs": [],
   "source": [
    "data.drop_duplicates(['customer_id', 'article_id', 'week'], inplace=True)"
   ]
  },
  {
   "cell_type": "code",
   "execution_count": 38,
   "id": "cabd0ac6",
   "metadata": {
    "execution": {
     "iopub.execute_input": "2022-04-28T21:14:41.720336Z",
     "iopub.status.busy": "2022-04-28T21:14:41.719687Z",
     "iopub.status.idle": "2022-04-28T21:14:41.725585Z",
     "shell.execute_reply": "2022-04-28T21:14:41.724841Z"
    },
    "papermill": {
     "duration": 0.075379,
     "end_time": "2022-04-28T21:14:41.727377",
     "exception": false,
     "start_time": "2022-04-28T21:14:41.651998",
     "status": "completed"
    },
    "tags": []
   },
   "outputs": [
    {
     "data": {
      "text/plain": [
       "(18475436, 7)"
      ]
     },
     "execution_count": 38,
     "metadata": {},
     "output_type": "execute_result"
    }
   ],
   "source": [
    "data.shape"
   ]
  },
  {
   "cell_type": "code",
   "execution_count": 39,
   "id": "90df8109",
   "metadata": {
    "execution": {
     "iopub.execute_input": "2022-04-28T21:14:41.865668Z",
     "iopub.status.busy": "2022-04-28T21:14:41.865230Z",
     "iopub.status.idle": "2022-04-28T21:14:41.921242Z",
     "shell.execute_reply": "2022-04-28T21:14:41.920382Z"
    },
    "papermill": {
     "duration": 0.12908,
     "end_time": "2022-04-28T21:14:41.923530",
     "exception": false,
     "start_time": "2022-04-28T21:14:41.794450",
     "status": "completed"
    },
    "tags": []
   },
   "outputs": [
    {
     "data": {
      "text/plain": [
       "0.1369278646522875"
      ]
     },
     "execution_count": 39,
     "metadata": {},
     "output_type": "execute_result"
    }
   ],
   "source": [
    "data.purchased.mean()"
   ]
  },
  {
   "cell_type": "markdown",
   "id": "a92c3e95",
   "metadata": {
    "papermill": {
     "duration": 0.069322,
     "end_time": "2022-04-28T21:14:42.065988",
     "exception": false,
     "start_time": "2022-04-28T21:14:41.996666",
     "status": "completed"
    },
    "tags": []
   },
   "source": [
    "### Add bestseller information"
   ]
  },
  {
   "cell_type": "code",
   "execution_count": 40,
   "id": "1c4b0385",
   "metadata": {
    "execution": {
     "iopub.execute_input": "2022-04-28T21:14:42.202198Z",
     "iopub.status.busy": "2022-04-28T21:14:42.201894Z",
     "iopub.status.idle": "2022-04-28T21:14:45.551449Z",
     "shell.execute_reply": "2022-04-28T21:14:45.550488Z"
    },
    "papermill": {
     "duration": 3.420369,
     "end_time": "2022-04-28T21:14:45.553818",
     "exception": false,
     "start_time": "2022-04-28T21:14:42.133449",
     "status": "completed"
    },
    "tags": []
   },
   "outputs": [],
   "source": [
    "data = pd.merge(\n",
    "    data,\n",
    "    bestsellers_previous_week[['week', 'article_id', 'bestseller_rank']],\n",
    "    on=['week', 'article_id'],\n",
    "    how='left'\n",
    ")"
   ]
  },
  {
   "cell_type": "code",
   "execution_count": 41,
   "id": "6820c38d",
   "metadata": {
    "execution": {
     "iopub.execute_input": "2022-04-28T21:14:45.693404Z",
     "iopub.status.busy": "2022-04-28T21:14:45.692554Z",
     "iopub.status.idle": "2022-04-28T21:14:47.142041Z",
     "shell.execute_reply": "2022-04-28T21:14:47.140669Z"
    },
    "papermill": {
     "duration": 1.522894,
     "end_time": "2022-04-28T21:14:47.144664",
     "exception": false,
     "start_time": "2022-04-28T21:14:45.621770",
     "status": "completed"
    },
    "tags": []
   },
   "outputs": [],
   "source": [
    "data = data[data.week != data.week.min()]\n",
    "data.bestseller_rank.fillna(999, inplace=True)"
   ]
  },
  {
   "cell_type": "code",
   "execution_count": 42,
   "id": "ab15e6c1",
   "metadata": {
    "execution": {
     "iopub.execute_input": "2022-04-28T21:14:47.290112Z",
     "iopub.status.busy": "2022-04-28T21:14:47.289781Z",
     "iopub.status.idle": "2022-04-28T21:15:06.666729Z",
     "shell.execute_reply": "2022-04-28T21:15:06.665725Z"
    },
    "papermill": {
     "duration": 19.450986,
     "end_time": "2022-04-28T21:15:06.669507",
     "exception": false,
     "start_time": "2022-04-28T21:14:47.218521",
     "status": "completed"
    },
    "tags": []
   },
   "outputs": [],
   "source": [
    "data = pd.merge(data, articles, on='article_id', how='left')\n",
    "data = pd.merge(data, customers, on='customer_id', how='left')"
   ]
  },
  {
   "cell_type": "code",
   "execution_count": 43,
   "id": "cb622b1f",
   "metadata": {
    "execution": {
     "iopub.execute_input": "2022-04-28T21:15:06.812250Z",
     "iopub.status.busy": "2022-04-28T21:15:06.811920Z",
     "iopub.status.idle": "2022-04-28T21:15:12.678076Z",
     "shell.execute_reply": "2022-04-28T21:15:12.677169Z"
    },
    "papermill": {
     "duration": 5.938085,
     "end_time": "2022-04-28T21:15:12.680466",
     "exception": false,
     "start_time": "2022-04-28T21:15:06.742381",
     "status": "completed"
    },
    "tags": []
   },
   "outputs": [],
   "source": [
    "data.sort_values(['week', 'customer_id'], inplace=True)\n",
    "data.reset_index(drop=True, inplace=True)"
   ]
  },
  {
   "cell_type": "code",
   "execution_count": 44,
   "id": "08b11de1",
   "metadata": {
    "execution": {
     "iopub.execute_input": "2022-04-28T21:15:12.820601Z",
     "iopub.status.busy": "2022-04-28T21:15:12.820054Z",
     "iopub.status.idle": "2022-04-28T21:15:18.865695Z",
     "shell.execute_reply": "2022-04-28T21:15:18.864891Z"
    },
    "papermill": {
     "duration": 6.11695,
     "end_time": "2022-04-28T21:15:18.868004",
     "exception": false,
     "start_time": "2022-04-28T21:15:12.751054",
     "status": "completed"
    },
    "tags": []
   },
   "outputs": [],
   "source": [
    "train = data[data.week != test_week]\n",
    "test = data[data.week==test_week].drop_duplicates(['customer_id', 'article_id', 'sales_channel_id']).copy()"
   ]
  },
  {
   "cell_type": "code",
   "execution_count": 45,
   "id": "1310b2fa",
   "metadata": {
    "execution": {
     "iopub.execute_input": "2022-04-28T21:15:19.006670Z",
     "iopub.status.busy": "2022-04-28T21:15:19.006344Z",
     "iopub.status.idle": "2022-04-28T21:15:19.937036Z",
     "shell.execute_reply": "2022-04-28T21:15:19.936142Z"
    },
    "papermill": {
     "duration": 1.00162,
     "end_time": "2022-04-28T21:15:19.939462",
     "exception": false,
     "start_time": "2022-04-28T21:15:18.937842",
     "status": "completed"
    },
    "tags": []
   },
   "outputs": [],
   "source": [
    "train_baskets = train.groupby(['week', 'customer_id'])['article_id'].count().values"
   ]
  },
  {
   "cell_type": "code",
   "execution_count": 46,
   "id": "b41cbf04",
   "metadata": {
    "execution": {
     "iopub.execute_input": "2022-04-28T21:15:20.080716Z",
     "iopub.status.busy": "2022-04-28T21:15:20.080080Z",
     "iopub.status.idle": "2022-04-28T21:15:20.084783Z",
     "shell.execute_reply": "2022-04-28T21:15:20.084134Z"
    },
    "papermill": {
     "duration": 0.07786,
     "end_time": "2022-04-28T21:15:20.086651",
     "exception": false,
     "start_time": "2022-04-28T21:15:20.008791",
     "status": "completed"
    },
    "tags": []
   },
   "outputs": [],
   "source": [
    "columns_to_use = ['article_id', 'product_type_no', 'graphical_appearance_no', 'colour_group_code', 'perceived_colour_value_id',\n",
    "'perceived_colour_master_id', 'department_no', 'index_code',\n",
    "'index_group_no', 'section_no', 'garment_group_no', 'FN', 'Active',\n",
    "'club_member_status', 'fashion_news_frequency', 'age', 'postal_code', 'bestseller_rank']"
   ]
  },
  {
   "cell_type": "code",
   "execution_count": 47,
   "id": "7032527f",
   "metadata": {
    "execution": {
     "iopub.execute_input": "2022-04-28T21:15:20.228583Z",
     "iopub.status.busy": "2022-04-28T21:15:20.228064Z",
     "iopub.status.idle": "2022-04-28T21:15:20.791287Z",
     "shell.execute_reply": "2022-04-28T21:15:20.789629Z"
    },
    "papermill": {
     "duration": 0.635894,
     "end_time": "2022-04-28T21:15:20.793748",
     "exception": false,
     "start_time": "2022-04-28T21:15:20.157854",
     "status": "completed"
    },
    "tags": []
   },
   "outputs": [
    {
     "name": "stdout",
     "output_type": "stream",
     "text": [
      "CPU times: user 338 ms, sys: 221 ms, total: 559 ms\n",
      "Wall time: 556 ms\n"
     ]
    }
   ],
   "source": [
    "%%time\n",
    "\n",
    "train_X = train[columns_to_use]\n",
    "train_y = train['purchased']\n",
    "\n",
    "test_X = test[columns_to_use]"
   ]
  },
  {
   "cell_type": "markdown",
   "id": "b369a07b",
   "metadata": {
    "papermill": {
     "duration": 0.070441,
     "end_time": "2022-04-28T21:15:20.933818",
     "exception": false,
     "start_time": "2022-04-28T21:15:20.863377",
     "status": "completed"
    },
    "tags": []
   },
   "source": [
    "# Model training"
   ]
  },
  {
   "cell_type": "code",
   "execution_count": 48,
   "id": "ecb66cbe",
   "metadata": {
    "execution": {
     "iopub.execute_input": "2022-04-28T21:15:21.076192Z",
     "iopub.status.busy": "2022-04-28T21:15:21.075909Z",
     "iopub.status.idle": "2022-04-28T21:15:22.071856Z",
     "shell.execute_reply": "2022-04-28T21:15:22.070938Z"
    },
    "papermill": {
     "duration": 1.070787,
     "end_time": "2022-04-28T21:15:22.074267",
     "exception": false,
     "start_time": "2022-04-28T21:15:21.003480",
     "status": "completed"
    },
    "tags": []
   },
   "outputs": [
    {
     "data": {
      "text/html": [
       "<style type='text/css'>\n",
       ".datatable table.frame { margin-bottom: 0; }\n",
       ".datatable table.frame thead { border-bottom: none; }\n",
       ".datatable table.frame tr.coltypes td {  color: #FFFFFF;  line-height: 6px;  padding: 0 0.5em;}\n",
       ".datatable .bool    { background: #DDDD99; }\n",
       ".datatable .object  { background: #565656; }\n",
       ".datatable .int     { background: #5D9E5D; }\n",
       ".datatable .float   { background: #4040CC; }\n",
       ".datatable .str     { background: #CC4040; }\n",
       ".datatable .time    { background: #40CC40; }\n",
       ".datatable .row_index {  background: var(--jp-border-color3);  border-right: 1px solid var(--jp-border-color0);  color: var(--jp-ui-font-color3);  font-size: 9px;}\n",
       ".datatable .frame tbody td { text-align: left; }\n",
       ".datatable .frame tr.coltypes .row_index {  background: var(--jp-border-color0);}\n",
       ".datatable th:nth-child(2) { padding-left: 12px; }\n",
       ".datatable .hellipsis {  color: var(--jp-cell-editor-border-color);}\n",
       ".datatable .vellipsis {  background: var(--jp-layout-color0);  color: var(--jp-cell-editor-border-color);}\n",
       ".datatable .na {  color: var(--jp-cell-editor-border-color);  font-size: 80%;}\n",
       ".datatable .sp {  opacity: 0.25;}\n",
       ".datatable .footer { font-size: 9px; }\n",
       ".datatable .frame_dimensions {  background: var(--jp-border-color3);  border-top: 1px solid var(--jp-border-color0);  color: var(--jp-ui-font-color3);  display: inline-block;  opacity: 0.6;  padding: 1px 10px 1px 5px;}\n",
       "</style>\n"
      ],
      "text/plain": [
       "<IPython.core.display.HTML object>"
      ]
     },
     "metadata": {},
     "output_type": "display_data"
    }
   ],
   "source": [
    "from lightgbm.sklearn import LGBMRanker"
   ]
  },
  {
   "cell_type": "code",
   "execution_count": 49,
   "id": "f5dc2276",
   "metadata": {
    "execution": {
     "iopub.execute_input": "2022-04-28T21:15:22.216917Z",
     "iopub.status.busy": "2022-04-28T21:15:22.215868Z",
     "iopub.status.idle": "2022-04-28T21:15:22.221183Z",
     "shell.execute_reply": "2022-04-28T21:15:22.220527Z"
    },
    "papermill": {
     "duration": 0.078951,
     "end_time": "2022-04-28T21:15:22.223160",
     "exception": false,
     "start_time": "2022-04-28T21:15:22.144209",
     "status": "completed"
    },
    "tags": []
   },
   "outputs": [],
   "source": [
    "ranker = LGBMRanker(\n",
    "    objective=\"lambdarank\",\n",
    "    metric=\"ndcg\",\n",
    "    boosting_type=\"dart\",\n",
    "    n_estimators=1,\n",
    "    importance_type='gain',\n",
    "    verbose=10\n",
    ")"
   ]
  },
  {
   "cell_type": "code",
   "execution_count": 50,
   "id": "a07027d3",
   "metadata": {
    "execution": {
     "iopub.execute_input": "2022-04-28T21:15:22.363528Z",
     "iopub.status.busy": "2022-04-28T21:15:22.362724Z",
     "iopub.status.idle": "2022-04-28T21:15:31.829031Z",
     "shell.execute_reply": "2022-04-28T21:15:31.828247Z"
    },
    "papermill": {
     "duration": 9.539986,
     "end_time": "2022-04-28T21:15:31.832575",
     "exception": false,
     "start_time": "2022-04-28T21:15:22.292589",
     "status": "completed"
    },
    "tags": []
   },
   "outputs": [
    {
     "name": "stdout",
     "output_type": "stream",
     "text": [
      "[LightGBM] [Debug] Dataset::GetMultiBinFromSparseFeatures: sparse rate 0.844955\n",
      "[LightGBM] [Debug] Dataset::GetMultiBinFromAllFeatures: sparse rate 0.151118\n",
      "[LightGBM] [Debug] init for col-wise cost 0.255483 seconds, init for row-wise cost 1.407858 seconds\n",
      "[LightGBM] [Warning] Auto-choosing row-wise multi-threading, the overhead of testing was 0.626908 seconds.\n",
      "You can set `force_row_wise=true` to remove the overhead.\n",
      "And if memory is not enough, you can set `force_col_wise=true`.\n",
      "[LightGBM] [Debug] Using Dense Multi-Val Bin\n",
      "[LightGBM] [Info] Total Bins 1149\n",
      "[LightGBM] [Info] Number of data points in the train set: 11557594, number of used features: 18\n",
      "[LightGBM] [Debug] Trained a tree with leaves = 31 and depth = 10\n",
      "CPU times: user 27.4 s, sys: 1.66 s, total: 29 s\n",
      "Wall time: 9.46 s\n"
     ]
    }
   ],
   "source": [
    "%%time\n",
    "\n",
    "ranker = ranker.fit(\n",
    "    train_X,\n",
    "    train_y,\n",
    "    group=train_baskets,\n",
    ")"
   ]
  },
  {
   "cell_type": "code",
   "execution_count": 51,
   "id": "6c5569b9",
   "metadata": {
    "execution": {
     "iopub.execute_input": "2022-04-28T21:15:31.979941Z",
     "iopub.status.busy": "2022-04-28T21:15:31.978960Z",
     "iopub.status.idle": "2022-04-28T21:15:31.996535Z",
     "shell.execute_reply": "2022-04-28T21:15:31.995228Z"
    },
    "papermill": {
     "duration": 0.093229,
     "end_time": "2022-04-28T21:15:31.998704",
     "exception": false,
     "start_time": "2022-04-28T21:15:31.905475",
     "status": "completed"
    },
    "tags": []
   },
   "outputs": [
    {
     "name": "stdout",
     "output_type": "stream",
     "text": [
      "bestseller_rank 0.999066481760161\n",
      "article_id 0.00028298358632459234\n",
      "age 0.0002444961714550688\n",
      "garment_group_no 7.157281908016381e-05\n",
      "club_member_status 6.724645263245181e-05\n",
      "postal_code 6.510081422729875e-05\n",
      "product_type_no 6.100419025057176e-05\n",
      "colour_group_code 5.175429599815084e-05\n",
      "department_no 3.6910397657910145e-05\n",
      "Active 2.4511482560733915e-05\n",
      "graphical_appearance_no 1.4670190618276406e-05\n",
      "perceived_colour_value_id 1.3267839033840464e-05\n",
      "fashion_news_frequency 0.0\n",
      "FN 0.0\n",
      "section_no 0.0\n",
      "index_code 0.0\n",
      "perceived_colour_master_id 0.0\n",
      "index_group_no 0.0\n"
     ]
    }
   ],
   "source": [
    "for i in ranker.feature_importances_.argsort()[::-1]:\n",
    "    print(columns_to_use[i], ranker.feature_importances_[i]/ranker.feature_importances_.sum())"
   ]
  },
  {
   "cell_type": "markdown",
   "id": "e8a819d2",
   "metadata": {
    "papermill": {
     "duration": 0.07726,
     "end_time": "2022-04-28T21:15:32.151731",
     "exception": false,
     "start_time": "2022-04-28T21:15:32.074471",
     "status": "completed"
    },
    "tags": []
   },
   "source": [
    "# Calculate predictions"
   ]
  },
  {
   "cell_type": "code",
   "execution_count": 52,
   "id": "6d91a606",
   "metadata": {
    "execution": {
     "iopub.execute_input": "2022-04-28T21:15:32.299125Z",
     "iopub.status.busy": "2022-04-28T21:15:32.298572Z",
     "iopub.status.idle": "2022-04-28T21:15:47.987252Z",
     "shell.execute_reply": "2022-04-28T21:15:47.986154Z"
    },
    "papermill": {
     "duration": 15.764381,
     "end_time": "2022-04-28T21:15:47.989901",
     "exception": false,
     "start_time": "2022-04-28T21:15:32.225520",
     "status": "completed"
    },
    "tags": []
   },
   "outputs": [
    {
     "name": "stdout",
     "output_type": "stream",
     "text": [
      "CPU times: user 4 µs, sys: 0 ns, total: 4 µs\n",
      "Wall time: 8.58 µs\n"
     ]
    }
   ],
   "source": [
    "%time\n",
    "\n",
    "test['preds'] = ranker.predict(test_X)\n",
    "\n",
    "c_id2predicted_article_ids = test \\\n",
    "    .sort_values(['customer_id', 'preds'], ascending=False) \\\n",
    "    .groupby('customer_id')['article_id'].apply(list).to_dict()\n",
    "\n",
    "bestsellers_last_week = \\\n",
    "    bestsellers_previous_week[bestsellers_previous_week.week == bestsellers_previous_week.week.max()]['article_id'].tolist()"
   ]
  },
  {
   "cell_type": "markdown",
   "id": "c7128f08",
   "metadata": {
    "papermill": {
     "duration": 0.071337,
     "end_time": "2022-04-28T21:15:48.134379",
     "exception": false,
     "start_time": "2022-04-28T21:15:48.063042",
     "status": "completed"
    },
    "tags": []
   },
   "source": [
    "# Evaluate predictions"
   ]
  },
  {
   "cell_type": "code",
   "execution_count": 53,
   "id": "ac5ed001",
   "metadata": {
    "execution": {
     "iopub.execute_input": "2022-04-28T21:15:48.278380Z",
     "iopub.status.busy": "2022-04-28T21:15:48.277794Z",
     "iopub.status.idle": "2022-04-28T21:15:48.576230Z",
     "shell.execute_reply": "2022-04-28T21:15:48.575442Z"
    },
    "papermill": {
     "duration": 0.372481,
     "end_time": "2022-04-28T21:15:48.578187",
     "exception": false,
     "start_time": "2022-04-28T21:15:48.205706",
     "status": "completed"
    },
    "tags": []
   },
   "outputs": [
    {
     "data": {
      "text/plain": [
       "0.022921270696628283"
      ]
     },
     "execution_count": 53,
     "metadata": {},
     "output_type": "execute_result"
    }
   ],
   "source": [
    "apks = []\n",
    "\n",
    "for c_id, gt in val_week_purchases_by_cust.items():\n",
    "    pred = c_id2predicted_article_ids.get(c_id, [])\n",
    "    pred = pred + bestsellers_last_week\n",
    "    apks.append(apk(gt, pred[:12]))\n",
    "\n",
    "np.mean(apks)"
   ]
  }
 ],
 "metadata": {
  "kernelspec": {
   "display_name": "Python 3",
   "language": "python",
   "name": "python3"
  },
  "language_info": {
   "codemirror_mode": {
    "name": "ipython",
    "version": 3
   },
   "file_extension": ".py",
   "mimetype": "text/x-python",
   "name": "python",
   "nbconvert_exporter": "python",
   "pygments_lexer": "ipython3",
   "version": "3.7.12"
  },
  "papermill": {
   "default_parameters": {},
   "duration": 141.944851,
   "end_time": "2022-04-28T21:15:49.973375",
   "environment_variables": {},
   "exception": null,
   "input_path": "__notebook__.ipynb",
   "output_path": "__notebook__.ipynb",
   "parameters": {},
   "start_time": "2022-04-28T21:13:28.028524",
   "version": "2.3.4"
  }
 },
 "nbformat": 4,
 "nbformat_minor": 5
}
