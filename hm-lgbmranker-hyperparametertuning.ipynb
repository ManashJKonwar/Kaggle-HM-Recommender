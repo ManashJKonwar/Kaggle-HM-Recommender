{
 "cells": [
  {
   "cell_type": "code",
   "execution_count": 1,
   "id": "d537cb4e",
   "metadata": {
    "_kg_hide-input": true,
    "_kg_hide-output": true,
    "execution": {
     "iopub.execute_input": "2022-04-29T14:08:59.226780Z",
     "iopub.status.busy": "2022-04-29T14:08:59.226423Z",
     "iopub.status.idle": "2022-04-29T14:08:59.243341Z",
     "shell.execute_reply": "2022-04-29T14:08:59.242229Z"
    },
    "papermill": {
     "duration": 0.061132,
     "end_time": "2022-04-29T14:08:59.246596",
     "exception": false,
     "start_time": "2022-04-29T14:08:59.185464",
     "status": "completed"
    },
    "tags": []
   },
   "outputs": [],
   "source": [
    "import numpy as np\n",
    "\n",
    "def apk(actual, predicted, k=10):\n",
    "    \"\"\"\n",
    "    Computes the average precision at k.\n",
    "\n",
    "    This function computes the average prescision at k between two lists of\n",
    "    items.\n",
    "\n",
    "    Parameters\n",
    "    ----------\n",
    "    actual : list\n",
    "             A list of elements that are to be predicted (order doesn't matter)\n",
    "    predicted : list\n",
    "                A list of predicted elements (order does matter)\n",
    "    k : int, optional\n",
    "        The maximum number of predicted elements\n",
    "\n",
    "    Returns\n",
    "    -------\n",
    "    score : double\n",
    "            The average precision at k over the input lists\n",
    "\n",
    "    \"\"\"\n",
    "    if len(predicted)>k:\n",
    "        predicted = predicted[:k]\n",
    "\n",
    "    score = 0.0\n",
    "    num_hits = 0.0\n",
    "\n",
    "    for i,p in enumerate(predicted):\n",
    "        if p in actual and p not in predicted[:i]:\n",
    "            num_hits += 1.0\n",
    "            score += num_hits / (i+1.0)\n",
    "\n",
    "    if not actual:\n",
    "        return 0.0\n",
    "\n",
    "    return score / min(len(actual), k)\n",
    "\n",
    "def mapk(actual, predicted, k=10):\n",
    "    \"\"\"\n",
    "    Computes the mean average precision at k.\n",
    "\n",
    "    This function computes the mean average prescision at k between two lists\n",
    "    of lists of items.\n",
    "\n",
    "    Parameters\n",
    "    ----------\n",
    "    actual : list\n",
    "             A list of lists of elements that are to be predicted \n",
    "             (order doesn't matter in the lists)\n",
    "    predicted : list\n",
    "                A list of lists of predicted elements\n",
    "                (order matters in the lists)\n",
    "    k : int, optional\n",
    "        The maximum number of predicted elements\n",
    "\n",
    "    Returns\n",
    "    -------\n",
    "    score : double\n",
    "            The mean average precision at k over the input lists\n",
    "\n",
    "    \"\"\"\n",
    "    return np.mean([apk(a,p,k) for a,p in zip(actual, predicted)])"
   ]
  },
  {
   "cell_type": "code",
   "execution_count": 2,
   "id": "4e83a0a1",
   "metadata": {
    "_kg_hide-input": true,
    "_kg_hide-output": true,
    "execution": {
     "iopub.execute_input": "2022-04-29T14:08:59.330439Z",
     "iopub.status.busy": "2022-04-29T14:08:59.329943Z",
     "iopub.status.idle": "2022-04-29T14:09:00.380358Z",
     "shell.execute_reply": "2022-04-29T14:09:00.379548Z"
    },
    "papermill": {
     "duration": 1.092913,
     "end_time": "2022-04-29T14:09:00.382654",
     "exception": false,
     "start_time": "2022-04-29T14:08:59.289741",
     "status": "completed"
    },
    "tags": []
   },
   "outputs": [],
   "source": [
    "from sklearn.base import BaseEstimator, TransformerMixin\n",
    "import numpy as np\n",
    "\n",
    "def customer_hex_id_to_int(series):\n",
    "    return series.str[-16:].apply(hex_id_to_int)\n",
    "\n",
    "def hex_id_to_int(str):\n",
    "    return int(str[-16:], 16)\n",
    "\n",
    "def article_id_str_to_int(series):\n",
    "    return series.astype('int32')\n",
    "\n",
    "def article_id_int_to_str(series):\n",
    "    return '0' + series.astype('str')\n",
    "\n",
    "class Categorize(BaseEstimator, TransformerMixin):\n",
    "    def __init__(self, min_examples=0):\n",
    "        self.min_examples = min_examples\n",
    "        self.categories = []\n",
    "        \n",
    "    def fit(self, X):\n",
    "        for i in range(X.shape[1]):\n",
    "            vc = X.iloc[:, i].value_counts()\n",
    "            self.categories.append(vc[vc > self.min_examples].index.tolist())\n",
    "        return self\n",
    "\n",
    "    def transform(self, X):\n",
    "        data = {X.columns[i]: pd.Categorical(X.iloc[:, i], categories=self.categories[i]).codes for i in range(X.shape[1])}\n",
    "        return pd.DataFrame(data=data)\n",
    "\n",
    "\n",
    "def calculate_apk(list_of_preds, list_of_gts):\n",
    "    # for fast validation this can be changed to operate on dicts of {'cust_id_int': [art_id_int, ...]}\n",
    "    # using 'data/val_week_purchases_by_cust.pkl'\n",
    "    apks = []\n",
    "    for preds, gt in zip(list_of_preds, list_of_gts):\n",
    "        apks.append(apk(gt, preds, k=12))\n",
    "    return np.mean(apks)\n",
    "\n",
    "def eval_sub(sub_csv, skip_cust_with_no_purchases=True):\n",
    "    sub=pd.read_csv(sub_csv)\n",
    "    validation_set=pd.read_parquet('data/validation_ground_truth.parquet')\n",
    "\n",
    "    apks = []\n",
    "\n",
    "    no_purchases_pattern = []\n",
    "    for pred, gt in zip(sub.prediction.str.split(), validation_set.prediction.str.split()):\n",
    "        if skip_cust_with_no_purchases and (gt == no_purchases_pattern): continue\n",
    "        apks.append(apk(gt, pred, k=12))\n",
    "    return np.mean(apks)"
   ]
  },
  {
   "cell_type": "code",
   "execution_count": 3,
   "id": "7da2a821",
   "metadata": {
    "execution": {
     "iopub.execute_input": "2022-04-29T14:09:00.465148Z",
     "iopub.status.busy": "2022-04-29T14:09:00.464840Z",
     "iopub.status.idle": "2022-04-29T14:09:00.469315Z",
     "shell.execute_reply": "2022-04-29T14:09:00.468399Z"
    },
    "papermill": {
     "duration": 0.046824,
     "end_time": "2022-04-29T14:09:00.471279",
     "exception": false,
     "start_time": "2022-04-29T14:09:00.424455",
     "status": "completed"
    },
    "tags": []
   },
   "outputs": [],
   "source": [
    "import pandas as pd"
   ]
  },
  {
   "cell_type": "code",
   "execution_count": 4,
   "id": "a83e5b76",
   "metadata": {
    "execution": {
     "iopub.execute_input": "2022-04-29T14:09:00.549749Z",
     "iopub.status.busy": "2022-04-29T14:09:00.549423Z",
     "iopub.status.idle": "2022-04-29T14:09:08.342706Z",
     "shell.execute_reply": "2022-04-29T14:09:08.341626Z"
    },
    "papermill": {
     "duration": 7.83563,
     "end_time": "2022-04-29T14:09:08.345652",
     "exception": false,
     "start_time": "2022-04-29T14:09:00.510022",
     "status": "completed"
    },
    "tags": []
   },
   "outputs": [
    {
     "name": "stdout",
     "output_type": "stream",
     "text": [
      "CPU times: user 2.22 s, sys: 2.37 s, total: 4.59 s\n",
      "Wall time: 7.79 s\n"
     ]
    }
   ],
   "source": [
    "%%time\n",
    "\n",
    "transactions = pd.read_parquet('../input/hm-lgbm-supporting-data/transactions_train.parquet')\n",
    "customers = pd.read_parquet('../input/hm-lgbm-supporting-data/customers.parquet')\n",
    "articles = pd.read_parquet('../input/hm-lgbm-supporting-data/articles.parquet')"
   ]
  },
  {
   "cell_type": "code",
   "execution_count": 5,
   "id": "d19be7e7",
   "metadata": {
    "execution": {
     "iopub.execute_input": "2022-04-29T14:09:08.430099Z",
     "iopub.status.busy": "2022-04-29T14:09:08.429820Z",
     "iopub.status.idle": "2022-04-29T14:09:09.795957Z",
     "shell.execute_reply": "2022-04-29T14:09:09.794906Z"
    },
    "papermill": {
     "duration": 1.40756,
     "end_time": "2022-04-29T14:09:09.798249",
     "exception": false,
     "start_time": "2022-04-29T14:09:08.390689",
     "status": "completed"
    },
    "tags": []
   },
   "outputs": [],
   "source": [
    "from collections import defaultdict\n",
    "\n",
    "val_week_purchases_by_cust = defaultdict(list)\n",
    "\n",
    "val_week_purchases_by_cust.update(\n",
    "    transactions[transactions.week == transactions.week.max()] \\\n",
    "        .groupby('customer_id')['article_id'] \\\n",
    "        .apply(list) \\\n",
    "        .to_dict()\n",
    ")\n",
    "\n",
    "pd.to_pickle(dict(val_week_purchases_by_cust), 'val_week_purchases_by_cust.pkl')"
   ]
  },
  {
   "cell_type": "code",
   "execution_count": 6,
   "id": "cacb7012",
   "metadata": {
    "execution": {
     "iopub.execute_input": "2022-04-29T14:09:09.877618Z",
     "iopub.status.busy": "2022-04-29T14:09:09.877052Z",
     "iopub.status.idle": "2022-04-29T14:09:11.870582Z",
     "shell.execute_reply": "2022-04-29T14:09:11.869693Z"
    },
    "papermill": {
     "duration": 2.036055,
     "end_time": "2022-04-29T14:09:11.873615",
     "exception": false,
     "start_time": "2022-04-29T14:09:09.837560",
     "status": "completed"
    },
    "tags": []
   },
   "outputs": [],
   "source": [
    "test_week = transactions.week.max()\n",
    "transactions = transactions[transactions.week != transactions.week.max()]\n",
    "transactions = transactions[transactions.week > transactions.week.max() - 10]"
   ]
  },
  {
   "cell_type": "code",
   "execution_count": 7,
   "id": "fe72fb86",
   "metadata": {
    "execution": {
     "iopub.execute_input": "2022-04-29T14:09:11.979416Z",
     "iopub.status.busy": "2022-04-29T14:09:11.979145Z",
     "iopub.status.idle": "2022-04-29T14:09:11.985695Z",
     "shell.execute_reply": "2022-04-29T14:09:11.985044Z"
    },
    "papermill": {
     "duration": 0.056994,
     "end_time": "2022-04-29T14:09:11.989709",
     "exception": false,
     "start_time": "2022-04-29T14:09:11.932715",
     "status": "completed"
    },
    "tags": []
   },
   "outputs": [
    {
     "data": {
      "text/plain": [
       "104"
      ]
     },
     "execution_count": 7,
     "metadata": {},
     "output_type": "execute_result"
    }
   ],
   "source": [
    "test_week"
   ]
  },
  {
   "cell_type": "code",
   "execution_count": 8,
   "id": "79f5c29b",
   "metadata": {
    "execution": {
     "iopub.execute_input": "2022-04-29T14:09:12.076282Z",
     "iopub.status.busy": "2022-04-29T14:09:12.075599Z",
     "iopub.status.idle": "2022-04-29T14:09:12.099081Z",
     "shell.execute_reply": "2022-04-29T14:09:12.098268Z"
    },
    "papermill": {
     "duration": 0.066107,
     "end_time": "2022-04-29T14:09:12.100954",
     "exception": false,
     "start_time": "2022-04-29T14:09:12.034847",
     "status": "completed"
    },
    "tags": []
   },
   "outputs": [
    {
     "data": {
      "text/html": [
       "<div>\n",
       "<style scoped>\n",
       "    .dataframe tbody tr th:only-of-type {\n",
       "        vertical-align: middle;\n",
       "    }\n",
       "\n",
       "    .dataframe tbody tr th {\n",
       "        vertical-align: top;\n",
       "    }\n",
       "\n",
       "    .dataframe thead th {\n",
       "        text-align: right;\n",
       "    }\n",
       "</style>\n",
       "<table border=\"1\" class=\"dataframe\">\n",
       "  <thead>\n",
       "    <tr style=\"text-align: right;\">\n",
       "      <th></th>\n",
       "      <th>t_dat</th>\n",
       "      <th>customer_id</th>\n",
       "      <th>article_id</th>\n",
       "      <th>price</th>\n",
       "      <th>sales_channel_id</th>\n",
       "      <th>week</th>\n",
       "    </tr>\n",
       "  </thead>\n",
       "  <tbody>\n",
       "    <tr>\n",
       "      <th>28777300</th>\n",
       "      <td>2020-07-08</td>\n",
       "      <td>857913002275398</td>\n",
       "      <td>599580068</td>\n",
       "      <td>0.008458</td>\n",
       "      <td>1</td>\n",
       "      <td>94</td>\n",
       "    </tr>\n",
       "    <tr>\n",
       "      <th>28777301</th>\n",
       "      <td>2020-07-08</td>\n",
       "      <td>857913002275398</td>\n",
       "      <td>776237011</td>\n",
       "      <td>0.025407</td>\n",
       "      <td>1</td>\n",
       "      <td>94</td>\n",
       "    </tr>\n",
       "    <tr>\n",
       "      <th>28777302</th>\n",
       "      <td>2020-07-08</td>\n",
       "      <td>857913002275398</td>\n",
       "      <td>844294001</td>\n",
       "      <td>0.011847</td>\n",
       "      <td>1</td>\n",
       "      <td>94</td>\n",
       "    </tr>\n",
       "    <tr>\n",
       "      <th>28787123</th>\n",
       "      <td>2020-07-08</td>\n",
       "      <td>1658289241058394</td>\n",
       "      <td>877773001</td>\n",
       "      <td>0.007610</td>\n",
       "      <td>1</td>\n",
       "      <td>94</td>\n",
       "    </tr>\n",
       "    <tr>\n",
       "      <th>28788562</th>\n",
       "      <td>2020-07-08</td>\n",
       "      <td>3828854365940846</td>\n",
       "      <td>507883009</td>\n",
       "      <td>0.013542</td>\n",
       "      <td>1</td>\n",
       "      <td>94</td>\n",
       "    </tr>\n",
       "    <tr>\n",
       "      <th>...</th>\n",
       "      <td>...</td>\n",
       "      <td>...</td>\n",
       "      <td>...</td>\n",
       "      <td>...</td>\n",
       "      <td>...</td>\n",
       "      <td>...</td>\n",
       "    </tr>\n",
       "    <tr>\n",
       "      <th>31536744</th>\n",
       "      <td>2020-09-15</td>\n",
       "      <td>18446630855572834764</td>\n",
       "      <td>568601045</td>\n",
       "      <td>0.050831</td>\n",
       "      <td>2</td>\n",
       "      <td>103</td>\n",
       "    </tr>\n",
       "    <tr>\n",
       "      <th>31536745</th>\n",
       "      <td>2020-09-15</td>\n",
       "      <td>18446630855572834764</td>\n",
       "      <td>568601045</td>\n",
       "      <td>0.050831</td>\n",
       "      <td>2</td>\n",
       "      <td>103</td>\n",
       "    </tr>\n",
       "    <tr>\n",
       "      <th>31536746</th>\n",
       "      <td>2020-09-15</td>\n",
       "      <td>18446630855572834764</td>\n",
       "      <td>898713001</td>\n",
       "      <td>0.067780</td>\n",
       "      <td>2</td>\n",
       "      <td>103</td>\n",
       "    </tr>\n",
       "    <tr>\n",
       "      <th>31536747</th>\n",
       "      <td>2020-09-15</td>\n",
       "      <td>18446630855572834764</td>\n",
       "      <td>898713001</td>\n",
       "      <td>0.067780</td>\n",
       "      <td>2</td>\n",
       "      <td>103</td>\n",
       "    </tr>\n",
       "    <tr>\n",
       "      <th>31536748</th>\n",
       "      <td>2020-09-15</td>\n",
       "      <td>18446630855572834764</td>\n",
       "      <td>886966002</td>\n",
       "      <td>0.067780</td>\n",
       "      <td>2</td>\n",
       "      <td>103</td>\n",
       "    </tr>\n",
       "  </tbody>\n",
       "</table>\n",
       "<p>2809233 rows × 6 columns</p>\n",
       "</div>"
      ],
      "text/plain": [
       "              t_dat           customer_id  article_id     price  \\\n",
       "28777300 2020-07-08       857913002275398   599580068  0.008458   \n",
       "28777301 2020-07-08       857913002275398   776237011  0.025407   \n",
       "28777302 2020-07-08       857913002275398   844294001  0.011847   \n",
       "28787123 2020-07-08      1658289241058394   877773001  0.007610   \n",
       "28788562 2020-07-08      3828854365940846   507883009  0.013542   \n",
       "...             ...                   ...         ...       ...   \n",
       "31536744 2020-09-15  18446630855572834764   568601045  0.050831   \n",
       "31536745 2020-09-15  18446630855572834764   568601045  0.050831   \n",
       "31536746 2020-09-15  18446630855572834764   898713001  0.067780   \n",
       "31536747 2020-09-15  18446630855572834764   898713001  0.067780   \n",
       "31536748 2020-09-15  18446630855572834764   886966002  0.067780   \n",
       "\n",
       "          sales_channel_id  week  \n",
       "28777300                 1    94  \n",
       "28777301                 1    94  \n",
       "28777302                 1    94  \n",
       "28787123                 1    94  \n",
       "28788562                 1    94  \n",
       "...                    ...   ...  \n",
       "31536744                 2   103  \n",
       "31536745                 2   103  \n",
       "31536746                 2   103  \n",
       "31536747                 2   103  \n",
       "31536748                 2   103  \n",
       "\n",
       "[2809233 rows x 6 columns]"
      ]
     },
     "execution_count": 8,
     "metadata": {},
     "output_type": "execute_result"
    }
   ],
   "source": [
    "transactions"
   ]
  },
  {
   "cell_type": "markdown",
   "id": "30f1c242",
   "metadata": {
    "papermill": {
     "duration": 0.04061,
     "end_time": "2022-04-29T14:09:12.182337",
     "exception": false,
     "start_time": "2022-04-29T14:09:12.141727",
     "status": "completed"
    },
    "tags": []
   },
   "source": [
    "# Generating candidates"
   ]
  },
  {
   "cell_type": "markdown",
   "id": "22211018",
   "metadata": {
    "papermill": {
     "duration": 0.0411,
     "end_time": "2022-04-29T14:09:12.263731",
     "exception": false,
     "start_time": "2022-04-29T14:09:12.222631",
     "status": "completed"
    },
    "tags": []
   },
   "source": [
    "### Last purchase candidates"
   ]
  },
  {
   "cell_type": "code",
   "execution_count": 9,
   "id": "30597f0e",
   "metadata": {
    "execution": {
     "iopub.execute_input": "2022-04-29T14:09:12.348091Z",
     "iopub.status.busy": "2022-04-29T14:09:12.347129Z",
     "iopub.status.idle": "2022-04-29T14:09:30.785557Z",
     "shell.execute_reply": "2022-04-29T14:09:30.784399Z"
    },
    "papermill": {
     "duration": 18.481292,
     "end_time": "2022-04-29T14:09:30.787941",
     "exception": false,
     "start_time": "2022-04-29T14:09:12.306649",
     "status": "completed"
    },
    "tags": []
   },
   "outputs": [
    {
     "name": "stdout",
     "output_type": "stream",
     "text": [
      "CPU times: user 18.1 s, sys: 386 ms, total: 18.5 s\n",
      "Wall time: 18.4 s\n"
     ]
    }
   ],
   "source": [
    "%%time\n",
    "\n",
    "c2weeks = transactions.groupby('customer_id')['week'].unique()"
   ]
  },
  {
   "cell_type": "code",
   "execution_count": 10,
   "id": "9dadc4e4",
   "metadata": {
    "execution": {
     "iopub.execute_input": "2022-04-29T14:09:30.871070Z",
     "iopub.status.busy": "2022-04-29T14:09:30.870603Z",
     "iopub.status.idle": "2022-04-29T14:09:30.947377Z",
     "shell.execute_reply": "2022-04-29T14:09:30.946677Z"
    },
    "papermill": {
     "duration": 0.121646,
     "end_time": "2022-04-29T14:09:30.949417",
     "exception": false,
     "start_time": "2022-04-29T14:09:30.827771",
     "status": "completed"
    },
    "tags": []
   },
   "outputs": [
    {
     "data": {
      "text/html": [
       "<div>\n",
       "<style scoped>\n",
       "    .dataframe tbody tr th:only-of-type {\n",
       "        vertical-align: middle;\n",
       "    }\n",
       "\n",
       "    .dataframe tbody tr th {\n",
       "        vertical-align: top;\n",
       "    }\n",
       "\n",
       "    .dataframe thead th {\n",
       "        text-align: right;\n",
       "    }\n",
       "</style>\n",
       "<table border=\"1\" class=\"dataframe\">\n",
       "  <thead>\n",
       "    <tr style=\"text-align: right;\">\n",
       "      <th></th>\n",
       "      <th>min</th>\n",
       "      <th>max</th>\n",
       "    </tr>\n",
       "    <tr>\n",
       "      <th>week</th>\n",
       "      <th></th>\n",
       "      <th></th>\n",
       "    </tr>\n",
       "  </thead>\n",
       "  <tbody>\n",
       "    <tr>\n",
       "      <th>94</th>\n",
       "      <td>2020-07-08</td>\n",
       "      <td>2020-07-14</td>\n",
       "    </tr>\n",
       "    <tr>\n",
       "      <th>95</th>\n",
       "      <td>2020-07-15</td>\n",
       "      <td>2020-07-21</td>\n",
       "    </tr>\n",
       "    <tr>\n",
       "      <th>96</th>\n",
       "      <td>2020-07-22</td>\n",
       "      <td>2020-07-28</td>\n",
       "    </tr>\n",
       "    <tr>\n",
       "      <th>97</th>\n",
       "      <td>2020-07-29</td>\n",
       "      <td>2020-08-04</td>\n",
       "    </tr>\n",
       "    <tr>\n",
       "      <th>98</th>\n",
       "      <td>2020-08-05</td>\n",
       "      <td>2020-08-11</td>\n",
       "    </tr>\n",
       "    <tr>\n",
       "      <th>99</th>\n",
       "      <td>2020-08-12</td>\n",
       "      <td>2020-08-18</td>\n",
       "    </tr>\n",
       "    <tr>\n",
       "      <th>100</th>\n",
       "      <td>2020-08-19</td>\n",
       "      <td>2020-08-25</td>\n",
       "    </tr>\n",
       "    <tr>\n",
       "      <th>101</th>\n",
       "      <td>2020-08-26</td>\n",
       "      <td>2020-09-01</td>\n",
       "    </tr>\n",
       "    <tr>\n",
       "      <th>102</th>\n",
       "      <td>2020-09-02</td>\n",
       "      <td>2020-09-08</td>\n",
       "    </tr>\n",
       "    <tr>\n",
       "      <th>103</th>\n",
       "      <td>2020-09-09</td>\n",
       "      <td>2020-09-15</td>\n",
       "    </tr>\n",
       "  </tbody>\n",
       "</table>\n",
       "</div>"
      ],
      "text/plain": [
       "            min        max\n",
       "week                      \n",
       "94   2020-07-08 2020-07-14\n",
       "95   2020-07-15 2020-07-21\n",
       "96   2020-07-22 2020-07-28\n",
       "97   2020-07-29 2020-08-04\n",
       "98   2020-08-05 2020-08-11\n",
       "99   2020-08-12 2020-08-18\n",
       "100  2020-08-19 2020-08-25\n",
       "101  2020-08-26 2020-09-01\n",
       "102  2020-09-02 2020-09-08\n",
       "103  2020-09-09 2020-09-15"
      ]
     },
     "execution_count": 10,
     "metadata": {},
     "output_type": "execute_result"
    }
   ],
   "source": [
    "transactions.groupby('week')['t_dat'].agg(['min', 'max'])"
   ]
  },
  {
   "cell_type": "code",
   "execution_count": 11,
   "id": "8b88686f",
   "metadata": {
    "execution": {
     "iopub.execute_input": "2022-04-29T14:09:31.034085Z",
     "iopub.status.busy": "2022-04-29T14:09:31.033674Z",
     "iopub.status.idle": "2022-04-29T14:09:31.040620Z",
     "shell.execute_reply": "2022-04-29T14:09:31.040001Z"
    },
    "papermill": {
     "duration": 0.05034,
     "end_time": "2022-04-29T14:09:31.042233",
     "exception": false,
     "start_time": "2022-04-29T14:09:30.991893",
     "status": "completed"
    },
    "tags": []
   },
   "outputs": [
    {
     "data": {
      "text/plain": [
       "customer_id\n",
       "28847241659200          [94, 95, 96, 101, 102]\n",
       "41318098387474                            [98]\n",
       "116809474287335                     [101, 103]\n",
       "200292573348128              [95, 96, 99, 102]\n",
       "208119717816961                           [94]\n",
       "                                 ...          \n",
       "18446590778427270109                 [97, 102]\n",
       "18446624797007271432                      [95]\n",
       "18446630855572834764                     [103]\n",
       "18446662237889060501                     [100]\n",
       "18446705133201055310                     [102]\n",
       "Name: week, Length: 439368, dtype: object"
      ]
     },
     "execution_count": 11,
     "metadata": {},
     "output_type": "execute_result"
    }
   ],
   "source": [
    "c2weeks"
   ]
  },
  {
   "cell_type": "code",
   "execution_count": 12,
   "id": "5b922d20",
   "metadata": {
    "execution": {
     "iopub.execute_input": "2022-04-29T14:09:31.124876Z",
     "iopub.status.busy": "2022-04-29T14:09:31.124382Z",
     "iopub.status.idle": "2022-04-29T14:09:32.109384Z",
     "shell.execute_reply": "2022-04-29T14:09:32.108778Z"
    },
    "papermill": {
     "duration": 1.029174,
     "end_time": "2022-04-29T14:09:32.111508",
     "exception": false,
     "start_time": "2022-04-29T14:09:31.082334",
     "status": "completed"
    },
    "tags": []
   },
   "outputs": [
    {
     "name": "stdout",
     "output_type": "stream",
     "text": [
      "CPU times: user 727 ms, sys: 253 ms, total: 980 ms\n",
      "Wall time: 980 ms\n"
     ]
    }
   ],
   "source": [
    "%%time\n",
    "\n",
    "c2weeks2shifted_weeks = {}\n",
    "\n",
    "for c_id, weeks in c2weeks.items():\n",
    "    c2weeks2shifted_weeks[c_id] = {}\n",
    "    for i in range(weeks.shape[0]-1):\n",
    "        c2weeks2shifted_weeks[c_id][weeks[i]] = weeks[i+1]\n",
    "    c2weeks2shifted_weeks[c_id][weeks[-1]] = test_week"
   ]
  },
  {
   "cell_type": "code",
   "execution_count": 13,
   "id": "2e7b6c92",
   "metadata": {
    "execution": {
     "iopub.execute_input": "2022-04-29T14:09:32.195084Z",
     "iopub.status.busy": "2022-04-29T14:09:32.194634Z",
     "iopub.status.idle": "2022-04-29T14:09:32.199466Z",
     "shell.execute_reply": "2022-04-29T14:09:32.198716Z"
    },
    "papermill": {
     "duration": 0.049029,
     "end_time": "2022-04-29T14:09:32.201391",
     "exception": false,
     "start_time": "2022-04-29T14:09:32.152362",
     "status": "completed"
    },
    "tags": []
   },
   "outputs": [
    {
     "data": {
      "text/plain": [
       "{94: 95, 95: 96, 96: 101, 101: 102, 102: 104}"
      ]
     },
     "execution_count": 13,
     "metadata": {},
     "output_type": "execute_result"
    }
   ],
   "source": [
    "c2weeks2shifted_weeks[28847241659200]"
   ]
  },
  {
   "cell_type": "code",
   "execution_count": 14,
   "id": "7ea6ad46",
   "metadata": {
    "execution": {
     "iopub.execute_input": "2022-04-29T14:09:32.285885Z",
     "iopub.status.busy": "2022-04-29T14:09:32.285310Z",
     "iopub.status.idle": "2022-04-29T14:09:32.327146Z",
     "shell.execute_reply": "2022-04-29T14:09:32.326508Z"
    },
    "papermill": {
     "duration": 0.085579,
     "end_time": "2022-04-29T14:09:32.329243",
     "exception": false,
     "start_time": "2022-04-29T14:09:32.243664",
     "status": "completed"
    },
    "tags": []
   },
   "outputs": [],
   "source": [
    "candidates_last_purchase = transactions.copy()"
   ]
  },
  {
   "cell_type": "code",
   "execution_count": 15,
   "id": "7468313b",
   "metadata": {
    "execution": {
     "iopub.execute_input": "2022-04-29T14:09:32.412403Z",
     "iopub.status.busy": "2022-04-29T14:09:32.411981Z",
     "iopub.status.idle": "2022-04-29T14:09:40.090321Z",
     "shell.execute_reply": "2022-04-29T14:09:40.089108Z"
    },
    "papermill": {
     "duration": 7.722564,
     "end_time": "2022-04-29T14:09:40.092424",
     "exception": false,
     "start_time": "2022-04-29T14:09:32.369860",
     "status": "completed"
    },
    "tags": []
   },
   "outputs": [
    {
     "name": "stdout",
     "output_type": "stream",
     "text": [
      "CPU times: user 7.52 s, sys: 153 ms, total: 7.68 s\n",
      "Wall time: 7.67 s\n"
     ]
    }
   ],
   "source": [
    "%%time\n",
    "\n",
    "weeks = []\n",
    "for i, (c_id, week) in enumerate(zip(transactions['customer_id'], transactions['week'])):\n",
    "    weeks.append(c2weeks2shifted_weeks[c_id][week])\n",
    "    \n",
    "candidates_last_purchase.week=weeks"
   ]
  },
  {
   "cell_type": "code",
   "execution_count": 16,
   "id": "3c97c5a2",
   "metadata": {
    "execution": {
     "iopub.execute_input": "2022-04-29T14:09:40.178131Z",
     "iopub.status.busy": "2022-04-29T14:09:40.177469Z",
     "iopub.status.idle": "2022-04-29T14:09:40.194197Z",
     "shell.execute_reply": "2022-04-29T14:09:40.193558Z"
    },
    "papermill": {
     "duration": 0.061334,
     "end_time": "2022-04-29T14:09:40.196072",
     "exception": false,
     "start_time": "2022-04-29T14:09:40.134738",
     "status": "completed"
    },
    "tags": []
   },
   "outputs": [
    {
     "data": {
      "text/html": [
       "<div>\n",
       "<style scoped>\n",
       "    .dataframe tbody tr th:only-of-type {\n",
       "        vertical-align: middle;\n",
       "    }\n",
       "\n",
       "    .dataframe tbody tr th {\n",
       "        vertical-align: top;\n",
       "    }\n",
       "\n",
       "    .dataframe thead th {\n",
       "        text-align: right;\n",
       "    }\n",
       "</style>\n",
       "<table border=\"1\" class=\"dataframe\">\n",
       "  <thead>\n",
       "    <tr style=\"text-align: right;\">\n",
       "      <th></th>\n",
       "      <th>t_dat</th>\n",
       "      <th>customer_id</th>\n",
       "      <th>article_id</th>\n",
       "      <th>price</th>\n",
       "      <th>sales_channel_id</th>\n",
       "      <th>week</th>\n",
       "    </tr>\n",
       "  </thead>\n",
       "  <tbody>\n",
       "    <tr>\n",
       "      <th>29030503</th>\n",
       "      <td>2020-07-15</td>\n",
       "      <td>272412481300040</td>\n",
       "      <td>778064028</td>\n",
       "      <td>0.008458</td>\n",
       "      <td>1</td>\n",
       "      <td>96</td>\n",
       "    </tr>\n",
       "    <tr>\n",
       "      <th>29030504</th>\n",
       "      <td>2020-07-15</td>\n",
       "      <td>272412481300040</td>\n",
       "      <td>816592008</td>\n",
       "      <td>0.016932</td>\n",
       "      <td>1</td>\n",
       "      <td>96</td>\n",
       "    </tr>\n",
       "    <tr>\n",
       "      <th>29030505</th>\n",
       "      <td>2020-07-15</td>\n",
       "      <td>272412481300040</td>\n",
       "      <td>621381021</td>\n",
       "      <td>0.033881</td>\n",
       "      <td>1</td>\n",
       "      <td>96</td>\n",
       "    </tr>\n",
       "    <tr>\n",
       "      <th>29030506</th>\n",
       "      <td>2020-07-15</td>\n",
       "      <td>272412481300040</td>\n",
       "      <td>817477003</td>\n",
       "      <td>0.025407</td>\n",
       "      <td>1</td>\n",
       "      <td>96</td>\n",
       "    </tr>\n",
       "    <tr>\n",
       "      <th>29030507</th>\n",
       "      <td>2020-07-15</td>\n",
       "      <td>272412481300040</td>\n",
       "      <td>899088002</td>\n",
       "      <td>0.025407</td>\n",
       "      <td>1</td>\n",
       "      <td>96</td>\n",
       "    </tr>\n",
       "    <tr>\n",
       "      <th>29319533</th>\n",
       "      <td>2020-07-22</td>\n",
       "      <td>272412481300040</td>\n",
       "      <td>885077001</td>\n",
       "      <td>0.008458</td>\n",
       "      <td>1</td>\n",
       "      <td>103</td>\n",
       "    </tr>\n",
       "    <tr>\n",
       "      <th>29410772</th>\n",
       "      <td>2020-07-24</td>\n",
       "      <td>272412481300040</td>\n",
       "      <td>850176003</td>\n",
       "      <td>0.029034</td>\n",
       "      <td>2</td>\n",
       "      <td>103</td>\n",
       "    </tr>\n",
       "    <tr>\n",
       "      <th>29410773</th>\n",
       "      <td>2020-07-24</td>\n",
       "      <td>272412481300040</td>\n",
       "      <td>875803001</td>\n",
       "      <td>0.064559</td>\n",
       "      <td>2</td>\n",
       "      <td>103</td>\n",
       "    </tr>\n",
       "    <tr>\n",
       "      <th>29410774</th>\n",
       "      <td>2020-07-24</td>\n",
       "      <td>272412481300040</td>\n",
       "      <td>892970003</td>\n",
       "      <td>0.020966</td>\n",
       "      <td>2</td>\n",
       "      <td>103</td>\n",
       "    </tr>\n",
       "    <tr>\n",
       "      <th>29410775</th>\n",
       "      <td>2020-07-24</td>\n",
       "      <td>272412481300040</td>\n",
       "      <td>854619003</td>\n",
       "      <td>0.020966</td>\n",
       "      <td>2</td>\n",
       "      <td>103</td>\n",
       "    </tr>\n",
       "    <tr>\n",
       "      <th>29531614</th>\n",
       "      <td>2020-07-27</td>\n",
       "      <td>272412481300040</td>\n",
       "      <td>900398001</td>\n",
       "      <td>0.030492</td>\n",
       "      <td>2</td>\n",
       "      <td>103</td>\n",
       "    </tr>\n",
       "    <tr>\n",
       "      <th>29531615</th>\n",
       "      <td>2020-07-27</td>\n",
       "      <td>272412481300040</td>\n",
       "      <td>834179002</td>\n",
       "      <td>0.025407</td>\n",
       "      <td>2</td>\n",
       "      <td>103</td>\n",
       "    </tr>\n",
       "    <tr>\n",
       "      <th>29531616</th>\n",
       "      <td>2020-07-27</td>\n",
       "      <td>272412481300040</td>\n",
       "      <td>875803001</td>\n",
       "      <td>0.067780</td>\n",
       "      <td>2</td>\n",
       "      <td>103</td>\n",
       "    </tr>\n",
       "    <tr>\n",
       "      <th>31495014</th>\n",
       "      <td>2020-09-14</td>\n",
       "      <td>272412481300040</td>\n",
       "      <td>923460002</td>\n",
       "      <td>0.039932</td>\n",
       "      <td>2</td>\n",
       "      <td>104</td>\n",
       "    </tr>\n",
       "    <tr>\n",
       "      <th>31495015</th>\n",
       "      <td>2020-09-14</td>\n",
       "      <td>272412481300040</td>\n",
       "      <td>922381001</td>\n",
       "      <td>0.039932</td>\n",
       "      <td>2</td>\n",
       "      <td>104</td>\n",
       "    </tr>\n",
       "    <tr>\n",
       "      <th>31495016</th>\n",
       "      <td>2020-09-14</td>\n",
       "      <td>272412481300040</td>\n",
       "      <td>921906005</td>\n",
       "      <td>0.031949</td>\n",
       "      <td>2</td>\n",
       "      <td>104</td>\n",
       "    </tr>\n",
       "  </tbody>\n",
       "</table>\n",
       "</div>"
      ],
      "text/plain": [
       "              t_dat      customer_id  article_id     price  sales_channel_id  \\\n",
       "29030503 2020-07-15  272412481300040   778064028  0.008458                 1   \n",
       "29030504 2020-07-15  272412481300040   816592008  0.016932                 1   \n",
       "29030505 2020-07-15  272412481300040   621381021  0.033881                 1   \n",
       "29030506 2020-07-15  272412481300040   817477003  0.025407                 1   \n",
       "29030507 2020-07-15  272412481300040   899088002  0.025407                 1   \n",
       "29319533 2020-07-22  272412481300040   885077001  0.008458                 1   \n",
       "29410772 2020-07-24  272412481300040   850176003  0.029034                 2   \n",
       "29410773 2020-07-24  272412481300040   875803001  0.064559                 2   \n",
       "29410774 2020-07-24  272412481300040   892970003  0.020966                 2   \n",
       "29410775 2020-07-24  272412481300040   854619003  0.020966                 2   \n",
       "29531614 2020-07-27  272412481300040   900398001  0.030492                 2   \n",
       "29531615 2020-07-27  272412481300040   834179002  0.025407                 2   \n",
       "29531616 2020-07-27  272412481300040   875803001  0.067780                 2   \n",
       "31495014 2020-09-14  272412481300040   923460002  0.039932                 2   \n",
       "31495015 2020-09-14  272412481300040   922381001  0.039932                 2   \n",
       "31495016 2020-09-14  272412481300040   921906005  0.031949                 2   \n",
       "\n",
       "          week  \n",
       "29030503    96  \n",
       "29030504    96  \n",
       "29030505    96  \n",
       "29030506    96  \n",
       "29030507    96  \n",
       "29319533   103  \n",
       "29410772   103  \n",
       "29410773   103  \n",
       "29410774   103  \n",
       "29410775   103  \n",
       "29531614   103  \n",
       "29531615   103  \n",
       "29531616   103  \n",
       "31495014   104  \n",
       "31495015   104  \n",
       "31495016   104  "
      ]
     },
     "execution_count": 16,
     "metadata": {},
     "output_type": "execute_result"
    }
   ],
   "source": [
    "candidates_last_purchase[candidates_last_purchase['customer_id']==272412481300040]"
   ]
  },
  {
   "cell_type": "code",
   "execution_count": 17,
   "id": "1e489e7b",
   "metadata": {
    "execution": {
     "iopub.execute_input": "2022-04-29T14:09:40.281682Z",
     "iopub.status.busy": "2022-04-29T14:09:40.281073Z",
     "iopub.status.idle": "2022-04-29T14:09:40.297816Z",
     "shell.execute_reply": "2022-04-29T14:09:40.296925Z"
    },
    "papermill": {
     "duration": 0.0614,
     "end_time": "2022-04-29T14:09:40.299728",
     "exception": false,
     "start_time": "2022-04-29T14:09:40.238328",
     "status": "completed"
    },
    "tags": []
   },
   "outputs": [
    {
     "data": {
      "text/html": [
       "<div>\n",
       "<style scoped>\n",
       "    .dataframe tbody tr th:only-of-type {\n",
       "        vertical-align: middle;\n",
       "    }\n",
       "\n",
       "    .dataframe tbody tr th {\n",
       "        vertical-align: top;\n",
       "    }\n",
       "\n",
       "    .dataframe thead th {\n",
       "        text-align: right;\n",
       "    }\n",
       "</style>\n",
       "<table border=\"1\" class=\"dataframe\">\n",
       "  <thead>\n",
       "    <tr style=\"text-align: right;\">\n",
       "      <th></th>\n",
       "      <th>t_dat</th>\n",
       "      <th>customer_id</th>\n",
       "      <th>article_id</th>\n",
       "      <th>price</th>\n",
       "      <th>sales_channel_id</th>\n",
       "      <th>week</th>\n",
       "    </tr>\n",
       "  </thead>\n",
       "  <tbody>\n",
       "    <tr>\n",
       "      <th>29030503</th>\n",
       "      <td>2020-07-15</td>\n",
       "      <td>272412481300040</td>\n",
       "      <td>778064028</td>\n",
       "      <td>0.008458</td>\n",
       "      <td>1</td>\n",
       "      <td>95</td>\n",
       "    </tr>\n",
       "    <tr>\n",
       "      <th>29030504</th>\n",
       "      <td>2020-07-15</td>\n",
       "      <td>272412481300040</td>\n",
       "      <td>816592008</td>\n",
       "      <td>0.016932</td>\n",
       "      <td>1</td>\n",
       "      <td>95</td>\n",
       "    </tr>\n",
       "    <tr>\n",
       "      <th>29030505</th>\n",
       "      <td>2020-07-15</td>\n",
       "      <td>272412481300040</td>\n",
       "      <td>621381021</td>\n",
       "      <td>0.033881</td>\n",
       "      <td>1</td>\n",
       "      <td>95</td>\n",
       "    </tr>\n",
       "    <tr>\n",
       "      <th>29030506</th>\n",
       "      <td>2020-07-15</td>\n",
       "      <td>272412481300040</td>\n",
       "      <td>817477003</td>\n",
       "      <td>0.025407</td>\n",
       "      <td>1</td>\n",
       "      <td>95</td>\n",
       "    </tr>\n",
       "    <tr>\n",
       "      <th>29030507</th>\n",
       "      <td>2020-07-15</td>\n",
       "      <td>272412481300040</td>\n",
       "      <td>899088002</td>\n",
       "      <td>0.025407</td>\n",
       "      <td>1</td>\n",
       "      <td>95</td>\n",
       "    </tr>\n",
       "    <tr>\n",
       "      <th>29319533</th>\n",
       "      <td>2020-07-22</td>\n",
       "      <td>272412481300040</td>\n",
       "      <td>885077001</td>\n",
       "      <td>0.008458</td>\n",
       "      <td>1</td>\n",
       "      <td>96</td>\n",
       "    </tr>\n",
       "    <tr>\n",
       "      <th>29410772</th>\n",
       "      <td>2020-07-24</td>\n",
       "      <td>272412481300040</td>\n",
       "      <td>850176003</td>\n",
       "      <td>0.029034</td>\n",
       "      <td>2</td>\n",
       "      <td>96</td>\n",
       "    </tr>\n",
       "    <tr>\n",
       "      <th>29410773</th>\n",
       "      <td>2020-07-24</td>\n",
       "      <td>272412481300040</td>\n",
       "      <td>875803001</td>\n",
       "      <td>0.064559</td>\n",
       "      <td>2</td>\n",
       "      <td>96</td>\n",
       "    </tr>\n",
       "    <tr>\n",
       "      <th>29410774</th>\n",
       "      <td>2020-07-24</td>\n",
       "      <td>272412481300040</td>\n",
       "      <td>892970003</td>\n",
       "      <td>0.020966</td>\n",
       "      <td>2</td>\n",
       "      <td>96</td>\n",
       "    </tr>\n",
       "    <tr>\n",
       "      <th>29410775</th>\n",
       "      <td>2020-07-24</td>\n",
       "      <td>272412481300040</td>\n",
       "      <td>854619003</td>\n",
       "      <td>0.020966</td>\n",
       "      <td>2</td>\n",
       "      <td>96</td>\n",
       "    </tr>\n",
       "    <tr>\n",
       "      <th>29531614</th>\n",
       "      <td>2020-07-27</td>\n",
       "      <td>272412481300040</td>\n",
       "      <td>900398001</td>\n",
       "      <td>0.030492</td>\n",
       "      <td>2</td>\n",
       "      <td>96</td>\n",
       "    </tr>\n",
       "    <tr>\n",
       "      <th>29531615</th>\n",
       "      <td>2020-07-27</td>\n",
       "      <td>272412481300040</td>\n",
       "      <td>834179002</td>\n",
       "      <td>0.025407</td>\n",
       "      <td>2</td>\n",
       "      <td>96</td>\n",
       "    </tr>\n",
       "    <tr>\n",
       "      <th>29531616</th>\n",
       "      <td>2020-07-27</td>\n",
       "      <td>272412481300040</td>\n",
       "      <td>875803001</td>\n",
       "      <td>0.067780</td>\n",
       "      <td>2</td>\n",
       "      <td>96</td>\n",
       "    </tr>\n",
       "    <tr>\n",
       "      <th>31495014</th>\n",
       "      <td>2020-09-14</td>\n",
       "      <td>272412481300040</td>\n",
       "      <td>923460002</td>\n",
       "      <td>0.039932</td>\n",
       "      <td>2</td>\n",
       "      <td>103</td>\n",
       "    </tr>\n",
       "    <tr>\n",
       "      <th>31495015</th>\n",
       "      <td>2020-09-14</td>\n",
       "      <td>272412481300040</td>\n",
       "      <td>922381001</td>\n",
       "      <td>0.039932</td>\n",
       "      <td>2</td>\n",
       "      <td>103</td>\n",
       "    </tr>\n",
       "    <tr>\n",
       "      <th>31495016</th>\n",
       "      <td>2020-09-14</td>\n",
       "      <td>272412481300040</td>\n",
       "      <td>921906005</td>\n",
       "      <td>0.031949</td>\n",
       "      <td>2</td>\n",
       "      <td>103</td>\n",
       "    </tr>\n",
       "  </tbody>\n",
       "</table>\n",
       "</div>"
      ],
      "text/plain": [
       "              t_dat      customer_id  article_id     price  sales_channel_id  \\\n",
       "29030503 2020-07-15  272412481300040   778064028  0.008458                 1   \n",
       "29030504 2020-07-15  272412481300040   816592008  0.016932                 1   \n",
       "29030505 2020-07-15  272412481300040   621381021  0.033881                 1   \n",
       "29030506 2020-07-15  272412481300040   817477003  0.025407                 1   \n",
       "29030507 2020-07-15  272412481300040   899088002  0.025407                 1   \n",
       "29319533 2020-07-22  272412481300040   885077001  0.008458                 1   \n",
       "29410772 2020-07-24  272412481300040   850176003  0.029034                 2   \n",
       "29410773 2020-07-24  272412481300040   875803001  0.064559                 2   \n",
       "29410774 2020-07-24  272412481300040   892970003  0.020966                 2   \n",
       "29410775 2020-07-24  272412481300040   854619003  0.020966                 2   \n",
       "29531614 2020-07-27  272412481300040   900398001  0.030492                 2   \n",
       "29531615 2020-07-27  272412481300040   834179002  0.025407                 2   \n",
       "29531616 2020-07-27  272412481300040   875803001  0.067780                 2   \n",
       "31495014 2020-09-14  272412481300040   923460002  0.039932                 2   \n",
       "31495015 2020-09-14  272412481300040   922381001  0.039932                 2   \n",
       "31495016 2020-09-14  272412481300040   921906005  0.031949                 2   \n",
       "\n",
       "          week  \n",
       "29030503    95  \n",
       "29030504    95  \n",
       "29030505    95  \n",
       "29030506    95  \n",
       "29030507    95  \n",
       "29319533    96  \n",
       "29410772    96  \n",
       "29410773    96  \n",
       "29410774    96  \n",
       "29410775    96  \n",
       "29531614    96  \n",
       "29531615    96  \n",
       "29531616    96  \n",
       "31495014   103  \n",
       "31495015   103  \n",
       "31495016   103  "
      ]
     },
     "execution_count": 17,
     "metadata": {},
     "output_type": "execute_result"
    }
   ],
   "source": [
    "transactions[transactions['customer_id']==272412481300040]"
   ]
  },
  {
   "cell_type": "markdown",
   "id": "2f19690e",
   "metadata": {
    "papermill": {
     "duration": 0.041775,
     "end_time": "2022-04-29T14:09:40.385417",
     "exception": false,
     "start_time": "2022-04-29T14:09:40.343642",
     "status": "completed"
    },
    "tags": []
   },
   "source": [
    "### Bestsellers candidates"
   ]
  },
  {
   "cell_type": "code",
   "execution_count": 18,
   "id": "490893d0",
   "metadata": {
    "execution": {
     "iopub.execute_input": "2022-04-29T14:09:40.473694Z",
     "iopub.status.busy": "2022-04-29T14:09:40.472958Z",
     "iopub.status.idle": "2022-04-29T14:09:40.749278Z",
     "shell.execute_reply": "2022-04-29T14:09:40.748242Z"
    },
    "papermill": {
     "duration": 0.322851,
     "end_time": "2022-04-29T14:09:40.751666",
     "exception": false,
     "start_time": "2022-04-29T14:09:40.428815",
     "status": "completed"
    },
    "tags": []
   },
   "outputs": [],
   "source": [
    "mean_price = transactions \\\n",
    "    .groupby(['week', 'article_id'])['price'].mean()"
   ]
  },
  {
   "cell_type": "code",
   "execution_count": 19,
   "id": "ec28e529",
   "metadata": {
    "execution": {
     "iopub.execute_input": "2022-04-29T14:09:40.838722Z",
     "iopub.status.busy": "2022-04-29T14:09:40.838349Z",
     "iopub.status.idle": "2022-04-29T14:09:40.847741Z",
     "shell.execute_reply": "2022-04-29T14:09:40.846857Z"
    },
    "papermill": {
     "duration": 0.055497,
     "end_time": "2022-04-29T14:09:40.849822",
     "exception": false,
     "start_time": "2022-04-29T14:09:40.794325",
     "status": "completed"
    },
    "tags": []
   },
   "outputs": [
    {
     "data": {
      "text/plain": [
       "week  article_id\n",
       "94    108775044     0.008339\n",
       "      110065002     0.005508\n",
       "      111565001     0.005452\n",
       "      111586001     0.013270\n",
       "      111593001     0.011669\n",
       "                      ...   \n",
       "103   952267001     0.014631\n",
       "      952938001     0.045746\n",
       "      953450001     0.016769\n",
       "      953763001     0.021932\n",
       "      956217002     0.059203\n",
       "Name: price, Length: 199492, dtype: float32"
      ]
     },
     "execution_count": 19,
     "metadata": {},
     "output_type": "execute_result"
    }
   ],
   "source": [
    "mean_price"
   ]
  },
  {
   "cell_type": "code",
   "execution_count": 20,
   "id": "346ae883",
   "metadata": {
    "execution": {
     "iopub.execute_input": "2022-04-29T14:09:40.941566Z",
     "iopub.status.busy": "2022-04-29T14:09:40.940980Z",
     "iopub.status.idle": "2022-04-29T14:09:41.927745Z",
     "shell.execute_reply": "2022-04-29T14:09:41.926792Z"
    },
    "papermill": {
     "duration": 1.034277,
     "end_time": "2022-04-29T14:09:41.930116",
     "exception": false,
     "start_time": "2022-04-29T14:09:40.895839",
     "status": "completed"
    },
    "tags": []
   },
   "outputs": [],
   "source": [
    "sales = transactions \\\n",
    "    .groupby('week')['article_id'].value_counts() \\\n",
    "    .groupby('week').rank(method='dense', ascending=False) \\\n",
    "    .groupby('week').head(12).rename('bestseller_rank').astype('int8')"
   ]
  },
  {
   "cell_type": "code",
   "execution_count": 21,
   "id": "522fca00",
   "metadata": {
    "execution": {
     "iopub.execute_input": "2022-04-29T14:09:42.022317Z",
     "iopub.status.busy": "2022-04-29T14:09:42.021470Z",
     "iopub.status.idle": "2022-04-29T14:09:42.087895Z",
     "shell.execute_reply": "2022-04-29T14:09:42.087031Z"
    },
    "papermill": {
     "duration": 0.11319,
     "end_time": "2022-04-29T14:09:42.089983",
     "exception": false,
     "start_time": "2022-04-29T14:09:41.976793",
     "status": "completed"
    },
    "tags": []
   },
   "outputs": [
    {
     "data": {
      "text/plain": [
       "week  article_id\n",
       "94    806388001      1\n",
       "      730683021      2\n",
       "      610776002      3\n",
       "      805308002      4\n",
       "      866383006      5\n",
       "                    ..\n",
       "103   918292001      8\n",
       "      762846027      9\n",
       "      809238005     10\n",
       "      673677002     11\n",
       "      923758001     12\n",
       "Name: bestseller_rank, Length: 120, dtype: int8"
      ]
     },
     "execution_count": 21,
     "metadata": {},
     "output_type": "execute_result"
    }
   ],
   "source": [
    "sales"
   ]
  },
  {
   "cell_type": "code",
   "execution_count": 22,
   "id": "524be222",
   "metadata": {
    "execution": {
     "iopub.execute_input": "2022-04-29T14:09:42.182146Z",
     "iopub.status.busy": "2022-04-29T14:09:42.181288Z",
     "iopub.status.idle": "2022-04-29T14:09:42.189914Z",
     "shell.execute_reply": "2022-04-29T14:09:42.189306Z"
    },
    "papermill": {
     "duration": 0.055586,
     "end_time": "2022-04-29T14:09:42.191822",
     "exception": false,
     "start_time": "2022-04-29T14:09:42.136236",
     "status": "completed"
    },
    "tags": []
   },
   "outputs": [
    {
     "data": {
      "text/plain": [
       "article_id\n",
       "760084003     1\n",
       "866731001     2\n",
       "600886001     3\n",
       "706016001     4\n",
       "372860002     5\n",
       "610776002     6\n",
       "877278002     7\n",
       "547780003     8\n",
       "817354001     9\n",
       "827968001    10\n",
       "866731003    11\n",
       "866383006    12\n",
       "Name: bestseller_rank, dtype: int8"
      ]
     },
     "execution_count": 22,
     "metadata": {},
     "output_type": "execute_result"
    }
   ],
   "source": [
    "sales.loc[95]"
   ]
  },
  {
   "cell_type": "code",
   "execution_count": 23,
   "id": "334fd4e3",
   "metadata": {
    "execution": {
     "iopub.execute_input": "2022-04-29T14:09:42.284990Z",
     "iopub.status.busy": "2022-04-29T14:09:42.284400Z",
     "iopub.status.idle": "2022-04-29T14:09:42.331988Z",
     "shell.execute_reply": "2022-04-29T14:09:42.330793Z"
    },
    "papermill": {
     "duration": 0.09688,
     "end_time": "2022-04-29T14:09:42.334405",
     "exception": false,
     "start_time": "2022-04-29T14:09:42.237525",
     "status": "completed"
    },
    "tags": []
   },
   "outputs": [],
   "source": [
    "bestsellers_previous_week = pd.merge(sales, mean_price, on=['week', 'article_id']).reset_index()\n",
    "bestsellers_previous_week.week += 1"
   ]
  },
  {
   "cell_type": "code",
   "execution_count": 24,
   "id": "2f41f6ae",
   "metadata": {
    "execution": {
     "iopub.execute_input": "2022-04-29T14:09:42.422776Z",
     "iopub.status.busy": "2022-04-29T14:09:42.422444Z",
     "iopub.status.idle": "2022-04-29T14:09:42.433505Z",
     "shell.execute_reply": "2022-04-29T14:09:42.432883Z"
    },
    "papermill": {
     "duration": 0.057701,
     "end_time": "2022-04-29T14:09:42.435447",
     "exception": false,
     "start_time": "2022-04-29T14:09:42.377746",
     "status": "completed"
    },
    "tags": []
   },
   "outputs": [
    {
     "data": {
      "text/html": [
       "<div>\n",
       "<style scoped>\n",
       "    .dataframe tbody tr th:only-of-type {\n",
       "        vertical-align: middle;\n",
       "    }\n",
       "\n",
       "    .dataframe tbody tr th {\n",
       "        vertical-align: top;\n",
       "    }\n",
       "\n",
       "    .dataframe thead th {\n",
       "        text-align: right;\n",
       "    }\n",
       "</style>\n",
       "<table border=\"1\" class=\"dataframe\">\n",
       "  <thead>\n",
       "    <tr style=\"text-align: right;\">\n",
       "      <th></th>\n",
       "      <th>week</th>\n",
       "      <th>article_id</th>\n",
       "      <th>bestseller_rank</th>\n",
       "      <th>price</th>\n",
       "    </tr>\n",
       "  </thead>\n",
       "  <tbody>\n",
       "    <tr>\n",
       "      <th>12</th>\n",
       "      <td>96</td>\n",
       "      <td>760084003</td>\n",
       "      <td>1</td>\n",
       "      <td>0.025094</td>\n",
       "    </tr>\n",
       "    <tr>\n",
       "      <th>13</th>\n",
       "      <td>96</td>\n",
       "      <td>866731001</td>\n",
       "      <td>2</td>\n",
       "      <td>0.024919</td>\n",
       "    </tr>\n",
       "    <tr>\n",
       "      <th>14</th>\n",
       "      <td>96</td>\n",
       "      <td>600886001</td>\n",
       "      <td>3</td>\n",
       "      <td>0.022980</td>\n",
       "    </tr>\n",
       "    <tr>\n",
       "      <th>15</th>\n",
       "      <td>96</td>\n",
       "      <td>706016001</td>\n",
       "      <td>4</td>\n",
       "      <td>0.033197</td>\n",
       "    </tr>\n",
       "    <tr>\n",
       "      <th>16</th>\n",
       "      <td>96</td>\n",
       "      <td>372860002</td>\n",
       "      <td>5</td>\n",
       "      <td>0.013193</td>\n",
       "    </tr>\n",
       "    <tr>\n",
       "      <th>17</th>\n",
       "      <td>96</td>\n",
       "      <td>610776002</td>\n",
       "      <td>6</td>\n",
       "      <td>0.008318</td>\n",
       "    </tr>\n",
       "    <tr>\n",
       "      <th>18</th>\n",
       "      <td>96</td>\n",
       "      <td>877278002</td>\n",
       "      <td>7</td>\n",
       "      <td>0.025036</td>\n",
       "    </tr>\n",
       "    <tr>\n",
       "      <th>19</th>\n",
       "      <td>96</td>\n",
       "      <td>547780003</td>\n",
       "      <td>8</td>\n",
       "      <td>0.024814</td>\n",
       "    </tr>\n",
       "    <tr>\n",
       "      <th>20</th>\n",
       "      <td>96</td>\n",
       "      <td>817354001</td>\n",
       "      <td>9</td>\n",
       "      <td>0.021913</td>\n",
       "    </tr>\n",
       "    <tr>\n",
       "      <th>21</th>\n",
       "      <td>96</td>\n",
       "      <td>827968001</td>\n",
       "      <td>10</td>\n",
       "      <td>0.016436</td>\n",
       "    </tr>\n",
       "    <tr>\n",
       "      <th>22</th>\n",
       "      <td>96</td>\n",
       "      <td>866731003</td>\n",
       "      <td>11</td>\n",
       "      <td>0.024893</td>\n",
       "    </tr>\n",
       "    <tr>\n",
       "      <th>23</th>\n",
       "      <td>96</td>\n",
       "      <td>866383006</td>\n",
       "      <td>12</td>\n",
       "      <td>0.023195</td>\n",
       "    </tr>\n",
       "  </tbody>\n",
       "</table>\n",
       "</div>"
      ],
      "text/plain": [
       "    week  article_id  bestseller_rank     price\n",
       "12    96   760084003                1  0.025094\n",
       "13    96   866731001                2  0.024919\n",
       "14    96   600886001                3  0.022980\n",
       "15    96   706016001                4  0.033197\n",
       "16    96   372860002                5  0.013193\n",
       "17    96   610776002                6  0.008318\n",
       "18    96   877278002                7  0.025036\n",
       "19    96   547780003                8  0.024814\n",
       "20    96   817354001                9  0.021913\n",
       "21    96   827968001               10  0.016436\n",
       "22    96   866731003               11  0.024893\n",
       "23    96   866383006               12  0.023195"
      ]
     },
     "execution_count": 24,
     "metadata": {},
     "output_type": "execute_result"
    }
   ],
   "source": [
    "bestsellers_previous_week.pipe(lambda df: df[df['week']==96])"
   ]
  },
  {
   "cell_type": "code",
   "execution_count": 25,
   "id": "21b211e8",
   "metadata": {
    "execution": {
     "iopub.execute_input": "2022-04-29T14:09:42.524289Z",
     "iopub.status.busy": "2022-04-29T14:09:42.523762Z",
     "iopub.status.idle": "2022-04-29T14:09:43.225003Z",
     "shell.execute_reply": "2022-04-29T14:09:43.224134Z"
    },
    "papermill": {
     "duration": 0.748115,
     "end_time": "2022-04-29T14:09:43.227359",
     "exception": false,
     "start_time": "2022-04-29T14:09:42.479244",
     "status": "completed"
    },
    "tags": []
   },
   "outputs": [],
   "source": [
    "unique_transactions = transactions \\\n",
    "    .groupby(['week', 'customer_id']) \\\n",
    "    .head(1) \\\n",
    "    .drop(columns=['article_id', 'price']) \\\n",
    "    .copy()"
   ]
  },
  {
   "cell_type": "code",
   "execution_count": 26,
   "id": "0a8a857e",
   "metadata": {
    "execution": {
     "iopub.execute_input": "2022-04-29T14:09:43.316536Z",
     "iopub.status.busy": "2022-04-29T14:09:43.316209Z",
     "iopub.status.idle": "2022-04-29T14:09:43.329579Z",
     "shell.execute_reply": "2022-04-29T14:09:43.328963Z"
    },
    "papermill": {
     "duration": 0.060631,
     "end_time": "2022-04-29T14:09:43.331570",
     "exception": false,
     "start_time": "2022-04-29T14:09:43.270939",
     "status": "completed"
    },
    "tags": []
   },
   "outputs": [
    {
     "data": {
      "text/html": [
       "<div>\n",
       "<style scoped>\n",
       "    .dataframe tbody tr th:only-of-type {\n",
       "        vertical-align: middle;\n",
       "    }\n",
       "\n",
       "    .dataframe tbody tr th {\n",
       "        vertical-align: top;\n",
       "    }\n",
       "\n",
       "    .dataframe thead th {\n",
       "        text-align: right;\n",
       "    }\n",
       "</style>\n",
       "<table border=\"1\" class=\"dataframe\">\n",
       "  <thead>\n",
       "    <tr style=\"text-align: right;\">\n",
       "      <th></th>\n",
       "      <th>t_dat</th>\n",
       "      <th>customer_id</th>\n",
       "      <th>sales_channel_id</th>\n",
       "      <th>week</th>\n",
       "    </tr>\n",
       "  </thead>\n",
       "  <tbody>\n",
       "    <tr>\n",
       "      <th>28777300</th>\n",
       "      <td>2020-07-08</td>\n",
       "      <td>857913002275398</td>\n",
       "      <td>1</td>\n",
       "      <td>94</td>\n",
       "    </tr>\n",
       "    <tr>\n",
       "      <th>28787123</th>\n",
       "      <td>2020-07-08</td>\n",
       "      <td>1658289241058394</td>\n",
       "      <td>1</td>\n",
       "      <td>94</td>\n",
       "    </tr>\n",
       "    <tr>\n",
       "      <th>28788562</th>\n",
       "      <td>2020-07-08</td>\n",
       "      <td>3828854365940846</td>\n",
       "      <td>1</td>\n",
       "      <td>94</td>\n",
       "    </tr>\n",
       "    <tr>\n",
       "      <th>28744235</th>\n",
       "      <td>2020-07-08</td>\n",
       "      <td>4195624216542755</td>\n",
       "      <td>1</td>\n",
       "      <td>94</td>\n",
       "    </tr>\n",
       "    <tr>\n",
       "      <th>28753719</th>\n",
       "      <td>2020-07-08</td>\n",
       "      <td>4233235614030232</td>\n",
       "      <td>2</td>\n",
       "      <td>94</td>\n",
       "    </tr>\n",
       "    <tr>\n",
       "      <th>...</th>\n",
       "      <td>...</td>\n",
       "      <td>...</td>\n",
       "      <td>...</td>\n",
       "      <td>...</td>\n",
       "    </tr>\n",
       "    <tr>\n",
       "      <th>31521960</th>\n",
       "      <td>2020-09-15</td>\n",
       "      <td>18439897732908966680</td>\n",
       "      <td>2</td>\n",
       "      <td>103</td>\n",
       "    </tr>\n",
       "    <tr>\n",
       "      <th>31531712</th>\n",
       "      <td>2020-09-15</td>\n",
       "      <td>18444276791873187543</td>\n",
       "      <td>2</td>\n",
       "      <td>103</td>\n",
       "    </tr>\n",
       "    <tr>\n",
       "      <th>31539937</th>\n",
       "      <td>2020-09-15</td>\n",
       "      <td>18444799607866739422</td>\n",
       "      <td>2</td>\n",
       "      <td>103</td>\n",
       "    </tr>\n",
       "    <tr>\n",
       "      <th>31543799</th>\n",
       "      <td>2020-09-15</td>\n",
       "      <td>18446250046654386343</td>\n",
       "      <td>1</td>\n",
       "      <td>103</td>\n",
       "    </tr>\n",
       "    <tr>\n",
       "      <th>31536744</th>\n",
       "      <td>2020-09-15</td>\n",
       "      <td>18446630855572834764</td>\n",
       "      <td>2</td>\n",
       "      <td>103</td>\n",
       "    </tr>\n",
       "  </tbody>\n",
       "</table>\n",
       "<p>762722 rows × 4 columns</p>\n",
       "</div>"
      ],
      "text/plain": [
       "              t_dat           customer_id  sales_channel_id  week\n",
       "28777300 2020-07-08       857913002275398                 1    94\n",
       "28787123 2020-07-08      1658289241058394                 1    94\n",
       "28788562 2020-07-08      3828854365940846                 1    94\n",
       "28744235 2020-07-08      4195624216542755                 1    94\n",
       "28753719 2020-07-08      4233235614030232                 2    94\n",
       "...             ...                   ...               ...   ...\n",
       "31521960 2020-09-15  18439897732908966680                 2   103\n",
       "31531712 2020-09-15  18444276791873187543                 2   103\n",
       "31539937 2020-09-15  18444799607866739422                 2   103\n",
       "31543799 2020-09-15  18446250046654386343                 1   103\n",
       "31536744 2020-09-15  18446630855572834764                 2   103\n",
       "\n",
       "[762722 rows x 4 columns]"
      ]
     },
     "execution_count": 26,
     "metadata": {},
     "output_type": "execute_result"
    }
   ],
   "source": [
    "unique_transactions"
   ]
  },
  {
   "cell_type": "code",
   "execution_count": 27,
   "id": "c626f7ab",
   "metadata": {
    "execution": {
     "iopub.execute_input": "2022-04-29T14:09:43.422104Z",
     "iopub.status.busy": "2022-04-29T14:09:43.421231Z",
     "iopub.status.idle": "2022-04-29T14:09:43.770734Z",
     "shell.execute_reply": "2022-04-29T14:09:43.769842Z"
    },
    "papermill": {
     "duration": 0.397479,
     "end_time": "2022-04-29T14:09:43.773615",
     "exception": false,
     "start_time": "2022-04-29T14:09:43.376136",
     "status": "completed"
    },
    "tags": []
   },
   "outputs": [
    {
     "data": {
      "text/html": [
       "<div>\n",
       "<style scoped>\n",
       "    .dataframe tbody tr th:only-of-type {\n",
       "        vertical-align: middle;\n",
       "    }\n",
       "\n",
       "    .dataframe tbody tr th {\n",
       "        vertical-align: top;\n",
       "    }\n",
       "\n",
       "    .dataframe thead th {\n",
       "        text-align: right;\n",
       "    }\n",
       "</style>\n",
       "<table border=\"1\" class=\"dataframe\">\n",
       "  <thead>\n",
       "    <tr style=\"text-align: right;\">\n",
       "      <th></th>\n",
       "      <th>t_dat</th>\n",
       "      <th>customer_id</th>\n",
       "      <th>article_id</th>\n",
       "      <th>price</th>\n",
       "      <th>sales_channel_id</th>\n",
       "      <th>week</th>\n",
       "    </tr>\n",
       "  </thead>\n",
       "  <tbody>\n",
       "    <tr>\n",
       "      <th>28777300</th>\n",
       "      <td>2020-07-08</td>\n",
       "      <td>857913002275398</td>\n",
       "      <td>599580068</td>\n",
       "      <td>0.008458</td>\n",
       "      <td>1</td>\n",
       "      <td>94</td>\n",
       "    </tr>\n",
       "    <tr>\n",
       "      <th>28787123</th>\n",
       "      <td>2020-07-08</td>\n",
       "      <td>1658289241058394</td>\n",
       "      <td>877773001</td>\n",
       "      <td>0.007610</td>\n",
       "      <td>1</td>\n",
       "      <td>94</td>\n",
       "    </tr>\n",
       "    <tr>\n",
       "      <th>28788562</th>\n",
       "      <td>2020-07-08</td>\n",
       "      <td>3828854365940846</td>\n",
       "      <td>507883009</td>\n",
       "      <td>0.013542</td>\n",
       "      <td>1</td>\n",
       "      <td>94</td>\n",
       "    </tr>\n",
       "    <tr>\n",
       "      <th>28744235</th>\n",
       "      <td>2020-07-08</td>\n",
       "      <td>4195624216542755</td>\n",
       "      <td>817417005</td>\n",
       "      <td>0.022864</td>\n",
       "      <td>1</td>\n",
       "      <td>94</td>\n",
       "    </tr>\n",
       "    <tr>\n",
       "      <th>28753719</th>\n",
       "      <td>2020-07-08</td>\n",
       "      <td>4233235614030232</td>\n",
       "      <td>876986001</td>\n",
       "      <td>0.030492</td>\n",
       "      <td>2</td>\n",
       "      <td>94</td>\n",
       "    </tr>\n",
       "    <tr>\n",
       "      <th>...</th>\n",
       "      <td>...</td>\n",
       "      <td>...</td>\n",
       "      <td>...</td>\n",
       "      <td>...</td>\n",
       "      <td>...</td>\n",
       "      <td>...</td>\n",
       "    </tr>\n",
       "    <tr>\n",
       "      <th>31521960</th>\n",
       "      <td>2020-09-15</td>\n",
       "      <td>18439897732908966680</td>\n",
       "      <td>794321007</td>\n",
       "      <td>0.061000</td>\n",
       "      <td>2</td>\n",
       "      <td>103</td>\n",
       "    </tr>\n",
       "    <tr>\n",
       "      <th>31531712</th>\n",
       "      <td>2020-09-15</td>\n",
       "      <td>18444276791873187543</td>\n",
       "      <td>867969008</td>\n",
       "      <td>0.033881</td>\n",
       "      <td>2</td>\n",
       "      <td>103</td>\n",
       "    </tr>\n",
       "    <tr>\n",
       "      <th>31539937</th>\n",
       "      <td>2020-09-15</td>\n",
       "      <td>18444799607866739422</td>\n",
       "      <td>909721003</td>\n",
       "      <td>0.042356</td>\n",
       "      <td>2</td>\n",
       "      <td>103</td>\n",
       "    </tr>\n",
       "    <tr>\n",
       "      <th>31543799</th>\n",
       "      <td>2020-09-15</td>\n",
       "      <td>18446250046654386343</td>\n",
       "      <td>869872006</td>\n",
       "      <td>0.033881</td>\n",
       "      <td>1</td>\n",
       "      <td>103</td>\n",
       "    </tr>\n",
       "    <tr>\n",
       "      <th>31536744</th>\n",
       "      <td>2020-09-15</td>\n",
       "      <td>18446630855572834764</td>\n",
       "      <td>568601045</td>\n",
       "      <td>0.050831</td>\n",
       "      <td>2</td>\n",
       "      <td>103</td>\n",
       "    </tr>\n",
       "  </tbody>\n",
       "</table>\n",
       "<p>762722 rows × 6 columns</p>\n",
       "</div>"
      ],
      "text/plain": [
       "              t_dat           customer_id  article_id     price  \\\n",
       "28777300 2020-07-08       857913002275398   599580068  0.008458   \n",
       "28787123 2020-07-08      1658289241058394   877773001  0.007610   \n",
       "28788562 2020-07-08      3828854365940846   507883009  0.013542   \n",
       "28744235 2020-07-08      4195624216542755   817417005  0.022864   \n",
       "28753719 2020-07-08      4233235614030232   876986001  0.030492   \n",
       "...             ...                   ...         ...       ...   \n",
       "31521960 2020-09-15  18439897732908966680   794321007  0.061000   \n",
       "31531712 2020-09-15  18444276791873187543   867969008  0.033881   \n",
       "31539937 2020-09-15  18444799607866739422   909721003  0.042356   \n",
       "31543799 2020-09-15  18446250046654386343   869872006  0.033881   \n",
       "31536744 2020-09-15  18446630855572834764   568601045  0.050831   \n",
       "\n",
       "          sales_channel_id  week  \n",
       "28777300                 1    94  \n",
       "28787123                 1    94  \n",
       "28788562                 1    94  \n",
       "28744235                 1    94  \n",
       "28753719                 2    94  \n",
       "...                    ...   ...  \n",
       "31521960                 2   103  \n",
       "31531712                 2   103  \n",
       "31539937                 2   103  \n",
       "31543799                 1   103  \n",
       "31536744                 2   103  \n",
       "\n",
       "[762722 rows x 6 columns]"
      ]
     },
     "execution_count": 27,
     "metadata": {},
     "output_type": "execute_result"
    }
   ],
   "source": [
    "transactions.drop_duplicates(['week', 'customer_id'])"
   ]
  },
  {
   "cell_type": "code",
   "execution_count": 28,
   "id": "9ee33727",
   "metadata": {
    "execution": {
     "iopub.execute_input": "2022-04-29T14:09:43.883317Z",
     "iopub.status.busy": "2022-04-29T14:09:43.882375Z",
     "iopub.status.idle": "2022-04-29T14:09:44.617153Z",
     "shell.execute_reply": "2022-04-29T14:09:44.616537Z"
    },
    "papermill": {
     "duration": 0.78932,
     "end_time": "2022-04-29T14:09:44.619264",
     "exception": false,
     "start_time": "2022-04-29T14:09:43.829944",
     "status": "completed"
    },
    "tags": []
   },
   "outputs": [],
   "source": [
    "candidates_bestsellers = pd.merge(\n",
    "    unique_transactions,\n",
    "    bestsellers_previous_week,\n",
    "    on='week',\n",
    ")"
   ]
  },
  {
   "cell_type": "code",
   "execution_count": 29,
   "id": "29d95f9e",
   "metadata": {
    "execution": {
     "iopub.execute_input": "2022-04-29T14:09:44.713457Z",
     "iopub.status.busy": "2022-04-29T14:09:44.712877Z",
     "iopub.status.idle": "2022-04-29T14:09:44.830258Z",
     "shell.execute_reply": "2022-04-29T14:09:44.829385Z"
    },
    "papermill": {
     "duration": 0.168829,
     "end_time": "2022-04-29T14:09:44.832578",
     "exception": false,
     "start_time": "2022-04-29T14:09:44.663749",
     "status": "completed"
    },
    "tags": []
   },
   "outputs": [],
   "source": [
    "test_set_transactions = unique_transactions.drop_duplicates('customer_id').reset_index(drop=True)\n",
    "test_set_transactions.week = test_week"
   ]
  },
  {
   "cell_type": "code",
   "execution_count": 30,
   "id": "e902d8ec",
   "metadata": {
    "execution": {
     "iopub.execute_input": "2022-04-29T14:09:44.924176Z",
     "iopub.status.busy": "2022-04-29T14:09:44.923345Z",
     "iopub.status.idle": "2022-04-29T14:09:44.936687Z",
     "shell.execute_reply": "2022-04-29T14:09:44.935703Z"
    },
    "papermill": {
     "duration": 0.061645,
     "end_time": "2022-04-29T14:09:44.938680",
     "exception": false,
     "start_time": "2022-04-29T14:09:44.877035",
     "status": "completed"
    },
    "tags": []
   },
   "outputs": [
    {
     "data": {
      "text/html": [
       "<div>\n",
       "<style scoped>\n",
       "    .dataframe tbody tr th:only-of-type {\n",
       "        vertical-align: middle;\n",
       "    }\n",
       "\n",
       "    .dataframe tbody tr th {\n",
       "        vertical-align: top;\n",
       "    }\n",
       "\n",
       "    .dataframe thead th {\n",
       "        text-align: right;\n",
       "    }\n",
       "</style>\n",
       "<table border=\"1\" class=\"dataframe\">\n",
       "  <thead>\n",
       "    <tr style=\"text-align: right;\">\n",
       "      <th></th>\n",
       "      <th>t_dat</th>\n",
       "      <th>customer_id</th>\n",
       "      <th>sales_channel_id</th>\n",
       "      <th>week</th>\n",
       "    </tr>\n",
       "  </thead>\n",
       "  <tbody>\n",
       "    <tr>\n",
       "      <th>0</th>\n",
       "      <td>2020-07-08</td>\n",
       "      <td>857913002275398</td>\n",
       "      <td>1</td>\n",
       "      <td>104</td>\n",
       "    </tr>\n",
       "    <tr>\n",
       "      <th>1</th>\n",
       "      <td>2020-07-08</td>\n",
       "      <td>1658289241058394</td>\n",
       "      <td>1</td>\n",
       "      <td>104</td>\n",
       "    </tr>\n",
       "    <tr>\n",
       "      <th>2</th>\n",
       "      <td>2020-07-08</td>\n",
       "      <td>3828854365940846</td>\n",
       "      <td>1</td>\n",
       "      <td>104</td>\n",
       "    </tr>\n",
       "    <tr>\n",
       "      <th>3</th>\n",
       "      <td>2020-07-08</td>\n",
       "      <td>4195624216542755</td>\n",
       "      <td>1</td>\n",
       "      <td>104</td>\n",
       "    </tr>\n",
       "    <tr>\n",
       "      <th>4</th>\n",
       "      <td>2020-07-08</td>\n",
       "      <td>4233235614030232</td>\n",
       "      <td>2</td>\n",
       "      <td>104</td>\n",
       "    </tr>\n",
       "    <tr>\n",
       "      <th>...</th>\n",
       "      <td>...</td>\n",
       "      <td>...</td>\n",
       "      <td>...</td>\n",
       "      <td>...</td>\n",
       "    </tr>\n",
       "    <tr>\n",
       "      <th>439363</th>\n",
       "      <td>2020-09-15</td>\n",
       "      <td>18431808737044686839</td>\n",
       "      <td>1</td>\n",
       "      <td>104</td>\n",
       "    </tr>\n",
       "    <tr>\n",
       "      <th>439364</th>\n",
       "      <td>2020-09-15</td>\n",
       "      <td>18436707407200418746</td>\n",
       "      <td>2</td>\n",
       "      <td>104</td>\n",
       "    </tr>\n",
       "    <tr>\n",
       "      <th>439365</th>\n",
       "      <td>2020-09-15</td>\n",
       "      <td>18439897732908966680</td>\n",
       "      <td>2</td>\n",
       "      <td>104</td>\n",
       "    </tr>\n",
       "    <tr>\n",
       "      <th>439366</th>\n",
       "      <td>2020-09-15</td>\n",
       "      <td>18446250046654386343</td>\n",
       "      <td>1</td>\n",
       "      <td>104</td>\n",
       "    </tr>\n",
       "    <tr>\n",
       "      <th>439367</th>\n",
       "      <td>2020-09-15</td>\n",
       "      <td>18446630855572834764</td>\n",
       "      <td>2</td>\n",
       "      <td>104</td>\n",
       "    </tr>\n",
       "  </tbody>\n",
       "</table>\n",
       "<p>439368 rows × 4 columns</p>\n",
       "</div>"
      ],
      "text/plain": [
       "            t_dat           customer_id  sales_channel_id  week\n",
       "0      2020-07-08       857913002275398                 1   104\n",
       "1      2020-07-08      1658289241058394                 1   104\n",
       "2      2020-07-08      3828854365940846                 1   104\n",
       "3      2020-07-08      4195624216542755                 1   104\n",
       "4      2020-07-08      4233235614030232                 2   104\n",
       "...           ...                   ...               ...   ...\n",
       "439363 2020-09-15  18431808737044686839                 1   104\n",
       "439364 2020-09-15  18436707407200418746                 2   104\n",
       "439365 2020-09-15  18439897732908966680                 2   104\n",
       "439366 2020-09-15  18446250046654386343                 1   104\n",
       "439367 2020-09-15  18446630855572834764                 2   104\n",
       "\n",
       "[439368 rows x 4 columns]"
      ]
     },
     "execution_count": 30,
     "metadata": {},
     "output_type": "execute_result"
    }
   ],
   "source": [
    "test_set_transactions"
   ]
  },
  {
   "cell_type": "code",
   "execution_count": 31,
   "id": "2425827f",
   "metadata": {
    "execution": {
     "iopub.execute_input": "2022-04-29T14:09:45.031030Z",
     "iopub.status.busy": "2022-04-29T14:09:45.030284Z",
     "iopub.status.idle": "2022-04-29T14:09:45.437114Z",
     "shell.execute_reply": "2022-04-29T14:09:45.435981Z"
    },
    "papermill": {
     "duration": 0.455864,
     "end_time": "2022-04-29T14:09:45.439211",
     "exception": false,
     "start_time": "2022-04-29T14:09:44.983347",
     "status": "completed"
    },
    "tags": []
   },
   "outputs": [],
   "source": [
    "candidates_bestsellers_test_week = pd.merge(\n",
    "    test_set_transactions,\n",
    "    bestsellers_previous_week,\n",
    "    on='week'\n",
    ")"
   ]
  },
  {
   "cell_type": "code",
   "execution_count": 32,
   "id": "e88fce72",
   "metadata": {
    "execution": {
     "iopub.execute_input": "2022-04-29T14:09:45.532572Z",
     "iopub.status.busy": "2022-04-29T14:09:45.532028Z",
     "iopub.status.idle": "2022-04-29T14:09:46.278864Z",
     "shell.execute_reply": "2022-04-29T14:09:46.277921Z"
    },
    "papermill": {
     "duration": 0.796226,
     "end_time": "2022-04-29T14:09:46.281004",
     "exception": false,
     "start_time": "2022-04-29T14:09:45.484778",
     "status": "completed"
    },
    "tags": []
   },
   "outputs": [],
   "source": [
    "candidates_bestsellers = pd.concat([candidates_bestsellers, candidates_bestsellers_test_week])\n",
    "candidates_bestsellers.drop(columns='bestseller_rank', inplace=True)"
   ]
  },
  {
   "cell_type": "code",
   "execution_count": 33,
   "id": "3cbfd815",
   "metadata": {
    "execution": {
     "iopub.execute_input": "2022-04-29T14:09:46.372828Z",
     "iopub.status.busy": "2022-04-29T14:09:46.372385Z",
     "iopub.status.idle": "2022-04-29T14:09:46.385930Z",
     "shell.execute_reply": "2022-04-29T14:09:46.384943Z"
    },
    "papermill": {
     "duration": 0.062111,
     "end_time": "2022-04-29T14:09:46.388124",
     "exception": false,
     "start_time": "2022-04-29T14:09:46.326013",
     "status": "completed"
    },
    "tags": []
   },
   "outputs": [
    {
     "data": {
      "text/html": [
       "<div>\n",
       "<style scoped>\n",
       "    .dataframe tbody tr th:only-of-type {\n",
       "        vertical-align: middle;\n",
       "    }\n",
       "\n",
       "    .dataframe tbody tr th {\n",
       "        vertical-align: top;\n",
       "    }\n",
       "\n",
       "    .dataframe thead th {\n",
       "        text-align: right;\n",
       "    }\n",
       "</style>\n",
       "<table border=\"1\" class=\"dataframe\">\n",
       "  <thead>\n",
       "    <tr style=\"text-align: right;\">\n",
       "      <th></th>\n",
       "      <th>t_dat</th>\n",
       "      <th>customer_id</th>\n",
       "      <th>sales_channel_id</th>\n",
       "      <th>week</th>\n",
       "      <th>article_id</th>\n",
       "      <th>price</th>\n",
       "    </tr>\n",
       "  </thead>\n",
       "  <tbody>\n",
       "    <tr>\n",
       "      <th>0</th>\n",
       "      <td>2020-07-15</td>\n",
       "      <td>272412481300040</td>\n",
       "      <td>1</td>\n",
       "      <td>95</td>\n",
       "      <td>806388001</td>\n",
       "      <td>0.013301</td>\n",
       "    </tr>\n",
       "    <tr>\n",
       "      <th>1</th>\n",
       "      <td>2020-07-15</td>\n",
       "      <td>272412481300040</td>\n",
       "      <td>1</td>\n",
       "      <td>95</td>\n",
       "      <td>730683021</td>\n",
       "      <td>0.025643</td>\n",
       "    </tr>\n",
       "    <tr>\n",
       "      <th>2</th>\n",
       "      <td>2020-07-15</td>\n",
       "      <td>272412481300040</td>\n",
       "      <td>1</td>\n",
       "      <td>95</td>\n",
       "      <td>610776002</td>\n",
       "      <td>0.008303</td>\n",
       "    </tr>\n",
       "    <tr>\n",
       "      <th>3</th>\n",
       "      <td>2020-07-15</td>\n",
       "      <td>272412481300040</td>\n",
       "      <td>1</td>\n",
       "      <td>95</td>\n",
       "      <td>805308002</td>\n",
       "      <td>0.013609</td>\n",
       "    </tr>\n",
       "    <tr>\n",
       "      <th>4</th>\n",
       "      <td>2020-07-15</td>\n",
       "      <td>272412481300040</td>\n",
       "      <td>1</td>\n",
       "      <td>95</td>\n",
       "      <td>866383006</td>\n",
       "      <td>0.024971</td>\n",
       "    </tr>\n",
       "    <tr>\n",
       "      <th>...</th>\n",
       "      <td>...</td>\n",
       "      <td>...</td>\n",
       "      <td>...</td>\n",
       "      <td>...</td>\n",
       "      <td>...</td>\n",
       "      <td>...</td>\n",
       "    </tr>\n",
       "    <tr>\n",
       "      <th>5272411</th>\n",
       "      <td>2020-09-15</td>\n",
       "      <td>18446630855572834764</td>\n",
       "      <td>2</td>\n",
       "      <td>104</td>\n",
       "      <td>918292001</td>\n",
       "      <td>0.041424</td>\n",
       "    </tr>\n",
       "    <tr>\n",
       "      <th>5272412</th>\n",
       "      <td>2020-09-15</td>\n",
       "      <td>18446630855572834764</td>\n",
       "      <td>2</td>\n",
       "      <td>104</td>\n",
       "      <td>762846027</td>\n",
       "      <td>0.025104</td>\n",
       "    </tr>\n",
       "    <tr>\n",
       "      <th>5272413</th>\n",
       "      <td>2020-09-15</td>\n",
       "      <td>18446630855572834764</td>\n",
       "      <td>2</td>\n",
       "      <td>104</td>\n",
       "      <td>809238005</td>\n",
       "      <td>0.041656</td>\n",
       "    </tr>\n",
       "    <tr>\n",
       "      <th>5272414</th>\n",
       "      <td>2020-09-15</td>\n",
       "      <td>18446630855572834764</td>\n",
       "      <td>2</td>\n",
       "      <td>104</td>\n",
       "      <td>673677002</td>\n",
       "      <td>0.024925</td>\n",
       "    </tr>\n",
       "    <tr>\n",
       "      <th>5272415</th>\n",
       "      <td>2020-09-15</td>\n",
       "      <td>18446630855572834764</td>\n",
       "      <td>2</td>\n",
       "      <td>104</td>\n",
       "      <td>923758001</td>\n",
       "      <td>0.033478</td>\n",
       "    </tr>\n",
       "  </tbody>\n",
       "</table>\n",
       "<p>13513128 rows × 6 columns</p>\n",
       "</div>"
      ],
      "text/plain": [
       "             t_dat           customer_id  sales_channel_id  week  article_id  \\\n",
       "0       2020-07-15       272412481300040                 1    95   806388001   \n",
       "1       2020-07-15       272412481300040                 1    95   730683021   \n",
       "2       2020-07-15       272412481300040                 1    95   610776002   \n",
       "3       2020-07-15       272412481300040                 1    95   805308002   \n",
       "4       2020-07-15       272412481300040                 1    95   866383006   \n",
       "...            ...                   ...               ...   ...         ...   \n",
       "5272411 2020-09-15  18446630855572834764                 2   104   918292001   \n",
       "5272412 2020-09-15  18446630855572834764                 2   104   762846027   \n",
       "5272413 2020-09-15  18446630855572834764                 2   104   809238005   \n",
       "5272414 2020-09-15  18446630855572834764                 2   104   673677002   \n",
       "5272415 2020-09-15  18446630855572834764                 2   104   923758001   \n",
       "\n",
       "            price  \n",
       "0        0.013301  \n",
       "1        0.025643  \n",
       "2        0.008303  \n",
       "3        0.013609  \n",
       "4        0.024971  \n",
       "...           ...  \n",
       "5272411  0.041424  \n",
       "5272412  0.025104  \n",
       "5272413  0.041656  \n",
       "5272414  0.024925  \n",
       "5272415  0.033478  \n",
       "\n",
       "[13513128 rows x 6 columns]"
      ]
     },
     "execution_count": 33,
     "metadata": {},
     "output_type": "execute_result"
    }
   ],
   "source": [
    "candidates_bestsellers"
   ]
  },
  {
   "cell_type": "markdown",
   "id": "39f239e5",
   "metadata": {
    "papermill": {
     "duration": 0.045555,
     "end_time": "2022-04-29T14:09:46.479163",
     "exception": false,
     "start_time": "2022-04-29T14:09:46.433608",
     "status": "completed"
    },
    "tags": []
   },
   "source": [
    "# Combining transactions and candidates / negative examples"
   ]
  },
  {
   "cell_type": "code",
   "execution_count": 34,
   "id": "35038e8e",
   "metadata": {
    "execution": {
     "iopub.execute_input": "2022-04-29T14:09:46.572397Z",
     "iopub.status.busy": "2022-04-29T14:09:46.572128Z",
     "iopub.status.idle": "2022-04-29T14:09:46.582731Z",
     "shell.execute_reply": "2022-04-29T14:09:46.581765Z"
    },
    "papermill": {
     "duration": 0.060129,
     "end_time": "2022-04-29T14:09:46.585007",
     "exception": false,
     "start_time": "2022-04-29T14:09:46.524878",
     "status": "completed"
    },
    "tags": []
   },
   "outputs": [],
   "source": [
    "transactions['purchased'] = 1"
   ]
  },
  {
   "cell_type": "code",
   "execution_count": 35,
   "id": "ec51e167",
   "metadata": {
    "execution": {
     "iopub.execute_input": "2022-04-29T14:09:46.677816Z",
     "iopub.status.busy": "2022-04-29T14:09:46.677512Z",
     "iopub.status.idle": "2022-04-29T14:09:47.146188Z",
     "shell.execute_reply": "2022-04-29T14:09:47.145328Z"
    },
    "papermill": {
     "duration": 0.517717,
     "end_time": "2022-04-29T14:09:47.148423",
     "exception": false,
     "start_time": "2022-04-29T14:09:46.630706",
     "status": "completed"
    },
    "tags": []
   },
   "outputs": [],
   "source": [
    "data = pd.concat([transactions, candidates_last_purchase, candidates_bestsellers])\n",
    "data.purchased.fillna(0, inplace=True)"
   ]
  },
  {
   "cell_type": "code",
   "execution_count": 36,
   "id": "96ccbf67",
   "metadata": {
    "execution": {
     "iopub.execute_input": "2022-04-29T14:09:47.241221Z",
     "iopub.status.busy": "2022-04-29T14:09:47.240709Z",
     "iopub.status.idle": "2022-04-29T14:09:47.257094Z",
     "shell.execute_reply": "2022-04-29T14:09:47.256197Z"
    },
    "papermill": {
     "duration": 0.06527,
     "end_time": "2022-04-29T14:09:47.259159",
     "exception": false,
     "start_time": "2022-04-29T14:09:47.193889",
     "status": "completed"
    },
    "tags": []
   },
   "outputs": [
    {
     "data": {
      "text/html": [
       "<div>\n",
       "<style scoped>\n",
       "    .dataframe tbody tr th:only-of-type {\n",
       "        vertical-align: middle;\n",
       "    }\n",
       "\n",
       "    .dataframe tbody tr th {\n",
       "        vertical-align: top;\n",
       "    }\n",
       "\n",
       "    .dataframe thead th {\n",
       "        text-align: right;\n",
       "    }\n",
       "</style>\n",
       "<table border=\"1\" class=\"dataframe\">\n",
       "  <thead>\n",
       "    <tr style=\"text-align: right;\">\n",
       "      <th></th>\n",
       "      <th>t_dat</th>\n",
       "      <th>customer_id</th>\n",
       "      <th>article_id</th>\n",
       "      <th>price</th>\n",
       "      <th>sales_channel_id</th>\n",
       "      <th>week</th>\n",
       "      <th>purchased</th>\n",
       "    </tr>\n",
       "  </thead>\n",
       "  <tbody>\n",
       "    <tr>\n",
       "      <th>28777300</th>\n",
       "      <td>2020-07-08</td>\n",
       "      <td>857913002275398</td>\n",
       "      <td>599580068</td>\n",
       "      <td>0.008458</td>\n",
       "      <td>1</td>\n",
       "      <td>94</td>\n",
       "      <td>1.0</td>\n",
       "    </tr>\n",
       "    <tr>\n",
       "      <th>28777301</th>\n",
       "      <td>2020-07-08</td>\n",
       "      <td>857913002275398</td>\n",
       "      <td>776237011</td>\n",
       "      <td>0.025407</td>\n",
       "      <td>1</td>\n",
       "      <td>94</td>\n",
       "      <td>1.0</td>\n",
       "    </tr>\n",
       "    <tr>\n",
       "      <th>28777302</th>\n",
       "      <td>2020-07-08</td>\n",
       "      <td>857913002275398</td>\n",
       "      <td>844294001</td>\n",
       "      <td>0.011847</td>\n",
       "      <td>1</td>\n",
       "      <td>94</td>\n",
       "      <td>1.0</td>\n",
       "    </tr>\n",
       "    <tr>\n",
       "      <th>28787123</th>\n",
       "      <td>2020-07-08</td>\n",
       "      <td>1658289241058394</td>\n",
       "      <td>877773001</td>\n",
       "      <td>0.007610</td>\n",
       "      <td>1</td>\n",
       "      <td>94</td>\n",
       "      <td>1.0</td>\n",
       "    </tr>\n",
       "    <tr>\n",
       "      <th>28788562</th>\n",
       "      <td>2020-07-08</td>\n",
       "      <td>3828854365940846</td>\n",
       "      <td>507883009</td>\n",
       "      <td>0.013542</td>\n",
       "      <td>1</td>\n",
       "      <td>94</td>\n",
       "      <td>1.0</td>\n",
       "    </tr>\n",
       "    <tr>\n",
       "      <th>...</th>\n",
       "      <td>...</td>\n",
       "      <td>...</td>\n",
       "      <td>...</td>\n",
       "      <td>...</td>\n",
       "      <td>...</td>\n",
       "      <td>...</td>\n",
       "      <td>...</td>\n",
       "    </tr>\n",
       "    <tr>\n",
       "      <th>5272411</th>\n",
       "      <td>2020-09-15</td>\n",
       "      <td>18446630855572834764</td>\n",
       "      <td>918292001</td>\n",
       "      <td>0.041424</td>\n",
       "      <td>2</td>\n",
       "      <td>104</td>\n",
       "      <td>0.0</td>\n",
       "    </tr>\n",
       "    <tr>\n",
       "      <th>5272412</th>\n",
       "      <td>2020-09-15</td>\n",
       "      <td>18446630855572834764</td>\n",
       "      <td>762846027</td>\n",
       "      <td>0.025104</td>\n",
       "      <td>2</td>\n",
       "      <td>104</td>\n",
       "      <td>0.0</td>\n",
       "    </tr>\n",
       "    <tr>\n",
       "      <th>5272413</th>\n",
       "      <td>2020-09-15</td>\n",
       "      <td>18446630855572834764</td>\n",
       "      <td>809238005</td>\n",
       "      <td>0.041656</td>\n",
       "      <td>2</td>\n",
       "      <td>104</td>\n",
       "      <td>0.0</td>\n",
       "    </tr>\n",
       "    <tr>\n",
       "      <th>5272414</th>\n",
       "      <td>2020-09-15</td>\n",
       "      <td>18446630855572834764</td>\n",
       "      <td>673677002</td>\n",
       "      <td>0.024925</td>\n",
       "      <td>2</td>\n",
       "      <td>104</td>\n",
       "      <td>0.0</td>\n",
       "    </tr>\n",
       "    <tr>\n",
       "      <th>5272415</th>\n",
       "      <td>2020-09-15</td>\n",
       "      <td>18446630855572834764</td>\n",
       "      <td>923758001</td>\n",
       "      <td>0.033478</td>\n",
       "      <td>2</td>\n",
       "      <td>104</td>\n",
       "      <td>0.0</td>\n",
       "    </tr>\n",
       "  </tbody>\n",
       "</table>\n",
       "<p>19131594 rows × 7 columns</p>\n",
       "</div>"
      ],
      "text/plain": [
       "              t_dat           customer_id  article_id     price  \\\n",
       "28777300 2020-07-08       857913002275398   599580068  0.008458   \n",
       "28777301 2020-07-08       857913002275398   776237011  0.025407   \n",
       "28777302 2020-07-08       857913002275398   844294001  0.011847   \n",
       "28787123 2020-07-08      1658289241058394   877773001  0.007610   \n",
       "28788562 2020-07-08      3828854365940846   507883009  0.013542   \n",
       "...             ...                   ...         ...       ...   \n",
       "5272411  2020-09-15  18446630855572834764   918292001  0.041424   \n",
       "5272412  2020-09-15  18446630855572834764   762846027  0.025104   \n",
       "5272413  2020-09-15  18446630855572834764   809238005  0.041656   \n",
       "5272414  2020-09-15  18446630855572834764   673677002  0.024925   \n",
       "5272415  2020-09-15  18446630855572834764   923758001  0.033478   \n",
       "\n",
       "          sales_channel_id  week  purchased  \n",
       "28777300                 1    94        1.0  \n",
       "28777301                 1    94        1.0  \n",
       "28777302                 1    94        1.0  \n",
       "28787123                 1    94        1.0  \n",
       "28788562                 1    94        1.0  \n",
       "...                    ...   ...        ...  \n",
       "5272411                  2   104        0.0  \n",
       "5272412                  2   104        0.0  \n",
       "5272413                  2   104        0.0  \n",
       "5272414                  2   104        0.0  \n",
       "5272415                  2   104        0.0  \n",
       "\n",
       "[19131594 rows x 7 columns]"
      ]
     },
     "execution_count": 36,
     "metadata": {},
     "output_type": "execute_result"
    }
   ],
   "source": [
    "data"
   ]
  },
  {
   "cell_type": "code",
   "execution_count": 37,
   "id": "ef6cbf40",
   "metadata": {
    "execution": {
     "iopub.execute_input": "2022-04-29T14:09:47.353846Z",
     "iopub.status.busy": "2022-04-29T14:09:47.353572Z",
     "iopub.status.idle": "2022-04-29T14:09:54.181234Z",
     "shell.execute_reply": "2022-04-29T14:09:54.180358Z"
    },
    "papermill": {
     "duration": 6.877907,
     "end_time": "2022-04-29T14:09:54.183699",
     "exception": false,
     "start_time": "2022-04-29T14:09:47.305792",
     "status": "completed"
    },
    "tags": []
   },
   "outputs": [],
   "source": [
    "data.drop_duplicates(['customer_id', 'article_id', 'week'], inplace=True)"
   ]
  },
  {
   "cell_type": "code",
   "execution_count": 38,
   "id": "9cc3cb14",
   "metadata": {
    "execution": {
     "iopub.execute_input": "2022-04-29T14:09:54.276908Z",
     "iopub.status.busy": "2022-04-29T14:09:54.276641Z",
     "iopub.status.idle": "2022-04-29T14:09:54.282032Z",
     "shell.execute_reply": "2022-04-29T14:09:54.281153Z"
    },
    "papermill": {
     "duration": 0.05427,
     "end_time": "2022-04-29T14:09:54.283950",
     "exception": false,
     "start_time": "2022-04-29T14:09:54.229680",
     "status": "completed"
    },
    "tags": []
   },
   "outputs": [
    {
     "data": {
      "text/plain": [
       "(18475436, 7)"
      ]
     },
     "execution_count": 38,
     "metadata": {},
     "output_type": "execute_result"
    }
   ],
   "source": [
    "data.shape"
   ]
  },
  {
   "cell_type": "code",
   "execution_count": 39,
   "id": "0e44cc64",
   "metadata": {
    "execution": {
     "iopub.execute_input": "2022-04-29T14:09:54.379459Z",
     "iopub.status.busy": "2022-04-29T14:09:54.379188Z",
     "iopub.status.idle": "2022-04-29T14:09:54.433722Z",
     "shell.execute_reply": "2022-04-29T14:09:54.432746Z"
    },
    "papermill": {
     "duration": 0.104419,
     "end_time": "2022-04-29T14:09:54.435879",
     "exception": false,
     "start_time": "2022-04-29T14:09:54.331460",
     "status": "completed"
    },
    "tags": []
   },
   "outputs": [
    {
     "data": {
      "text/plain": [
       "0.1369278646522875"
      ]
     },
     "execution_count": 39,
     "metadata": {},
     "output_type": "execute_result"
    }
   ],
   "source": [
    "data.purchased.mean()"
   ]
  },
  {
   "cell_type": "markdown",
   "id": "c9e61674",
   "metadata": {
    "papermill": {
     "duration": 0.046482,
     "end_time": "2022-04-29T14:09:54.529352",
     "exception": false,
     "start_time": "2022-04-29T14:09:54.482870",
     "status": "completed"
    },
    "tags": []
   },
   "source": [
    "### Add bestseller information"
   ]
  },
  {
   "cell_type": "code",
   "execution_count": 40,
   "id": "4e70bd5f",
   "metadata": {
    "execution": {
     "iopub.execute_input": "2022-04-29T14:09:54.624405Z",
     "iopub.status.busy": "2022-04-29T14:09:54.623954Z",
     "iopub.status.idle": "2022-04-29T14:09:57.950035Z",
     "shell.execute_reply": "2022-04-29T14:09:57.949089Z"
    },
    "papermill": {
     "duration": 3.376364,
     "end_time": "2022-04-29T14:09:57.952580",
     "exception": false,
     "start_time": "2022-04-29T14:09:54.576216",
     "status": "completed"
    },
    "tags": []
   },
   "outputs": [],
   "source": [
    "data = pd.merge(\n",
    "    data,\n",
    "    bestsellers_previous_week[['week', 'article_id', 'bestseller_rank']],\n",
    "    on=['week', 'article_id'],\n",
    "    how='left'\n",
    ")"
   ]
  },
  {
   "cell_type": "code",
   "execution_count": 41,
   "id": "9e7207c3",
   "metadata": {
    "execution": {
     "iopub.execute_input": "2022-04-29T14:09:58.047376Z",
     "iopub.status.busy": "2022-04-29T14:09:58.047068Z",
     "iopub.status.idle": "2022-04-29T14:09:59.470177Z",
     "shell.execute_reply": "2022-04-29T14:09:59.469557Z"
    },
    "papermill": {
     "duration": 1.473206,
     "end_time": "2022-04-29T14:09:59.472185",
     "exception": false,
     "start_time": "2022-04-29T14:09:57.998979",
     "status": "completed"
    },
    "tags": []
   },
   "outputs": [],
   "source": [
    "data = data[data.week != data.week.min()]\n",
    "data.bestseller_rank.fillna(999, inplace=True)"
   ]
  },
  {
   "cell_type": "code",
   "execution_count": 42,
   "id": "af052af9",
   "metadata": {
    "execution": {
     "iopub.execute_input": "2022-04-29T14:09:59.569318Z",
     "iopub.status.busy": "2022-04-29T14:09:59.569052Z",
     "iopub.status.idle": "2022-04-29T14:10:18.833136Z",
     "shell.execute_reply": "2022-04-29T14:10:18.832223Z"
    },
    "papermill": {
     "duration": 19.315837,
     "end_time": "2022-04-29T14:10:18.835602",
     "exception": false,
     "start_time": "2022-04-29T14:09:59.519765",
     "status": "completed"
    },
    "tags": []
   },
   "outputs": [],
   "source": [
    "data = pd.merge(data, articles, on='article_id', how='left')\n",
    "data = pd.merge(data, customers, on='customer_id', how='left')"
   ]
  },
  {
   "cell_type": "code",
   "execution_count": 43,
   "id": "67a5d085",
   "metadata": {
    "execution": {
     "iopub.execute_input": "2022-04-29T14:10:18.930192Z",
     "iopub.status.busy": "2022-04-29T14:10:18.929906Z",
     "iopub.status.idle": "2022-04-29T14:10:24.749390Z",
     "shell.execute_reply": "2022-04-29T14:10:24.748499Z"
    },
    "papermill": {
     "duration": 5.869583,
     "end_time": "2022-04-29T14:10:24.751854",
     "exception": false,
     "start_time": "2022-04-29T14:10:18.882271",
     "status": "completed"
    },
    "tags": []
   },
   "outputs": [],
   "source": [
    "data.sort_values(['week', 'customer_id'], inplace=True)\n",
    "data.reset_index(drop=True, inplace=True)"
   ]
  },
  {
   "cell_type": "code",
   "execution_count": 44,
   "id": "113b7582",
   "metadata": {
    "execution": {
     "iopub.execute_input": "2022-04-29T14:10:24.852566Z",
     "iopub.status.busy": "2022-04-29T14:10:24.852029Z",
     "iopub.status.idle": "2022-04-29T14:10:31.070180Z",
     "shell.execute_reply": "2022-04-29T14:10:31.069050Z"
    },
    "papermill": {
     "duration": 6.270118,
     "end_time": "2022-04-29T14:10:31.072679",
     "exception": false,
     "start_time": "2022-04-29T14:10:24.802561",
     "status": "completed"
    },
    "tags": []
   },
   "outputs": [],
   "source": [
    "train = data[data.week != test_week]\n",
    "test = data[data.week==test_week].drop_duplicates(['customer_id', 'article_id', 'sales_channel_id']).copy()"
   ]
  },
  {
   "cell_type": "code",
   "execution_count": 45,
   "id": "eb0e995f",
   "metadata": {
    "execution": {
     "iopub.execute_input": "2022-04-29T14:10:31.169044Z",
     "iopub.status.busy": "2022-04-29T14:10:31.168706Z",
     "iopub.status.idle": "2022-04-29T14:10:32.109082Z",
     "shell.execute_reply": "2022-04-29T14:10:32.107920Z"
    },
    "papermill": {
     "duration": 0.99136,
     "end_time": "2022-04-29T14:10:32.111554",
     "exception": false,
     "start_time": "2022-04-29T14:10:31.120194",
     "status": "completed"
    },
    "tags": []
   },
   "outputs": [],
   "source": [
    "train_baskets = train.groupby(['week', 'customer_id'])['article_id'].count().values"
   ]
  },
  {
   "cell_type": "code",
   "execution_count": 46,
   "id": "ac67acd7",
   "metadata": {
    "execution": {
     "iopub.execute_input": "2022-04-29T14:10:32.210309Z",
     "iopub.status.busy": "2022-04-29T14:10:32.210004Z",
     "iopub.status.idle": "2022-04-29T14:10:32.214130Z",
     "shell.execute_reply": "2022-04-29T14:10:32.213551Z"
    },
    "papermill": {
     "duration": 0.054633,
     "end_time": "2022-04-29T14:10:32.215943",
     "exception": false,
     "start_time": "2022-04-29T14:10:32.161310",
     "status": "completed"
    },
    "tags": []
   },
   "outputs": [],
   "source": [
    "columns_to_use = ['article_id', 'product_type_no', 'graphical_appearance_no', 'colour_group_code', 'perceived_colour_value_id',\n",
    "'perceived_colour_master_id', 'department_no', 'index_code',\n",
    "'index_group_no', 'section_no', 'garment_group_no', 'FN', 'Active',\n",
    "'club_member_status', 'fashion_news_frequency', 'age', 'postal_code', 'bestseller_rank']"
   ]
  },
  {
   "cell_type": "code",
   "execution_count": 47,
   "id": "6cd5cf2e",
   "metadata": {
    "execution": {
     "iopub.execute_input": "2022-04-29T14:10:32.312402Z",
     "iopub.status.busy": "2022-04-29T14:10:32.311884Z",
     "iopub.status.idle": "2022-04-29T14:10:32.843595Z",
     "shell.execute_reply": "2022-04-29T14:10:32.842372Z"
    },
    "papermill": {
     "duration": 0.582237,
     "end_time": "2022-04-29T14:10:32.845880",
     "exception": false,
     "start_time": "2022-04-29T14:10:32.263643",
     "status": "completed"
    },
    "tags": []
   },
   "outputs": [
    {
     "name": "stdout",
     "output_type": "stream",
     "text": [
      "CPU times: user 275 ms, sys: 254 ms, total: 529 ms\n",
      "Wall time: 525 ms\n"
     ]
    }
   ],
   "source": [
    "%%time\n",
    "\n",
    "train_X = train[columns_to_use]\n",
    "train_y = train['purchased']\n",
    "\n",
    "test_X = test[columns_to_use]\n",
    "test_y = test['purchased']"
   ]
  },
  {
   "cell_type": "markdown",
   "id": "f257f51b",
   "metadata": {
    "papermill": {
     "duration": 0.046716,
     "end_time": "2022-04-29T14:10:32.940971",
     "exception": false,
     "start_time": "2022-04-29T14:10:32.894255",
     "status": "completed"
    },
    "tags": []
   },
   "source": [
    "## Objective function"
   ]
  },
  {
   "cell_type": "code",
   "execution_count": 48,
   "id": "292a9030",
   "metadata": {
    "execution": {
     "iopub.execute_input": "2022-04-29T14:10:33.037440Z",
     "iopub.status.busy": "2022-04-29T14:10:33.037147Z",
     "iopub.status.idle": "2022-04-29T14:10:35.028797Z",
     "shell.execute_reply": "2022-04-29T14:10:35.027633Z"
    },
    "papermill": {
     "duration": 2.042425,
     "end_time": "2022-04-29T14:10:35.031654",
     "exception": false,
     "start_time": "2022-04-29T14:10:32.989229",
     "status": "completed"
    },
    "tags": []
   },
   "outputs": [
    {
     "data": {
      "text/html": [
       "<style type='text/css'>\n",
       ".datatable table.frame { margin-bottom: 0; }\n",
       ".datatable table.frame thead { border-bottom: none; }\n",
       ".datatable table.frame tr.coltypes td {  color: #FFFFFF;  line-height: 6px;  padding: 0 0.5em;}\n",
       ".datatable .bool    { background: #DDDD99; }\n",
       ".datatable .object  { background: #565656; }\n",
       ".datatable .int     { background: #5D9E5D; }\n",
       ".datatable .float   { background: #4040CC; }\n",
       ".datatable .str     { background: #CC4040; }\n",
       ".datatable .time    { background: #40CC40; }\n",
       ".datatable .row_index {  background: var(--jp-border-color3);  border-right: 1px solid var(--jp-border-color0);  color: var(--jp-ui-font-color3);  font-size: 9px;}\n",
       ".datatable .frame tbody td { text-align: left; }\n",
       ".datatable .frame tr.coltypes .row_index {  background: var(--jp-border-color0);}\n",
       ".datatable th:nth-child(2) { padding-left: 12px; }\n",
       ".datatable .hellipsis {  color: var(--jp-cell-editor-border-color);}\n",
       ".datatable .vellipsis {  background: var(--jp-layout-color0);  color: var(--jp-cell-editor-border-color);}\n",
       ".datatable .na {  color: var(--jp-cell-editor-border-color);  font-size: 80%;}\n",
       ".datatable .sp {  opacity: 0.25;}\n",
       ".datatable .footer { font-size: 9px; }\n",
       ".datatable .frame_dimensions {  background: var(--jp-border-color3);  border-top: 1px solid var(--jp-border-color0);  color: var(--jp-ui-font-color3);  display: inline-block;  opacity: 0.6;  padding: 1px 10px 1px 5px;}\n",
       "</style>\n"
      ],
      "text/plain": [
       "<IPython.core.display.HTML object>"
      ]
     },
     "metadata": {},
     "output_type": "display_data"
    }
   ],
   "source": [
    "import optuna\n",
    "from lightgbm.sklearn import LGBMRanker\n",
    "\n",
    "def objective(trial):\n",
    "    param_grid = {\n",
    "        \"objective\": \"lambdarank\",\n",
    "        \"metric\": \"ndcg\",\n",
    "        \"num_threads\": 4,\n",
    "        \"boosting_type\": \"dart\",\n",
    "        \"importance_type\": 'gain',\n",
    "        \"eval_at\": 12,\n",
    "        \"verbose\": -1,\n",
    "        \"n_estimators\": trial.suggest_categorical(\"n_estimators\", [1, 10, 20, 30, 50, 100]),\n",
    "        \"learning_rate\": trial.suggest_float(\"learning_rate\", 0.01, 0.3),\n",
    "        \"num_leaves\": trial.suggest_int(\"num_leaves\", 10, 100, step=10),\n",
    "        \"max_depth\": trial.suggest_int(\"max_depth\", 3, 12),\n",
    "        \"min_data_in_leaf\": trial.suggest_int(\"min_data_in_leaf\", 10, 100, step=100),\n",
    "        \"lambda_l1\": trial.suggest_int(\"lambda_l1\", 0, 100, step=5),\n",
    "        \"lambda_l2\": trial.suggest_int(\"lambda_l2\", 0, 100, step=5),\n",
    "        \"min_gain_to_split\": trial.suggest_float(\"min_gain_to_split\", 0, 15),\n",
    "        \"bagging_fraction\": trial.suggest_float(\n",
    "            \"bagging_fraction\", 0.2, 0.95, step=0.1\n",
    "        ),\n",
    "        \"bagging_freq\": trial.suggest_categorical(\"bagging_freq\", [1]),\n",
    "        \"feature_fraction\": trial.suggest_float(\n",
    "            \"feature_fraction\", 0.2, 0.95, step=0.1\n",
    "        ),\n",
    "        \"seed\": 42,\n",
    "    }\n",
    "\n",
    "    ranker_model = LGBMRanker(\n",
    "                        random_state=42, \n",
    "                        **param_grid\n",
    "                    )\n",
    "\n",
    "    ranker_model = ranker_model.fit(\n",
    "                        train_X,\n",
    "                        train_y,\n",
    "                        group=train_baskets,\n",
    "                    )\n",
    "\n",
    "    test['preds'] = ranker_model.predict(test_X)\n",
    "\n",
    "    c_id2predicted_article_ids = test \\\n",
    "                                .sort_values(['customer_id', 'preds'], ascending=False) \\\n",
    "                                .groupby('customer_id')['article_id'].apply(list).to_dict()\n",
    "\n",
    "    bestsellers_last_week = bestsellers_previous_week[bestsellers_previous_week.week == bestsellers_previous_week.week.max()]['article_id'].tolist()\n",
    "    \n",
    "    apks = []\n",
    "\n",
    "    for c_id, gt in val_week_purchases_by_cust.items():\n",
    "        pred = c_id2predicted_article_ids.get(c_id, [])\n",
    "        pred = pred + bestsellers_last_week\n",
    "        apks.append(apk(gt, pred[:12]))\n",
    "        \n",
    "    print('MAP@12: %s' %(str(np.mean(apks))))\n",
    "\n",
    "    return np.mean(apks)"
   ]
  },
  {
   "cell_type": "code",
   "execution_count": 49,
   "id": "8cf1c63d",
   "metadata": {
    "execution": {
     "iopub.execute_input": "2022-04-29T14:10:35.130996Z",
     "iopub.status.busy": "2022-04-29T14:10:35.130733Z",
     "iopub.status.idle": "2022-04-29T16:16:35.473346Z",
     "shell.execute_reply": "2022-04-29T16:16:35.472639Z"
    },
    "papermill": {
     "duration": 7560.50389,
     "end_time": "2022-04-29T16:16:35.584598",
     "exception": false,
     "start_time": "2022-04-29T14:10:35.080708",
     "status": "completed"
    },
    "tags": []
   },
   "outputs": [
    {
     "name": "stderr",
     "output_type": "stream",
     "text": [
      "\u001b[32m[I 2022-04-29 14:10:35,132]\u001b[0m A new study created in memory with name: no-name-76a93585-7805-4af6-b5e3-779fc8d768e3\u001b[0m\n",
      "/opt/conda/lib/python3.7/site-packages/optuna/distributions.py:563: UserWarning: The distribution is specified by [10, 100] and step=100, but the range is not divisible by `step`. It will be replaced by [10, 10].\n",
      "  low=low, old_high=old_high, high=high, step=step\n",
      "/opt/conda/lib/python3.7/site-packages/optuna/distributions.py:548: UserWarning: The distribution is specified by [0.2, 0.95] and q=0.1, but the range is not divisible by `q`. It will be replaced by [0.2, 0.9].\n",
      "  low=low, old_high=old_high, high=high, step=q\n",
      "/opt/conda/lib/python3.7/site-packages/lightgbm/sklearn.py:621: UserWarning: Found 'eval_at' in params. Will use it instead of 'eval_at' argument\n",
      "  _log_warning(f\"Found '{alias}' in params. Will use it instead of 'eval_at' argument\")\n"
     ]
    },
    {
     "name": "stdout",
     "output_type": "stream",
     "text": [
      "[LightGBM] [Warning] feature_fraction is set=0.8, colsample_bytree=1.0 will be ignored. Current value: feature_fraction=0.8\n",
      "[LightGBM] [Warning] lambda_l1 is set=25, reg_alpha=0.0 will be ignored. Current value: lambda_l1=25\n",
      "[LightGBM] [Warning] num_threads is set=4, n_jobs=-1 will be ignored. Current value: num_threads=4\n",
      "[LightGBM] [Warning] bagging_fraction is set=0.2, subsample=1.0 will be ignored. Current value: bagging_fraction=0.2\n",
      "[LightGBM] [Warning] seed is set=42, random_state=42 will be ignored. Current value: seed=42\n",
      "[LightGBM] [Warning] min_data_in_leaf is set=10, min_child_samples=20 will be ignored. Current value: min_data_in_leaf=10\n",
      "[LightGBM] [Warning] bagging_freq is set=1, subsample_freq=0 will be ignored. Current value: bagging_freq=1\n",
      "[LightGBM] [Warning] min_gain_to_split is set=5.324180874697849, min_split_gain=0.0 will be ignored. Current value: min_gain_to_split=5.324180874697849\n",
      "[LightGBM] [Warning] lambda_l2 is set=55, reg_lambda=0.0 will be ignored. Current value: lambda_l2=55\n"
     ]
    },
    {
     "name": "stderr",
     "output_type": "stream",
     "text": [
      "\u001b[32m[I 2022-04-29 14:11:02,815]\u001b[0m Trial 0 finished with value: 0.023559534326877116 and parameters: {'n_estimators': 10, 'learning_rate': 0.0893299831792121, 'num_leaves': 70, 'max_depth': 4, 'min_data_in_leaf': 10, 'lambda_l1': 25, 'lambda_l2': 55, 'min_gain_to_split': 5.324180874697849, 'bagging_fraction': 0.2, 'bagging_freq': 1, 'feature_fraction': 0.8}. Best is trial 0 with value: 0.023559534326877116.\u001b[0m\n"
     ]
    },
    {
     "name": "stdout",
     "output_type": "stream",
     "text": [
      "MAP@12: 0.023559534326877116\n"
     ]
    },
    {
     "name": "stderr",
     "output_type": "stream",
     "text": [
      "/opt/conda/lib/python3.7/site-packages/optuna/distributions.py:563: UserWarning: The distribution is specified by [10, 100] and step=100, but the range is not divisible by `step`. It will be replaced by [10, 10].\n",
      "  low=low, old_high=old_high, high=high, step=step\n",
      "/opt/conda/lib/python3.7/site-packages/optuna/distributions.py:548: UserWarning: The distribution is specified by [0.2, 0.95] and q=0.1, but the range is not divisible by `q`. It will be replaced by [0.2, 0.9].\n",
      "  low=low, old_high=old_high, high=high, step=q\n",
      "/opt/conda/lib/python3.7/site-packages/lightgbm/sklearn.py:621: UserWarning: Found 'eval_at' in params. Will use it instead of 'eval_at' argument\n",
      "  _log_warning(f\"Found '{alias}' in params. Will use it instead of 'eval_at' argument\")\n"
     ]
    },
    {
     "name": "stdout",
     "output_type": "stream",
     "text": [
      "[LightGBM] [Warning] feature_fraction is set=0.6000000000000001, colsample_bytree=1.0 will be ignored. Current value: feature_fraction=0.6000000000000001\n",
      "[LightGBM] [Warning] lambda_l1 is set=10, reg_alpha=0.0 will be ignored. Current value: lambda_l1=10\n",
      "[LightGBM] [Warning] num_threads is set=4, n_jobs=-1 will be ignored. Current value: num_threads=4\n",
      "[LightGBM] [Warning] bagging_fraction is set=0.8, subsample=1.0 will be ignored. Current value: bagging_fraction=0.8\n",
      "[LightGBM] [Warning] seed is set=42, random_state=42 will be ignored. Current value: seed=42\n",
      "[LightGBM] [Warning] min_data_in_leaf is set=10, min_child_samples=20 will be ignored. Current value: min_data_in_leaf=10\n",
      "[LightGBM] [Warning] bagging_freq is set=1, subsample_freq=0 will be ignored. Current value: bagging_freq=1\n",
      "[LightGBM] [Warning] min_gain_to_split is set=3.744064914640062, min_split_gain=0.0 will be ignored. Current value: min_gain_to_split=3.744064914640062\n",
      "[LightGBM] [Warning] lambda_l2 is set=50, reg_lambda=0.0 will be ignored. Current value: lambda_l2=50\n"
     ]
    },
    {
     "name": "stderr",
     "output_type": "stream",
     "text": [
      "\u001b[32m[I 2022-04-29 14:11:24,357]\u001b[0m Trial 1 finished with value: 0.010994654341634299 and parameters: {'n_estimators': 1, 'learning_rate': 0.15168416666907641, 'num_leaves': 50, 'max_depth': 10, 'min_data_in_leaf': 10, 'lambda_l1': 10, 'lambda_l2': 50, 'min_gain_to_split': 3.744064914640062, 'bagging_fraction': 0.8, 'bagging_freq': 1, 'feature_fraction': 0.6000000000000001}. Best is trial 0 with value: 0.023559534326877116.\u001b[0m\n"
     ]
    },
    {
     "name": "stdout",
     "output_type": "stream",
     "text": [
      "MAP@12: 0.010994654341634299\n"
     ]
    },
    {
     "name": "stderr",
     "output_type": "stream",
     "text": [
      "/opt/conda/lib/python3.7/site-packages/optuna/distributions.py:563: UserWarning: The distribution is specified by [10, 100] and step=100, but the range is not divisible by `step`. It will be replaced by [10, 10].\n",
      "  low=low, old_high=old_high, high=high, step=step\n",
      "/opt/conda/lib/python3.7/site-packages/optuna/distributions.py:548: UserWarning: The distribution is specified by [0.2, 0.95] and q=0.1, but the range is not divisible by `q`. It will be replaced by [0.2, 0.9].\n",
      "  low=low, old_high=old_high, high=high, step=q\n",
      "/opt/conda/lib/python3.7/site-packages/lightgbm/sklearn.py:621: UserWarning: Found 'eval_at' in params. Will use it instead of 'eval_at' argument\n",
      "  _log_warning(f\"Found '{alias}' in params. Will use it instead of 'eval_at' argument\")\n"
     ]
    },
    {
     "name": "stdout",
     "output_type": "stream",
     "text": [
      "[LightGBM] [Warning] feature_fraction is set=0.30000000000000004, colsample_bytree=1.0 will be ignored. Current value: feature_fraction=0.30000000000000004\n",
      "[LightGBM] [Warning] lambda_l1 is set=35, reg_alpha=0.0 will be ignored. Current value: lambda_l1=35\n",
      "[LightGBM] [Warning] num_threads is set=4, n_jobs=-1 will be ignored. Current value: num_threads=4\n",
      "[LightGBM] [Warning] bagging_fraction is set=0.4, subsample=1.0 will be ignored. Current value: bagging_fraction=0.4\n",
      "[LightGBM] [Warning] seed is set=42, random_state=42 will be ignored. Current value: seed=42\n",
      "[LightGBM] [Warning] min_data_in_leaf is set=10, min_child_samples=20 will be ignored. Current value: min_data_in_leaf=10\n",
      "[LightGBM] [Warning] bagging_freq is set=1, subsample_freq=0 will be ignored. Current value: bagging_freq=1\n",
      "[LightGBM] [Warning] min_gain_to_split is set=2.561081845436404, min_split_gain=0.0 will be ignored. Current value: min_gain_to_split=2.561081845436404\n",
      "[LightGBM] [Warning] lambda_l2 is set=40, reg_lambda=0.0 will be ignored. Current value: lambda_l2=40\n"
     ]
    },
    {
     "name": "stderr",
     "output_type": "stream",
     "text": [
      "\u001b[32m[I 2022-04-29 14:11:56,884]\u001b[0m Trial 2 finished with value: 0.021483355916538403 and parameters: {'n_estimators': 10, 'learning_rate': 0.041959740136564574, 'num_leaves': 50, 'max_depth': 8, 'min_data_in_leaf': 10, 'lambda_l1': 35, 'lambda_l2': 40, 'min_gain_to_split': 2.561081845436404, 'bagging_fraction': 0.4, 'bagging_freq': 1, 'feature_fraction': 0.30000000000000004}. Best is trial 0 with value: 0.023559534326877116.\u001b[0m\n"
     ]
    },
    {
     "name": "stdout",
     "output_type": "stream",
     "text": [
      "MAP@12: 0.021483355916538403\n"
     ]
    },
    {
     "name": "stderr",
     "output_type": "stream",
     "text": [
      "/opt/conda/lib/python3.7/site-packages/optuna/distributions.py:563: UserWarning: The distribution is specified by [10, 100] and step=100, but the range is not divisible by `step`. It will be replaced by [10, 10].\n",
      "  low=low, old_high=old_high, high=high, step=step\n",
      "/opt/conda/lib/python3.7/site-packages/optuna/distributions.py:548: UserWarning: The distribution is specified by [0.2, 0.95] and q=0.1, but the range is not divisible by `q`. It will be replaced by [0.2, 0.9].\n",
      "  low=low, old_high=old_high, high=high, step=q\n",
      "/opt/conda/lib/python3.7/site-packages/lightgbm/sklearn.py:621: UserWarning: Found 'eval_at' in params. Will use it instead of 'eval_at' argument\n",
      "  _log_warning(f\"Found '{alias}' in params. Will use it instead of 'eval_at' argument\")\n"
     ]
    },
    {
     "name": "stdout",
     "output_type": "stream",
     "text": [
      "[LightGBM] [Warning] feature_fraction is set=0.30000000000000004, colsample_bytree=1.0 will be ignored. Current value: feature_fraction=0.30000000000000004\n",
      "[LightGBM] [Warning] lambda_l1 is set=45, reg_alpha=0.0 will be ignored. Current value: lambda_l1=45\n",
      "[LightGBM] [Warning] num_threads is set=4, n_jobs=-1 will be ignored. Current value: num_threads=4\n",
      "[LightGBM] [Warning] bagging_fraction is set=0.30000000000000004, subsample=1.0 will be ignored. Current value: bagging_fraction=0.30000000000000004\n",
      "[LightGBM] [Warning] seed is set=42, random_state=42 will be ignored. Current value: seed=42\n",
      "[LightGBM] [Warning] min_data_in_leaf is set=10, min_child_samples=20 will be ignored. Current value: min_data_in_leaf=10\n",
      "[LightGBM] [Warning] bagging_freq is set=1, subsample_freq=0 will be ignored. Current value: bagging_freq=1\n",
      "[LightGBM] [Warning] min_gain_to_split is set=7.9202714326397, min_split_gain=0.0 will be ignored. Current value: min_gain_to_split=7.9202714326397\n",
      "[LightGBM] [Warning] lambda_l2 is set=55, reg_lambda=0.0 will be ignored. Current value: lambda_l2=55\n"
     ]
    },
    {
     "name": "stderr",
     "output_type": "stream",
     "text": [
      "\u001b[32m[I 2022-04-29 14:13:23,220]\u001b[0m Trial 3 finished with value: 0.023509463758481557 and parameters: {'n_estimators': 50, 'learning_rate': 0.29391740437868674, 'num_leaves': 20, 'max_depth': 5, 'min_data_in_leaf': 10, 'lambda_l1': 45, 'lambda_l2': 55, 'min_gain_to_split': 7.9202714326397, 'bagging_fraction': 0.30000000000000004, 'bagging_freq': 1, 'feature_fraction': 0.30000000000000004}. Best is trial 0 with value: 0.023559534326877116.\u001b[0m\n"
     ]
    },
    {
     "name": "stdout",
     "output_type": "stream",
     "text": [
      "MAP@12: 0.023509463758481557\n"
     ]
    },
    {
     "name": "stderr",
     "output_type": "stream",
     "text": [
      "/opt/conda/lib/python3.7/site-packages/optuna/distributions.py:563: UserWarning: The distribution is specified by [10, 100] and step=100, but the range is not divisible by `step`. It will be replaced by [10, 10].\n",
      "  low=low, old_high=old_high, high=high, step=step\n",
      "/opt/conda/lib/python3.7/site-packages/optuna/distributions.py:548: UserWarning: The distribution is specified by [0.2, 0.95] and q=0.1, but the range is not divisible by `q`. It will be replaced by [0.2, 0.9].\n",
      "  low=low, old_high=old_high, high=high, step=q\n",
      "/opt/conda/lib/python3.7/site-packages/lightgbm/sklearn.py:621: UserWarning: Found 'eval_at' in params. Will use it instead of 'eval_at' argument\n",
      "  _log_warning(f\"Found '{alias}' in params. Will use it instead of 'eval_at' argument\")\n"
     ]
    },
    {
     "name": "stdout",
     "output_type": "stream",
     "text": [
      "[LightGBM] [Warning] feature_fraction is set=0.4, colsample_bytree=1.0 will be ignored. Current value: feature_fraction=0.4\n",
      "[LightGBM] [Warning] lambda_l1 is set=65, reg_alpha=0.0 will be ignored. Current value: lambda_l1=65\n",
      "[LightGBM] [Warning] num_threads is set=4, n_jobs=-1 will be ignored. Current value: num_threads=4\n",
      "[LightGBM] [Warning] bagging_fraction is set=0.6000000000000001, subsample=1.0 will be ignored. Current value: bagging_fraction=0.6000000000000001\n",
      "[LightGBM] [Warning] seed is set=42, random_state=42 will be ignored. Current value: seed=42\n",
      "[LightGBM] [Warning] min_data_in_leaf is set=10, min_child_samples=20 will be ignored. Current value: min_data_in_leaf=10\n",
      "[LightGBM] [Warning] bagging_freq is set=1, subsample_freq=0 will be ignored. Current value: bagging_freq=1\n",
      "[LightGBM] [Warning] min_gain_to_split is set=9.011217937455351, min_split_gain=0.0 will be ignored. Current value: min_gain_to_split=9.011217937455351\n",
      "[LightGBM] [Warning] lambda_l2 is set=95, reg_lambda=0.0 will be ignored. Current value: lambda_l2=95\n"
     ]
    },
    {
     "name": "stderr",
     "output_type": "stream",
     "text": [
      "\u001b[32m[I 2022-04-29 14:13:54,520]\u001b[0m Trial 4 finished with value: 0.02170286355997207 and parameters: {'n_estimators': 10, 'learning_rate': 0.011380630905762287, 'num_leaves': 70, 'max_depth': 7, 'min_data_in_leaf': 10, 'lambda_l1': 65, 'lambda_l2': 95, 'min_gain_to_split': 9.011217937455351, 'bagging_fraction': 0.6000000000000001, 'bagging_freq': 1, 'feature_fraction': 0.4}. Best is trial 0 with value: 0.023559534326877116.\u001b[0m\n"
     ]
    },
    {
     "name": "stdout",
     "output_type": "stream",
     "text": [
      "MAP@12: 0.02170286355997207\n"
     ]
    },
    {
     "name": "stderr",
     "output_type": "stream",
     "text": [
      "/opt/conda/lib/python3.7/site-packages/optuna/distributions.py:563: UserWarning: The distribution is specified by [10, 100] and step=100, but the range is not divisible by `step`. It will be replaced by [10, 10].\n",
      "  low=low, old_high=old_high, high=high, step=step\n",
      "/opt/conda/lib/python3.7/site-packages/optuna/distributions.py:548: UserWarning: The distribution is specified by [0.2, 0.95] and q=0.1, but the range is not divisible by `q`. It will be replaced by [0.2, 0.9].\n",
      "  low=low, old_high=old_high, high=high, step=q\n",
      "/opt/conda/lib/python3.7/site-packages/lightgbm/sklearn.py:621: UserWarning: Found 'eval_at' in params. Will use it instead of 'eval_at' argument\n",
      "  _log_warning(f\"Found '{alias}' in params. Will use it instead of 'eval_at' argument\")\n"
     ]
    },
    {
     "name": "stdout",
     "output_type": "stream",
     "text": [
      "[LightGBM] [Warning] feature_fraction is set=0.9, colsample_bytree=1.0 will be ignored. Current value: feature_fraction=0.9\n",
      "[LightGBM] [Warning] lambda_l1 is set=15, reg_alpha=0.0 will be ignored. Current value: lambda_l1=15\n",
      "[LightGBM] [Warning] num_threads is set=4, n_jobs=-1 will be ignored. Current value: num_threads=4\n",
      "[LightGBM] [Warning] bagging_fraction is set=0.7, subsample=1.0 will be ignored. Current value: bagging_fraction=0.7\n",
      "[LightGBM] [Warning] seed is set=42, random_state=42 will be ignored. Current value: seed=42\n",
      "[LightGBM] [Warning] min_data_in_leaf is set=10, min_child_samples=20 will be ignored. Current value: min_data_in_leaf=10\n",
      "[LightGBM] [Warning] bagging_freq is set=1, subsample_freq=0 will be ignored. Current value: bagging_freq=1\n",
      "[LightGBM] [Warning] min_gain_to_split is set=13.131777315224127, min_split_gain=0.0 will be ignored. Current value: min_gain_to_split=13.131777315224127\n",
      "[LightGBM] [Warning] lambda_l2 is set=35, reg_lambda=0.0 will be ignored. Current value: lambda_l2=35\n"
     ]
    },
    {
     "name": "stderr",
     "output_type": "stream",
     "text": [
      "\u001b[32m[I 2022-04-29 14:14:25,937]\u001b[0m Trial 5 finished with value: 0.023237026501604675 and parameters: {'n_estimators': 10, 'learning_rate': 0.16930744985398188, 'num_leaves': 30, 'max_depth': 6, 'min_data_in_leaf': 10, 'lambda_l1': 15, 'lambda_l2': 35, 'min_gain_to_split': 13.131777315224127, 'bagging_fraction': 0.7, 'bagging_freq': 1, 'feature_fraction': 0.9}. Best is trial 0 with value: 0.023559534326877116.\u001b[0m\n"
     ]
    },
    {
     "name": "stdout",
     "output_type": "stream",
     "text": [
      "MAP@12: 0.023237026501604675\n"
     ]
    },
    {
     "name": "stderr",
     "output_type": "stream",
     "text": [
      "/opt/conda/lib/python3.7/site-packages/optuna/distributions.py:563: UserWarning: The distribution is specified by [10, 100] and step=100, but the range is not divisible by `step`. It will be replaced by [10, 10].\n",
      "  low=low, old_high=old_high, high=high, step=step\n",
      "/opt/conda/lib/python3.7/site-packages/optuna/distributions.py:548: UserWarning: The distribution is specified by [0.2, 0.95] and q=0.1, but the range is not divisible by `q`. It will be replaced by [0.2, 0.9].\n",
      "  low=low, old_high=old_high, high=high, step=q\n",
      "/opt/conda/lib/python3.7/site-packages/lightgbm/sklearn.py:621: UserWarning: Found 'eval_at' in params. Will use it instead of 'eval_at' argument\n",
      "  _log_warning(f\"Found '{alias}' in params. Will use it instead of 'eval_at' argument\")\n"
     ]
    },
    {
     "name": "stdout",
     "output_type": "stream",
     "text": [
      "[LightGBM] [Warning] feature_fraction is set=0.7, colsample_bytree=1.0 will be ignored. Current value: feature_fraction=0.7\n",
      "[LightGBM] [Warning] lambda_l1 is set=50, reg_alpha=0.0 will be ignored. Current value: lambda_l1=50\n",
      "[LightGBM] [Warning] num_threads is set=4, n_jobs=-1 will be ignored. Current value: num_threads=4\n",
      "[LightGBM] [Warning] bagging_fraction is set=0.9, subsample=1.0 will be ignored. Current value: bagging_fraction=0.9\n",
      "[LightGBM] [Warning] seed is set=42, random_state=42 will be ignored. Current value: seed=42\n",
      "[LightGBM] [Warning] min_data_in_leaf is set=10, min_child_samples=20 will be ignored. Current value: min_data_in_leaf=10\n",
      "[LightGBM] [Warning] bagging_freq is set=1, subsample_freq=0 will be ignored. Current value: bagging_freq=1\n",
      "[LightGBM] [Warning] min_gain_to_split is set=4.669586560027489, min_split_gain=0.0 will be ignored. Current value: min_gain_to_split=4.669586560027489\n",
      "[LightGBM] [Warning] lambda_l2 is set=90, reg_lambda=0.0 will be ignored. Current value: lambda_l2=90\n"
     ]
    },
    {
     "name": "stderr",
     "output_type": "stream",
     "text": [
      "\u001b[32m[I 2022-04-29 14:14:46,003]\u001b[0m Trial 6 finished with value: 0.022942208869762636 and parameters: {'n_estimators': 1, 'learning_rate': 0.20181465478971883, 'num_leaves': 20, 'max_depth': 9, 'min_data_in_leaf': 10, 'lambda_l1': 50, 'lambda_l2': 90, 'min_gain_to_split': 4.669586560027489, 'bagging_fraction': 0.9, 'bagging_freq': 1, 'feature_fraction': 0.7}. Best is trial 0 with value: 0.023559534326877116.\u001b[0m\n"
     ]
    },
    {
     "name": "stdout",
     "output_type": "stream",
     "text": [
      "MAP@12: 0.022942208869762636\n"
     ]
    },
    {
     "name": "stderr",
     "output_type": "stream",
     "text": [
      "/opt/conda/lib/python3.7/site-packages/optuna/distributions.py:563: UserWarning: The distribution is specified by [10, 100] and step=100, but the range is not divisible by `step`. It will be replaced by [10, 10].\n",
      "  low=low, old_high=old_high, high=high, step=step\n",
      "/opt/conda/lib/python3.7/site-packages/optuna/distributions.py:548: UserWarning: The distribution is specified by [0.2, 0.95] and q=0.1, but the range is not divisible by `q`. It will be replaced by [0.2, 0.9].\n",
      "  low=low, old_high=old_high, high=high, step=q\n",
      "/opt/conda/lib/python3.7/site-packages/lightgbm/sklearn.py:621: UserWarning: Found 'eval_at' in params. Will use it instead of 'eval_at' argument\n",
      "  _log_warning(f\"Found '{alias}' in params. Will use it instead of 'eval_at' argument\")\n"
     ]
    },
    {
     "name": "stdout",
     "output_type": "stream",
     "text": [
      "[LightGBM] [Warning] feature_fraction is set=0.9, colsample_bytree=1.0 will be ignored. Current value: feature_fraction=0.9\n",
      "[LightGBM] [Warning] lambda_l1 is set=45, reg_alpha=0.0 will be ignored. Current value: lambda_l1=45\n",
      "[LightGBM] [Warning] num_threads is set=4, n_jobs=-1 will be ignored. Current value: num_threads=4\n",
      "[LightGBM] [Warning] bagging_fraction is set=0.30000000000000004, subsample=1.0 will be ignored. Current value: bagging_fraction=0.30000000000000004\n",
      "[LightGBM] [Warning] seed is set=42, random_state=42 will be ignored. Current value: seed=42\n",
      "[LightGBM] [Warning] min_data_in_leaf is set=10, min_child_samples=20 will be ignored. Current value: min_data_in_leaf=10\n",
      "[LightGBM] [Warning] bagging_freq is set=1, subsample_freq=0 will be ignored. Current value: bagging_freq=1\n",
      "[LightGBM] [Warning] min_gain_to_split is set=12.71183992164012, min_split_gain=0.0 will be ignored. Current value: min_gain_to_split=12.71183992164012\n",
      "[LightGBM] [Warning] lambda_l2 is set=20, reg_lambda=0.0 will be ignored. Current value: lambda_l2=20\n"
     ]
    },
    {
     "name": "stderr",
     "output_type": "stream",
     "text": [
      "\u001b[32m[I 2022-04-29 14:18:22,661]\u001b[0m Trial 7 finished with value: 0.02335418244201181 and parameters: {'n_estimators': 100, 'learning_rate': 0.14016587556521864, 'num_leaves': 30, 'max_depth': 8, 'min_data_in_leaf': 10, 'lambda_l1': 45, 'lambda_l2': 20, 'min_gain_to_split': 12.71183992164012, 'bagging_fraction': 0.30000000000000004, 'bagging_freq': 1, 'feature_fraction': 0.9}. Best is trial 0 with value: 0.023559534326877116.\u001b[0m\n"
     ]
    },
    {
     "name": "stdout",
     "output_type": "stream",
     "text": [
      "MAP@12: 0.02335418244201181\n"
     ]
    },
    {
     "name": "stderr",
     "output_type": "stream",
     "text": [
      "/opt/conda/lib/python3.7/site-packages/optuna/distributions.py:563: UserWarning: The distribution is specified by [10, 100] and step=100, but the range is not divisible by `step`. It will be replaced by [10, 10].\n",
      "  low=low, old_high=old_high, high=high, step=step\n",
      "/opt/conda/lib/python3.7/site-packages/optuna/distributions.py:548: UserWarning: The distribution is specified by [0.2, 0.95] and q=0.1, but the range is not divisible by `q`. It will be replaced by [0.2, 0.9].\n",
      "  low=low, old_high=old_high, high=high, step=q\n",
      "/opt/conda/lib/python3.7/site-packages/lightgbm/sklearn.py:621: UserWarning: Found 'eval_at' in params. Will use it instead of 'eval_at' argument\n",
      "  _log_warning(f\"Found '{alias}' in params. Will use it instead of 'eval_at' argument\")\n"
     ]
    },
    {
     "name": "stdout",
     "output_type": "stream",
     "text": [
      "[LightGBM] [Warning] feature_fraction is set=0.6000000000000001, colsample_bytree=1.0 will be ignored. Current value: feature_fraction=0.6000000000000001\n",
      "[LightGBM] [Warning] lambda_l1 is set=50, reg_alpha=0.0 will be ignored. Current value: lambda_l1=50\n",
      "[LightGBM] [Warning] num_threads is set=4, n_jobs=-1 will be ignored. Current value: num_threads=4\n",
      "[LightGBM] [Warning] bagging_fraction is set=0.2, subsample=1.0 will be ignored. Current value: bagging_fraction=0.2\n",
      "[LightGBM] [Warning] seed is set=42, random_state=42 will be ignored. Current value: seed=42\n",
      "[LightGBM] [Warning] min_data_in_leaf is set=10, min_child_samples=20 will be ignored. Current value: min_data_in_leaf=10\n",
      "[LightGBM] [Warning] bagging_freq is set=1, subsample_freq=0 will be ignored. Current value: bagging_freq=1\n",
      "[LightGBM] [Warning] min_gain_to_split is set=8.927580418520245, min_split_gain=0.0 will be ignored. Current value: min_gain_to_split=8.927580418520245\n",
      "[LightGBM] [Warning] lambda_l2 is set=85, reg_lambda=0.0 will be ignored. Current value: lambda_l2=85\n"
     ]
    },
    {
     "name": "stderr",
     "output_type": "stream",
     "text": [
      "\u001b[32m[I 2022-04-29 14:19:15,639]\u001b[0m Trial 8 finished with value: 0.02243898377589618 and parameters: {'n_estimators': 30, 'learning_rate': 0.03823040409909164, 'num_leaves': 50, 'max_depth': 5, 'min_data_in_leaf': 10, 'lambda_l1': 50, 'lambda_l2': 85, 'min_gain_to_split': 8.927580418520245, 'bagging_fraction': 0.2, 'bagging_freq': 1, 'feature_fraction': 0.6000000000000001}. Best is trial 0 with value: 0.023559534326877116.\u001b[0m\n"
     ]
    },
    {
     "name": "stdout",
     "output_type": "stream",
     "text": [
      "MAP@12: 0.02243898377589618\n"
     ]
    },
    {
     "name": "stderr",
     "output_type": "stream",
     "text": [
      "/opt/conda/lib/python3.7/site-packages/optuna/distributions.py:563: UserWarning: The distribution is specified by [10, 100] and step=100, but the range is not divisible by `step`. It will be replaced by [10, 10].\n",
      "  low=low, old_high=old_high, high=high, step=step\n",
      "/opt/conda/lib/python3.7/site-packages/optuna/distributions.py:548: UserWarning: The distribution is specified by [0.2, 0.95] and q=0.1, but the range is not divisible by `q`. It will be replaced by [0.2, 0.9].\n",
      "  low=low, old_high=old_high, high=high, step=q\n",
      "/opt/conda/lib/python3.7/site-packages/lightgbm/sklearn.py:621: UserWarning: Found 'eval_at' in params. Will use it instead of 'eval_at' argument\n",
      "  _log_warning(f\"Found '{alias}' in params. Will use it instead of 'eval_at' argument\")\n"
     ]
    },
    {
     "name": "stdout",
     "output_type": "stream",
     "text": [
      "[LightGBM] [Warning] feature_fraction is set=0.9, colsample_bytree=1.0 will be ignored. Current value: feature_fraction=0.9\n",
      "[LightGBM] [Warning] lambda_l1 is set=100, reg_alpha=0.0 will be ignored. Current value: lambda_l1=100\n",
      "[LightGBM] [Warning] num_threads is set=4, n_jobs=-1 will be ignored. Current value: num_threads=4\n",
      "[LightGBM] [Warning] bagging_fraction is set=0.2, subsample=1.0 will be ignored. Current value: bagging_fraction=0.2\n",
      "[LightGBM] [Warning] seed is set=42, random_state=42 will be ignored. Current value: seed=42\n",
      "[LightGBM] [Warning] min_data_in_leaf is set=10, min_child_samples=20 will be ignored. Current value: min_data_in_leaf=10\n",
      "[LightGBM] [Warning] bagging_freq is set=1, subsample_freq=0 will be ignored. Current value: bagging_freq=1\n",
      "[LightGBM] [Warning] min_gain_to_split is set=11.523961359155525, min_split_gain=0.0 will be ignored. Current value: min_gain_to_split=11.523961359155525\n",
      "[LightGBM] [Warning] lambda_l2 is set=35, reg_lambda=0.0 will be ignored. Current value: lambda_l2=35\n"
     ]
    },
    {
     "name": "stderr",
     "output_type": "stream",
     "text": [
      "\u001b[32m[I 2022-04-29 14:20:34,846]\u001b[0m Trial 9 finished with value: 0.023703402287963218 and parameters: {'n_estimators': 50, 'learning_rate': 0.11743904845618798, 'num_leaves': 30, 'max_depth': 10, 'min_data_in_leaf': 10, 'lambda_l1': 100, 'lambda_l2': 35, 'min_gain_to_split': 11.523961359155525, 'bagging_fraction': 0.2, 'bagging_freq': 1, 'feature_fraction': 0.9}. Best is trial 9 with value: 0.023703402287963218.\u001b[0m\n"
     ]
    },
    {
     "name": "stdout",
     "output_type": "stream",
     "text": [
      "MAP@12: 0.023703402287963218\n"
     ]
    },
    {
     "name": "stderr",
     "output_type": "stream",
     "text": [
      "/opt/conda/lib/python3.7/site-packages/optuna/distributions.py:563: UserWarning: The distribution is specified by [10, 100] and step=100, but the range is not divisible by `step`. It will be replaced by [10, 10].\n",
      "  low=low, old_high=old_high, high=high, step=step\n",
      "/opt/conda/lib/python3.7/site-packages/optuna/distributions.py:548: UserWarning: The distribution is specified by [0.2, 0.95] and q=0.1, but the range is not divisible by `q`. It will be replaced by [0.2, 0.9].\n",
      "  low=low, old_high=old_high, high=high, step=q\n",
      "/opt/conda/lib/python3.7/site-packages/lightgbm/sklearn.py:621: UserWarning: Found 'eval_at' in params. Will use it instead of 'eval_at' argument\n",
      "  _log_warning(f\"Found '{alias}' in params. Will use it instead of 'eval_at' argument\")\n"
     ]
    },
    {
     "name": "stdout",
     "output_type": "stream",
     "text": [
      "[LightGBM] [Warning] feature_fraction is set=0.5, colsample_bytree=1.0 will be ignored. Current value: feature_fraction=0.5\n",
      "[LightGBM] [Warning] lambda_l1 is set=100, reg_alpha=0.0 will be ignored. Current value: lambda_l1=100\n",
      "[LightGBM] [Warning] num_threads is set=4, n_jobs=-1 will be ignored. Current value: num_threads=4\n",
      "[LightGBM] [Warning] bagging_fraction is set=0.5, subsample=1.0 will be ignored. Current value: bagging_fraction=0.5\n",
      "[LightGBM] [Warning] seed is set=42, random_state=42 will be ignored. Current value: seed=42\n",
      "[LightGBM] [Warning] min_data_in_leaf is set=10, min_child_samples=20 will be ignored. Current value: min_data_in_leaf=10\n",
      "[LightGBM] [Warning] bagging_freq is set=1, subsample_freq=0 will be ignored. Current value: bagging_freq=1\n",
      "[LightGBM] [Warning] min_gain_to_split is set=11.198952351918019, min_split_gain=0.0 will be ignored. Current value: min_gain_to_split=11.198952351918019\n",
      "[LightGBM] [Warning] lambda_l2 is set=5, reg_lambda=0.0 will be ignored. Current value: lambda_l2=5\n"
     ]
    },
    {
     "name": "stderr",
     "output_type": "stream",
     "text": [
      "\u001b[32m[I 2022-04-29 14:21:28,884]\u001b[0m Trial 10 finished with value: 0.023117603625746816 and parameters: {'n_estimators': 20, 'learning_rate': 0.2437012979523726, 'num_leaves': 100, 'max_depth': 12, 'min_data_in_leaf': 10, 'lambda_l1': 100, 'lambda_l2': 5, 'min_gain_to_split': 11.198952351918019, 'bagging_fraction': 0.5, 'bagging_freq': 1, 'feature_fraction': 0.5}. Best is trial 9 with value: 0.023703402287963218.\u001b[0m\n"
     ]
    },
    {
     "name": "stdout",
     "output_type": "stream",
     "text": [
      "MAP@12: 0.023117603625746816\n"
     ]
    },
    {
     "name": "stderr",
     "output_type": "stream",
     "text": [
      "/opt/conda/lib/python3.7/site-packages/optuna/distributions.py:563: UserWarning: The distribution is specified by [10, 100] and step=100, but the range is not divisible by `step`. It will be replaced by [10, 10].\n",
      "  low=low, old_high=old_high, high=high, step=step\n",
      "/opt/conda/lib/python3.7/site-packages/optuna/distributions.py:548: UserWarning: The distribution is specified by [0.2, 0.95] and q=0.1, but the range is not divisible by `q`. It will be replaced by [0.2, 0.9].\n",
      "  low=low, old_high=old_high, high=high, step=q\n",
      "/opt/conda/lib/python3.7/site-packages/lightgbm/sklearn.py:621: UserWarning: Found 'eval_at' in params. Will use it instead of 'eval_at' argument\n",
      "  _log_warning(f\"Found '{alias}' in params. Will use it instead of 'eval_at' argument\")\n"
     ]
    },
    {
     "name": "stdout",
     "output_type": "stream",
     "text": [
      "[LightGBM] [Warning] feature_fraction is set=0.8, colsample_bytree=1.0 will be ignored. Current value: feature_fraction=0.8\n",
      "[LightGBM] [Warning] lambda_l1 is set=100, reg_alpha=0.0 will be ignored. Current value: lambda_l1=100\n",
      "[LightGBM] [Warning] num_threads is set=4, n_jobs=-1 will be ignored. Current value: num_threads=4\n",
      "[LightGBM] [Warning] bagging_fraction is set=0.2, subsample=1.0 will be ignored. Current value: bagging_fraction=0.2\n",
      "[LightGBM] [Warning] seed is set=42, random_state=42 will be ignored. Current value: seed=42\n",
      "[LightGBM] [Warning] min_data_in_leaf is set=10, min_child_samples=20 will be ignored. Current value: min_data_in_leaf=10\n",
      "[LightGBM] [Warning] bagging_freq is set=1, subsample_freq=0 will be ignored. Current value: bagging_freq=1\n",
      "[LightGBM] [Warning] min_gain_to_split is set=5.970713684868697, min_split_gain=0.0 will be ignored. Current value: min_gain_to_split=5.970713684868697\n",
      "[LightGBM] [Warning] lambda_l2 is set=65, reg_lambda=0.0 will be ignored. Current value: lambda_l2=65\n"
     ]
    },
    {
     "name": "stderr",
     "output_type": "stream",
     "text": [
      "\u001b[32m[I 2022-04-29 14:22:35,547]\u001b[0m Trial 11 finished with value: 0.022909389093719104 and parameters: {'n_estimators': 50, 'learning_rate': 0.09318586188140301, 'num_leaves': 80, 'max_depth': 3, 'min_data_in_leaf': 10, 'lambda_l1': 100, 'lambda_l2': 65, 'min_gain_to_split': 5.970713684868697, 'bagging_fraction': 0.2, 'bagging_freq': 1, 'feature_fraction': 0.8}. Best is trial 9 with value: 0.023703402287963218.\u001b[0m\n"
     ]
    },
    {
     "name": "stdout",
     "output_type": "stream",
     "text": [
      "MAP@12: 0.022909389093719104\n"
     ]
    },
    {
     "name": "stderr",
     "output_type": "stream",
     "text": [
      "/opt/conda/lib/python3.7/site-packages/optuna/distributions.py:563: UserWarning: The distribution is specified by [10, 100] and step=100, but the range is not divisible by `step`. It will be replaced by [10, 10].\n",
      "  low=low, old_high=old_high, high=high, step=step\n",
      "/opt/conda/lib/python3.7/site-packages/optuna/distributions.py:548: UserWarning: The distribution is specified by [0.2, 0.95] and q=0.1, but the range is not divisible by `q`. It will be replaced by [0.2, 0.9].\n",
      "  low=low, old_high=old_high, high=high, step=q\n",
      "/opt/conda/lib/python3.7/site-packages/lightgbm/sklearn.py:621: UserWarning: Found 'eval_at' in params. Will use it instead of 'eval_at' argument\n",
      "  _log_warning(f\"Found '{alias}' in params. Will use it instead of 'eval_at' argument\")\n"
     ]
    },
    {
     "name": "stdout",
     "output_type": "stream",
     "text": [
      "[LightGBM] [Warning] feature_fraction is set=0.8, colsample_bytree=1.0 will be ignored. Current value: feature_fraction=0.8\n",
      "[LightGBM] [Warning] lambda_l1 is set=75, reg_alpha=0.0 will be ignored. Current value: lambda_l1=75\n",
      "[LightGBM] [Warning] num_threads is set=4, n_jobs=-1 will be ignored. Current value: num_threads=4\n",
      "[LightGBM] [Warning] bagging_fraction is set=0.4, subsample=1.0 will be ignored. Current value: bagging_fraction=0.4\n",
      "[LightGBM] [Warning] seed is set=42, random_state=42 will be ignored. Current value: seed=42\n",
      "[LightGBM] [Warning] min_data_in_leaf is set=10, min_child_samples=20 will be ignored. Current value: min_data_in_leaf=10\n",
      "[LightGBM] [Warning] bagging_freq is set=1, subsample_freq=0 will be ignored. Current value: bagging_freq=1\n",
      "[LightGBM] [Warning] min_gain_to_split is set=10.671147653403658, min_split_gain=0.0 will be ignored. Current value: min_gain_to_split=10.671147653403658\n",
      "[LightGBM] [Warning] lambda_l2 is set=65, reg_lambda=0.0 will be ignored. Current value: lambda_l2=65\n"
     ]
    },
    {
     "name": "stderr",
     "output_type": "stream",
     "text": [
      "\u001b[32m[I 2022-04-29 14:24:14,860]\u001b[0m Trial 12 finished with value: 0.023589027072858988 and parameters: {'n_estimators': 50, 'learning_rate': 0.07989389589903625, 'num_leaves': 70, 'max_depth': 11, 'min_data_in_leaf': 10, 'lambda_l1': 75, 'lambda_l2': 65, 'min_gain_to_split': 10.671147653403658, 'bagging_fraction': 0.4, 'bagging_freq': 1, 'feature_fraction': 0.8}. Best is trial 9 with value: 0.023703402287963218.\u001b[0m\n"
     ]
    },
    {
     "name": "stdout",
     "output_type": "stream",
     "text": [
      "MAP@12: 0.023589027072858988\n"
     ]
    },
    {
     "name": "stderr",
     "output_type": "stream",
     "text": [
      "/opt/conda/lib/python3.7/site-packages/optuna/distributions.py:563: UserWarning: The distribution is specified by [10, 100] and step=100, but the range is not divisible by `step`. It will be replaced by [10, 10].\n",
      "  low=low, old_high=old_high, high=high, step=step\n",
      "/opt/conda/lib/python3.7/site-packages/optuna/distributions.py:548: UserWarning: The distribution is specified by [0.2, 0.95] and q=0.1, but the range is not divisible by `q`. It will be replaced by [0.2, 0.9].\n",
      "  low=low, old_high=old_high, high=high, step=q\n",
      "/opt/conda/lib/python3.7/site-packages/lightgbm/sklearn.py:621: UserWarning: Found 'eval_at' in params. Will use it instead of 'eval_at' argument\n",
      "  _log_warning(f\"Found '{alias}' in params. Will use it instead of 'eval_at' argument\")\n"
     ]
    },
    {
     "name": "stdout",
     "output_type": "stream",
     "text": [
      "[LightGBM] [Warning] feature_fraction is set=0.8, colsample_bytree=1.0 will be ignored. Current value: feature_fraction=0.8\n",
      "[LightGBM] [Warning] lambda_l1 is set=75, reg_alpha=0.0 will be ignored. Current value: lambda_l1=75\n",
      "[LightGBM] [Warning] num_threads is set=4, n_jobs=-1 will be ignored. Current value: num_threads=4\n",
      "[LightGBM] [Warning] bagging_fraction is set=0.4, subsample=1.0 will be ignored. Current value: bagging_fraction=0.4\n",
      "[LightGBM] [Warning] seed is set=42, random_state=42 will be ignored. Current value: seed=42\n",
      "[LightGBM] [Warning] min_data_in_leaf is set=10, min_child_samples=20 will be ignored. Current value: min_data_in_leaf=10\n",
      "[LightGBM] [Warning] bagging_freq is set=1, subsample_freq=0 will be ignored. Current value: bagging_freq=1\n",
      "[LightGBM] [Warning] min_gain_to_split is set=10.817646233267103, min_split_gain=0.0 will be ignored. Current value: min_gain_to_split=10.817646233267103\n",
      "[LightGBM] [Warning] lambda_l2 is set=75, reg_lambda=0.0 will be ignored. Current value: lambda_l2=75\n"
     ]
    },
    {
     "name": "stderr",
     "output_type": "stream",
     "text": [
      "\u001b[32m[I 2022-04-29 14:25:56,300]\u001b[0m Trial 13 finished with value: 0.023655345114533117 and parameters: {'n_estimators': 50, 'learning_rate': 0.10397226480877364, 'num_leaves': 100, 'max_depth': 12, 'min_data_in_leaf': 10, 'lambda_l1': 75, 'lambda_l2': 75, 'min_gain_to_split': 10.817646233267103, 'bagging_fraction': 0.4, 'bagging_freq': 1, 'feature_fraction': 0.8}. Best is trial 9 with value: 0.023703402287963218.\u001b[0m\n"
     ]
    },
    {
     "name": "stdout",
     "output_type": "stream",
     "text": [
      "MAP@12: 0.023655345114533117\n"
     ]
    },
    {
     "name": "stderr",
     "output_type": "stream",
     "text": [
      "/opt/conda/lib/python3.7/site-packages/optuna/distributions.py:563: UserWarning: The distribution is specified by [10, 100] and step=100, but the range is not divisible by `step`. It will be replaced by [10, 10].\n",
      "  low=low, old_high=old_high, high=high, step=step\n",
      "/opt/conda/lib/python3.7/site-packages/optuna/distributions.py:548: UserWarning: The distribution is specified by [0.2, 0.95] and q=0.1, but the range is not divisible by `q`. It will be replaced by [0.2, 0.9].\n",
      "  low=low, old_high=old_high, high=high, step=q\n",
      "/opt/conda/lib/python3.7/site-packages/lightgbm/sklearn.py:621: UserWarning: Found 'eval_at' in params. Will use it instead of 'eval_at' argument\n",
      "  _log_warning(f\"Found '{alias}' in params. Will use it instead of 'eval_at' argument\")\n"
     ]
    },
    {
     "name": "stdout",
     "output_type": "stream",
     "text": [
      "[LightGBM] [Warning] feature_fraction is set=0.7, colsample_bytree=1.0 will be ignored. Current value: feature_fraction=0.7\n",
      "[LightGBM] [Warning] lambda_l1 is set=85, reg_alpha=0.0 will be ignored. Current value: lambda_l1=85\n",
      "[LightGBM] [Warning] num_threads is set=4, n_jobs=-1 will be ignored. Current value: num_threads=4\n",
      "[LightGBM] [Warning] bagging_fraction is set=0.4, subsample=1.0 will be ignored. Current value: bagging_fraction=0.4\n",
      "[LightGBM] [Warning] seed is set=42, random_state=42 will be ignored. Current value: seed=42\n",
      "[LightGBM] [Warning] min_data_in_leaf is set=10, min_child_samples=20 will be ignored. Current value: min_data_in_leaf=10\n",
      "[LightGBM] [Warning] bagging_freq is set=1, subsample_freq=0 will be ignored. Current value: bagging_freq=1\n",
      "[LightGBM] [Warning] min_gain_to_split is set=14.70184382986335, min_split_gain=0.0 will be ignored. Current value: min_gain_to_split=14.70184382986335\n",
      "[LightGBM] [Warning] lambda_l2 is set=75, reg_lambda=0.0 will be ignored. Current value: lambda_l2=75\n"
     ]
    },
    {
     "name": "stderr",
     "output_type": "stream",
     "text": [
      "\u001b[32m[I 2022-04-29 14:27:38,420]\u001b[0m Trial 14 finished with value: 0.023593695548260234 and parameters: {'n_estimators': 50, 'learning_rate': 0.12106182500715175, 'num_leaves': 90, 'max_depth': 12, 'min_data_in_leaf': 10, 'lambda_l1': 85, 'lambda_l2': 75, 'min_gain_to_split': 14.70184382986335, 'bagging_fraction': 0.4, 'bagging_freq': 1, 'feature_fraction': 0.7}. Best is trial 9 with value: 0.023703402287963218.\u001b[0m\n"
     ]
    },
    {
     "name": "stdout",
     "output_type": "stream",
     "text": [
      "MAP@12: 0.023593695548260234\n"
     ]
    },
    {
     "name": "stderr",
     "output_type": "stream",
     "text": [
      "/opt/conda/lib/python3.7/site-packages/optuna/distributions.py:563: UserWarning: The distribution is specified by [10, 100] and step=100, but the range is not divisible by `step`. It will be replaced by [10, 10].\n",
      "  low=low, old_high=old_high, high=high, step=step\n",
      "/opt/conda/lib/python3.7/site-packages/optuna/distributions.py:548: UserWarning: The distribution is specified by [0.2, 0.95] and q=0.1, but the range is not divisible by `q`. It will be replaced by [0.2, 0.9].\n",
      "  low=low, old_high=old_high, high=high, step=q\n",
      "/opt/conda/lib/python3.7/site-packages/lightgbm/sklearn.py:621: UserWarning: Found 'eval_at' in params. Will use it instead of 'eval_at' argument\n",
      "  _log_warning(f\"Found '{alias}' in params. Will use it instead of 'eval_at' argument\")\n"
     ]
    },
    {
     "name": "stdout",
     "output_type": "stream",
     "text": [
      "[LightGBM] [Warning] feature_fraction is set=0.9, colsample_bytree=1.0 will be ignored. Current value: feature_fraction=0.9\n",
      "[LightGBM] [Warning] lambda_l1 is set=85, reg_alpha=0.0 will be ignored. Current value: lambda_l1=85\n",
      "[LightGBM] [Warning] num_threads is set=4, n_jobs=-1 will be ignored. Current value: num_threads=4\n",
      "[LightGBM] [Warning] bagging_fraction is set=0.5, subsample=1.0 will be ignored. Current value: bagging_fraction=0.5\n",
      "[LightGBM] [Warning] seed is set=42, random_state=42 will be ignored. Current value: seed=42\n",
      "[LightGBM] [Warning] min_data_in_leaf is set=10, min_child_samples=20 will be ignored. Current value: min_data_in_leaf=10\n",
      "[LightGBM] [Warning] bagging_freq is set=1, subsample_freq=0 will be ignored. Current value: bagging_freq=1\n",
      "[LightGBM] [Warning] min_gain_to_split is set=0.4279117688788636, min_split_gain=0.0 will be ignored. Current value: min_gain_to_split=0.4279117688788636\n",
      "[LightGBM] [Warning] lambda_l2 is set=25, reg_lambda=0.0 will be ignored. Current value: lambda_l2=25\n"
     ]
    },
    {
     "name": "stderr",
     "output_type": "stream",
     "text": [
      "\u001b[32m[I 2022-04-29 14:29:02,094]\u001b[0m Trial 15 finished with value: 0.023073525159265883 and parameters: {'n_estimators': 50, 'learning_rate': 0.18701692056866326, 'num_leaves': 10, 'max_depth': 10, 'min_data_in_leaf': 10, 'lambda_l1': 85, 'lambda_l2': 25, 'min_gain_to_split': 0.4279117688788636, 'bagging_fraction': 0.5, 'bagging_freq': 1, 'feature_fraction': 0.9}. Best is trial 9 with value: 0.023703402287963218.\u001b[0m\n"
     ]
    },
    {
     "name": "stdout",
     "output_type": "stream",
     "text": [
      "MAP@12: 0.023073525159265883\n"
     ]
    },
    {
     "name": "stderr",
     "output_type": "stream",
     "text": [
      "/opt/conda/lib/python3.7/site-packages/optuna/distributions.py:563: UserWarning: The distribution is specified by [10, 100] and step=100, but the range is not divisible by `step`. It will be replaced by [10, 10].\n",
      "  low=low, old_high=old_high, high=high, step=step\n",
      "/opt/conda/lib/python3.7/site-packages/optuna/distributions.py:548: UserWarning: The distribution is specified by [0.2, 0.95] and q=0.1, but the range is not divisible by `q`. It will be replaced by [0.2, 0.9].\n",
      "  low=low, old_high=old_high, high=high, step=q\n",
      "/opt/conda/lib/python3.7/site-packages/lightgbm/sklearn.py:621: UserWarning: Found 'eval_at' in params. Will use it instead of 'eval_at' argument\n",
      "  _log_warning(f\"Found '{alias}' in params. Will use it instead of 'eval_at' argument\")\n"
     ]
    },
    {
     "name": "stdout",
     "output_type": "stream",
     "text": [
      "[LightGBM] [Warning] feature_fraction is set=0.7, colsample_bytree=1.0 will be ignored. Current value: feature_fraction=0.7\n",
      "[LightGBM] [Warning] lambda_l1 is set=70, reg_alpha=0.0 will be ignored. Current value: lambda_l1=70\n",
      "[LightGBM] [Warning] num_threads is set=4, n_jobs=-1 will be ignored. Current value: num_threads=4\n",
      "[LightGBM] [Warning] bagging_fraction is set=0.30000000000000004, subsample=1.0 will be ignored. Current value: bagging_fraction=0.30000000000000004\n",
      "[LightGBM] [Warning] seed is set=42, random_state=42 will be ignored. Current value: seed=42\n",
      "[LightGBM] [Warning] min_data_in_leaf is set=10, min_child_samples=20 will be ignored. Current value: min_data_in_leaf=10\n",
      "[LightGBM] [Warning] bagging_freq is set=1, subsample_freq=0 will be ignored. Current value: bagging_freq=1\n",
      "[LightGBM] [Warning] min_gain_to_split is set=10.78870795876482, min_split_gain=0.0 will be ignored. Current value: min_gain_to_split=10.78870795876482\n",
      "[LightGBM] [Warning] lambda_l2 is set=10, reg_lambda=0.0 will be ignored. Current value: lambda_l2=10\n"
     ]
    },
    {
     "name": "stderr",
     "output_type": "stream",
     "text": [
      "\u001b[32m[I 2022-04-29 14:33:05,307]\u001b[0m Trial 16 finished with value: 0.02372065313966567 and parameters: {'n_estimators': 100, 'learning_rate': 0.117064447589702, 'num_leaves': 100, 'max_depth': 10, 'min_data_in_leaf': 10, 'lambda_l1': 70, 'lambda_l2': 10, 'min_gain_to_split': 10.78870795876482, 'bagging_fraction': 0.30000000000000004, 'bagging_freq': 1, 'feature_fraction': 0.7}. Best is trial 16 with value: 0.02372065313966567.\u001b[0m\n"
     ]
    },
    {
     "name": "stdout",
     "output_type": "stream",
     "text": [
      "MAP@12: 0.02372065313966567\n"
     ]
    },
    {
     "name": "stderr",
     "output_type": "stream",
     "text": [
      "/opt/conda/lib/python3.7/site-packages/optuna/distributions.py:563: UserWarning: The distribution is specified by [10, 100] and step=100, but the range is not divisible by `step`. It will be replaced by [10, 10].\n",
      "  low=low, old_high=old_high, high=high, step=step\n",
      "/opt/conda/lib/python3.7/site-packages/optuna/distributions.py:548: UserWarning: The distribution is specified by [0.2, 0.95] and q=0.1, but the range is not divisible by `q`. It will be replaced by [0.2, 0.9].\n",
      "  low=low, old_high=old_high, high=high, step=q\n",
      "/opt/conda/lib/python3.7/site-packages/lightgbm/sklearn.py:621: UserWarning: Found 'eval_at' in params. Will use it instead of 'eval_at' argument\n",
      "  _log_warning(f\"Found '{alias}' in params. Will use it instead of 'eval_at' argument\")\n"
     ]
    },
    {
     "name": "stdout",
     "output_type": "stream",
     "text": [
      "[LightGBM] [Warning] feature_fraction is set=0.7, colsample_bytree=1.0 will be ignored. Current value: feature_fraction=0.7\n",
      "[LightGBM] [Warning] lambda_l1 is set=65, reg_alpha=0.0 will be ignored. Current value: lambda_l1=65\n",
      "[LightGBM] [Warning] num_threads is set=4, n_jobs=-1 will be ignored. Current value: num_threads=4\n",
      "[LightGBM] [Warning] bagging_fraction is set=0.30000000000000004, subsample=1.0 will be ignored. Current value: bagging_fraction=0.30000000000000004\n",
      "[LightGBM] [Warning] seed is set=42, random_state=42 will be ignored. Current value: seed=42\n",
      "[LightGBM] [Warning] min_data_in_leaf is set=10, min_child_samples=20 will be ignored. Current value: min_data_in_leaf=10\n",
      "[LightGBM] [Warning] bagging_freq is set=1, subsample_freq=0 will be ignored. Current value: bagging_freq=1\n",
      "[LightGBM] [Warning] min_gain_to_split is set=14.943690436755173, min_split_gain=0.0 will be ignored. Current value: min_gain_to_split=14.943690436755173\n",
      "[LightGBM] [Warning] lambda_l2 is set=0, reg_lambda=0.0 will be ignored. Current value: lambda_l2=0\n"
     ]
    },
    {
     "name": "stderr",
     "output_type": "stream",
     "text": [
      "\u001b[32m[I 2022-04-29 14:36:40,200]\u001b[0m Trial 17 finished with value: 0.023664533429023762 and parameters: {'n_estimators': 100, 'learning_rate': 0.22730835090683016, 'num_leaves': 40, 'max_depth': 10, 'min_data_in_leaf': 10, 'lambda_l1': 65, 'lambda_l2': 0, 'min_gain_to_split': 14.943690436755173, 'bagging_fraction': 0.30000000000000004, 'bagging_freq': 1, 'feature_fraction': 0.7}. Best is trial 16 with value: 0.02372065313966567.\u001b[0m\n"
     ]
    },
    {
     "name": "stdout",
     "output_type": "stream",
     "text": [
      "MAP@12: 0.023664533429023762\n"
     ]
    },
    {
     "name": "stderr",
     "output_type": "stream",
     "text": [
      "/opt/conda/lib/python3.7/site-packages/optuna/distributions.py:563: UserWarning: The distribution is specified by [10, 100] and step=100, but the range is not divisible by `step`. It will be replaced by [10, 10].\n",
      "  low=low, old_high=old_high, high=high, step=step\n",
      "/opt/conda/lib/python3.7/site-packages/optuna/distributions.py:548: UserWarning: The distribution is specified by [0.2, 0.95] and q=0.1, but the range is not divisible by `q`. It will be replaced by [0.2, 0.9].\n",
      "  low=low, old_high=old_high, high=high, step=q\n",
      "/opt/conda/lib/python3.7/site-packages/lightgbm/sklearn.py:621: UserWarning: Found 'eval_at' in params. Will use it instead of 'eval_at' argument\n",
      "  _log_warning(f\"Found '{alias}' in params. Will use it instead of 'eval_at' argument\")\n"
     ]
    },
    {
     "name": "stdout",
     "output_type": "stream",
     "text": [
      "[LightGBM] [Warning] feature_fraction is set=0.5, colsample_bytree=1.0 will be ignored. Current value: feature_fraction=0.5\n",
      "[LightGBM] [Warning] lambda_l1 is set=90, reg_alpha=0.0 will be ignored. Current value: lambda_l1=90\n",
      "[LightGBM] [Warning] num_threads is set=4, n_jobs=-1 will be ignored. Current value: num_threads=4\n",
      "[LightGBM] [Warning] bagging_fraction is set=0.6000000000000001, subsample=1.0 will be ignored. Current value: bagging_fraction=0.6000000000000001\n",
      "[LightGBM] [Warning] seed is set=42, random_state=42 will be ignored. Current value: seed=42\n",
      "[LightGBM] [Warning] min_data_in_leaf is set=10, min_child_samples=20 will be ignored. Current value: min_data_in_leaf=10\n",
      "[LightGBM] [Warning] bagging_freq is set=1, subsample_freq=0 will be ignored. Current value: bagging_freq=1\n",
      "[LightGBM] [Warning] min_gain_to_split is set=12.44787537272095, min_split_gain=0.0 will be ignored. Current value: min_gain_to_split=12.44787537272095\n",
      "[LightGBM] [Warning] lambda_l2 is set=15, reg_lambda=0.0 will be ignored. Current value: lambda_l2=15\n"
     ]
    },
    {
     "name": "stderr",
     "output_type": "stream",
     "text": [
      "\u001b[32m[I 2022-04-29 14:40:54,980]\u001b[0m Trial 18 finished with value: 0.023045912774253424 and parameters: {'n_estimators': 100, 'learning_rate': 0.06097451803068525, 'num_leaves': 40, 'max_depth': 9, 'min_data_in_leaf': 10, 'lambda_l1': 90, 'lambda_l2': 15, 'min_gain_to_split': 12.44787537272095, 'bagging_fraction': 0.6000000000000001, 'bagging_freq': 1, 'feature_fraction': 0.5}. Best is trial 16 with value: 0.02372065313966567.\u001b[0m\n"
     ]
    },
    {
     "name": "stdout",
     "output_type": "stream",
     "text": [
      "MAP@12: 0.023045912774253424\n"
     ]
    },
    {
     "name": "stderr",
     "output_type": "stream",
     "text": [
      "/opt/conda/lib/python3.7/site-packages/optuna/distributions.py:563: UserWarning: The distribution is specified by [10, 100] and step=100, but the range is not divisible by `step`. It will be replaced by [10, 10].\n",
      "  low=low, old_high=old_high, high=high, step=step\n",
      "/opt/conda/lib/python3.7/site-packages/optuna/distributions.py:548: UserWarning: The distribution is specified by [0.2, 0.95] and q=0.1, but the range is not divisible by `q`. It will be replaced by [0.2, 0.9].\n",
      "  low=low, old_high=old_high, high=high, step=q\n",
      "/opt/conda/lib/python3.7/site-packages/lightgbm/sklearn.py:621: UserWarning: Found 'eval_at' in params. Will use it instead of 'eval_at' argument\n",
      "  _log_warning(f\"Found '{alias}' in params. Will use it instead of 'eval_at' argument\")\n"
     ]
    },
    {
     "name": "stdout",
     "output_type": "stream",
     "text": [
      "[LightGBM] [Warning] feature_fraction is set=0.2, colsample_bytree=1.0 will be ignored. Current value: feature_fraction=0.2\n",
      "[LightGBM] [Warning] lambda_l1 is set=70, reg_alpha=0.0 will be ignored. Current value: lambda_l1=70\n",
      "[LightGBM] [Warning] num_threads is set=4, n_jobs=-1 will be ignored. Current value: num_threads=4\n",
      "[LightGBM] [Warning] bagging_fraction is set=0.2, subsample=1.0 will be ignored. Current value: bagging_fraction=0.2\n",
      "[LightGBM] [Warning] seed is set=42, random_state=42 will be ignored. Current value: seed=42\n",
      "[LightGBM] [Warning] min_data_in_leaf is set=10, min_child_samples=20 will be ignored. Current value: min_data_in_leaf=10\n",
      "[LightGBM] [Warning] bagging_freq is set=1, subsample_freq=0 will be ignored. Current value: bagging_freq=1\n",
      "[LightGBM] [Warning] min_gain_to_split is set=9.506723581220097, min_split_gain=0.0 will be ignored. Current value: min_gain_to_split=9.506723581220097\n",
      "[LightGBM] [Warning] lambda_l2 is set=35, reg_lambda=0.0 will be ignored. Current value: lambda_l2=35\n"
     ]
    },
    {
     "name": "stderr",
     "output_type": "stream",
     "text": [
      "\u001b[32m[I 2022-04-29 14:41:41,112]\u001b[0m Trial 19 finished with value: 0.02180652064610189 and parameters: {'n_estimators': 20, 'learning_rate': 0.13444924471609446, 'num_leaves': 60, 'max_depth': 11, 'min_data_in_leaf': 10, 'lambda_l1': 70, 'lambda_l2': 35, 'min_gain_to_split': 9.506723581220097, 'bagging_fraction': 0.2, 'bagging_freq': 1, 'feature_fraction': 0.2}. Best is trial 16 with value: 0.02372065313966567.\u001b[0m\n"
     ]
    },
    {
     "name": "stdout",
     "output_type": "stream",
     "text": [
      "MAP@12: 0.02180652064610189\n"
     ]
    },
    {
     "name": "stderr",
     "output_type": "stream",
     "text": [
      "/opt/conda/lib/python3.7/site-packages/optuna/distributions.py:563: UserWarning: The distribution is specified by [10, 100] and step=100, but the range is not divisible by `step`. It will be replaced by [10, 10].\n",
      "  low=low, old_high=old_high, high=high, step=step\n",
      "/opt/conda/lib/python3.7/site-packages/optuna/distributions.py:548: UserWarning: The distribution is specified by [0.2, 0.95] and q=0.1, but the range is not divisible by `q`. It will be replaced by [0.2, 0.9].\n",
      "  low=low, old_high=old_high, high=high, step=q\n",
      "/opt/conda/lib/python3.7/site-packages/lightgbm/sklearn.py:621: UserWarning: Found 'eval_at' in params. Will use it instead of 'eval_at' argument\n",
      "  _log_warning(f\"Found '{alias}' in params. Will use it instead of 'eval_at' argument\")\n"
     ]
    },
    {
     "name": "stdout",
     "output_type": "stream",
     "text": [
      "[LightGBM] [Warning] feature_fraction is set=0.7, colsample_bytree=1.0 will be ignored. Current value: feature_fraction=0.7\n",
      "[LightGBM] [Warning] lambda_l1 is set=0, reg_alpha=0.0 will be ignored. Current value: lambda_l1=0\n",
      "[LightGBM] [Warning] num_threads is set=4, n_jobs=-1 will be ignored. Current value: num_threads=4\n",
      "[LightGBM] [Warning] bagging_fraction is set=0.30000000000000004, subsample=1.0 will be ignored. Current value: bagging_fraction=0.30000000000000004\n",
      "[LightGBM] [Warning] seed is set=42, random_state=42 will be ignored. Current value: seed=42\n",
      "[LightGBM] [Warning] min_data_in_leaf is set=10, min_child_samples=20 will be ignored. Current value: min_data_in_leaf=10\n",
      "[LightGBM] [Warning] bagging_freq is set=1, subsample_freq=0 will be ignored. Current value: bagging_freq=1\n",
      "[LightGBM] [Warning] min_gain_to_split is set=7.07400662059027, min_split_gain=0.0 will be ignored. Current value: min_gain_to_split=7.07400662059027\n",
      "[LightGBM] [Warning] lambda_l2 is set=10, reg_lambda=0.0 will be ignored. Current value: lambda_l2=10\n"
     ]
    },
    {
     "name": "stderr",
     "output_type": "stream",
     "text": [
      "\u001b[32m[I 2022-04-29 14:44:39,529]\u001b[0m Trial 20 finished with value: 0.02332823980382567 and parameters: {'n_estimators': 100, 'learning_rate': 0.11627646318796697, 'num_leaves': 10, 'max_depth': 9, 'min_data_in_leaf': 10, 'lambda_l1': 0, 'lambda_l2': 10, 'min_gain_to_split': 7.07400662059027, 'bagging_fraction': 0.30000000000000004, 'bagging_freq': 1, 'feature_fraction': 0.7}. Best is trial 16 with value: 0.02372065313966567.\u001b[0m\n"
     ]
    },
    {
     "name": "stdout",
     "output_type": "stream",
     "text": [
      "MAP@12: 0.02332823980382567\n"
     ]
    },
    {
     "name": "stderr",
     "output_type": "stream",
     "text": [
      "/opt/conda/lib/python3.7/site-packages/optuna/distributions.py:563: UserWarning: The distribution is specified by [10, 100] and step=100, but the range is not divisible by `step`. It will be replaced by [10, 10].\n",
      "  low=low, old_high=old_high, high=high, step=step\n",
      "/opt/conda/lib/python3.7/site-packages/optuna/distributions.py:548: UserWarning: The distribution is specified by [0.2, 0.95] and q=0.1, but the range is not divisible by `q`. It will be replaced by [0.2, 0.9].\n",
      "  low=low, old_high=old_high, high=high, step=q\n",
      "/opt/conda/lib/python3.7/site-packages/lightgbm/sklearn.py:621: UserWarning: Found 'eval_at' in params. Will use it instead of 'eval_at' argument\n",
      "  _log_warning(f\"Found '{alias}' in params. Will use it instead of 'eval_at' argument\")\n"
     ]
    },
    {
     "name": "stdout",
     "output_type": "stream",
     "text": [
      "[LightGBM] [Warning] feature_fraction is set=0.7, colsample_bytree=1.0 will be ignored. Current value: feature_fraction=0.7\n",
      "[LightGBM] [Warning] lambda_l1 is set=60, reg_alpha=0.0 will be ignored. Current value: lambda_l1=60\n",
      "[LightGBM] [Warning] num_threads is set=4, n_jobs=-1 will be ignored. Current value: num_threads=4\n",
      "[LightGBM] [Warning] bagging_fraction is set=0.30000000000000004, subsample=1.0 will be ignored. Current value: bagging_fraction=0.30000000000000004\n",
      "[LightGBM] [Warning] seed is set=42, random_state=42 will be ignored. Current value: seed=42\n",
      "[LightGBM] [Warning] min_data_in_leaf is set=10, min_child_samples=20 will be ignored. Current value: min_data_in_leaf=10\n",
      "[LightGBM] [Warning] bagging_freq is set=1, subsample_freq=0 will be ignored. Current value: bagging_freq=1\n",
      "[LightGBM] [Warning] min_gain_to_split is set=13.82560639669322, min_split_gain=0.0 will be ignored. Current value: min_gain_to_split=13.82560639669322\n",
      "[LightGBM] [Warning] lambda_l2 is set=5, reg_lambda=0.0 will be ignored. Current value: lambda_l2=5\n"
     ]
    },
    {
     "name": "stderr",
     "output_type": "stream",
     "text": [
      "\u001b[32m[I 2022-04-29 14:48:09,288]\u001b[0m Trial 21 finished with value: 0.023781238705612558 and parameters: {'n_estimators': 100, 'learning_rate': 0.2487143323581119, 'num_leaves': 40, 'max_depth': 10, 'min_data_in_leaf': 10, 'lambda_l1': 60, 'lambda_l2': 5, 'min_gain_to_split': 13.82560639669322, 'bagging_fraction': 0.30000000000000004, 'bagging_freq': 1, 'feature_fraction': 0.7}. Best is trial 21 with value: 0.023781238705612558.\u001b[0m\n"
     ]
    },
    {
     "name": "stdout",
     "output_type": "stream",
     "text": [
      "MAP@12: 0.023781238705612558\n"
     ]
    },
    {
     "name": "stderr",
     "output_type": "stream",
     "text": [
      "/opt/conda/lib/python3.7/site-packages/optuna/distributions.py:563: UserWarning: The distribution is specified by [10, 100] and step=100, but the range is not divisible by `step`. It will be replaced by [10, 10].\n",
      "  low=low, old_high=old_high, high=high, step=step\n",
      "/opt/conda/lib/python3.7/site-packages/optuna/distributions.py:548: UserWarning: The distribution is specified by [0.2, 0.95] and q=0.1, but the range is not divisible by `q`. It will be replaced by [0.2, 0.9].\n",
      "  low=low, old_high=old_high, high=high, step=q\n",
      "/opt/conda/lib/python3.7/site-packages/lightgbm/sklearn.py:621: UserWarning: Found 'eval_at' in params. Will use it instead of 'eval_at' argument\n",
      "  _log_warning(f\"Found '{alias}' in params. Will use it instead of 'eval_at' argument\")\n"
     ]
    },
    {
     "name": "stdout",
     "output_type": "stream",
     "text": [
      "[LightGBM] [Warning] feature_fraction is set=0.6000000000000001, colsample_bytree=1.0 will be ignored. Current value: feature_fraction=0.6000000000000001\n",
      "[LightGBM] [Warning] lambda_l1 is set=65, reg_alpha=0.0 will be ignored. Current value: lambda_l1=65\n",
      "[LightGBM] [Warning] num_threads is set=4, n_jobs=-1 will be ignored. Current value: num_threads=4\n",
      "[LightGBM] [Warning] bagging_fraction is set=0.30000000000000004, subsample=1.0 will be ignored. Current value: bagging_fraction=0.30000000000000004\n",
      "[LightGBM] [Warning] seed is set=42, random_state=42 will be ignored. Current value: seed=42\n",
      "[LightGBM] [Warning] min_data_in_leaf is set=10, min_child_samples=20 will be ignored. Current value: min_data_in_leaf=10\n",
      "[LightGBM] [Warning] bagging_freq is set=1, subsample_freq=0 will be ignored. Current value: bagging_freq=1\n",
      "[LightGBM] [Warning] min_gain_to_split is set=13.553663272308924, min_split_gain=0.0 will be ignored. Current value: min_gain_to_split=13.553663272308924\n",
      "[LightGBM] [Warning] lambda_l2 is set=25, reg_lambda=0.0 will be ignored. Current value: lambda_l2=25\n"
     ]
    },
    {
     "name": "stderr",
     "output_type": "stream",
     "text": [
      "\u001b[32m[I 2022-04-29 14:51:44,327]\u001b[0m Trial 22 finished with value: 0.023208398464042195 and parameters: {'n_estimators': 100, 'learning_rate': 0.2752321562909845, 'num_leaves': 30, 'max_depth': 11, 'min_data_in_leaf': 10, 'lambda_l1': 65, 'lambda_l2': 25, 'min_gain_to_split': 13.553663272308924, 'bagging_fraction': 0.30000000000000004, 'bagging_freq': 1, 'feature_fraction': 0.6000000000000001}. Best is trial 21 with value: 0.023781238705612558.\u001b[0m\n"
     ]
    },
    {
     "name": "stdout",
     "output_type": "stream",
     "text": [
      "MAP@12: 0.023208398464042195\n"
     ]
    },
    {
     "name": "stderr",
     "output_type": "stream",
     "text": [
      "/opt/conda/lib/python3.7/site-packages/optuna/distributions.py:563: UserWarning: The distribution is specified by [10, 100] and step=100, but the range is not divisible by `step`. It will be replaced by [10, 10].\n",
      "  low=low, old_high=old_high, high=high, step=step\n",
      "/opt/conda/lib/python3.7/site-packages/optuna/distributions.py:548: UserWarning: The distribution is specified by [0.2, 0.95] and q=0.1, but the range is not divisible by `q`. It will be replaced by [0.2, 0.9].\n",
      "  low=low, old_high=old_high, high=high, step=q\n",
      "/opt/conda/lib/python3.7/site-packages/lightgbm/sklearn.py:621: UserWarning: Found 'eval_at' in params. Will use it instead of 'eval_at' argument\n",
      "  _log_warning(f\"Found '{alias}' in params. Will use it instead of 'eval_at' argument\")\n"
     ]
    },
    {
     "name": "stdout",
     "output_type": "stream",
     "text": [
      "[LightGBM] [Warning] feature_fraction is set=0.8, colsample_bytree=1.0 will be ignored. Current value: feature_fraction=0.8\n",
      "[LightGBM] [Warning] lambda_l1 is set=60, reg_alpha=0.0 will be ignored. Current value: lambda_l1=60\n",
      "[LightGBM] [Warning] num_threads is set=4, n_jobs=-1 will be ignored. Current value: num_threads=4\n",
      "[LightGBM] [Warning] bagging_fraction is set=0.2, subsample=1.0 will be ignored. Current value: bagging_fraction=0.2\n",
      "[LightGBM] [Warning] seed is set=42, random_state=42 will be ignored. Current value: seed=42\n",
      "[LightGBM] [Warning] min_data_in_leaf is set=10, min_child_samples=20 will be ignored. Current value: min_data_in_leaf=10\n",
      "[LightGBM] [Warning] bagging_freq is set=1, subsample_freq=0 will be ignored. Current value: bagging_freq=1\n",
      "[LightGBM] [Warning] min_gain_to_split is set=11.845663832976047, min_split_gain=0.0 will be ignored. Current value: min_gain_to_split=11.845663832976047\n",
      "[LightGBM] [Warning] lambda_l2 is set=0, reg_lambda=0.0 will be ignored. Current value: lambda_l2=0\n"
     ]
    },
    {
     "name": "stderr",
     "output_type": "stream",
     "text": [
      "\u001b[32m[I 2022-04-29 14:52:40,766]\u001b[0m Trial 23 finished with value: 0.0236672408679552 and parameters: {'n_estimators': 30, 'learning_rate': 0.17274502683794057, 'num_leaves': 40, 'max_depth': 7, 'min_data_in_leaf': 10, 'lambda_l1': 60, 'lambda_l2': 0, 'min_gain_to_split': 11.845663832976047, 'bagging_fraction': 0.2, 'bagging_freq': 1, 'feature_fraction': 0.8}. Best is trial 21 with value: 0.023781238705612558.\u001b[0m\n"
     ]
    },
    {
     "name": "stdout",
     "output_type": "stream",
     "text": [
      "MAP@12: 0.0236672408679552\n"
     ]
    },
    {
     "name": "stderr",
     "output_type": "stream",
     "text": [
      "/opt/conda/lib/python3.7/site-packages/optuna/distributions.py:563: UserWarning: The distribution is specified by [10, 100] and step=100, but the range is not divisible by `step`. It will be replaced by [10, 10].\n",
      "  low=low, old_high=old_high, high=high, step=step\n",
      "/opt/conda/lib/python3.7/site-packages/optuna/distributions.py:548: UserWarning: The distribution is specified by [0.2, 0.95] and q=0.1, but the range is not divisible by `q`. It will be replaced by [0.2, 0.9].\n",
      "  low=low, old_high=old_high, high=high, step=q\n",
      "/opt/conda/lib/python3.7/site-packages/lightgbm/sklearn.py:621: UserWarning: Found 'eval_at' in params. Will use it instead of 'eval_at' argument\n",
      "  _log_warning(f\"Found '{alias}' in params. Will use it instead of 'eval_at' argument\")\n"
     ]
    },
    {
     "name": "stdout",
     "output_type": "stream",
     "text": [
      "[LightGBM] [Warning] feature_fraction is set=0.9, colsample_bytree=1.0 will be ignored. Current value: feature_fraction=0.9\n",
      "[LightGBM] [Warning] lambda_l1 is set=90, reg_alpha=0.0 will be ignored. Current value: lambda_l1=90\n",
      "[LightGBM] [Warning] num_threads is set=4, n_jobs=-1 will be ignored. Current value: num_threads=4\n",
      "[LightGBM] [Warning] bagging_fraction is set=0.5, subsample=1.0 will be ignored. Current value: bagging_fraction=0.5\n",
      "[LightGBM] [Warning] seed is set=42, random_state=42 will be ignored. Current value: seed=42\n",
      "[LightGBM] [Warning] min_data_in_leaf is set=10, min_child_samples=20 will be ignored. Current value: min_data_in_leaf=10\n",
      "[LightGBM] [Warning] bagging_freq is set=1, subsample_freq=0 will be ignored. Current value: bagging_freq=1\n",
      "[LightGBM] [Warning] min_gain_to_split is set=13.741665905691736, min_split_gain=0.0 will be ignored. Current value: min_gain_to_split=13.741665905691736\n",
      "[LightGBM] [Warning] lambda_l2 is set=15, reg_lambda=0.0 will be ignored. Current value: lambda_l2=15\n"
     ]
    },
    {
     "name": "stderr",
     "output_type": "stream",
     "text": [
      "\u001b[32m[I 2022-04-29 14:56:33,985]\u001b[0m Trial 24 finished with value: 0.023273707562047972 and parameters: {'n_estimators': 100, 'learning_rate': 0.22219184536416264, 'num_leaves': 60, 'max_depth': 10, 'min_data_in_leaf': 10, 'lambda_l1': 90, 'lambda_l2': 15, 'min_gain_to_split': 13.741665905691736, 'bagging_fraction': 0.5, 'bagging_freq': 1, 'feature_fraction': 0.9}. Best is trial 21 with value: 0.023781238705612558.\u001b[0m\n"
     ]
    },
    {
     "name": "stdout",
     "output_type": "stream",
     "text": [
      "MAP@12: 0.023273707562047972\n"
     ]
    },
    {
     "name": "stderr",
     "output_type": "stream",
     "text": [
      "/opt/conda/lib/python3.7/site-packages/optuna/distributions.py:563: UserWarning: The distribution is specified by [10, 100] and step=100, but the range is not divisible by `step`. It will be replaced by [10, 10].\n",
      "  low=low, old_high=old_high, high=high, step=step\n",
      "/opt/conda/lib/python3.7/site-packages/optuna/distributions.py:548: UserWarning: The distribution is specified by [0.2, 0.95] and q=0.1, but the range is not divisible by `q`. It will be replaced by [0.2, 0.9].\n",
      "  low=low, old_high=old_high, high=high, step=q\n",
      "/opt/conda/lib/python3.7/site-packages/lightgbm/sklearn.py:621: UserWarning: Found 'eval_at' in params. Will use it instead of 'eval_at' argument\n",
      "  _log_warning(f\"Found '{alias}' in params. Will use it instead of 'eval_at' argument\")\n"
     ]
    },
    {
     "name": "stdout",
     "output_type": "stream",
     "text": [
      "[LightGBM] [Warning] feature_fraction is set=0.7, colsample_bytree=1.0 will be ignored. Current value: feature_fraction=0.7\n",
      "[LightGBM] [Warning] lambda_l1 is set=55, reg_alpha=0.0 will be ignored. Current value: lambda_l1=55\n",
      "[LightGBM] [Warning] num_threads is set=4, n_jobs=-1 will be ignored. Current value: num_threads=4\n",
      "[LightGBM] [Warning] bagging_fraction is set=0.30000000000000004, subsample=1.0 will be ignored. Current value: bagging_fraction=0.30000000000000004\n",
      "[LightGBM] [Warning] seed is set=42, random_state=42 will be ignored. Current value: seed=42\n",
      "[LightGBM] [Warning] min_data_in_leaf is set=10, min_child_samples=20 will be ignored. Current value: min_data_in_leaf=10\n",
      "[LightGBM] [Warning] bagging_freq is set=1, subsample_freq=0 will be ignored. Current value: bagging_freq=1\n",
      "[LightGBM] [Warning] min_gain_to_split is set=10.35677956239754, min_split_gain=0.0 will be ignored. Current value: min_gain_to_split=10.35677956239754\n",
      "[LightGBM] [Warning] lambda_l2 is set=30, reg_lambda=0.0 will be ignored. Current value: lambda_l2=30\n",
      "MAP@12: 0.02379119604421072\n"
     ]
    },
    {
     "name": "stderr",
     "output_type": "stream",
     "text": [
      "\u001b[32m[I 2022-04-29 15:00:08,227]\u001b[0m Trial 25 finished with value: 0.02379119604421072 and parameters: {'n_estimators': 100, 'learning_rate': 0.2528208535033459, 'num_leaves': 20, 'max_depth': 9, 'min_data_in_leaf': 10, 'lambda_l1': 55, 'lambda_l2': 30, 'min_gain_to_split': 10.35677956239754, 'bagging_fraction': 0.30000000000000004, 'bagging_freq': 1, 'feature_fraction': 0.7}. Best is trial 25 with value: 0.02379119604421072.\u001b[0m\n",
      "/opt/conda/lib/python3.7/site-packages/optuna/distributions.py:563: UserWarning: The distribution is specified by [10, 100] and step=100, but the range is not divisible by `step`. It will be replaced by [10, 10].\n",
      "  low=low, old_high=old_high, high=high, step=step\n",
      "/opt/conda/lib/python3.7/site-packages/optuna/distributions.py:548: UserWarning: The distribution is specified by [0.2, 0.95] and q=0.1, but the range is not divisible by `q`. It will be replaced by [0.2, 0.9].\n",
      "  low=low, old_high=old_high, high=high, step=q\n",
      "/opt/conda/lib/python3.7/site-packages/lightgbm/sklearn.py:621: UserWarning: Found 'eval_at' in params. Will use it instead of 'eval_at' argument\n",
      "  _log_warning(f\"Found '{alias}' in params. Will use it instead of 'eval_at' argument\")\n"
     ]
    },
    {
     "name": "stdout",
     "output_type": "stream",
     "text": [
      "[LightGBM] [Warning] feature_fraction is set=0.6000000000000001, colsample_bytree=1.0 will be ignored. Current value: feature_fraction=0.6000000000000001\n",
      "[LightGBM] [Warning] lambda_l1 is set=55, reg_alpha=0.0 will be ignored. Current value: lambda_l1=55\n",
      "[LightGBM] [Warning] num_threads is set=4, n_jobs=-1 will be ignored. Current value: num_threads=4\n",
      "[LightGBM] [Warning] bagging_fraction is set=0.4, subsample=1.0 will be ignored. Current value: bagging_fraction=0.4\n",
      "[LightGBM] [Warning] seed is set=42, random_state=42 will be ignored. Current value: seed=42\n",
      "[LightGBM] [Warning] min_data_in_leaf is set=10, min_child_samples=20 will be ignored. Current value: min_data_in_leaf=10\n",
      "[LightGBM] [Warning] bagging_freq is set=1, subsample_freq=0 will be ignored. Current value: bagging_freq=1\n",
      "[LightGBM] [Warning] min_gain_to_split is set=9.863838478973186, min_split_gain=0.0 will be ignored. Current value: min_gain_to_split=9.863838478973186\n",
      "[LightGBM] [Warning] lambda_l2 is set=25, reg_lambda=0.0 will be ignored. Current value: lambda_l2=25\n"
     ]
    },
    {
     "name": "stderr",
     "output_type": "stream",
     "text": [
      "\u001b[32m[I 2022-04-29 15:04:04,926]\u001b[0m Trial 26 finished with value: 0.02364850904717551 and parameters: {'n_estimators': 100, 'learning_rate': 0.2526315322847351, 'num_leaves': 20, 'max_depth': 8, 'min_data_in_leaf': 10, 'lambda_l1': 55, 'lambda_l2': 25, 'min_gain_to_split': 9.863838478973186, 'bagging_fraction': 0.4, 'bagging_freq': 1, 'feature_fraction': 0.6000000000000001}. Best is trial 25 with value: 0.02379119604421072.\u001b[0m\n"
     ]
    },
    {
     "name": "stdout",
     "output_type": "stream",
     "text": [
      "MAP@12: 0.02364850904717551\n"
     ]
    },
    {
     "name": "stderr",
     "output_type": "stream",
     "text": [
      "/opt/conda/lib/python3.7/site-packages/optuna/distributions.py:563: UserWarning: The distribution is specified by [10, 100] and step=100, but the range is not divisible by `step`. It will be replaced by [10, 10].\n",
      "  low=low, old_high=old_high, high=high, step=step\n",
      "/opt/conda/lib/python3.7/site-packages/optuna/distributions.py:548: UserWarning: The distribution is specified by [0.2, 0.95] and q=0.1, but the range is not divisible by `q`. It will be replaced by [0.2, 0.9].\n",
      "  low=low, old_high=old_high, high=high, step=q\n",
      "/opt/conda/lib/python3.7/site-packages/lightgbm/sklearn.py:621: UserWarning: Found 'eval_at' in params. Will use it instead of 'eval_at' argument\n",
      "  _log_warning(f\"Found '{alias}' in params. Will use it instead of 'eval_at' argument\")\n"
     ]
    },
    {
     "name": "stdout",
     "output_type": "stream",
     "text": [
      "[LightGBM] [Warning] feature_fraction is set=0.7, colsample_bytree=1.0 will be ignored. Current value: feature_fraction=0.7\n",
      "[LightGBM] [Warning] lambda_l1 is set=35, reg_alpha=0.0 will be ignored. Current value: lambda_l1=35\n",
      "[LightGBM] [Warning] num_threads is set=4, n_jobs=-1 will be ignored. Current value: num_threads=4\n",
      "[LightGBM] [Warning] bagging_fraction is set=0.30000000000000004, subsample=1.0 will be ignored. Current value: bagging_fraction=0.30000000000000004\n",
      "[LightGBM] [Warning] seed is set=42, random_state=42 will be ignored. Current value: seed=42\n",
      "[LightGBM] [Warning] min_data_in_leaf is set=10, min_child_samples=20 will be ignored. Current value: min_data_in_leaf=10\n",
      "[LightGBM] [Warning] bagging_freq is set=1, subsample_freq=0 will be ignored. Current value: bagging_freq=1\n",
      "[LightGBM] [Warning] min_gain_to_split is set=7.702426339836351, min_split_gain=0.0 will be ignored. Current value: min_gain_to_split=7.702426339836351\n",
      "[LightGBM] [Warning] lambda_l2 is set=10, reg_lambda=0.0 will be ignored. Current value: lambda_l2=10\n"
     ]
    },
    {
     "name": "stderr",
     "output_type": "stream",
     "text": [
      "\u001b[32m[I 2022-04-29 15:08:05,030]\u001b[0m Trial 27 finished with value: 0.0239022801408308 and parameters: {'n_estimators': 100, 'learning_rate': 0.26762621693602034, 'num_leaves': 90, 'max_depth': 9, 'min_data_in_leaf': 10, 'lambda_l1': 35, 'lambda_l2': 10, 'min_gain_to_split': 7.702426339836351, 'bagging_fraction': 0.30000000000000004, 'bagging_freq': 1, 'feature_fraction': 0.7}. Best is trial 27 with value: 0.0239022801408308.\u001b[0m\n"
     ]
    },
    {
     "name": "stdout",
     "output_type": "stream",
     "text": [
      "MAP@12: 0.0239022801408308\n"
     ]
    },
    {
     "name": "stderr",
     "output_type": "stream",
     "text": [
      "/opt/conda/lib/python3.7/site-packages/optuna/distributions.py:563: UserWarning: The distribution is specified by [10, 100] and step=100, but the range is not divisible by `step`. It will be replaced by [10, 10].\n",
      "  low=low, old_high=old_high, high=high, step=step\n",
      "/opt/conda/lib/python3.7/site-packages/optuna/distributions.py:548: UserWarning: The distribution is specified by [0.2, 0.95] and q=0.1, but the range is not divisible by `q`. It will be replaced by [0.2, 0.9].\n",
      "  low=low, old_high=old_high, high=high, step=q\n",
      "/opt/conda/lib/python3.7/site-packages/lightgbm/sklearn.py:621: UserWarning: Found 'eval_at' in params. Will use it instead of 'eval_at' argument\n",
      "  _log_warning(f\"Found '{alias}' in params. Will use it instead of 'eval_at' argument\")\n"
     ]
    },
    {
     "name": "stdout",
     "output_type": "stream",
     "text": [
      "[LightGBM] [Warning] feature_fraction is set=0.5, colsample_bytree=1.0 will be ignored. Current value: feature_fraction=0.5\n",
      "[LightGBM] [Warning] lambda_l1 is set=35, reg_alpha=0.0 will be ignored. Current value: lambda_l1=35\n",
      "[LightGBM] [Warning] num_threads is set=4, n_jobs=-1 will be ignored. Current value: num_threads=4\n",
      "[LightGBM] [Warning] bagging_fraction is set=0.5, subsample=1.0 will be ignored. Current value: bagging_fraction=0.5\n",
      "[LightGBM] [Warning] seed is set=42, random_state=42 will be ignored. Current value: seed=42\n",
      "[LightGBM] [Warning] min_data_in_leaf is set=10, min_child_samples=20 will be ignored. Current value: min_data_in_leaf=10\n",
      "[LightGBM] [Warning] bagging_freq is set=1, subsample_freq=0 will be ignored. Current value: bagging_freq=1\n",
      "[LightGBM] [Warning] min_gain_to_split is set=7.409234903800669, min_split_gain=0.0 will be ignored. Current value: min_gain_to_split=7.409234903800669\n",
      "[LightGBM] [Warning] lambda_l2 is set=45, reg_lambda=0.0 will be ignored. Current value: lambda_l2=45\n"
     ]
    },
    {
     "name": "stderr",
     "output_type": "stream",
     "text": [
      "\u001b[32m[I 2022-04-29 15:13:03,644]\u001b[0m Trial 28 finished with value: 0.023843956577400544 and parameters: {'n_estimators': 100, 'learning_rate': 0.270029029704871, 'num_leaves': 90, 'max_depth': 9, 'min_data_in_leaf': 10, 'lambda_l1': 35, 'lambda_l2': 45, 'min_gain_to_split': 7.409234903800669, 'bagging_fraction': 0.5, 'bagging_freq': 1, 'feature_fraction': 0.5}. Best is trial 27 with value: 0.0239022801408308.\u001b[0m\n"
     ]
    },
    {
     "name": "stdout",
     "output_type": "stream",
     "text": [
      "MAP@12: 0.023843956577400544\n"
     ]
    },
    {
     "name": "stderr",
     "output_type": "stream",
     "text": [
      "/opt/conda/lib/python3.7/site-packages/optuna/distributions.py:563: UserWarning: The distribution is specified by [10, 100] and step=100, but the range is not divisible by `step`. It will be replaced by [10, 10].\n",
      "  low=low, old_high=old_high, high=high, step=step\n",
      "/opt/conda/lib/python3.7/site-packages/optuna/distributions.py:548: UserWarning: The distribution is specified by [0.2, 0.95] and q=0.1, but the range is not divisible by `q`. It will be replaced by [0.2, 0.9].\n",
      "  low=low, old_high=old_high, high=high, step=q\n",
      "/opt/conda/lib/python3.7/site-packages/lightgbm/sklearn.py:621: UserWarning: Found 'eval_at' in params. Will use it instead of 'eval_at' argument\n",
      "  _log_warning(f\"Found '{alias}' in params. Will use it instead of 'eval_at' argument\")\n"
     ]
    },
    {
     "name": "stdout",
     "output_type": "stream",
     "text": [
      "[LightGBM] [Warning] feature_fraction is set=0.5, colsample_bytree=1.0 will be ignored. Current value: feature_fraction=0.5\n",
      "[LightGBM] [Warning] lambda_l1 is set=30, reg_alpha=0.0 will be ignored. Current value: lambda_l1=30\n",
      "[LightGBM] [Warning] num_threads is set=4, n_jobs=-1 will be ignored. Current value: num_threads=4\n",
      "[LightGBM] [Warning] bagging_fraction is set=0.7, subsample=1.0 will be ignored. Current value: bagging_fraction=0.7\n",
      "[LightGBM] [Warning] seed is set=42, random_state=42 will be ignored. Current value: seed=42\n",
      "[LightGBM] [Warning] min_data_in_leaf is set=10, min_child_samples=20 will be ignored. Current value: min_data_in_leaf=10\n",
      "[LightGBM] [Warning] bagging_freq is set=1, subsample_freq=0 will be ignored. Current value: bagging_freq=1\n",
      "[LightGBM] [Warning] min_gain_to_split is set=7.2887524368922705, min_split_gain=0.0 will be ignored. Current value: min_gain_to_split=7.2887524368922705\n",
      "[LightGBM] [Warning] lambda_l2 is set=45, reg_lambda=0.0 will be ignored. Current value: lambda_l2=45\n"
     ]
    },
    {
     "name": "stderr",
     "output_type": "stream",
     "text": [
      "\u001b[32m[I 2022-04-29 15:17:37,968]\u001b[0m Trial 29 finished with value: 0.023800614327933806 and parameters: {'n_estimators': 100, 'learning_rate': 0.296274871081157, 'num_leaves': 80, 'max_depth': 7, 'min_data_in_leaf': 10, 'lambda_l1': 30, 'lambda_l2': 45, 'min_gain_to_split': 7.2887524368922705, 'bagging_fraction': 0.7, 'bagging_freq': 1, 'feature_fraction': 0.5}. Best is trial 27 with value: 0.0239022801408308.\u001b[0m\n"
     ]
    },
    {
     "name": "stdout",
     "output_type": "stream",
     "text": [
      "MAP@12: 0.023800614327933806\n"
     ]
    },
    {
     "name": "stderr",
     "output_type": "stream",
     "text": [
      "/opt/conda/lib/python3.7/site-packages/optuna/distributions.py:563: UserWarning: The distribution is specified by [10, 100] and step=100, but the range is not divisible by `step`. It will be replaced by [10, 10].\n",
      "  low=low, old_high=old_high, high=high, step=step\n",
      "/opt/conda/lib/python3.7/site-packages/optuna/distributions.py:548: UserWarning: The distribution is specified by [0.2, 0.95] and q=0.1, but the range is not divisible by `q`. It will be replaced by [0.2, 0.9].\n",
      "  low=low, old_high=old_high, high=high, step=q\n",
      "/opt/conda/lib/python3.7/site-packages/lightgbm/sklearn.py:621: UserWarning: Found 'eval_at' in params. Will use it instead of 'eval_at' argument\n",
      "  _log_warning(f\"Found '{alias}' in params. Will use it instead of 'eval_at' argument\")\n"
     ]
    },
    {
     "name": "stdout",
     "output_type": "stream",
     "text": [
      "[LightGBM] [Warning] feature_fraction is set=0.4, colsample_bytree=1.0 will be ignored. Current value: feature_fraction=0.4\n",
      "[LightGBM] [Warning] lambda_l1 is set=30, reg_alpha=0.0 will be ignored. Current value: lambda_l1=30\n",
      "[LightGBM] [Warning] num_threads is set=4, n_jobs=-1 will be ignored. Current value: num_threads=4\n",
      "[LightGBM] [Warning] bagging_fraction is set=0.7, subsample=1.0 will be ignored. Current value: bagging_fraction=0.7\n",
      "[LightGBM] [Warning] seed is set=42, random_state=42 will be ignored. Current value: seed=42\n",
      "[LightGBM] [Warning] min_data_in_leaf is set=10, min_child_samples=20 will be ignored. Current value: min_data_in_leaf=10\n",
      "[LightGBM] [Warning] bagging_freq is set=1, subsample_freq=0 will be ignored. Current value: bagging_freq=1\n",
      "[LightGBM] [Warning] min_gain_to_split is set=7.012460747225325, min_split_gain=0.0 will be ignored. Current value: min_gain_to_split=7.012460747225325\n",
      "[LightGBM] [Warning] lambda_l2 is set=45, reg_lambda=0.0 will be ignored. Current value: lambda_l2=45\n"
     ]
    },
    {
     "name": "stderr",
     "output_type": "stream",
     "text": [
      "\u001b[32m[I 2022-04-29 15:21:55,133]\u001b[0m Trial 30 finished with value: 0.023670745691370385 and parameters: {'n_estimators': 100, 'learning_rate': 0.2997266226146177, 'num_leaves': 80, 'max_depth': 6, 'min_data_in_leaf': 10, 'lambda_l1': 30, 'lambda_l2': 45, 'min_gain_to_split': 7.012460747225325, 'bagging_fraction': 0.7, 'bagging_freq': 1, 'feature_fraction': 0.4}. Best is trial 27 with value: 0.0239022801408308.\u001b[0m\n"
     ]
    },
    {
     "name": "stdout",
     "output_type": "stream",
     "text": [
      "MAP@12: 0.023670745691370385\n"
     ]
    },
    {
     "name": "stderr",
     "output_type": "stream",
     "text": [
      "/opt/conda/lib/python3.7/site-packages/optuna/distributions.py:563: UserWarning: The distribution is specified by [10, 100] and step=100, but the range is not divisible by `step`. It will be replaced by [10, 10].\n",
      "  low=low, old_high=old_high, high=high, step=step\n",
      "/opt/conda/lib/python3.7/site-packages/optuna/distributions.py:548: UserWarning: The distribution is specified by [0.2, 0.95] and q=0.1, but the range is not divisible by `q`. It will be replaced by [0.2, 0.9].\n",
      "  low=low, old_high=old_high, high=high, step=q\n",
      "/opt/conda/lib/python3.7/site-packages/lightgbm/sklearn.py:621: UserWarning: Found 'eval_at' in params. Will use it instead of 'eval_at' argument\n",
      "  _log_warning(f\"Found '{alias}' in params. Will use it instead of 'eval_at' argument\")\n"
     ]
    },
    {
     "name": "stdout",
     "output_type": "stream",
     "text": [
      "[LightGBM] [Warning] feature_fraction is set=0.5, colsample_bytree=1.0 will be ignored. Current value: feature_fraction=0.5\n",
      "[LightGBM] [Warning] lambda_l1 is set=20, reg_alpha=0.0 will be ignored. Current value: lambda_l1=20\n",
      "[LightGBM] [Warning] num_threads is set=4, n_jobs=-1 will be ignored. Current value: num_threads=4\n",
      "[LightGBM] [Warning] bagging_fraction is set=0.7, subsample=1.0 will be ignored. Current value: bagging_fraction=0.7\n",
      "[LightGBM] [Warning] seed is set=42, random_state=42 will be ignored. Current value: seed=42\n",
      "[LightGBM] [Warning] min_data_in_leaf is set=10, min_child_samples=20 will be ignored. Current value: min_data_in_leaf=10\n",
      "[LightGBM] [Warning] bagging_freq is set=1, subsample_freq=0 will be ignored. Current value: bagging_freq=1\n",
      "[LightGBM] [Warning] min_gain_to_split is set=8.12765656962233, min_split_gain=0.0 will be ignored. Current value: min_gain_to_split=8.12765656962233\n",
      "[LightGBM] [Warning] lambda_l2 is set=55, reg_lambda=0.0 will be ignored. Current value: lambda_l2=55\n"
     ]
    },
    {
     "name": "stderr",
     "output_type": "stream",
     "text": [
      "\u001b[32m[I 2022-04-29 15:26:40,015]\u001b[0m Trial 31 finished with value: 0.02380216113718586 and parameters: {'n_estimators': 100, 'learning_rate': 0.26932765321547125, 'num_leaves': 90, 'max_depth': 7, 'min_data_in_leaf': 10, 'lambda_l1': 20, 'lambda_l2': 55, 'min_gain_to_split': 8.12765656962233, 'bagging_fraction': 0.7, 'bagging_freq': 1, 'feature_fraction': 0.5}. Best is trial 27 with value: 0.0239022801408308.\u001b[0m\n"
     ]
    },
    {
     "name": "stdout",
     "output_type": "stream",
     "text": [
      "MAP@12: 0.02380216113718586\n"
     ]
    },
    {
     "name": "stderr",
     "output_type": "stream",
     "text": [
      "/opt/conda/lib/python3.7/site-packages/optuna/distributions.py:563: UserWarning: The distribution is specified by [10, 100] and step=100, but the range is not divisible by `step`. It will be replaced by [10, 10].\n",
      "  low=low, old_high=old_high, high=high, step=step\n",
      "/opt/conda/lib/python3.7/site-packages/optuna/distributions.py:548: UserWarning: The distribution is specified by [0.2, 0.95] and q=0.1, but the range is not divisible by `q`. It will be replaced by [0.2, 0.9].\n",
      "  low=low, old_high=old_high, high=high, step=q\n",
      "/opt/conda/lib/python3.7/site-packages/lightgbm/sklearn.py:621: UserWarning: Found 'eval_at' in params. Will use it instead of 'eval_at' argument\n",
      "  _log_warning(f\"Found '{alias}' in params. Will use it instead of 'eval_at' argument\")\n"
     ]
    },
    {
     "name": "stdout",
     "output_type": "stream",
     "text": [
      "[LightGBM] [Warning] feature_fraction is set=0.5, colsample_bytree=1.0 will be ignored. Current value: feature_fraction=0.5\n",
      "[LightGBM] [Warning] lambda_l1 is set=20, reg_alpha=0.0 will be ignored. Current value: lambda_l1=20\n",
      "[LightGBM] [Warning] num_threads is set=4, n_jobs=-1 will be ignored. Current value: num_threads=4\n",
      "[LightGBM] [Warning] bagging_fraction is set=0.7, subsample=1.0 will be ignored. Current value: bagging_fraction=0.7\n",
      "[LightGBM] [Warning] seed is set=42, random_state=42 will be ignored. Current value: seed=42\n",
      "[LightGBM] [Warning] min_data_in_leaf is set=10, min_child_samples=20 will be ignored. Current value: min_data_in_leaf=10\n",
      "[LightGBM] [Warning] bagging_freq is set=1, subsample_freq=0 will be ignored. Current value: bagging_freq=1\n",
      "[LightGBM] [Warning] min_gain_to_split is set=6.005054187333933, min_split_gain=0.0 will be ignored. Current value: min_gain_to_split=6.005054187333933\n",
      "[LightGBM] [Warning] lambda_l2 is set=55, reg_lambda=0.0 will be ignored. Current value: lambda_l2=55\n"
     ]
    },
    {
     "name": "stderr",
     "output_type": "stream",
     "text": [
      "\u001b[32m[I 2022-04-29 15:27:03,065]\u001b[0m Trial 32 finished with value: 0.010766498148507539 and parameters: {'n_estimators': 1, 'learning_rate': 0.2770347569318506, 'num_leaves': 90, 'max_depth': 7, 'min_data_in_leaf': 10, 'lambda_l1': 20, 'lambda_l2': 55, 'min_gain_to_split': 6.005054187333933, 'bagging_fraction': 0.7, 'bagging_freq': 1, 'feature_fraction': 0.5}. Best is trial 27 with value: 0.0239022801408308.\u001b[0m\n"
     ]
    },
    {
     "name": "stdout",
     "output_type": "stream",
     "text": [
      "MAP@12: 0.010766498148507539\n"
     ]
    },
    {
     "name": "stderr",
     "output_type": "stream",
     "text": [
      "/opt/conda/lib/python3.7/site-packages/optuna/distributions.py:563: UserWarning: The distribution is specified by [10, 100] and step=100, but the range is not divisible by `step`. It will be replaced by [10, 10].\n",
      "  low=low, old_high=old_high, high=high, step=step\n",
      "/opt/conda/lib/python3.7/site-packages/optuna/distributions.py:548: UserWarning: The distribution is specified by [0.2, 0.95] and q=0.1, but the range is not divisible by `q`. It will be replaced by [0.2, 0.9].\n",
      "  low=low, old_high=old_high, high=high, step=q\n",
      "/opt/conda/lib/python3.7/site-packages/lightgbm/sklearn.py:621: UserWarning: Found 'eval_at' in params. Will use it instead of 'eval_at' argument\n",
      "  _log_warning(f\"Found '{alias}' in params. Will use it instead of 'eval_at' argument\")\n"
     ]
    },
    {
     "name": "stdout",
     "output_type": "stream",
     "text": [
      "[LightGBM] [Warning] feature_fraction is set=0.4, colsample_bytree=1.0 will be ignored. Current value: feature_fraction=0.4\n",
      "[LightGBM] [Warning] lambda_l1 is set=35, reg_alpha=0.0 will be ignored. Current value: lambda_l1=35\n",
      "[LightGBM] [Warning] num_threads is set=4, n_jobs=-1 will be ignored. Current value: num_threads=4\n",
      "[LightGBM] [Warning] bagging_fraction is set=0.8, subsample=1.0 will be ignored. Current value: bagging_fraction=0.8\n",
      "[LightGBM] [Warning] seed is set=42, random_state=42 will be ignored. Current value: seed=42\n",
      "[LightGBM] [Warning] min_data_in_leaf is set=10, min_child_samples=20 will be ignored. Current value: min_data_in_leaf=10\n",
      "[LightGBM] [Warning] bagging_freq is set=1, subsample_freq=0 will be ignored. Current value: bagging_freq=1\n",
      "[LightGBM] [Warning] min_gain_to_split is set=8.141804097481659, min_split_gain=0.0 will be ignored. Current value: min_gain_to_split=8.141804097481659\n",
      "[LightGBM] [Warning] lambda_l2 is set=45, reg_lambda=0.0 will be ignored. Current value: lambda_l2=45\n"
     ]
    },
    {
     "name": "stderr",
     "output_type": "stream",
     "text": [
      "\u001b[32m[I 2022-04-29 15:31:20,523]\u001b[0m Trial 33 finished with value: 0.023686525072347628 and parameters: {'n_estimators': 100, 'learning_rate': 0.27596108537460523, 'num_leaves': 90, 'max_depth': 6, 'min_data_in_leaf': 10, 'lambda_l1': 35, 'lambda_l2': 45, 'min_gain_to_split': 8.141804097481659, 'bagging_fraction': 0.8, 'bagging_freq': 1, 'feature_fraction': 0.4}. Best is trial 27 with value: 0.0239022801408308.\u001b[0m\n"
     ]
    },
    {
     "name": "stdout",
     "output_type": "stream",
     "text": [
      "MAP@12: 0.023686525072347628\n"
     ]
    },
    {
     "name": "stderr",
     "output_type": "stream",
     "text": [
      "/opt/conda/lib/python3.7/site-packages/optuna/distributions.py:563: UserWarning: The distribution is specified by [10, 100] and step=100, but the range is not divisible by `step`. It will be replaced by [10, 10].\n",
      "  low=low, old_high=old_high, high=high, step=step\n",
      "/opt/conda/lib/python3.7/site-packages/optuna/distributions.py:548: UserWarning: The distribution is specified by [0.2, 0.95] and q=0.1, but the range is not divisible by `q`. It will be replaced by [0.2, 0.9].\n",
      "  low=low, old_high=old_high, high=high, step=q\n",
      "/opt/conda/lib/python3.7/site-packages/lightgbm/sklearn.py:621: UserWarning: Found 'eval_at' in params. Will use it instead of 'eval_at' argument\n",
      "  _log_warning(f\"Found '{alias}' in params. Will use it instead of 'eval_at' argument\")\n"
     ]
    },
    {
     "name": "stdout",
     "output_type": "stream",
     "text": [
      "[LightGBM] [Warning] feature_fraction is set=0.5, colsample_bytree=1.0 will be ignored. Current value: feature_fraction=0.5\n",
      "[LightGBM] [Warning] lambda_l1 is set=25, reg_alpha=0.0 will be ignored. Current value: lambda_l1=25\n",
      "[LightGBM] [Warning] num_threads is set=4, n_jobs=-1 will be ignored. Current value: num_threads=4\n",
      "[LightGBM] [Warning] bagging_fraction is set=0.6000000000000001, subsample=1.0 will be ignored. Current value: bagging_fraction=0.6000000000000001\n",
      "[LightGBM] [Warning] seed is set=42, random_state=42 will be ignored. Current value: seed=42\n",
      "[LightGBM] [Warning] min_data_in_leaf is set=10, min_child_samples=20 will be ignored. Current value: min_data_in_leaf=10\n",
      "[LightGBM] [Warning] bagging_freq is set=1, subsample_freq=0 will be ignored. Current value: bagging_freq=1\n",
      "[LightGBM] [Warning] min_gain_to_split is set=4.432346076445684, min_split_gain=0.0 will be ignored. Current value: min_gain_to_split=4.432346076445684\n",
      "[LightGBM] [Warning] lambda_l2 is set=60, reg_lambda=0.0 will be ignored. Current value: lambda_l2=60\n"
     ]
    },
    {
     "name": "stderr",
     "output_type": "stream",
     "text": [
      "\u001b[32m[I 2022-04-29 15:36:15,848]\u001b[0m Trial 34 finished with value: 0.023863109055789172 and parameters: {'n_estimators': 100, 'learning_rate': 0.28329052069042016, 'num_leaves': 80, 'max_depth': 8, 'min_data_in_leaf': 10, 'lambda_l1': 25, 'lambda_l2': 60, 'min_gain_to_split': 4.432346076445684, 'bagging_fraction': 0.6000000000000001, 'bagging_freq': 1, 'feature_fraction': 0.5}. Best is trial 27 with value: 0.0239022801408308.\u001b[0m\n"
     ]
    },
    {
     "name": "stdout",
     "output_type": "stream",
     "text": [
      "MAP@12: 0.023863109055789172\n"
     ]
    },
    {
     "name": "stderr",
     "output_type": "stream",
     "text": [
      "/opt/conda/lib/python3.7/site-packages/optuna/distributions.py:563: UserWarning: The distribution is specified by [10, 100] and step=100, but the range is not divisible by `step`. It will be replaced by [10, 10].\n",
      "  low=low, old_high=old_high, high=high, step=step\n",
      "/opt/conda/lib/python3.7/site-packages/optuna/distributions.py:548: UserWarning: The distribution is specified by [0.2, 0.95] and q=0.1, but the range is not divisible by `q`. It will be replaced by [0.2, 0.9].\n",
      "  low=low, old_high=old_high, high=high, step=q\n",
      "/opt/conda/lib/python3.7/site-packages/lightgbm/sklearn.py:621: UserWarning: Found 'eval_at' in params. Will use it instead of 'eval_at' argument\n",
      "  _log_warning(f\"Found '{alias}' in params. Will use it instead of 'eval_at' argument\")\n"
     ]
    },
    {
     "name": "stdout",
     "output_type": "stream",
     "text": [
      "[LightGBM] [Warning] feature_fraction is set=0.4, colsample_bytree=1.0 will be ignored. Current value: feature_fraction=0.4\n",
      "[LightGBM] [Warning] lambda_l1 is set=10, reg_alpha=0.0 will be ignored. Current value: lambda_l1=10\n",
      "[LightGBM] [Warning] num_threads is set=4, n_jobs=-1 will be ignored. Current value: num_threads=4\n",
      "[LightGBM] [Warning] bagging_fraction is set=0.6000000000000001, subsample=1.0 will be ignored. Current value: bagging_fraction=0.6000000000000001\n",
      "[LightGBM] [Warning] seed is set=42, random_state=42 will be ignored. Current value: seed=42\n",
      "[LightGBM] [Warning] min_data_in_leaf is set=10, min_child_samples=20 will be ignored. Current value: min_data_in_leaf=10\n",
      "[LightGBM] [Warning] bagging_freq is set=1, subsample_freq=0 will be ignored. Current value: bagging_freq=1\n",
      "[LightGBM] [Warning] min_gain_to_split is set=3.1516299141234896, min_split_gain=0.0 will be ignored. Current value: min_gain_to_split=3.1516299141234896\n",
      "[LightGBM] [Warning] lambda_l2 is set=65, reg_lambda=0.0 will be ignored. Current value: lambda_l2=65\n"
     ]
    },
    {
     "name": "stderr",
     "output_type": "stream",
     "text": [
      "\u001b[32m[I 2022-04-29 15:37:29,730]\u001b[0m Trial 35 finished with value: 0.023170361029342643 and parameters: {'n_estimators': 30, 'learning_rate': 0.2683591977256978, 'num_leaves': 90, 'max_depth': 8, 'min_data_in_leaf': 10, 'lambda_l1': 10, 'lambda_l2': 65, 'min_gain_to_split': 3.1516299141234896, 'bagging_fraction': 0.6000000000000001, 'bagging_freq': 1, 'feature_fraction': 0.4}. Best is trial 27 with value: 0.0239022801408308.\u001b[0m\n"
     ]
    },
    {
     "name": "stdout",
     "output_type": "stream",
     "text": [
      "MAP@12: 0.023170361029342643\n"
     ]
    },
    {
     "name": "stderr",
     "output_type": "stream",
     "text": [
      "/opt/conda/lib/python3.7/site-packages/optuna/distributions.py:563: UserWarning: The distribution is specified by [10, 100] and step=100, but the range is not divisible by `step`. It will be replaced by [10, 10].\n",
      "  low=low, old_high=old_high, high=high, step=step\n",
      "/opt/conda/lib/python3.7/site-packages/optuna/distributions.py:548: UserWarning: The distribution is specified by [0.2, 0.95] and q=0.1, but the range is not divisible by `q`. It will be replaced by [0.2, 0.9].\n",
      "  low=low, old_high=old_high, high=high, step=q\n",
      "/opt/conda/lib/python3.7/site-packages/lightgbm/sklearn.py:621: UserWarning: Found 'eval_at' in params. Will use it instead of 'eval_at' argument\n",
      "  _log_warning(f\"Found '{alias}' in params. Will use it instead of 'eval_at' argument\")\n"
     ]
    },
    {
     "name": "stdout",
     "output_type": "stream",
     "text": [
      "[LightGBM] [Warning] feature_fraction is set=0.30000000000000004, colsample_bytree=1.0 will be ignored. Current value: feature_fraction=0.30000000000000004\n",
      "[LightGBM] [Warning] lambda_l1 is set=40, reg_alpha=0.0 will be ignored. Current value: lambda_l1=40\n",
      "[LightGBM] [Warning] num_threads is set=4, n_jobs=-1 will be ignored. Current value: num_threads=4\n",
      "[LightGBM] [Warning] bagging_fraction is set=0.6000000000000001, subsample=1.0 will be ignored. Current value: bagging_fraction=0.6000000000000001\n",
      "[LightGBM] [Warning] seed is set=42, random_state=42 will be ignored. Current value: seed=42\n",
      "[LightGBM] [Warning] min_data_in_leaf is set=10, min_child_samples=20 will be ignored. Current value: min_data_in_leaf=10\n",
      "[LightGBM] [Warning] bagging_freq is set=1, subsample_freq=0 will be ignored. Current value: bagging_freq=1\n",
      "[LightGBM] [Warning] min_gain_to_split is set=4.922346426739755, min_split_gain=0.0 will be ignored. Current value: min_gain_to_split=4.922346426739755\n",
      "[LightGBM] [Warning] lambda_l2 is set=75, reg_lambda=0.0 will be ignored. Current value: lambda_l2=75\n"
     ]
    },
    {
     "name": "stderr",
     "output_type": "stream",
     "text": [
      "\u001b[32m[I 2022-04-29 15:38:03,050]\u001b[0m Trial 36 finished with value: 0.022304844738700605 and parameters: {'n_estimators': 10, 'learning_rate': 0.21050741961340622, 'num_leaves': 80, 'max_depth': 8, 'min_data_in_leaf': 10, 'lambda_l1': 40, 'lambda_l2': 75, 'min_gain_to_split': 4.922346426739755, 'bagging_fraction': 0.6000000000000001, 'bagging_freq': 1, 'feature_fraction': 0.30000000000000004}. Best is trial 27 with value: 0.0239022801408308.\u001b[0m\n"
     ]
    },
    {
     "name": "stdout",
     "output_type": "stream",
     "text": [
      "MAP@12: 0.022304844738700605\n"
     ]
    },
    {
     "name": "stderr",
     "output_type": "stream",
     "text": [
      "/opt/conda/lib/python3.7/site-packages/optuna/distributions.py:563: UserWarning: The distribution is specified by [10, 100] and step=100, but the range is not divisible by `step`. It will be replaced by [10, 10].\n",
      "  low=low, old_high=old_high, high=high, step=step\n",
      "/opt/conda/lib/python3.7/site-packages/optuna/distributions.py:548: UserWarning: The distribution is specified by [0.2, 0.95] and q=0.1, but the range is not divisible by `q`. It will be replaced by [0.2, 0.9].\n",
      "  low=low, old_high=old_high, high=high, step=q\n",
      "/opt/conda/lib/python3.7/site-packages/lightgbm/sklearn.py:621: UserWarning: Found 'eval_at' in params. Will use it instead of 'eval_at' argument\n",
      "  _log_warning(f\"Found '{alias}' in params. Will use it instead of 'eval_at' argument\")\n"
     ]
    },
    {
     "name": "stdout",
     "output_type": "stream",
     "text": [
      "[LightGBM] [Warning] feature_fraction is set=0.5, colsample_bytree=1.0 will be ignored. Current value: feature_fraction=0.5\n",
      "[LightGBM] [Warning] lambda_l1 is set=20, reg_alpha=0.0 will be ignored. Current value: lambda_l1=20\n",
      "[LightGBM] [Warning] num_threads is set=4, n_jobs=-1 will be ignored. Current value: num_threads=4\n",
      "[LightGBM] [Warning] bagging_fraction is set=0.8, subsample=1.0 will be ignored. Current value: bagging_fraction=0.8\n",
      "[LightGBM] [Warning] seed is set=42, random_state=42 will be ignored. Current value: seed=42\n",
      "[LightGBM] [Warning] min_data_in_leaf is set=10, min_child_samples=20 will be ignored. Current value: min_data_in_leaf=10\n",
      "[LightGBM] [Warning] bagging_freq is set=1, subsample_freq=0 will be ignored. Current value: bagging_freq=1\n",
      "[LightGBM] [Warning] min_gain_to_split is set=1.3905682523912297, min_split_gain=0.0 will be ignored. Current value: min_gain_to_split=1.3905682523912297\n",
      "[LightGBM] [Warning] lambda_l2 is set=60, reg_lambda=0.0 will be ignored. Current value: lambda_l2=60\n"
     ]
    },
    {
     "name": "stderr",
     "output_type": "stream",
     "text": [
      "\u001b[32m[I 2022-04-29 15:38:55,367]\u001b[0m Trial 37 finished with value: 0.02363375460252565 and parameters: {'n_estimators': 20, 'learning_rate': 0.23622441769797553, 'num_leaves': 90, 'max_depth': 9, 'min_data_in_leaf': 10, 'lambda_l1': 20, 'lambda_l2': 60, 'min_gain_to_split': 1.3905682523912297, 'bagging_fraction': 0.8, 'bagging_freq': 1, 'feature_fraction': 0.5}. Best is trial 27 with value: 0.0239022801408308.\u001b[0m\n"
     ]
    },
    {
     "name": "stdout",
     "output_type": "stream",
     "text": [
      "MAP@12: 0.02363375460252565\n"
     ]
    },
    {
     "name": "stderr",
     "output_type": "stream",
     "text": [
      "/opt/conda/lib/python3.7/site-packages/optuna/distributions.py:563: UserWarning: The distribution is specified by [10, 100] and step=100, but the range is not divisible by `step`. It will be replaced by [10, 10].\n",
      "  low=low, old_high=old_high, high=high, step=step\n",
      "/opt/conda/lib/python3.7/site-packages/optuna/distributions.py:548: UserWarning: The distribution is specified by [0.2, 0.95] and q=0.1, but the range is not divisible by `q`. It will be replaced by [0.2, 0.9].\n",
      "  low=low, old_high=old_high, high=high, step=q\n",
      "/opt/conda/lib/python3.7/site-packages/lightgbm/sklearn.py:621: UserWarning: Found 'eval_at' in params. Will use it instead of 'eval_at' argument\n",
      "  _log_warning(f\"Found '{alias}' in params. Will use it instead of 'eval_at' argument\")\n"
     ]
    },
    {
     "name": "stdout",
     "output_type": "stream",
     "text": [
      "[LightGBM] [Warning] feature_fraction is set=0.6000000000000001, colsample_bytree=1.0 will be ignored. Current value: feature_fraction=0.6000000000000001\n",
      "[LightGBM] [Warning] lambda_l1 is set=25, reg_alpha=0.0 will be ignored. Current value: lambda_l1=25\n",
      "[LightGBM] [Warning] num_threads is set=4, n_jobs=-1 will be ignored. Current value: num_threads=4\n",
      "[LightGBM] [Warning] bagging_fraction is set=0.9, subsample=1.0 will be ignored. Current value: bagging_fraction=0.9\n",
      "[LightGBM] [Warning] seed is set=42, random_state=42 will be ignored. Current value: seed=42\n",
      "[LightGBM] [Warning] min_data_in_leaf is set=10, min_child_samples=20 will be ignored. Current value: min_data_in_leaf=10\n",
      "[LightGBM] [Warning] bagging_freq is set=1, subsample_freq=0 will be ignored. Current value: bagging_freq=1\n",
      "[LightGBM] [Warning] min_gain_to_split is set=4.104808978747931, min_split_gain=0.0 will be ignored. Current value: min_gain_to_split=4.104808978747931\n",
      "[LightGBM] [Warning] lambda_l2 is set=100, reg_lambda=0.0 will be ignored. Current value: lambda_l2=100\n"
     ]
    },
    {
     "name": "stderr",
     "output_type": "stream",
     "text": [
      "\u001b[32m[I 2022-04-29 15:39:17,877]\u001b[0m Trial 38 finished with value: 0.011488013364172621 and parameters: {'n_estimators': 1, 'learning_rate': 0.2653140483907755, 'num_leaves': 70, 'max_depth': 5, 'min_data_in_leaf': 10, 'lambda_l1': 25, 'lambda_l2': 100, 'min_gain_to_split': 4.104808978747931, 'bagging_fraction': 0.9, 'bagging_freq': 1, 'feature_fraction': 0.6000000000000001}. Best is trial 27 with value: 0.0239022801408308.\u001b[0m\n"
     ]
    },
    {
     "name": "stdout",
     "output_type": "stream",
     "text": [
      "MAP@12: 0.011488013364172621\n"
     ]
    },
    {
     "name": "stderr",
     "output_type": "stream",
     "text": [
      "/opt/conda/lib/python3.7/site-packages/optuna/distributions.py:563: UserWarning: The distribution is specified by [10, 100] and step=100, but the range is not divisible by `step`. It will be replaced by [10, 10].\n",
      "  low=low, old_high=old_high, high=high, step=step\n",
      "/opt/conda/lib/python3.7/site-packages/optuna/distributions.py:548: UserWarning: The distribution is specified by [0.2, 0.95] and q=0.1, but the range is not divisible by `q`. It will be replaced by [0.2, 0.9].\n",
      "  low=low, old_high=old_high, high=high, step=q\n",
      "/opt/conda/lib/python3.7/site-packages/lightgbm/sklearn.py:621: UserWarning: Found 'eval_at' in params. Will use it instead of 'eval_at' argument\n",
      "  _log_warning(f\"Found '{alias}' in params. Will use it instead of 'eval_at' argument\")\n"
     ]
    },
    {
     "name": "stdout",
     "output_type": "stream",
     "text": [
      "[LightGBM] [Warning] feature_fraction is set=0.30000000000000004, colsample_bytree=1.0 will be ignored. Current value: feature_fraction=0.30000000000000004\n",
      "[LightGBM] [Warning] lambda_l1 is set=0, reg_alpha=0.0 will be ignored. Current value: lambda_l1=0\n",
      "[LightGBM] [Warning] num_threads is set=4, n_jobs=-1 will be ignored. Current value: num_threads=4\n",
      "[LightGBM] [Warning] bagging_fraction is set=0.5, subsample=1.0 will be ignored. Current value: bagging_fraction=0.5\n",
      "[LightGBM] [Warning] seed is set=42, random_state=42 will be ignored. Current value: seed=42\n",
      "[LightGBM] [Warning] min_data_in_leaf is set=10, min_child_samples=20 will be ignored. Current value: min_data_in_leaf=10\n",
      "[LightGBM] [Warning] bagging_freq is set=1, subsample_freq=0 will be ignored. Current value: bagging_freq=1\n",
      "[LightGBM] [Warning] min_gain_to_split is set=5.792895780556325, min_split_gain=0.0 will be ignored. Current value: min_gain_to_split=5.792895780556325\n",
      "[LightGBM] [Warning] lambda_l2 is set=50, reg_lambda=0.0 will be ignored. Current value: lambda_l2=50\n"
     ]
    },
    {
     "name": "stderr",
     "output_type": "stream",
     "text": [
      "\u001b[32m[I 2022-04-29 15:44:13,982]\u001b[0m Trial 39 finished with value: 0.023798779643970886 and parameters: {'n_estimators': 100, 'learning_rate': 0.2865037840444565, 'num_leaves': 100, 'max_depth': 8, 'min_data_in_leaf': 10, 'lambda_l1': 0, 'lambda_l2': 50, 'min_gain_to_split': 5.792895780556325, 'bagging_fraction': 0.5, 'bagging_freq': 1, 'feature_fraction': 0.30000000000000004}. Best is trial 27 with value: 0.0239022801408308.\u001b[0m\n"
     ]
    },
    {
     "name": "stdout",
     "output_type": "stream",
     "text": [
      "MAP@12: 0.023798779643970886\n"
     ]
    },
    {
     "name": "stderr",
     "output_type": "stream",
     "text": [
      "/opt/conda/lib/python3.7/site-packages/optuna/distributions.py:563: UserWarning: The distribution is specified by [10, 100] and step=100, but the range is not divisible by `step`. It will be replaced by [10, 10].\n",
      "  low=low, old_high=old_high, high=high, step=step\n",
      "/opt/conda/lib/python3.7/site-packages/optuna/distributions.py:548: UserWarning: The distribution is specified by [0.2, 0.95] and q=0.1, but the range is not divisible by `q`. It will be replaced by [0.2, 0.9].\n",
      "  low=low, old_high=old_high, high=high, step=q\n",
      "/opt/conda/lib/python3.7/site-packages/lightgbm/sklearn.py:621: UserWarning: Found 'eval_at' in params. Will use it instead of 'eval_at' argument\n",
      "  _log_warning(f\"Found '{alias}' in params. Will use it instead of 'eval_at' argument\")\n"
     ]
    },
    {
     "name": "stdout",
     "output_type": "stream",
     "text": [
      "[LightGBM] [Warning] feature_fraction is set=0.6000000000000001, colsample_bytree=1.0 will be ignored. Current value: feature_fraction=0.6000000000000001\n",
      "[LightGBM] [Warning] lambda_l1 is set=40, reg_alpha=0.0 will be ignored. Current value: lambda_l1=40\n",
      "[LightGBM] [Warning] num_threads is set=4, n_jobs=-1 will be ignored. Current value: num_threads=4\n",
      "[LightGBM] [Warning] bagging_fraction is set=0.6000000000000001, subsample=1.0 will be ignored. Current value: bagging_fraction=0.6000000000000001\n",
      "[LightGBM] [Warning] seed is set=42, random_state=42 will be ignored. Current value: seed=42\n",
      "[LightGBM] [Warning] min_data_in_leaf is set=10, min_child_samples=20 will be ignored. Current value: min_data_in_leaf=10\n",
      "[LightGBM] [Warning] bagging_freq is set=1, subsample_freq=0 will be ignored. Current value: bagging_freq=1\n",
      "[LightGBM] [Warning] min_gain_to_split is set=8.389912150907671, min_split_gain=0.0 will be ignored. Current value: min_gain_to_split=8.389912150907671\n",
      "[LightGBM] [Warning] lambda_l2 is set=60, reg_lambda=0.0 will be ignored. Current value: lambda_l2=60\n"
     ]
    },
    {
     "name": "stderr",
     "output_type": "stream",
     "text": [
      "\u001b[32m[I 2022-04-29 15:44:49,419]\u001b[0m Trial 40 finished with value: 0.022584978628237707 and parameters: {'n_estimators': 10, 'learning_rate': 0.20778238129571344, 'num_leaves': 80, 'max_depth': 6, 'min_data_in_leaf': 10, 'lambda_l1': 40, 'lambda_l2': 60, 'min_gain_to_split': 8.389912150907671, 'bagging_fraction': 0.6000000000000001, 'bagging_freq': 1, 'feature_fraction': 0.6000000000000001}. Best is trial 27 with value: 0.0239022801408308.\u001b[0m\n"
     ]
    },
    {
     "name": "stdout",
     "output_type": "stream",
     "text": [
      "MAP@12: 0.022584978628237707\n"
     ]
    },
    {
     "name": "stderr",
     "output_type": "stream",
     "text": [
      "/opt/conda/lib/python3.7/site-packages/optuna/distributions.py:563: UserWarning: The distribution is specified by [10, 100] and step=100, but the range is not divisible by `step`. It will be replaced by [10, 10].\n",
      "  low=low, old_high=old_high, high=high, step=step\n",
      "/opt/conda/lib/python3.7/site-packages/optuna/distributions.py:548: UserWarning: The distribution is specified by [0.2, 0.95] and q=0.1, but the range is not divisible by `q`. It will be replaced by [0.2, 0.9].\n",
      "  low=low, old_high=old_high, high=high, step=q\n",
      "/opt/conda/lib/python3.7/site-packages/lightgbm/sklearn.py:621: UserWarning: Found 'eval_at' in params. Will use it instead of 'eval_at' argument\n",
      "  _log_warning(f\"Found '{alias}' in params. Will use it instead of 'eval_at' argument\")\n"
     ]
    },
    {
     "name": "stdout",
     "output_type": "stream",
     "text": [
      "[LightGBM] [Warning] feature_fraction is set=0.5, colsample_bytree=1.0 will be ignored. Current value: feature_fraction=0.5\n",
      "[LightGBM] [Warning] lambda_l1 is set=30, reg_alpha=0.0 will be ignored. Current value: lambda_l1=30\n",
      "[LightGBM] [Warning] num_threads is set=4, n_jobs=-1 will be ignored. Current value: num_threads=4\n",
      "[LightGBM] [Warning] bagging_fraction is set=0.7, subsample=1.0 will be ignored. Current value: bagging_fraction=0.7\n",
      "[LightGBM] [Warning] seed is set=42, random_state=42 will be ignored. Current value: seed=42\n",
      "[LightGBM] [Warning] min_data_in_leaf is set=10, min_child_samples=20 will be ignored. Current value: min_data_in_leaf=10\n",
      "[LightGBM] [Warning] bagging_freq is set=1, subsample_freq=0 will be ignored. Current value: bagging_freq=1\n",
      "[LightGBM] [Warning] min_gain_to_split is set=7.392659022809642, min_split_gain=0.0 will be ignored. Current value: min_gain_to_split=7.392659022809642\n",
      "[LightGBM] [Warning] lambda_l2 is set=45, reg_lambda=0.0 will be ignored. Current value: lambda_l2=45\n"
     ]
    },
    {
     "name": "stderr",
     "output_type": "stream",
     "text": [
      "\u001b[32m[I 2022-04-29 15:49:25,780]\u001b[0m Trial 41 finished with value: 0.023743419710182446 and parameters: {'n_estimators': 100, 'learning_rate': 0.2923220173243151, 'num_leaves': 80, 'max_depth': 7, 'min_data_in_leaf': 10, 'lambda_l1': 30, 'lambda_l2': 45, 'min_gain_to_split': 7.392659022809642, 'bagging_fraction': 0.7, 'bagging_freq': 1, 'feature_fraction': 0.5}. Best is trial 27 with value: 0.0239022801408308.\u001b[0m\n"
     ]
    },
    {
     "name": "stdout",
     "output_type": "stream",
     "text": [
      "MAP@12: 0.023743419710182446\n"
     ]
    },
    {
     "name": "stderr",
     "output_type": "stream",
     "text": [
      "/opt/conda/lib/python3.7/site-packages/optuna/distributions.py:563: UserWarning: The distribution is specified by [10, 100] and step=100, but the range is not divisible by `step`. It will be replaced by [10, 10].\n",
      "  low=low, old_high=old_high, high=high, step=step\n",
      "/opt/conda/lib/python3.7/site-packages/optuna/distributions.py:548: UserWarning: The distribution is specified by [0.2, 0.95] and q=0.1, but the range is not divisible by `q`. It will be replaced by [0.2, 0.9].\n",
      "  low=low, old_high=old_high, high=high, step=q\n",
      "/opt/conda/lib/python3.7/site-packages/lightgbm/sklearn.py:621: UserWarning: Found 'eval_at' in params. Will use it instead of 'eval_at' argument\n",
      "  _log_warning(f\"Found '{alias}' in params. Will use it instead of 'eval_at' argument\")\n"
     ]
    },
    {
     "name": "stdout",
     "output_type": "stream",
     "text": [
      "[LightGBM] [Warning] feature_fraction is set=0.5, colsample_bytree=1.0 will be ignored. Current value: feature_fraction=0.5\n",
      "[LightGBM] [Warning] lambda_l1 is set=25, reg_alpha=0.0 will be ignored. Current value: lambda_l1=25\n",
      "[LightGBM] [Warning] num_threads is set=4, n_jobs=-1 will be ignored. Current value: num_threads=4\n",
      "[LightGBM] [Warning] bagging_fraction is set=0.7, subsample=1.0 will be ignored. Current value: bagging_fraction=0.7\n",
      "[LightGBM] [Warning] seed is set=42, random_state=42 will be ignored. Current value: seed=42\n",
      "[LightGBM] [Warning] min_data_in_leaf is set=10, min_child_samples=20 will be ignored. Current value: min_data_in_leaf=10\n",
      "[LightGBM] [Warning] bagging_freq is set=1, subsample_freq=0 will be ignored. Current value: bagging_freq=1\n",
      "[LightGBM] [Warning] min_gain_to_split is set=6.889943947092003, min_split_gain=0.0 will be ignored. Current value: min_gain_to_split=6.889943947092003\n",
      "[LightGBM] [Warning] lambda_l2 is set=50, reg_lambda=0.0 will be ignored. Current value: lambda_l2=50\n"
     ]
    },
    {
     "name": "stderr",
     "output_type": "stream",
     "text": [
      "\u001b[32m[I 2022-04-29 15:54:11,652]\u001b[0m Trial 42 finished with value: 0.023842448412128646 and parameters: {'n_estimators': 100, 'learning_rate': 0.2611962799055949, 'num_leaves': 90, 'max_depth': 7, 'min_data_in_leaf': 10, 'lambda_l1': 25, 'lambda_l2': 50, 'min_gain_to_split': 6.889943947092003, 'bagging_fraction': 0.7, 'bagging_freq': 1, 'feature_fraction': 0.5}. Best is trial 27 with value: 0.0239022801408308.\u001b[0m\n"
     ]
    },
    {
     "name": "stdout",
     "output_type": "stream",
     "text": [
      "MAP@12: 0.023842448412128646\n"
     ]
    },
    {
     "name": "stderr",
     "output_type": "stream",
     "text": [
      "/opt/conda/lib/python3.7/site-packages/optuna/distributions.py:563: UserWarning: The distribution is specified by [10, 100] and step=100, but the range is not divisible by `step`. It will be replaced by [10, 10].\n",
      "  low=low, old_high=old_high, high=high, step=step\n",
      "/opt/conda/lib/python3.7/site-packages/optuna/distributions.py:548: UserWarning: The distribution is specified by [0.2, 0.95] and q=0.1, but the range is not divisible by `q`. It will be replaced by [0.2, 0.9].\n",
      "  low=low, old_high=old_high, high=high, step=q\n",
      "/opt/conda/lib/python3.7/site-packages/lightgbm/sklearn.py:621: UserWarning: Found 'eval_at' in params. Will use it instead of 'eval_at' argument\n",
      "  _log_warning(f\"Found '{alias}' in params. Will use it instead of 'eval_at' argument\")\n"
     ]
    },
    {
     "name": "stdout",
     "output_type": "stream",
     "text": [
      "[LightGBM] [Warning] feature_fraction is set=0.4, colsample_bytree=1.0 will be ignored. Current value: feature_fraction=0.4\n",
      "[LightGBM] [Warning] lambda_l1 is set=15, reg_alpha=0.0 will be ignored. Current value: lambda_l1=15\n",
      "[LightGBM] [Warning] num_threads is set=4, n_jobs=-1 will be ignored. Current value: num_threads=4\n",
      "[LightGBM] [Warning] bagging_fraction is set=0.8, subsample=1.0 will be ignored. Current value: bagging_fraction=0.8\n",
      "[LightGBM] [Warning] seed is set=42, random_state=42 will be ignored. Current value: seed=42\n",
      "[LightGBM] [Warning] min_data_in_leaf is set=10, min_child_samples=20 will be ignored. Current value: min_data_in_leaf=10\n",
      "[LightGBM] [Warning] bagging_freq is set=1, subsample_freq=0 will be ignored. Current value: bagging_freq=1\n",
      "[LightGBM] [Warning] min_gain_to_split is set=6.458414493710513, min_split_gain=0.0 will be ignored. Current value: min_gain_to_split=6.458414493710513\n",
      "[LightGBM] [Warning] lambda_l2 is set=55, reg_lambda=0.0 will be ignored. Current value: lambda_l2=55\n"
     ]
    },
    {
     "name": "stderr",
     "output_type": "stream",
     "text": [
      "\u001b[32m[I 2022-04-29 15:59:29,412]\u001b[0m Trial 43 finished with value: 0.023698422861946115 and parameters: {'n_estimators': 100, 'learning_rate': 0.25868832291624927, 'num_leaves': 90, 'max_depth': 9, 'min_data_in_leaf': 10, 'lambda_l1': 15, 'lambda_l2': 55, 'min_gain_to_split': 6.458414493710513, 'bagging_fraction': 0.8, 'bagging_freq': 1, 'feature_fraction': 0.4}. Best is trial 27 with value: 0.0239022801408308.\u001b[0m\n"
     ]
    },
    {
     "name": "stdout",
     "output_type": "stream",
     "text": [
      "MAP@12: 0.023698422861946115\n"
     ]
    },
    {
     "name": "stderr",
     "output_type": "stream",
     "text": [
      "/opt/conda/lib/python3.7/site-packages/optuna/distributions.py:563: UserWarning: The distribution is specified by [10, 100] and step=100, but the range is not divisible by `step`. It will be replaced by [10, 10].\n",
      "  low=low, old_high=old_high, high=high, step=step\n",
      "/opt/conda/lib/python3.7/site-packages/optuna/distributions.py:548: UserWarning: The distribution is specified by [0.2, 0.95] and q=0.1, but the range is not divisible by `q`. It will be replaced by [0.2, 0.9].\n",
      "  low=low, old_high=old_high, high=high, step=q\n",
      "/opt/conda/lib/python3.7/site-packages/lightgbm/sklearn.py:621: UserWarning: Found 'eval_at' in params. Will use it instead of 'eval_at' argument\n",
      "  _log_warning(f\"Found '{alias}' in params. Will use it instead of 'eval_at' argument\")\n"
     ]
    },
    {
     "name": "stdout",
     "output_type": "stream",
     "text": [
      "[LightGBM] [Warning] feature_fraction is set=0.5, colsample_bytree=1.0 will be ignored. Current value: feature_fraction=0.5\n",
      "[LightGBM] [Warning] lambda_l1 is set=25, reg_alpha=0.0 will be ignored. Current value: lambda_l1=25\n",
      "[LightGBM] [Warning] num_threads is set=4, n_jobs=-1 will be ignored. Current value: num_threads=4\n",
      "[LightGBM] [Warning] bagging_fraction is set=0.6000000000000001, subsample=1.0 will be ignored. Current value: bagging_fraction=0.6000000000000001\n",
      "[LightGBM] [Warning] seed is set=42, random_state=42 will be ignored. Current value: seed=42\n",
      "[LightGBM] [Warning] min_data_in_leaf is set=10, min_child_samples=20 will be ignored. Current value: min_data_in_leaf=10\n",
      "[LightGBM] [Warning] bagging_freq is set=1, subsample_freq=0 will be ignored. Current value: bagging_freq=1\n",
      "[LightGBM] [Warning] min_gain_to_split is set=8.814892465700307, min_split_gain=0.0 will be ignored. Current value: min_gain_to_split=8.814892465700307\n",
      "[LightGBM] [Warning] lambda_l2 is set=70, reg_lambda=0.0 will be ignored. Current value: lambda_l2=70\n"
     ]
    },
    {
     "name": "stderr",
     "output_type": "stream",
     "text": [
      "\u001b[32m[I 2022-04-29 16:04:20,075]\u001b[0m Trial 44 finished with value: 0.023773184119076092 and parameters: {'n_estimators': 100, 'learning_rate': 0.22758554169868983, 'num_leaves': 100, 'max_depth': 8, 'min_data_in_leaf': 10, 'lambda_l1': 25, 'lambda_l2': 70, 'min_gain_to_split': 8.814892465700307, 'bagging_fraction': 0.6000000000000001, 'bagging_freq': 1, 'feature_fraction': 0.5}. Best is trial 27 with value: 0.0239022801408308.\u001b[0m\n"
     ]
    },
    {
     "name": "stdout",
     "output_type": "stream",
     "text": [
      "MAP@12: 0.023773184119076092\n"
     ]
    },
    {
     "name": "stderr",
     "output_type": "stream",
     "text": [
      "/opt/conda/lib/python3.7/site-packages/optuna/distributions.py:563: UserWarning: The distribution is specified by [10, 100] and step=100, but the range is not divisible by `step`. It will be replaced by [10, 10].\n",
      "  low=low, old_high=old_high, high=high, step=step\n",
      "/opt/conda/lib/python3.7/site-packages/optuna/distributions.py:548: UserWarning: The distribution is specified by [0.2, 0.95] and q=0.1, but the range is not divisible by `q`. It will be replaced by [0.2, 0.9].\n",
      "  low=low, old_high=old_high, high=high, step=q\n",
      "/opt/conda/lib/python3.7/site-packages/lightgbm/sklearn.py:621: UserWarning: Found 'eval_at' in params. Will use it instead of 'eval_at' argument\n",
      "  _log_warning(f\"Found '{alias}' in params. Will use it instead of 'eval_at' argument\")\n"
     ]
    },
    {
     "name": "stdout",
     "output_type": "stream",
     "text": [
      "[LightGBM] [Warning] feature_fraction is set=0.4, colsample_bytree=1.0 will be ignored. Current value: feature_fraction=0.4\n",
      "[LightGBM] [Warning] lambda_l1 is set=40, reg_alpha=0.0 will be ignored. Current value: lambda_l1=40\n",
      "[LightGBM] [Warning] num_threads is set=4, n_jobs=-1 will be ignored. Current value: num_threads=4\n",
      "[LightGBM] [Warning] bagging_fraction is set=0.8, subsample=1.0 will be ignored. Current value: bagging_fraction=0.8\n",
      "[LightGBM] [Warning] seed is set=42, random_state=42 will be ignored. Current value: seed=42\n",
      "[LightGBM] [Warning] min_data_in_leaf is set=10, min_child_samples=20 will be ignored. Current value: min_data_in_leaf=10\n",
      "[LightGBM] [Warning] bagging_freq is set=1, subsample_freq=0 will be ignored. Current value: bagging_freq=1\n",
      "[LightGBM] [Warning] min_gain_to_split is set=4.939958427103064, min_split_gain=0.0 will be ignored. Current value: min_gain_to_split=4.939958427103064\n",
      "[LightGBM] [Warning] lambda_l2 is set=85, reg_lambda=0.0 will be ignored. Current value: lambda_l2=85\n"
     ]
    },
    {
     "name": "stderr",
     "output_type": "stream",
     "text": [
      "\u001b[32m[I 2022-04-29 16:08:59,442]\u001b[0m Trial 45 finished with value: 0.023765333309969352 and parameters: {'n_estimators': 100, 'learning_rate': 0.2390210323988448, 'num_leaves': 70, 'max_depth': 7, 'min_data_in_leaf': 10, 'lambda_l1': 40, 'lambda_l2': 85, 'min_gain_to_split': 4.939958427103064, 'bagging_fraction': 0.8, 'bagging_freq': 1, 'feature_fraction': 0.4}. Best is trial 27 with value: 0.0239022801408308.\u001b[0m\n"
     ]
    },
    {
     "name": "stdout",
     "output_type": "stream",
     "text": [
      "MAP@12: 0.023765333309969352\n"
     ]
    },
    {
     "name": "stderr",
     "output_type": "stream",
     "text": [
      "/opt/conda/lib/python3.7/site-packages/optuna/distributions.py:563: UserWarning: The distribution is specified by [10, 100] and step=100, but the range is not divisible by `step`. It will be replaced by [10, 10].\n",
      "  low=low, old_high=old_high, high=high, step=step\n",
      "/opt/conda/lib/python3.7/site-packages/optuna/distributions.py:548: UserWarning: The distribution is specified by [0.2, 0.95] and q=0.1, but the range is not divisible by `q`. It will be replaced by [0.2, 0.9].\n",
      "  low=low, old_high=old_high, high=high, step=q\n",
      "/opt/conda/lib/python3.7/site-packages/lightgbm/sklearn.py:621: UserWarning: Found 'eval_at' in params. Will use it instead of 'eval_at' argument\n",
      "  _log_warning(f\"Found '{alias}' in params. Will use it instead of 'eval_at' argument\")\n"
     ]
    },
    {
     "name": "stdout",
     "output_type": "stream",
     "text": [
      "[LightGBM] [Warning] feature_fraction is set=0.6000000000000001, colsample_bytree=1.0 will be ignored. Current value: feature_fraction=0.6000000000000001\n",
      "[LightGBM] [Warning] lambda_l1 is set=10, reg_alpha=0.0 will be ignored. Current value: lambda_l1=10\n",
      "[LightGBM] [Warning] num_threads is set=4, n_jobs=-1 will be ignored. Current value: num_threads=4\n",
      "[LightGBM] [Warning] bagging_fraction is set=0.7, subsample=1.0 will be ignored. Current value: bagging_fraction=0.7\n",
      "[LightGBM] [Warning] seed is set=42, random_state=42 will be ignored. Current value: seed=42\n",
      "[LightGBM] [Warning] min_data_in_leaf is set=10, min_child_samples=20 will be ignored. Current value: min_data_in_leaf=10\n",
      "[LightGBM] [Warning] bagging_freq is set=1, subsample_freq=0 will be ignored. Current value: bagging_freq=1\n",
      "[LightGBM] [Warning] min_gain_to_split is set=4.098049355469561, min_split_gain=0.0 will be ignored. Current value: min_gain_to_split=4.098049355469561\n",
      "[LightGBM] [Warning] lambda_l2 is set=50, reg_lambda=0.0 will be ignored. Current value: lambda_l2=50\n"
     ]
    },
    {
     "name": "stderr",
     "output_type": "stream",
     "text": [
      "\u001b[32m[I 2022-04-29 16:09:20,332]\u001b[0m Trial 46 finished with value: 0.016026366809797268 and parameters: {'n_estimators': 1, 'learning_rate': 0.28360842032665967, 'num_leaves': 90, 'max_depth': 4, 'min_data_in_leaf': 10, 'lambda_l1': 10, 'lambda_l2': 50, 'min_gain_to_split': 4.098049355469561, 'bagging_fraction': 0.7, 'bagging_freq': 1, 'feature_fraction': 0.6000000000000001}. Best is trial 27 with value: 0.0239022801408308.\u001b[0m\n"
     ]
    },
    {
     "name": "stdout",
     "output_type": "stream",
     "text": [
      "MAP@12: 0.016026366809797268\n"
     ]
    },
    {
     "name": "stderr",
     "output_type": "stream",
     "text": [
      "/opt/conda/lib/python3.7/site-packages/optuna/distributions.py:563: UserWarning: The distribution is specified by [10, 100] and step=100, but the range is not divisible by `step`. It will be replaced by [10, 10].\n",
      "  low=low, old_high=old_high, high=high, step=step\n",
      "/opt/conda/lib/python3.7/site-packages/optuna/distributions.py:548: UserWarning: The distribution is specified by [0.2, 0.95] and q=0.1, but the range is not divisible by `q`. It will be replaced by [0.2, 0.9].\n",
      "  low=low, old_high=old_high, high=high, step=q\n",
      "/opt/conda/lib/python3.7/site-packages/lightgbm/sklearn.py:621: UserWarning: Found 'eval_at' in params. Will use it instead of 'eval_at' argument\n",
      "  _log_warning(f\"Found '{alias}' in params. Will use it instead of 'eval_at' argument\")\n"
     ]
    },
    {
     "name": "stdout",
     "output_type": "stream",
     "text": [
      "[LightGBM] [Warning] feature_fraction is set=0.5, colsample_bytree=1.0 will be ignored. Current value: feature_fraction=0.5\n",
      "[LightGBM] [Warning] lambda_l1 is set=35, reg_alpha=0.0 will be ignored. Current value: lambda_l1=35\n",
      "[LightGBM] [Warning] num_threads is set=4, n_jobs=-1 will be ignored. Current value: num_threads=4\n",
      "[LightGBM] [Warning] bagging_fraction is set=0.5, subsample=1.0 will be ignored. Current value: bagging_fraction=0.5\n",
      "[LightGBM] [Warning] seed is set=42, random_state=42 will be ignored. Current value: seed=42\n",
      "[LightGBM] [Warning] min_data_in_leaf is set=10, min_child_samples=20 will be ignored. Current value: min_data_in_leaf=10\n",
      "[LightGBM] [Warning] bagging_freq is set=1, subsample_freq=0 will be ignored. Current value: bagging_freq=1\n",
      "[LightGBM] [Warning] min_gain_to_split is set=2.5682069640588896, min_split_gain=0.0 will be ignored. Current value: min_gain_to_split=2.5682069640588896\n",
      "[LightGBM] [Warning] lambda_l2 is set=40, reg_lambda=0.0 will be ignored. Current value: lambda_l2=40\n"
     ]
    },
    {
     "name": "stderr",
     "output_type": "stream",
     "text": [
      "\u001b[32m[I 2022-04-29 16:10:36,174]\u001b[0m Trial 47 finished with value: 0.023593209036780236 and parameters: {'n_estimators': 30, 'learning_rate': 0.2663347953620818, 'num_leaves': 100, 'max_depth': 8, 'min_data_in_leaf': 10, 'lambda_l1': 35, 'lambda_l2': 40, 'min_gain_to_split': 2.5682069640588896, 'bagging_fraction': 0.5, 'bagging_freq': 1, 'feature_fraction': 0.5}. Best is trial 27 with value: 0.0239022801408308.\u001b[0m\n"
     ]
    },
    {
     "name": "stdout",
     "output_type": "stream",
     "text": [
      "MAP@12: 0.023593209036780236\n"
     ]
    },
    {
     "name": "stderr",
     "output_type": "stream",
     "text": [
      "/opt/conda/lib/python3.7/site-packages/optuna/distributions.py:563: UserWarning: The distribution is specified by [10, 100] and step=100, but the range is not divisible by `step`. It will be replaced by [10, 10].\n",
      "  low=low, old_high=old_high, high=high, step=step\n",
      "/opt/conda/lib/python3.7/site-packages/optuna/distributions.py:548: UserWarning: The distribution is specified by [0.2, 0.95] and q=0.1, but the range is not divisible by `q`. It will be replaced by [0.2, 0.9].\n",
      "  low=low, old_high=old_high, high=high, step=q\n",
      "/opt/conda/lib/python3.7/site-packages/lightgbm/sklearn.py:621: UserWarning: Found 'eval_at' in params. Will use it instead of 'eval_at' argument\n",
      "  _log_warning(f\"Found '{alias}' in params. Will use it instead of 'eval_at' argument\")\n"
     ]
    },
    {
     "name": "stdout",
     "output_type": "stream",
     "text": [
      "[LightGBM] [Warning] feature_fraction is set=0.4, colsample_bytree=1.0 will be ignored. Current value: feature_fraction=0.4\n",
      "[LightGBM] [Warning] lambda_l1 is set=20, reg_alpha=0.0 will be ignored. Current value: lambda_l1=20\n",
      "[LightGBM] [Warning] num_threads is set=4, n_jobs=-1 will be ignored. Current value: num_threads=4\n",
      "[LightGBM] [Warning] bagging_fraction is set=0.7, subsample=1.0 will be ignored. Current value: bagging_fraction=0.7\n",
      "[LightGBM] [Warning] seed is set=42, random_state=42 will be ignored. Current value: seed=42\n",
      "[LightGBM] [Warning] min_data_in_leaf is set=10, min_child_samples=20 will be ignored. Current value: min_data_in_leaf=10\n",
      "[LightGBM] [Warning] bagging_freq is set=1, subsample_freq=0 will be ignored. Current value: bagging_freq=1\n",
      "[LightGBM] [Warning] min_gain_to_split is set=7.838656514701877, min_split_gain=0.0 will be ignored. Current value: min_gain_to_split=7.838656514701877\n",
      "[LightGBM] [Warning] lambda_l2 is set=60, reg_lambda=0.0 will be ignored. Current value: lambda_l2=60\n"
     ]
    },
    {
     "name": "stderr",
     "output_type": "stream",
     "text": [
      "\u001b[32m[I 2022-04-29 16:15:48,969]\u001b[0m Trial 48 finished with value: 0.023649060800760575 and parameters: {'n_estimators': 100, 'learning_rate': 0.19449456699558212, 'num_leaves': 90, 'max_depth': 9, 'min_data_in_leaf': 10, 'lambda_l1': 20, 'lambda_l2': 60, 'min_gain_to_split': 7.838656514701877, 'bagging_fraction': 0.7, 'bagging_freq': 1, 'feature_fraction': 0.4}. Best is trial 27 with value: 0.0239022801408308.\u001b[0m\n"
     ]
    },
    {
     "name": "stdout",
     "output_type": "stream",
     "text": [
      "MAP@12: 0.023649060800760575\n"
     ]
    },
    {
     "name": "stderr",
     "output_type": "stream",
     "text": [
      "/opt/conda/lib/python3.7/site-packages/optuna/distributions.py:563: UserWarning: The distribution is specified by [10, 100] and step=100, but the range is not divisible by `step`. It will be replaced by [10, 10].\n",
      "  low=low, old_high=old_high, high=high, step=step\n",
      "/opt/conda/lib/python3.7/site-packages/optuna/distributions.py:548: UserWarning: The distribution is specified by [0.2, 0.95] and q=0.1, but the range is not divisible by `q`. It will be replaced by [0.2, 0.9].\n",
      "  low=low, old_high=old_high, high=high, step=q\n",
      "/opt/conda/lib/python3.7/site-packages/lightgbm/sklearn.py:621: UserWarning: Found 'eval_at' in params. Will use it instead of 'eval_at' argument\n",
      "  _log_warning(f\"Found '{alias}' in params. Will use it instead of 'eval_at' argument\")\n"
     ]
    },
    {
     "name": "stdout",
     "output_type": "stream",
     "text": [
      "[LightGBM] [Warning] feature_fraction is set=0.5, colsample_bytree=1.0 will be ignored. Current value: feature_fraction=0.5\n",
      "[LightGBM] [Warning] lambda_l1 is set=45, reg_alpha=0.0 will be ignored. Current value: lambda_l1=45\n",
      "[LightGBM] [Warning] num_threads is set=4, n_jobs=-1 will be ignored. Current value: num_threads=4\n",
      "[LightGBM] [Warning] bagging_fraction is set=0.6000000000000001, subsample=1.0 will be ignored. Current value: bagging_fraction=0.6000000000000001\n",
      "[LightGBM] [Warning] seed is set=42, random_state=42 will be ignored. Current value: seed=42\n",
      "[LightGBM] [Warning] min_data_in_leaf is set=10, min_child_samples=20 will be ignored. Current value: min_data_in_leaf=10\n",
      "[LightGBM] [Warning] bagging_freq is set=1, subsample_freq=0 will be ignored. Current value: bagging_freq=1\n",
      "[LightGBM] [Warning] min_gain_to_split is set=6.401370063390015, min_split_gain=0.0 will be ignored. Current value: min_gain_to_split=6.401370063390015\n",
      "[LightGBM] [Warning] lambda_l2 is set=40, reg_lambda=0.0 will be ignored. Current value: lambda_l2=40\n"
     ]
    },
    {
     "name": "stderr",
     "output_type": "stream",
     "text": [
      "\u001b[32m[I 2022-04-29 16:16:35,469]\u001b[0m Trial 49 finished with value: 0.022804920242039027 and parameters: {'n_estimators': 20, 'learning_rate': 0.21557897437475965, 'num_leaves': 80, 'max_depth': 6, 'min_data_in_leaf': 10, 'lambda_l1': 45, 'lambda_l2': 40, 'min_gain_to_split': 6.401370063390015, 'bagging_fraction': 0.6000000000000001, 'bagging_freq': 1, 'feature_fraction': 0.5}. Best is trial 27 with value: 0.0239022801408308.\u001b[0m\n"
     ]
    },
    {
     "name": "stdout",
     "output_type": "stream",
     "text": [
      "MAP@12: 0.022804920242039027\n"
     ]
    }
   ],
   "source": [
    "study = optuna.create_study(directions=[\"maximize\"])  # Create a new study.\n",
    "study.optimize(objective, n_trials=50)  # Invoke optimization of the objective function."
   ]
  },
  {
   "cell_type": "code",
   "execution_count": 50,
   "id": "4bd76421",
   "metadata": {
    "execution": {
     "iopub.execute_input": "2022-04-29T16:16:35.805993Z",
     "iopub.status.busy": "2022-04-29T16:16:35.804931Z",
     "iopub.status.idle": "2022-04-29T16:16:35.811824Z",
     "shell.execute_reply": "2022-04-29T16:16:35.810821Z"
    },
    "papermill": {
     "duration": 0.118678,
     "end_time": "2022-04-29T16:16:35.813638",
     "exception": false,
     "start_time": "2022-04-29T16:16:35.694960",
     "status": "completed"
    },
    "tags": []
   },
   "outputs": [
    {
     "name": "stdout",
     "output_type": "stream",
     "text": [
      "0.0239022801408308\n"
     ]
    }
   ],
   "source": [
    "print(study.best_trial.value)"
   ]
  }
 ],
 "metadata": {
  "kernelspec": {
   "display_name": "Python 3",
   "language": "python",
   "name": "python3"
  },
  "language_info": {
   "codemirror_mode": {
    "name": "ipython",
    "version": 3
   },
   "file_extension": ".py",
   "mimetype": "text/x-python",
   "name": "python",
   "nbconvert_exporter": "python",
   "pygments_lexer": "ipython3",
   "version": "3.7.12"
  },
  "papermill": {
   "default_parameters": {},
   "duration": 7667.357746,
   "end_time": "2022-04-29T16:16:37.776757",
   "environment_variables": {},
   "exception": null,
   "input_path": "__notebook__.ipynb",
   "output_path": "__notebook__.ipynb",
   "parameters": {},
   "start_time": "2022-04-29T14:08:50.419011",
   "version": "2.3.4"
  }
 },
 "nbformat": 4,
 "nbformat_minor": 5
}
