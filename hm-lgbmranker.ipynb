{
 "cells": [
  {
   "cell_type": "code",
   "execution_count": 1,
   "id": "7fc6f0dd",
   "metadata": {
    "_kg_hide-input": true,
    "_kg_hide-output": true,
    "execution": {
     "iopub.execute_input": "2022-04-30T10:33:41.727389Z",
     "iopub.status.busy": "2022-04-30T10:33:41.727063Z",
     "iopub.status.idle": "2022-04-30T10:33:41.743435Z",
     "shell.execute_reply": "2022-04-30T10:33:41.742543Z"
    },
    "papermill": {
     "duration": 0.079136,
     "end_time": "2022-04-30T10:33:41.745587",
     "exception": false,
     "start_time": "2022-04-30T10:33:41.666451",
     "status": "completed"
    },
    "tags": []
   },
   "outputs": [],
   "source": [
    "import numpy as np\n",
    "\n",
    "def apk(actual, predicted, k=10):\n",
    "    \"\"\"\n",
    "    Computes the average precision at k.\n",
    "\n",
    "    This function computes the average prescision at k between two lists of\n",
    "    items.\n",
    "\n",
    "    Parameters\n",
    "    ----------\n",
    "    actual : list\n",
    "             A list of elements that are to be predicted (order doesn't matter)\n",
    "    predicted : list\n",
    "                A list of predicted elements (order does matter)\n",
    "    k : int, optional\n",
    "        The maximum number of predicted elements\n",
    "\n",
    "    Returns\n",
    "    -------\n",
    "    score : double\n",
    "            The average precision at k over the input lists\n",
    "\n",
    "    \"\"\"\n",
    "    if len(predicted)>k:\n",
    "        predicted = predicted[:k]\n",
    "\n",
    "    score = 0.0\n",
    "    num_hits = 0.0\n",
    "\n",
    "    for i,p in enumerate(predicted):\n",
    "        if p in actual and p not in predicted[:i]:\n",
    "            num_hits += 1.0\n",
    "            score += num_hits / (i+1.0)\n",
    "\n",
    "    if not actual:\n",
    "        return 0.0\n",
    "\n",
    "    return score / min(len(actual), k)\n",
    "\n",
    "def mapk(actual, predicted, k=10):\n",
    "    \"\"\"\n",
    "    Computes the mean average precision at k.\n",
    "\n",
    "    This function computes the mean average prescision at k between two lists\n",
    "    of lists of items.\n",
    "\n",
    "    Parameters\n",
    "    ----------\n",
    "    actual : list\n",
    "             A list of lists of elements that are to be predicted \n",
    "             (order doesn't matter in the lists)\n",
    "    predicted : list\n",
    "                A list of lists of predicted elements\n",
    "                (order matters in the lists)\n",
    "    k : int, optional\n",
    "        The maximum number of predicted elements\n",
    "\n",
    "    Returns\n",
    "    -------\n",
    "    score : double\n",
    "            The mean average precision at k over the input lists\n",
    "\n",
    "    \"\"\"\n",
    "    return np.mean([apk(a,p,k) for a,p in zip(actual, predicted)])"
   ]
  },
  {
   "cell_type": "code",
   "execution_count": 2,
   "id": "4f17472a",
   "metadata": {
    "execution": {
     "iopub.execute_input": "2022-04-30T10:33:41.866476Z",
     "iopub.status.busy": "2022-04-30T10:33:41.866207Z",
     "iopub.status.idle": "2022-04-30T10:33:42.927358Z",
     "shell.execute_reply": "2022-04-30T10:33:42.926406Z"
    },
    "papermill": {
     "duration": 1.126686,
     "end_time": "2022-04-30T10:33:42.930026",
     "exception": false,
     "start_time": "2022-04-30T10:33:41.803340",
     "status": "completed"
    },
    "tags": []
   },
   "outputs": [],
   "source": [
    "from sklearn.base import BaseEstimator, TransformerMixin\n",
    "import numpy as np\n",
    "\n",
    "def customer_hex_id_to_int(series):\n",
    "    return series.str[-16:].apply(hex_id_to_int)\n",
    "\n",
    "def hex_id_to_int(str):\n",
    "    return int(str[-16:], 16)\n",
    "\n",
    "def article_id_str_to_int(series):\n",
    "    return series.astype('int32')\n",
    "\n",
    "def article_id_int_to_str(series):\n",
    "    return '0' + series.astype('str')\n",
    "\n",
    "class Categorize(BaseEstimator, TransformerMixin):\n",
    "    def __init__(self, min_examples=0):\n",
    "        self.min_examples = min_examples\n",
    "        self.categories = []\n",
    "        \n",
    "    def fit(self, X):\n",
    "        for i in range(X.shape[1]):\n",
    "            vc = X.iloc[:, i].value_counts()\n",
    "            self.categories.append(vc[vc > self.min_examples].index.tolist())\n",
    "        return self\n",
    "\n",
    "    def transform(self, X):\n",
    "        data = {X.columns[i]: pd.Categorical(X.iloc[:, i], categories=self.categories[i]).codes for i in range(X.shape[1])}\n",
    "        return pd.DataFrame(data=data)\n",
    "\n",
    "\n",
    "def calculate_apk(list_of_preds, list_of_gts):\n",
    "    # for fast validation this can be changed to operate on dicts of {'cust_id_int': [art_id_int, ...]}\n",
    "    # using 'data/val_week_purchases_by_cust.pkl'\n",
    "    apks = []\n",
    "    for preds, gt in zip(list_of_preds, list_of_gts):\n",
    "        apks.append(apk(gt, preds, k=12))\n",
    "    return np.mean(apks)\n",
    "\n",
    "def eval_sub(sub_csv, skip_cust_with_no_purchases=True):\n",
    "    sub=pd.read_csv(sub_csv)\n",
    "    validation_set=pd.read_parquet('data/validation_ground_truth.parquet')\n",
    "\n",
    "    apks = []\n",
    "\n",
    "    no_purchases_pattern = []\n",
    "    for pred, gt in zip(sub.prediction.str.split(), validation_set.prediction.str.split()):\n",
    "        if skip_cust_with_no_purchases and (gt == no_purchases_pattern): continue\n",
    "        apks.append(apk(gt, pred, k=12))\n",
    "    return np.mean(apks)"
   ]
  },
  {
   "cell_type": "code",
   "execution_count": 3,
   "id": "eaee2bcb",
   "metadata": {
    "execution": {
     "iopub.execute_input": "2022-04-30T10:33:43.050875Z",
     "iopub.status.busy": "2022-04-30T10:33:43.050590Z",
     "iopub.status.idle": "2022-04-30T10:33:43.054739Z",
     "shell.execute_reply": "2022-04-30T10:33:43.054117Z"
    },
    "papermill": {
     "duration": 0.066629,
     "end_time": "2022-04-30T10:33:43.056606",
     "exception": false,
     "start_time": "2022-04-30T10:33:42.989977",
     "status": "completed"
    },
    "tags": []
   },
   "outputs": [],
   "source": [
    "import pandas as pd"
   ]
  },
  {
   "cell_type": "code",
   "execution_count": 4,
   "id": "2ee6c197",
   "metadata": {
    "execution": {
     "iopub.execute_input": "2022-04-30T10:33:43.172273Z",
     "iopub.status.busy": "2022-04-30T10:33:43.172019Z",
     "iopub.status.idle": "2022-04-30T10:33:50.729569Z",
     "shell.execute_reply": "2022-04-30T10:33:50.728834Z"
    },
    "papermill": {
     "duration": 7.619302,
     "end_time": "2022-04-30T10:33:50.733164",
     "exception": false,
     "start_time": "2022-04-30T10:33:43.113862",
     "status": "completed"
    },
    "tags": []
   },
   "outputs": [
    {
     "name": "stdout",
     "output_type": "stream",
     "text": [
      "CPU times: user 2.16 s, sys: 2.37 s, total: 4.53 s\n",
      "Wall time: 7.55 s\n"
     ]
    }
   ],
   "source": [
    "%%time\n",
    "\n",
    "transactions = pd.read_parquet('../input/warmup/transactions_train.parquet')\n",
    "customers = pd.read_parquet('../input/warmup/customers.parquet')\n",
    "articles = pd.read_parquet('../input/warmup/articles.parquet')"
   ]
  },
  {
   "cell_type": "code",
   "execution_count": 5,
   "id": "6767dedf",
   "metadata": {
    "execution": {
     "iopub.execute_input": "2022-04-30T10:33:50.854231Z",
     "iopub.status.busy": "2022-04-30T10:33:50.853699Z",
     "iopub.status.idle": "2022-04-30T10:33:51.121490Z",
     "shell.execute_reply": "2022-04-30T10:33:51.120487Z"
    },
    "papermill": {
     "duration": 0.330186,
     "end_time": "2022-04-30T10:33:51.123964",
     "exception": false,
     "start_time": "2022-04-30T10:33:50.793778",
     "status": "completed"
    },
    "tags": []
   },
   "outputs": [],
   "source": [
    "test_week = transactions.week.max() + 1\n",
    "transactions = transactions[transactions.week > transactions.week.max() - 10]"
   ]
  },
  {
   "cell_type": "markdown",
   "id": "573d8d21",
   "metadata": {
    "papermill": {
     "duration": 0.057732,
     "end_time": "2022-04-30T10:33:51.245748",
     "exception": false,
     "start_time": "2022-04-30T10:33:51.188016",
     "status": "completed"
    },
    "tags": []
   },
   "source": [
    "# Generating candidates"
   ]
  },
  {
   "cell_type": "markdown",
   "id": "d386734a",
   "metadata": {
    "papermill": {
     "duration": 0.057639,
     "end_time": "2022-04-30T10:33:51.366390",
     "exception": false,
     "start_time": "2022-04-30T10:33:51.308751",
     "status": "completed"
    },
    "tags": []
   },
   "source": [
    "### Last purchase candidates"
   ]
  },
  {
   "cell_type": "code",
   "execution_count": 6,
   "id": "74144ddf",
   "metadata": {
    "execution": {
     "iopub.execute_input": "2022-04-30T10:33:51.492388Z",
     "iopub.status.busy": "2022-04-30T10:33:51.492088Z",
     "iopub.status.idle": "2022-04-30T10:34:13.503843Z",
     "shell.execute_reply": "2022-04-30T10:34:13.502837Z"
    },
    "papermill": {
     "duration": 22.081129,
     "end_time": "2022-04-30T10:34:13.506264",
     "exception": false,
     "start_time": "2022-04-30T10:33:51.425135",
     "status": "completed"
    },
    "tags": []
   },
   "outputs": [
    {
     "name": "stdout",
     "output_type": "stream",
     "text": [
      "CPU times: user 21.9 s, sys: 252 ms, total: 22.2 s\n",
      "Wall time: 22 s\n"
     ]
    }
   ],
   "source": [
    "%%time\n",
    "\n",
    "c2weeks = transactions.groupby('customer_id')['week'].unique()"
   ]
  },
  {
   "cell_type": "code",
   "execution_count": 7,
   "id": "620ead8a",
   "metadata": {
    "execution": {
     "iopub.execute_input": "2022-04-30T10:34:13.626403Z",
     "iopub.status.busy": "2022-04-30T10:34:13.626033Z",
     "iopub.status.idle": "2022-04-30T10:34:13.703280Z",
     "shell.execute_reply": "2022-04-30T10:34:13.702418Z"
    },
    "papermill": {
     "duration": 0.139134,
     "end_time": "2022-04-30T10:34:13.705913",
     "exception": false,
     "start_time": "2022-04-30T10:34:13.566779",
     "status": "completed"
    },
    "tags": []
   },
   "outputs": [
    {
     "data": {
      "text/html": [
       "<div>\n",
       "<style scoped>\n",
       "    .dataframe tbody tr th:only-of-type {\n",
       "        vertical-align: middle;\n",
       "    }\n",
       "\n",
       "    .dataframe tbody tr th {\n",
       "        vertical-align: top;\n",
       "    }\n",
       "\n",
       "    .dataframe thead th {\n",
       "        text-align: right;\n",
       "    }\n",
       "</style>\n",
       "<table border=\"1\" class=\"dataframe\">\n",
       "  <thead>\n",
       "    <tr style=\"text-align: right;\">\n",
       "      <th></th>\n",
       "      <th>min</th>\n",
       "      <th>max</th>\n",
       "    </tr>\n",
       "    <tr>\n",
       "      <th>week</th>\n",
       "      <th></th>\n",
       "      <th></th>\n",
       "    </tr>\n",
       "  </thead>\n",
       "  <tbody>\n",
       "    <tr>\n",
       "      <th>95</th>\n",
       "      <td>2020-07-15</td>\n",
       "      <td>2020-07-21</td>\n",
       "    </tr>\n",
       "    <tr>\n",
       "      <th>96</th>\n",
       "      <td>2020-07-22</td>\n",
       "      <td>2020-07-28</td>\n",
       "    </tr>\n",
       "    <tr>\n",
       "      <th>97</th>\n",
       "      <td>2020-07-29</td>\n",
       "      <td>2020-08-04</td>\n",
       "    </tr>\n",
       "    <tr>\n",
       "      <th>98</th>\n",
       "      <td>2020-08-05</td>\n",
       "      <td>2020-08-11</td>\n",
       "    </tr>\n",
       "    <tr>\n",
       "      <th>99</th>\n",
       "      <td>2020-08-12</td>\n",
       "      <td>2020-08-18</td>\n",
       "    </tr>\n",
       "    <tr>\n",
       "      <th>100</th>\n",
       "      <td>2020-08-19</td>\n",
       "      <td>2020-08-25</td>\n",
       "    </tr>\n",
       "    <tr>\n",
       "      <th>101</th>\n",
       "      <td>2020-08-26</td>\n",
       "      <td>2020-09-01</td>\n",
       "    </tr>\n",
       "    <tr>\n",
       "      <th>102</th>\n",
       "      <td>2020-09-02</td>\n",
       "      <td>2020-09-08</td>\n",
       "    </tr>\n",
       "    <tr>\n",
       "      <th>103</th>\n",
       "      <td>2020-09-09</td>\n",
       "      <td>2020-09-15</td>\n",
       "    </tr>\n",
       "    <tr>\n",
       "      <th>104</th>\n",
       "      <td>2020-09-16</td>\n",
       "      <td>2020-09-22</td>\n",
       "    </tr>\n",
       "  </tbody>\n",
       "</table>\n",
       "</div>"
      ],
      "text/plain": [
       "            min        max\n",
       "week                      \n",
       "95   2020-07-15 2020-07-21\n",
       "96   2020-07-22 2020-07-28\n",
       "97   2020-07-29 2020-08-04\n",
       "98   2020-08-05 2020-08-11\n",
       "99   2020-08-12 2020-08-18\n",
       "100  2020-08-19 2020-08-25\n",
       "101  2020-08-26 2020-09-01\n",
       "102  2020-09-02 2020-09-08\n",
       "103  2020-09-09 2020-09-15\n",
       "104  2020-09-16 2020-09-22"
      ]
     },
     "execution_count": 7,
     "metadata": {},
     "output_type": "execute_result"
    }
   ],
   "source": [
    "transactions.groupby('week')['t_dat'].agg(['min', 'max'])"
   ]
  },
  {
   "cell_type": "code",
   "execution_count": 8,
   "id": "f9a8d4b0",
   "metadata": {
    "execution": {
     "iopub.execute_input": "2022-04-30T10:34:13.827239Z",
     "iopub.status.busy": "2022-04-30T10:34:13.826626Z",
     "iopub.status.idle": "2022-04-30T10:34:13.836466Z",
     "shell.execute_reply": "2022-04-30T10:34:13.835501Z"
    },
    "papermill": {
     "duration": 0.074336,
     "end_time": "2022-04-30T10:34:13.838526",
     "exception": false,
     "start_time": "2022-04-30T10:34:13.764190",
     "status": "completed"
    },
    "tags": []
   },
   "outputs": [
    {
     "data": {
      "text/plain": [
       "customer_id\n",
       "28847241659200          [95, 96, 101, 102]\n",
       "41318098387474                        [98]\n",
       "116809474287335                 [101, 103]\n",
       "200292573348128          [95, 96, 99, 102]\n",
       "248294615847351                       [96]\n",
       "                               ...        \n",
       "18446624797007271432                  [95]\n",
       "18446630855572834764                 [103]\n",
       "18446662237889060501                 [100]\n",
       "18446705133201055310                 [102]\n",
       "18446737527580148316                 [104]\n",
       "Name: week, Length: 437365, dtype: object"
      ]
     },
     "execution_count": 8,
     "metadata": {},
     "output_type": "execute_result"
    }
   ],
   "source": [
    "c2weeks"
   ]
  },
  {
   "cell_type": "code",
   "execution_count": 9,
   "id": "2ebf0ab6",
   "metadata": {
    "execution": {
     "iopub.execute_input": "2022-04-30T10:34:13.959624Z",
     "iopub.status.busy": "2022-04-30T10:34:13.959102Z",
     "iopub.status.idle": "2022-04-30T10:34:15.057453Z",
     "shell.execute_reply": "2022-04-30T10:34:15.056420Z"
    },
    "papermill": {
     "duration": 1.162358,
     "end_time": "2022-04-30T10:34:15.059832",
     "exception": false,
     "start_time": "2022-04-30T10:34:13.897474",
     "status": "completed"
    },
    "tags": []
   },
   "outputs": [
    {
     "name": "stdout",
     "output_type": "stream",
     "text": [
      "CPU times: user 999 ms, sys: 91.9 ms, total: 1.09 s\n",
      "Wall time: 1.09 s\n"
     ]
    }
   ],
   "source": [
    "%%time\n",
    "\n",
    "c2weeks2shifted_weeks = {}\n",
    "\n",
    "for c_id, weeks in c2weeks.items():\n",
    "    c2weeks2shifted_weeks[c_id] = {}\n",
    "    for i in range(weeks.shape[0]-1):\n",
    "        c2weeks2shifted_weeks[c_id][weeks[i]] = weeks[i+1]\n",
    "    c2weeks2shifted_weeks[c_id][weeks[-1]] = test_week"
   ]
  },
  {
   "cell_type": "code",
   "execution_count": 10,
   "id": "88ebd3a6",
   "metadata": {
    "execution": {
     "iopub.execute_input": "2022-04-30T10:34:15.185686Z",
     "iopub.status.busy": "2022-04-30T10:34:15.184793Z",
     "iopub.status.idle": "2022-04-30T10:34:15.191174Z",
     "shell.execute_reply": "2022-04-30T10:34:15.190574Z"
    },
    "papermill": {
     "duration": 0.073236,
     "end_time": "2022-04-30T10:34:15.193882",
     "exception": false,
     "start_time": "2022-04-30T10:34:15.120646",
     "status": "completed"
    },
    "tags": []
   },
   "outputs": [
    {
     "data": {
      "text/plain": [
       "{95: 96, 96: 101, 101: 102, 102: 105}"
      ]
     },
     "execution_count": 10,
     "metadata": {},
     "output_type": "execute_result"
    }
   ],
   "source": [
    "c2weeks2shifted_weeks[28847241659200]"
   ]
  },
  {
   "cell_type": "code",
   "execution_count": 11,
   "id": "8fde2400",
   "metadata": {
    "execution": {
     "iopub.execute_input": "2022-04-30T10:34:15.334427Z",
     "iopub.status.busy": "2022-04-30T10:34:15.333767Z",
     "iopub.status.idle": "2022-04-30T10:34:15.354129Z",
     "shell.execute_reply": "2022-04-30T10:34:15.353245Z"
    },
    "papermill": {
     "duration": 0.087784,
     "end_time": "2022-04-30T10:34:15.356424",
     "exception": false,
     "start_time": "2022-04-30T10:34:15.268640",
     "status": "completed"
    },
    "tags": []
   },
   "outputs": [],
   "source": [
    "candidates_last_purchase = transactions.copy()"
   ]
  },
  {
   "cell_type": "code",
   "execution_count": 12,
   "id": "7320846b",
   "metadata": {
    "execution": {
     "iopub.execute_input": "2022-04-30T10:34:15.478267Z",
     "iopub.status.busy": "2022-04-30T10:34:15.477716Z",
     "iopub.status.idle": "2022-04-30T10:34:27.417929Z",
     "shell.execute_reply": "2022-04-30T10:34:27.416194Z"
    },
    "papermill": {
     "duration": 12.004061,
     "end_time": "2022-04-30T10:34:27.420638",
     "exception": false,
     "start_time": "2022-04-30T10:34:15.416577",
     "status": "completed"
    },
    "tags": []
   },
   "outputs": [
    {
     "name": "stdout",
     "output_type": "stream",
     "text": [
      "CPU times: user 11.9 s, sys: 69 ms, total: 11.9 s\n",
      "Wall time: 11.9 s\n"
     ]
    }
   ],
   "source": [
    "%%time\n",
    "\n",
    "weeks = []\n",
    "for i, (c_id, week) in enumerate(zip(transactions['customer_id'], transactions['week'])):\n",
    "    weeks.append(c2weeks2shifted_weeks[c_id][week])\n",
    "    \n",
    "candidates_last_purchase.week=weeks"
   ]
  },
  {
   "cell_type": "code",
   "execution_count": 13,
   "id": "07826461",
   "metadata": {
    "execution": {
     "iopub.execute_input": "2022-04-30T10:34:27.555780Z",
     "iopub.status.busy": "2022-04-30T10:34:27.555163Z",
     "iopub.status.idle": "2022-04-30T10:34:27.575878Z",
     "shell.execute_reply": "2022-04-30T10:34:27.574914Z"
    },
    "papermill": {
     "duration": 0.089467,
     "end_time": "2022-04-30T10:34:27.578358",
     "exception": false,
     "start_time": "2022-04-30T10:34:27.488891",
     "status": "completed"
    },
    "tags": []
   },
   "outputs": [
    {
     "data": {
      "text/html": [
       "<div>\n",
       "<style scoped>\n",
       "    .dataframe tbody tr th:only-of-type {\n",
       "        vertical-align: middle;\n",
       "    }\n",
       "\n",
       "    .dataframe tbody tr th {\n",
       "        vertical-align: top;\n",
       "    }\n",
       "\n",
       "    .dataframe thead th {\n",
       "        text-align: right;\n",
       "    }\n",
       "</style>\n",
       "<table border=\"1\" class=\"dataframe\">\n",
       "  <thead>\n",
       "    <tr style=\"text-align: right;\">\n",
       "      <th></th>\n",
       "      <th>t_dat</th>\n",
       "      <th>customer_id</th>\n",
       "      <th>article_id</th>\n",
       "      <th>price</th>\n",
       "      <th>sales_channel_id</th>\n",
       "      <th>week</th>\n",
       "    </tr>\n",
       "  </thead>\n",
       "  <tbody>\n",
       "    <tr>\n",
       "      <th>29030503</th>\n",
       "      <td>2020-07-15</td>\n",
       "      <td>272412481300040</td>\n",
       "      <td>778064028</td>\n",
       "      <td>0.008458</td>\n",
       "      <td>1</td>\n",
       "      <td>96</td>\n",
       "    </tr>\n",
       "    <tr>\n",
       "      <th>29030504</th>\n",
       "      <td>2020-07-15</td>\n",
       "      <td>272412481300040</td>\n",
       "      <td>816592008</td>\n",
       "      <td>0.016932</td>\n",
       "      <td>1</td>\n",
       "      <td>96</td>\n",
       "    </tr>\n",
       "    <tr>\n",
       "      <th>29030505</th>\n",
       "      <td>2020-07-15</td>\n",
       "      <td>272412481300040</td>\n",
       "      <td>621381021</td>\n",
       "      <td>0.033881</td>\n",
       "      <td>1</td>\n",
       "      <td>96</td>\n",
       "    </tr>\n",
       "    <tr>\n",
       "      <th>29030506</th>\n",
       "      <td>2020-07-15</td>\n",
       "      <td>272412481300040</td>\n",
       "      <td>817477003</td>\n",
       "      <td>0.025407</td>\n",
       "      <td>1</td>\n",
       "      <td>96</td>\n",
       "    </tr>\n",
       "    <tr>\n",
       "      <th>29030507</th>\n",
       "      <td>2020-07-15</td>\n",
       "      <td>272412481300040</td>\n",
       "      <td>899088002</td>\n",
       "      <td>0.025407</td>\n",
       "      <td>1</td>\n",
       "      <td>96</td>\n",
       "    </tr>\n",
       "    <tr>\n",
       "      <th>29319533</th>\n",
       "      <td>2020-07-22</td>\n",
       "      <td>272412481300040</td>\n",
       "      <td>885077001</td>\n",
       "      <td>0.008458</td>\n",
       "      <td>1</td>\n",
       "      <td>103</td>\n",
       "    </tr>\n",
       "    <tr>\n",
       "      <th>29410772</th>\n",
       "      <td>2020-07-24</td>\n",
       "      <td>272412481300040</td>\n",
       "      <td>850176003</td>\n",
       "      <td>0.029034</td>\n",
       "      <td>2</td>\n",
       "      <td>103</td>\n",
       "    </tr>\n",
       "    <tr>\n",
       "      <th>29410773</th>\n",
       "      <td>2020-07-24</td>\n",
       "      <td>272412481300040</td>\n",
       "      <td>875803001</td>\n",
       "      <td>0.064559</td>\n",
       "      <td>2</td>\n",
       "      <td>103</td>\n",
       "    </tr>\n",
       "    <tr>\n",
       "      <th>29410774</th>\n",
       "      <td>2020-07-24</td>\n",
       "      <td>272412481300040</td>\n",
       "      <td>892970003</td>\n",
       "      <td>0.020966</td>\n",
       "      <td>2</td>\n",
       "      <td>103</td>\n",
       "    </tr>\n",
       "    <tr>\n",
       "      <th>29410775</th>\n",
       "      <td>2020-07-24</td>\n",
       "      <td>272412481300040</td>\n",
       "      <td>854619003</td>\n",
       "      <td>0.020966</td>\n",
       "      <td>2</td>\n",
       "      <td>103</td>\n",
       "    </tr>\n",
       "    <tr>\n",
       "      <th>29531614</th>\n",
       "      <td>2020-07-27</td>\n",
       "      <td>272412481300040</td>\n",
       "      <td>900398001</td>\n",
       "      <td>0.030492</td>\n",
       "      <td>2</td>\n",
       "      <td>103</td>\n",
       "    </tr>\n",
       "    <tr>\n",
       "      <th>29531615</th>\n",
       "      <td>2020-07-27</td>\n",
       "      <td>272412481300040</td>\n",
       "      <td>834179002</td>\n",
       "      <td>0.025407</td>\n",
       "      <td>2</td>\n",
       "      <td>103</td>\n",
       "    </tr>\n",
       "    <tr>\n",
       "      <th>29531616</th>\n",
       "      <td>2020-07-27</td>\n",
       "      <td>272412481300040</td>\n",
       "      <td>875803001</td>\n",
       "      <td>0.067780</td>\n",
       "      <td>2</td>\n",
       "      <td>103</td>\n",
       "    </tr>\n",
       "    <tr>\n",
       "      <th>31495014</th>\n",
       "      <td>2020-09-14</td>\n",
       "      <td>272412481300040</td>\n",
       "      <td>923460002</td>\n",
       "      <td>0.039932</td>\n",
       "      <td>2</td>\n",
       "      <td>105</td>\n",
       "    </tr>\n",
       "    <tr>\n",
       "      <th>31495015</th>\n",
       "      <td>2020-09-14</td>\n",
       "      <td>272412481300040</td>\n",
       "      <td>922381001</td>\n",
       "      <td>0.039932</td>\n",
       "      <td>2</td>\n",
       "      <td>105</td>\n",
       "    </tr>\n",
       "    <tr>\n",
       "      <th>31495016</th>\n",
       "      <td>2020-09-14</td>\n",
       "      <td>272412481300040</td>\n",
       "      <td>921906005</td>\n",
       "      <td>0.031949</td>\n",
       "      <td>2</td>\n",
       "      <td>105</td>\n",
       "    </tr>\n",
       "  </tbody>\n",
       "</table>\n",
       "</div>"
      ],
      "text/plain": [
       "              t_dat      customer_id  article_id     price  sales_channel_id  \\\n",
       "29030503 2020-07-15  272412481300040   778064028  0.008458                 1   \n",
       "29030504 2020-07-15  272412481300040   816592008  0.016932                 1   \n",
       "29030505 2020-07-15  272412481300040   621381021  0.033881                 1   \n",
       "29030506 2020-07-15  272412481300040   817477003  0.025407                 1   \n",
       "29030507 2020-07-15  272412481300040   899088002  0.025407                 1   \n",
       "29319533 2020-07-22  272412481300040   885077001  0.008458                 1   \n",
       "29410772 2020-07-24  272412481300040   850176003  0.029034                 2   \n",
       "29410773 2020-07-24  272412481300040   875803001  0.064559                 2   \n",
       "29410774 2020-07-24  272412481300040   892970003  0.020966                 2   \n",
       "29410775 2020-07-24  272412481300040   854619003  0.020966                 2   \n",
       "29531614 2020-07-27  272412481300040   900398001  0.030492                 2   \n",
       "29531615 2020-07-27  272412481300040   834179002  0.025407                 2   \n",
       "29531616 2020-07-27  272412481300040   875803001  0.067780                 2   \n",
       "31495014 2020-09-14  272412481300040   923460002  0.039932                 2   \n",
       "31495015 2020-09-14  272412481300040   922381001  0.039932                 2   \n",
       "31495016 2020-09-14  272412481300040   921906005  0.031949                 2   \n",
       "\n",
       "          week  \n",
       "29030503    96  \n",
       "29030504    96  \n",
       "29030505    96  \n",
       "29030506    96  \n",
       "29030507    96  \n",
       "29319533   103  \n",
       "29410772   103  \n",
       "29410773   103  \n",
       "29410774   103  \n",
       "29410775   103  \n",
       "29531614   103  \n",
       "29531615   103  \n",
       "29531616   103  \n",
       "31495014   105  \n",
       "31495015   105  \n",
       "31495016   105  "
      ]
     },
     "execution_count": 13,
     "metadata": {},
     "output_type": "execute_result"
    }
   ],
   "source": [
    "candidates_last_purchase[candidates_last_purchase['customer_id']==272412481300040]"
   ]
  },
  {
   "cell_type": "code",
   "execution_count": 14,
   "id": "d48b9b15",
   "metadata": {
    "execution": {
     "iopub.execute_input": "2022-04-30T10:34:27.706175Z",
     "iopub.status.busy": "2022-04-30T10:34:27.705306Z",
     "iopub.status.idle": "2022-04-30T10:34:27.724581Z",
     "shell.execute_reply": "2022-04-30T10:34:27.723887Z"
    },
    "papermill": {
     "duration": 0.087333,
     "end_time": "2022-04-30T10:34:27.726900",
     "exception": false,
     "start_time": "2022-04-30T10:34:27.639567",
     "status": "completed"
    },
    "tags": []
   },
   "outputs": [
    {
     "data": {
      "text/html": [
       "<div>\n",
       "<style scoped>\n",
       "    .dataframe tbody tr th:only-of-type {\n",
       "        vertical-align: middle;\n",
       "    }\n",
       "\n",
       "    .dataframe tbody tr th {\n",
       "        vertical-align: top;\n",
       "    }\n",
       "\n",
       "    .dataframe thead th {\n",
       "        text-align: right;\n",
       "    }\n",
       "</style>\n",
       "<table border=\"1\" class=\"dataframe\">\n",
       "  <thead>\n",
       "    <tr style=\"text-align: right;\">\n",
       "      <th></th>\n",
       "      <th>t_dat</th>\n",
       "      <th>customer_id</th>\n",
       "      <th>article_id</th>\n",
       "      <th>price</th>\n",
       "      <th>sales_channel_id</th>\n",
       "      <th>week</th>\n",
       "    </tr>\n",
       "  </thead>\n",
       "  <tbody>\n",
       "    <tr>\n",
       "      <th>29030503</th>\n",
       "      <td>2020-07-15</td>\n",
       "      <td>272412481300040</td>\n",
       "      <td>778064028</td>\n",
       "      <td>0.008458</td>\n",
       "      <td>1</td>\n",
       "      <td>95</td>\n",
       "    </tr>\n",
       "    <tr>\n",
       "      <th>29030504</th>\n",
       "      <td>2020-07-15</td>\n",
       "      <td>272412481300040</td>\n",
       "      <td>816592008</td>\n",
       "      <td>0.016932</td>\n",
       "      <td>1</td>\n",
       "      <td>95</td>\n",
       "    </tr>\n",
       "    <tr>\n",
       "      <th>29030505</th>\n",
       "      <td>2020-07-15</td>\n",
       "      <td>272412481300040</td>\n",
       "      <td>621381021</td>\n",
       "      <td>0.033881</td>\n",
       "      <td>1</td>\n",
       "      <td>95</td>\n",
       "    </tr>\n",
       "    <tr>\n",
       "      <th>29030506</th>\n",
       "      <td>2020-07-15</td>\n",
       "      <td>272412481300040</td>\n",
       "      <td>817477003</td>\n",
       "      <td>0.025407</td>\n",
       "      <td>1</td>\n",
       "      <td>95</td>\n",
       "    </tr>\n",
       "    <tr>\n",
       "      <th>29030507</th>\n",
       "      <td>2020-07-15</td>\n",
       "      <td>272412481300040</td>\n",
       "      <td>899088002</td>\n",
       "      <td>0.025407</td>\n",
       "      <td>1</td>\n",
       "      <td>95</td>\n",
       "    </tr>\n",
       "    <tr>\n",
       "      <th>29319533</th>\n",
       "      <td>2020-07-22</td>\n",
       "      <td>272412481300040</td>\n",
       "      <td>885077001</td>\n",
       "      <td>0.008458</td>\n",
       "      <td>1</td>\n",
       "      <td>96</td>\n",
       "    </tr>\n",
       "    <tr>\n",
       "      <th>29410772</th>\n",
       "      <td>2020-07-24</td>\n",
       "      <td>272412481300040</td>\n",
       "      <td>850176003</td>\n",
       "      <td>0.029034</td>\n",
       "      <td>2</td>\n",
       "      <td>96</td>\n",
       "    </tr>\n",
       "    <tr>\n",
       "      <th>29410773</th>\n",
       "      <td>2020-07-24</td>\n",
       "      <td>272412481300040</td>\n",
       "      <td>875803001</td>\n",
       "      <td>0.064559</td>\n",
       "      <td>2</td>\n",
       "      <td>96</td>\n",
       "    </tr>\n",
       "    <tr>\n",
       "      <th>29410774</th>\n",
       "      <td>2020-07-24</td>\n",
       "      <td>272412481300040</td>\n",
       "      <td>892970003</td>\n",
       "      <td>0.020966</td>\n",
       "      <td>2</td>\n",
       "      <td>96</td>\n",
       "    </tr>\n",
       "    <tr>\n",
       "      <th>29410775</th>\n",
       "      <td>2020-07-24</td>\n",
       "      <td>272412481300040</td>\n",
       "      <td>854619003</td>\n",
       "      <td>0.020966</td>\n",
       "      <td>2</td>\n",
       "      <td>96</td>\n",
       "    </tr>\n",
       "    <tr>\n",
       "      <th>29531614</th>\n",
       "      <td>2020-07-27</td>\n",
       "      <td>272412481300040</td>\n",
       "      <td>900398001</td>\n",
       "      <td>0.030492</td>\n",
       "      <td>2</td>\n",
       "      <td>96</td>\n",
       "    </tr>\n",
       "    <tr>\n",
       "      <th>29531615</th>\n",
       "      <td>2020-07-27</td>\n",
       "      <td>272412481300040</td>\n",
       "      <td>834179002</td>\n",
       "      <td>0.025407</td>\n",
       "      <td>2</td>\n",
       "      <td>96</td>\n",
       "    </tr>\n",
       "    <tr>\n",
       "      <th>29531616</th>\n",
       "      <td>2020-07-27</td>\n",
       "      <td>272412481300040</td>\n",
       "      <td>875803001</td>\n",
       "      <td>0.067780</td>\n",
       "      <td>2</td>\n",
       "      <td>96</td>\n",
       "    </tr>\n",
       "    <tr>\n",
       "      <th>31495014</th>\n",
       "      <td>2020-09-14</td>\n",
       "      <td>272412481300040</td>\n",
       "      <td>923460002</td>\n",
       "      <td>0.039932</td>\n",
       "      <td>2</td>\n",
       "      <td>103</td>\n",
       "    </tr>\n",
       "    <tr>\n",
       "      <th>31495015</th>\n",
       "      <td>2020-09-14</td>\n",
       "      <td>272412481300040</td>\n",
       "      <td>922381001</td>\n",
       "      <td>0.039932</td>\n",
       "      <td>2</td>\n",
       "      <td>103</td>\n",
       "    </tr>\n",
       "    <tr>\n",
       "      <th>31495016</th>\n",
       "      <td>2020-09-14</td>\n",
       "      <td>272412481300040</td>\n",
       "      <td>921906005</td>\n",
       "      <td>0.031949</td>\n",
       "      <td>2</td>\n",
       "      <td>103</td>\n",
       "    </tr>\n",
       "  </tbody>\n",
       "</table>\n",
       "</div>"
      ],
      "text/plain": [
       "              t_dat      customer_id  article_id     price  sales_channel_id  \\\n",
       "29030503 2020-07-15  272412481300040   778064028  0.008458                 1   \n",
       "29030504 2020-07-15  272412481300040   816592008  0.016932                 1   \n",
       "29030505 2020-07-15  272412481300040   621381021  0.033881                 1   \n",
       "29030506 2020-07-15  272412481300040   817477003  0.025407                 1   \n",
       "29030507 2020-07-15  272412481300040   899088002  0.025407                 1   \n",
       "29319533 2020-07-22  272412481300040   885077001  0.008458                 1   \n",
       "29410772 2020-07-24  272412481300040   850176003  0.029034                 2   \n",
       "29410773 2020-07-24  272412481300040   875803001  0.064559                 2   \n",
       "29410774 2020-07-24  272412481300040   892970003  0.020966                 2   \n",
       "29410775 2020-07-24  272412481300040   854619003  0.020966                 2   \n",
       "29531614 2020-07-27  272412481300040   900398001  0.030492                 2   \n",
       "29531615 2020-07-27  272412481300040   834179002  0.025407                 2   \n",
       "29531616 2020-07-27  272412481300040   875803001  0.067780                 2   \n",
       "31495014 2020-09-14  272412481300040   923460002  0.039932                 2   \n",
       "31495015 2020-09-14  272412481300040   922381001  0.039932                 2   \n",
       "31495016 2020-09-14  272412481300040   921906005  0.031949                 2   \n",
       "\n",
       "          week  \n",
       "29030503    95  \n",
       "29030504    95  \n",
       "29030505    95  \n",
       "29030506    95  \n",
       "29030507    95  \n",
       "29319533    96  \n",
       "29410772    96  \n",
       "29410773    96  \n",
       "29410774    96  \n",
       "29410775    96  \n",
       "29531614    96  \n",
       "29531615    96  \n",
       "29531616    96  \n",
       "31495014   103  \n",
       "31495015   103  \n",
       "31495016   103  "
      ]
     },
     "execution_count": 14,
     "metadata": {},
     "output_type": "execute_result"
    }
   ],
   "source": [
    "transactions[transactions['customer_id']==272412481300040]"
   ]
  },
  {
   "cell_type": "markdown",
   "id": "d8a5c2eb",
   "metadata": {
    "papermill": {
     "duration": 0.067376,
     "end_time": "2022-04-30T10:34:27.863214",
     "exception": false,
     "start_time": "2022-04-30T10:34:27.795838",
     "status": "completed"
    },
    "tags": []
   },
   "source": [
    "### Bestsellers candidates"
   ]
  },
  {
   "cell_type": "code",
   "execution_count": 15,
   "id": "4a0ae154",
   "metadata": {
    "execution": {
     "iopub.execute_input": "2022-04-30T10:34:27.998033Z",
     "iopub.status.busy": "2022-04-30T10:34:27.997719Z",
     "iopub.status.idle": "2022-04-30T10:34:28.238317Z",
     "shell.execute_reply": "2022-04-30T10:34:28.237386Z"
    },
    "papermill": {
     "duration": 0.311697,
     "end_time": "2022-04-30T10:34:28.240721",
     "exception": false,
     "start_time": "2022-04-30T10:34:27.929024",
     "status": "completed"
    },
    "tags": []
   },
   "outputs": [],
   "source": [
    "mean_price = transactions \\\n",
    "    .groupby(['week', 'article_id'])['price'].mean()"
   ]
  },
  {
   "cell_type": "code",
   "execution_count": 16,
   "id": "e69928e0",
   "metadata": {
    "execution": {
     "iopub.execute_input": "2022-04-30T10:34:28.374915Z",
     "iopub.status.busy": "2022-04-30T10:34:28.374619Z",
     "iopub.status.idle": "2022-04-30T10:34:28.436914Z",
     "shell.execute_reply": "2022-04-30T10:34:28.435911Z"
    },
    "papermill": {
     "duration": 0.131121,
     "end_time": "2022-04-30T10:34:28.439242",
     "exception": false,
     "start_time": "2022-04-30T10:34:28.308121",
     "status": "completed"
    },
    "tags": []
   },
   "outputs": [
    {
     "data": {
      "text/plain": [
       "week  article_id\n",
       "95    108775015     0.004729\n",
       "      108775044     0.008458\n",
       "      110065001     0.006085\n",
       "      110065002     0.006085\n",
       "      111565001     0.004288\n",
       "                      ...   \n",
       "104   952267001     0.013732\n",
       "      952938001     0.048651\n",
       "      953450001     0.016932\n",
       "      953763001     0.021885\n",
       "      956217002     0.059068\n",
       "Name: price, Length: 196880, dtype: float32"
      ]
     },
     "execution_count": 16,
     "metadata": {},
     "output_type": "execute_result"
    }
   ],
   "source": [
    "mean_price"
   ]
  },
  {
   "cell_type": "code",
   "execution_count": 17,
   "id": "8da8f72c",
   "metadata": {
    "execution": {
     "iopub.execute_input": "2022-04-30T10:34:28.571495Z",
     "iopub.status.busy": "2022-04-30T10:34:28.571224Z",
     "iopub.status.idle": "2022-04-30T10:34:29.502293Z",
     "shell.execute_reply": "2022-04-30T10:34:29.501285Z"
    },
    "papermill": {
     "duration": 1.002967,
     "end_time": "2022-04-30T10:34:29.504749",
     "exception": false,
     "start_time": "2022-04-30T10:34:28.501782",
     "status": "completed"
    },
    "tags": []
   },
   "outputs": [],
   "source": [
    "sales = transactions \\\n",
    "    .groupby('week')['article_id'].value_counts() \\\n",
    "    .groupby('week').rank(method='dense', ascending=False) \\\n",
    "    .groupby('week').head(12).rename('bestseller_rank').astype('int8')"
   ]
  },
  {
   "cell_type": "code",
   "execution_count": 18,
   "id": "9f563178",
   "metadata": {
    "execution": {
     "iopub.execute_input": "2022-04-30T10:34:29.639019Z",
     "iopub.status.busy": "2022-04-30T10:34:29.638482Z",
     "iopub.status.idle": "2022-04-30T10:34:29.648947Z",
     "shell.execute_reply": "2022-04-30T10:34:29.648083Z"
    },
    "papermill": {
     "duration": 0.079363,
     "end_time": "2022-04-30T10:34:29.650978",
     "exception": false,
     "start_time": "2022-04-30T10:34:29.571615",
     "status": "completed"
    },
    "tags": []
   },
   "outputs": [
    {
     "data": {
      "text/plain": [
       "week  article_id\n",
       "95    760084003      1\n",
       "      866731001      2\n",
       "      600886001      3\n",
       "      706016001      4\n",
       "      372860002      5\n",
       "                    ..\n",
       "104   915529003      8\n",
       "      915529005      9\n",
       "      448509014     10\n",
       "      762846027     11\n",
       "      714790020     12\n",
       "Name: bestseller_rank, Length: 120, dtype: int8"
      ]
     },
     "execution_count": 18,
     "metadata": {},
     "output_type": "execute_result"
    }
   ],
   "source": [
    "sales"
   ]
  },
  {
   "cell_type": "code",
   "execution_count": 19,
   "id": "795607ac",
   "metadata": {
    "execution": {
     "iopub.execute_input": "2022-04-30T10:34:29.783680Z",
     "iopub.status.busy": "2022-04-30T10:34:29.783381Z",
     "iopub.status.idle": "2022-04-30T10:34:29.792250Z",
     "shell.execute_reply": "2022-04-30T10:34:29.791580Z"
    },
    "papermill": {
     "duration": 0.079347,
     "end_time": "2022-04-30T10:34:29.794551",
     "exception": false,
     "start_time": "2022-04-30T10:34:29.715204",
     "status": "completed"
    },
    "tags": []
   },
   "outputs": [
    {
     "data": {
      "text/plain": [
       "article_id\n",
       "760084003     1\n",
       "866731001     2\n",
       "600886001     3\n",
       "706016001     4\n",
       "372860002     5\n",
       "610776002     6\n",
       "877278002     7\n",
       "547780003     8\n",
       "817354001     9\n",
       "827968001    10\n",
       "866731003    11\n",
       "866383006    12\n",
       "Name: bestseller_rank, dtype: int8"
      ]
     },
     "execution_count": 19,
     "metadata": {},
     "output_type": "execute_result"
    }
   ],
   "source": [
    "sales.loc[95]"
   ]
  },
  {
   "cell_type": "code",
   "execution_count": 20,
   "id": "c0a81c70",
   "metadata": {
    "execution": {
     "iopub.execute_input": "2022-04-30T10:34:29.933252Z",
     "iopub.status.busy": "2022-04-30T10:34:29.933000Z",
     "iopub.status.idle": "2022-04-30T10:34:29.977116Z",
     "shell.execute_reply": "2022-04-30T10:34:29.976231Z"
    },
    "papermill": {
     "duration": 0.11567,
     "end_time": "2022-04-30T10:34:29.979585",
     "exception": false,
     "start_time": "2022-04-30T10:34:29.863915",
     "status": "completed"
    },
    "tags": []
   },
   "outputs": [],
   "source": [
    "bestsellers_previous_week = pd.merge(sales, mean_price, on=['week', 'article_id']).reset_index()\n",
    "bestsellers_previous_week.week += 1"
   ]
  },
  {
   "cell_type": "code",
   "execution_count": 21,
   "id": "8e76aaf5",
   "metadata": {
    "execution": {
     "iopub.execute_input": "2022-04-30T10:34:30.110973Z",
     "iopub.status.busy": "2022-04-30T10:34:30.110683Z",
     "iopub.status.idle": "2022-04-30T10:34:30.122663Z",
     "shell.execute_reply": "2022-04-30T10:34:30.121822Z"
    },
    "papermill": {
     "duration": 0.078918,
     "end_time": "2022-04-30T10:34:30.125213",
     "exception": false,
     "start_time": "2022-04-30T10:34:30.046295",
     "status": "completed"
    },
    "tags": []
   },
   "outputs": [
    {
     "data": {
      "text/html": [
       "<div>\n",
       "<style scoped>\n",
       "    .dataframe tbody tr th:only-of-type {\n",
       "        vertical-align: middle;\n",
       "    }\n",
       "\n",
       "    .dataframe tbody tr th {\n",
       "        vertical-align: top;\n",
       "    }\n",
       "\n",
       "    .dataframe thead th {\n",
       "        text-align: right;\n",
       "    }\n",
       "</style>\n",
       "<table border=\"1\" class=\"dataframe\">\n",
       "  <thead>\n",
       "    <tr style=\"text-align: right;\">\n",
       "      <th></th>\n",
       "      <th>week</th>\n",
       "      <th>article_id</th>\n",
       "      <th>bestseller_rank</th>\n",
       "      <th>price</th>\n",
       "    </tr>\n",
       "  </thead>\n",
       "  <tbody>\n",
       "    <tr>\n",
       "      <th>0</th>\n",
       "      <td>96</td>\n",
       "      <td>760084003</td>\n",
       "      <td>1</td>\n",
       "      <td>0.025094</td>\n",
       "    </tr>\n",
       "    <tr>\n",
       "      <th>1</th>\n",
       "      <td>96</td>\n",
       "      <td>866731001</td>\n",
       "      <td>2</td>\n",
       "      <td>0.024919</td>\n",
       "    </tr>\n",
       "    <tr>\n",
       "      <th>2</th>\n",
       "      <td>96</td>\n",
       "      <td>600886001</td>\n",
       "      <td>3</td>\n",
       "      <td>0.022980</td>\n",
       "    </tr>\n",
       "    <tr>\n",
       "      <th>3</th>\n",
       "      <td>96</td>\n",
       "      <td>706016001</td>\n",
       "      <td>4</td>\n",
       "      <td>0.033197</td>\n",
       "    </tr>\n",
       "    <tr>\n",
       "      <th>4</th>\n",
       "      <td>96</td>\n",
       "      <td>372860002</td>\n",
       "      <td>5</td>\n",
       "      <td>0.013193</td>\n",
       "    </tr>\n",
       "    <tr>\n",
       "      <th>5</th>\n",
       "      <td>96</td>\n",
       "      <td>610776002</td>\n",
       "      <td>6</td>\n",
       "      <td>0.008318</td>\n",
       "    </tr>\n",
       "    <tr>\n",
       "      <th>6</th>\n",
       "      <td>96</td>\n",
       "      <td>877278002</td>\n",
       "      <td>7</td>\n",
       "      <td>0.025036</td>\n",
       "    </tr>\n",
       "    <tr>\n",
       "      <th>7</th>\n",
       "      <td>96</td>\n",
       "      <td>547780003</td>\n",
       "      <td>8</td>\n",
       "      <td>0.024814</td>\n",
       "    </tr>\n",
       "    <tr>\n",
       "      <th>8</th>\n",
       "      <td>96</td>\n",
       "      <td>817354001</td>\n",
       "      <td>9</td>\n",
       "      <td>0.021913</td>\n",
       "    </tr>\n",
       "    <tr>\n",
       "      <th>9</th>\n",
       "      <td>96</td>\n",
       "      <td>827968001</td>\n",
       "      <td>10</td>\n",
       "      <td>0.016436</td>\n",
       "    </tr>\n",
       "    <tr>\n",
       "      <th>10</th>\n",
       "      <td>96</td>\n",
       "      <td>866731003</td>\n",
       "      <td>11</td>\n",
       "      <td>0.024893</td>\n",
       "    </tr>\n",
       "    <tr>\n",
       "      <th>11</th>\n",
       "      <td>96</td>\n",
       "      <td>866383006</td>\n",
       "      <td>12</td>\n",
       "      <td>0.023195</td>\n",
       "    </tr>\n",
       "  </tbody>\n",
       "</table>\n",
       "</div>"
      ],
      "text/plain": [
       "    week  article_id  bestseller_rank     price\n",
       "0     96   760084003                1  0.025094\n",
       "1     96   866731001                2  0.024919\n",
       "2     96   600886001                3  0.022980\n",
       "3     96   706016001                4  0.033197\n",
       "4     96   372860002                5  0.013193\n",
       "5     96   610776002                6  0.008318\n",
       "6     96   877278002                7  0.025036\n",
       "7     96   547780003                8  0.024814\n",
       "8     96   817354001                9  0.021913\n",
       "9     96   827968001               10  0.016436\n",
       "10    96   866731003               11  0.024893\n",
       "11    96   866383006               12  0.023195"
      ]
     },
     "execution_count": 21,
     "metadata": {},
     "output_type": "execute_result"
    }
   ],
   "source": [
    "bestsellers_previous_week.pipe(lambda df: df[df['week']==96])"
   ]
  },
  {
   "cell_type": "code",
   "execution_count": 22,
   "id": "57f56369",
   "metadata": {
    "execution": {
     "iopub.execute_input": "2022-04-30T10:34:30.258781Z",
     "iopub.status.busy": "2022-04-30T10:34:30.258256Z",
     "iopub.status.idle": "2022-04-30T10:34:30.840243Z",
     "shell.execute_reply": "2022-04-30T10:34:30.839151Z"
    },
    "papermill": {
     "duration": 0.648919,
     "end_time": "2022-04-30T10:34:30.843057",
     "exception": false,
     "start_time": "2022-04-30T10:34:30.194138",
     "status": "completed"
    },
    "tags": []
   },
   "outputs": [],
   "source": [
    "unique_transactions = transactions \\\n",
    "    .groupby(['week', 'customer_id']) \\\n",
    "    .head(1) \\\n",
    "    .drop(columns=['article_id', 'price']) \\\n",
    "    .copy()"
   ]
  },
  {
   "cell_type": "code",
   "execution_count": 23,
   "id": "95c7d8e9",
   "metadata": {
    "execution": {
     "iopub.execute_input": "2022-04-30T10:34:30.975925Z",
     "iopub.status.busy": "2022-04-30T10:34:30.975629Z",
     "iopub.status.idle": "2022-04-30T10:34:30.989667Z",
     "shell.execute_reply": "2022-04-30T10:34:30.989044Z"
    },
    "papermill": {
     "duration": 0.082869,
     "end_time": "2022-04-30T10:34:30.991632",
     "exception": false,
     "start_time": "2022-04-30T10:34:30.908763",
     "status": "completed"
    },
    "tags": []
   },
   "outputs": [
    {
     "data": {
      "text/html": [
       "<div>\n",
       "<style scoped>\n",
       "    .dataframe tbody tr th:only-of-type {\n",
       "        vertical-align: middle;\n",
       "    }\n",
       "\n",
       "    .dataframe tbody tr th {\n",
       "        vertical-align: top;\n",
       "    }\n",
       "\n",
       "    .dataframe thead th {\n",
       "        text-align: right;\n",
       "    }\n",
       "</style>\n",
       "<table border=\"1\" class=\"dataframe\">\n",
       "  <thead>\n",
       "    <tr style=\"text-align: right;\">\n",
       "      <th></th>\n",
       "      <th>t_dat</th>\n",
       "      <th>customer_id</th>\n",
       "      <th>sales_channel_id</th>\n",
       "      <th>week</th>\n",
       "    </tr>\n",
       "  </thead>\n",
       "  <tbody>\n",
       "    <tr>\n",
       "      <th>29030503</th>\n",
       "      <td>2020-07-15</td>\n",
       "      <td>272412481300040</td>\n",
       "      <td>1</td>\n",
       "      <td>95</td>\n",
       "    </tr>\n",
       "    <tr>\n",
       "      <th>29064059</th>\n",
       "      <td>2020-07-15</td>\n",
       "      <td>1456826891333599</td>\n",
       "      <td>1</td>\n",
       "      <td>95</td>\n",
       "    </tr>\n",
       "    <tr>\n",
       "      <th>29067103</th>\n",
       "      <td>2020-07-15</td>\n",
       "      <td>2133687643102426</td>\n",
       "      <td>2</td>\n",
       "      <td>95</td>\n",
       "    </tr>\n",
       "    <tr>\n",
       "      <th>29027487</th>\n",
       "      <td>2020-07-15</td>\n",
       "      <td>6010692573790711</td>\n",
       "      <td>1</td>\n",
       "      <td>95</td>\n",
       "    </tr>\n",
       "    <tr>\n",
       "      <th>29046403</th>\n",
       "      <td>2020-07-15</td>\n",
       "      <td>6171059100114610</td>\n",
       "      <td>2</td>\n",
       "      <td>95</td>\n",
       "    </tr>\n",
       "    <tr>\n",
       "      <th>...</th>\n",
       "      <td>...</td>\n",
       "      <td>...</td>\n",
       "      <td>...</td>\n",
       "      <td>...</td>\n",
       "    </tr>\n",
       "    <tr>\n",
       "      <th>31760188</th>\n",
       "      <td>2020-09-22</td>\n",
       "      <td>18435221511488011015</td>\n",
       "      <td>1</td>\n",
       "      <td>104</td>\n",
       "    </tr>\n",
       "    <tr>\n",
       "      <th>31782234</th>\n",
       "      <td>2020-09-22</td>\n",
       "      <td>18436859303155335645</td>\n",
       "      <td>1</td>\n",
       "      <td>104</td>\n",
       "    </tr>\n",
       "    <tr>\n",
       "      <th>31787251</th>\n",
       "      <td>2020-09-22</td>\n",
       "      <td>18437941771381362708</td>\n",
       "      <td>2</td>\n",
       "      <td>104</td>\n",
       "    </tr>\n",
       "    <tr>\n",
       "      <th>31776022</th>\n",
       "      <td>2020-09-22</td>\n",
       "      <td>18438270306572912089</td>\n",
       "      <td>1</td>\n",
       "      <td>104</td>\n",
       "    </tr>\n",
       "    <tr>\n",
       "      <th>31779097</th>\n",
       "      <td>2020-09-22</td>\n",
       "      <td>18440902715633436014</td>\n",
       "      <td>1</td>\n",
       "      <td>104</td>\n",
       "    </tr>\n",
       "  </tbody>\n",
       "</table>\n",
       "<p>755710 rows × 4 columns</p>\n",
       "</div>"
      ],
      "text/plain": [
       "              t_dat           customer_id  sales_channel_id  week\n",
       "29030503 2020-07-15       272412481300040                 1    95\n",
       "29064059 2020-07-15      1456826891333599                 1    95\n",
       "29067103 2020-07-15      2133687643102426                 2    95\n",
       "29027487 2020-07-15      6010692573790711                 1    95\n",
       "29046403 2020-07-15      6171059100114610                 2    95\n",
       "...             ...                   ...               ...   ...\n",
       "31760188 2020-09-22  18435221511488011015                 1   104\n",
       "31782234 2020-09-22  18436859303155335645                 1   104\n",
       "31787251 2020-09-22  18437941771381362708                 2   104\n",
       "31776022 2020-09-22  18438270306572912089                 1   104\n",
       "31779097 2020-09-22  18440902715633436014                 1   104\n",
       "\n",
       "[755710 rows x 4 columns]"
      ]
     },
     "execution_count": 23,
     "metadata": {},
     "output_type": "execute_result"
    }
   ],
   "source": [
    "unique_transactions"
   ]
  },
  {
   "cell_type": "code",
   "execution_count": 24,
   "id": "7ee8e106",
   "metadata": {
    "execution": {
     "iopub.execute_input": "2022-04-30T10:34:31.123684Z",
     "iopub.status.busy": "2022-04-30T10:34:31.123173Z",
     "iopub.status.idle": "2022-04-30T10:34:31.394862Z",
     "shell.execute_reply": "2022-04-30T10:34:31.393991Z"
    },
    "papermill": {
     "duration": 0.338662,
     "end_time": "2022-04-30T10:34:31.396885",
     "exception": false,
     "start_time": "2022-04-30T10:34:31.058223",
     "status": "completed"
    },
    "tags": []
   },
   "outputs": [
    {
     "data": {
      "text/html": [
       "<div>\n",
       "<style scoped>\n",
       "    .dataframe tbody tr th:only-of-type {\n",
       "        vertical-align: middle;\n",
       "    }\n",
       "\n",
       "    .dataframe tbody tr th {\n",
       "        vertical-align: top;\n",
       "    }\n",
       "\n",
       "    .dataframe thead th {\n",
       "        text-align: right;\n",
       "    }\n",
       "</style>\n",
       "<table border=\"1\" class=\"dataframe\">\n",
       "  <thead>\n",
       "    <tr style=\"text-align: right;\">\n",
       "      <th></th>\n",
       "      <th>t_dat</th>\n",
       "      <th>customer_id</th>\n",
       "      <th>article_id</th>\n",
       "      <th>price</th>\n",
       "      <th>sales_channel_id</th>\n",
       "      <th>week</th>\n",
       "    </tr>\n",
       "  </thead>\n",
       "  <tbody>\n",
       "    <tr>\n",
       "      <th>29030503</th>\n",
       "      <td>2020-07-15</td>\n",
       "      <td>272412481300040</td>\n",
       "      <td>778064028</td>\n",
       "      <td>0.008458</td>\n",
       "      <td>1</td>\n",
       "      <td>95</td>\n",
       "    </tr>\n",
       "    <tr>\n",
       "      <th>29064059</th>\n",
       "      <td>2020-07-15</td>\n",
       "      <td>1456826891333599</td>\n",
       "      <td>888294001</td>\n",
       "      <td>0.013542</td>\n",
       "      <td>1</td>\n",
       "      <td>95</td>\n",
       "    </tr>\n",
       "    <tr>\n",
       "      <th>29067103</th>\n",
       "      <td>2020-07-15</td>\n",
       "      <td>2133687643102426</td>\n",
       "      <td>843642001</td>\n",
       "      <td>0.042356</td>\n",
       "      <td>2</td>\n",
       "      <td>95</td>\n",
       "    </tr>\n",
       "    <tr>\n",
       "      <th>29027487</th>\n",
       "      <td>2020-07-15</td>\n",
       "      <td>6010692573790711</td>\n",
       "      <td>857812010</td>\n",
       "      <td>0.039661</td>\n",
       "      <td>1</td>\n",
       "      <td>95</td>\n",
       "    </tr>\n",
       "    <tr>\n",
       "      <th>29046403</th>\n",
       "      <td>2020-07-15</td>\n",
       "      <td>6171059100114610</td>\n",
       "      <td>815447007</td>\n",
       "      <td>0.006763</td>\n",
       "      <td>2</td>\n",
       "      <td>95</td>\n",
       "    </tr>\n",
       "    <tr>\n",
       "      <th>...</th>\n",
       "      <td>...</td>\n",
       "      <td>...</td>\n",
       "      <td>...</td>\n",
       "      <td>...</td>\n",
       "      <td>...</td>\n",
       "      <td>...</td>\n",
       "    </tr>\n",
       "    <tr>\n",
       "      <th>31760188</th>\n",
       "      <td>2020-09-22</td>\n",
       "      <td>18435221511488011015</td>\n",
       "      <td>573085055</td>\n",
       "      <td>0.033881</td>\n",
       "      <td>1</td>\n",
       "      <td>104</td>\n",
       "    </tr>\n",
       "    <tr>\n",
       "      <th>31782234</th>\n",
       "      <td>2020-09-22</td>\n",
       "      <td>18436859303155335645</td>\n",
       "      <td>801447001</td>\n",
       "      <td>0.030492</td>\n",
       "      <td>1</td>\n",
       "      <td>104</td>\n",
       "    </tr>\n",
       "    <tr>\n",
       "      <th>31787251</th>\n",
       "      <td>2020-09-22</td>\n",
       "      <td>18437941771381362708</td>\n",
       "      <td>907188001</td>\n",
       "      <td>0.050831</td>\n",
       "      <td>2</td>\n",
       "      <td>104</td>\n",
       "    </tr>\n",
       "    <tr>\n",
       "      <th>31776022</th>\n",
       "      <td>2020-09-22</td>\n",
       "      <td>18438270306572912089</td>\n",
       "      <td>751471043</td>\n",
       "      <td>0.033881</td>\n",
       "      <td>1</td>\n",
       "      <td>104</td>\n",
       "    </tr>\n",
       "    <tr>\n",
       "      <th>31779097</th>\n",
       "      <td>2020-09-22</td>\n",
       "      <td>18440902715633436014</td>\n",
       "      <td>918894002</td>\n",
       "      <td>0.016932</td>\n",
       "      <td>1</td>\n",
       "      <td>104</td>\n",
       "    </tr>\n",
       "  </tbody>\n",
       "</table>\n",
       "<p>755710 rows × 6 columns</p>\n",
       "</div>"
      ],
      "text/plain": [
       "              t_dat           customer_id  article_id     price  \\\n",
       "29030503 2020-07-15       272412481300040   778064028  0.008458   \n",
       "29064059 2020-07-15      1456826891333599   888294001  0.013542   \n",
       "29067103 2020-07-15      2133687643102426   843642001  0.042356   \n",
       "29027487 2020-07-15      6010692573790711   857812010  0.039661   \n",
       "29046403 2020-07-15      6171059100114610   815447007  0.006763   \n",
       "...             ...                   ...         ...       ...   \n",
       "31760188 2020-09-22  18435221511488011015   573085055  0.033881   \n",
       "31782234 2020-09-22  18436859303155335645   801447001  0.030492   \n",
       "31787251 2020-09-22  18437941771381362708   907188001  0.050831   \n",
       "31776022 2020-09-22  18438270306572912089   751471043  0.033881   \n",
       "31779097 2020-09-22  18440902715633436014   918894002  0.016932   \n",
       "\n",
       "          sales_channel_id  week  \n",
       "29030503                 1    95  \n",
       "29064059                 1    95  \n",
       "29067103                 2    95  \n",
       "29027487                 1    95  \n",
       "29046403                 2    95  \n",
       "...                    ...   ...  \n",
       "31760188                 1   104  \n",
       "31782234                 1   104  \n",
       "31787251                 2   104  \n",
       "31776022                 1   104  \n",
       "31779097                 1   104  \n",
       "\n",
       "[755710 rows x 6 columns]"
      ]
     },
     "execution_count": 24,
     "metadata": {},
     "output_type": "execute_result"
    }
   ],
   "source": [
    "transactions.drop_duplicates(['week', 'customer_id'])"
   ]
  },
  {
   "cell_type": "code",
   "execution_count": 25,
   "id": "7b957de9",
   "metadata": {
    "execution": {
     "iopub.execute_input": "2022-04-30T10:34:31.528848Z",
     "iopub.status.busy": "2022-04-30T10:34:31.528504Z",
     "iopub.status.idle": "2022-04-30T10:34:32.133958Z",
     "shell.execute_reply": "2022-04-30T10:34:32.133019Z"
    },
    "papermill": {
     "duration": 0.673802,
     "end_time": "2022-04-30T10:34:32.136484",
     "exception": false,
     "start_time": "2022-04-30T10:34:31.462682",
     "status": "completed"
    },
    "tags": []
   },
   "outputs": [],
   "source": [
    "candidates_bestsellers = pd.merge(\n",
    "    unique_transactions,\n",
    "    bestsellers_previous_week,\n",
    "    on='week',\n",
    ")"
   ]
  },
  {
   "cell_type": "code",
   "execution_count": 26,
   "id": "ea8bf0ca",
   "metadata": {
    "execution": {
     "iopub.execute_input": "2022-04-30T10:34:32.267977Z",
     "iopub.status.busy": "2022-04-30T10:34:32.267504Z",
     "iopub.status.idle": "2022-04-30T10:34:32.360043Z",
     "shell.execute_reply": "2022-04-30T10:34:32.359418Z"
    },
    "papermill": {
     "duration": 0.16102,
     "end_time": "2022-04-30T10:34:32.362283",
     "exception": false,
     "start_time": "2022-04-30T10:34:32.201263",
     "status": "completed"
    },
    "tags": []
   },
   "outputs": [],
   "source": [
    "test_set_transactions = unique_transactions.drop_duplicates('customer_id').reset_index(drop=True)\n",
    "test_set_transactions.week = test_week"
   ]
  },
  {
   "cell_type": "code",
   "execution_count": 27,
   "id": "39357b31",
   "metadata": {
    "execution": {
     "iopub.execute_input": "2022-04-30T10:34:32.494172Z",
     "iopub.status.busy": "2022-04-30T10:34:32.493190Z",
     "iopub.status.idle": "2022-04-30T10:34:32.507266Z",
     "shell.execute_reply": "2022-04-30T10:34:32.506435Z"
    },
    "papermill": {
     "duration": 0.082518,
     "end_time": "2022-04-30T10:34:32.509615",
     "exception": false,
     "start_time": "2022-04-30T10:34:32.427097",
     "status": "completed"
    },
    "tags": []
   },
   "outputs": [
    {
     "data": {
      "text/html": [
       "<div>\n",
       "<style scoped>\n",
       "    .dataframe tbody tr th:only-of-type {\n",
       "        vertical-align: middle;\n",
       "    }\n",
       "\n",
       "    .dataframe tbody tr th {\n",
       "        vertical-align: top;\n",
       "    }\n",
       "\n",
       "    .dataframe thead th {\n",
       "        text-align: right;\n",
       "    }\n",
       "</style>\n",
       "<table border=\"1\" class=\"dataframe\">\n",
       "  <thead>\n",
       "    <tr style=\"text-align: right;\">\n",
       "      <th></th>\n",
       "      <th>t_dat</th>\n",
       "      <th>customer_id</th>\n",
       "      <th>sales_channel_id</th>\n",
       "      <th>week</th>\n",
       "    </tr>\n",
       "  </thead>\n",
       "  <tbody>\n",
       "    <tr>\n",
       "      <th>0</th>\n",
       "      <td>2020-07-15</td>\n",
       "      <td>272412481300040</td>\n",
       "      <td>1</td>\n",
       "      <td>105</td>\n",
       "    </tr>\n",
       "    <tr>\n",
       "      <th>1</th>\n",
       "      <td>2020-07-15</td>\n",
       "      <td>1456826891333599</td>\n",
       "      <td>1</td>\n",
       "      <td>105</td>\n",
       "    </tr>\n",
       "    <tr>\n",
       "      <th>2</th>\n",
       "      <td>2020-07-15</td>\n",
       "      <td>2133687643102426</td>\n",
       "      <td>2</td>\n",
       "      <td>105</td>\n",
       "    </tr>\n",
       "    <tr>\n",
       "      <th>3</th>\n",
       "      <td>2020-07-15</td>\n",
       "      <td>6010692573790711</td>\n",
       "      <td>1</td>\n",
       "      <td>105</td>\n",
       "    </tr>\n",
       "    <tr>\n",
       "      <th>4</th>\n",
       "      <td>2020-07-15</td>\n",
       "      <td>6171059100114610</td>\n",
       "      <td>2</td>\n",
       "      <td>105</td>\n",
       "    </tr>\n",
       "    <tr>\n",
       "      <th>...</th>\n",
       "      <td>...</td>\n",
       "      <td>...</td>\n",
       "      <td>...</td>\n",
       "      <td>...</td>\n",
       "    </tr>\n",
       "    <tr>\n",
       "      <th>437360</th>\n",
       "      <td>2020-09-22</td>\n",
       "      <td>18410229429441241008</td>\n",
       "      <td>2</td>\n",
       "      <td>105</td>\n",
       "    </tr>\n",
       "    <tr>\n",
       "      <th>437361</th>\n",
       "      <td>2020-09-22</td>\n",
       "      <td>18417769707947924979</td>\n",
       "      <td>2</td>\n",
       "      <td>105</td>\n",
       "    </tr>\n",
       "    <tr>\n",
       "      <th>437362</th>\n",
       "      <td>2020-09-22</td>\n",
       "      <td>18418054986721795659</td>\n",
       "      <td>2</td>\n",
       "      <td>105</td>\n",
       "    </tr>\n",
       "    <tr>\n",
       "      <th>437363</th>\n",
       "      <td>2020-09-22</td>\n",
       "      <td>18421175435799911749</td>\n",
       "      <td>2</td>\n",
       "      <td>105</td>\n",
       "    </tr>\n",
       "    <tr>\n",
       "      <th>437364</th>\n",
       "      <td>2020-09-22</td>\n",
       "      <td>18438270306572912089</td>\n",
       "      <td>1</td>\n",
       "      <td>105</td>\n",
       "    </tr>\n",
       "  </tbody>\n",
       "</table>\n",
       "<p>437365 rows × 4 columns</p>\n",
       "</div>"
      ],
      "text/plain": [
       "            t_dat           customer_id  sales_channel_id  week\n",
       "0      2020-07-15       272412481300040                 1   105\n",
       "1      2020-07-15      1456826891333599                 1   105\n",
       "2      2020-07-15      2133687643102426                 2   105\n",
       "3      2020-07-15      6010692573790711                 1   105\n",
       "4      2020-07-15      6171059100114610                 2   105\n",
       "...           ...                   ...               ...   ...\n",
       "437360 2020-09-22  18410229429441241008                 2   105\n",
       "437361 2020-09-22  18417769707947924979                 2   105\n",
       "437362 2020-09-22  18418054986721795659                 2   105\n",
       "437363 2020-09-22  18421175435799911749                 2   105\n",
       "437364 2020-09-22  18438270306572912089                 1   105\n",
       "\n",
       "[437365 rows x 4 columns]"
      ]
     },
     "execution_count": 27,
     "metadata": {},
     "output_type": "execute_result"
    }
   ],
   "source": [
    "test_set_transactions"
   ]
  },
  {
   "cell_type": "code",
   "execution_count": 28,
   "id": "43e59c59",
   "metadata": {
    "execution": {
     "iopub.execute_input": "2022-04-30T10:34:32.646140Z",
     "iopub.status.busy": "2022-04-30T10:34:32.645816Z",
     "iopub.status.idle": "2022-04-30T10:34:33.075272Z",
     "shell.execute_reply": "2022-04-30T10:34:33.074355Z"
    },
    "papermill": {
     "duration": 0.499389,
     "end_time": "2022-04-30T10:34:33.077838",
     "exception": false,
     "start_time": "2022-04-30T10:34:32.578449",
     "status": "completed"
    },
    "tags": []
   },
   "outputs": [],
   "source": [
    "candidates_bestsellers_test_week = pd.merge(\n",
    "    test_set_transactions,\n",
    "    bestsellers_previous_week,\n",
    "    on='week'\n",
    ")"
   ]
  },
  {
   "cell_type": "code",
   "execution_count": 29,
   "id": "0e1cc4ff",
   "metadata": {
    "execution": {
     "iopub.execute_input": "2022-04-30T10:34:33.210570Z",
     "iopub.status.busy": "2022-04-30T10:34:33.209983Z",
     "iopub.status.idle": "2022-04-30T10:34:34.023279Z",
     "shell.execute_reply": "2022-04-30T10:34:34.022269Z"
    },
    "papermill": {
     "duration": 0.882386,
     "end_time": "2022-04-30T10:34:34.025611",
     "exception": false,
     "start_time": "2022-04-30T10:34:33.143225",
     "status": "completed"
    },
    "tags": []
   },
   "outputs": [],
   "source": [
    "candidates_bestsellers = pd.concat([candidates_bestsellers, candidates_bestsellers_test_week])\n",
    "candidates_bestsellers.drop(columns='bestseller_rank', inplace=True)"
   ]
  },
  {
   "cell_type": "code",
   "execution_count": 30,
   "id": "2be620bb",
   "metadata": {
    "execution": {
     "iopub.execute_input": "2022-04-30T10:34:34.160596Z",
     "iopub.status.busy": "2022-04-30T10:34:34.159570Z",
     "iopub.status.idle": "2022-04-30T10:34:34.174902Z",
     "shell.execute_reply": "2022-04-30T10:34:34.174131Z"
    },
    "papermill": {
     "duration": 0.083645,
     "end_time": "2022-04-30T10:34:34.176775",
     "exception": false,
     "start_time": "2022-04-30T10:34:34.093130",
     "status": "completed"
    },
    "tags": []
   },
   "outputs": [
    {
     "data": {
      "text/html": [
       "<div>\n",
       "<style scoped>\n",
       "    .dataframe tbody tr th:only-of-type {\n",
       "        vertical-align: middle;\n",
       "    }\n",
       "\n",
       "    .dataframe tbody tr th {\n",
       "        vertical-align: top;\n",
       "    }\n",
       "\n",
       "    .dataframe thead th {\n",
       "        text-align: right;\n",
       "    }\n",
       "</style>\n",
       "<table border=\"1\" class=\"dataframe\">\n",
       "  <thead>\n",
       "    <tr style=\"text-align: right;\">\n",
       "      <th></th>\n",
       "      <th>t_dat</th>\n",
       "      <th>customer_id</th>\n",
       "      <th>sales_channel_id</th>\n",
       "      <th>week</th>\n",
       "      <th>article_id</th>\n",
       "      <th>price</th>\n",
       "    </tr>\n",
       "  </thead>\n",
       "  <tbody>\n",
       "    <tr>\n",
       "      <th>0</th>\n",
       "      <td>2020-07-22</td>\n",
       "      <td>200292573348128</td>\n",
       "      <td>2</td>\n",
       "      <td>96</td>\n",
       "      <td>760084003</td>\n",
       "      <td>0.025094</td>\n",
       "    </tr>\n",
       "    <tr>\n",
       "      <th>1</th>\n",
       "      <td>2020-07-22</td>\n",
       "      <td>200292573348128</td>\n",
       "      <td>2</td>\n",
       "      <td>96</td>\n",
       "      <td>866731001</td>\n",
       "      <td>0.024919</td>\n",
       "    </tr>\n",
       "    <tr>\n",
       "      <th>2</th>\n",
       "      <td>2020-07-22</td>\n",
       "      <td>200292573348128</td>\n",
       "      <td>2</td>\n",
       "      <td>96</td>\n",
       "      <td>600886001</td>\n",
       "      <td>0.022980</td>\n",
       "    </tr>\n",
       "    <tr>\n",
       "      <th>3</th>\n",
       "      <td>2020-07-22</td>\n",
       "      <td>200292573348128</td>\n",
       "      <td>2</td>\n",
       "      <td>96</td>\n",
       "      <td>706016001</td>\n",
       "      <td>0.033197</td>\n",
       "    </tr>\n",
       "    <tr>\n",
       "      <th>4</th>\n",
       "      <td>2020-07-22</td>\n",
       "      <td>200292573348128</td>\n",
       "      <td>2</td>\n",
       "      <td>96</td>\n",
       "      <td>372860002</td>\n",
       "      <td>0.013193</td>\n",
       "    </tr>\n",
       "    <tr>\n",
       "      <th>...</th>\n",
       "      <td>...</td>\n",
       "      <td>...</td>\n",
       "      <td>...</td>\n",
       "      <td>...</td>\n",
       "      <td>...</td>\n",
       "      <td>...</td>\n",
       "    </tr>\n",
       "    <tr>\n",
       "      <th>5248375</th>\n",
       "      <td>2020-09-22</td>\n",
       "      <td>18438270306572912089</td>\n",
       "      <td>1</td>\n",
       "      <td>105</td>\n",
       "      <td>915529003</td>\n",
       "      <td>0.033439</td>\n",
       "    </tr>\n",
       "    <tr>\n",
       "      <th>5248376</th>\n",
       "      <td>2020-09-22</td>\n",
       "      <td>18438270306572912089</td>\n",
       "      <td>1</td>\n",
       "      <td>105</td>\n",
       "      <td>915529005</td>\n",
       "      <td>0.033417</td>\n",
       "    </tr>\n",
       "    <tr>\n",
       "      <th>5248377</th>\n",
       "      <td>2020-09-22</td>\n",
       "      <td>18438270306572912089</td>\n",
       "      <td>1</td>\n",
       "      <td>105</td>\n",
       "      <td>448509014</td>\n",
       "      <td>0.041630</td>\n",
       "    </tr>\n",
       "    <tr>\n",
       "      <th>5248378</th>\n",
       "      <td>2020-09-22</td>\n",
       "      <td>18438270306572912089</td>\n",
       "      <td>1</td>\n",
       "      <td>105</td>\n",
       "      <td>762846027</td>\n",
       "      <td>0.025005</td>\n",
       "    </tr>\n",
       "    <tr>\n",
       "      <th>5248379</th>\n",
       "      <td>2020-09-22</td>\n",
       "      <td>18438270306572912089</td>\n",
       "      <td>1</td>\n",
       "      <td>105</td>\n",
       "      <td>714790020</td>\n",
       "      <td>0.049951</td>\n",
       "    </tr>\n",
       "  </tbody>\n",
       "</table>\n",
       "<p>13389576 rows × 6 columns</p>\n",
       "</div>"
      ],
      "text/plain": [
       "             t_dat           customer_id  sales_channel_id  week  article_id  \\\n",
       "0       2020-07-22       200292573348128                 2    96   760084003   \n",
       "1       2020-07-22       200292573348128                 2    96   866731001   \n",
       "2       2020-07-22       200292573348128                 2    96   600886001   \n",
       "3       2020-07-22       200292573348128                 2    96   706016001   \n",
       "4       2020-07-22       200292573348128                 2    96   372860002   \n",
       "...            ...                   ...               ...   ...         ...   \n",
       "5248375 2020-09-22  18438270306572912089                 1   105   915529003   \n",
       "5248376 2020-09-22  18438270306572912089                 1   105   915529005   \n",
       "5248377 2020-09-22  18438270306572912089                 1   105   448509014   \n",
       "5248378 2020-09-22  18438270306572912089                 1   105   762846027   \n",
       "5248379 2020-09-22  18438270306572912089                 1   105   714790020   \n",
       "\n",
       "            price  \n",
       "0        0.025094  \n",
       "1        0.024919  \n",
       "2        0.022980  \n",
       "3        0.033197  \n",
       "4        0.013193  \n",
       "...           ...  \n",
       "5248375  0.033439  \n",
       "5248376  0.033417  \n",
       "5248377  0.041630  \n",
       "5248378  0.025005  \n",
       "5248379  0.049951  \n",
       "\n",
       "[13389576 rows x 6 columns]"
      ]
     },
     "execution_count": 30,
     "metadata": {},
     "output_type": "execute_result"
    }
   ],
   "source": [
    "candidates_bestsellers"
   ]
  },
  {
   "cell_type": "markdown",
   "id": "6db8e147",
   "metadata": {
    "papermill": {
     "duration": 0.065261,
     "end_time": "2022-04-30T10:34:34.307670",
     "exception": false,
     "start_time": "2022-04-30T10:34:34.242409",
     "status": "completed"
    },
    "tags": []
   },
   "source": [
    "# Combining transactions and candidates / negative examples"
   ]
  },
  {
   "cell_type": "code",
   "execution_count": 31,
   "id": "5147c355",
   "metadata": {
    "execution": {
     "iopub.execute_input": "2022-04-30T10:34:34.440654Z",
     "iopub.status.busy": "2022-04-30T10:34:34.440191Z",
     "iopub.status.idle": "2022-04-30T10:34:34.451086Z",
     "shell.execute_reply": "2022-04-30T10:34:34.450210Z"
    },
    "papermill": {
     "duration": 0.079988,
     "end_time": "2022-04-30T10:34:34.453326",
     "exception": false,
     "start_time": "2022-04-30T10:34:34.373338",
     "status": "completed"
    },
    "tags": []
   },
   "outputs": [],
   "source": [
    "transactions['purchased'] = 1"
   ]
  },
  {
   "cell_type": "code",
   "execution_count": 32,
   "id": "a64ab12b",
   "metadata": {
    "execution": {
     "iopub.execute_input": "2022-04-30T10:34:34.589167Z",
     "iopub.status.busy": "2022-04-30T10:34:34.588477Z",
     "iopub.status.idle": "2022-04-30T10:34:35.132886Z",
     "shell.execute_reply": "2022-04-30T10:34:35.131854Z"
    },
    "papermill": {
     "duration": 0.615396,
     "end_time": "2022-04-30T10:34:35.135531",
     "exception": false,
     "start_time": "2022-04-30T10:34:34.520135",
     "status": "completed"
    },
    "tags": []
   },
   "outputs": [],
   "source": [
    "data = pd.concat([transactions, candidates_last_purchase, candidates_bestsellers])\n",
    "data.purchased.fillna(0, inplace=True)"
   ]
  },
  {
   "cell_type": "code",
   "execution_count": 33,
   "id": "871870f7",
   "metadata": {
    "execution": {
     "iopub.execute_input": "2022-04-30T10:34:35.271453Z",
     "iopub.status.busy": "2022-04-30T10:34:35.271143Z",
     "iopub.status.idle": "2022-04-30T10:34:35.288453Z",
     "shell.execute_reply": "2022-04-30T10:34:35.287888Z"
    },
    "papermill": {
     "duration": 0.08819,
     "end_time": "2022-04-30T10:34:35.290414",
     "exception": false,
     "start_time": "2022-04-30T10:34:35.202224",
     "status": "completed"
    },
    "tags": []
   },
   "outputs": [
    {
     "data": {
      "text/html": [
       "<div>\n",
       "<style scoped>\n",
       "    .dataframe tbody tr th:only-of-type {\n",
       "        vertical-align: middle;\n",
       "    }\n",
       "\n",
       "    .dataframe tbody tr th {\n",
       "        vertical-align: top;\n",
       "    }\n",
       "\n",
       "    .dataframe thead th {\n",
       "        text-align: right;\n",
       "    }\n",
       "</style>\n",
       "<table border=\"1\" class=\"dataframe\">\n",
       "  <thead>\n",
       "    <tr style=\"text-align: right;\">\n",
       "      <th></th>\n",
       "      <th>t_dat</th>\n",
       "      <th>customer_id</th>\n",
       "      <th>article_id</th>\n",
       "      <th>price</th>\n",
       "      <th>sales_channel_id</th>\n",
       "      <th>week</th>\n",
       "      <th>purchased</th>\n",
       "    </tr>\n",
       "  </thead>\n",
       "  <tbody>\n",
       "    <tr>\n",
       "      <th>29030503</th>\n",
       "      <td>2020-07-15</td>\n",
       "      <td>272412481300040</td>\n",
       "      <td>778064028</td>\n",
       "      <td>0.008458</td>\n",
       "      <td>1</td>\n",
       "      <td>95</td>\n",
       "      <td>1.0</td>\n",
       "    </tr>\n",
       "    <tr>\n",
       "      <th>29030504</th>\n",
       "      <td>2020-07-15</td>\n",
       "      <td>272412481300040</td>\n",
       "      <td>816592008</td>\n",
       "      <td>0.016932</td>\n",
       "      <td>1</td>\n",
       "      <td>95</td>\n",
       "      <td>1.0</td>\n",
       "    </tr>\n",
       "    <tr>\n",
       "      <th>29030505</th>\n",
       "      <td>2020-07-15</td>\n",
       "      <td>272412481300040</td>\n",
       "      <td>621381021</td>\n",
       "      <td>0.033881</td>\n",
       "      <td>1</td>\n",
       "      <td>95</td>\n",
       "      <td>1.0</td>\n",
       "    </tr>\n",
       "    <tr>\n",
       "      <th>29030506</th>\n",
       "      <td>2020-07-15</td>\n",
       "      <td>272412481300040</td>\n",
       "      <td>817477003</td>\n",
       "      <td>0.025407</td>\n",
       "      <td>1</td>\n",
       "      <td>95</td>\n",
       "      <td>1.0</td>\n",
       "    </tr>\n",
       "    <tr>\n",
       "      <th>29030507</th>\n",
       "      <td>2020-07-15</td>\n",
       "      <td>272412481300040</td>\n",
       "      <td>899088002</td>\n",
       "      <td>0.025407</td>\n",
       "      <td>1</td>\n",
       "      <td>95</td>\n",
       "      <td>1.0</td>\n",
       "    </tr>\n",
       "    <tr>\n",
       "      <th>...</th>\n",
       "      <td>...</td>\n",
       "      <td>...</td>\n",
       "      <td>...</td>\n",
       "      <td>...</td>\n",
       "      <td>...</td>\n",
       "      <td>...</td>\n",
       "      <td>...</td>\n",
       "    </tr>\n",
       "    <tr>\n",
       "      <th>5248375</th>\n",
       "      <td>2020-09-22</td>\n",
       "      <td>18438270306572912089</td>\n",
       "      <td>915529003</td>\n",
       "      <td>0.033439</td>\n",
       "      <td>1</td>\n",
       "      <td>105</td>\n",
       "      <td>0.0</td>\n",
       "    </tr>\n",
       "    <tr>\n",
       "      <th>5248376</th>\n",
       "      <td>2020-09-22</td>\n",
       "      <td>18438270306572912089</td>\n",
       "      <td>915529005</td>\n",
       "      <td>0.033417</td>\n",
       "      <td>1</td>\n",
       "      <td>105</td>\n",
       "      <td>0.0</td>\n",
       "    </tr>\n",
       "    <tr>\n",
       "      <th>5248377</th>\n",
       "      <td>2020-09-22</td>\n",
       "      <td>18438270306572912089</td>\n",
       "      <td>448509014</td>\n",
       "      <td>0.041630</td>\n",
       "      <td>1</td>\n",
       "      <td>105</td>\n",
       "      <td>0.0</td>\n",
       "    </tr>\n",
       "    <tr>\n",
       "      <th>5248378</th>\n",
       "      <td>2020-09-22</td>\n",
       "      <td>18438270306572912089</td>\n",
       "      <td>762846027</td>\n",
       "      <td>0.025005</td>\n",
       "      <td>1</td>\n",
       "      <td>105</td>\n",
       "      <td>0.0</td>\n",
       "    </tr>\n",
       "    <tr>\n",
       "      <th>5248379</th>\n",
       "      <td>2020-09-22</td>\n",
       "      <td>18438270306572912089</td>\n",
       "      <td>714790020</td>\n",
       "      <td>0.049951</td>\n",
       "      <td>1</td>\n",
       "      <td>105</td>\n",
       "      <td>0.0</td>\n",
       "    </tr>\n",
       "  </tbody>\n",
       "</table>\n",
       "<p>18915320 rows × 7 columns</p>\n",
       "</div>"
      ],
      "text/plain": [
       "              t_dat           customer_id  article_id     price  \\\n",
       "29030503 2020-07-15       272412481300040   778064028  0.008458   \n",
       "29030504 2020-07-15       272412481300040   816592008  0.016932   \n",
       "29030505 2020-07-15       272412481300040   621381021  0.033881   \n",
       "29030506 2020-07-15       272412481300040   817477003  0.025407   \n",
       "29030507 2020-07-15       272412481300040   899088002  0.025407   \n",
       "...             ...                   ...         ...       ...   \n",
       "5248375  2020-09-22  18438270306572912089   915529003  0.033439   \n",
       "5248376  2020-09-22  18438270306572912089   915529005  0.033417   \n",
       "5248377  2020-09-22  18438270306572912089   448509014  0.041630   \n",
       "5248378  2020-09-22  18438270306572912089   762846027  0.025005   \n",
       "5248379  2020-09-22  18438270306572912089   714790020  0.049951   \n",
       "\n",
       "          sales_channel_id  week  purchased  \n",
       "29030503                 1    95        1.0  \n",
       "29030504                 1    95        1.0  \n",
       "29030505                 1    95        1.0  \n",
       "29030506                 1    95        1.0  \n",
       "29030507                 1    95        1.0  \n",
       "...                    ...   ...        ...  \n",
       "5248375                  1   105        0.0  \n",
       "5248376                  1   105        0.0  \n",
       "5248377                  1   105        0.0  \n",
       "5248378                  1   105        0.0  \n",
       "5248379                  1   105        0.0  \n",
       "\n",
       "[18915320 rows x 7 columns]"
      ]
     },
     "execution_count": 33,
     "metadata": {},
     "output_type": "execute_result"
    }
   ],
   "source": [
    "data"
   ]
  },
  {
   "cell_type": "code",
   "execution_count": 34,
   "id": "6cc6c1c4",
   "metadata": {
    "execution": {
     "iopub.execute_input": "2022-04-30T10:34:35.427462Z",
     "iopub.status.busy": "2022-04-30T10:34:35.426990Z",
     "iopub.status.idle": "2022-04-30T10:34:41.328014Z",
     "shell.execute_reply": "2022-04-30T10:34:41.327129Z"
    },
    "papermill": {
     "duration": 5.972605,
     "end_time": "2022-04-30T10:34:41.330534",
     "exception": false,
     "start_time": "2022-04-30T10:34:35.357929",
     "status": "completed"
    },
    "tags": []
   },
   "outputs": [],
   "source": [
    "data.drop_duplicates(['customer_id', 'article_id', 'week'], inplace=True)"
   ]
  },
  {
   "cell_type": "code",
   "execution_count": 35,
   "id": "8d08c550",
   "metadata": {
    "execution": {
     "iopub.execute_input": "2022-04-30T10:34:41.469845Z",
     "iopub.status.busy": "2022-04-30T10:34:41.468973Z",
     "iopub.status.idle": "2022-04-30T10:34:41.525507Z",
     "shell.execute_reply": "2022-04-30T10:34:41.524827Z"
    },
    "papermill": {
     "duration": 0.128346,
     "end_time": "2022-04-30T10:34:41.527579",
     "exception": false,
     "start_time": "2022-04-30T10:34:41.399233",
     "status": "completed"
    },
    "tags": []
   },
   "outputs": [
    {
     "data": {
      "text/plain": [
       "0.13607582749165664"
      ]
     },
     "execution_count": 35,
     "metadata": {},
     "output_type": "execute_result"
    }
   ],
   "source": [
    "data.purchased.mean()"
   ]
  },
  {
   "cell_type": "markdown",
   "id": "a724f83c",
   "metadata": {
    "papermill": {
     "duration": 0.067291,
     "end_time": "2022-04-30T10:34:41.662776",
     "exception": false,
     "start_time": "2022-04-30T10:34:41.595485",
     "status": "completed"
    },
    "tags": []
   },
   "source": [
    "### Add bestseller information"
   ]
  },
  {
   "cell_type": "code",
   "execution_count": 36,
   "id": "78050c0b",
   "metadata": {
    "execution": {
     "iopub.execute_input": "2022-04-30T10:34:41.800578Z",
     "iopub.status.busy": "2022-04-30T10:34:41.799853Z",
     "iopub.status.idle": "2022-04-30T10:34:45.235871Z",
     "shell.execute_reply": "2022-04-30T10:34:45.235017Z"
    },
    "papermill": {
     "duration": 3.506275,
     "end_time": "2022-04-30T10:34:45.238303",
     "exception": false,
     "start_time": "2022-04-30T10:34:41.732028",
     "status": "completed"
    },
    "tags": []
   },
   "outputs": [],
   "source": [
    "data = pd.merge(\n",
    "    data,\n",
    "    bestsellers_previous_week[['week', 'article_id', 'bestseller_rank']],\n",
    "    on=['week', 'article_id'],\n",
    "    how='left'\n",
    ")"
   ]
  },
  {
   "cell_type": "code",
   "execution_count": 37,
   "id": "4f609462",
   "metadata": {
    "execution": {
     "iopub.execute_input": "2022-04-30T10:34:45.374833Z",
     "iopub.status.busy": "2022-04-30T10:34:45.373897Z",
     "iopub.status.idle": "2022-04-30T10:34:47.000048Z",
     "shell.execute_reply": "2022-04-30T10:34:46.999436Z"
    },
    "papermill": {
     "duration": 1.695947,
     "end_time": "2022-04-30T10:34:47.002432",
     "exception": false,
     "start_time": "2022-04-30T10:34:45.306485",
     "status": "completed"
    },
    "tags": []
   },
   "outputs": [],
   "source": [
    "data = data[data.week != data.week.min()]\n",
    "data.bestseller_rank.fillna(999, inplace=True)"
   ]
  },
  {
   "cell_type": "code",
   "execution_count": 38,
   "id": "edf4969a",
   "metadata": {
    "execution": {
     "iopub.execute_input": "2022-04-30T10:34:47.139430Z",
     "iopub.status.busy": "2022-04-30T10:34:47.138994Z",
     "iopub.status.idle": "2022-04-30T10:35:06.390094Z",
     "shell.execute_reply": "2022-04-30T10:35:06.389418Z"
    },
    "papermill": {
     "duration": 19.321284,
     "end_time": "2022-04-30T10:35:06.392504",
     "exception": false,
     "start_time": "2022-04-30T10:34:47.071220",
     "status": "completed"
    },
    "tags": []
   },
   "outputs": [],
   "source": [
    "data = pd.merge(data, articles, on='article_id', how='left')\n",
    "data = pd.merge(data, customers, on='customer_id', how='left')"
   ]
  },
  {
   "cell_type": "code",
   "execution_count": 39,
   "id": "fdd7ba4c",
   "metadata": {
    "execution": {
     "iopub.execute_input": "2022-04-30T10:35:06.528543Z",
     "iopub.status.busy": "2022-04-30T10:35:06.528106Z",
     "iopub.status.idle": "2022-04-30T10:35:12.333795Z",
     "shell.execute_reply": "2022-04-30T10:35:12.333020Z"
    },
    "papermill": {
     "duration": 5.876214,
     "end_time": "2022-04-30T10:35:12.336232",
     "exception": false,
     "start_time": "2022-04-30T10:35:06.460018",
     "status": "completed"
    },
    "tags": []
   },
   "outputs": [],
   "source": [
    "data.sort_values(['week', 'customer_id'], inplace=True)\n",
    "data.reset_index(drop=True, inplace=True)"
   ]
  },
  {
   "cell_type": "code",
   "execution_count": 40,
   "id": "c34fbaf9",
   "metadata": {
    "execution": {
     "iopub.execute_input": "2022-04-30T10:35:12.474235Z",
     "iopub.status.busy": "2022-04-30T10:35:12.473382Z",
     "iopub.status.idle": "2022-04-30T10:35:18.692260Z",
     "shell.execute_reply": "2022-04-30T10:35:18.691399Z"
    },
    "papermill": {
     "duration": 6.289089,
     "end_time": "2022-04-30T10:35:18.694371",
     "exception": false,
     "start_time": "2022-04-30T10:35:12.405282",
     "status": "completed"
    },
    "tags": []
   },
   "outputs": [],
   "source": [
    "train = data[data.week != test_week]\n",
    "test = data[data.week==test_week].drop_duplicates(['customer_id', 'article_id', 'sales_channel_id']).copy()"
   ]
  },
  {
   "cell_type": "code",
   "execution_count": 41,
   "id": "0216b7f4",
   "metadata": {
    "execution": {
     "iopub.execute_input": "2022-04-30T10:35:18.830078Z",
     "iopub.status.busy": "2022-04-30T10:35:18.829593Z",
     "iopub.status.idle": "2022-04-30T10:35:19.725631Z",
     "shell.execute_reply": "2022-04-30T10:35:19.724915Z"
    },
    "papermill": {
     "duration": 0.966492,
     "end_time": "2022-04-30T10:35:19.727812",
     "exception": false,
     "start_time": "2022-04-30T10:35:18.761320",
     "status": "completed"
    },
    "tags": []
   },
   "outputs": [],
   "source": [
    "train_baskets = train.groupby(['week', 'customer_id'])['article_id'].count().values"
   ]
  },
  {
   "cell_type": "code",
   "execution_count": 42,
   "id": "133d538a",
   "metadata": {
    "execution": {
     "iopub.execute_input": "2022-04-30T10:35:19.862685Z",
     "iopub.status.busy": "2022-04-30T10:35:19.861977Z",
     "iopub.status.idle": "2022-04-30T10:35:19.866305Z",
     "shell.execute_reply": "2022-04-30T10:35:19.865764Z"
    },
    "papermill": {
     "duration": 0.073537,
     "end_time": "2022-04-30T10:35:19.868036",
     "exception": false,
     "start_time": "2022-04-30T10:35:19.794499",
     "status": "completed"
    },
    "tags": []
   },
   "outputs": [],
   "source": [
    "columns_to_use = ['article_id', 'product_type_no', 'graphical_appearance_no', 'colour_group_code', 'perceived_colour_value_id',\n",
    "'perceived_colour_master_id', 'department_no', 'index_code',\n",
    "'index_group_no', 'section_no', 'garment_group_no', 'FN', 'Active',\n",
    "'club_member_status', 'fashion_news_frequency', 'age', 'postal_code', 'bestseller_rank']"
   ]
  },
  {
   "cell_type": "code",
   "execution_count": 43,
   "id": "e638de6c",
   "metadata": {
    "execution": {
     "iopub.execute_input": "2022-04-30T10:35:20.005246Z",
     "iopub.status.busy": "2022-04-30T10:35:20.004788Z",
     "iopub.status.idle": "2022-04-30T10:35:20.516027Z",
     "shell.execute_reply": "2022-04-30T10:35:20.514916Z"
    },
    "papermill": {
     "duration": 0.583913,
     "end_time": "2022-04-30T10:35:20.518473",
     "exception": false,
     "start_time": "2022-04-30T10:35:19.934560",
     "status": "completed"
    },
    "tags": []
   },
   "outputs": [
    {
     "name": "stdout",
     "output_type": "stream",
     "text": [
      "CPU times: user 289 ms, sys: 216 ms, total: 505 ms\n",
      "Wall time: 505 ms\n"
     ]
    }
   ],
   "source": [
    "%%time\n",
    "\n",
    "train_X = train[columns_to_use]\n",
    "train_y = train['purchased']\n",
    "\n",
    "test_X = test[columns_to_use]"
   ]
  },
  {
   "cell_type": "markdown",
   "id": "b249658f",
   "metadata": {
    "papermill": {
     "duration": 0.067317,
     "end_time": "2022-04-30T10:35:20.652568",
     "exception": false,
     "start_time": "2022-04-30T10:35:20.585251",
     "status": "completed"
    },
    "tags": []
   },
   "source": [
    "# Model training"
   ]
  },
  {
   "cell_type": "code",
   "execution_count": 44,
   "id": "965af8c6",
   "metadata": {
    "execution": {
     "iopub.execute_input": "2022-04-30T10:35:20.787497Z",
     "iopub.status.busy": "2022-04-30T10:35:20.787209Z",
     "iopub.status.idle": "2022-04-30T10:35:21.854467Z",
     "shell.execute_reply": "2022-04-30T10:35:21.853487Z"
    },
    "papermill": {
     "duration": 1.137547,
     "end_time": "2022-04-30T10:35:21.857040",
     "exception": false,
     "start_time": "2022-04-30T10:35:20.719493",
     "status": "completed"
    },
    "tags": []
   },
   "outputs": [
    {
     "data": {
      "text/html": [
       "<style type='text/css'>\n",
       ".datatable table.frame { margin-bottom: 0; }\n",
       ".datatable table.frame thead { border-bottom: none; }\n",
       ".datatable table.frame tr.coltypes td {  color: #FFFFFF;  line-height: 6px;  padding: 0 0.5em;}\n",
       ".datatable .bool    { background: #DDDD99; }\n",
       ".datatable .object  { background: #565656; }\n",
       ".datatable .int     { background: #5D9E5D; }\n",
       ".datatable .float   { background: #4040CC; }\n",
       ".datatable .str     { background: #CC4040; }\n",
       ".datatable .time    { background: #40CC40; }\n",
       ".datatable .row_index {  background: var(--jp-border-color3);  border-right: 1px solid var(--jp-border-color0);  color: var(--jp-ui-font-color3);  font-size: 9px;}\n",
       ".datatable .frame tbody td { text-align: left; }\n",
       ".datatable .frame tr.coltypes .row_index {  background: var(--jp-border-color0);}\n",
       ".datatable th:nth-child(2) { padding-left: 12px; }\n",
       ".datatable .hellipsis {  color: var(--jp-cell-editor-border-color);}\n",
       ".datatable .vellipsis {  background: var(--jp-layout-color0);  color: var(--jp-cell-editor-border-color);}\n",
       ".datatable .na {  color: var(--jp-cell-editor-border-color);  font-size: 80%;}\n",
       ".datatable .sp {  opacity: 0.25;}\n",
       ".datatable .footer { font-size: 9px; }\n",
       ".datatable .frame_dimensions {  background: var(--jp-border-color3);  border-top: 1px solid var(--jp-border-color0);  color: var(--jp-ui-font-color3);  display: inline-block;  opacity: 0.6;  padding: 1px 10px 1px 5px;}\n",
       "</style>\n"
      ],
      "text/plain": [
       "<IPython.core.display.HTML object>"
      ]
     },
     "metadata": {},
     "output_type": "display_data"
    }
   ],
   "source": [
    "from lightgbm.sklearn import LGBMRanker"
   ]
  },
  {
   "cell_type": "markdown",
   "id": "41464082",
   "metadata": {
    "papermill": {
     "duration": 0.068674,
     "end_time": "2022-04-30T10:35:21.993766",
     "exception": false,
     "start_time": "2022-04-30T10:35:21.925092",
     "status": "completed"
    },
    "tags": []
   },
   "source": [
    "The optimized params are based on hyper parameter optimization, link: https://www.kaggle.com/code/rickykonwar/h-m-lgbmranker-hyperparametertuning"
   ]
  },
  {
   "cell_type": "code",
   "execution_count": 45,
   "id": "1a8d416d",
   "metadata": {
    "execution": {
     "iopub.execute_input": "2022-04-30T10:35:22.132845Z",
     "iopub.status.busy": "2022-04-30T10:35:22.132542Z",
     "iopub.status.idle": "2022-04-30T10:35:22.139263Z",
     "shell.execute_reply": "2022-04-30T10:35:22.138698Z"
    },
    "papermill": {
     "duration": 0.078955,
     "end_time": "2022-04-30T10:35:22.141189",
     "exception": false,
     "start_time": "2022-04-30T10:35:22.062234",
     "status": "completed"
    },
    "tags": []
   },
   "outputs": [],
   "source": [
    "optimized_params = {'objective': \"lambdarank\",\n",
    "                    'metric': \"ndcg\",\n",
    "                    'num_threads': 4,\n",
    "                    'boosting_type': \"dart\",\n",
    "                    'importance_type': \"gain\",\n",
    "                    'verbose': -1,\n",
    "                    'n_estimators': 100, \n",
    "                    'learning_rate': 0.26762621693602034, \n",
    "                    'num_leaves': 90, \n",
    "                    'max_depth': 9, \n",
    "                    'min_data_in_leaf': 10, \n",
    "                    'lambda_l1': 35, \n",
    "                    'lambda_l2': 10, \n",
    "                    'min_gain_to_split': 7.702426339836351, \n",
    "                    'bagging_fraction': 0.30000000000000004, \n",
    "                    'bagging_freq': 1, \n",
    "                    'feature_fraction': 0.7,\n",
    "                    'seed': 42}"
   ]
  },
  {
   "cell_type": "code",
   "execution_count": 46,
   "id": "f179043c",
   "metadata": {
    "execution": {
     "iopub.execute_input": "2022-04-30T10:35:22.279604Z",
     "iopub.status.busy": "2022-04-30T10:35:22.279059Z",
     "iopub.status.idle": "2022-04-30T10:35:22.283628Z",
     "shell.execute_reply": "2022-04-30T10:35:22.282978Z"
    },
    "papermill": {
     "duration": 0.076569,
     "end_time": "2022-04-30T10:35:22.285945",
     "exception": false,
     "start_time": "2022-04-30T10:35:22.209376",
     "status": "completed"
    },
    "tags": []
   },
   "outputs": [],
   "source": [
    "# ranker = LGBMRanker(\n",
    "#     objective=\"lambdarank\",\n",
    "#     metric=\"ndcg\",\n",
    "#     boosting_type=\"dart\",\n",
    "#     n_estimators=1,\n",
    "#     importance_type='gain',\n",
    "#     verbose=10\n",
    "# )\n",
    "\n",
    "ranker = LGBMRanker(\n",
    "            random_state=42, \n",
    "            **optimized_params\n",
    "        )"
   ]
  },
  {
   "cell_type": "code",
   "execution_count": 47,
   "id": "d8f5e664",
   "metadata": {
    "execution": {
     "iopub.execute_input": "2022-04-30T10:35:22.424056Z",
     "iopub.status.busy": "2022-04-30T10:35:22.423802Z",
     "iopub.status.idle": "2022-04-30T10:39:40.434362Z",
     "shell.execute_reply": "2022-04-30T10:39:40.433226Z"
    },
    "papermill": {
     "duration": 258.148698,
     "end_time": "2022-04-30T10:39:40.502573",
     "exception": false,
     "start_time": "2022-04-30T10:35:22.353875",
     "status": "completed"
    },
    "tags": []
   },
   "outputs": [
    {
     "name": "stdout",
     "output_type": "stream",
     "text": [
      "[LightGBM] [Warning] feature_fraction is set=0.7, colsample_bytree=1.0 will be ignored. Current value: feature_fraction=0.7\n",
      "[LightGBM] [Warning] lambda_l1 is set=35, reg_alpha=0.0 will be ignored. Current value: lambda_l1=35\n",
      "[LightGBM] [Warning] num_threads is set=4, n_jobs=-1 will be ignored. Current value: num_threads=4\n",
      "[LightGBM] [Warning] bagging_fraction is set=0.30000000000000004, subsample=1.0 will be ignored. Current value: bagging_fraction=0.30000000000000004\n",
      "[LightGBM] [Warning] seed is set=42, random_state=42 will be ignored. Current value: seed=42\n",
      "[LightGBM] [Warning] min_data_in_leaf is set=10, min_child_samples=20 will be ignored. Current value: min_data_in_leaf=10\n",
      "[LightGBM] [Warning] bagging_freq is set=1, subsample_freq=0 will be ignored. Current value: bagging_freq=1\n",
      "[LightGBM] [Warning] min_gain_to_split is set=7.702426339836351, min_split_gain=0.0 will be ignored. Current value: min_gain_to_split=7.702426339836351\n",
      "[LightGBM] [Warning] lambda_l2 is set=10, reg_lambda=0.0 will be ignored. Current value: lambda_l2=10\n",
      "CPU times: user 16min 31s, sys: 2.4 s, total: 16min 33s\n",
      "Wall time: 4min 17s\n"
     ]
    }
   ],
   "source": [
    "%%time\n",
    "\n",
    "ranker = ranker.fit(\n",
    "    train_X,\n",
    "    train_y,\n",
    "    group=train_baskets,\n",
    ")"
   ]
  },
  {
   "cell_type": "code",
   "execution_count": 48,
   "id": "ea88b953",
   "metadata": {
    "execution": {
     "iopub.execute_input": "2022-04-30T10:39:40.645175Z",
     "iopub.status.busy": "2022-04-30T10:39:40.644908Z",
     "iopub.status.idle": "2022-04-30T10:39:40.658195Z",
     "shell.execute_reply": "2022-04-30T10:39:40.656862Z"
    },
    "papermill": {
     "duration": 0.087493,
     "end_time": "2022-04-30T10:39:40.660266",
     "exception": false,
     "start_time": "2022-04-30T10:39:40.572773",
     "status": "completed"
    },
    "tags": []
   },
   "outputs": [
    {
     "name": "stdout",
     "output_type": "stream",
     "text": [
      "bestseller_rank 0.9065495274005476\n",
      "article_id 0.032615849164670724\n",
      "product_type_no 0.017026715333928976\n",
      "garment_group_no 0.012078500482401933\n",
      "department_no 0.010770277521864775\n",
      "section_no 0.005862155663729938\n",
      "colour_group_code 0.005305691980135222\n",
      "graphical_appearance_no 0.003768374038896631\n",
      "perceived_colour_value_id 0.0036695990319930596\n",
      "perceived_colour_master_id 0.001448329838732013\n",
      "index_code 0.0005683468807671749\n",
      "index_group_no 0.00033663266233191356\n",
      "age 0.0\n",
      "fashion_news_frequency 0.0\n",
      "club_member_status 0.0\n",
      "Active 0.0\n",
      "FN 0.0\n",
      "postal_code 0.0\n"
     ]
    }
   ],
   "source": [
    "for i in ranker.feature_importances_.argsort()[::-1]:\n",
    "    print(columns_to_use[i], ranker.feature_importances_[i]/ranker.feature_importances_.sum())"
   ]
  },
  {
   "cell_type": "markdown",
   "id": "ae1168a8",
   "metadata": {
    "papermill": {
     "duration": 0.068835,
     "end_time": "2022-04-30T10:39:40.801307",
     "exception": false,
     "start_time": "2022-04-30T10:39:40.732472",
     "status": "completed"
    },
    "tags": []
   },
   "source": [
    "# Calculate predictions"
   ]
  },
  {
   "cell_type": "code",
   "execution_count": 49,
   "id": "58e2a6b9",
   "metadata": {
    "execution": {
     "iopub.execute_input": "2022-04-30T10:39:40.942300Z",
     "iopub.status.busy": "2022-04-30T10:39:40.941988Z",
     "iopub.status.idle": "2022-04-30T10:40:11.672085Z",
     "shell.execute_reply": "2022-04-30T10:40:11.671099Z"
    },
    "papermill": {
     "duration": 30.802394,
     "end_time": "2022-04-30T10:40:11.674646",
     "exception": false,
     "start_time": "2022-04-30T10:39:40.872252",
     "status": "completed"
    },
    "tags": []
   },
   "outputs": [
    {
     "name": "stdout",
     "output_type": "stream",
     "text": [
      "CPU times: user 4 µs, sys: 0 ns, total: 4 µs\n",
      "Wall time: 7.63 µs\n"
     ]
    }
   ],
   "source": [
    "%time\n",
    "\n",
    "test['preds'] = ranker.predict(test_X)\n",
    "\n",
    "c_id2predicted_article_ids = test \\\n",
    "    .sort_values(['customer_id', 'preds'], ascending=False) \\\n",
    "    .groupby('customer_id')['article_id'].apply(list).to_dict()\n",
    "\n",
    "bestsellers_last_week = \\\n",
    "    bestsellers_previous_week[bestsellers_previous_week.week == bestsellers_previous_week.week.max()]['article_id'].tolist()"
   ]
  },
  {
   "cell_type": "markdown",
   "id": "bb39f722",
   "metadata": {
    "papermill": {
     "duration": 0.069146,
     "end_time": "2022-04-30T10:40:11.815660",
     "exception": false,
     "start_time": "2022-04-30T10:40:11.746514",
     "status": "completed"
    },
    "tags": []
   },
   "source": [
    "# Create submission"
   ]
  },
  {
   "cell_type": "code",
   "execution_count": 50,
   "id": "2801d179",
   "metadata": {
    "execution": {
     "iopub.execute_input": "2022-04-30T10:40:11.957715Z",
     "iopub.status.busy": "2022-04-30T10:40:11.957213Z",
     "iopub.status.idle": "2022-04-30T10:40:16.978603Z",
     "shell.execute_reply": "2022-04-30T10:40:16.977629Z"
    },
    "papermill": {
     "duration": 5.095331,
     "end_time": "2022-04-30T10:40:16.981325",
     "exception": false,
     "start_time": "2022-04-30T10:40:11.885994",
     "status": "completed"
    },
    "tags": []
   },
   "outputs": [],
   "source": [
    "sub = pd.read_csv('/kaggle/input/h-and-m-personalized-fashion-recommendations/sample_submission.csv')"
   ]
  },
  {
   "cell_type": "code",
   "execution_count": 51,
   "id": "3cad4d05",
   "metadata": {
    "execution": {
     "iopub.execute_input": "2022-04-30T10:40:17.125190Z",
     "iopub.status.busy": "2022-04-30T10:40:17.124923Z",
     "iopub.status.idle": "2022-04-30T10:40:24.677356Z",
     "shell.execute_reply": "2022-04-30T10:40:24.676446Z"
    },
    "papermill": {
     "duration": 7.626267,
     "end_time": "2022-04-30T10:40:24.679450",
     "exception": false,
     "start_time": "2022-04-30T10:40:17.053183",
     "status": "completed"
    },
    "tags": []
   },
   "outputs": [
    {
     "name": "stdout",
     "output_type": "stream",
     "text": [
      "CPU times: user 7.32 s, sys: 225 ms, total: 7.55 s\n",
      "Wall time: 7.55 s\n"
     ]
    }
   ],
   "source": [
    "%%time\n",
    "preds = []\n",
    "for c_id in customer_hex_id_to_int(sub.customer_id):\n",
    "    pred = c_id2predicted_article_ids.get(c_id, [])\n",
    "    pred = pred + bestsellers_last_week\n",
    "    preds.append(pred[:12])"
   ]
  },
  {
   "cell_type": "code",
   "execution_count": 52,
   "id": "f758dede",
   "metadata": {
    "execution": {
     "iopub.execute_input": "2022-04-30T10:40:24.821083Z",
     "iopub.status.busy": "2022-04-30T10:40:24.820815Z",
     "iopub.status.idle": "2022-04-30T10:40:31.313862Z",
     "shell.execute_reply": "2022-04-30T10:40:31.312852Z"
    },
    "papermill": {
     "duration": 6.566587,
     "end_time": "2022-04-30T10:40:31.316153",
     "exception": false,
     "start_time": "2022-04-30T10:40:24.749566",
     "status": "completed"
    },
    "tags": []
   },
   "outputs": [],
   "source": [
    "preds = [' '.join(['0' + str(p) for p in ps]) for ps in preds]\n",
    "sub.prediction = preds"
   ]
  },
  {
   "cell_type": "code",
   "execution_count": 53,
   "id": "cdbf9320",
   "metadata": {
    "execution": {
     "iopub.execute_input": "2022-04-30T10:40:31.459155Z",
     "iopub.status.busy": "2022-04-30T10:40:31.458494Z",
     "iopub.status.idle": "2022-04-30T10:40:58.945058Z",
     "shell.execute_reply": "2022-04-30T10:40:58.944022Z"
    },
    "papermill": {
     "duration": 27.56034,
     "end_time": "2022-04-30T10:40:58.947712",
     "exception": false,
     "start_time": "2022-04-30T10:40:31.387372",
     "status": "completed"
    },
    "tags": []
   },
   "outputs": [],
   "source": [
    "sub_name = 'basic_model_submission'\n",
    "sub.to_csv(f'{sub_name}.csv.gz', index=False)"
   ]
  }
 ],
 "metadata": {
  "kernelspec": {
   "display_name": "Python 3",
   "language": "python",
   "name": "python3"
  },
  "language_info": {
   "codemirror_mode": {
    "name": "ipython",
    "version": 3
   },
   "file_extension": ".py",
   "mimetype": "text/x-python",
   "name": "python",
   "nbconvert_exporter": "python",
   "pygments_lexer": "ipython3",
   "version": "3.7.12"
  },
  "papermill": {
   "default_parameters": {},
   "duration": 448.937737,
   "end_time": "2022-04-30T10:41:00.746006",
   "environment_variables": {},
   "exception": null,
   "input_path": "__notebook__.ipynb",
   "output_path": "__notebook__.ipynb",
   "parameters": {},
   "start_time": "2022-04-30T10:33:31.808269",
   "version": "2.3.4"
  }
 },
 "nbformat": 4,
 "nbformat_minor": 5
}
