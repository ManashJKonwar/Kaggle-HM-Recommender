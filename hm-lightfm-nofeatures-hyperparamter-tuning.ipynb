{
 "cells": [
  {
   "cell_type": "markdown",
   "id": "f2d30a13",
   "metadata": {
    "papermill": {
     "duration": 0.034225,
     "end_time": "2022-03-15T13:45:46.109943",
     "exception": false,
     "start_time": "2022-03-15T13:45:46.075718",
     "status": "completed"
    },
    "tags": []
   },
   "source": [
    "## This experiment was performed using LightFM which a very popular recommender module and it has support to take in different data modalities such as text, image, graphical, etc. Please check out their official documentation in the link mentioned below:  \n",
    "\n",
    "The objective of this experiment is to find the best parameters which give the best precision@12 for the problem at hand.\n",
    "\n",
    "Please refer to notebooks where you will be able to visualize different experimentations based on light FM:  \n",
    "1. Light FM with only customer article interactions:  \n",
    "Link: https://www.kaggle.com/rickykonwar/h-m-lightfm-nofeatures  \n",
    "\n",
    "2. Light FM with customer article interaction + 1 article feature (product group name)  \n",
    "Link: https://www.kaggle.com/rickykonwar/h-m-lightfm-1articlefeature  \n",
    "\n",
    "3. Light FM with customer article interaction + 1 article feature (product group name) + article description embeddings  \n",
    "Link: https://www.kaggle.com/rickykonwar/h-m-lightfm-2articlefeatures  \n",
    "\n",
    "Link to LightFM documentation\n",
    "making.lyst.com/lightfm/docs/home.html  \n",
    "\n",
    "It incorporates Hyper Parameter tuning for the problem statement\n",
    "\n",
    "Hope you like this notebook, please feel free to vote for this notebook"
   ]
  },
  {
   "cell_type": "markdown",
   "id": "8855f7f7",
   "metadata": {
    "papermill": {
     "duration": 0.03274,
     "end_time": "2022-03-15T13:45:46.176037",
     "exception": false,
     "start_time": "2022-03-15T13:45:46.143297",
     "status": "completed"
    },
    "tags": []
   },
   "source": [
    "## Importing Required Libraries"
   ]
  },
  {
   "cell_type": "code",
   "execution_count": 1,
   "id": "6a2e7d4e",
   "metadata": {
    "execution": {
     "iopub.execute_input": "2022-03-15T13:45:46.250635Z",
     "iopub.status.busy": "2022-03-15T13:45:46.248600Z",
     "iopub.status.idle": "2022-03-15T13:45:46.361338Z",
     "shell.execute_reply": "2022-03-15T13:45:46.359961Z"
    },
    "papermill": {
     "duration": 0.150312,
     "end_time": "2022-03-15T13:45:46.361531",
     "exception": false,
     "start_time": "2022-03-15T13:45:46.211219",
     "status": "completed"
    },
    "tags": []
   },
   "outputs": [],
   "source": [
    "# Importing Libraries\n",
    "import sys, os\n",
    "import re\n",
    "import tqdm\n",
    "import time\n",
    "import pickle\n",
    "import random\n",
    "import itertools\n",
    "\n",
    "import pandas as pd\n",
    "import numpy as np\n",
    "import scipy.sparse as sparse\n",
    "%matplotlib inline\n",
    "import matplotlib.pyplot as plt\n",
    "\n",
    "# lightfm \n",
    "from lightfm import LightFM # model\n",
    "from lightfm.evaluation import precision_at_k\n",
    "from lightfm.cross_validation import random_train_test_split\n",
    "\n",
    "# multiprocessing for inferencing\n",
    "from multiprocessing import Pool"
   ]
  },
  {
   "cell_type": "code",
   "execution_count": 2,
   "id": "f72a431a",
   "metadata": {
    "execution": {
     "iopub.execute_input": "2022-03-15T13:45:46.432420Z",
     "iopub.status.busy": "2022-03-15T13:45:46.431484Z",
     "iopub.status.idle": "2022-03-15T13:45:46.435618Z",
     "shell.execute_reply": "2022-03-15T13:45:46.436171Z"
    },
    "papermill": {
     "duration": 0.040857,
     "end_time": "2022-03-15T13:45:46.436335",
     "exception": false,
     "start_time": "2022-03-15T13:45:46.395478",
     "status": "completed"
    },
    "tags": []
   },
   "outputs": [],
   "source": [
    "os.environ[\"openblas_set_num_threads\"] = \"1\"\n",
    "data_path = r'../input/h-and-m-personalized-fashion-recommendations/transactions_train.csv'\n",
    "customer_data_path = r'../input/h-and-m-personalized-fashion-recommendations/customers.csv'\n",
    "article_data_path = r'../input/h-and-m-personalized-fashion-recommendations/articles.csv'\n",
    "submission_data_path = r'../input/h-and-m-personalized-fashion-recommendations/sample_submission.csv'"
   ]
  },
  {
   "cell_type": "code",
   "execution_count": 3,
   "id": "1e80f3d0",
   "metadata": {
    "execution": {
     "iopub.execute_input": "2022-03-15T13:45:46.507744Z",
     "iopub.status.busy": "2022-03-15T13:45:46.506775Z",
     "iopub.status.idle": "2022-03-15T13:45:46.512235Z",
     "shell.execute_reply": "2022-03-15T13:45:46.512731Z"
    },
    "papermill": {
     "duration": 0.042966,
     "end_time": "2022-03-15T13:45:46.512930",
     "exception": false,
     "start_time": "2022-03-15T13:45:46.469964",
     "status": "completed"
    },
    "tags": []
   },
   "outputs": [],
   "source": [
    "# Data Extraction\n",
    "def create_data(datapath, data_type=None):\n",
    "    if data_type is None:\n",
    "        df = pd.read_csv(datapath)\n",
    "    elif data_type == 'transaction':\n",
    "        df = pd.read_csv(datapath, dtype={'article_id': str}, parse_dates=['t_dat'])\n",
    "    elif data_type == 'article':\n",
    "        df = pd.read_csv(datapath, dtype={'article_id': str})\n",
    "    return df"
   ]
  },
  {
   "cell_type": "code",
   "execution_count": 4,
   "id": "6b4bce2e",
   "metadata": {
    "execution": {
     "iopub.execute_input": "2022-03-15T13:45:46.584985Z",
     "iopub.status.busy": "2022-03-15T13:45:46.583933Z",
     "iopub.status.idle": "2022-03-15T13:47:09.847099Z",
     "shell.execute_reply": "2022-03-15T13:47:09.846087Z"
    },
    "papermill": {
     "duration": 83.300972,
     "end_time": "2022-03-15T13:47:09.847502",
     "exception": false,
     "start_time": "2022-03-15T13:45:46.546530",
     "status": "completed"
    },
    "tags": []
   },
   "outputs": [
    {
     "name": "stdout",
     "output_type": "stream",
     "text": [
      "(31788324, 5)\n",
      "734-total No of unique transactions dates in data sheet\n",
      "1362281-total No of unique customers ids in data sheet\n",
      "104547-total No of unique article ids courses names in data sheet\n",
      "2-total No of unique sales channels in data sheet\n"
     ]
    }
   ],
   "source": [
    "#%%time\n",
    "\n",
    "# Load all sales data (for 3 years starting from 2018 to 2020)\n",
    "# ALso, article_id is treated as a string column otherwise it \n",
    "# would drop the leading zeros while reading the specific column values\n",
    "transactions_data=create_data(data_path, data_type='transaction')\n",
    "print(transactions_data.shape)\n",
    "\n",
    "# # Unique Attributes\n",
    "print(str(len(transactions_data['t_dat'].drop_duplicates())) + \"-total No of unique transactions dates in data sheet\")\n",
    "print(str(len(transactions_data['customer_id'].drop_duplicates())) + \"-total No of unique customers ids in data sheet\")\n",
    "print(str(len(transactions_data['article_id'].drop_duplicates())) + \"-total No of unique article ids courses names in data sheet\")\n",
    "print(str(len(transactions_data['sales_channel_id'].drop_duplicates())) + \"-total No of unique sales channels in data sheet\")"
   ]
  },
  {
   "cell_type": "code",
   "execution_count": 5,
   "id": "7ab69ae4",
   "metadata": {
    "execution": {
     "iopub.execute_input": "2022-03-15T13:47:09.928488Z",
     "iopub.status.busy": "2022-03-15T13:47:09.923071Z",
     "iopub.status.idle": "2022-03-15T13:47:09.946242Z",
     "shell.execute_reply": "2022-03-15T13:47:09.946694Z"
    },
    "papermill": {
     "duration": 0.061869,
     "end_time": "2022-03-15T13:47:09.946863",
     "exception": false,
     "start_time": "2022-03-15T13:47:09.884994",
     "status": "completed"
    },
    "tags": []
   },
   "outputs": [
    {
     "data": {
      "text/html": [
       "<div>\n",
       "<style scoped>\n",
       "    .dataframe tbody tr th:only-of-type {\n",
       "        vertical-align: middle;\n",
       "    }\n",
       "\n",
       "    .dataframe tbody tr th {\n",
       "        vertical-align: top;\n",
       "    }\n",
       "\n",
       "    .dataframe thead th {\n",
       "        text-align: right;\n",
       "    }\n",
       "</style>\n",
       "<table border=\"1\" class=\"dataframe\">\n",
       "  <thead>\n",
       "    <tr style=\"text-align: right;\">\n",
       "      <th></th>\n",
       "      <th>t_dat</th>\n",
       "      <th>customer_id</th>\n",
       "      <th>article_id</th>\n",
       "      <th>price</th>\n",
       "      <th>sales_channel_id</th>\n",
       "    </tr>\n",
       "  </thead>\n",
       "  <tbody>\n",
       "    <tr>\n",
       "      <th>0</th>\n",
       "      <td>2018-09-20</td>\n",
       "      <td>000058a12d5b43e67d225668fa1f8d618c13dc232df0ca...</td>\n",
       "      <td>0663713001</td>\n",
       "      <td>0.050831</td>\n",
       "      <td>2</td>\n",
       "    </tr>\n",
       "    <tr>\n",
       "      <th>1</th>\n",
       "      <td>2018-09-20</td>\n",
       "      <td>000058a12d5b43e67d225668fa1f8d618c13dc232df0ca...</td>\n",
       "      <td>0541518023</td>\n",
       "      <td>0.030492</td>\n",
       "      <td>2</td>\n",
       "    </tr>\n",
       "    <tr>\n",
       "      <th>2</th>\n",
       "      <td>2018-09-20</td>\n",
       "      <td>00007d2de826758b65a93dd24ce629ed66842531df6699...</td>\n",
       "      <td>0505221004</td>\n",
       "      <td>0.015237</td>\n",
       "      <td>2</td>\n",
       "    </tr>\n",
       "    <tr>\n",
       "      <th>3</th>\n",
       "      <td>2018-09-20</td>\n",
       "      <td>00007d2de826758b65a93dd24ce629ed66842531df6699...</td>\n",
       "      <td>0685687003</td>\n",
       "      <td>0.016932</td>\n",
       "      <td>2</td>\n",
       "    </tr>\n",
       "    <tr>\n",
       "      <th>4</th>\n",
       "      <td>2018-09-20</td>\n",
       "      <td>00007d2de826758b65a93dd24ce629ed66842531df6699...</td>\n",
       "      <td>0685687004</td>\n",
       "      <td>0.016932</td>\n",
       "      <td>2</td>\n",
       "    </tr>\n",
       "  </tbody>\n",
       "</table>\n",
       "</div>"
      ],
      "text/plain": [
       "       t_dat                                        customer_id  article_id  \\\n",
       "0 2018-09-20  000058a12d5b43e67d225668fa1f8d618c13dc232df0ca...  0663713001   \n",
       "1 2018-09-20  000058a12d5b43e67d225668fa1f8d618c13dc232df0ca...  0541518023   \n",
       "2 2018-09-20  00007d2de826758b65a93dd24ce629ed66842531df6699...  0505221004   \n",
       "3 2018-09-20  00007d2de826758b65a93dd24ce629ed66842531df6699...  0685687003   \n",
       "4 2018-09-20  00007d2de826758b65a93dd24ce629ed66842531df6699...  0685687004   \n",
       "\n",
       "      price  sales_channel_id  \n",
       "0  0.050831                 2  \n",
       "1  0.030492                 2  \n",
       "2  0.015237                 2  \n",
       "3  0.016932                 2  \n",
       "4  0.016932                 2  "
      ]
     },
     "execution_count": 5,
     "metadata": {},
     "output_type": "execute_result"
    }
   ],
   "source": [
    "transactions_data.head()"
   ]
  },
  {
   "cell_type": "code",
   "execution_count": 6,
   "id": "1fbea106",
   "metadata": {
    "execution": {
     "iopub.execute_input": "2022-03-15T13:47:10.026416Z",
     "iopub.status.busy": "2022-03-15T13:47:10.025817Z",
     "iopub.status.idle": "2022-03-15T13:47:10.040594Z",
     "shell.execute_reply": "2022-03-15T13:47:10.039856Z"
    },
    "papermill": {
     "duration": 0.058295,
     "end_time": "2022-03-15T13:47:10.040737",
     "exception": false,
     "start_time": "2022-03-15T13:47:09.982442",
     "status": "completed"
    },
    "tags": []
   },
   "outputs": [
    {
     "name": "stdout",
     "output_type": "stream",
     "text": [
      "<class 'pandas.core.frame.DataFrame'>\n",
      "RangeIndex: 31788324 entries, 0 to 31788323\n",
      "Data columns (total 5 columns):\n",
      " #   Column            Dtype         \n",
      "---  ------            -----         \n",
      " 0   t_dat             datetime64[ns]\n",
      " 1   customer_id       object        \n",
      " 2   article_id        object        \n",
      " 3   price             float64       \n",
      " 4   sales_channel_id  int64         \n",
      "dtypes: datetime64[ns](1), float64(1), int64(1), object(2)\n",
      "memory usage: 1.2+ GB\n"
     ]
    }
   ],
   "source": [
    "transactions_data.info()"
   ]
  },
  {
   "cell_type": "code",
   "execution_count": 7,
   "id": "b2acd998",
   "metadata": {
    "execution": {
     "iopub.execute_input": "2022-03-15T13:47:10.119495Z",
     "iopub.status.busy": "2022-03-15T13:47:10.118736Z",
     "iopub.status.idle": "2022-03-15T13:47:15.845120Z",
     "shell.execute_reply": "2022-03-15T13:47:15.845823Z"
    },
    "papermill": {
     "duration": 5.769012,
     "end_time": "2022-03-15T13:47:15.846078",
     "exception": false,
     "start_time": "2022-03-15T13:47:10.077066",
     "status": "completed"
    },
    "tags": []
   },
   "outputs": [
    {
     "name": "stdout",
     "output_type": "stream",
     "text": [
      "(1371980, 7)\n",
      "1371980-total No of unique customers ids in customer data sheet\n",
      "CPU times: user 3.66 s, sys: 492 ms, total: 4.15 s\n",
      "Wall time: 5.72 s\n"
     ]
    }
   ],
   "source": [
    "%%time\n",
    "\n",
    "# Load all Customers\n",
    "customer_data=create_data(customer_data_path)\n",
    "print(customer_data.shape)\n",
    "\n",
    "print(str(len(customer_data['customer_id'].drop_duplicates())) + \"-total No of unique customers ids in customer data sheet\")"
   ]
  },
  {
   "cell_type": "code",
   "execution_count": 8,
   "id": "553cb3d5",
   "metadata": {
    "execution": {
     "iopub.execute_input": "2022-03-15T13:47:15.922723Z",
     "iopub.status.busy": "2022-03-15T13:47:15.922042Z",
     "iopub.status.idle": "2022-03-15T13:47:15.935422Z",
     "shell.execute_reply": "2022-03-15T13:47:15.934842Z"
    },
    "papermill": {
     "duration": 0.052626,
     "end_time": "2022-03-15T13:47:15.935577",
     "exception": false,
     "start_time": "2022-03-15T13:47:15.882951",
     "status": "completed"
    },
    "tags": []
   },
   "outputs": [
    {
     "data": {
      "text/html": [
       "<div>\n",
       "<style scoped>\n",
       "    .dataframe tbody tr th:only-of-type {\n",
       "        vertical-align: middle;\n",
       "    }\n",
       "\n",
       "    .dataframe tbody tr th {\n",
       "        vertical-align: top;\n",
       "    }\n",
       "\n",
       "    .dataframe thead th {\n",
       "        text-align: right;\n",
       "    }\n",
       "</style>\n",
       "<table border=\"1\" class=\"dataframe\">\n",
       "  <thead>\n",
       "    <tr style=\"text-align: right;\">\n",
       "      <th></th>\n",
       "      <th>customer_id</th>\n",
       "      <th>FN</th>\n",
       "      <th>Active</th>\n",
       "      <th>club_member_status</th>\n",
       "      <th>fashion_news_frequency</th>\n",
       "      <th>age</th>\n",
       "      <th>postal_code</th>\n",
       "    </tr>\n",
       "  </thead>\n",
       "  <tbody>\n",
       "    <tr>\n",
       "      <th>0</th>\n",
       "      <td>00000dbacae5abe5e23885899a1fa44253a17956c6d1c3...</td>\n",
       "      <td>NaN</td>\n",
       "      <td>NaN</td>\n",
       "      <td>ACTIVE</td>\n",
       "      <td>NONE</td>\n",
       "      <td>49.0</td>\n",
       "      <td>52043ee2162cf5aa7ee79974281641c6f11a68d276429a...</td>\n",
       "    </tr>\n",
       "    <tr>\n",
       "      <th>1</th>\n",
       "      <td>0000423b00ade91418cceaf3b26c6af3dd342b51fd051e...</td>\n",
       "      <td>NaN</td>\n",
       "      <td>NaN</td>\n",
       "      <td>ACTIVE</td>\n",
       "      <td>NONE</td>\n",
       "      <td>25.0</td>\n",
       "      <td>2973abc54daa8a5f8ccfe9362140c63247c5eee03f1d93...</td>\n",
       "    </tr>\n",
       "    <tr>\n",
       "      <th>2</th>\n",
       "      <td>000058a12d5b43e67d225668fa1f8d618c13dc232df0ca...</td>\n",
       "      <td>NaN</td>\n",
       "      <td>NaN</td>\n",
       "      <td>ACTIVE</td>\n",
       "      <td>NONE</td>\n",
       "      <td>24.0</td>\n",
       "      <td>64f17e6a330a85798e4998f62d0930d14db8db1c054af6...</td>\n",
       "    </tr>\n",
       "    <tr>\n",
       "      <th>3</th>\n",
       "      <td>00005ca1c9ed5f5146b52ac8639a40ca9d57aeff4d1bd2...</td>\n",
       "      <td>NaN</td>\n",
       "      <td>NaN</td>\n",
       "      <td>ACTIVE</td>\n",
       "      <td>NONE</td>\n",
       "      <td>54.0</td>\n",
       "      <td>5d36574f52495e81f019b680c843c443bd343d5ca5b1c2...</td>\n",
       "    </tr>\n",
       "    <tr>\n",
       "      <th>4</th>\n",
       "      <td>00006413d8573cd20ed7128e53b7b13819fe5cfc2d801f...</td>\n",
       "      <td>1.0</td>\n",
       "      <td>1.0</td>\n",
       "      <td>ACTIVE</td>\n",
       "      <td>Regularly</td>\n",
       "      <td>52.0</td>\n",
       "      <td>25fa5ddee9aac01b35208d01736e57942317d756b32ddd...</td>\n",
       "    </tr>\n",
       "  </tbody>\n",
       "</table>\n",
       "</div>"
      ],
      "text/plain": [
       "                                         customer_id   FN  Active  \\\n",
       "0  00000dbacae5abe5e23885899a1fa44253a17956c6d1c3...  NaN     NaN   \n",
       "1  0000423b00ade91418cceaf3b26c6af3dd342b51fd051e...  NaN     NaN   \n",
       "2  000058a12d5b43e67d225668fa1f8d618c13dc232df0ca...  NaN     NaN   \n",
       "3  00005ca1c9ed5f5146b52ac8639a40ca9d57aeff4d1bd2...  NaN     NaN   \n",
       "4  00006413d8573cd20ed7128e53b7b13819fe5cfc2d801f...  1.0     1.0   \n",
       "\n",
       "  club_member_status fashion_news_frequency   age  \\\n",
       "0             ACTIVE                   NONE  49.0   \n",
       "1             ACTIVE                   NONE  25.0   \n",
       "2             ACTIVE                   NONE  24.0   \n",
       "3             ACTIVE                   NONE  54.0   \n",
       "4             ACTIVE              Regularly  52.0   \n",
       "\n",
       "                                         postal_code  \n",
       "0  52043ee2162cf5aa7ee79974281641c6f11a68d276429a...  \n",
       "1  2973abc54daa8a5f8ccfe9362140c63247c5eee03f1d93...  \n",
       "2  64f17e6a330a85798e4998f62d0930d14db8db1c054af6...  \n",
       "3  5d36574f52495e81f019b680c843c443bd343d5ca5b1c2...  \n",
       "4  25fa5ddee9aac01b35208d01736e57942317d756b32ddd...  "
      ]
     },
     "execution_count": 8,
     "metadata": {},
     "output_type": "execute_result"
    }
   ],
   "source": [
    "customer_data.head()"
   ]
  },
  {
   "cell_type": "code",
   "execution_count": 9,
   "id": "32faef9b",
   "metadata": {
    "execution": {
     "iopub.execute_input": "2022-03-15T13:47:16.013867Z",
     "iopub.status.busy": "2022-03-15T13:47:16.012919Z",
     "iopub.status.idle": "2022-03-15T13:47:16.305020Z",
     "shell.execute_reply": "2022-03-15T13:47:16.305756Z"
    },
    "papermill": {
     "duration": 0.333117,
     "end_time": "2022-03-15T13:47:16.306000",
     "exception": false,
     "start_time": "2022-03-15T13:47:15.972883",
     "status": "completed"
    },
    "tags": []
   },
   "outputs": [
    {
     "name": "stdout",
     "output_type": "stream",
     "text": [
      "<class 'pandas.core.frame.DataFrame'>\n",
      "RangeIndex: 1371980 entries, 0 to 1371979\n",
      "Data columns (total 7 columns):\n",
      " #   Column                  Non-Null Count    Dtype  \n",
      "---  ------                  --------------    -----  \n",
      " 0   customer_id             1371980 non-null  object \n",
      " 1   FN                      476930 non-null   float64\n",
      " 2   Active                  464404 non-null   float64\n",
      " 3   club_member_status      1365918 non-null  object \n",
      " 4   fashion_news_frequency  1355971 non-null  object \n",
      " 5   age                     1356119 non-null  float64\n",
      " 6   postal_code             1371980 non-null  object \n",
      "dtypes: float64(3), object(4)\n",
      "memory usage: 73.3+ MB\n"
     ]
    }
   ],
   "source": [
    "customer_data.info()"
   ]
  },
  {
   "cell_type": "code",
   "execution_count": 10,
   "id": "70e6c5e7",
   "metadata": {
    "execution": {
     "iopub.execute_input": "2022-03-15T13:47:16.385965Z",
     "iopub.status.busy": "2022-03-15T13:47:16.385279Z",
     "iopub.status.idle": "2022-03-15T13:47:17.498487Z",
     "shell.execute_reply": "2022-03-15T13:47:17.497647Z"
    },
    "papermill": {
     "duration": 1.153622,
     "end_time": "2022-03-15T13:47:17.498635",
     "exception": false,
     "start_time": "2022-03-15T13:47:16.345013",
     "status": "completed"
    },
    "tags": []
   },
   "outputs": [
    {
     "name": "stdout",
     "output_type": "stream",
     "text": [
      "(105542, 25)\n",
      "105542-total No of unique article ids in article data sheet\n",
      "CPU times: user 750 ms, sys: 62 ms, total: 812 ms\n",
      "Wall time: 1.11 s\n"
     ]
    }
   ],
   "source": [
    "%%time\n",
    "\n",
    "# Load all Customers\n",
    "article_data=create_data(article_data_path, data_type='article')\n",
    "print(article_data.shape)\n",
    "\n",
    "print(str(len(article_data['article_id'].drop_duplicates())) + \"-total No of unique article ids in article data sheet\")"
   ]
  },
  {
   "cell_type": "code",
   "execution_count": 11,
   "id": "a39e4daa",
   "metadata": {
    "execution": {
     "iopub.execute_input": "2022-03-15T13:47:17.604598Z",
     "iopub.status.busy": "2022-03-15T13:47:17.603943Z",
     "iopub.status.idle": "2022-03-15T13:47:17.610278Z",
     "shell.execute_reply": "2022-03-15T13:47:17.609772Z"
    },
    "papermill": {
     "duration": 0.071761,
     "end_time": "2022-03-15T13:47:17.610426",
     "exception": false,
     "start_time": "2022-03-15T13:47:17.538665",
     "status": "completed"
    },
    "tags": []
   },
   "outputs": [
    {
     "data": {
      "text/html": [
       "<div>\n",
       "<style scoped>\n",
       "    .dataframe tbody tr th:only-of-type {\n",
       "        vertical-align: middle;\n",
       "    }\n",
       "\n",
       "    .dataframe tbody tr th {\n",
       "        vertical-align: top;\n",
       "    }\n",
       "\n",
       "    .dataframe thead th {\n",
       "        text-align: right;\n",
       "    }\n",
       "</style>\n",
       "<table border=\"1\" class=\"dataframe\">\n",
       "  <thead>\n",
       "    <tr style=\"text-align: right;\">\n",
       "      <th></th>\n",
       "      <th>article_id</th>\n",
       "      <th>product_code</th>\n",
       "      <th>prod_name</th>\n",
       "      <th>product_type_no</th>\n",
       "      <th>product_type_name</th>\n",
       "      <th>product_group_name</th>\n",
       "      <th>graphical_appearance_no</th>\n",
       "      <th>graphical_appearance_name</th>\n",
       "      <th>colour_group_code</th>\n",
       "      <th>colour_group_name</th>\n",
       "      <th>...</th>\n",
       "      <th>department_name</th>\n",
       "      <th>index_code</th>\n",
       "      <th>index_name</th>\n",
       "      <th>index_group_no</th>\n",
       "      <th>index_group_name</th>\n",
       "      <th>section_no</th>\n",
       "      <th>section_name</th>\n",
       "      <th>garment_group_no</th>\n",
       "      <th>garment_group_name</th>\n",
       "      <th>detail_desc</th>\n",
       "    </tr>\n",
       "  </thead>\n",
       "  <tbody>\n",
       "    <tr>\n",
       "      <th>0</th>\n",
       "      <td>0108775015</td>\n",
       "      <td>108775</td>\n",
       "      <td>Strap top</td>\n",
       "      <td>253</td>\n",
       "      <td>Vest top</td>\n",
       "      <td>Garment Upper body</td>\n",
       "      <td>1010016</td>\n",
       "      <td>Solid</td>\n",
       "      <td>9</td>\n",
       "      <td>Black</td>\n",
       "      <td>...</td>\n",
       "      <td>Jersey Basic</td>\n",
       "      <td>A</td>\n",
       "      <td>Ladieswear</td>\n",
       "      <td>1</td>\n",
       "      <td>Ladieswear</td>\n",
       "      <td>16</td>\n",
       "      <td>Womens Everyday Basics</td>\n",
       "      <td>1002</td>\n",
       "      <td>Jersey Basic</td>\n",
       "      <td>Jersey top with narrow shoulder straps.</td>\n",
       "    </tr>\n",
       "    <tr>\n",
       "      <th>1</th>\n",
       "      <td>0108775044</td>\n",
       "      <td>108775</td>\n",
       "      <td>Strap top</td>\n",
       "      <td>253</td>\n",
       "      <td>Vest top</td>\n",
       "      <td>Garment Upper body</td>\n",
       "      <td>1010016</td>\n",
       "      <td>Solid</td>\n",
       "      <td>10</td>\n",
       "      <td>White</td>\n",
       "      <td>...</td>\n",
       "      <td>Jersey Basic</td>\n",
       "      <td>A</td>\n",
       "      <td>Ladieswear</td>\n",
       "      <td>1</td>\n",
       "      <td>Ladieswear</td>\n",
       "      <td>16</td>\n",
       "      <td>Womens Everyday Basics</td>\n",
       "      <td>1002</td>\n",
       "      <td>Jersey Basic</td>\n",
       "      <td>Jersey top with narrow shoulder straps.</td>\n",
       "    </tr>\n",
       "    <tr>\n",
       "      <th>2</th>\n",
       "      <td>0108775051</td>\n",
       "      <td>108775</td>\n",
       "      <td>Strap top (1)</td>\n",
       "      <td>253</td>\n",
       "      <td>Vest top</td>\n",
       "      <td>Garment Upper body</td>\n",
       "      <td>1010017</td>\n",
       "      <td>Stripe</td>\n",
       "      <td>11</td>\n",
       "      <td>Off White</td>\n",
       "      <td>...</td>\n",
       "      <td>Jersey Basic</td>\n",
       "      <td>A</td>\n",
       "      <td>Ladieswear</td>\n",
       "      <td>1</td>\n",
       "      <td>Ladieswear</td>\n",
       "      <td>16</td>\n",
       "      <td>Womens Everyday Basics</td>\n",
       "      <td>1002</td>\n",
       "      <td>Jersey Basic</td>\n",
       "      <td>Jersey top with narrow shoulder straps.</td>\n",
       "    </tr>\n",
       "    <tr>\n",
       "      <th>3</th>\n",
       "      <td>0110065001</td>\n",
       "      <td>110065</td>\n",
       "      <td>OP T-shirt (Idro)</td>\n",
       "      <td>306</td>\n",
       "      <td>Bra</td>\n",
       "      <td>Underwear</td>\n",
       "      <td>1010016</td>\n",
       "      <td>Solid</td>\n",
       "      <td>9</td>\n",
       "      <td>Black</td>\n",
       "      <td>...</td>\n",
       "      <td>Clean Lingerie</td>\n",
       "      <td>B</td>\n",
       "      <td>Lingeries/Tights</td>\n",
       "      <td>1</td>\n",
       "      <td>Ladieswear</td>\n",
       "      <td>61</td>\n",
       "      <td>Womens Lingerie</td>\n",
       "      <td>1017</td>\n",
       "      <td>Under-, Nightwear</td>\n",
       "      <td>Microfibre T-shirt bra with underwired, moulde...</td>\n",
       "    </tr>\n",
       "    <tr>\n",
       "      <th>4</th>\n",
       "      <td>0110065002</td>\n",
       "      <td>110065</td>\n",
       "      <td>OP T-shirt (Idro)</td>\n",
       "      <td>306</td>\n",
       "      <td>Bra</td>\n",
       "      <td>Underwear</td>\n",
       "      <td>1010016</td>\n",
       "      <td>Solid</td>\n",
       "      <td>10</td>\n",
       "      <td>White</td>\n",
       "      <td>...</td>\n",
       "      <td>Clean Lingerie</td>\n",
       "      <td>B</td>\n",
       "      <td>Lingeries/Tights</td>\n",
       "      <td>1</td>\n",
       "      <td>Ladieswear</td>\n",
       "      <td>61</td>\n",
       "      <td>Womens Lingerie</td>\n",
       "      <td>1017</td>\n",
       "      <td>Under-, Nightwear</td>\n",
       "      <td>Microfibre T-shirt bra with underwired, moulde...</td>\n",
       "    </tr>\n",
       "  </tbody>\n",
       "</table>\n",
       "<p>5 rows × 25 columns</p>\n",
       "</div>"
      ],
      "text/plain": [
       "   article_id  product_code          prod_name  product_type_no  \\\n",
       "0  0108775015        108775          Strap top              253   \n",
       "1  0108775044        108775          Strap top              253   \n",
       "2  0108775051        108775      Strap top (1)              253   \n",
       "3  0110065001        110065  OP T-shirt (Idro)              306   \n",
       "4  0110065002        110065  OP T-shirt (Idro)              306   \n",
       "\n",
       "  product_type_name  product_group_name  graphical_appearance_no  \\\n",
       "0          Vest top  Garment Upper body                  1010016   \n",
       "1          Vest top  Garment Upper body                  1010016   \n",
       "2          Vest top  Garment Upper body                  1010017   \n",
       "3               Bra           Underwear                  1010016   \n",
       "4               Bra           Underwear                  1010016   \n",
       "\n",
       "  graphical_appearance_name  colour_group_code colour_group_name  ...  \\\n",
       "0                     Solid                  9             Black  ...   \n",
       "1                     Solid                 10             White  ...   \n",
       "2                    Stripe                 11         Off White  ...   \n",
       "3                     Solid                  9             Black  ...   \n",
       "4                     Solid                 10             White  ...   \n",
       "\n",
       "   department_name index_code        index_name index_group_no  \\\n",
       "0     Jersey Basic          A        Ladieswear              1   \n",
       "1     Jersey Basic          A        Ladieswear              1   \n",
       "2     Jersey Basic          A        Ladieswear              1   \n",
       "3   Clean Lingerie          B  Lingeries/Tights              1   \n",
       "4   Clean Lingerie          B  Lingeries/Tights              1   \n",
       "\n",
       "   index_group_name section_no            section_name garment_group_no  \\\n",
       "0        Ladieswear         16  Womens Everyday Basics             1002   \n",
       "1        Ladieswear         16  Womens Everyday Basics             1002   \n",
       "2        Ladieswear         16  Womens Everyday Basics             1002   \n",
       "3        Ladieswear         61         Womens Lingerie             1017   \n",
       "4        Ladieswear         61         Womens Lingerie             1017   \n",
       "\n",
       "   garment_group_name                                        detail_desc  \n",
       "0        Jersey Basic            Jersey top with narrow shoulder straps.  \n",
       "1        Jersey Basic            Jersey top with narrow shoulder straps.  \n",
       "2        Jersey Basic            Jersey top with narrow shoulder straps.  \n",
       "3   Under-, Nightwear  Microfibre T-shirt bra with underwired, moulde...  \n",
       "4   Under-, Nightwear  Microfibre T-shirt bra with underwired, moulde...  \n",
       "\n",
       "[5 rows x 25 columns]"
      ]
     },
     "execution_count": 11,
     "metadata": {},
     "output_type": "execute_result"
    }
   ],
   "source": [
    "article_data.head()"
   ]
  },
  {
   "cell_type": "code",
   "execution_count": 12,
   "id": "b5f383aa",
   "metadata": {
    "execution": {
     "iopub.execute_input": "2022-03-15T13:47:17.761854Z",
     "iopub.status.busy": "2022-03-15T13:47:17.760796Z",
     "iopub.status.idle": "2022-03-15T13:47:17.775640Z",
     "shell.execute_reply": "2022-03-15T13:47:17.776309Z"
    },
    "papermill": {
     "duration": 0.124957,
     "end_time": "2022-03-15T13:47:17.776488",
     "exception": false,
     "start_time": "2022-03-15T13:47:17.651531",
     "status": "completed"
    },
    "tags": []
   },
   "outputs": [
    {
     "name": "stdout",
     "output_type": "stream",
     "text": [
      "<class 'pandas.core.frame.DataFrame'>\n",
      "RangeIndex: 105542 entries, 0 to 105541\n",
      "Data columns (total 25 columns):\n",
      " #   Column                        Non-Null Count   Dtype \n",
      "---  ------                        --------------   ----- \n",
      " 0   article_id                    105542 non-null  object\n",
      " 1   product_code                  105542 non-null  int64 \n",
      " 2   prod_name                     105542 non-null  object\n",
      " 3   product_type_no               105542 non-null  int64 \n",
      " 4   product_type_name             105542 non-null  object\n",
      " 5   product_group_name            105542 non-null  object\n",
      " 6   graphical_appearance_no       105542 non-null  int64 \n",
      " 7   graphical_appearance_name     105542 non-null  object\n",
      " 8   colour_group_code             105542 non-null  int64 \n",
      " 9   colour_group_name             105542 non-null  object\n",
      " 10  perceived_colour_value_id     105542 non-null  int64 \n",
      " 11  perceived_colour_value_name   105542 non-null  object\n",
      " 12  perceived_colour_master_id    105542 non-null  int64 \n",
      " 13  perceived_colour_master_name  105542 non-null  object\n",
      " 14  department_no                 105542 non-null  int64 \n",
      " 15  department_name               105542 non-null  object\n",
      " 16  index_code                    105542 non-null  object\n",
      " 17  index_name                    105542 non-null  object\n",
      " 18  index_group_no                105542 non-null  int64 \n",
      " 19  index_group_name              105542 non-null  object\n",
      " 20  section_no                    105542 non-null  int64 \n",
      " 21  section_name                  105542 non-null  object\n",
      " 22  garment_group_no              105542 non-null  int64 \n",
      " 23  garment_group_name            105542 non-null  object\n",
      " 24  detail_desc                   105126 non-null  object\n",
      "dtypes: int64(10), object(15)\n",
      "memory usage: 20.1+ MB\n"
     ]
    }
   ],
   "source": [
    "article_data.info()"
   ]
  },
  {
   "cell_type": "markdown",
   "id": "9459a1e3",
   "metadata": {
    "papermill": {
     "duration": 0.039296,
     "end_time": "2022-03-15T13:47:17.857091",
     "exception": false,
     "start_time": "2022-03-15T13:47:17.817795",
     "status": "completed"
    },
    "tags": []
   },
   "source": [
    "## Capturing Seasonal Effect by Limiting the transaction date\n",
    "Based on notebook with link: https://www.kaggle.com/tomooinubushi/folk-of-time-is-our-best-friend/notebook"
   ]
  },
  {
   "cell_type": "code",
   "execution_count": 13,
   "id": "67ea8426",
   "metadata": {
    "execution": {
     "iopub.execute_input": "2022-03-15T13:47:17.941794Z",
     "iopub.status.busy": "2022-03-15T13:47:17.941180Z",
     "iopub.status.idle": "2022-03-15T13:47:18.149776Z",
     "shell.execute_reply": "2022-03-15T13:47:18.149150Z"
    },
    "papermill": {
     "duration": 0.253841,
     "end_time": "2022-03-15T13:47:18.149946",
     "exception": false,
     "start_time": "2022-03-15T13:47:17.896105",
     "status": "completed"
    },
    "tags": []
   },
   "outputs": [
    {
     "data": {
      "text/plain": [
       "(1190911, 5)"
      ]
     },
     "execution_count": 13,
     "metadata": {},
     "output_type": "execute_result"
    }
   ],
   "source": [
    "transactions_data = transactions_data[transactions_data['t_dat'] > '2020-08-21']\n",
    "transactions_data.shape"
   ]
  },
  {
   "cell_type": "markdown",
   "id": "651601b2",
   "metadata": {
    "papermill": {
     "duration": 0.040065,
     "end_time": "2022-03-15T13:47:18.231072",
     "exception": false,
     "start_time": "2022-03-15T13:47:18.191007",
     "status": "completed"
    },
    "tags": []
   },
   "source": [
    "## Aggregating Customers and Articles irrespective of transaction dates"
   ]
  },
  {
   "cell_type": "code",
   "execution_count": 14,
   "id": "36ff07b0",
   "metadata": {
    "execution": {
     "iopub.execute_input": "2022-03-15T13:47:18.341118Z",
     "iopub.status.busy": "2022-03-15T13:47:18.340440Z",
     "iopub.status.idle": "2022-03-15T13:47:20.025625Z",
     "shell.execute_reply": "2022-03-15T13:47:20.024507Z"
    },
    "papermill": {
     "duration": 1.753709,
     "end_time": "2022-03-15T13:47:20.025789",
     "exception": false,
     "start_time": "2022-03-15T13:47:18.272080",
     "status": "completed"
    },
    "tags": []
   },
   "outputs": [],
   "source": [
    "transactions_data = transactions_data.groupby(['customer_id','article_id']).agg({'price':'sum','t_dat':'count'}).reset_index()\n",
    "transactions_data = transactions_data[['customer_id','article_id','price','t_dat']]"
   ]
  },
  {
   "cell_type": "markdown",
   "id": "11a2c7d8",
   "metadata": {
    "papermill": {
     "duration": 0.040355,
     "end_time": "2022-03-15T13:47:20.107679",
     "exception": false,
     "start_time": "2022-03-15T13:47:20.067324",
     "status": "completed"
    },
    "tags": []
   },
   "source": [
    "## Generating user and article index mapping dictionaries"
   ]
  },
  {
   "cell_type": "code",
   "execution_count": 15,
   "id": "bfea7a2f",
   "metadata": {
    "execution": {
     "iopub.execute_input": "2022-03-15T13:47:20.199177Z",
     "iopub.status.busy": "2022-03-15T13:47:20.198413Z",
     "iopub.status.idle": "2022-03-15T13:47:20.201676Z",
     "shell.execute_reply": "2022-03-15T13:47:20.201164Z"
    },
    "papermill": {
     "duration": 0.052343,
     "end_time": "2022-03-15T13:47:20.201831",
     "exception": false,
     "start_time": "2022-03-15T13:47:20.149488",
     "status": "completed"
    },
    "tags": []
   },
   "outputs": [],
   "source": [
    "def get_customers_list():\n",
    "    # Creating a list of users\n",
    "    return np.sort(customer_data['customer_id'].unique())\n",
    "\n",
    "def get_articles_list():\n",
    "    # Creating a list of courses \n",
    "    item_list = article_data['article_id'].unique()\n",
    "    return item_list\n",
    "\n",
    "def id_mappings(customers_list, articles_list):\n",
    "    \"\"\"\n",
    "    \n",
    "    Create id mappings to convert user_id, item_id, and feature_id\n",
    "    \n",
    "    \"\"\"\n",
    "    customer_to_index_mapping = {}\n",
    "    index_to_customer_mapping = {}\n",
    "    for customer_index, customer_id in enumerate(customers_list):\n",
    "        customer_to_index_mapping[customer_id] = customer_index\n",
    "        index_to_customer_mapping[customer_index] = customer_id\n",
    "        \n",
    "    article_to_index_mapping = {}\n",
    "    index_to_article_mapping = {}\n",
    "    for article_index, article_id in enumerate(articles_list):\n",
    "        article_to_index_mapping[article_id] = article_index\n",
    "        index_to_article_mapping[article_index] = article_id\n",
    "        \n",
    "    return customer_to_index_mapping, index_to_customer_mapping, \\\n",
    "           article_to_index_mapping, index_to_article_mapping"
   ]
  },
  {
   "cell_type": "code",
   "execution_count": 16,
   "id": "8835bcc4",
   "metadata": {
    "execution": {
     "iopub.execute_input": "2022-03-15T13:47:20.361621Z",
     "iopub.status.busy": "2022-03-15T13:47:20.360943Z",
     "iopub.status.idle": "2022-03-15T13:47:21.573561Z",
     "shell.execute_reply": "2022-03-15T13:47:21.572987Z"
    },
    "papermill": {
     "duration": 1.329918,
     "end_time": "2022-03-15T13:47:21.573715",
     "exception": false,
     "start_time": "2022-03-15T13:47:20.243797",
     "status": "completed"
    },
    "tags": []
   },
   "outputs": [],
   "source": [
    "customers = get_customers_list()\n",
    "articles = get_articles_list()"
   ]
  },
  {
   "cell_type": "code",
   "execution_count": 17,
   "id": "1ee6c8bf",
   "metadata": {
    "execution": {
     "iopub.execute_input": "2022-03-15T13:47:21.661949Z",
     "iopub.status.busy": "2022-03-15T13:47:21.661304Z",
     "iopub.status.idle": "2022-03-15T13:47:21.664885Z",
     "shell.execute_reply": "2022-03-15T13:47:21.664358Z"
    },
    "papermill": {
     "duration": 0.04901,
     "end_time": "2022-03-15T13:47:21.665067",
     "exception": false,
     "start_time": "2022-03-15T13:47:21.616057",
     "status": "completed"
    },
    "tags": []
   },
   "outputs": [
    {
     "data": {
      "text/plain": [
       "array(['00000dbacae5abe5e23885899a1fa44253a17956c6d1c3d25f88aa139fdfc657',\n",
       "       '0000423b00ade91418cceaf3b26c6af3dd342b51fd051eec9c12fb36984420fa',\n",
       "       '000058a12d5b43e67d225668fa1f8d618c13dc232df0cad8ffe7ad4a1091e318',\n",
       "       ...,\n",
       "       'ffffcf35913a0bee60e8741cb2b4e78b8a98ee5ff2e6a1778d0116cffd259264',\n",
       "       'ffffd7744cebcf3aca44ae7049d2a94b87074c3d4ffe38b2236865d949d4df6a',\n",
       "       'ffffd9ac14e89946416d80e791d064701994755c3ab686a1eaf3458c36f52241'],\n",
       "      dtype=object)"
      ]
     },
     "execution_count": 17,
     "metadata": {},
     "output_type": "execute_result"
    }
   ],
   "source": [
    "customers"
   ]
  },
  {
   "cell_type": "code",
   "execution_count": 18,
   "id": "2fc292e4",
   "metadata": {
    "execution": {
     "iopub.execute_input": "2022-03-15T13:47:21.753427Z",
     "iopub.status.busy": "2022-03-15T13:47:21.752797Z",
     "iopub.status.idle": "2022-03-15T13:47:21.756627Z",
     "shell.execute_reply": "2022-03-15T13:47:21.756041Z"
    },
    "papermill": {
     "duration": 0.049643,
     "end_time": "2022-03-15T13:47:21.756768",
     "exception": false,
     "start_time": "2022-03-15T13:47:21.707125",
     "status": "completed"
    },
    "tags": []
   },
   "outputs": [
    {
     "data": {
      "text/plain": [
       "array(['0108775015', '0108775044', '0108775051', ..., '0956217002',\n",
       "       '0957375001', '0959461001'], dtype=object)"
      ]
     },
     "execution_count": 18,
     "metadata": {},
     "output_type": "execute_result"
    }
   ],
   "source": [
    "articles"
   ]
  },
  {
   "cell_type": "code",
   "execution_count": 19,
   "id": "2e2ef1ec",
   "metadata": {
    "execution": {
     "iopub.execute_input": "2022-03-15T13:47:21.879091Z",
     "iopub.status.busy": "2022-03-15T13:47:21.857913Z",
     "iopub.status.idle": "2022-03-15T13:47:22.571476Z",
     "shell.execute_reply": "2022-03-15T13:47:22.572018Z"
    },
    "papermill": {
     "duration": 0.772928,
     "end_time": "2022-03-15T13:47:22.572214",
     "exception": false,
     "start_time": "2022-03-15T13:47:21.799286",
     "status": "completed"
    },
    "tags": []
   },
   "outputs": [],
   "source": [
    "# Generate mapping, LightFM library can't read other than (integer) index\n",
    "customer_to_index_mapping, index_to_customer_mapping, \\\n",
    "article_to_index_mapping, index_to_article_mapping = id_mappings(customers, articles)"
   ]
  },
  {
   "cell_type": "markdown",
   "id": "7d49b4bc",
   "metadata": {
    "papermill": {
     "duration": 0.041643,
     "end_time": "2022-03-15T13:47:22.654625",
     "exception": false,
     "start_time": "2022-03-15T13:47:22.612982",
     "status": "completed"
    },
    "tags": []
   },
   "source": [
    "## Generate Customer Article Interaction Matrix"
   ]
  },
  {
   "cell_type": "code",
   "execution_count": 20,
   "id": "ea7ead57",
   "metadata": {
    "execution": {
     "iopub.execute_input": "2022-03-15T13:47:22.744994Z",
     "iopub.status.busy": "2022-03-15T13:47:22.744182Z",
     "iopub.status.idle": "2022-03-15T13:47:22.747763Z",
     "shell.execute_reply": "2022-03-15T13:47:22.747179Z"
    },
    "papermill": {
     "duration": 0.052628,
     "end_time": "2022-03-15T13:47:22.747911",
     "exception": false,
     "start_time": "2022-03-15T13:47:22.695283",
     "status": "completed"
    },
    "tags": []
   },
   "outputs": [],
   "source": [
    "def get_customer_article_interaction(customer_article_amt_df, agg_col_name='price'):\n",
    "    #start indexing\n",
    "    customer_article_amt_df[\"customer_id\"] = customer_article_amt_df[\"customer_id\"]\n",
    "    customer_article_amt_df[\"article_id\"] = customer_article_amt_df[\"article_id\"]\n",
    "    customer_article_amt_df[agg_col_name] = customer_article_amt_df[agg_col_name]\n",
    "\n",
    "    # Preprocessing dataframe created\n",
    "    customer_article_amt_df = customer_article_amt_df.rename(columns = {'price':'total_amount_spent', 't_dat': 'total_no_of_transactions'})\n",
    "\n",
    "    # Replace Amount Column with category codes \n",
    "    if agg_col_name.__eq__('price'):\n",
    "        customer_article_amt_df['total_amount_spent'] = customer_article_amt_df['total_amount_spent'].astype('category')\n",
    "        customer_article_amt_df['total_amount_spent'] = customer_article_amt_df['total_amount_spent'].cat.codes\n",
    "    elif agg_col_name.__eq__('t_dat'):\n",
    "        customer_article_amt_df['total_no_of_transactions'] = customer_article_amt_df['total_no_of_transactions'].astype('category')\n",
    "        customer_article_amt_df['total_no_of_transactions'] = customer_article_amt_df['total_no_of_transactions'].cat.codes\n",
    "\n",
    "    return customer_article_amt_df\n",
    "\n",
    "def get_interaction_matrix(df, df_column_as_row, df_column_as_col, \n",
    "                        df_column_as_value, row_indexing_map, col_indexing_map):\n",
    "    \n",
    "    row = df[df_column_as_row].apply(lambda x: row_indexing_map[x]).values\n",
    "    col = df[df_column_as_col].apply(lambda x: col_indexing_map[x]).values\n",
    "    value = df[df_column_as_value].values\n",
    "    \n",
    "    return sparse.coo_matrix((value, (row, col)), shape = (len(row_indexing_map), len(col_indexing_map)))\n"
   ]
  },
  {
   "cell_type": "markdown",
   "id": "0ca035e2",
   "metadata": {
    "papermill": {
     "duration": 0.044873,
     "end_time": "2022-03-15T13:47:22.834980",
     "exception": false,
     "start_time": "2022-03-15T13:47:22.790107",
     "status": "completed"
    },
    "tags": []
   },
   "source": [
    "### Customer Article Interaction based on Amount Spent"
   ]
  },
  {
   "cell_type": "code",
   "execution_count": 21,
   "id": "f4a446a7",
   "metadata": {
    "execution": {
     "iopub.execute_input": "2022-03-15T13:47:22.928872Z",
     "iopub.status.busy": "2022-03-15T13:47:22.927690Z",
     "iopub.status.idle": "2022-03-15T13:47:23.053652Z",
     "shell.execute_reply": "2022-03-15T13:47:23.054130Z"
    },
    "papermill": {
     "duration": 0.175817,
     "end_time": "2022-03-15T13:47:23.054307",
     "exception": false,
     "start_time": "2022-03-15T13:47:22.878490",
     "status": "completed"
    },
    "tags": []
   },
   "outputs": [
    {
     "name": "stdout",
     "output_type": "stream",
     "text": [
      "(1051730, 3)\n"
     ]
    },
    {
     "name": "stderr",
     "output_type": "stream",
     "text": [
      "/opt/conda/lib/python3.7/site-packages/ipykernel_launcher.py:3: SettingWithCopyWarning: \n",
      "A value is trying to be set on a copy of a slice from a DataFrame.\n",
      "Try using .loc[row_indexer,col_indexer] = value instead\n",
      "\n",
      "See the caveats in the documentation: https://pandas.pydata.org/pandas-docs/stable/user_guide/indexing.html#returning-a-view-versus-a-copy\n",
      "  This is separate from the ipykernel package so we can avoid doing imports until\n",
      "/opt/conda/lib/python3.7/site-packages/ipykernel_launcher.py:4: SettingWithCopyWarning: \n",
      "A value is trying to be set on a copy of a slice from a DataFrame.\n",
      "Try using .loc[row_indexer,col_indexer] = value instead\n",
      "\n",
      "See the caveats in the documentation: https://pandas.pydata.org/pandas-docs/stable/user_guide/indexing.html#returning-a-view-versus-a-copy\n",
      "  after removing the cwd from sys.path.\n",
      "/opt/conda/lib/python3.7/site-packages/ipykernel_launcher.py:5: SettingWithCopyWarning: \n",
      "A value is trying to be set on a copy of a slice from a DataFrame.\n",
      "Try using .loc[row_indexer,col_indexer] = value instead\n",
      "\n",
      "See the caveats in the documentation: https://pandas.pydata.org/pandas-docs/stable/user_guide/indexing.html#returning-a-view-versus-a-copy\n",
      "  \"\"\"\n"
     ]
    }
   ],
   "source": [
    "# Create customer and article interaction dataframe based on total amount spent\n",
    "customer_to_article_amt = get_customer_article_interaction(customer_article_amt_df = transactions_data[['customer_id','article_id','price']])\n",
    "print(customer_to_article_amt.shape)                                                  "
   ]
  },
  {
   "cell_type": "code",
   "execution_count": 22,
   "id": "c9494368",
   "metadata": {
    "execution": {
     "iopub.execute_input": "2022-03-15T13:47:23.146486Z",
     "iopub.status.busy": "2022-03-15T13:47:23.145632Z",
     "iopub.status.idle": "2022-03-15T13:47:23.149264Z",
     "shell.execute_reply": "2022-03-15T13:47:23.149662Z"
    },
    "papermill": {
     "duration": 0.05445,
     "end_time": "2022-03-15T13:47:23.149836",
     "exception": false,
     "start_time": "2022-03-15T13:47:23.095386",
     "status": "completed"
    },
    "tags": []
   },
   "outputs": [
    {
     "data": {
      "text/html": [
       "<div>\n",
       "<style scoped>\n",
       "    .dataframe tbody tr th:only-of-type {\n",
       "        vertical-align: middle;\n",
       "    }\n",
       "\n",
       "    .dataframe tbody tr th {\n",
       "        vertical-align: top;\n",
       "    }\n",
       "\n",
       "    .dataframe thead th {\n",
       "        text-align: right;\n",
       "    }\n",
       "</style>\n",
       "<table border=\"1\" class=\"dataframe\">\n",
       "  <thead>\n",
       "    <tr style=\"text-align: right;\">\n",
       "      <th></th>\n",
       "      <th>customer_id</th>\n",
       "      <th>article_id</th>\n",
       "      <th>total_amount_spent</th>\n",
       "    </tr>\n",
       "  </thead>\n",
       "  <tbody>\n",
       "    <tr>\n",
       "      <th>0</th>\n",
       "      <td>00000dbacae5abe5e23885899a1fa44253a17956c6d1c3...</td>\n",
       "      <td>0568601043</td>\n",
       "      <td>4205</td>\n",
       "    </tr>\n",
       "    <tr>\n",
       "      <th>1</th>\n",
       "      <td>000058a12d5b43e67d225668fa1f8d618c13dc232df0ca...</td>\n",
       "      <td>0794321007</td>\n",
       "      <td>4791</td>\n",
       "    </tr>\n",
       "    <tr>\n",
       "      <th>2</th>\n",
       "      <td>0000757967448a6cb83efb3ea7a3fb9d418ac7adf2379d...</td>\n",
       "      <td>0448509014</td>\n",
       "      <td>3443</td>\n",
       "    </tr>\n",
       "    <tr>\n",
       "      <th>3</th>\n",
       "      <td>0000757967448a6cb83efb3ea7a3fb9d418ac7adf2379d...</td>\n",
       "      <td>0719530003</td>\n",
       "      <td>2792</td>\n",
       "    </tr>\n",
       "    <tr>\n",
       "      <th>4</th>\n",
       "      <td>00009d946eec3ea54add5ba56d5210ea898def4b46c685...</td>\n",
       "      <td>0516859008</td>\n",
       "      <td>939</td>\n",
       "    </tr>\n",
       "  </tbody>\n",
       "</table>\n",
       "</div>"
      ],
      "text/plain": [
       "                                         customer_id  article_id  \\\n",
       "0  00000dbacae5abe5e23885899a1fa44253a17956c6d1c3...  0568601043   \n",
       "1  000058a12d5b43e67d225668fa1f8d618c13dc232df0ca...  0794321007   \n",
       "2  0000757967448a6cb83efb3ea7a3fb9d418ac7adf2379d...  0448509014   \n",
       "3  0000757967448a6cb83efb3ea7a3fb9d418ac7adf2379d...  0719530003   \n",
       "4  00009d946eec3ea54add5ba56d5210ea898def4b46c685...  0516859008   \n",
       "\n",
       "   total_amount_spent  \n",
       "0                4205  \n",
       "1                4791  \n",
       "2                3443  \n",
       "3                2792  \n",
       "4                 939  "
      ]
     },
     "execution_count": 22,
     "metadata": {},
     "output_type": "execute_result"
    }
   ],
   "source": [
    "customer_to_article_amt.head()"
   ]
  },
  {
   "cell_type": "code",
   "execution_count": 23,
   "id": "c29fce21",
   "metadata": {
    "execution": {
     "iopub.execute_input": "2022-03-15T13:47:23.240084Z",
     "iopub.status.busy": "2022-03-15T13:47:23.239077Z",
     "iopub.status.idle": "2022-03-15T13:47:24.368169Z",
     "shell.execute_reply": "2022-03-15T13:47:24.367524Z"
    },
    "papermill": {
     "duration": 1.176412,
     "end_time": "2022-03-15T13:47:24.368330",
     "exception": false,
     "start_time": "2022-03-15T13:47:23.191918",
     "status": "completed"
    },
    "tags": []
   },
   "outputs": [],
   "source": [
    "# Generate customer_article_interaction_matrix for train data\n",
    "customer_to_article_interaction_amt = get_interaction_matrix(customer_to_article_amt, \"customer_id\", \"article_id\", \"total_amount_spent\", \\\n",
    "                                                            customer_to_index_mapping, article_to_index_mapping)"
   ]
  },
  {
   "cell_type": "code",
   "execution_count": 24,
   "id": "8de7f61d",
   "metadata": {
    "execution": {
     "iopub.execute_input": "2022-03-15T13:47:24.459413Z",
     "iopub.status.busy": "2022-03-15T13:47:24.458278Z",
     "iopub.status.idle": "2022-03-15T13:47:24.462697Z",
     "shell.execute_reply": "2022-03-15T13:47:24.462190Z"
    },
    "papermill": {
     "duration": 0.052034,
     "end_time": "2022-03-15T13:47:24.462828",
     "exception": false,
     "start_time": "2022-03-15T13:47:24.410794",
     "status": "completed"
    },
    "tags": []
   },
   "outputs": [
    {
     "data": {
      "text/plain": [
       "<1371980x105542 sparse matrix of type '<class 'numpy.int16'>'\n",
       "\twith 1051730 stored elements in COOrdinate format>"
      ]
     },
     "execution_count": 24,
     "metadata": {},
     "output_type": "execute_result"
    }
   ],
   "source": [
    "customer_to_article_interaction_amt"
   ]
  },
  {
   "cell_type": "markdown",
   "id": "dd7613ec",
   "metadata": {
    "papermill": {
     "duration": 0.043438,
     "end_time": "2022-03-15T13:47:24.549451",
     "exception": false,
     "start_time": "2022-03-15T13:47:24.506013",
     "status": "completed"
    },
    "tags": []
   },
   "source": [
    "### Customer Article Interaction based on Transaction Counts"
   ]
  },
  {
   "cell_type": "code",
   "execution_count": 25,
   "id": "0fba1db2",
   "metadata": {
    "execution": {
     "iopub.execute_input": "2022-03-15T13:47:24.641265Z",
     "iopub.status.busy": "2022-03-15T13:47:24.640098Z",
     "iopub.status.idle": "2022-03-15T13:47:24.755630Z",
     "shell.execute_reply": "2022-03-15T13:47:24.756126Z"
    },
    "papermill": {
     "duration": 0.164473,
     "end_time": "2022-03-15T13:47:24.756298",
     "exception": false,
     "start_time": "2022-03-15T13:47:24.591825",
     "status": "completed"
    },
    "tags": []
   },
   "outputs": [
    {
     "name": "stdout",
     "output_type": "stream",
     "text": [
      "(1051730, 3)\n"
     ]
    },
    {
     "name": "stderr",
     "output_type": "stream",
     "text": [
      "/opt/conda/lib/python3.7/site-packages/ipykernel_launcher.py:3: SettingWithCopyWarning: \n",
      "A value is trying to be set on a copy of a slice from a DataFrame.\n",
      "Try using .loc[row_indexer,col_indexer] = value instead\n",
      "\n",
      "See the caveats in the documentation: https://pandas.pydata.org/pandas-docs/stable/user_guide/indexing.html#returning-a-view-versus-a-copy\n",
      "  This is separate from the ipykernel package so we can avoid doing imports until\n",
      "/opt/conda/lib/python3.7/site-packages/ipykernel_launcher.py:4: SettingWithCopyWarning: \n",
      "A value is trying to be set on a copy of a slice from a DataFrame.\n",
      "Try using .loc[row_indexer,col_indexer] = value instead\n",
      "\n",
      "See the caveats in the documentation: https://pandas.pydata.org/pandas-docs/stable/user_guide/indexing.html#returning-a-view-versus-a-copy\n",
      "  after removing the cwd from sys.path.\n",
      "/opt/conda/lib/python3.7/site-packages/ipykernel_launcher.py:5: SettingWithCopyWarning: \n",
      "A value is trying to be set on a copy of a slice from a DataFrame.\n",
      "Try using .loc[row_indexer,col_indexer] = value instead\n",
      "\n",
      "See the caveats in the documentation: https://pandas.pydata.org/pandas-docs/stable/user_guide/indexing.html#returning-a-view-versus-a-copy\n",
      "  \"\"\"\n"
     ]
    }
   ],
   "source": [
    "# Create customer and article interaction dataframe based on total number of transactions made\n",
    "customer_to_article_tdate = get_customer_article_interaction(customer_article_amt_df = transactions_data[['customer_id','article_id','t_dat']],\n",
    "                                                            agg_col_name='t_dat')\n",
    "print(customer_to_article_tdate.shape)     "
   ]
  },
  {
   "cell_type": "code",
   "execution_count": 26,
   "id": "2a178958",
   "metadata": {
    "execution": {
     "iopub.execute_input": "2022-03-15T13:47:24.852667Z",
     "iopub.status.busy": "2022-03-15T13:47:24.851751Z",
     "iopub.status.idle": "2022-03-15T13:47:24.855694Z",
     "shell.execute_reply": "2022-03-15T13:47:24.855238Z"
    },
    "papermill": {
     "duration": 0.056584,
     "end_time": "2022-03-15T13:47:24.855832",
     "exception": false,
     "start_time": "2022-03-15T13:47:24.799248",
     "status": "completed"
    },
    "tags": []
   },
   "outputs": [
    {
     "data": {
      "text/html": [
       "<div>\n",
       "<style scoped>\n",
       "    .dataframe tbody tr th:only-of-type {\n",
       "        vertical-align: middle;\n",
       "    }\n",
       "\n",
       "    .dataframe tbody tr th {\n",
       "        vertical-align: top;\n",
       "    }\n",
       "\n",
       "    .dataframe thead th {\n",
       "        text-align: right;\n",
       "    }\n",
       "</style>\n",
       "<table border=\"1\" class=\"dataframe\">\n",
       "  <thead>\n",
       "    <tr style=\"text-align: right;\">\n",
       "      <th></th>\n",
       "      <th>customer_id</th>\n",
       "      <th>article_id</th>\n",
       "      <th>total_no_of_transactions</th>\n",
       "    </tr>\n",
       "  </thead>\n",
       "  <tbody>\n",
       "    <tr>\n",
       "      <th>0</th>\n",
       "      <td>00000dbacae5abe5e23885899a1fa44253a17956c6d1c3...</td>\n",
       "      <td>0568601043</td>\n",
       "      <td>0</td>\n",
       "    </tr>\n",
       "    <tr>\n",
       "      <th>1</th>\n",
       "      <td>000058a12d5b43e67d225668fa1f8d618c13dc232df0ca...</td>\n",
       "      <td>0794321007</td>\n",
       "      <td>0</td>\n",
       "    </tr>\n",
       "    <tr>\n",
       "      <th>2</th>\n",
       "      <td>0000757967448a6cb83efb3ea7a3fb9d418ac7adf2379d...</td>\n",
       "      <td>0448509014</td>\n",
       "      <td>0</td>\n",
       "    </tr>\n",
       "    <tr>\n",
       "      <th>3</th>\n",
       "      <td>0000757967448a6cb83efb3ea7a3fb9d418ac7adf2379d...</td>\n",
       "      <td>0719530003</td>\n",
       "      <td>0</td>\n",
       "    </tr>\n",
       "    <tr>\n",
       "      <th>4</th>\n",
       "      <td>00009d946eec3ea54add5ba56d5210ea898def4b46c685...</td>\n",
       "      <td>0516859008</td>\n",
       "      <td>0</td>\n",
       "    </tr>\n",
       "  </tbody>\n",
       "</table>\n",
       "</div>"
      ],
      "text/plain": [
       "                                         customer_id  article_id  \\\n",
       "0  00000dbacae5abe5e23885899a1fa44253a17956c6d1c3...  0568601043   \n",
       "1  000058a12d5b43e67d225668fa1f8d618c13dc232df0ca...  0794321007   \n",
       "2  0000757967448a6cb83efb3ea7a3fb9d418ac7adf2379d...  0448509014   \n",
       "3  0000757967448a6cb83efb3ea7a3fb9d418ac7adf2379d...  0719530003   \n",
       "4  00009d946eec3ea54add5ba56d5210ea898def4b46c685...  0516859008   \n",
       "\n",
       "   total_no_of_transactions  \n",
       "0                         0  \n",
       "1                         0  \n",
       "2                         0  \n",
       "3                         0  \n",
       "4                         0  "
      ]
     },
     "execution_count": 26,
     "metadata": {},
     "output_type": "execute_result"
    }
   ],
   "source": [
    "customer_to_article_tdate.head()"
   ]
  },
  {
   "cell_type": "code",
   "execution_count": 27,
   "id": "b42d1b40",
   "metadata": {
    "execution": {
     "iopub.execute_input": "2022-03-15T13:47:24.970014Z",
     "iopub.status.busy": "2022-03-15T13:47:24.969218Z",
     "iopub.status.idle": "2022-03-15T13:47:26.097260Z",
     "shell.execute_reply": "2022-03-15T13:47:26.096628Z"
    },
    "papermill": {
     "duration": 1.196036,
     "end_time": "2022-03-15T13:47:26.097405",
     "exception": false,
     "start_time": "2022-03-15T13:47:24.901369",
     "status": "completed"
    },
    "tags": []
   },
   "outputs": [],
   "source": [
    "# Generate customer_article_interaction_matrix for train data\n",
    "customer_to_article_interaction_tdat = get_interaction_matrix(customer_to_article_tdate, \"customer_id\", \"article_id\", \"total_no_of_transactions\", \\\n",
    "                                                            customer_to_index_mapping, article_to_index_mapping)"
   ]
  },
  {
   "cell_type": "code",
   "execution_count": 28,
   "id": "68bd0ff6",
   "metadata": {
    "execution": {
     "iopub.execute_input": "2022-03-15T13:47:26.191851Z",
     "iopub.status.busy": "2022-03-15T13:47:26.191149Z",
     "iopub.status.idle": "2022-03-15T13:47:26.194545Z",
     "shell.execute_reply": "2022-03-15T13:47:26.194012Z"
    },
    "papermill": {
     "duration": 0.052495,
     "end_time": "2022-03-15T13:47:26.194691",
     "exception": false,
     "start_time": "2022-03-15T13:47:26.142196",
     "status": "completed"
    },
    "tags": []
   },
   "outputs": [
    {
     "data": {
      "text/plain": [
       "<1371980x105542 sparse matrix of type '<class 'numpy.int8'>'\n",
       "\twith 1051730 stored elements in COOrdinate format>"
      ]
     },
     "execution_count": 28,
     "metadata": {},
     "output_type": "execute_result"
    }
   ],
   "source": [
    "customer_to_article_interaction_tdat"
   ]
  },
  {
   "cell_type": "markdown",
   "id": "f466463d",
   "metadata": {
    "papermill": {
     "duration": 0.044153,
     "end_time": "2022-03-15T13:47:26.283264",
     "exception": false,
     "start_time": "2022-03-15T13:47:26.239111",
     "status": "completed"
    },
    "tags": []
   },
   "source": [
    "## Hyperparameter Tuning using Random Search"
   ]
  },
  {
   "cell_type": "code",
   "execution_count": 29,
   "id": "684e7bb3",
   "metadata": {
    "execution": {
     "iopub.execute_input": "2022-03-15T13:47:26.379113Z",
     "iopub.status.busy": "2022-03-15T13:47:26.378341Z",
     "iopub.status.idle": "2022-03-15T13:47:26.380920Z",
     "shell.execute_reply": "2022-03-15T13:47:26.380340Z"
    },
    "papermill": {
     "duration": 0.053703,
     "end_time": "2022-03-15T13:47:26.381085",
     "exception": false,
     "start_time": "2022-03-15T13:47:26.327382",
     "status": "completed"
    },
    "tags": []
   },
   "outputs": [],
   "source": [
    "def sample_hyperparameters():\n",
    "    while True:\n",
    "        yield {\n",
    "            \"no_components\": np.random.randint(16, 64),\n",
    "            \"learning_schedule\": np.random.choice([\"adagrad\", \"adadelta\"]),\n",
    "            \"loss\": np.random.choice([\"bpr\", \"warp\", \"warp-kos\"]),\n",
    "            \"learning_rate\": np.random.exponential(0.05),\n",
    "            \"item_alpha\": np.random.exponential(1e-8),\n",
    "            \"user_alpha\": np.random.exponential(1e-8),\n",
    "            \"max_sampled\": np.random.randint(5, 15),\n",
    "            \"num_epochs\": np.random.randint(5, 50),\n",
    "        }"
   ]
  },
  {
   "cell_type": "markdown",
   "id": "5cfaa852",
   "metadata": {
    "papermill": {
     "duration": 0.044886,
     "end_time": "2022-03-15T13:47:26.470882",
     "exception": false,
     "start_time": "2022-03-15T13:47:26.425996",
     "status": "completed"
    },
    "tags": []
   },
   "source": [
    "### Sampling Hyperparmeters Function"
   ]
  },
  {
   "cell_type": "markdown",
   "id": "14973fa6",
   "metadata": {
    "papermill": {
     "duration": 0.045386,
     "end_time": "2022-03-15T13:47:26.562088",
     "exception": false,
     "start_time": "2022-03-15T13:47:26.516702",
     "status": "completed"
    },
    "tags": []
   },
   "source": [
    "### Perform Random Search\n",
    "\n",
    "Train and Test Interactions are provided as input parameters to the function including the random samples to generate and number of threads to use to perform model training.  \n",
    "\n",
    "Output would be the precision score, set of hyperprameters and the model"
   ]
  },
  {
   "cell_type": "code",
   "execution_count": 30,
   "id": "a42bdf1d",
   "metadata": {
    "execution": {
     "iopub.execute_input": "2022-03-15T13:47:26.657077Z",
     "iopub.status.busy": "2022-03-15T13:47:26.656459Z",
     "iopub.status.idle": "2022-03-15T13:47:26.660864Z",
     "shell.execute_reply": "2022-03-15T13:47:26.660309Z"
    },
    "papermill": {
     "duration": 0.054716,
     "end_time": "2022-03-15T13:47:26.661026",
     "exception": false,
     "start_time": "2022-03-15T13:47:26.606310",
     "status": "completed"
    },
    "tags": []
   },
   "outputs": [],
   "source": [
    "def random_search(train_interactions, test_interactions, num_samples=10, num_threads=1):\n",
    "    for hyperparams in itertools.islice(sample_hyperparameters(), num_samples):\n",
    "        num_epochs = hyperparams.pop(\"num_epochs\")\n",
    "\n",
    "        model = LightFM(**hyperparams)\n",
    "        model.fit(train_interactions, epochs=num_epochs, num_threads=num_threads)\n",
    "\n",
    "        score = precision_at_k(model, test_interactions, train_interactions=train_interactions, k=12, num_threads=num_threads).mean()\n",
    "        \n",
    "        print(score)\n",
    "\n",
    "        hyperparams[\"num_epochs\"] = num_epochs\n",
    "\n",
    "        yield (score, hyperparams, model)"
   ]
  },
  {
   "cell_type": "markdown",
   "id": "fd66c5ef",
   "metadata": {
    "papermill": {
     "duration": 0.044353,
     "end_time": "2022-03-15T13:47:26.749992",
     "exception": false,
     "start_time": "2022-03-15T13:47:26.705639",
     "status": "completed"
    },
    "tags": []
   },
   "source": [
    "### Initiating Storage Dictionary"
   ]
  },
  {
   "cell_type": "code",
   "execution_count": 31,
   "id": "2b783f0f",
   "metadata": {
    "execution": {
     "iopub.execute_input": "2022-03-15T13:47:26.842996Z",
     "iopub.status.busy": "2022-03-15T13:47:26.842026Z",
     "iopub.status.idle": "2022-03-15T13:47:26.845992Z",
     "shell.execute_reply": "2022-03-15T13:47:26.846552Z"
    },
    "papermill": {
     "duration": 0.052512,
     "end_time": "2022-03-15T13:47:26.846718",
     "exception": false,
     "start_time": "2022-03-15T13:47:26.794206",
     "status": "completed"
    },
    "tags": []
   },
   "outputs": [],
   "source": [
    "optimized_dict={}"
   ]
  },
  {
   "cell_type": "markdown",
   "id": "612db668",
   "metadata": {
    "papermill": {
     "duration": 0.044345,
     "end_time": "2022-03-15T13:47:26.935600",
     "exception": false,
     "start_time": "2022-03-15T13:47:26.891255",
     "status": "completed"
    },
    "tags": []
   },
   "source": [
    "### Splitting the primary dataset into train and test sets based on amount spent"
   ]
  },
  {
   "cell_type": "code",
   "execution_count": 32,
   "id": "227aa7c4",
   "metadata": {
    "execution": {
     "iopub.execute_input": "2022-03-15T13:47:27.031300Z",
     "iopub.status.busy": "2022-03-15T13:47:27.030278Z",
     "iopub.status.idle": "2022-03-15T13:47:27.106978Z",
     "shell.execute_reply": "2022-03-15T13:47:27.106409Z"
    },
    "papermill": {
     "duration": 0.12625,
     "end_time": "2022-03-15T13:47:27.107118",
     "exception": false,
     "start_time": "2022-03-15T13:47:26.980868",
     "status": "completed"
    },
    "tags": []
   },
   "outputs": [],
   "source": [
    "sparse_customer_article_train, sparse_customer_article_test = random_train_test_split(customer_to_article_interaction_amt, test_percentage=0.2, random_state=42)"
   ]
  },
  {
   "cell_type": "code",
   "execution_count": 33,
   "id": "4496c07a",
   "metadata": {
    "execution": {
     "iopub.execute_input": "2022-03-15T13:47:27.201931Z",
     "iopub.status.busy": "2022-03-15T13:47:27.201308Z",
     "iopub.status.idle": "2022-03-15T13:47:27.205551Z",
     "shell.execute_reply": "2022-03-15T13:47:27.205967Z"
    },
    "papermill": {
     "duration": 0.053235,
     "end_time": "2022-03-15T13:47:27.206148",
     "exception": false,
     "start_time": "2022-03-15T13:47:27.152913",
     "status": "completed"
    },
    "tags": []
   },
   "outputs": [
    {
     "data": {
      "text/plain": [
       "<1371980x105542 sparse matrix of type '<class 'numpy.int16'>'\n",
       "\twith 841384 stored elements in COOrdinate format>"
      ]
     },
     "execution_count": 33,
     "metadata": {},
     "output_type": "execute_result"
    }
   ],
   "source": [
    "sparse_customer_article_train"
   ]
  },
  {
   "cell_type": "code",
   "execution_count": 34,
   "id": "2d2a5e35",
   "metadata": {
    "execution": {
     "iopub.execute_input": "2022-03-15T13:47:27.305531Z",
     "iopub.status.busy": "2022-03-15T13:47:27.303617Z",
     "iopub.status.idle": "2022-03-15T13:47:27.308139Z",
     "shell.execute_reply": "2022-03-15T13:47:27.308672Z"
    },
    "papermill": {
     "duration": 0.056577,
     "end_time": "2022-03-15T13:47:27.308830",
     "exception": false,
     "start_time": "2022-03-15T13:47:27.252253",
     "status": "completed"
    },
    "tags": []
   },
   "outputs": [
    {
     "data": {
      "text/plain": [
       "<1371980x105542 sparse matrix of type '<class 'numpy.int16'>'\n",
       "\twith 210346 stored elements in COOrdinate format>"
      ]
     },
     "execution_count": 34,
     "metadata": {},
     "output_type": "execute_result"
    }
   ],
   "source": [
    "sparse_customer_article_test"
   ]
  },
  {
   "cell_type": "code",
   "execution_count": 35,
   "id": "59e278fa",
   "metadata": {
    "execution": {
     "iopub.execute_input": "2022-03-15T13:47:27.408212Z",
     "iopub.status.busy": "2022-03-15T13:47:27.404024Z",
     "iopub.status.idle": "2022-03-15T14:38:58.330540Z",
     "shell.execute_reply": "2022-03-15T14:38:58.331083Z"
    },
    "papermill": {
     "duration": 3090.977026,
     "end_time": "2022-03-15T14:38:58.331409",
     "exception": false,
     "start_time": "2022-03-15T13:47:27.354383",
     "status": "completed"
    },
    "tags": []
   },
   "outputs": [
    {
     "name": "stdout",
     "output_type": "stream",
     "text": [
      "0.0038191092\n",
      "0.008680925\n",
      "0.01146975\n",
      "0.009560195\n",
      "0.0043551703\n",
      "0.004215272\n",
      "0.004335559\n",
      "0.006164051\n",
      "0.00057332404\n",
      "0.008816901\n"
     ]
    }
   ],
   "source": [
    "(score, hyperparams, model) = max(random_search(train_interactions = sparse_customer_article_train, \n",
    "                                                test_interactions = sparse_customer_article_test, \n",
    "                                                num_threads = 4), key=lambda x: x[0])"
   ]
  },
  {
   "cell_type": "code",
   "execution_count": 36,
   "id": "7e311e29",
   "metadata": {
    "execution": {
     "iopub.execute_input": "2022-03-15T14:38:58.433233Z",
     "iopub.status.busy": "2022-03-15T14:38:58.432500Z",
     "iopub.status.idle": "2022-03-15T14:38:58.436875Z",
     "shell.execute_reply": "2022-03-15T14:38:58.437361Z"
    },
    "papermill": {
     "duration": 0.057311,
     "end_time": "2022-03-15T14:38:58.437530",
     "exception": false,
     "start_time": "2022-03-15T14:38:58.380219",
     "status": "completed"
    },
    "tags": []
   },
   "outputs": [
    {
     "name": "stdout",
     "output_type": "stream",
     "text": [
      "Best score 0.011469749733805656 at {'no_components': 60, 'learning_schedule': 'adagrad', 'loss': 'bpr', 'learning_rate': 0.024169871051368697, 'item_alpha': 1.5038748403807634e-08, 'user_alpha': 5.035922243112898e-09, 'max_sampled': 11, 'num_epochs': 35}\n"
     ]
    }
   ],
   "source": [
    "print(\"Best score {} at {}\".format(score, hyperparams))"
   ]
  },
  {
   "cell_type": "code",
   "execution_count": 37,
   "id": "370b66c3",
   "metadata": {
    "execution": {
     "iopub.execute_input": "2022-03-15T14:38:58.539856Z",
     "iopub.status.busy": "2022-03-15T14:38:58.539264Z",
     "iopub.status.idle": "2022-03-15T14:38:58.543080Z",
     "shell.execute_reply": "2022-03-15T14:38:58.543596Z"
    },
    "papermill": {
     "duration": 0.05629,
     "end_time": "2022-03-15T14:38:58.543773",
     "exception": false,
     "start_time": "2022-03-15T14:38:58.487483",
     "status": "completed"
    },
    "tags": []
   },
   "outputs": [],
   "source": [
    "optimized_dict['Amount_Spent'] = {'score': score, \n",
    "                                  'params': hyperparams}"
   ]
  },
  {
   "cell_type": "markdown",
   "id": "eeec10ea",
   "metadata": {
    "papermill": {
     "duration": 0.049042,
     "end_time": "2022-03-15T14:38:58.642123",
     "exception": false,
     "start_time": "2022-03-15T14:38:58.593081",
     "status": "completed"
    },
    "tags": []
   },
   "source": [
    "### Splitting the primary dataset into train and test sets based on transaction count"
   ]
  },
  {
   "cell_type": "code",
   "execution_count": 38,
   "id": "7f2e428f",
   "metadata": {
    "execution": {
     "iopub.execute_input": "2022-03-15T14:38:58.748344Z",
     "iopub.status.busy": "2022-03-15T14:38:58.747592Z",
     "iopub.status.idle": "2022-03-15T14:38:58.819739Z",
     "shell.execute_reply": "2022-03-15T14:38:58.819118Z"
    },
    "papermill": {
     "duration": 0.125482,
     "end_time": "2022-03-15T14:38:58.819913",
     "exception": false,
     "start_time": "2022-03-15T14:38:58.694431",
     "status": "completed"
    },
    "tags": []
   },
   "outputs": [],
   "source": [
    "sparse_customer_article_train, sparse_customer_article_test = random_train_test_split(customer_to_article_interaction_tdat, test_percentage=0.2, random_state=42)"
   ]
  },
  {
   "cell_type": "code",
   "execution_count": 39,
   "id": "858b5bb9",
   "metadata": {
    "execution": {
     "iopub.execute_input": "2022-03-15T14:38:58.930737Z",
     "iopub.status.busy": "2022-03-15T14:38:58.930094Z",
     "iopub.status.idle": "2022-03-15T14:38:58.933563Z",
     "shell.execute_reply": "2022-03-15T14:38:58.934020Z"
    },
    "papermill": {
     "duration": 0.062896,
     "end_time": "2022-03-15T14:38:58.934211",
     "exception": false,
     "start_time": "2022-03-15T14:38:58.871315",
     "status": "completed"
    },
    "tags": []
   },
   "outputs": [
    {
     "data": {
      "text/plain": [
       "<1371980x105542 sparse matrix of type '<class 'numpy.int8'>'\n",
       "\twith 841384 stored elements in COOrdinate format>"
      ]
     },
     "execution_count": 39,
     "metadata": {},
     "output_type": "execute_result"
    }
   ],
   "source": [
    "sparse_customer_article_train"
   ]
  },
  {
   "cell_type": "code",
   "execution_count": 40,
   "id": "12a31658",
   "metadata": {
    "execution": {
     "iopub.execute_input": "2022-03-15T14:38:59.042392Z",
     "iopub.status.busy": "2022-03-15T14:38:59.041543Z",
     "iopub.status.idle": "2022-03-15T14:38:59.045681Z",
     "shell.execute_reply": "2022-03-15T14:38:59.045211Z"
    },
    "papermill": {
     "duration": 0.060283,
     "end_time": "2022-03-15T14:38:59.045819",
     "exception": false,
     "start_time": "2022-03-15T14:38:58.985536",
     "status": "completed"
    },
    "tags": []
   },
   "outputs": [
    {
     "data": {
      "text/plain": [
       "<1371980x105542 sparse matrix of type '<class 'numpy.int8'>'\n",
       "\twith 210346 stored elements in COOrdinate format>"
      ]
     },
     "execution_count": 40,
     "metadata": {},
     "output_type": "execute_result"
    }
   ],
   "source": [
    "sparse_customer_article_test"
   ]
  },
  {
   "cell_type": "code",
   "execution_count": 41,
   "id": "077ed14c",
   "metadata": {
    "execution": {
     "iopub.execute_input": "2022-03-15T14:38:59.149794Z",
     "iopub.status.busy": "2022-03-15T14:38:59.149180Z",
     "iopub.status.idle": "2022-03-15T15:27:10.894752Z",
     "shell.execute_reply": "2022-03-15T15:27:10.895251Z"
    },
    "papermill": {
     "duration": 2891.799682,
     "end_time": "2022-03-15T15:27:10.895440",
     "exception": false,
     "start_time": "2022-03-15T14:38:59.095758",
     "status": "completed"
    },
    "tags": []
   },
   "outputs": [
    {
     "name": "stdout",
     "output_type": "stream",
     "text": [
      "0.0007256439\n",
      "0.002879041\n",
      "0.0012950456\n",
      "0.00088188605\n",
      "0.0054632486\n",
      "0.0027450258\n",
      "0.005471094\n",
      "0.0013231561\n",
      "0.003609915\n",
      "0.0030163252\n"
     ]
    }
   ],
   "source": [
    "(score, hyperparams, model) = max(random_search(train_interactions = sparse_customer_article_train, \n",
    "                                                test_interactions = sparse_customer_article_test, \n",
    "                                                num_threads = 4), key=lambda x: x[0])"
   ]
  },
  {
   "cell_type": "code",
   "execution_count": 42,
   "id": "7503e92a",
   "metadata": {
    "execution": {
     "iopub.execute_input": "2022-03-15T15:27:11.007395Z",
     "iopub.status.busy": "2022-03-15T15:27:11.006728Z",
     "iopub.status.idle": "2022-03-15T15:27:11.009706Z",
     "shell.execute_reply": "2022-03-15T15:27:11.010197Z"
    },
    "papermill": {
     "duration": 0.061309,
     "end_time": "2022-03-15T15:27:11.010367",
     "exception": false,
     "start_time": "2022-03-15T15:27:10.949058",
     "status": "completed"
    },
    "tags": []
   },
   "outputs": [
    {
     "name": "stdout",
     "output_type": "stream",
     "text": [
      "Best score 0.00547109404578805 at {'no_components': 31, 'learning_schedule': 'adagrad', 'loss': 'warp-kos', 'learning_rate': 0.06666288591300393, 'item_alpha': 1.22364339580641e-08, 'user_alpha': 2.336263719204391e-09, 'max_sampled': 14, 'num_epochs': 42}\n"
     ]
    }
   ],
   "source": [
    "print(\"Best score {} at {}\".format(score, hyperparams))"
   ]
  },
  {
   "cell_type": "code",
   "execution_count": 43,
   "id": "009ff1f0",
   "metadata": {
    "execution": {
     "iopub.execute_input": "2022-03-15T15:27:11.123294Z",
     "iopub.status.busy": "2022-03-15T15:27:11.122617Z",
     "iopub.status.idle": "2022-03-15T15:27:11.125444Z",
     "shell.execute_reply": "2022-03-15T15:27:11.124925Z"
    },
    "papermill": {
     "duration": 0.061235,
     "end_time": "2022-03-15T15:27:11.125596",
     "exception": false,
     "start_time": "2022-03-15T15:27:11.064361",
     "status": "completed"
    },
    "tags": []
   },
   "outputs": [],
   "source": [
    "optimized_dict['Transaction_Counts'] = {'score': score, \n",
    "                                       'params': hyperparams}"
   ]
  },
  {
   "cell_type": "code",
   "execution_count": 44,
   "id": "9a77cbd7",
   "metadata": {
    "execution": {
     "iopub.execute_input": "2022-03-15T15:27:11.242135Z",
     "iopub.status.busy": "2022-03-15T15:27:11.241301Z",
     "iopub.status.idle": "2022-03-15T15:27:11.244422Z",
     "shell.execute_reply": "2022-03-15T15:27:11.244861Z"
    },
    "papermill": {
     "duration": 0.064483,
     "end_time": "2022-03-15T15:27:11.245073",
     "exception": false,
     "start_time": "2022-03-15T15:27:11.180590",
     "status": "completed"
    },
    "tags": []
   },
   "outputs": [
    {
     "name": "stdout",
     "output_type": "stream",
     "text": [
      "{'Amount_Spent': {'score': 0.01146975, 'params': {'no_components': 60, 'learning_schedule': 'adagrad', 'loss': 'bpr', 'learning_rate': 0.024169871051368697, 'item_alpha': 1.5038748403807634e-08, 'user_alpha': 5.035922243112898e-09, 'max_sampled': 11, 'num_epochs': 35}}, 'Transaction_Counts': {'score': 0.005471094, 'params': {'no_components': 31, 'learning_schedule': 'adagrad', 'loss': 'warp-kos', 'learning_rate': 0.06666288591300393, 'item_alpha': 1.22364339580641e-08, 'user_alpha': 2.336263719204391e-09, 'max_sampled': 14, 'num_epochs': 42}}}\n"
     ]
    }
   ],
   "source": [
    "print(optimized_dict)"
   ]
  },
  {
   "cell_type": "markdown",
   "id": "51529d30",
   "metadata": {
    "papermill": {
     "duration": 0.054386,
     "end_time": "2022-03-15T15:27:11.355259",
     "exception": false,
     "start_time": "2022-03-15T15:27:11.300873",
     "status": "completed"
    },
    "tags": []
   },
   "source": [
    "## Saving the Optimized Params"
   ]
  },
  {
   "cell_type": "code",
   "execution_count": 45,
   "id": "c04ab8d2",
   "metadata": {
    "execution": {
     "iopub.execute_input": "2022-03-15T15:27:11.469605Z",
     "iopub.status.busy": "2022-03-15T15:27:11.468791Z",
     "iopub.status.idle": "2022-03-15T15:27:11.471461Z",
     "shell.execute_reply": "2022-03-15T15:27:11.471867Z"
    },
    "papermill": {
     "duration": 0.062461,
     "end_time": "2022-03-15T15:27:11.472082",
     "exception": false,
     "start_time": "2022-03-15T15:27:11.409621",
     "status": "completed"
    },
    "tags": []
   },
   "outputs": [],
   "source": [
    "with open('optimized_dict.pkl', 'wb') as f:\n",
    "    pickle.dump(optimized_dict, f)"
   ]
  }
 ],
 "metadata": {
  "kernelspec": {
   "display_name": "Python 3",
   "language": "python",
   "name": "python3"
  },
  "language_info": {
   "codemirror_mode": {
    "name": "ipython",
    "version": 3
   },
   "file_extension": ".py",
   "mimetype": "text/x-python",
   "name": "python",
   "nbconvert_exporter": "python",
   "pygments_lexer": "ipython3",
   "version": "3.7.12"
  },
  "papermill": {
   "default_parameters": {},
   "duration": 6097.310177,
   "end_time": "2022-03-15T15:27:14.244275",
   "environment_variables": {},
   "exception": null,
   "input_path": "__notebook__.ipynb",
   "output_path": "__notebook__.ipynb",
   "parameters": {},
   "start_time": "2022-03-15T13:45:36.934098",
   "version": "2.3.3"
  }
 },
 "nbformat": 4,
 "nbformat_minor": 5
}
