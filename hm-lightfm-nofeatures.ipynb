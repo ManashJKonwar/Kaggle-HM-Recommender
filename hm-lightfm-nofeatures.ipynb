{
 "cells": [
  {
   "cell_type": "markdown",
   "id": "1f17574c",
   "metadata": {
    "papermill": {
     "duration": 0.063973,
     "end_time": "2022-03-13T06:13:28.173479",
     "exception": false,
     "start_time": "2022-03-13T06:13:28.109506",
     "status": "completed"
    },
    "tags": []
   },
   "source": [
    "## This experiment was performed using LightFM which a very popular recommender module and it has support to take in different data modalities such as text, image, graphical, etc. Please check out their official documentation in the link mentioned below:  \n",
    "Link to LightFM:\n",
    "making.lyst.com/lightfm/docs/home.html  \n",
    "\n",
    "It also incorporates Multiprocessing to process predictions for final users\n",
    "\n",
    "Hope you like this notebook, please feel free to vote for this notebook"
   ]
  },
  {
   "cell_type": "markdown",
   "id": "cdbb6af4",
   "metadata": {
    "papermill": {
     "duration": 0.054936,
     "end_time": "2022-03-13T06:13:28.284130",
     "exception": false,
     "start_time": "2022-03-13T06:13:28.229194",
     "status": "completed"
    },
    "tags": []
   },
   "source": [
    "## Importing Required Libraries"
   ]
  },
  {
   "cell_type": "code",
   "execution_count": 1,
   "id": "88456ad4",
   "metadata": {
    "execution": {
     "iopub.execute_input": "2022-03-13T06:13:28.396728Z",
     "iopub.status.busy": "2022-03-13T06:13:28.394986Z",
     "iopub.status.idle": "2022-03-13T06:13:28.500352Z",
     "shell.execute_reply": "2022-03-13T06:13:28.499555Z",
     "shell.execute_reply.started": "2022-03-13T06:03:50.804264Z"
    },
    "papermill": {
     "duration": 0.162919,
     "end_time": "2022-03-13T06:13:28.500550",
     "exception": false,
     "start_time": "2022-03-13T06:13:28.337631",
     "status": "completed"
    },
    "tags": []
   },
   "outputs": [],
   "source": [
    "# Importing Libraries\n",
    "import sys, os\n",
    "import re\n",
    "import tqdm\n",
    "import time\n",
    "import pickle\n",
    "import random\n",
    "import itertools\n",
    "\n",
    "import pandas as pd\n",
    "import numpy as np\n",
    "import scipy.sparse as sparse\n",
    "%matplotlib inline\n",
    "import matplotlib.pyplot as plt\n",
    "\n",
    "# lightfm \n",
    "from lightfm import LightFM # model\n",
    "from lightfm.evaluation import precision_at_k\n",
    "from lightfm.cross_validation import random_train_test_split\n",
    "\n",
    "# multiprocessing for inferencing\n",
    "from multiprocessing import Pool"
   ]
  },
  {
   "cell_type": "code",
   "execution_count": 2,
   "id": "468b2772",
   "metadata": {
    "execution": {
     "iopub.execute_input": "2022-03-13T06:13:28.612327Z",
     "iopub.status.busy": "2022-03-13T06:13:28.611692Z",
     "iopub.status.idle": "2022-03-13T06:13:28.615126Z",
     "shell.execute_reply": "2022-03-13T06:13:28.615653Z",
     "shell.execute_reply.started": "2022-03-13T06:03:50.937733Z"
    },
    "papermill": {
     "duration": 0.061095,
     "end_time": "2022-03-13T06:13:28.615800",
     "exception": false,
     "start_time": "2022-03-13T06:13:28.554705",
     "status": "completed"
    },
    "tags": []
   },
   "outputs": [],
   "source": [
    "os.environ[\"openblas_set_num_threads\"] = \"1\"\n",
    "data_path = r'../input/h-and-m-personalized-fashion-recommendations/transactions_train.csv'\n",
    "submission_data_path = r'../input/h-and-m-personalized-fashion-recommendations/sample_submission.csv'"
   ]
  },
  {
   "cell_type": "code",
   "execution_count": 3,
   "id": "e38826ea",
   "metadata": {
    "execution": {
     "iopub.execute_input": "2022-03-13T06:13:28.725780Z",
     "iopub.status.busy": "2022-03-13T06:13:28.725175Z",
     "iopub.status.idle": "2022-03-13T06:13:28.728720Z",
     "shell.execute_reply": "2022-03-13T06:13:28.729300Z",
     "shell.execute_reply.started": "2022-03-13T06:03:50.943596Z"
    },
    "papermill": {
     "duration": 0.060255,
     "end_time": "2022-03-13T06:13:28.729449",
     "exception": false,
     "start_time": "2022-03-13T06:13:28.669194",
     "status": "completed"
    },
    "tags": []
   },
   "outputs": [],
   "source": [
    "# Data Extraction\n",
    "def create_data(datapath):\n",
    "    df=pd.read_csv(datapath)\n",
    "    return df"
   ]
  },
  {
   "cell_type": "code",
   "execution_count": 4,
   "id": "e50a3da0",
   "metadata": {
    "execution": {
     "iopub.execute_input": "2022-03-13T06:13:28.839199Z",
     "iopub.status.busy": "2022-03-13T06:13:28.838589Z",
     "iopub.status.idle": "2022-03-13T06:14:41.505409Z",
     "shell.execute_reply": "2022-03-13T06:14:41.504776Z",
     "shell.execute_reply.started": "2022-03-13T06:03:50.964698Z"
    },
    "papermill": {
     "duration": 72.722838,
     "end_time": "2022-03-13T06:14:41.505555",
     "exception": false,
     "start_time": "2022-03-13T06:13:28.782717",
     "status": "completed"
    },
    "tags": []
   },
   "outputs": [
    {
     "name": "stdout",
     "output_type": "stream",
     "text": [
      "(31788324, 5)\n",
      "734-total No of unique transactions dates in data sheet\n",
      "1362281-total No of unique customers ids in data sheet\n",
      "104547-total No of unique article ids courses names in data sheet\n",
      "2-total No of unique sales channels in data sheet\n"
     ]
    }
   ],
   "source": [
    "# Loal all sales data (for 3 years startign from 2018 to 2020)\n",
    "transactions_data=create_data(data_path)\n",
    "print(transactions_data.shape)\n",
    "\n",
    "# # Unique Attributes\n",
    "print(str(len(transactions_data['t_dat'].drop_duplicates())) + \"-total No of unique transactions dates in data sheet\")\n",
    "print(str(len(transactions_data['customer_id'].drop_duplicates())) + \"-total No of unique customers ids in data sheet\")\n",
    "print(str(len(transactions_data['article_id'].drop_duplicates())) + \"-total No of unique article ids courses names in data sheet\")\n",
    "print(str(len(transactions_data['sales_channel_id'].drop_duplicates())) + \"-total No of unique sales channels in data sheet\")"
   ]
  },
  {
   "cell_type": "code",
   "execution_count": 5,
   "id": "e0532f91",
   "metadata": {
    "execution": {
     "iopub.execute_input": "2022-03-13T06:14:41.621108Z",
     "iopub.status.busy": "2022-03-13T06:14:41.620157Z",
     "iopub.status.idle": "2022-03-13T06:14:41.636636Z",
     "shell.execute_reply": "2022-03-13T06:14:41.637127Z",
     "shell.execute_reply.started": "2022-03-13T06:05:15.228470Z"
    },
    "papermill": {
     "duration": 0.075332,
     "end_time": "2022-03-13T06:14:41.637316",
     "exception": false,
     "start_time": "2022-03-13T06:14:41.561984",
     "status": "completed"
    },
    "tags": []
   },
   "outputs": [
    {
     "data": {
      "text/html": [
       "<div>\n",
       "<style scoped>\n",
       "    .dataframe tbody tr th:only-of-type {\n",
       "        vertical-align: middle;\n",
       "    }\n",
       "\n",
       "    .dataframe tbody tr th {\n",
       "        vertical-align: top;\n",
       "    }\n",
       "\n",
       "    .dataframe thead th {\n",
       "        text-align: right;\n",
       "    }\n",
       "</style>\n",
       "<table border=\"1\" class=\"dataframe\">\n",
       "  <thead>\n",
       "    <tr style=\"text-align: right;\">\n",
       "      <th></th>\n",
       "      <th>t_dat</th>\n",
       "      <th>customer_id</th>\n",
       "      <th>article_id</th>\n",
       "      <th>price</th>\n",
       "      <th>sales_channel_id</th>\n",
       "    </tr>\n",
       "  </thead>\n",
       "  <tbody>\n",
       "    <tr>\n",
       "      <th>0</th>\n",
       "      <td>2018-09-20</td>\n",
       "      <td>000058a12d5b43e67d225668fa1f8d618c13dc232df0ca...</td>\n",
       "      <td>663713001</td>\n",
       "      <td>0.050831</td>\n",
       "      <td>2</td>\n",
       "    </tr>\n",
       "    <tr>\n",
       "      <th>1</th>\n",
       "      <td>2018-09-20</td>\n",
       "      <td>000058a12d5b43e67d225668fa1f8d618c13dc232df0ca...</td>\n",
       "      <td>541518023</td>\n",
       "      <td>0.030492</td>\n",
       "      <td>2</td>\n",
       "    </tr>\n",
       "    <tr>\n",
       "      <th>2</th>\n",
       "      <td>2018-09-20</td>\n",
       "      <td>00007d2de826758b65a93dd24ce629ed66842531df6699...</td>\n",
       "      <td>505221004</td>\n",
       "      <td>0.015237</td>\n",
       "      <td>2</td>\n",
       "    </tr>\n",
       "    <tr>\n",
       "      <th>3</th>\n",
       "      <td>2018-09-20</td>\n",
       "      <td>00007d2de826758b65a93dd24ce629ed66842531df6699...</td>\n",
       "      <td>685687003</td>\n",
       "      <td>0.016932</td>\n",
       "      <td>2</td>\n",
       "    </tr>\n",
       "    <tr>\n",
       "      <th>4</th>\n",
       "      <td>2018-09-20</td>\n",
       "      <td>00007d2de826758b65a93dd24ce629ed66842531df6699...</td>\n",
       "      <td>685687004</td>\n",
       "      <td>0.016932</td>\n",
       "      <td>2</td>\n",
       "    </tr>\n",
       "  </tbody>\n",
       "</table>\n",
       "</div>"
      ],
      "text/plain": [
       "        t_dat                                        customer_id  article_id  \\\n",
       "0  2018-09-20  000058a12d5b43e67d225668fa1f8d618c13dc232df0ca...   663713001   \n",
       "1  2018-09-20  000058a12d5b43e67d225668fa1f8d618c13dc232df0ca...   541518023   \n",
       "2  2018-09-20  00007d2de826758b65a93dd24ce629ed66842531df6699...   505221004   \n",
       "3  2018-09-20  00007d2de826758b65a93dd24ce629ed66842531df6699...   685687003   \n",
       "4  2018-09-20  00007d2de826758b65a93dd24ce629ed66842531df6699...   685687004   \n",
       "\n",
       "      price  sales_channel_id  \n",
       "0  0.050831                 2  \n",
       "1  0.030492                 2  \n",
       "2  0.015237                 2  \n",
       "3  0.016932                 2  \n",
       "4  0.016932                 2  "
      ]
     },
     "execution_count": 5,
     "metadata": {},
     "output_type": "execute_result"
    }
   ],
   "source": [
    "transactions_data.head()"
   ]
  },
  {
   "cell_type": "code",
   "execution_count": 6,
   "id": "bdaf7d94",
   "metadata": {
    "execution": {
     "iopub.execute_input": "2022-03-13T06:14:41.753393Z",
     "iopub.status.busy": "2022-03-13T06:14:41.752706Z",
     "iopub.status.idle": "2022-03-13T06:14:41.769931Z",
     "shell.execute_reply": "2022-03-13T06:14:41.770708Z",
     "shell.execute_reply.started": "2022-03-13T06:05:15.260237Z"
    },
    "papermill": {
     "duration": 0.077104,
     "end_time": "2022-03-13T06:14:41.770933",
     "exception": false,
     "start_time": "2022-03-13T06:14:41.693829",
     "status": "completed"
    },
    "tags": []
   },
   "outputs": [
    {
     "name": "stdout",
     "output_type": "stream",
     "text": [
      "<class 'pandas.core.frame.DataFrame'>\n",
      "RangeIndex: 31788324 entries, 0 to 31788323\n",
      "Data columns (total 5 columns):\n",
      " #   Column            Dtype  \n",
      "---  ------            -----  \n",
      " 0   t_dat             object \n",
      " 1   customer_id       object \n",
      " 2   article_id        int64  \n",
      " 3   price             float64\n",
      " 4   sales_channel_id  int64  \n",
      "dtypes: float64(1), int64(2), object(2)\n",
      "memory usage: 1.2+ GB\n"
     ]
    }
   ],
   "source": [
    "transactions_data.info()"
   ]
  },
  {
   "cell_type": "markdown",
   "id": "725abdfc",
   "metadata": {
    "papermill": {
     "duration": 0.056216,
     "end_time": "2022-03-13T06:14:41.885521",
     "exception": false,
     "start_time": "2022-03-13T06:14:41.829305",
     "status": "completed"
    },
    "tags": []
   },
   "source": [
    "## Aggregating Customers and Articles irrespective of transaction dates"
   ]
  },
  {
   "cell_type": "code",
   "execution_count": 7,
   "id": "23e088d3",
   "metadata": {
    "execution": {
     "iopub.execute_input": "2022-03-13T06:14:42.002184Z",
     "iopub.status.busy": "2022-03-13T06:14:42.001552Z",
     "iopub.status.idle": "2022-03-13T06:15:29.105154Z",
     "shell.execute_reply": "2022-03-13T06:15:29.104257Z",
     "shell.execute_reply.started": "2022-03-13T06:05:15.287366Z"
    },
    "papermill": {
     "duration": 47.163361,
     "end_time": "2022-03-13T06:15:29.105482",
     "exception": false,
     "start_time": "2022-03-13T06:14:41.942121",
     "status": "completed"
    },
    "tags": []
   },
   "outputs": [],
   "source": [
    "transactions_data = transactions_data.groupby(['customer_id','article_id']).agg({'price':'sum','t_dat':'count'}).reset_index()\n",
    "transactions_data = transactions_data[['customer_id','article_id','price']]"
   ]
  },
  {
   "cell_type": "markdown",
   "id": "9fe96f87",
   "metadata": {
    "papermill": {
     "duration": 0.056258,
     "end_time": "2022-03-13T06:15:29.230116",
     "exception": false,
     "start_time": "2022-03-13T06:15:29.173858",
     "status": "completed"
    },
    "tags": []
   },
   "source": [
    "## Generating user and article index mapping dictionaries"
   ]
  },
  {
   "cell_type": "code",
   "execution_count": 8,
   "id": "0be73fcc",
   "metadata": {
    "execution": {
     "iopub.execute_input": "2022-03-13T06:15:29.346455Z",
     "iopub.status.busy": "2022-03-13T06:15:29.345490Z",
     "iopub.status.idle": "2022-03-13T06:15:29.353040Z",
     "shell.execute_reply": "2022-03-13T06:15:29.353692Z",
     "shell.execute_reply.started": "2022-03-13T06:06:10.362417Z"
    },
    "papermill": {
     "duration": 0.067007,
     "end_time": "2022-03-13T06:15:29.353848",
     "exception": false,
     "start_time": "2022-03-13T06:15:29.286841",
     "status": "completed"
    },
    "tags": []
   },
   "outputs": [],
   "source": [
    "def get_customers_list():\n",
    "    # Creating a list of users\n",
    "    return np.sort(transactions_data['customer_id'].unique())\n",
    "\n",
    "def get_articles_list():\n",
    "    # Creating a list of courses \n",
    "    item_list = transactions_data['article_id'].unique()\n",
    "    return item_list\n",
    "\n",
    "def id_mappings(customers_list, articles_list):\n",
    "    \"\"\"\n",
    "    \n",
    "    Create id mappings to convert user_id, item_id, and feature_id\n",
    "    \n",
    "    \"\"\"\n",
    "    customer_to_index_mapping = {}\n",
    "    index_to_customer_mapping = {}\n",
    "    for customer_index, customer_id in enumerate(customers_list):\n",
    "        customer_to_index_mapping[customer_id] = customer_index\n",
    "        index_to_customer_mapping[customer_index] = customer_id\n",
    "        \n",
    "    article_to_index_mapping = {}\n",
    "    index_to_article_mapping = {}\n",
    "    for article_index, article_id in enumerate(articles_list):\n",
    "        article_to_index_mapping[article_id] = article_index\n",
    "        index_to_article_mapping[article_index] = article_id\n",
    "        \n",
    "    return customer_to_index_mapping, index_to_customer_mapping, \\\n",
    "           article_to_index_mapping, index_to_article_mapping"
   ]
  },
  {
   "cell_type": "code",
   "execution_count": 9,
   "id": "c0eafb1e",
   "metadata": {
    "execution": {
     "iopub.execute_input": "2022-03-13T06:15:29.470552Z",
     "iopub.status.busy": "2022-03-13T06:15:29.469601Z",
     "iopub.status.idle": "2022-03-13T06:15:36.492944Z",
     "shell.execute_reply": "2022-03-13T06:15:36.492310Z",
     "shell.execute_reply.started": "2022-03-13T06:06:10.373653Z"
    },
    "papermill": {
     "duration": 7.083277,
     "end_time": "2022-03-13T06:15:36.493101",
     "exception": false,
     "start_time": "2022-03-13T06:15:29.409824",
     "status": "completed"
    },
    "tags": []
   },
   "outputs": [],
   "source": [
    "customers = get_customers_list()\n",
    "articles = get_articles_list()"
   ]
  },
  {
   "cell_type": "code",
   "execution_count": 10,
   "id": "dec36039",
   "metadata": {
    "execution": {
     "iopub.execute_input": "2022-03-13T06:15:36.610745Z",
     "iopub.status.busy": "2022-03-13T06:15:36.610065Z",
     "iopub.status.idle": "2022-03-13T06:15:36.615565Z",
     "shell.execute_reply": "2022-03-13T06:15:36.615073Z",
     "shell.execute_reply.started": "2022-03-13T06:06:18.386798Z"
    },
    "papermill": {
     "duration": 0.065937,
     "end_time": "2022-03-13T06:15:36.615705",
     "exception": false,
     "start_time": "2022-03-13T06:15:36.549768",
     "status": "completed"
    },
    "tags": []
   },
   "outputs": [
    {
     "data": {
      "text/plain": [
       "array(['00000dbacae5abe5e23885899a1fa44253a17956c6d1c3d25f88aa139fdfc657',\n",
       "       '0000423b00ade91418cceaf3b26c6af3dd342b51fd051eec9c12fb36984420fa',\n",
       "       '000058a12d5b43e67d225668fa1f8d618c13dc232df0cad8ffe7ad4a1091e318',\n",
       "       ...,\n",
       "       'ffffcf35913a0bee60e8741cb2b4e78b8a98ee5ff2e6a1778d0116cffd259264',\n",
       "       'ffffd7744cebcf3aca44ae7049d2a94b87074c3d4ffe38b2236865d949d4df6a',\n",
       "       'ffffd9ac14e89946416d80e791d064701994755c3ab686a1eaf3458c36f52241'],\n",
       "      dtype=object)"
      ]
     },
     "execution_count": 10,
     "metadata": {},
     "output_type": "execute_result"
    }
   ],
   "source": [
    "customers"
   ]
  },
  {
   "cell_type": "code",
   "execution_count": 11,
   "id": "87ec1f47",
   "metadata": {
    "execution": {
     "iopub.execute_input": "2022-03-13T06:15:36.734030Z",
     "iopub.status.busy": "2022-03-13T06:15:36.733194Z",
     "iopub.status.idle": "2022-03-13T06:15:36.736504Z",
     "shell.execute_reply": "2022-03-13T06:15:36.736983Z",
     "shell.execute_reply.started": "2022-03-13T06:06:18.395163Z"
    },
    "papermill": {
     "duration": 0.065306,
     "end_time": "2022-03-13T06:15:36.737141",
     "exception": false,
     "start_time": "2022-03-13T06:15:36.671835",
     "status": "completed"
    },
    "tags": []
   },
   "outputs": [
    {
     "data": {
      "text/plain": [
       "array([176209023, 568601006, 568601043, ..., 618853001, 533932004,\n",
       "       568499001])"
      ]
     },
     "execution_count": 11,
     "metadata": {},
     "output_type": "execute_result"
    }
   ],
   "source": [
    "articles"
   ]
  },
  {
   "cell_type": "code",
   "execution_count": 12,
   "id": "a4d16d27",
   "metadata": {
    "execution": {
     "iopub.execute_input": "2022-03-13T06:15:36.922844Z",
     "iopub.status.busy": "2022-03-13T06:15:36.891176Z",
     "iopub.status.idle": "2022-03-13T06:15:37.794352Z",
     "shell.execute_reply": "2022-03-13T06:15:37.793692Z",
     "shell.execute_reply.started": "2022-03-13T06:06:18.412117Z"
    },
    "papermill": {
     "duration": 0.999612,
     "end_time": "2022-03-13T06:15:37.794518",
     "exception": false,
     "start_time": "2022-03-13T06:15:36.794906",
     "status": "completed"
    },
    "tags": []
   },
   "outputs": [],
   "source": [
    "# Generate mapping, LightFM library can't read other than (integer) index\n",
    "customer_to_index_mapping, index_to_customer_mapping, \\\n",
    "article_to_index_mapping, index_to_article_mapping = id_mappings(customers, articles)"
   ]
  },
  {
   "cell_type": "markdown",
   "id": "19072949",
   "metadata": {
    "papermill": {
     "duration": 0.05677,
     "end_time": "2022-03-13T06:15:37.908938",
     "exception": false,
     "start_time": "2022-03-13T06:15:37.852168",
     "status": "completed"
    },
    "tags": []
   },
   "source": [
    "## Generate Customer Article Interaction Matrix"
   ]
  },
  {
   "cell_type": "code",
   "execution_count": 13,
   "id": "65433c7b",
   "metadata": {
    "execution": {
     "iopub.execute_input": "2022-03-13T06:15:38.028180Z",
     "iopub.status.busy": "2022-03-13T06:15:38.027201Z",
     "iopub.status.idle": "2022-03-13T06:15:38.035386Z",
     "shell.execute_reply": "2022-03-13T06:15:38.035865Z",
     "shell.execute_reply.started": "2022-03-13T06:06:19.592815Z"
    },
    "papermill": {
     "duration": 0.069358,
     "end_time": "2022-03-13T06:15:38.036021",
     "exception": false,
     "start_time": "2022-03-13T06:15:37.966663",
     "status": "completed"
    },
    "tags": []
   },
   "outputs": [],
   "source": [
    "def get_customer_article_interaction(customer_article_amt_df):\n",
    "    #start indexing\n",
    "    customer_article_amt_df[\"customer_id\"] = customer_article_amt_df[\"customer_id\"]\n",
    "    customer_article_amt_df[\"article_id\"] = customer_article_amt_df[\"article_id\"]\n",
    "    customer_article_amt_df[\"price\"] = customer_article_amt_df[\"price\"]\n",
    "\n",
    "    # Preprocessing dataframe created\n",
    "    customer_article_amt_df = customer_article_amt_df.rename(columns = {\"price\":\"total_amount_spent\"})\n",
    "\n",
    "    # Replace Amount Column with category codes \n",
    "    customer_article_amt_df['total_amount_spent'] = customer_article_amt_df['total_amount_spent'].astype('category')\n",
    "    customer_article_amt_df['total_amount_spent'] = customer_article_amt_df['total_amount_spent'].cat.codes\n",
    "\n",
    "    return customer_article_amt_df\n",
    "\n",
    "def get_interaction_matrix(df, df_column_as_row, df_column_as_col, \n",
    "                        df_column_as_value, row_indexing_map, col_indexing_map):\n",
    "    \n",
    "    row = df[df_column_as_row].apply(lambda x: row_indexing_map[x]).values\n",
    "    col = df[df_column_as_col].apply(lambda x: col_indexing_map[x]).values\n",
    "    value = df[df_column_as_value].values\n",
    "    \n",
    "    return sparse.coo_matrix((value, (row, col)), shape = (len(row_indexing_map), len(col_indexing_map)))\n"
   ]
  },
  {
   "cell_type": "code",
   "execution_count": 14,
   "id": "eda6eaf1",
   "metadata": {
    "execution": {
     "iopub.execute_input": "2022-03-13T06:15:38.803267Z",
     "iopub.status.busy": "2022-03-13T06:15:38.570124Z",
     "iopub.status.idle": "2022-03-13T06:15:41.172624Z",
     "shell.execute_reply": "2022-03-13T06:15:41.171739Z",
     "shell.execute_reply.started": "2022-03-13T06:06:19.604178Z"
    },
    "papermill": {
     "duration": 3.079668,
     "end_time": "2022-03-13T06:15:41.172907",
     "exception": false,
     "start_time": "2022-03-13T06:15:38.093239",
     "status": "completed"
    },
    "tags": []
   },
   "outputs": [
    {
     "name": "stdout",
     "output_type": "stream",
     "text": [
      "(27306439, 3)\n"
     ]
    }
   ],
   "source": [
    "# Create customer and article interaction dataframe\n",
    "customer_to_article = get_customer_article_interaction(customer_article_amt_df = transactions_data[['customer_id','article_id','price']])\n",
    "print(customer_to_article.shape)                                                  "
   ]
  },
  {
   "cell_type": "code",
   "execution_count": 15,
   "id": "7165ec94",
   "metadata": {
    "execution": {
     "iopub.execute_input": "2022-03-13T06:15:41.301594Z",
     "iopub.status.busy": "2022-03-13T06:15:41.300874Z",
     "iopub.status.idle": "2022-03-13T06:15:41.303581Z",
     "shell.execute_reply": "2022-03-13T06:15:41.304079Z",
     "shell.execute_reply.started": "2022-03-13T06:06:22.970757Z"
    },
    "papermill": {
     "duration": 0.071902,
     "end_time": "2022-03-13T06:15:41.304242",
     "exception": false,
     "start_time": "2022-03-13T06:15:41.232340",
     "status": "completed"
    },
    "tags": []
   },
   "outputs": [
    {
     "data": {
      "text/html": [
       "<div>\n",
       "<style scoped>\n",
       "    .dataframe tbody tr th:only-of-type {\n",
       "        vertical-align: middle;\n",
       "    }\n",
       "\n",
       "    .dataframe tbody tr th {\n",
       "        vertical-align: top;\n",
       "    }\n",
       "\n",
       "    .dataframe thead th {\n",
       "        text-align: right;\n",
       "    }\n",
       "</style>\n",
       "<table border=\"1\" class=\"dataframe\">\n",
       "  <thead>\n",
       "    <tr style=\"text-align: right;\">\n",
       "      <th></th>\n",
       "      <th>customer_id</th>\n",
       "      <th>article_id</th>\n",
       "      <th>total_amount_spent</th>\n",
       "    </tr>\n",
       "  </thead>\n",
       "  <tbody>\n",
       "    <tr>\n",
       "      <th>0</th>\n",
       "      <td>00000dbacae5abe5e23885899a1fa44253a17956c6d1c3...</td>\n",
       "      <td>176209023</td>\n",
       "      <td>8137</td>\n",
       "    </tr>\n",
       "    <tr>\n",
       "      <th>1</th>\n",
       "      <td>00000dbacae5abe5e23885899a1fa44253a17956c6d1c3...</td>\n",
       "      <td>568601006</td>\n",
       "      <td>27464</td>\n",
       "    </tr>\n",
       "    <tr>\n",
       "      <th>2</th>\n",
       "      <td>00000dbacae5abe5e23885899a1fa44253a17956c6d1c3...</td>\n",
       "      <td>568601043</td>\n",
       "      <td>12672</td>\n",
       "    </tr>\n",
       "    <tr>\n",
       "      <th>3</th>\n",
       "      <td>00000dbacae5abe5e23885899a1fa44253a17956c6d1c3...</td>\n",
       "      <td>607642008</td>\n",
       "      <td>2052</td>\n",
       "    </tr>\n",
       "    <tr>\n",
       "      <th>4</th>\n",
       "      <td>00000dbacae5abe5e23885899a1fa44253a17956c6d1c3...</td>\n",
       "      <td>625548001</td>\n",
       "      <td>10525</td>\n",
       "    </tr>\n",
       "  </tbody>\n",
       "</table>\n",
       "</div>"
      ],
      "text/plain": [
       "                                         customer_id  article_id  \\\n",
       "0  00000dbacae5abe5e23885899a1fa44253a17956c6d1c3...   176209023   \n",
       "1  00000dbacae5abe5e23885899a1fa44253a17956c6d1c3...   568601006   \n",
       "2  00000dbacae5abe5e23885899a1fa44253a17956c6d1c3...   568601043   \n",
       "3  00000dbacae5abe5e23885899a1fa44253a17956c6d1c3...   607642008   \n",
       "4  00000dbacae5abe5e23885899a1fa44253a17956c6d1c3...   625548001   \n",
       "\n",
       "   total_amount_spent  \n",
       "0                8137  \n",
       "1               27464  \n",
       "2               12672  \n",
       "3                2052  \n",
       "4               10525  "
      ]
     },
     "execution_count": 15,
     "metadata": {},
     "output_type": "execute_result"
    }
   ],
   "source": [
    "customer_to_article.head()"
   ]
  },
  {
   "cell_type": "code",
   "execution_count": 16,
   "id": "d070b514",
   "metadata": {
    "execution": {
     "iopub.execute_input": "2022-03-13T06:15:41.424653Z",
     "iopub.status.busy": "2022-03-13T06:15:41.424014Z",
     "iopub.status.idle": "2022-03-13T06:16:26.819155Z",
     "shell.execute_reply": "2022-03-13T06:16:26.818459Z",
     "shell.execute_reply.started": "2022-03-13T06:06:22.985083Z"
    },
    "papermill": {
     "duration": 45.456843,
     "end_time": "2022-03-13T06:16:26.819370",
     "exception": false,
     "start_time": "2022-03-13T06:15:41.362527",
     "status": "completed"
    },
    "tags": []
   },
   "outputs": [],
   "source": [
    "# Generate customer_article_interaction_matrix for train data\n",
    "customer_to_article_interaction = get_interaction_matrix(customer_to_article, \"customer_id\", \"article_id\", \"total_amount_spent\", \\\n",
    "                                                    customer_to_index_mapping, article_to_index_mapping)"
   ]
  },
  {
   "cell_type": "code",
   "execution_count": 17,
   "id": "277bb00e",
   "metadata": {
    "execution": {
     "iopub.execute_input": "2022-03-13T06:16:26.959848Z",
     "iopub.status.busy": "2022-03-13T06:16:26.959199Z",
     "iopub.status.idle": "2022-03-13T06:16:26.961607Z",
     "shell.execute_reply": "2022-03-13T06:16:26.962062Z",
     "shell.execute_reply.started": "2022-03-13T06:07:17.617560Z"
    },
    "papermill": {
     "duration": 0.077137,
     "end_time": "2022-03-13T06:16:26.962211",
     "exception": false,
     "start_time": "2022-03-13T06:16:26.885074",
     "status": "completed"
    },
    "tags": []
   },
   "outputs": [
    {
     "data": {
      "text/plain": [
       "<1362281x104547 sparse matrix of type '<class 'numpy.int32'>'\n",
       "\twith 27306439 stored elements in COOrdinate format>"
      ]
     },
     "execution_count": 17,
     "metadata": {},
     "output_type": "execute_result"
    }
   ],
   "source": [
    "customer_to_article_interaction"
   ]
  },
  {
   "cell_type": "markdown",
   "id": "f441ec45",
   "metadata": {
    "papermill": {
     "duration": 0.06868,
     "end_time": "2022-03-13T06:16:27.089547",
     "exception": false,
     "start_time": "2022-03-13T06:16:27.020867",
     "status": "completed"
    },
    "tags": []
   },
   "source": [
    "## Light FM Model Training"
   ]
  },
  {
   "cell_type": "code",
   "execution_count": 18,
   "id": "110d7786",
   "metadata": {
    "execution": {
     "iopub.execute_input": "2022-03-13T06:16:27.211921Z",
     "iopub.status.busy": "2022-03-13T06:16:27.211249Z",
     "iopub.status.idle": "2022-03-13T06:16:48.633816Z",
     "shell.execute_reply": "2022-03-13T06:16:48.634237Z",
     "shell.execute_reply.started": "2022-03-13T06:07:17.631029Z"
    },
    "papermill": {
     "duration": 21.483482,
     "end_time": "2022-03-13T06:16:48.634477",
     "exception": false,
     "start_time": "2022-03-13T06:16:27.150995",
     "status": "completed"
    },
    "tags": []
   },
   "outputs": [
    {
     "name": "stdout",
     "output_type": "stream",
     "text": [
      "time taken = 21.41 seconds\n"
     ]
    }
   ],
   "source": [
    "#### FULL MODEL TRAINING ####\n",
    "# Retraining the final model with full dataset\n",
    "\"\"\"\n",
    "Training model without any article or customer features\n",
    "\"\"\"\n",
    "final_model_without_feature = LightFM(loss = \"warp\")\n",
    "\n",
    "# Fitting to combined dataset with pure collaborative filtering result\n",
    "start = time.time() \n",
    "final_model_without_feature.fit(customer_to_article_interaction,\n",
    "                                user_features=None, \n",
    "                                item_features=None, \n",
    "                                sample_weight=None, \n",
    "                                epochs=1, \n",
    "                                num_threads=4, \n",
    "                                verbose=False)\n",
    "end = time.time()\n",
    "print(\"time taken = {0:.{1}f} seconds\".format(end - start, 2))"
   ]
  },
  {
   "cell_type": "markdown",
   "id": "68c70361",
   "metadata": {
    "papermill": {
     "duration": 0.059534,
     "end_time": "2022-03-13T06:16:48.752311",
     "exception": false,
     "start_time": "2022-03-13T06:16:48.692777",
     "status": "completed"
    },
    "tags": []
   },
   "source": [
    "## Recommendation sampling and Comparison with Known Positives"
   ]
  },
  {
   "cell_type": "code",
   "execution_count": 19,
   "id": "747640e1",
   "metadata": {
    "execution": {
     "iopub.execute_input": "2022-03-13T06:16:48.874245Z",
     "iopub.status.busy": "2022-03-13T06:16:48.873583Z",
     "iopub.status.idle": "2022-03-13T06:16:48.891673Z",
     "shell.execute_reply": "2022-03-13T06:16:48.892209Z",
     "shell.execute_reply.started": "2022-03-13T06:07:48.017693Z"
    },
    "papermill": {
     "duration": 0.080536,
     "end_time": "2022-03-13T06:16:48.892386",
     "exception": false,
     "start_time": "2022-03-13T06:16:48.811850",
     "status": "completed"
    },
    "tags": []
   },
   "outputs": [],
   "source": [
    "class recommendation_sampling():\n",
    "    def __init__(self, model, items = None, user_to_product_interaction_matrix = None, \n",
    "                item_features = None, user2index_map = None):\n",
    "        \n",
    "        self.user_to_product_interaction_matrix = user_to_product_interaction_matrix\n",
    "        self.item_features = item_features if item_features is not None else None\n",
    "        self.model = model\n",
    "        self.items = items\n",
    "        self.user2index_map = user2index_map\n",
    "    \n",
    "    def recommendation_for_user(self, user, k=3, prediction_type = 'normal'):\n",
    "        # Getting the userindex\n",
    "        userindex = self.user2index_map.get(user, None)\n",
    "        if userindex == None:\n",
    "            print(\"User %s not provided during Training the model\" %(user))\n",
    "            return None\n",
    "\n",
    "        # Products already bought\n",
    "        known_positives = self.items[self.user_to_product_interaction_matrix.tocsr()[userindex].indices]\n",
    "        \n",
    "        # Scores from model prediction\n",
    "        scores = self.model.predict(user_ids = userindex, item_ids = np.arange(self.user_to_product_interaction_matrix.shape[1])) if prediction_type == 'normal' else \\\n",
    "            self.model.predict(user_ids = userindex, item_ids = np.arange(self.user_to_product_interaction_matrix.shape[1]), item_features = self.item_features)\n",
    "    \n",
    "        # Top items\n",
    "        top_items = self.items[np.argsort(-scores)]\n",
    "        \n",
    "        # Printing out the result\n",
    "        print(\"User %s\" % user)\n",
    "        print(\"     Known positives:\")\n",
    "        for x in known_positives[:k]:\n",
    "            print(\"                  %s\" % x)\n",
    "            \n",
    "        print(\"     Recommended:\")\n",
    "        for x in top_items[:k]:\n",
    "            print(\"                  %s\" % x)\n",
    "\n",
    "    def get_recommendation(self, user, k=3, prediction_type = 'normal'):\n",
    "        # Getting the userindex\n",
    "        userindex = self.user2index_map.get(user, None)\n",
    "        if userindex == None:\n",
    "            return None\n",
    "        \n",
    "        # Products already bought\n",
    "        known_positives = self.items[self.user_to_product_interaction_matrix.tocsr()[userindex].indices]\n",
    "        \n",
    "        # Scores from model prediction\n",
    "        scores = self.model.predict(user_ids = userindex, item_ids = np.arange(self.user_to_product_interaction_matrix.shape[1])) if prediction_type == 'normal' else \\\n",
    "            self.model.predict(user_ids = userindex, item_ids = np.arange(self.user_to_product_interaction_matrix.shape[1]), item_features = self.item_features)\n",
    "        \n",
    "        # Top items\n",
    "        top_items = self.items[np.argsort(-scores)]\n",
    "\n",
    "        # Returning results\n",
    "        recommended_list, recommender_count = [],1\n",
    "        for item in top_items[:k]:\n",
    "            recommended_list.append({'Priority': recommender_count,'Article': item})\n",
    "            recommender_count+=1\n",
    "        return known_positives, recommended_list\n",
    "    \n",
    "    def get_batched_recommendation(self, user, k=3, prediction_type='normal'):\n",
    "        # Getting user_indexes \n",
    "        user_index = self.user2index_map.get(user, None)\n",
    "        if user_index is None:\n",
    "            return None\n",
    "        \n",
    "        # Scores from model\n",
    "        scores = self.model.predict(user_ids = user_index, item_ids = np.arange(self.user_to_product_interaction_matrix.shape[1])) if prediction_type == 'normal' else \\\n",
    "            self.model.predict(user_ids = user_index, item_ids = np.arange(self.user_to_product_interaction_matrix.shape[1]), item_features = self.item_features)\n",
    "    \n",
    "        # Top items\n",
    "        top_items = self.items[np.argsort(-scores)]\n",
    "        \n",
    "        return top_items[:k]"
   ]
  },
  {
   "cell_type": "code",
   "execution_count": 20,
   "id": "346b154c",
   "metadata": {
    "execution": {
     "iopub.execute_input": "2022-03-13T06:16:49.012973Z",
     "iopub.status.busy": "2022-03-13T06:16:49.012362Z",
     "iopub.status.idle": "2022-03-13T06:16:49.015929Z",
     "shell.execute_reply": "2022-03-13T06:16:49.016504Z",
     "shell.execute_reply.started": "2022-03-13T06:07:48.043455Z"
    },
    "papermill": {
     "duration": 0.065733,
     "end_time": "2022-03-13T06:16:49.016659",
     "exception": false,
     "start_time": "2022-03-13T06:16:48.950926",
     "status": "completed"
    },
    "tags": []
   },
   "outputs": [],
   "source": [
    "# Giving recommendations\n",
    "recom_without_feature = recommendation_sampling(model = final_model_without_feature,\n",
    "                                               items = articles,\n",
    "                                               user_to_product_interaction_matrix = customer_to_article_interaction,\n",
    "                                               user2index_map = customer_to_index_mapping)"
   ]
  },
  {
   "cell_type": "code",
   "execution_count": 21,
   "id": "ae165a9f",
   "metadata": {
    "execution": {
     "iopub.execute_input": "2022-03-13T06:16:49.137000Z",
     "iopub.status.busy": "2022-03-13T06:16:49.136368Z",
     "iopub.status.idle": "2022-03-13T06:16:56.112257Z",
     "shell.execute_reply": "2022-03-13T06:16:56.111741Z",
     "shell.execute_reply.started": "2022-03-13T06:07:48.064050Z"
    },
    "papermill": {
     "duration": 7.036688,
     "end_time": "2022-03-13T06:16:56.112413",
     "exception": false,
     "start_time": "2022-03-13T06:16:49.075725",
     "status": "completed"
    },
    "tags": []
   },
   "outputs": [
    {
     "name": "stdout",
     "output_type": "stream",
     "text": [
      "User 00000dbacae5abe5e23885899a1fa44253a17956c6d1c3d25f88aa139fdfc657\n",
      "     Known positives:\n",
      "                  176209023\n",
      "                  568601006\n",
      "                  568601043\n",
      "     Recommended:\n",
      "                  706016001\n",
      "                  610776002\n",
      "                  706016002\n",
      "User 0000423b00ade91418cceaf3b26c6af3dd342b51fd051eec9c12fb36984420fa\n",
      "     Known positives:\n",
      "                  351484002\n",
      "                  377277001\n",
      "                  478646001\n",
      "     Recommended:\n",
      "                  706016001\n",
      "                  706016002\n",
      "                  610776002\n",
      "User 000058a12d5b43e67d225668fa1f8d618c13dc232df0cad8ffe7ad4a1091e318\n",
      "     Known positives:\n",
      "                  351484002\n",
      "                  723529001\n",
      "                  541518023\n",
      "     Recommended:\n",
      "                  706016001\n",
      "                  610776002\n",
      "                  372860001\n",
      "User 00005ca1c9ed5f5146b52ac8639a40ca9d57aeff4d1bd2c5feb1ca5dff07c43e\n",
      "     Known positives:\n",
      "                  732413001\n",
      "                  742079001\n",
      "     Recommended:\n",
      "                  706016001\n",
      "                  372860001\n",
      "                  706016002\n",
      "User 00006413d8573cd20ed7128e53b7b13819fe5cfc2d801fe7fc0f26dd8d65a85a\n",
      "     Known positives:\n",
      "                  399061015\n",
      "                  589440005\n",
      "                  634249005\n",
      "     Recommended:\n",
      "                  706016001\n",
      "                  610776002\n",
      "                  372860001\n"
     ]
    }
   ],
   "source": [
    "recom_without_feature.recommendation_for_user('00000dbacae5abe5e23885899a1fa44253a17956c6d1c3d25f88aa139fdfc657')\n",
    "recom_without_feature.recommendation_for_user('0000423b00ade91418cceaf3b26c6af3dd342b51fd051eec9c12fb36984420fa')\n",
    "recom_without_feature.recommendation_for_user('000058a12d5b43e67d225668fa1f8d618c13dc232df0cad8ffe7ad4a1091e318')\n",
    "recom_without_feature.recommendation_for_user('00005ca1c9ed5f5146b52ac8639a40ca9d57aeff4d1bd2c5feb1ca5dff07c43e')\n",
    "recom_without_feature.recommendation_for_user('00006413d8573cd20ed7128e53b7b13819fe5cfc2d801fe7fc0f26dd8d65a85a')"
   ]
  },
  {
   "cell_type": "markdown",
   "id": "8f68d7b3",
   "metadata": {
    "papermill": {
     "duration": 0.060063,
     "end_time": "2022-03-13T06:16:56.232788",
     "exception": false,
     "start_time": "2022-03-13T06:16:56.172725",
     "status": "completed"
    },
    "tags": []
   },
   "source": [
    "## MAP@12 Calculation for entire dataset"
   ]
  },
  {
   "cell_type": "code",
   "execution_count": 22,
   "id": "bdc41677",
   "metadata": {
    "execution": {
     "iopub.execute_input": "2022-03-13T06:16:56.362136Z",
     "iopub.status.busy": "2022-03-13T06:16:56.361091Z",
     "iopub.status.idle": "2022-03-13T06:16:59.211785Z",
     "shell.execute_reply": "2022-03-13T06:16:59.211199Z",
     "shell.execute_reply.started": "2022-03-13T06:07:55.127211Z"
    },
    "papermill": {
     "duration": 2.916689,
     "end_time": "2022-03-13T06:16:59.211934",
     "exception": false,
     "start_time": "2022-03-13T06:16:56.295245",
     "status": "completed"
    },
    "tags": []
   },
   "outputs": [],
   "source": [
    "sparse_customer_article_train, sparse_customer_article_test = random_train_test_split(customer_to_article_interaction, test_percentage=0.2, random_state=42)"
   ]
  },
  {
   "cell_type": "code",
   "execution_count": 23,
   "id": "fe93cfbc",
   "metadata": {
    "execution": {
     "iopub.execute_input": "2022-03-13T06:16:59.338194Z",
     "iopub.status.busy": "2022-03-13T06:16:59.337266Z",
     "iopub.status.idle": "2022-03-13T06:16:59.342279Z",
     "shell.execute_reply": "2022-03-13T06:16:59.342906Z",
     "shell.execute_reply.started": "2022-03-13T06:07:58.484442Z"
    },
    "papermill": {
     "duration": 0.069286,
     "end_time": "2022-03-13T06:16:59.343059",
     "exception": false,
     "start_time": "2022-03-13T06:16:59.273773",
     "status": "completed"
    },
    "tags": []
   },
   "outputs": [
    {
     "data": {
      "text/plain": [
       "<1362281x104547 sparse matrix of type '<class 'numpy.float32'>'\n",
       "\twith 21845151 stored elements in COOrdinate format>"
      ]
     },
     "execution_count": 23,
     "metadata": {},
     "output_type": "execute_result"
    }
   ],
   "source": [
    "sparse_customer_article_train"
   ]
  },
  {
   "cell_type": "code",
   "execution_count": 24,
   "id": "dee64a6b",
   "metadata": {
    "execution": {
     "iopub.execute_input": "2022-03-13T06:16:59.468561Z",
     "iopub.status.busy": "2022-03-13T06:16:59.467653Z",
     "iopub.status.idle": "2022-03-13T06:16:59.473534Z",
     "shell.execute_reply": "2022-03-13T06:16:59.472904Z",
     "shell.execute_reply.started": "2022-03-13T06:07:58.492802Z"
    },
    "papermill": {
     "duration": 0.06935,
     "end_time": "2022-03-13T06:16:59.473680",
     "exception": false,
     "start_time": "2022-03-13T06:16:59.404330",
     "status": "completed"
    },
    "tags": []
   },
   "outputs": [
    {
     "data": {
      "text/plain": [
       "<1362281x104547 sparse matrix of type '<class 'numpy.float32'>'\n",
       "\twith 5461288 stored elements in COOrdinate format>"
      ]
     },
     "execution_count": 24,
     "metadata": {},
     "output_type": "execute_result"
    }
   ],
   "source": [
    "sparse_customer_article_test"
   ]
  },
  {
   "cell_type": "markdown",
   "id": "e1e15faa",
   "metadata": {
    "papermill": {
     "duration": 0.062358,
     "end_time": "2022-03-13T06:16:59.597141",
     "exception": false,
     "start_time": "2022-03-13T06:16:59.534783",
     "status": "completed"
    },
    "tags": []
   },
   "source": [
    "### Cross Validation methodolody"
   ]
  },
  {
   "cell_type": "code",
   "execution_count": 25,
   "id": "eeed2961",
   "metadata": {
    "execution": {
     "iopub.execute_input": "2022-03-13T06:16:59.726961Z",
     "iopub.status.busy": "2022-03-13T06:16:59.725764Z",
     "iopub.status.idle": "2022-03-13T06:17:17.159684Z",
     "shell.execute_reply": "2022-03-13T06:17:17.159162Z",
     "shell.execute_reply.started": "2022-03-13T06:07:58.509168Z"
    },
    "papermill": {
     "duration": 17.502122,
     "end_time": "2022-03-13T06:17:17.159828",
     "exception": false,
     "start_time": "2022-03-13T06:16:59.657706",
     "status": "completed"
    },
    "tags": []
   },
   "outputs": [
    {
     "name": "stdout",
     "output_type": "stream",
     "text": [
      "time taken = 17.43 seconds\n"
     ]
    }
   ],
   "source": [
    "# Initialising model with warp loss function\n",
    "model_without_features = LightFM(loss = \"warp\")\n",
    "\n",
    "# Fitting into user to product interaction matrix only / pure collaborative filtering factor\n",
    "start = time.time()\n",
    "model_without_features.fit(sparse_customer_article_train,\n",
    "                          user_features=None, \n",
    "                          item_features=None, \n",
    "                          sample_weight=None, \n",
    "                          epochs=1, \n",
    "                          num_threads=4,\n",
    "                          verbose=False)\n",
    "end = time.time()\n",
    "print(\"time taken = {0:.{1}f} seconds\".format(end - start, 2))"
   ]
  },
  {
   "cell_type": "markdown",
   "id": "da2a5498",
   "metadata": {
    "papermill": {
     "duration": 0.060127,
     "end_time": "2022-03-13T06:17:17.280935",
     "exception": false,
     "start_time": "2022-03-13T06:17:17.220808",
     "status": "completed"
    },
    "tags": []
   },
   "source": [
    "### Writing Precision Calculation"
   ]
  },
  {
   "cell_type": "code",
   "execution_count": 26,
   "id": "bf55cbbb",
   "metadata": {
    "execution": {
     "iopub.execute_input": "2022-03-13T06:17:17.408987Z",
     "iopub.status.busy": "2022-03-13T06:17:17.408038Z",
     "iopub.status.idle": "2022-03-13T06:17:17.414405Z",
     "shell.execute_reply": "2022-03-13T06:17:17.415000Z",
     "shell.execute_reply.started": "2022-03-13T06:08:26.288381Z"
    },
    "papermill": {
     "duration": 0.072112,
     "end_time": "2022-03-13T06:17:17.415161",
     "exception": false,
     "start_time": "2022-03-13T06:17:17.343049",
     "status": "completed"
    },
    "tags": []
   },
   "outputs": [
    {
     "data": {
      "text/plain": [
       "'\\nk = 12\\nprecision_without_features = []\\nfor precision_k in tqdm.tqdm(range(1,k+1), desc=\\'Calculating Precisions at different k levels\\'):\\n    start = time.time()\\n    precision_without_features.append(precision_at_k(model = model_without_features, \\n                                                    test_interactions = sparse_customer_article_test,\\n                                                    num_threads = 4, \\n                                                    k=precision_k,\\n                                                    check_intersections = True))\\n    end = time.time()\\n    print(\"Time taken for top %s number precision = %s seconds\" %(str(precision_k), str(round(end-start,2))))\\n'"
      ]
     },
     "execution_count": 26,
     "metadata": {},
     "output_type": "execute_result"
    }
   ],
   "source": [
    "# Precision metric score (ranging from 0 to 1)\n",
    "'''\n",
    "k = 12\n",
    "precision_without_features = []\n",
    "for precision_k in tqdm.tqdm(range(1,k+1), desc='Calculating Precisions at different k levels'):\n",
    "    start = time.time()\n",
    "    precision_without_features.append(precision_at_k(model = model_without_features, \n",
    "                                                    test_interactions = sparse_customer_article_test,\n",
    "                                                    num_threads = 4, \n",
    "                                                    k=precision_k,\n",
    "                                                    check_intersections = True))\n",
    "    end = time.time()\n",
    "    print(\"Time taken for top %s number precision = %s seconds\" %(str(precision_k), str(round(end-start,2))))\n",
    "'''"
   ]
  },
  {
   "cell_type": "code",
   "execution_count": 27,
   "id": "c25a8644",
   "metadata": {
    "execution": {
     "iopub.execute_input": "2022-03-13T06:17:17.542951Z",
     "iopub.status.busy": "2022-03-13T06:17:17.542035Z",
     "iopub.status.idle": "2022-03-13T06:17:17.546864Z",
     "shell.execute_reply": "2022-03-13T06:17:17.547472Z",
     "shell.execute_reply.started": "2022-03-13T06:08:26.299630Z"
    },
    "papermill": {
     "duration": 0.070182,
     "end_time": "2022-03-13T06:17:17.547645",
     "exception": false,
     "start_time": "2022-03-13T06:17:17.477463",
     "status": "completed"
    },
    "tags": []
   },
   "outputs": [
    {
     "data": {
      "text/plain": [
       "\"\\nfrom numpy import save\\nsave('./precision_without_features.npy', precision_without_features)\\n\""
      ]
     },
     "execution_count": 27,
     "metadata": {},
     "output_type": "execute_result"
    }
   ],
   "source": [
    "'''\n",
    "from numpy import save\n",
    "save('./precision_without_features.npy', precision_without_features)\n",
    "'''"
   ]
  },
  {
   "cell_type": "code",
   "execution_count": 28,
   "id": "43e81327",
   "metadata": {
    "execution": {
     "iopub.execute_input": "2022-03-13T06:17:17.675686Z",
     "iopub.status.busy": "2022-03-13T06:17:17.674725Z",
     "iopub.status.idle": "2022-03-13T06:17:17.945545Z",
     "shell.execute_reply": "2022-03-13T06:17:17.946078Z",
     "shell.execute_reply.started": "2022-03-13T06:08:26.319111Z"
    },
    "papermill": {
     "duration": 0.336546,
     "end_time": "2022-03-13T06:17:17.946245",
     "exception": false,
     "start_time": "2022-03-13T06:17:17.609699",
     "status": "completed"
    },
    "tags": []
   },
   "outputs": [],
   "source": [
    "precision_without_features = np.load('../input/hm-trained-models/lightfm_nofeatures/precision_without_features.npy')"
   ]
  },
  {
   "cell_type": "markdown",
   "id": "c82a2c33",
   "metadata": {
    "papermill": {
     "duration": 0.064282,
     "end_time": "2022-03-13T06:17:18.073769",
     "exception": false,
     "start_time": "2022-03-13T06:17:18.009487",
     "status": "completed"
    },
    "tags": []
   },
   "source": [
    "### Calculating Average Precision@12"
   ]
  },
  {
   "cell_type": "code",
   "execution_count": 29,
   "id": "aaf074e1",
   "metadata": {
    "execution": {
     "iopub.execute_input": "2022-03-13T06:17:18.201725Z",
     "iopub.status.busy": "2022-03-13T06:17:18.201019Z",
     "iopub.status.idle": "2022-03-13T06:17:18.210738Z",
     "shell.execute_reply": "2022-03-13T06:17:18.210209Z",
     "shell.execute_reply.started": "2022-03-13T06:08:27.448009Z"
    },
    "papermill": {
     "duration": 0.075249,
     "end_time": "2022-03-13T06:17:18.210864",
     "exception": false,
     "start_time": "2022-03-13T06:17:18.135615",
     "status": "completed"
    },
    "tags": []
   },
   "outputs": [],
   "source": [
    "map_12 = np.sum(precision_without_features, axis=0) / 12"
   ]
  },
  {
   "cell_type": "markdown",
   "id": "8d1973fd",
   "metadata": {
    "papermill": {
     "duration": 0.062621,
     "end_time": "2022-03-13T06:17:18.335313",
     "exception": false,
     "start_time": "2022-03-13T06:17:18.272692",
     "status": "completed"
    },
    "tags": []
   },
   "source": [
    "### Calculating Mean Average Precision"
   ]
  },
  {
   "cell_type": "code",
   "execution_count": 30,
   "id": "47f4e835",
   "metadata": {
    "execution": {
     "iopub.execute_input": "2022-03-13T06:17:18.464060Z",
     "iopub.status.busy": "2022-03-13T06:17:18.463415Z",
     "iopub.status.idle": "2022-03-13T06:17:18.467521Z",
     "shell.execute_reply": "2022-03-13T06:17:18.467034Z",
     "shell.execute_reply.started": "2022-03-13T06:08:27.465908Z"
    },
    "papermill": {
     "duration": 0.070277,
     "end_time": "2022-03-13T06:17:18.467655",
     "exception": false,
     "start_time": "2022-03-13T06:17:18.397378",
     "status": "completed"
    },
    "tags": []
   },
   "outputs": [
    {
     "name": "stdout",
     "output_type": "stream",
     "text": [
      "average precision @ 12 without adding item-feature interaction = 0.005\n"
     ]
    }
   ],
   "source": [
    "print(\"average precision @ 12 without adding item-feature interaction = {0:.{1}f}\".format(map_12.mean(), 3)) "
   ]
  },
  {
   "cell_type": "markdown",
   "id": "b15915db",
   "metadata": {
    "papermill": {
     "duration": 0.062149,
     "end_time": "2022-03-13T06:17:18.592624",
     "exception": false,
     "start_time": "2022-03-13T06:17:18.530475",
     "status": "completed"
    },
    "tags": []
   },
   "source": [
    "## Saving Final Model with any feature"
   ]
  },
  {
   "cell_type": "code",
   "execution_count": 31,
   "id": "c14166bc",
   "metadata": {
    "execution": {
     "iopub.execute_input": "2022-03-13T06:17:18.724154Z",
     "iopub.status.busy": "2022-03-13T06:17:18.722105Z",
     "iopub.status.idle": "2022-03-13T06:17:19.027545Z",
     "shell.execute_reply": "2022-03-13T06:17:19.028018Z",
     "shell.execute_reply.started": "2022-03-13T06:08:27.475928Z"
    },
    "papermill": {
     "duration": 0.372572,
     "end_time": "2022-03-13T06:17:19.028192",
     "exception": false,
     "start_time": "2022-03-13T06:17:18.655620",
     "status": "completed"
    },
    "tags": []
   },
   "outputs": [],
   "source": [
    "with open('model_without_feature.pickle', 'wb') as fle:\n",
    "    pickle.dump(final_model_without_feature, fle, protocol=pickle.HIGHEST_PROTOCOL)"
   ]
  },
  {
   "cell_type": "markdown",
   "id": "4116d566",
   "metadata": {
    "papermill": {
     "duration": 0.07566,
     "end_time": "2022-03-13T06:17:19.178551",
     "exception": false,
     "start_time": "2022-03-13T06:17:19.102891",
     "status": "completed"
    },
    "tags": []
   },
   "source": [
    "## Getting Predictions based on submission template"
   ]
  },
  {
   "cell_type": "code",
   "execution_count": 32,
   "id": "b5816158",
   "metadata": {
    "execution": {
     "iopub.execute_input": "2022-03-13T06:17:19.306460Z",
     "iopub.status.busy": "2022-03-13T06:17:19.305821Z",
     "iopub.status.idle": "2022-03-13T06:17:24.028027Z",
     "shell.execute_reply": "2022-03-13T06:17:24.028515Z",
     "shell.execute_reply.started": "2022-03-13T06:08:28.116290Z"
    },
    "papermill": {
     "duration": 4.788023,
     "end_time": "2022-03-13T06:17:24.028689",
     "exception": false,
     "start_time": "2022-03-13T06:17:19.240666",
     "status": "completed"
    },
    "tags": []
   },
   "outputs": [
    {
     "data": {
      "text/plain": [
       "(1371980, 2)"
      ]
     },
     "execution_count": 32,
     "metadata": {},
     "output_type": "execute_result"
    }
   ],
   "source": [
    "submission_data = pd.read_csv(submission_data_path)\n",
    "submission_data.shape"
   ]
  },
  {
   "cell_type": "code",
   "execution_count": 33,
   "id": "0fd0f519",
   "metadata": {
    "execution": {
     "iopub.execute_input": "2022-03-13T06:17:24.163152Z",
     "iopub.status.busy": "2022-03-13T06:17:24.162234Z",
     "iopub.status.idle": "2022-03-13T06:17:24.165994Z",
     "shell.execute_reply": "2022-03-13T06:17:24.166688Z",
     "shell.execute_reply.started": "2022-03-13T06:08:33.986834Z"
    },
    "papermill": {
     "duration": 0.075096,
     "end_time": "2022-03-13T06:17:24.166839",
     "exception": false,
     "start_time": "2022-03-13T06:17:24.091743",
     "status": "completed"
    },
    "tags": []
   },
   "outputs": [
    {
     "data": {
      "text/html": [
       "<div>\n",
       "<style scoped>\n",
       "    .dataframe tbody tr th:only-of-type {\n",
       "        vertical-align: middle;\n",
       "    }\n",
       "\n",
       "    .dataframe tbody tr th {\n",
       "        vertical-align: top;\n",
       "    }\n",
       "\n",
       "    .dataframe thead th {\n",
       "        text-align: right;\n",
       "    }\n",
       "</style>\n",
       "<table border=\"1\" class=\"dataframe\">\n",
       "  <thead>\n",
       "    <tr style=\"text-align: right;\">\n",
       "      <th></th>\n",
       "      <th>customer_id</th>\n",
       "      <th>prediction</th>\n",
       "    </tr>\n",
       "  </thead>\n",
       "  <tbody>\n",
       "    <tr>\n",
       "      <th>0</th>\n",
       "      <td>00000dbacae5abe5e23885899a1fa44253a17956c6d1c3...</td>\n",
       "      <td>0706016001 0706016002 0372860001 0610776002 07...</td>\n",
       "    </tr>\n",
       "    <tr>\n",
       "      <th>1</th>\n",
       "      <td>0000423b00ade91418cceaf3b26c6af3dd342b51fd051e...</td>\n",
       "      <td>0706016001 0706016002 0372860001 0610776002 07...</td>\n",
       "    </tr>\n",
       "    <tr>\n",
       "      <th>2</th>\n",
       "      <td>000058a12d5b43e67d225668fa1f8d618c13dc232df0ca...</td>\n",
       "      <td>0706016001 0706016002 0372860001 0610776002 07...</td>\n",
       "    </tr>\n",
       "    <tr>\n",
       "      <th>3</th>\n",
       "      <td>00005ca1c9ed5f5146b52ac8639a40ca9d57aeff4d1bd2...</td>\n",
       "      <td>0706016001 0706016002 0372860001 0610776002 07...</td>\n",
       "    </tr>\n",
       "    <tr>\n",
       "      <th>4</th>\n",
       "      <td>00006413d8573cd20ed7128e53b7b13819fe5cfc2d801f...</td>\n",
       "      <td>0706016001 0706016002 0372860001 0610776002 07...</td>\n",
       "    </tr>\n",
       "  </tbody>\n",
       "</table>\n",
       "</div>"
      ],
      "text/plain": [
       "                                         customer_id  \\\n",
       "0  00000dbacae5abe5e23885899a1fa44253a17956c6d1c3...   \n",
       "1  0000423b00ade91418cceaf3b26c6af3dd342b51fd051e...   \n",
       "2  000058a12d5b43e67d225668fa1f8d618c13dc232df0ca...   \n",
       "3  00005ca1c9ed5f5146b52ac8639a40ca9d57aeff4d1bd2...   \n",
       "4  00006413d8573cd20ed7128e53b7b13819fe5cfc2d801f...   \n",
       "\n",
       "                                          prediction  \n",
       "0  0706016001 0706016002 0372860001 0610776002 07...  \n",
       "1  0706016001 0706016002 0372860001 0610776002 07...  \n",
       "2  0706016001 0706016002 0372860001 0610776002 07...  \n",
       "3  0706016001 0706016002 0372860001 0610776002 07...  \n",
       "4  0706016001 0706016002 0372860001 0610776002 07...  "
      ]
     },
     "execution_count": 33,
     "metadata": {},
     "output_type": "execute_result"
    }
   ],
   "source": [
    "submission_data.head()"
   ]
  },
  {
   "cell_type": "code",
   "execution_count": 34,
   "id": "dfd4fa38",
   "metadata": {
    "execution": {
     "iopub.execute_input": "2022-03-13T06:17:24.297229Z",
     "iopub.status.busy": "2022-03-13T06:17:24.296322Z",
     "iopub.status.idle": "2022-03-13T06:17:24.950593Z",
     "shell.execute_reply": "2022-03-13T06:17:24.949903Z",
     "shell.execute_reply.started": "2022-03-13T06:08:34.000882Z"
    },
    "papermill": {
     "duration": 0.721246,
     "end_time": "2022-03-13T06:17:24.950756",
     "exception": false,
     "start_time": "2022-03-13T06:17:24.229510",
     "status": "completed"
    },
    "tags": []
   },
   "outputs": [
    {
     "data": {
      "text/plain": [
       "['0706016001',\n",
       " '0706016002',\n",
       " '0372860001',\n",
       " '0610776002',\n",
       " '0759871002',\n",
       " '0464297007',\n",
       " '0372860002',\n",
       " '0610776001',\n",
       " '0399223001',\n",
       " '0706016003',\n",
       " '0720125001',\n",
       " '0156231001']"
      ]
     },
     "execution_count": 34,
     "metadata": {},
     "output_type": "execute_result"
    }
   ],
   "source": [
    "submission_data.loc[submission_data.customer_id.isin([submission_data.customer_id.unique()[0]])].prediction[0].split(' ')"
   ]
  },
  {
   "cell_type": "code",
   "execution_count": 35,
   "id": "d080ce99",
   "metadata": {
    "execution": {
     "iopub.execute_input": "2022-03-13T06:17:25.086698Z",
     "iopub.status.busy": "2022-03-13T06:17:25.085754Z",
     "iopub.status.idle": "2022-03-13T06:17:25.093355Z",
     "shell.execute_reply": "2022-03-13T06:17:25.093918Z",
     "shell.execute_reply.started": "2022-03-13T06:08:34.698902Z"
    },
    "papermill": {
     "duration": 0.077662,
     "end_time": "2022-03-13T06:17:25.094082",
     "exception": false,
     "start_time": "2022-03-13T06:17:25.016420",
     "status": "completed"
    },
    "tags": []
   },
   "outputs": [],
   "source": [
    "def create_chunk_indices(meta_df, chunk_idx, chunk_size):\n",
    "    '''\n",
    "    Function to generate chunks of data for multiprocessing\n",
    "    '''\n",
    "    start_idx = chunk_idx * chunk_size\n",
    "    end_idx = start_idx + chunk_size\n",
    "    meta_chunk = meta_df[start_idx:end_idx]\n",
    "    print(\"start/end \"+str(chunk_idx+1)+\":\" + str(start_idx) + \",\" + str(end_idx))\n",
    "    print(len(meta_chunk))\n",
    "    #chunk_idx in return value is used to sort the processed chunks back into original order,\n",
    "    return (meta_chunk, chunk_idx)"
   ]
  },
  {
   "cell_type": "code",
   "execution_count": 36,
   "id": "7c480b09",
   "metadata": {
    "execution": {
     "iopub.execute_input": "2022-03-13T06:17:25.225510Z",
     "iopub.status.busy": "2022-03-13T06:17:25.224583Z",
     "iopub.status.idle": "2022-03-13T06:17:25.230775Z",
     "shell.execute_reply": "2022-03-13T06:17:25.231334Z",
     "shell.execute_reply.started": "2022-03-13T06:08:34.710884Z"
    },
    "papermill": {
     "duration": 0.07353,
     "end_time": "2022-03-13T06:17:25.231491",
     "exception": false,
     "start_time": "2022-03-13T06:17:25.157961",
     "status": "completed"
    },
    "tags": []
   },
   "outputs": [],
   "source": [
    "def predict_sub_chunks(chunk):\n",
    "    final_submission=[]\n",
    "    for row in tqdm.tqdm(chunk[0].values):\n",
    "        try:\n",
    "            preds = recom_without_feature.get_batched_recommendation(row[0], 12)\n",
    "            if preds is not None:\n",
    "                final_submission.append(' '.join(map(str, recom_without_feature.get_batched_recommendation(row[0], 12))))\n",
    "            else:\n",
    "                final_submission.append(row[1])\n",
    "        except Exception as ex:\n",
    "            print(ex)\n",
    "    return final_submission"
   ]
  },
  {
   "cell_type": "code",
   "execution_count": 37,
   "id": "0a862cf3",
   "metadata": {
    "execution": {
     "iopub.execute_input": "2022-03-13T06:17:25.369167Z",
     "iopub.status.busy": "2022-03-13T06:17:25.368351Z",
     "iopub.status.idle": "2022-03-13T06:17:25.371390Z",
     "shell.execute_reply": "2022-03-13T06:17:25.370851Z",
     "shell.execute_reply.started": "2022-03-13T06:08:34.728854Z"
    },
    "papermill": {
     "duration": 0.075987,
     "end_time": "2022-03-13T06:17:25.371523",
     "exception": false,
     "start_time": "2022-03-13T06:17:25.295536",
     "status": "completed"
    },
    "tags": []
   },
   "outputs": [],
   "source": [
    "num_cores=4\n",
    "\n",
    "def predict_submission(submission_data=None):\n",
    "    #splitting here by measurement id's to get all signals for a measurement into single chunk\n",
    "    customer_ids = submission_data[\"customer_id\"].unique()\n",
    "    df_split = np.array_split(customer_ids, num_cores)\n",
    "    chunk_size = len(df_split[0])\n",
    "    \n",
    "    chunk1 = create_chunk_indices(submission_data, 0, chunk_size)\n",
    "    chunk2 = create_chunk_indices(submission_data, 1, chunk_size)\n",
    "    chunk3 = create_chunk_indices(submission_data, 2, chunk_size)\n",
    "    chunk4 = create_chunk_indices(submission_data, 3, chunk_size)\n",
    "    \n",
    "    #list of items for multiprocessing, 4 since using 4 cores\n",
    "    all_chunks = [chunk1, chunk2, chunk3, chunk4]\n",
    "    \n",
    "    pool = Pool(num_cores)\n",
    "    result = pool.map(predict_sub_chunks, all_chunks)\n",
    "    \n",
    "    result_combined = list(itertools.chain(result[0], result[1], result[2], result[3]))\n",
    "    return result_combined"
   ]
  },
  {
   "cell_type": "markdown",
   "id": "f92352db",
   "metadata": {
    "papermill": {
     "duration": 0.065074,
     "end_time": "2022-03-13T06:17:25.501577",
     "exception": false,
     "start_time": "2022-03-13T06:17:25.436503",
     "status": "completed"
    },
    "tags": []
   },
   "source": [
    "### The inferencing is done for first 1024 users in the sample file however you can find the complete prediction file in the dataset:  \n",
    "LightFM dataset link: https://www.kaggle.com/rickykonwar/hm-trained-models"
   ]
  },
  {
   "cell_type": "code",
   "execution_count": 38,
   "id": "65860138",
   "metadata": {
    "execution": {
     "iopub.execute_input": "2022-03-13T06:17:25.637409Z",
     "iopub.status.busy": "2022-03-13T06:17:25.636390Z",
     "iopub.status.idle": "2022-03-13T06:17:39.392035Z",
     "shell.execute_reply": "2022-03-13T06:17:39.391416Z",
     "shell.execute_reply.started": "2022-03-13T06:08:34.742368Z"
    },
    "papermill": {
     "duration": 13.825211,
     "end_time": "2022-03-13T06:17:39.392167",
     "exception": false,
     "start_time": "2022-03-13T06:17:25.566956",
     "status": "completed"
    },
    "tags": []
   },
   "outputs": [
    {
     "name": "stdout",
     "output_type": "stream",
     "text": [
      "start/end 1:0,256\n",
      "256\n",
      "start/end 2:256,512\n",
      "256\n",
      "start/end 3:512,768\n",
      "256\n",
      "start/end 4:768,1024\n",
      "256\n"
     ]
    },
    {
     "name": "stderr",
     "output_type": "stream",
     "text": [
      "100%|██████████| 256/256 [00:13<00:00, 18.98it/s]\n",
      "100%|██████████| 256/256 [00:13<00:00, 18.96it/s]\n",
      "100%|██████████| 256/256 [00:13<00:00, 18.86it/s]\n",
      "100%|██████████| 256/256 [00:13<00:00, 18.84it/s]\n"
     ]
    }
   ],
   "source": [
    "final_predictions = predict_submission(submission_data[:1024])"
   ]
  },
  {
   "cell_type": "code",
   "execution_count": 39,
   "id": "fc016e40",
   "metadata": {
    "execution": {
     "iopub.execute_input": "2022-03-13T06:17:39.846436Z",
     "iopub.status.busy": "2022-03-13T06:17:39.845735Z",
     "iopub.status.idle": "2022-03-13T06:17:39.852174Z",
     "shell.execute_reply": "2022-03-13T06:17:39.852745Z",
     "shell.execute_reply.started": "2022-03-13T06:08:50.471592Z"
    },
    "papermill": {
     "duration": 0.236777,
     "end_time": "2022-03-13T06:17:39.852905",
     "exception": false,
     "start_time": "2022-03-13T06:17:39.616128",
     "status": "completed"
    },
    "tags": []
   },
   "outputs": [
    {
     "data": {
      "text/plain": [
       "1024"
      ]
     },
     "execution_count": 39,
     "metadata": {},
     "output_type": "execute_result"
    }
   ],
   "source": [
    "len(final_predictions)"
   ]
  },
  {
   "cell_type": "markdown",
   "id": "7d9c0837",
   "metadata": {
    "papermill": {
     "duration": 0.224824,
     "end_time": "2022-03-13T06:17:40.304077",
     "exception": false,
     "start_time": "2022-03-13T06:17:40.079253",
     "status": "completed"
    },
    "tags": []
   },
   "source": [
    "## Writing Intermediate Predictions"
   ]
  },
  {
   "cell_type": "code",
   "execution_count": 40,
   "id": "1a82756b",
   "metadata": {
    "execution": {
     "iopub.execute_input": "2022-03-13T06:17:40.755892Z",
     "iopub.status.busy": "2022-03-13T06:17:40.754920Z",
     "iopub.status.idle": "2022-03-13T06:17:40.975044Z",
     "shell.execute_reply": "2022-03-13T06:17:40.974505Z",
     "shell.execute_reply.started": "2022-03-13T06:08:50.490692Z"
    },
    "papermill": {
     "duration": 0.446715,
     "end_time": "2022-03-13T06:17:40.975192",
     "exception": false,
     "start_time": "2022-03-13T06:17:40.528477",
     "status": "completed"
    },
    "tags": []
   },
   "outputs": [],
   "source": [
    "final_submission_data = submission_data.copy()[:1024]\n",
    "final_submission_data['prediction'] = final_predictions"
   ]
  },
  {
   "cell_type": "code",
   "execution_count": 41,
   "id": "30398383",
   "metadata": {
    "execution": {
     "iopub.execute_input": "2022-03-13T06:17:41.454858Z",
     "iopub.status.busy": "2022-03-13T06:17:41.454201Z",
     "iopub.status.idle": "2022-03-13T06:17:41.456800Z",
     "shell.execute_reply": "2022-03-13T06:17:41.457258Z",
     "shell.execute_reply.started": "2022-03-13T06:08:50.760063Z"
    },
    "papermill": {
     "duration": 0.237868,
     "end_time": "2022-03-13T06:17:41.457440",
     "exception": false,
     "start_time": "2022-03-13T06:17:41.219572",
     "status": "completed"
    },
    "tags": []
   },
   "outputs": [
    {
     "data": {
      "text/html": [
       "<div>\n",
       "<style scoped>\n",
       "    .dataframe tbody tr th:only-of-type {\n",
       "        vertical-align: middle;\n",
       "    }\n",
       "\n",
       "    .dataframe tbody tr th {\n",
       "        vertical-align: top;\n",
       "    }\n",
       "\n",
       "    .dataframe thead th {\n",
       "        text-align: right;\n",
       "    }\n",
       "</style>\n",
       "<table border=\"1\" class=\"dataframe\">\n",
       "  <thead>\n",
       "    <tr style=\"text-align: right;\">\n",
       "      <th></th>\n",
       "      <th>customer_id</th>\n",
       "      <th>prediction</th>\n",
       "    </tr>\n",
       "  </thead>\n",
       "  <tbody>\n",
       "    <tr>\n",
       "      <th>0</th>\n",
       "      <td>00000dbacae5abe5e23885899a1fa44253a17956c6d1c3...</td>\n",
       "      <td>706016001 610776002 706016002 372860001 372860...</td>\n",
       "    </tr>\n",
       "    <tr>\n",
       "      <th>1</th>\n",
       "      <td>0000423b00ade91418cceaf3b26c6af3dd342b51fd051e...</td>\n",
       "      <td>706016001 706016002 610776002 372860001 673677...</td>\n",
       "    </tr>\n",
       "    <tr>\n",
       "      <th>2</th>\n",
       "      <td>000058a12d5b43e67d225668fa1f8d618c13dc232df0ca...</td>\n",
       "      <td>706016001 610776002 372860001 706016002 673396...</td>\n",
       "    </tr>\n",
       "    <tr>\n",
       "      <th>3</th>\n",
       "      <td>00005ca1c9ed5f5146b52ac8639a40ca9d57aeff4d1bd2...</td>\n",
       "      <td>706016001 372860001 706016002 610776002 759871...</td>\n",
       "    </tr>\n",
       "    <tr>\n",
       "      <th>4</th>\n",
       "      <td>00006413d8573cd20ed7128e53b7b13819fe5cfc2d801f...</td>\n",
       "      <td>706016001 610776002 372860001 706016002 610776...</td>\n",
       "    </tr>\n",
       "  </tbody>\n",
       "</table>\n",
       "</div>"
      ],
      "text/plain": [
       "                                         customer_id  \\\n",
       "0  00000dbacae5abe5e23885899a1fa44253a17956c6d1c3...   \n",
       "1  0000423b00ade91418cceaf3b26c6af3dd342b51fd051e...   \n",
       "2  000058a12d5b43e67d225668fa1f8d618c13dc232df0ca...   \n",
       "3  00005ca1c9ed5f5146b52ac8639a40ca9d57aeff4d1bd2...   \n",
       "4  00006413d8573cd20ed7128e53b7b13819fe5cfc2d801f...   \n",
       "\n",
       "                                          prediction  \n",
       "0  706016001 610776002 706016002 372860001 372860...  \n",
       "1  706016001 706016002 610776002 372860001 673677...  \n",
       "2  706016001 610776002 372860001 706016002 673396...  \n",
       "3  706016001 372860001 706016002 610776002 759871...  \n",
       "4  706016001 610776002 372860001 706016002 610776...  "
      ]
     },
     "execution_count": 41,
     "metadata": {},
     "output_type": "execute_result"
    }
   ],
   "source": [
    "final_submission_data.head()"
   ]
  },
  {
   "cell_type": "code",
   "execution_count": 42,
   "id": "a269e959",
   "metadata": {
    "execution": {
     "iopub.execute_input": "2022-03-13T06:17:41.912311Z",
     "iopub.status.busy": "2022-03-13T06:17:41.911343Z",
     "iopub.status.idle": "2022-03-13T06:17:41.929134Z",
     "shell.execute_reply": "2022-03-13T06:17:41.929648Z",
     "shell.execute_reply.started": "2022-03-13T06:08:50.775346Z"
    },
    "papermill": {
     "duration": 0.24843,
     "end_time": "2022-03-13T06:17:41.929818",
     "exception": false,
     "start_time": "2022-03-13T06:17:41.681388",
     "status": "completed"
    },
    "tags": []
   },
   "outputs": [],
   "source": [
    "final_submission_data.to_csv(\"intermediate_submission.csv\", index=False)"
   ]
  },
  {
   "cell_type": "code",
   "execution_count": 43,
   "id": "e5e8f29a",
   "metadata": {
    "execution": {
     "iopub.execute_input": "2022-03-13T06:17:42.381811Z",
     "iopub.status.busy": "2022-03-13T06:17:42.381000Z",
     "iopub.status.idle": "2022-03-13T06:17:42.384183Z",
     "shell.execute_reply": "2022-03-13T06:17:42.384705Z",
     "shell.execute_reply.started": "2022-03-13T06:08:50.806298Z"
    },
    "papermill": {
     "duration": 0.232233,
     "end_time": "2022-03-13T06:17:42.384887",
     "exception": false,
     "start_time": "2022-03-13T06:17:42.152654",
     "status": "completed"
    },
    "tags": []
   },
   "outputs": [
    {
     "data": {
      "text/html": [
       "<a href='intermediate_submission.csv' target='_blank'>intermediate_submission.csv</a><br>"
      ],
      "text/plain": [
       "/kaggle/working/intermediate_submission.csv"
      ]
     },
     "execution_count": 43,
     "metadata": {},
     "output_type": "execute_result"
    }
   ],
   "source": [
    "from IPython.display import FileLink\n",
    "FileLink(r'intermediate_submission.csv')"
   ]
  },
  {
   "cell_type": "markdown",
   "id": "882bacf3",
   "metadata": {
    "papermill": {
     "duration": 0.22582,
     "end_time": "2022-03-13T06:17:42.835658",
     "exception": false,
     "start_time": "2022-03-13T06:17:42.609838",
     "status": "completed"
    },
    "tags": []
   },
   "source": [
    "## Writing Complete Predictions"
   ]
  },
  {
   "cell_type": "code",
   "execution_count": 44,
   "id": "cd1c2d3b",
   "metadata": {
    "execution": {
     "iopub.execute_input": "2022-03-13T06:17:43.310799Z",
     "iopub.status.busy": "2022-03-13T06:17:43.309770Z",
     "iopub.status.idle": "2022-03-13T06:18:00.945711Z",
     "shell.execute_reply": "2022-03-13T06:18:00.946207Z",
     "shell.execute_reply.started": "2022-03-13T06:08:50.816480Z"
    },
    "papermill": {
     "duration": 17.878642,
     "end_time": "2022-03-13T06:18:00.946419",
     "exception": false,
     "start_time": "2022-03-13T06:17:43.067777",
     "status": "completed"
    },
    "tags": []
   },
   "outputs": [],
   "source": [
    "actual_submission_data = pd.read_csv(r'../input/hm-trained-models/lightfm_nofeatures/submission.csv')\n",
    "actual_submission_data.to_csv(\"submission.csv\", index=False)"
   ]
  },
  {
   "cell_type": "code",
   "execution_count": 45,
   "id": "0b63ce13",
   "metadata": {
    "execution": {
     "iopub.execute_input": "2022-03-13T06:18:01.403120Z",
     "iopub.status.busy": "2022-03-13T06:18:01.400795Z",
     "iopub.status.idle": "2022-03-13T06:18:01.405304Z",
     "shell.execute_reply": "2022-03-13T06:18:01.406067Z",
     "shell.execute_reply.started": "2022-03-13T06:09:08.892470Z"
    },
    "papermill": {
     "duration": 0.232857,
     "end_time": "2022-03-13T06:18:01.406229",
     "exception": false,
     "start_time": "2022-03-13T06:18:01.173372",
     "status": "completed"
    },
    "tags": []
   },
   "outputs": [
    {
     "data": {
      "text/html": [
       "<a href='submission.csv' target='_blank'>submission.csv</a><br>"
      ],
      "text/plain": [
       "/kaggle/working/submission.csv"
      ]
     },
     "execution_count": 45,
     "metadata": {},
     "output_type": "execute_result"
    }
   ],
   "source": [
    "from IPython.display import FileLink\n",
    "FileLink(r'submission.csv')"
   ]
  }
 ],
 "metadata": {
  "kernelspec": {
   "display_name": "Python 3",
   "language": "python",
   "name": "python3"
  },
  "language_info": {
   "codemirror_mode": {
    "name": "ipython",
    "version": 3
   },
   "file_extension": ".py",
   "mimetype": "text/x-python",
   "name": "python",
   "nbconvert_exporter": "python",
   "pygments_lexer": "ipython3",
   "version": "3.7.12"
  },
  "papermill": {
   "default_parameters": {},
   "duration": 285.73622,
   "end_time": "2022-03-13T06:18:04.341763",
   "environment_variables": {},
   "exception": null,
   "input_path": "__notebook__.ipynb",
   "output_path": "__notebook__.ipynb",
   "parameters": {},
   "start_time": "2022-03-13T06:13:18.605543",
   "version": "2.3.3"
  }
 },
 "nbformat": 4,
 "nbformat_minor": 5
}
